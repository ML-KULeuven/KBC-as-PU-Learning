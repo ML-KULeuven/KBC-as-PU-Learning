{
 "cells": [
  {
   "cell_type": "code",
   "execution_count": 1,
   "metadata": {
    "collapsed": true
   },
   "outputs": [],
   "source": [
    "import os\n",
    "from pprint import pprint\n",
    "from typing import List, Dict\n",
    "\n",
    "import pandas as pd\n",
    "\n",
    "from kbc_pul.amie.amie_output_rule_extraction import get_amie_rules_from_rule_tsv_file\n",
    "from artificial_bias_experiments.amie_rule_learning import get_amie_rule_tsv_filename\n",
    "from artificial_bias_experiments.images_paper_joint.pretty_rule_string import \\\n",
    "    get_paper_like_rule_string_from_prolog_str\n",
    "\n",
    "from kbc_pul.data_structures.rule_wrapper import RuleWrapper\n",
    "\n",
    "from kbc_pul.data_structures.rule_wrapper import is_pylo_rule_recursive\n",
    "from kbc_pul.data_structures.rule_wrapper import create_amie_dataframe_from_rule_wrappers\n",
    "from kbc_pul.project_info import project_dir as kbc_e_metrics_project_dir\n",
    "\n",
    "from kbc_pul.project_info import data_dir"
   ]
  },
  {
   "cell_type": "markdown",
   "source": [
    "# List of rules in LaTex table\n",
    "\n",
    "## Load rules"
   ],
   "metadata": {
    "collapsed": false,
    "pycharm": {
     "name": "#%% md\n"
    }
   }
  },
  {
   "cell_type": "code",
   "execution_count": 2,
   "outputs": [
    {
     "name": "stdout",
     "output_type": "stream",
     "text": [
      "? file exists: /home/joschout/Documents/Repos/KUL-PUL/data/artificial_bias_experiments/yago3_10/amie/yago3_10_amie_rules_min_std_conf0.1.tsv\n",
      "-> True\n"
     ]
    }
   ],
   "source": [
    "from kbc_pul.experiments_utils.file_utils import print_file_exists\n",
    "\n",
    "dataset_name=\"yago3_10\"\n",
    "amie_min_std_confidence: float = 0.1\n",
    "\n",
    "filename_ground_truth_dataset: str = os.path.join(\n",
    "    data_dir, dataset_name, 'cleaned_csv', 'train.csv'\n",
    ")\n",
    "separator_ground_truth_dataset = \"\\t\"\n",
    "\n",
    "amie_rule_tsv_filename = get_amie_rule_tsv_filename(\n",
    "    filename_ground_truth_dataset=filename_ground_truth_dataset,\n",
    "    dataset_name=dataset_name,\n",
    "    min_std_confidence=amie_min_std_confidence\n",
    ")\n",
    "print_file_exists(amie_rule_tsv_filename)"
   ],
   "metadata": {
    "collapsed": false,
    "pycharm": {
     "name": "#%%\n"
    }
   }
  },
  {
   "cell_type": "code",
   "execution_count": 3,
   "outputs": [],
   "source": [
    "amie_rule_wrappers: List[RuleWrapper] = get_amie_rules_from_rule_tsv_file(\n",
    "    amie_rule_tsv_filename\n",
    ")"
   ],
   "metadata": {
    "collapsed": false,
    "pycharm": {
     "name": "#%%\n"
    }
   }
  },
  {
   "cell_type": "markdown",
   "source": [
    "## Only consider the non-recursive rules"
   ],
   "metadata": {
    "collapsed": false,
    "pycharm": {
     "name": "#%% md\n"
    }
   }
  },
  {
   "cell_type": "code",
   "execution_count": 4,
   "outputs": [
    {
     "name": "stdout",
     "output_type": "stream",
     "text": [
      "49  /  149\n"
     ]
    }
   ],
   "source": [
    "\n",
    "non_recursive_rules: List[RuleWrapper] = [\n",
    "    rule_wrapper\n",
    "    for rule_wrapper in amie_rule_wrappers\n",
    "    if not is_pylo_rule_recursive(rule_wrapper.rule)\n",
    "]\n",
    "print(len(non_recursive_rules), \" / \", len(amie_rule_wrappers))"
   ],
   "metadata": {
    "collapsed": false,
    "pycharm": {
     "name": "#%%\n"
    }
   }
  },
  {
   "cell_type": "code",
   "execution_count": 5,
   "outputs": [
    {
     "data": {
      "text/plain": "                                     Rule  Head Coverage  Std Confidence  \\\n0      hasneighbor(A,B) :- dealswith(A,B)       0.295495        0.125960   \n1      hasneighbor(A,B) :- dealswith(B,A)       0.297297        0.126728   \n2            imports(A,B) :- exports(A,B)       0.152672        0.158730   \n3  ispoliticianof(A,B) :- isleaderof(A,B)       0.064755        0.146290   \n4        livesin(A,B) :- iscitizenof(A,B)       0.139262        0.120185   \n\n   PCA Confidence  Positive Examples  Body size  PCA Body size  \\\n0        0.164493                164       1302            997   \n1        0.174788                165       1302            944   \n2        0.170940                 60        378            351   \n3        0.457516                140        957            306   \n4        0.471056                415       3453            881   \n\n  Functional variable  \n0                  ?b  \n1                  ?b  \n2                  ?a  \n3                  ?a  \n4                  ?a  ",
      "text/html": "<div>\n<style scoped>\n    .dataframe tbody tr th:only-of-type {\n        vertical-align: middle;\n    }\n\n    .dataframe tbody tr th {\n        vertical-align: top;\n    }\n\n    .dataframe thead th {\n        text-align: right;\n    }\n</style>\n<table border=\"1\" class=\"dataframe\">\n  <thead>\n    <tr style=\"text-align: right;\">\n      <th></th>\n      <th>Rule</th>\n      <th>Head Coverage</th>\n      <th>Std Confidence</th>\n      <th>PCA Confidence</th>\n      <th>Positive Examples</th>\n      <th>Body size</th>\n      <th>PCA Body size</th>\n      <th>Functional variable</th>\n    </tr>\n  </thead>\n  <tbody>\n    <tr>\n      <th>0</th>\n      <td>hasneighbor(A,B) :- dealswith(A,B)</td>\n      <td>0.295495</td>\n      <td>0.125960</td>\n      <td>0.164493</td>\n      <td>164</td>\n      <td>1302</td>\n      <td>997</td>\n      <td>?b</td>\n    </tr>\n    <tr>\n      <th>1</th>\n      <td>hasneighbor(A,B) :- dealswith(B,A)</td>\n      <td>0.297297</td>\n      <td>0.126728</td>\n      <td>0.174788</td>\n      <td>165</td>\n      <td>1302</td>\n      <td>944</td>\n      <td>?b</td>\n    </tr>\n    <tr>\n      <th>2</th>\n      <td>imports(A,B) :- exports(A,B)</td>\n      <td>0.152672</td>\n      <td>0.158730</td>\n      <td>0.170940</td>\n      <td>60</td>\n      <td>378</td>\n      <td>351</td>\n      <td>?a</td>\n    </tr>\n    <tr>\n      <th>3</th>\n      <td>ispoliticianof(A,B) :- isleaderof(A,B)</td>\n      <td>0.064755</td>\n      <td>0.146290</td>\n      <td>0.457516</td>\n      <td>140</td>\n      <td>957</td>\n      <td>306</td>\n      <td>?a</td>\n    </tr>\n    <tr>\n      <th>4</th>\n      <td>livesin(A,B) :- iscitizenof(A,B)</td>\n      <td>0.139262</td>\n      <td>0.120185</td>\n      <td>0.471056</td>\n      <td>415</td>\n      <td>3453</td>\n      <td>881</td>\n      <td>?a</td>\n    </tr>\n  </tbody>\n</table>\n</div>"
     },
     "execution_count": 5,
     "metadata": {},
     "output_type": "execute_result"
    }
   ],
   "source": [
    "df_amie_metrics_non_recursive_rules: pd.DataFrame = create_amie_dataframe_from_rule_wrappers(non_recursive_rules)\n",
    "df_amie_metrics_non_recursive_rules.head()"
   ],
   "metadata": {
    "collapsed": false,
    "pycharm": {
     "name": "#%%\n"
    }
   }
  },
  {
   "cell_type": "code",
   "execution_count": 6,
   "outputs": [
    {
     "data": {
      "text/plain": "                                                 Rule  Head Coverage  \\\n14                      actedin(A,B) :- directed(A,B)       0.017355   \n46         created(A,B) :- actedin(A,B),directed(A,B)       0.030578   \n13                      created(A,B) :- directed(A,B)       0.173374   \n6                  dealswith(A,B) :- hasneighbor(A,B)       0.125960   \n35  dealswith(A,B) :- hasneighbor(A,H),hasneighbor...       0.177419   \n\n    Std Confidence  PCA Confidence  Positive Examples  Body size  \\\n14        0.101806        0.104007                558       5481   \n46        0.379928        0.566845                212        558   \n13        0.219303        0.326364               1202       5481   \n6         0.295495        0.337449                164        555   \n35        0.128906        0.147887                231       1792   \n\n    PCA Body size Functional variable  \n14           5365                  ?b  \n46            374                  ?b  \n13           3683                  ?b  \n6             486                  ?a  \n35           1562                  ?a  ",
      "text/html": "<div>\n<style scoped>\n    .dataframe tbody tr th:only-of-type {\n        vertical-align: middle;\n    }\n\n    .dataframe tbody tr th {\n        vertical-align: top;\n    }\n\n    .dataframe thead th {\n        text-align: right;\n    }\n</style>\n<table border=\"1\" class=\"dataframe\">\n  <thead>\n    <tr style=\"text-align: right;\">\n      <th></th>\n      <th>Rule</th>\n      <th>Head Coverage</th>\n      <th>Std Confidence</th>\n      <th>PCA Confidence</th>\n      <th>Positive Examples</th>\n      <th>Body size</th>\n      <th>PCA Body size</th>\n      <th>Functional variable</th>\n    </tr>\n  </thead>\n  <tbody>\n    <tr>\n      <th>14</th>\n      <td>actedin(A,B) :- directed(A,B)</td>\n      <td>0.017355</td>\n      <td>0.101806</td>\n      <td>0.104007</td>\n      <td>558</td>\n      <td>5481</td>\n      <td>5365</td>\n      <td>?b</td>\n    </tr>\n    <tr>\n      <th>46</th>\n      <td>created(A,B) :- actedin(A,B),directed(A,B)</td>\n      <td>0.030578</td>\n      <td>0.379928</td>\n      <td>0.566845</td>\n      <td>212</td>\n      <td>558</td>\n      <td>374</td>\n      <td>?b</td>\n    </tr>\n    <tr>\n      <th>13</th>\n      <td>created(A,B) :- directed(A,B)</td>\n      <td>0.173374</td>\n      <td>0.219303</td>\n      <td>0.326364</td>\n      <td>1202</td>\n      <td>5481</td>\n      <td>3683</td>\n      <td>?b</td>\n    </tr>\n    <tr>\n      <th>6</th>\n      <td>dealswith(A,B) :- hasneighbor(A,B)</td>\n      <td>0.125960</td>\n      <td>0.295495</td>\n      <td>0.337449</td>\n      <td>164</td>\n      <td>555</td>\n      <td>486</td>\n      <td>?a</td>\n    </tr>\n    <tr>\n      <th>35</th>\n      <td>dealswith(A,B) :- hasneighbor(A,H),hasneighbor...</td>\n      <td>0.177419</td>\n      <td>0.128906</td>\n      <td>0.147887</td>\n      <td>231</td>\n      <td>1792</td>\n      <td>1562</td>\n      <td>?a</td>\n    </tr>\n  </tbody>\n</table>\n</div>"
     },
     "execution_count": 6,
     "metadata": {},
     "output_type": "execute_result"
    }
   ],
   "source": [
    "df_amie_metrics_non_recursive_rules = df_amie_metrics_non_recursive_rules.sort_values(by=[\"Rule\"])\n",
    "df_amie_metrics_non_recursive_rules.head()"
   ],
   "metadata": {
    "collapsed": false,
    "pycharm": {
     "name": "#%%\n"
    }
   }
  },
  {
   "cell_type": "code",
   "execution_count": 7,
   "outputs": [],
   "source": [
    "df_amie_metrics_non_recursive_rules[\"Rule\"] = df_amie_metrics_non_recursive_rules[\"Rule\"].apply(\n",
    "    lambda value: get_paper_like_rule_string_from_prolog_str(value)\n",
    ")"
   ],
   "metadata": {
    "collapsed": false,
    "pycharm": {
     "name": "#%%\n"
    }
   }
  },
  {
   "cell_type": "code",
   "execution_count": 8,
   "outputs": [],
   "source": [
    "def replace_functional_variable(old_str: str) -> str:\n",
    "    if old_str == \"?a\":\n",
    "        return \"$s$\"\n",
    "    elif old_str == \"?b\":\n",
    "        return \"$o$\"\n",
    "    else:\n",
    "        raise Exception(f\"unexpected value {old_str}\")\n",
    "df_amie_metrics_non_recursive_rules[\"Functional variable\"] = df_amie_metrics_non_recursive_rules[\"Functional variable\"].apply(\n",
    "    lambda value: replace_functional_variable(value)\n",
    ")"
   ],
   "metadata": {
    "collapsed": false,
    "pycharm": {
     "name": "#%%\n"
    }
   }
  },
  {
   "cell_type": "markdown",
   "source": [
    " # Rename columns"
   ],
   "metadata": {
    "collapsed": false,
    "pycharm": {
     "name": "#%% md\n"
    }
   }
  },
  {
   "cell_type": "code",
   "execution_count": 9,
   "outputs": [
    {
     "name": "stdout",
     "output_type": "stream",
     "text": [
      "{'Body size': '$\\\\left| \\\\mathbf{R}\\\\right|$',\n",
      " 'Functional variable': 'PCA domain',\n",
      " 'PCA Body size': '$\\\\left| \\\\mathbf{R_s^l}\\\\right|$',\n",
      " 'PCA Confidence': '$\\\\textit{PCA}(R)$',\n",
      " 'Positive Examples': '$\\\\left| \\\\mathbf{R}^{l}\\\\right|$',\n",
      " 'Rule': '$R$',\n",
      " 'Std Confidence': '$\\\\textit{CWA}(R)$'}\n"
     ]
    }
   ],
   "source": [
    "column_map: Dict[str, str] = {\n",
    "    \"Rule\": \"$R$\",\n",
    "    \"Std Confidence\": \"$\\\\textit{CWA}(R)$\",\n",
    "    \"PCA Confidence\": \"$\\\\textit{PCA}(R)$\",\n",
    "    \"Positive Examples\": \"$\\left| \\mathbf{R}^{l}\\\\right|$\",\n",
    "    \"Body size\": \"$\\left| \\mathbf{R}\\\\right|$\",\n",
    "    \"PCA Body size\": \"$\\left| \\mathbf{R_s^l}\\\\right|$\",\n",
    "    \"Functional variable\": \"PCA domain\"\n",
    "}\n",
    "pprint(column_map)"
   ],
   "metadata": {
    "collapsed": false,
    "pycharm": {
     "name": "#%%\n"
    }
   }
  },
  {
   "cell_type": "code",
   "execution_count": 10,
   "outputs": [
    {
     "data": {
      "text/plain": "                                                  $R$  Head Coverage  \\\n14  $\\langle s, directed, o \\rangle \\Rightarrow \\l...       0.017355   \n46  $\\langle s, actedin, o \\rangle \\wedge \\langle ...       0.030578   \n13  $\\langle s, directed, o \\rangle \\Rightarrow \\l...       0.173374   \n6   $\\langle s, hasneighbor, o \\rangle \\Rightarrow...       0.125960   \n35  $\\langle s, hasneighbor, h \\rangle \\wedge \\lan...       0.177419   \n\n    $\\textit{CWA}(R)$  $\\textit{PCA}(R)$  $\\left| \\mathbf{R}^{l}\\right|$  \\\n14           0.101806           0.104007                             558   \n46           0.379928           0.566845                             212   \n13           0.219303           0.326364                            1202   \n6            0.295495           0.337449                             164   \n35           0.128906           0.147887                             231   \n\n    $\\left| \\mathbf{R}\\right|$  $\\left| \\mathbf{R_s^l}\\right|$ PCA domain  \n14                        5481                            5365        $o$  \n46                         558                             374        $o$  \n13                        5481                            3683        $o$  \n6                          555                             486        $s$  \n35                        1792                            1562        $s$  ",
      "text/html": "<div>\n<style scoped>\n    .dataframe tbody tr th:only-of-type {\n        vertical-align: middle;\n    }\n\n    .dataframe tbody tr th {\n        vertical-align: top;\n    }\n\n    .dataframe thead th {\n        text-align: right;\n    }\n</style>\n<table border=\"1\" class=\"dataframe\">\n  <thead>\n    <tr style=\"text-align: right;\">\n      <th></th>\n      <th>$R$</th>\n      <th>Head Coverage</th>\n      <th>$\\textit{CWA}(R)$</th>\n      <th>$\\textit{PCA}(R)$</th>\n      <th>$\\left| \\mathbf{R}^{l}\\right|$</th>\n      <th>$\\left| \\mathbf{R}\\right|$</th>\n      <th>$\\left| \\mathbf{R_s^l}\\right|$</th>\n      <th>PCA domain</th>\n    </tr>\n  </thead>\n  <tbody>\n    <tr>\n      <th>14</th>\n      <td>$\\langle s, directed, o \\rangle \\Rightarrow \\l...</td>\n      <td>0.017355</td>\n      <td>0.101806</td>\n      <td>0.104007</td>\n      <td>558</td>\n      <td>5481</td>\n      <td>5365</td>\n      <td>$o$</td>\n    </tr>\n    <tr>\n      <th>46</th>\n      <td>$\\langle s, actedin, o \\rangle \\wedge \\langle ...</td>\n      <td>0.030578</td>\n      <td>0.379928</td>\n      <td>0.566845</td>\n      <td>212</td>\n      <td>558</td>\n      <td>374</td>\n      <td>$o$</td>\n    </tr>\n    <tr>\n      <th>13</th>\n      <td>$\\langle s, directed, o \\rangle \\Rightarrow \\l...</td>\n      <td>0.173374</td>\n      <td>0.219303</td>\n      <td>0.326364</td>\n      <td>1202</td>\n      <td>5481</td>\n      <td>3683</td>\n      <td>$o$</td>\n    </tr>\n    <tr>\n      <th>6</th>\n      <td>$\\langle s, hasneighbor, o \\rangle \\Rightarrow...</td>\n      <td>0.125960</td>\n      <td>0.295495</td>\n      <td>0.337449</td>\n      <td>164</td>\n      <td>555</td>\n      <td>486</td>\n      <td>$s$</td>\n    </tr>\n    <tr>\n      <th>35</th>\n      <td>$\\langle s, hasneighbor, h \\rangle \\wedge \\lan...</td>\n      <td>0.177419</td>\n      <td>0.128906</td>\n      <td>0.147887</td>\n      <td>231</td>\n      <td>1792</td>\n      <td>1562</td>\n      <td>$s$</td>\n    </tr>\n  </tbody>\n</table>\n</div>"
     },
     "execution_count": 10,
     "metadata": {},
     "output_type": "execute_result"
    }
   ],
   "source": [
    "df_pretty: pd.DataFrame = df_amie_metrics_non_recursive_rules.rename(\n",
    "    columns=column_map\n",
    ")\n",
    "df_pretty.head()"
   ],
   "metadata": {
    "collapsed": false,
    "pycharm": {
     "name": "#%%\n"
    }
   }
  },
  {
   "cell_type": "code",
   "execution_count": 11,
   "outputs": [
    {
     "data": {
      "text/plain": "49"
     },
     "execution_count": 11,
     "metadata": {},
     "output_type": "execute_result"
    }
   ],
   "source": [
    "len(df_pretty)"
   ],
   "metadata": {
    "collapsed": false,
    "pycharm": {
     "name": "#%%\n"
    }
   }
  },
  {
   "cell_type": "code",
   "execution_count": 12,
   "outputs": [],
   "source": [
    "# df_pretty_part1 = df_pretty.iloc[:50]\n",
    "# df_pretty_part2 = df_pretty.iloc[50:]\n"
   ],
   "metadata": {
    "collapsed": false,
    "pycharm": {
     "name": "#%%\n"
    }
   }
  },
  {
   "cell_type": "code",
   "execution_count": 13,
   "outputs": [],
   "source": [
    "# To file"
   ],
   "metadata": {
    "collapsed": false,
    "pycharm": {
     "name": "#%%\n"
    }
   }
  },
  {
   "cell_type": "code",
   "execution_count": 14,
   "outputs": [],
   "source": [
    "dir_latex_table: str = os.path.join(\n",
    "    kbc_e_metrics_project_dir,\n",
    "    \"paper_latex_tables\",\n",
    "    \"amie-rules\"\n",
    ")\n",
    "if not os.path.exists(dir_latex_table):\n",
    "    os.makedirs(dir_latex_table)\n",
    "\n",
    "filename_tsv_table: str = os.path.join(\n",
    "    dir_latex_table,\n",
    "    \"ammie-rules-non-recursive.tsv\"\n",
    ")\n",
    "df_amie_metrics_non_recursive_rules.to_csv(\n",
    "    filename_tsv_table,\n",
    "    sep=\"\\t\",\n",
    "    index=False\n",
    ")\n",
    "\n",
    "\n",
    "filename_latex_table: str = os.path.join(\n",
    "    dir_latex_table,\n",
    "    \"amie-rules-non-recursive.tex\"\n",
    ")\n",
    "# filename_latex_table_part2: str = os.path.join(\n",
    "#     dir_latex_table,\n",
    "#     \"amie-rules-non-recursive-part2.tex\"\n",
    "# )\n",
    "\n"
   ],
   "metadata": {
    "collapsed": false,
    "pycharm": {
     "name": "#%%\n"
    }
   }
  },
  {
   "cell_type": "code",
   "execution_count": 15,
   "outputs": [
    {
     "name": "stdout",
     "output_type": "stream",
     "text": [
      "/home/joschout/Documents/Repos/KUL-PUL/paper_latex_tables/amie-rules/amie-rules-non-recursive.tex\n"
     ]
    }
   ],
   "source": [
    "# for df_to_output, df_filename in [\n",
    "#     (df_pretty_part1, filename_latex_table_part1),\n",
    "#     (df_pretty_part2, filename_latex_table_part2)\n",
    "# ]:\n",
    "with open(filename_latex_table, \"w\") as latex_ofile:\n",
    "    with pd.option_context(\"max_colwidth\", 1000):\n",
    "        latex_ofile.write(\n",
    "            df_pretty.to_latex(\n",
    "                index=False,\n",
    "                float_format=\"{:0.3f}\".format,\n",
    "                escape=False,\n",
    "                multicolumn=True\n",
    "            #     caption=\"$[widehat{conf}-conf]^2$ for SCAR. \"\n",
    "            #             \"std=standard confidence, \"\n",
    "            #             \"PCA (S) = PCA confidence with $s$ as domain, \"\n",
    "            #             \"PCA (O) = PCA confidence with $o$  as domain, \"\n",
    "            #             \"IPW = PCA confidence with $\\hat{e}=e$, \"\n",
    "            #             \"IPW +/- $\" + f\"{label_frequency_est_diff:0.1}\" + \"$ = IPW confidence with $\\hat{e}=e+/-\" +  f\"{label_frequency_est_diff:0.1}\" + \"$.\"\n",
    "            )\n",
    "        )\n",
    "\n",
    "with open(filename_tsv_table, \"w\") as tsv_ofile:\n",
    "    tsv_ofile.write(df_amie_metrics_non_recursive_rules.to_csv(\n",
    "        index=False,\n",
    "        sep=\"\\t\"\n",
    "    ))\n",
    "\n",
    "print(filename_latex_table)\n",
    "\n"
   ],
   "metadata": {
    "collapsed": false,
    "pycharm": {
     "name": "#%%\n"
    }
   }
  }
 ],
 "metadata": {
  "kernelspec": {
   "display_name": "Python 3",
   "language": "python",
   "name": "python3"
  },
  "language_info": {
   "codemirror_mode": {
    "name": "ipython",
    "version": 2
   },
   "file_extension": ".py",
   "mimetype": "text/x-python",
   "name": "python",
   "nbconvert_exporter": "python",
   "pygments_lexer": "ipython2",
   "version": "2.7.6"
  }
 },
 "nbformat": 4,
 "nbformat_minor": 0
}