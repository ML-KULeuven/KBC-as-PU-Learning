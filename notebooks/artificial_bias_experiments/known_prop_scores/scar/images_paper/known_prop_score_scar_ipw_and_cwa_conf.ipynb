{
 "cells": [
  {
   "cell_type": "code",
   "execution_count": 1,
   "outputs": [],
   "source": [
    "import os\n",
    "from typing import List, Set, Dict\n",
    "\n",
    "import matplotlib.pyplot as plt\n",
    "import pandas as pd\n",
    "import seaborn as sns\n",
    "\n",
    "from artificial_bias_experiments.evaluation.confidence_comparison.df_utils import ColumnNamesInfo, \\\n",
    "    get_df_diffs_between_true_conf_and_confidence_estimators_melted, \\\n",
    "    get_df_rulewise_fraction_of_conf_estimator_to_true_conf\n",
    "from artificial_bias_experiments.image_generation.image_generation_utils import \\\n",
    "    get_confidence_difference_label_string\n",
    "\n",
    "from artificial_bias_experiments.known_prop_scores.scar.image_generation.known_prop_scores_scar_generate_images import (\n",
    "    _get_rule_wrappers_as_dataframe\n",
    ")\n",
    "\n",
    "from artificial_bias_experiments.known_prop_scores.scar.known_prop_scores_scar_file_naming import \\\n",
    "    KnownPropScoresSCARConstantLabelFreqFileNamer\n",
    "from kbc_pul.confidence_naming import ConfidenceEnum\n",
    "from kbc_pul.experiments_utils.color_utils import matplotlib_color_name_to_hex\n",
    "from kbc_pul.experiments_utils.file_utils import print_file_exists\n",
    "\n",
    "sns.set(style=\"whitegrid\")\n",
    "\n",
    "\n",
    "%load_ext autoreload\n",
    "%autoreload 2"
   ],
   "metadata": {
    "collapsed": false,
    "pycharm": {
     "name": "#%%\n"
    }
   }
  },
  {
   "cell_type": "markdown",
   "source": [
    "# Paper Image Q1: Known prop score, SCAR - IPW & CWA conf\n",
    "\n",
    "## Import the rule wrappers"
   ],
   "metadata": {
    "collapsed": false
   }
  },
  {
   "cell_type": "code",
   "execution_count": 2,
   "outputs": [],
   "source": [
    "dataset_name: str = \"yago3_10\"\n",
    "target_relation: str = \"created\"\n",
    "# target_relation: str = \"participatedin\"\n",
    "\n",
    "label_frequency_list: List[float] = [0.1, 0.2, 0.3, 0.4, 0.5, 0.6, 0.7, 0.8, 0.9, 1]\n",
    "random_seed: int = 3\n",
    "\n",
    "is_pca_version: bool = False"
   ],
   "metadata": {
    "collapsed": false,
    "pycharm": {
     "name": "#%%\n"
    }
   }
  },
  {
   "cell_type": "code",
   "execution_count": 3,
   "outputs": [],
   "source": [
    "pca_indicator: str = \"not_pca\"\n",
    "true_conf: ConfidenceEnum = ConfidenceEnum.TRUE_CONF\n",
    "conf_estimators_to_ignore: Set[ConfidenceEnum] = {ConfidenceEnum.ICW_CONF}"
   ],
   "metadata": {
    "collapsed": false,
    "pycharm": {
     "name": "#%%\n"
    }
   }
  },
  {
   "cell_type": "markdown",
   "source": [
    "## Convert rule wrappers to dataframe"
   ],
   "metadata": {
    "collapsed": false
   }
  },
  {
   "cell_type": "code",
   "execution_count": 4,
   "outputs": [
    {
     "name": "stdout",
     "output_type": "stream",
     "text": [
      "? file exists: /home/joschout/Documents/Repos/KUL-PUL/images/artificial_bias_experiments/known_prop_scores/scar/not_pca/yago3_10\n",
      "-> True\n"
     ]
    }
   ],
   "source": [
    "root_dir_experiment_settings: str = KnownPropScoresSCARConstantLabelFreqFileNamer.get_dir_experiment_high_level(\n",
    "    dataset_name=dataset_name,\n",
    "    target_relation=target_relation,\n",
    "    is_pca_version=is_pca_version\n",
    ")\n",
    "\n",
    "image_dir: str = KnownPropScoresSCARConstantLabelFreqFileNamer.get_dir_images(\n",
    "    use_pca=is_pca_version,\n",
    "    dataset_name=dataset_name,\n",
    ")\n",
    "if not os.path.exists(image_dir):\n",
    "    os.makedirs(image_dir)\n",
    "print_file_exists(image_dir)"
   ],
   "metadata": {
    "collapsed": false,
    "pycharm": {
     "name": "#%%\n"
    }
   }
  },
  {
   "cell_type": "code",
   "execution_count": 5,
   "outputs": [],
   "source": [
    "df_rule_wrappers: pd.DataFrame = _get_rule_wrappers_as_dataframe(\n",
    "    root_dir_experiment_settings=root_dir_experiment_settings,\n",
    "    target_relation=target_relation\n",
    ")"
   ],
   "metadata": {
    "collapsed": false,
    "pycharm": {
     "name": "#%%\n"
    }
   }
  },
  {
   "cell_type": "code",
   "execution_count": 6,
   "outputs": [
    {
     "data": {
      "text/plain": "  target_relation  label_frequency  random_trial_index  \\\n0         created              0.1                   7   \n1         created              0.1                   6   \n2         created              0.1                   1   \n3         created              0.1                   9   \n4         created              0.1                   8   \n\n                                         Rule  Nb supported predictions  \\\n0               created(A,B) :- directed(A,B)                       120   \n1               created(A,B) :- directed(A,B)                        97   \n2               created(A,B) :- directed(A,B)                       117   \n3               created(A,B) :- directed(A,B)                       109   \n4  created(A,B) :- actedin(A,B),directed(A,B)                        22   \n\n   Body size    $conf$       IPW       CWA       ICW  \\\n0       5481  0.219303  0.218938  0.021894  0.218938   \n1       5481  0.219303  0.176975  0.017698  0.176975   \n2       5481  0.219303  0.213465  0.021346  0.213465   \n3       5481  0.219303  0.198869  0.019887  0.198869   \n4        558  0.379928  0.394265  0.039427  0.394265   \n\n   $\\frac{\\left| \\mathbf{R}\\right|}{\\left| \\mathbf{R_s}\\right|} conf$ $p$  \\\n0                                           0.427910                        \n1                                           0.427910                        \n2                                           0.427910                        \n3                                           0.427910                        \n4                                           0.566845                        \n\n    PCA $p$  IPW-PCA $p$  \\\n0  0.162822     0.162822   \n1  0.146305     0.146305   \n2  0.165488     0.165488   \n3  0.165653     0.165653   \n4  0.224490     0.224490   \n\n   $\\frac{\\left| \\mathbf{R}\\right|}{\\left| \\mathbf{R_s}\\right|} conf$ $p^{-1}$  \\\n0                                           0.326364                             \n1                                           0.326364                             \n2                                           0.326364                             \n3                                           0.326364                             \n4                                           0.566845                             \n\n   PCA ${p^{-1}}$  IPW-PCA ${p^{-1}}$  \n0        0.218978            0.218978  \n1        0.181989            0.181989  \n2        0.216667            0.216667  \n3        0.194643            0.194643  \n4        0.511628            0.511628  ",
      "text/html": "<div>\n<style scoped>\n    .dataframe tbody tr th:only-of-type {\n        vertical-align: middle;\n    }\n\n    .dataframe tbody tr th {\n        vertical-align: top;\n    }\n\n    .dataframe thead th {\n        text-align: right;\n    }\n</style>\n<table border=\"1\" class=\"dataframe\">\n  <thead>\n    <tr style=\"text-align: right;\">\n      <th></th>\n      <th>target_relation</th>\n      <th>label_frequency</th>\n      <th>random_trial_index</th>\n      <th>Rule</th>\n      <th>Nb supported predictions</th>\n      <th>Body size</th>\n      <th>$conf$</th>\n      <th>IPW</th>\n      <th>CWA</th>\n      <th>ICW</th>\n      <th>$\\frac{\\left| \\mathbf{R}\\right|}{\\left| \\mathbf{R_s}\\right|} conf$ $p$</th>\n      <th>PCA $p$</th>\n      <th>IPW-PCA $p$</th>\n      <th>$\\frac{\\left| \\mathbf{R}\\right|}{\\left| \\mathbf{R_s}\\right|} conf$ $p^{-1}$</th>\n      <th>PCA ${p^{-1}}$</th>\n      <th>IPW-PCA ${p^{-1}}$</th>\n    </tr>\n  </thead>\n  <tbody>\n    <tr>\n      <th>0</th>\n      <td>created</td>\n      <td>0.1</td>\n      <td>7</td>\n      <td>created(A,B) :- directed(A,B)</td>\n      <td>120</td>\n      <td>5481</td>\n      <td>0.219303</td>\n      <td>0.218938</td>\n      <td>0.021894</td>\n      <td>0.218938</td>\n      <td>0.427910</td>\n      <td>0.162822</td>\n      <td>0.162822</td>\n      <td>0.326364</td>\n      <td>0.218978</td>\n      <td>0.218978</td>\n    </tr>\n    <tr>\n      <th>1</th>\n      <td>created</td>\n      <td>0.1</td>\n      <td>6</td>\n      <td>created(A,B) :- directed(A,B)</td>\n      <td>97</td>\n      <td>5481</td>\n      <td>0.219303</td>\n      <td>0.176975</td>\n      <td>0.017698</td>\n      <td>0.176975</td>\n      <td>0.427910</td>\n      <td>0.146305</td>\n      <td>0.146305</td>\n      <td>0.326364</td>\n      <td>0.181989</td>\n      <td>0.181989</td>\n    </tr>\n    <tr>\n      <th>2</th>\n      <td>created</td>\n      <td>0.1</td>\n      <td>1</td>\n      <td>created(A,B) :- directed(A,B)</td>\n      <td>117</td>\n      <td>5481</td>\n      <td>0.219303</td>\n      <td>0.213465</td>\n      <td>0.021346</td>\n      <td>0.213465</td>\n      <td>0.427910</td>\n      <td>0.165488</td>\n      <td>0.165488</td>\n      <td>0.326364</td>\n      <td>0.216667</td>\n      <td>0.216667</td>\n    </tr>\n    <tr>\n      <th>3</th>\n      <td>created</td>\n      <td>0.1</td>\n      <td>9</td>\n      <td>created(A,B) :- directed(A,B)</td>\n      <td>109</td>\n      <td>5481</td>\n      <td>0.219303</td>\n      <td>0.198869</td>\n      <td>0.019887</td>\n      <td>0.198869</td>\n      <td>0.427910</td>\n      <td>0.165653</td>\n      <td>0.165653</td>\n      <td>0.326364</td>\n      <td>0.194643</td>\n      <td>0.194643</td>\n    </tr>\n    <tr>\n      <th>4</th>\n      <td>created</td>\n      <td>0.1</td>\n      <td>8</td>\n      <td>created(A,B) :- actedin(A,B),directed(A,B)</td>\n      <td>22</td>\n      <td>558</td>\n      <td>0.379928</td>\n      <td>0.394265</td>\n      <td>0.039427</td>\n      <td>0.394265</td>\n      <td>0.566845</td>\n      <td>0.224490</td>\n      <td>0.224490</td>\n      <td>0.566845</td>\n      <td>0.511628</td>\n      <td>0.511628</td>\n    </tr>\n  </tbody>\n</table>\n</div>"
     },
     "execution_count": 6,
     "metadata": {},
     "output_type": "execute_result"
    }
   ],
   "source": [
    "df_rule_wrappers.head()"
   ],
   "metadata": {
    "collapsed": false,
    "pycharm": {
     "name": "#%%\n"
    }
   }
  },
  {
   "cell_type": "code",
   "execution_count": 7,
   "outputs": [
    {
     "data": {
      "text/plain": "Index(['target_relation', 'label_frequency', 'random_trial_index', 'Rule',\n       'Nb supported predictions', 'Body size', '$conf$', 'IPW', 'CWA', 'ICW',\n       '$\\frac{\\left| \\mathbf{R}\\right|}{\\left| \\mathbf{R_s}\\right|} conf$ $p$',\n       'PCA $p$', 'IPW-PCA $p$',\n       '$\\frac{\\left| \\mathbf{R}\\right|}{\\left| \\mathbf{R_s}\\right|} conf$ $p^{-1}$',\n       'PCA ${p^{-1}}$', 'IPW-PCA ${p^{-1}}$'],\n      dtype='object')"
     },
     "execution_count": 7,
     "metadata": {},
     "output_type": "execute_result"
    }
   ],
   "source": [
    "df_rule_wrappers.columns"
   ],
   "metadata": {
    "collapsed": false,
    "pycharm": {
     "name": "#%%\n"
    }
   }
  },
  {
   "cell_type": "code",
   "execution_count": 8,
   "outputs": [],
   "source": [
    "column_names_logistics: List[str] = [\n",
    "    'target_relation',\n",
    "    'label_frequency',\n",
    "    'random_trial_index',\n",
    "    \"Rule\"\n",
    "]"
   ],
   "metadata": {
    "collapsed": false,
    "pycharm": {
     "name": "#%%\n"
    }
   }
  },
  {
   "cell_type": "markdown",
   "source": [
    "## Which rules are included?"
   ],
   "metadata": {
    "collapsed": false
   }
  },
  {
   "cell_type": "code",
   "execution_count": 9,
   "outputs": [
    {
     "name": "stdout",
     "output_type": "stream",
     "text": [
      "created(A,B) :- directed(A,B)\n",
      "created(A,B) :- actedin(A,B),directed(A,B)\n"
     ]
    }
   ],
   "source": [
    "list_of_rules: List[str] = list(df_rule_wrappers[\"Rule\"].unique())\n",
    "for rule_str in list_of_rules:\n",
    "    print(rule_str)\n",
    "\n"
   ],
   "metadata": {
    "collapsed": false,
    "pycharm": {
     "name": "#%%\n"
    }
   }
  },
  {
   "cell_type": "markdown",
   "source": [
    "## Select only 1 rule"
   ],
   "metadata": {
    "collapsed": false
   }
  },
  {
   "cell_type": "code",
   "execution_count": 10,
   "outputs": [],
   "source": [
    "index_of_rule_to_use = 1\n",
    "\n",
    "df_rule_wrappers = df_rule_wrappers[\n",
    "    (df_rule_wrappers[\"Rule\"] == list_of_rules[index_of_rule_to_use])\n",
    "    # & (df_rule_wrappers[\"random_trial_index\"] == 0)\n",
    "]\n",
    "rule_name: str = list_of_rules[index_of_rule_to_use]\n",
    "\n"
   ],
   "metadata": {
    "collapsed": false,
    "pycharm": {
     "name": "#%%\n"
    }
   }
  },
  {
   "cell_type": "markdown",
   "source": [
    "## True Conf vs non-pca estimators"
   ],
   "metadata": {
    "collapsed": false
   }
  },
  {
   "cell_type": "code",
   "execution_count": 11,
   "outputs": [],
   "source": [
    "conf_estimators_non_pca_comparison = [\n",
    "    ConfidenceEnum.IPW_CONF,\n",
    "    ConfidenceEnum.CWA_CONF,\n",
    "]\n",
    "\n",
    "confs_non_pca_comparison = [ConfidenceEnum.TRUE_CONF ] + conf_estimators_non_pca_comparison\n",
    "\n",
    "column_names_non_pca_confidence_comparison = [\n",
    "    conf.get_name()\n",
    "    for conf in confs_non_pca_comparison\n",
    "]"
   ],
   "metadata": {
    "collapsed": false,
    "pycharm": {
     "name": "#%%\n"
    }
   }
  },
  {
   "cell_type": "code",
   "execution_count": 12,
   "outputs": [
    {
     "data": {
      "text/plain": "  target_relation  label_frequency  random_trial_index  \\\n4         created              0.1                   8   \n5         created              0.1                   7   \n7         created              0.1                   0   \n8         created              0.1                   9   \n9         created              0.1                   3   \n\n                                         Rule    $conf$       IPW       CWA  \n4  created(A,B) :- actedin(A,B),directed(A,B)  0.379928  0.394265  0.039427  \n5  created(A,B) :- actedin(A,B),directed(A,B)  0.379928  0.448029  0.044803  \n7  created(A,B) :- actedin(A,B),directed(A,B)  0.379928  0.358423  0.035842  \n8  created(A,B) :- actedin(A,B),directed(A,B)  0.379928  0.394265  0.039427  \n9  created(A,B) :- actedin(A,B),directed(A,B)  0.379928  0.286738  0.028674  ",
      "text/html": "<div>\n<style scoped>\n    .dataframe tbody tr th:only-of-type {\n        vertical-align: middle;\n    }\n\n    .dataframe tbody tr th {\n        vertical-align: top;\n    }\n\n    .dataframe thead th {\n        text-align: right;\n    }\n</style>\n<table border=\"1\" class=\"dataframe\">\n  <thead>\n    <tr style=\"text-align: right;\">\n      <th></th>\n      <th>target_relation</th>\n      <th>label_frequency</th>\n      <th>random_trial_index</th>\n      <th>Rule</th>\n      <th>$conf$</th>\n      <th>IPW</th>\n      <th>CWA</th>\n    </tr>\n  </thead>\n  <tbody>\n    <tr>\n      <th>4</th>\n      <td>created</td>\n      <td>0.1</td>\n      <td>8</td>\n      <td>created(A,B) :- actedin(A,B),directed(A,B)</td>\n      <td>0.379928</td>\n      <td>0.394265</td>\n      <td>0.039427</td>\n    </tr>\n    <tr>\n      <th>5</th>\n      <td>created</td>\n      <td>0.1</td>\n      <td>7</td>\n      <td>created(A,B) :- actedin(A,B),directed(A,B)</td>\n      <td>0.379928</td>\n      <td>0.448029</td>\n      <td>0.044803</td>\n    </tr>\n    <tr>\n      <th>7</th>\n      <td>created</td>\n      <td>0.1</td>\n      <td>0</td>\n      <td>created(A,B) :- actedin(A,B),directed(A,B)</td>\n      <td>0.379928</td>\n      <td>0.358423</td>\n      <td>0.035842</td>\n    </tr>\n    <tr>\n      <th>8</th>\n      <td>created</td>\n      <td>0.1</td>\n      <td>9</td>\n      <td>created(A,B) :- actedin(A,B),directed(A,B)</td>\n      <td>0.379928</td>\n      <td>0.394265</td>\n      <td>0.039427</td>\n    </tr>\n    <tr>\n      <th>9</th>\n      <td>created</td>\n      <td>0.1</td>\n      <td>3</td>\n      <td>created(A,B) :- actedin(A,B),directed(A,B)</td>\n      <td>0.379928</td>\n      <td>0.286738</td>\n      <td>0.028674</td>\n    </tr>\n  </tbody>\n</table>\n</div>"
     },
     "execution_count": 12,
     "metadata": {},
     "output_type": "execute_result"
    }
   ],
   "source": [
    "df_non_pca_conf_comp = df_rule_wrappers[\n",
    "    column_names_logistics + column_names_non_pca_confidence_comparison\n",
    "]\n",
    "df_non_pca_conf_comp.head()"
   ],
   "metadata": {
    "collapsed": false,
    "pycharm": {
     "name": "#%%\n"
    }
   }
  },
  {
   "cell_type": "code",
   "execution_count": 13,
   "outputs": [
    {
     "data": {
      "text/plain": "  target_relation  label_frequency  random_trial_index  \\\n0         created              0.1                   8   \n1         created              0.1                   7   \n2         created              0.1                   0   \n3         created              0.1                   9   \n4         created              0.1                   3   \n\n                                         Rule confidence_type  \\\n0  created(A,B) :- actedin(A,B),directed(A,B)          $conf$   \n1  created(A,B) :- actedin(A,B),directed(A,B)          $conf$   \n2  created(A,B) :- actedin(A,B),directed(A,B)          $conf$   \n3  created(A,B) :- actedin(A,B),directed(A,B)          $conf$   \n4  created(A,B) :- actedin(A,B),directed(A,B)          $conf$   \n\n   confidence_value  \n0          0.379928  \n1          0.379928  \n2          0.379928  \n3          0.379928  \n4          0.379928  ",
      "text/html": "<div>\n<style scoped>\n    .dataframe tbody tr th:only-of-type {\n        vertical-align: middle;\n    }\n\n    .dataframe tbody tr th {\n        vertical-align: top;\n    }\n\n    .dataframe thead th {\n        text-align: right;\n    }\n</style>\n<table border=\"1\" class=\"dataframe\">\n  <thead>\n    <tr style=\"text-align: right;\">\n      <th></th>\n      <th>target_relation</th>\n      <th>label_frequency</th>\n      <th>random_trial_index</th>\n      <th>Rule</th>\n      <th>confidence_type</th>\n      <th>confidence_value</th>\n    </tr>\n  </thead>\n  <tbody>\n    <tr>\n      <th>0</th>\n      <td>created</td>\n      <td>0.1</td>\n      <td>8</td>\n      <td>created(A,B) :- actedin(A,B),directed(A,B)</td>\n      <td>$conf$</td>\n      <td>0.379928</td>\n    </tr>\n    <tr>\n      <th>1</th>\n      <td>created</td>\n      <td>0.1</td>\n      <td>7</td>\n      <td>created(A,B) :- actedin(A,B),directed(A,B)</td>\n      <td>$conf$</td>\n      <td>0.379928</td>\n    </tr>\n    <tr>\n      <th>2</th>\n      <td>created</td>\n      <td>0.1</td>\n      <td>0</td>\n      <td>created(A,B) :- actedin(A,B),directed(A,B)</td>\n      <td>$conf$</td>\n      <td>0.379928</td>\n    </tr>\n    <tr>\n      <th>3</th>\n      <td>created</td>\n      <td>0.1</td>\n      <td>9</td>\n      <td>created(A,B) :- actedin(A,B),directed(A,B)</td>\n      <td>$conf$</td>\n      <td>0.379928</td>\n    </tr>\n    <tr>\n      <th>4</th>\n      <td>created</td>\n      <td>0.1</td>\n      <td>3</td>\n      <td>created(A,B) :- actedin(A,B),directed(A,B)</td>\n      <td>$conf$</td>\n      <td>0.379928</td>\n    </tr>\n  </tbody>\n</table>\n</div>"
     },
     "execution_count": 13,
     "metadata": {},
     "output_type": "execute_result"
    }
   ],
   "source": [
    "df_non_pca_conf_comp_melted = df_non_pca_conf_comp.melt(\n",
    "    id_vars=column_names_logistics,\n",
    "    var_name='confidence_type',\n",
    "    value_name='confidence_value'\n",
    ")\n",
    "df_non_pca_conf_comp_melted.head()"
   ],
   "metadata": {
    "collapsed": false,
    "pycharm": {
     "name": "#%%\n"
    }
   }
  },
  {
   "cell_type": "code",
   "execution_count": 14,
   "outputs": [
    {
     "name": "stdout",
     "output_type": "stream",
     "text": [
      "1\n",
      "10\n"
     ]
    }
   ],
   "source": [
    "n_rules = len(df_non_pca_conf_comp[\"Rule\"].unique())\n",
    "print(n_rules)\n",
    "\n",
    "n_random_trials = len(df_non_pca_conf_comp[\"random_trial_index\"].unique())\n",
    "print(n_random_trials)"
   ],
   "metadata": {
    "collapsed": false,
    "pycharm": {
     "name": "#%%\n"
    }
   }
  },
  {
   "cell_type": "code",
   "execution_count": 15,
   "outputs": [],
   "source": [
    "column_names_info =ColumnNamesInfo(\n",
    "        true_conf=true_conf,\n",
    "        column_name_true_conf=true_conf.get_name(),\n",
    "        conf_estimators=conf_estimators_non_pca_comparison,\n",
    "        column_names_conf_estimators=[\n",
    "            col.get_name()\n",
    "            for col in conf_estimators_non_pca_comparison\n",
    "        ],\n",
    "        column_names_logistics=column_names_logistics\n",
    "    )\n",
    "\n",
    "df_diff_to_true_conf_melted: pd.DataFrame = get_df_diffs_between_true_conf_and_confidence_estimators_melted(\n",
    "    df_rule_wrappers=df_non_pca_conf_comp,\n",
    "    column_names_info = column_names_info\n",
    ")\n"
   ],
   "metadata": {
    "collapsed": false,
    "pycharm": {
     "name": "#%%\n"
    }
   }
  },
  {
   "cell_type": "markdown",
   "source": [
    "### Plot True conf, CWA conf and IPW conf"
   ],
   "metadata": {
    "collapsed": false
   }
  },
  {
   "cell_type": "code",
   "execution_count": 16,
   "outputs": [],
   "source": [
    "from kbc_pul.confidence_naming import get_color_dict_q1\n",
    "\n",
    "color_dict_q1: Dict[ConfidenceEnum, str] = get_color_dict_q1()\n",
    "\n",
    "color_palette = {\n",
    "    conf.get_name(): color_dict_q1[conf]\n",
    "    for conf in confs_non_pca_comparison\n",
    "}\n"
   ],
   "metadata": {
    "collapsed": false,
    "pycharm": {
     "name": "#%%\n"
    }
   }
  },
  {
   "cell_type": "code",
   "execution_count": 17,
   "outputs": [
    {
     "data": {
      "text/plain": "<Figure size 432x216 with 1 Axes>",
      "image/png": "[encoded data removed]"
     },
     "metadata": {},
     "output_type": "display_data"
    }
   ],
   "source": [
    "from matplotlib.axes import Axes\n",
    "from matplotlib.figure import Figure\n",
    "\n",
    "figsize = (6, 3)\n",
    "fig, axes = plt.subplots(1,1, figsize=figsize)\n",
    "\n",
    "error_metric_label: str = get_confidence_difference_label_string(true_conf)\n",
    "\n",
    "fig: Figure\n",
    "axes: Axes\n",
    "ax_confs: Axes = sns.lineplot(\n",
    "    x=\"label_frequency\",\n",
    "    y='confidence_value',\n",
    "    hue=\"confidence_type\",\n",
    "    # hue_order=order,\n",
    "    palette=color_palette,\n",
    "    marker=\"o\",\n",
    "    data=df_non_pca_conf_comp_melted,\n",
    "    ax=axes\n",
    ")\n",
    "ax_confs.set_xlim([0.0, 1.0])\n",
    "ax_confs.set_ylim([0.0, None])\n",
    "ax_confs.set_xlabel(f'label frequency c')\n",
    "# ax_confs.set_ylabel(\"$\\widehat{conf}(R)$\")\n",
    "ax_confs.set_ylabel(\"\")\n",
    "ax_confs.set_title(\n",
    "    \"$\\widehat{conf}(R)$\",\n",
    "    loc=\"left\"\n",
    "     # f\" for {n_rules} rules predicting {target_relation}\\n\"\n",
    "     # f\" (Avg over {n_random_trials} random selections)\"\n",
    "             )\n",
    "\n",
    "# ax_squared_error: Axes = sns.lineplot(\n",
    "#     x=\"label_frequency\",\n",
    "#     y='squared_error',\n",
    "#     hue=\"error_type\",\n",
    "#     # hue_order=order,\n",
    "#     palette=color_palette,\n",
    "#     marker=\"o\",\n",
    "#     data=df_diff_to_true_conf_melted,\n",
    "#     ax=axes[1]\n",
    "# )\n",
    "# # ax_confs.legend_ = leg\n",
    "#\n",
    "#\n",
    "# ax_squared_error.set_xlim([0.0, 1.0])\n",
    "# ax_squared_error.set_ylim([0.0, None])\n",
    "# ax_squared_error.set_xlabel(f'label frequency c')\n",
    "# ax_squared_error.set_ylabel(error_metric_label)\n",
    "# ax_squared_error.set_title(\n",
    "#     \"\" + error_metric_label + \"\"\n",
    "#              # f\" for {n_rules} rules predicting {target_relation}\\n\"\n",
    "#              f\" (Avg over {n_random_trials} random selections)\"\n",
    "# )\n",
    "# ax_squared_error.get_legend().remove()\n",
    "\n",
    "plt.suptitle(f\"{rule_name}\")\n",
    "plt.legend(bbox_to_anchor=(1.05, 1.0), loc='upper left')\n",
    "\n",
    "plt.tight_layout(rect=[0, 0.03, 1, 0.95])"
   ],
   "metadata": {
    "collapsed": false,
    "pycharm": {
     "name": "#%%\n"
    }
   }
  },
  {
   "cell_type": "code",
   "execution_count": 17,
   "outputs": [],
   "source": [],
   "metadata": {
    "collapsed": false,
    "pycharm": {
     "name": "#%%\n"
    }
   }
  },
  {
   "cell_type": "code",
   "execution_count": 17,
   "outputs": [],
   "source": [],
   "metadata": {
    "collapsed": false,
    "pycharm": {
     "name": "#%%\n"
    }
   }
  }
 ],
 "metadata": {
  "kernelspec": {
   "display_name": "Python 3",
   "language": "python",
   "name": "python3"
  },
  "language_info": {
   "codemirror_mode": {
    "name": "ipython",
    "version": 2
   },
   "file_extension": ".py",
   "mimetype": "text/x-python",
   "name": "python",
   "nbconvert_exporter": "python",
   "pygments_lexer": "ipython2",
   "version": "2.7.6"
  }
 },
 "nbformat": 4,
 "nbformat_minor": 0
}