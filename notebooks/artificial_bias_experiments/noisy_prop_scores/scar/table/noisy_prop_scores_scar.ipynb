{
 "cells": [
  {
   "cell_type": "code",
   "execution_count": 1,
   "outputs": [],
   "source": [
    "import os\n",
    "import numpy as np\n",
    "import pandas as pd\n",
    "\n",
    "from typing import List, Set, Dict, Optional\n",
    "\n",
    "from kbc_pul.project_info import data_dir\n",
    "\n",
    "from artificial_bias_experiments.evaluation.confidence_comparison.df_utils import ColumnNamesInfo\n",
    "from kbc_pul.experiments_utils.load_df_ground_truth import get_df_ground_truth\n",
    "from artificial_bias_experiments.noisy_prop_scores.scar.experiment_info import \\\n",
    "    NoisyPropScoresSCARExperimentInfo\n",
    "from artificial_bias_experiments.noisy_prop_scores.scar.image_generation.load_rule_wrappers import \\\n",
    "    NoisyPropScoresDataFrames, load_noisy_prop_scores_scar_rule_wrapper_dfs\n",
    "from artificial_bias_experiments.noisy_prop_scores.scar.noisy_prop_scores_scar_file_naming import \\\n",
    "    NoisyPropScoresSCARFileNamer\n",
    "from kbc_pul.project_info import project_dir as kbc_e_metrics_project_dir\n",
    "\n",
    "from kbc_pul.confidence_naming import ConfidenceEnum\n",
    "from pylo.language.lp import Clause as PyloClause"
   ],
   "metadata": {
    "collapsed": false,
    "pycharm": {
     "name": "#%%\n"
    }
   }
  },
  {
   "cell_type": "markdown",
   "source": [
    "# Noisy SCAR fancy table generation"
   ],
   "metadata": {
    "collapsed": false
   }
  },
  {
   "cell_type": "code",
   "execution_count": 2,
   "outputs": [],
   "source": [
    "dataset_name: str = \"yago3_10\"\n",
    "\n",
    "true_label_frequency_list = [0.3, .7]\n",
    "\n",
    "# true_prop_scores = PropScoresTwoSARGroups(\n",
    "#     in_filter=true_prop_score_in_filter,\n",
    "#     other=true_prop_score_other\n",
    "# )\n",
    "\n",
    "available_label_frequency_list: List[float] = [0.1, 0.2, .3, .4, .5, .6, .7, .8, .9, 1]\n",
    "filename_ground_truth_dataset: str = os.path.join(\n",
    "    data_dir, dataset_name, 'cleaned_csv', 'train.csv'\n",
    ")\n",
    "separator_ground_truth_dataset = \"\\t\"\n",
    "df_ground_truth: pd.DataFrame = get_df_ground_truth(filename_ground_truth_dataset, separator_ground_truth_dataset)\n",
    "target_relation_list: List[str] = list(sorted(df_ground_truth[\"Rel\"].unique()))\n",
    "\n",
    "is_pca_version: bool = False"
   ],
   "metadata": {
    "collapsed": false,
    "pycharm": {
     "name": "#%%\n"
    }
   }
  },
  {
   "cell_type": "code",
   "execution_count": 3,
   "outputs": [
    {
     "name": "stdout",
     "output_type": "stream",
     "text": [
      "edited\n",
      "No objects to concatenate\n",
      "hasacademicadvisor\n",
      "No objects to concatenate\n",
      "hasmusicalrole\n",
      "No objects to concatenate\n",
      "haswebsite\n",
      "No objects to concatenate\n",
      "influences\n",
      "No objects to concatenate\n",
      "isknownfor\n",
      "No objects to concatenate\n",
      "playsfor\n",
      "[Errno 2] No such file or directory: '/home/joschout/Documents/Repos/KUL-PUL/data/artificial_bias_experiments/noisy_prop_scores/scar/yago3_10/playsfor/not_pca/c0.3/rule_wrappers/pu_metrics/playsfor(A,B) :- isaffiliatedto(A,B)_trial9.tsv.gz'\n",
      "wrotemusicfor\n",
      "No objects to concatenate\n",
      "edited\n",
      "No objects to concatenate\n",
      "hasacademicadvisor\n",
      "No objects to concatenate\n",
      "hasmusicalrole\n",
      "No objects to concatenate\n",
      "haswebsite\n",
      "No objects to concatenate\n",
      "influences\n",
      "No objects to concatenate\n",
      "isknownfor\n",
      "No objects to concatenate\n",
      "wrotemusicfor\n",
      "No objects to concatenate\n"
     ]
    },
    {
     "data": {
      "text/plain": "   true_label_frequency  random_trial_index                           Rule  \\\n0                   0.3                   8  actedin(A,B) :- directed(A,B)   \n1                   0.3                   8  actedin(A,B) :- directed(A,B)   \n2                   0.3                   8  actedin(A,B) :- directed(A,B)   \n3                   0.3                   8  actedin(A,B) :- directed(A,B)   \n4                   0.3                   8  actedin(A,B) :- directed(A,B)   \n\n   Nb supported predictions  Body size    $conf$       CWA  \\\n0                       165       5481  0.101806  0.030104   \n1                       165       5481  0.101806  0.030104   \n2                       165       5481  0.101806  0.030104   \n3                       165       5481  0.101806  0.030104   \n4                       165       5481  0.101806  0.030104   \n\n   $\\frac{\\left| \\mathbf{R}\\right|}{\\left| \\mathbf{R_s}\\right|} conf$ $p$  \\\n0                                           0.347231                        \n1                                           0.347231                        \n2                                           0.347231                        \n3                                           0.347231                        \n4                                           0.347231                        \n\n    PCA $p$  \\\n0  0.166163   \n1  0.166163   \n2  0.166163   \n3  0.166163   \n4  0.166163   \n\n   $\\frac{\\left| \\mathbf{R}\\right|}{\\left| \\mathbf{R_s}\\right|} conf$ $p^{-1}$  \\\n0                                           0.104007                             \n1                                           0.104007                             \n2                                           0.104007                             \n3                                           0.104007                             \n4                                           0.104007                             \n\n   PCA ${p^{-1}}$ target_relation  noisy_label_frequency       IPW  \\\n0        0.040352         actedin                    0.1  0.301040   \n1        0.040352         actedin                    0.2  0.150520   \n2        0.040352         actedin                    0.3  0.100347   \n3        0.040352         actedin                    0.4  0.075260   \n4        0.040352         actedin                    0.5  0.060208   \n\n   IPW-PCA $p$  IPW-PCA ${p^{-1}}$       ICW  \n0     0.166163            0.166163  0.301040  \n1     0.166163            0.166163  0.150520  \n2     0.166163            0.166163  0.100347  \n3     0.166163            0.166163  0.075260  \n4     0.166163            0.166163  0.060208  ",
      "text/html": "<div>\n<style scoped>\n    .dataframe tbody tr th:only-of-type {\n        vertical-align: middle;\n    }\n\n    .dataframe tbody tr th {\n        vertical-align: top;\n    }\n\n    .dataframe thead th {\n        text-align: right;\n    }\n</style>\n<table border=\"1\" class=\"dataframe\">\n  <thead>\n    <tr style=\"text-align: right;\">\n      <th></th>\n      <th>true_label_frequency</th>\n      <th>random_trial_index</th>\n      <th>Rule</th>\n      <th>Nb supported predictions</th>\n      <th>Body size</th>\n      <th>$conf$</th>\n      <th>CWA</th>\n      <th>$\\frac{\\left| \\mathbf{R}\\right|}{\\left| \\mathbf{R_s}\\right|} conf$ $p$</th>\n      <th>PCA $p$</th>\n      <th>$\\frac{\\left| \\mathbf{R}\\right|}{\\left| \\mathbf{R_s}\\right|} conf$ $p^{-1}$</th>\n      <th>PCA ${p^{-1}}$</th>\n      <th>target_relation</th>\n      <th>noisy_label_frequency</th>\n      <th>IPW</th>\n      <th>IPW-PCA $p$</th>\n      <th>IPW-PCA ${p^{-1}}$</th>\n      <th>ICW</th>\n    </tr>\n  </thead>\n  <tbody>\n    <tr>\n      <th>0</th>\n      <td>0.3</td>\n      <td>8</td>\n      <td>actedin(A,B) :- directed(A,B)</td>\n      <td>165</td>\n      <td>5481</td>\n      <td>0.101806</td>\n      <td>0.030104</td>\n      <td>0.347231</td>\n      <td>0.166163</td>\n      <td>0.104007</td>\n      <td>0.040352</td>\n      <td>actedin</td>\n      <td>0.1</td>\n      <td>0.301040</td>\n      <td>0.166163</td>\n      <td>0.166163</td>\n      <td>0.301040</td>\n    </tr>\n    <tr>\n      <th>1</th>\n      <td>0.3</td>\n      <td>8</td>\n      <td>actedin(A,B) :- directed(A,B)</td>\n      <td>165</td>\n      <td>5481</td>\n      <td>0.101806</td>\n      <td>0.030104</td>\n      <td>0.347231</td>\n      <td>0.166163</td>\n      <td>0.104007</td>\n      <td>0.040352</td>\n      <td>actedin</td>\n      <td>0.2</td>\n      <td>0.150520</td>\n      <td>0.166163</td>\n      <td>0.166163</td>\n      <td>0.150520</td>\n    </tr>\n    <tr>\n      <th>2</th>\n      <td>0.3</td>\n      <td>8</td>\n      <td>actedin(A,B) :- directed(A,B)</td>\n      <td>165</td>\n      <td>5481</td>\n      <td>0.101806</td>\n      <td>0.030104</td>\n      <td>0.347231</td>\n      <td>0.166163</td>\n      <td>0.104007</td>\n      <td>0.040352</td>\n      <td>actedin</td>\n      <td>0.3</td>\n      <td>0.100347</td>\n      <td>0.166163</td>\n      <td>0.166163</td>\n      <td>0.100347</td>\n    </tr>\n    <tr>\n      <th>3</th>\n      <td>0.3</td>\n      <td>8</td>\n      <td>actedin(A,B) :- directed(A,B)</td>\n      <td>165</td>\n      <td>5481</td>\n      <td>0.101806</td>\n      <td>0.030104</td>\n      <td>0.347231</td>\n      <td>0.166163</td>\n      <td>0.104007</td>\n      <td>0.040352</td>\n      <td>actedin</td>\n      <td>0.4</td>\n      <td>0.075260</td>\n      <td>0.166163</td>\n      <td>0.166163</td>\n      <td>0.075260</td>\n    </tr>\n    <tr>\n      <th>4</th>\n      <td>0.3</td>\n      <td>8</td>\n      <td>actedin(A,B) :- directed(A,B)</td>\n      <td>165</td>\n      <td>5481</td>\n      <td>0.101806</td>\n      <td>0.030104</td>\n      <td>0.347231</td>\n      <td>0.166163</td>\n      <td>0.104007</td>\n      <td>0.040352</td>\n      <td>actedin</td>\n      <td>0.5</td>\n      <td>0.060208</td>\n      <td>0.166163</td>\n      <td>0.166163</td>\n      <td>0.060208</td>\n    </tr>\n  </tbody>\n</table>\n</div>"
     },
     "execution_count": 3,
     "metadata": {},
     "output_type": "execute_result"
    }
   ],
   "source": [
    "df_rule_wrapper_list: List[pd.DataFrame] = []\n",
    "\n",
    "for true_label_frequency in true_label_frequency_list:\n",
    "    for target_relation in target_relation_list:\n",
    "        try:\n",
    "            experiment_info=NoisyPropScoresSCARExperimentInfo(\n",
    "                dataset_name=dataset_name,\n",
    "                target_relation=target_relation,\n",
    "                true_label_frequency=true_label_frequency,\n",
    "                available_label_frequency_list=available_label_frequency_list,\n",
    "                is_pca_version=is_pca_version\n",
    "            )\n",
    "\n",
    "\n",
    "            root_dir_specific_experiment_settings: str = NoisyPropScoresSCARFileNamer.get_dir_experiment_specific(\n",
    "                experiment_info=experiment_info\n",
    "            )\n",
    "\n",
    "            noisy_prop_scores_dfs: NoisyPropScoresDataFrames = load_noisy_prop_scores_scar_rule_wrapper_dfs(\n",
    "                experiment_dir=root_dir_specific_experiment_settings\n",
    "            )\n",
    "\n",
    "            df_rule_wrappers: pd.DataFrame = noisy_prop_scores_dfs.rule_wrappers\n",
    "            df_rule_wrappers[\"target_relation\"] = pd.Series(\n",
    "                data=[target_relation] * len(df_rule_wrappers), index=df_rule_wrappers.index\n",
    "            )\n",
    "\n",
    "            df_noisy_prop_scores_to_metrics_map: pd.DataFrame = noisy_prop_scores_dfs.noisy_prop_scores_to_pu_metrics_map\n",
    "\n",
    "\n",
    "            df_rule_wrappers:pd.DataFrame = df_rule_wrappers.merge(\n",
    "                df_noisy_prop_scores_to_metrics_map,\n",
    "                left_on=[\"Rule\", \"random_trial_index\", \"true_label_frequency\"],\n",
    "                right_on=[\"Rule\", \"random_trial_index\", \"true_label_frequency\"],\n",
    "            )\n",
    "            df_rule_wrapper_list.append(df_rule_wrappers)\n",
    "        except Exception as err:\n",
    "            print(target_relation)\n",
    "            print(err)\n",
    "\n",
    "df_rule_wrappers_all_targets: pd.DataFrame = pd.concat(df_rule_wrapper_list, axis=0)\n",
    "df_rule_wrappers_all_targets.head()"
   ],
   "metadata": {
    "collapsed": false,
    "pycharm": {
     "name": "#%%\n"
    }
   }
  },
  {
   "cell_type": "code",
   "execution_count": 4,
   "outputs": [
    {
     "data": {
      "text/plain": "Index(['true_label_frequency', 'random_trial_index', 'Rule',\n       'Nb supported predictions', 'Body size', '$conf$', 'CWA',\n       '$\\frac{\\left| \\mathbf{R}\\right|}{\\left| \\mathbf{R_s}\\right|} conf$ $p$',\n       'PCA $p$',\n       '$\\frac{\\left| \\mathbf{R}\\right|}{\\left| \\mathbf{R_s}\\right|} conf$ $p^{-1}$',\n       'PCA ${p^{-1}}$', 'target_relation', 'noisy_label_frequency', 'IPW',\n       'IPW-PCA $p$', 'IPW-PCA ${p^{-1}}$', 'ICW'],\n      dtype='object')"
     },
     "execution_count": 4,
     "metadata": {},
     "output_type": "execute_result"
    }
   ],
   "source": [
    "df_rule_wrappers_all_targets.columns"
   ],
   "metadata": {
    "collapsed": false,
    "pycharm": {
     "name": "#%%\n"
    }
   }
  },
  {
   "cell_type": "code",
   "execution_count": 5,
   "outputs": [],
   "source": [
    "all_columns: List[str] = [\n",
    "    'target_relation',\n",
    "    'true_label_frequency',\n",
    "    'noisy_label_frequency',\n",
    "    'Rule',\n",
    "    'random_trial_index',\n",
    "    'Nb supported predictions',\n",
    "    'Body size',\n",
    "    '$conf$',\n",
    "    'CWA',\n",
    "    '$f^{*} \\cdot conf$ (S)', 'PCA(S)', '$f^{*} \\cdot conf$ (O)', 'PCA(O)',\n",
    "        'IPW', 'IPW-PCA(S)', 'IPW-PCA(O)', 'ICW'\n",
    "]\n",
    "column_names_logistics =  [\n",
    "    'target_relation',\n",
    "    'true_label_frequency',\n",
    "    'noisy_label_frequency',\n",
    "    'Rule',\n",
    "    'random_trial_index',\n",
    "]\n",
    "columns_to_select = column_names_logistics + [\n",
    "    col for col in set([conf.value for conf in ConfidenceEnum])\n",
    "]"
   ],
   "metadata": {
    "collapsed": false,
    "pycharm": {
     "name": "#%%\n"
    }
   }
  },
  {
   "cell_type": "markdown",
   "source": [
    "## Drop body size & nb of predictions + reorder"
   ],
   "metadata": {
    "collapsed": false
   }
  },
  {
   "cell_type": "code",
   "execution_count": 6,
   "outputs": [
    {
     "data": {
      "text/plain": "  target_relation  true_label_frequency  noisy_label_frequency  \\\n0         actedin                   0.3                    0.1   \n1         actedin                   0.3                    0.2   \n2         actedin                   0.3                    0.3   \n3         actedin                   0.3                    0.4   \n4         actedin                   0.3                    0.5   \n\n                            Rule  random_trial_index       ICW    $conf$  \\\n0  actedin(A,B) :- directed(A,B)                   8  0.301040  0.101806   \n1  actedin(A,B) :- directed(A,B)                   8  0.150520  0.101806   \n2  actedin(A,B) :- directed(A,B)                   8  0.100347  0.101806   \n3  actedin(A,B) :- directed(A,B)                   8  0.075260  0.101806   \n4  actedin(A,B) :- directed(A,B)                   8  0.060208  0.101806   \n\n   $\\frac{\\left| \\mathbf{R}\\right|}{\\left| \\mathbf{R_s}\\right|} conf$ $p^{-1}$  \\\n0                                           0.104007                             \n1                                           0.104007                             \n2                                           0.104007                             \n3                                           0.104007                             \n4                                           0.104007                             \n\n   $\\frac{\\left| \\mathbf{R}\\right|}{\\left| \\mathbf{R_s}\\right|} conf$ $p$  \\\n0                                           0.347231                        \n1                                           0.347231                        \n2                                           0.347231                        \n3                                           0.347231                        \n4                                           0.347231                        \n\n   PCA ${p^{-1}}$       IPW  IPW-PCA $p$  IPW-PCA ${p^{-1}}$       CWA  \\\n0        0.040352  0.301040     0.166163            0.166163  0.030104   \n1        0.040352  0.150520     0.166163            0.166163  0.030104   \n2        0.040352  0.100347     0.166163            0.166163  0.030104   \n3        0.040352  0.075260     0.166163            0.166163  0.030104   \n4        0.040352  0.060208     0.166163            0.166163  0.030104   \n\n    PCA $p$  \n0  0.166163  \n1  0.166163  \n2  0.166163  \n3  0.166163  \n4  0.166163  ",
      "text/html": "<div>\n<style scoped>\n    .dataframe tbody tr th:only-of-type {\n        vertical-align: middle;\n    }\n\n    .dataframe tbody tr th {\n        vertical-align: top;\n    }\n\n    .dataframe thead th {\n        text-align: right;\n    }\n</style>\n<table border=\"1\" class=\"dataframe\">\n  <thead>\n    <tr style=\"text-align: right;\">\n      <th></th>\n      <th>target_relation</th>\n      <th>true_label_frequency</th>\n      <th>noisy_label_frequency</th>\n      <th>Rule</th>\n      <th>random_trial_index</th>\n      <th>ICW</th>\n      <th>$conf$</th>\n      <th>$\\frac{\\left| \\mathbf{R}\\right|}{\\left| \\mathbf{R_s}\\right|} conf$ $p^{-1}$</th>\n      <th>$\\frac{\\left| \\mathbf{R}\\right|}{\\left| \\mathbf{R_s}\\right|} conf$ $p$</th>\n      <th>PCA ${p^{-1}}$</th>\n      <th>IPW</th>\n      <th>IPW-PCA $p$</th>\n      <th>IPW-PCA ${p^{-1}}$</th>\n      <th>CWA</th>\n      <th>PCA $p$</th>\n    </tr>\n  </thead>\n  <tbody>\n    <tr>\n      <th>0</th>\n      <td>actedin</td>\n      <td>0.3</td>\n      <td>0.1</td>\n      <td>actedin(A,B) :- directed(A,B)</td>\n      <td>8</td>\n      <td>0.301040</td>\n      <td>0.101806</td>\n      <td>0.104007</td>\n      <td>0.347231</td>\n      <td>0.040352</td>\n      <td>0.301040</td>\n      <td>0.166163</td>\n      <td>0.166163</td>\n      <td>0.030104</td>\n      <td>0.166163</td>\n    </tr>\n    <tr>\n      <th>1</th>\n      <td>actedin</td>\n      <td>0.3</td>\n      <td>0.2</td>\n      <td>actedin(A,B) :- directed(A,B)</td>\n      <td>8</td>\n      <td>0.150520</td>\n      <td>0.101806</td>\n      <td>0.104007</td>\n      <td>0.347231</td>\n      <td>0.040352</td>\n      <td>0.150520</td>\n      <td>0.166163</td>\n      <td>0.166163</td>\n      <td>0.030104</td>\n      <td>0.166163</td>\n    </tr>\n    <tr>\n      <th>2</th>\n      <td>actedin</td>\n      <td>0.3</td>\n      <td>0.3</td>\n      <td>actedin(A,B) :- directed(A,B)</td>\n      <td>8</td>\n      <td>0.100347</td>\n      <td>0.101806</td>\n      <td>0.104007</td>\n      <td>0.347231</td>\n      <td>0.040352</td>\n      <td>0.100347</td>\n      <td>0.166163</td>\n      <td>0.166163</td>\n      <td>0.030104</td>\n      <td>0.166163</td>\n    </tr>\n    <tr>\n      <th>3</th>\n      <td>actedin</td>\n      <td>0.3</td>\n      <td>0.4</td>\n      <td>actedin(A,B) :- directed(A,B)</td>\n      <td>8</td>\n      <td>0.075260</td>\n      <td>0.101806</td>\n      <td>0.104007</td>\n      <td>0.347231</td>\n      <td>0.040352</td>\n      <td>0.075260</td>\n      <td>0.166163</td>\n      <td>0.166163</td>\n      <td>0.030104</td>\n      <td>0.166163</td>\n    </tr>\n    <tr>\n      <th>4</th>\n      <td>actedin</td>\n      <td>0.3</td>\n      <td>0.5</td>\n      <td>actedin(A,B) :- directed(A,B)</td>\n      <td>8</td>\n      <td>0.060208</td>\n      <td>0.101806</td>\n      <td>0.104007</td>\n      <td>0.347231</td>\n      <td>0.040352</td>\n      <td>0.060208</td>\n      <td>0.166163</td>\n      <td>0.166163</td>\n      <td>0.030104</td>\n      <td>0.166163</td>\n    </tr>\n  </tbody>\n</table>\n</div>"
     },
     "execution_count": 6,
     "metadata": {},
     "output_type": "execute_result"
    }
   ],
   "source": [
    "df_rule_wrappers_all_targets = df_rule_wrappers_all_targets[columns_to_select]\n",
    "df_rule_wrappers_all_targets.head()\n"
   ],
   "metadata": {
    "collapsed": false,
    "pycharm": {
     "name": "#%%\n"
    }
   }
  },
  {
   "cell_type": "markdown",
   "source": [
    "## 2. Only keep a subset of rules\n",
    "### 2.1. Only keep the non-recursive rules; drop recursive rules"
   ],
   "metadata": {
    "collapsed": false
   }
  },
  {
   "cell_type": "code",
   "execution_count": 7,
   "outputs": [],
   "source": [
    "from kbc_pul.data_structures.rule_wrapper import get_pylo_rule_from_string, is_pylo_rule_recursive\n",
    "\n",
    "\n",
    "def is_rule_recursive(rule_string: str) -> bool:\n",
    "        pylo_rule: PyloClause = get_pylo_rule_from_string(rule_string)\n",
    "        is_rule_recursive = is_pylo_rule_recursive(pylo_rule)\n",
    "        return is_rule_recursive\n",
    "\n",
    "\n",
    "mask_recursive_rules = df_rule_wrappers_all_targets.apply(\n",
    "    lambda row: is_rule_recursive(row[\"Rule\"]),\n",
    "    axis=1\n",
    ")"
   ],
   "metadata": {
    "collapsed": false,
    "pycharm": {
     "name": "#%%\n"
    }
   }
  },
  {
   "cell_type": "code",
   "execution_count": 8,
   "outputs": [
    {
     "name": "stdout",
     "output_type": "stream",
     "text": [
      "29550\n",
      "9590\n"
     ]
    }
   ],
   "source": [
    "print(len(df_rule_wrappers_all_targets))\n",
    "df_rule_wrappers_all_targets: pd.DataFrame = df_rule_wrappers_all_targets[~mask_recursive_rules]\n",
    "print(len(df_rule_wrappers_all_targets))\n",
    "\n"
   ],
   "metadata": {
    "collapsed": false,
    "pycharm": {
     "name": "#%%\n"
    }
   }
  },
  {
   "cell_type": "markdown",
   "source": [
    "### 2.3 Drop the Pair-positive columns (both directions)"
   ],
   "metadata": {
    "collapsed": false
   }
  },
  {
   "cell_type": "code",
   "execution_count": 9,
   "outputs": [
    {
     "data": {
      "text/plain": "  target_relation  true_label_frequency  noisy_label_frequency  \\\n0         actedin                   0.3                    0.1   \n1         actedin                   0.3                    0.2   \n2         actedin                   0.3                    0.3   \n3         actedin                   0.3                    0.4   \n4         actedin                   0.3                    0.5   \n\n                            Rule  random_trial_index       ICW    $conf$  \\\n0  actedin(A,B) :- directed(A,B)                   8  0.301040  0.101806   \n1  actedin(A,B) :- directed(A,B)                   8  0.150520  0.101806   \n2  actedin(A,B) :- directed(A,B)                   8  0.100347  0.101806   \n3  actedin(A,B) :- directed(A,B)                   8  0.075260  0.101806   \n4  actedin(A,B) :- directed(A,B)                   8  0.060208  0.101806   \n\n   PCA ${p^{-1}}$       IPW  IPW-PCA $p$  IPW-PCA ${p^{-1}}$       CWA  \\\n0        0.040352  0.301040     0.166163            0.166163  0.030104   \n1        0.040352  0.150520     0.166163            0.166163  0.030104   \n2        0.040352  0.100347     0.166163            0.166163  0.030104   \n3        0.040352  0.075260     0.166163            0.166163  0.030104   \n4        0.040352  0.060208     0.166163            0.166163  0.030104   \n\n    PCA $p$  \n0  0.166163  \n1  0.166163  \n2  0.166163  \n3  0.166163  \n4  0.166163  ",
      "text/html": "<div>\n<style scoped>\n    .dataframe tbody tr th:only-of-type {\n        vertical-align: middle;\n    }\n\n    .dataframe tbody tr th {\n        vertical-align: top;\n    }\n\n    .dataframe thead th {\n        text-align: right;\n    }\n</style>\n<table border=\"1\" class=\"dataframe\">\n  <thead>\n    <tr style=\"text-align: right;\">\n      <th></th>\n      <th>target_relation</th>\n      <th>true_label_frequency</th>\n      <th>noisy_label_frequency</th>\n      <th>Rule</th>\n      <th>random_trial_index</th>\n      <th>ICW</th>\n      <th>$conf$</th>\n      <th>PCA ${p^{-1}}$</th>\n      <th>IPW</th>\n      <th>IPW-PCA $p$</th>\n      <th>IPW-PCA ${p^{-1}}$</th>\n      <th>CWA</th>\n      <th>PCA $p$</th>\n    </tr>\n  </thead>\n  <tbody>\n    <tr>\n      <th>0</th>\n      <td>actedin</td>\n      <td>0.3</td>\n      <td>0.1</td>\n      <td>actedin(A,B) :- directed(A,B)</td>\n      <td>8</td>\n      <td>0.301040</td>\n      <td>0.101806</td>\n      <td>0.040352</td>\n      <td>0.301040</td>\n      <td>0.166163</td>\n      <td>0.166163</td>\n      <td>0.030104</td>\n      <td>0.166163</td>\n    </tr>\n    <tr>\n      <th>1</th>\n      <td>actedin</td>\n      <td>0.3</td>\n      <td>0.2</td>\n      <td>actedin(A,B) :- directed(A,B)</td>\n      <td>8</td>\n      <td>0.150520</td>\n      <td>0.101806</td>\n      <td>0.040352</td>\n      <td>0.150520</td>\n      <td>0.166163</td>\n      <td>0.166163</td>\n      <td>0.030104</td>\n      <td>0.166163</td>\n    </tr>\n    <tr>\n      <th>2</th>\n      <td>actedin</td>\n      <td>0.3</td>\n      <td>0.3</td>\n      <td>actedin(A,B) :- directed(A,B)</td>\n      <td>8</td>\n      <td>0.100347</td>\n      <td>0.101806</td>\n      <td>0.040352</td>\n      <td>0.100347</td>\n      <td>0.166163</td>\n      <td>0.166163</td>\n      <td>0.030104</td>\n      <td>0.166163</td>\n    </tr>\n    <tr>\n      <th>3</th>\n      <td>actedin</td>\n      <td>0.3</td>\n      <td>0.4</td>\n      <td>actedin(A,B) :- directed(A,B)</td>\n      <td>8</td>\n      <td>0.075260</td>\n      <td>0.101806</td>\n      <td>0.040352</td>\n      <td>0.075260</td>\n      <td>0.166163</td>\n      <td>0.166163</td>\n      <td>0.030104</td>\n      <td>0.166163</td>\n    </tr>\n    <tr>\n      <th>4</th>\n      <td>actedin</td>\n      <td>0.3</td>\n      <td>0.5</td>\n      <td>actedin(A,B) :- directed(A,B)</td>\n      <td>8</td>\n      <td>0.060208</td>\n      <td>0.101806</td>\n      <td>0.040352</td>\n      <td>0.060208</td>\n      <td>0.166163</td>\n      <td>0.166163</td>\n      <td>0.030104</td>\n      <td>0.166163</td>\n    </tr>\n  </tbody>\n</table>\n</div>"
     },
     "execution_count": 9,
     "metadata": {},
     "output_type": "execute_result"
    }
   ],
   "source": [
    "df_rule_wrappers_all_targets.drop(\n",
    "        [ConfidenceEnum.TRUE_CONF_BIAS_YS_ZERO_S_TO_O.value,\n",
    "         ConfidenceEnum.TRUE_CONF_BIAS_YS_ZERO_O_TO_S.value],\n",
    "        axis=1,\n",
    "        inplace=True,\n",
    "        errors='ignore'\n",
    ")\n",
    "df_rule_wrappers_all_targets.head()"
   ],
   "metadata": {
    "collapsed": false,
    "pycharm": {
     "name": "#%%\n"
    }
   }
  },
  {
   "cell_type": "markdown",
   "source": [
    "### 2.4 Drop the IPW-PCA columns (both directions)"
   ],
   "metadata": {
    "collapsed": false
   }
  },
  {
   "cell_type": "code",
   "execution_count": 10,
   "outputs": [
    {
     "data": {
      "text/plain": "  target_relation  true_label_frequency  noisy_label_frequency  \\\n0         actedin                   0.3                    0.1   \n1         actedin                   0.3                    0.2   \n2         actedin                   0.3                    0.3   \n3         actedin                   0.3                    0.4   \n4         actedin                   0.3                    0.5   \n\n                            Rule  random_trial_index       ICW    $conf$  \\\n0  actedin(A,B) :- directed(A,B)                   8  0.301040  0.101806   \n1  actedin(A,B) :- directed(A,B)                   8  0.150520  0.101806   \n2  actedin(A,B) :- directed(A,B)                   8  0.100347  0.101806   \n3  actedin(A,B) :- directed(A,B)                   8  0.075260  0.101806   \n4  actedin(A,B) :- directed(A,B)                   8  0.060208  0.101806   \n\n   PCA ${p^{-1}}$       IPW       CWA   PCA $p$  \n0        0.040352  0.301040  0.030104  0.166163  \n1        0.040352  0.150520  0.030104  0.166163  \n2        0.040352  0.100347  0.030104  0.166163  \n3        0.040352  0.075260  0.030104  0.166163  \n4        0.040352  0.060208  0.030104  0.166163  ",
      "text/html": "<div>\n<style scoped>\n    .dataframe tbody tr th:only-of-type {\n        vertical-align: middle;\n    }\n\n    .dataframe tbody tr th {\n        vertical-align: top;\n    }\n\n    .dataframe thead th {\n        text-align: right;\n    }\n</style>\n<table border=\"1\" class=\"dataframe\">\n  <thead>\n    <tr style=\"text-align: right;\">\n      <th></th>\n      <th>target_relation</th>\n      <th>true_label_frequency</th>\n      <th>noisy_label_frequency</th>\n      <th>Rule</th>\n      <th>random_trial_index</th>\n      <th>ICW</th>\n      <th>$conf$</th>\n      <th>PCA ${p^{-1}}$</th>\n      <th>IPW</th>\n      <th>CWA</th>\n      <th>PCA $p$</th>\n    </tr>\n  </thead>\n  <tbody>\n    <tr>\n      <th>0</th>\n      <td>actedin</td>\n      <td>0.3</td>\n      <td>0.1</td>\n      <td>actedin(A,B) :- directed(A,B)</td>\n      <td>8</td>\n      <td>0.301040</td>\n      <td>0.101806</td>\n      <td>0.040352</td>\n      <td>0.301040</td>\n      <td>0.030104</td>\n      <td>0.166163</td>\n    </tr>\n    <tr>\n      <th>1</th>\n      <td>actedin</td>\n      <td>0.3</td>\n      <td>0.2</td>\n      <td>actedin(A,B) :- directed(A,B)</td>\n      <td>8</td>\n      <td>0.150520</td>\n      <td>0.101806</td>\n      <td>0.040352</td>\n      <td>0.150520</td>\n      <td>0.030104</td>\n      <td>0.166163</td>\n    </tr>\n    <tr>\n      <th>2</th>\n      <td>actedin</td>\n      <td>0.3</td>\n      <td>0.3</td>\n      <td>actedin(A,B) :- directed(A,B)</td>\n      <td>8</td>\n      <td>0.100347</td>\n      <td>0.101806</td>\n      <td>0.040352</td>\n      <td>0.100347</td>\n      <td>0.030104</td>\n      <td>0.166163</td>\n    </tr>\n    <tr>\n      <th>3</th>\n      <td>actedin</td>\n      <td>0.3</td>\n      <td>0.4</td>\n      <td>actedin(A,B) :- directed(A,B)</td>\n      <td>8</td>\n      <td>0.075260</td>\n      <td>0.101806</td>\n      <td>0.040352</td>\n      <td>0.075260</td>\n      <td>0.030104</td>\n      <td>0.166163</td>\n    </tr>\n    <tr>\n      <th>4</th>\n      <td>actedin</td>\n      <td>0.3</td>\n      <td>0.5</td>\n      <td>actedin(A,B) :- directed(A,B)</td>\n      <td>8</td>\n      <td>0.060208</td>\n      <td>0.101806</td>\n      <td>0.040352</td>\n      <td>0.060208</td>\n      <td>0.030104</td>\n      <td>0.166163</td>\n    </tr>\n  </tbody>\n</table>\n</div>"
     },
     "execution_count": 10,
     "metadata": {},
     "output_type": "execute_result"
    }
   ],
   "source": [
    "df_rule_wrappers_all_targets.drop(\n",
    "        [ConfidenceEnum.IPW_PCA_CONF_S_TO_O.value,\n",
    "         ConfidenceEnum.IPW_PCA_CONF_O_TO_S.value],\n",
    "        axis=1,\n",
    "        inplace=True,\n",
    "        errors='ignore'\n",
    ")\n",
    "df_rule_wrappers_all_targets.head()"
   ],
   "metadata": {
    "collapsed": false,
    "pycharm": {
     "name": "#%%\n"
    }
   }
  },
  {
   "cell_type": "markdown",
   "source": [
    "### 2.4 Drop the ICW column"
   ],
   "metadata": {
    "collapsed": false
   }
  },
  {
   "cell_type": "code",
   "execution_count": 11,
   "outputs": [
    {
     "data": {
      "text/plain": "  target_relation  true_label_frequency  noisy_label_frequency  \\\n0         actedin                   0.3                    0.1   \n1         actedin                   0.3                    0.2   \n2         actedin                   0.3                    0.3   \n3         actedin                   0.3                    0.4   \n4         actedin                   0.3                    0.5   \n\n                            Rule  random_trial_index    $conf$  \\\n0  actedin(A,B) :- directed(A,B)                   8  0.101806   \n1  actedin(A,B) :- directed(A,B)                   8  0.101806   \n2  actedin(A,B) :- directed(A,B)                   8  0.101806   \n3  actedin(A,B) :- directed(A,B)                   8  0.101806   \n4  actedin(A,B) :- directed(A,B)                   8  0.101806   \n\n   PCA ${p^{-1}}$       IPW       CWA   PCA $p$  \n0        0.040352  0.301040  0.030104  0.166163  \n1        0.040352  0.150520  0.030104  0.166163  \n2        0.040352  0.100347  0.030104  0.166163  \n3        0.040352  0.075260  0.030104  0.166163  \n4        0.040352  0.060208  0.030104  0.166163  ",
      "text/html": "<div>\n<style scoped>\n    .dataframe tbody tr th:only-of-type {\n        vertical-align: middle;\n    }\n\n    .dataframe tbody tr th {\n        vertical-align: top;\n    }\n\n    .dataframe thead th {\n        text-align: right;\n    }\n</style>\n<table border=\"1\" class=\"dataframe\">\n  <thead>\n    <tr style=\"text-align: right;\">\n      <th></th>\n      <th>target_relation</th>\n      <th>true_label_frequency</th>\n      <th>noisy_label_frequency</th>\n      <th>Rule</th>\n      <th>random_trial_index</th>\n      <th>$conf$</th>\n      <th>PCA ${p^{-1}}$</th>\n      <th>IPW</th>\n      <th>CWA</th>\n      <th>PCA $p$</th>\n    </tr>\n  </thead>\n  <tbody>\n    <tr>\n      <th>0</th>\n      <td>actedin</td>\n      <td>0.3</td>\n      <td>0.1</td>\n      <td>actedin(A,B) :- directed(A,B)</td>\n      <td>8</td>\n      <td>0.101806</td>\n      <td>0.040352</td>\n      <td>0.301040</td>\n      <td>0.030104</td>\n      <td>0.166163</td>\n    </tr>\n    <tr>\n      <th>1</th>\n      <td>actedin</td>\n      <td>0.3</td>\n      <td>0.2</td>\n      <td>actedin(A,B) :- directed(A,B)</td>\n      <td>8</td>\n      <td>0.101806</td>\n      <td>0.040352</td>\n      <td>0.150520</td>\n      <td>0.030104</td>\n      <td>0.166163</td>\n    </tr>\n    <tr>\n      <th>2</th>\n      <td>actedin</td>\n      <td>0.3</td>\n      <td>0.3</td>\n      <td>actedin(A,B) :- directed(A,B)</td>\n      <td>8</td>\n      <td>0.101806</td>\n      <td>0.040352</td>\n      <td>0.100347</td>\n      <td>0.030104</td>\n      <td>0.166163</td>\n    </tr>\n    <tr>\n      <th>3</th>\n      <td>actedin</td>\n      <td>0.3</td>\n      <td>0.4</td>\n      <td>actedin(A,B) :- directed(A,B)</td>\n      <td>8</td>\n      <td>0.101806</td>\n      <td>0.040352</td>\n      <td>0.075260</td>\n      <td>0.030104</td>\n      <td>0.166163</td>\n    </tr>\n    <tr>\n      <th>4</th>\n      <td>actedin</td>\n      <td>0.3</td>\n      <td>0.5</td>\n      <td>actedin(A,B) :- directed(A,B)</td>\n      <td>8</td>\n      <td>0.101806</td>\n      <td>0.040352</td>\n      <td>0.060208</td>\n      <td>0.030104</td>\n      <td>0.166163</td>\n    </tr>\n  </tbody>\n</table>\n</div>"
     },
     "execution_count": 11,
     "metadata": {},
     "output_type": "execute_result"
    }
   ],
   "source": [
    "df_rule_wrappers_all_targets.drop(\n",
    "        [ConfidenceEnum.ICW_CONF.value],\n",
    "        axis=1,\n",
    "        inplace=True,\n",
    "        errors='ignore'\n",
    ")\n",
    "df_rule_wrappers_all_targets.head()\n"
   ],
   "metadata": {
    "collapsed": false,
    "pycharm": {
     "name": "#%%\n"
    }
   }
  },
  {
   "cell_type": "markdown",
   "source": [
    "### 2.4 Only use rules with 10 trials"
   ],
   "metadata": {
    "collapsed": false
   }
  },
  {
   "cell_type": "code",
   "execution_count": 12,
   "outputs": [],
   "source": [
    "df_count_trials: pd.DataFrame = df_rule_wrappers_all_targets[\n",
    "      [\n",
    "        \"target_relation\",\n",
    "        'true_label_frequency',\n",
    "        'noisy_label_frequency',\n",
    "        \"Rule\",\n",
    "        \"random_trial_index\"\n",
    "    ]\n",
    "].groupby(\n",
    "    [\n",
    "        \"target_relation\",\n",
    "        'true_label_frequency',\n",
    "        'noisy_label_frequency',\n",
    "        \"Rule\",\n",
    "    ]\n",
    ").count().reset_index()"
   ],
   "metadata": {
    "collapsed": false,
    "pycharm": {
     "name": "#%%\n"
    }
   }
  },
  {
   "cell_type": "code",
   "execution_count": 13,
   "outputs": [
    {
     "data": {
      "text/plain": "    target_relation  true_label_frequency  noisy_label_frequency  \\\n540  isaffiliatedto                   0.3                    0.1   \n541  isaffiliatedto                   0.3                    0.2   \n542  isaffiliatedto                   0.3                    0.3   \n543  isaffiliatedto                   0.3                    0.4   \n544  isaffiliatedto                   0.3                    0.5   \n545  isaffiliatedto                   0.3                    0.6   \n546  isaffiliatedto                   0.3                    0.7   \n547  isaffiliatedto                   0.3                    0.8   \n548  isaffiliatedto                   0.3                    0.9   \n549  isaffiliatedto                   0.3                    1.0   \n550  isaffiliatedto                   0.7                    0.1   \n551  isaffiliatedto                   0.7                    0.2   \n552  isaffiliatedto                   0.7                    0.3   \n553  isaffiliatedto                   0.7                    0.4   \n554  isaffiliatedto                   0.7                    0.5   \n555  isaffiliatedto                   0.7                    0.6   \n556  isaffiliatedto                   0.7                    0.7   \n557  isaffiliatedto                   0.7                    0.8   \n558  isaffiliatedto                   0.7                    0.9   \n559  isaffiliatedto                   0.7                    1.0   \n900        playsfor                   0.7                    0.1   \n901        playsfor                   0.7                    0.2   \n902        playsfor                   0.7                    0.3   \n903        playsfor                   0.7                    0.4   \n904        playsfor                   0.7                    0.5   \n905        playsfor                   0.7                    0.6   \n906        playsfor                   0.7                    0.7   \n907        playsfor                   0.7                    0.8   \n908        playsfor                   0.7                    0.9   \n909        playsfor                   0.7                    1.0   \n\n                                     Rule  random_trial_index  \n540  isaffiliatedto(A,B) :- playsfor(A,B)                   9  \n541  isaffiliatedto(A,B) :- playsfor(A,B)                   9  \n542  isaffiliatedto(A,B) :- playsfor(A,B)                   9  \n543  isaffiliatedto(A,B) :- playsfor(A,B)                   9  \n544  isaffiliatedto(A,B) :- playsfor(A,B)                   9  \n545  isaffiliatedto(A,B) :- playsfor(A,B)                   9  \n546  isaffiliatedto(A,B) :- playsfor(A,B)                   9  \n547  isaffiliatedto(A,B) :- playsfor(A,B)                   9  \n548  isaffiliatedto(A,B) :- playsfor(A,B)                   9  \n549  isaffiliatedto(A,B) :- playsfor(A,B)                   9  \n550  isaffiliatedto(A,B) :- playsfor(A,B)                   5  \n551  isaffiliatedto(A,B) :- playsfor(A,B)                   5  \n552  isaffiliatedto(A,B) :- playsfor(A,B)                   5  \n553  isaffiliatedto(A,B) :- playsfor(A,B)                   5  \n554  isaffiliatedto(A,B) :- playsfor(A,B)                   5  \n555  isaffiliatedto(A,B) :- playsfor(A,B)                   5  \n556  isaffiliatedto(A,B) :- playsfor(A,B)                   5  \n557  isaffiliatedto(A,B) :- playsfor(A,B)                   5  \n558  isaffiliatedto(A,B) :- playsfor(A,B)                   5  \n559  isaffiliatedto(A,B) :- playsfor(A,B)                   5  \n900  playsfor(A,B) :- isaffiliatedto(A,B)                   5  \n901  playsfor(A,B) :- isaffiliatedto(A,B)                   5  \n902  playsfor(A,B) :- isaffiliatedto(A,B)                   5  \n903  playsfor(A,B) :- isaffiliatedto(A,B)                   5  \n904  playsfor(A,B) :- isaffiliatedto(A,B)                   5  \n905  playsfor(A,B) :- isaffiliatedto(A,B)                   5  \n906  playsfor(A,B) :- isaffiliatedto(A,B)                   5  \n907  playsfor(A,B) :- isaffiliatedto(A,B)                   5  \n908  playsfor(A,B) :- isaffiliatedto(A,B)                   5  \n909  playsfor(A,B) :- isaffiliatedto(A,B)                   5  ",
      "text/html": "<div>\n<style scoped>\n    .dataframe tbody tr th:only-of-type {\n        vertical-align: middle;\n    }\n\n    .dataframe tbody tr th {\n        vertical-align: top;\n    }\n\n    .dataframe thead th {\n        text-align: right;\n    }\n</style>\n<table border=\"1\" class=\"dataframe\">\n  <thead>\n    <tr style=\"text-align: right;\">\n      <th></th>\n      <th>target_relation</th>\n      <th>true_label_frequency</th>\n      <th>noisy_label_frequency</th>\n      <th>Rule</th>\n      <th>random_trial_index</th>\n    </tr>\n  </thead>\n  <tbody>\n    <tr>\n      <th>540</th>\n      <td>isaffiliatedto</td>\n      <td>0.3</td>\n      <td>0.1</td>\n      <td>isaffiliatedto(A,B) :- playsfor(A,B)</td>\n      <td>9</td>\n    </tr>\n    <tr>\n      <th>541</th>\n      <td>isaffiliatedto</td>\n      <td>0.3</td>\n      <td>0.2</td>\n      <td>isaffiliatedto(A,B) :- playsfor(A,B)</td>\n      <td>9</td>\n    </tr>\n    <tr>\n      <th>542</th>\n      <td>isaffiliatedto</td>\n      <td>0.3</td>\n      <td>0.3</td>\n      <td>isaffiliatedto(A,B) :- playsfor(A,B)</td>\n      <td>9</td>\n    </tr>\n    <tr>\n      <th>543</th>\n      <td>isaffiliatedto</td>\n      <td>0.3</td>\n      <td>0.4</td>\n      <td>isaffiliatedto(A,B) :- playsfor(A,B)</td>\n      <td>9</td>\n    </tr>\n    <tr>\n      <th>544</th>\n      <td>isaffiliatedto</td>\n      <td>0.3</td>\n      <td>0.5</td>\n      <td>isaffiliatedto(A,B) :- playsfor(A,B)</td>\n      <td>9</td>\n    </tr>\n    <tr>\n      <th>545</th>\n      <td>isaffiliatedto</td>\n      <td>0.3</td>\n      <td>0.6</td>\n      <td>isaffiliatedto(A,B) :- playsfor(A,B)</td>\n      <td>9</td>\n    </tr>\n    <tr>\n      <th>546</th>\n      <td>isaffiliatedto</td>\n      <td>0.3</td>\n      <td>0.7</td>\n      <td>isaffiliatedto(A,B) :- playsfor(A,B)</td>\n      <td>9</td>\n    </tr>\n    <tr>\n      <th>547</th>\n      <td>isaffiliatedto</td>\n      <td>0.3</td>\n      <td>0.8</td>\n      <td>isaffiliatedto(A,B) :- playsfor(A,B)</td>\n      <td>9</td>\n    </tr>\n    <tr>\n      <th>548</th>\n      <td>isaffiliatedto</td>\n      <td>0.3</td>\n      <td>0.9</td>\n      <td>isaffiliatedto(A,B) :- playsfor(A,B)</td>\n      <td>9</td>\n    </tr>\n    <tr>\n      <th>549</th>\n      <td>isaffiliatedto</td>\n      <td>0.3</td>\n      <td>1.0</td>\n      <td>isaffiliatedto(A,B) :- playsfor(A,B)</td>\n      <td>9</td>\n    </tr>\n    <tr>\n      <th>550</th>\n      <td>isaffiliatedto</td>\n      <td>0.7</td>\n      <td>0.1</td>\n      <td>isaffiliatedto(A,B) :- playsfor(A,B)</td>\n      <td>5</td>\n    </tr>\n    <tr>\n      <th>551</th>\n      <td>isaffiliatedto</td>\n      <td>0.7</td>\n      <td>0.2</td>\n      <td>isaffiliatedto(A,B) :- playsfor(A,B)</td>\n      <td>5</td>\n    </tr>\n    <tr>\n      <th>552</th>\n      <td>isaffiliatedto</td>\n      <td>0.7</td>\n      <td>0.3</td>\n      <td>isaffiliatedto(A,B) :- playsfor(A,B)</td>\n      <td>5</td>\n    </tr>\n    <tr>\n      <th>553</th>\n      <td>isaffiliatedto</td>\n      <td>0.7</td>\n      <td>0.4</td>\n      <td>isaffiliatedto(A,B) :- playsfor(A,B)</td>\n      <td>5</td>\n    </tr>\n    <tr>\n      <th>554</th>\n      <td>isaffiliatedto</td>\n      <td>0.7</td>\n      <td>0.5</td>\n      <td>isaffiliatedto(A,B) :- playsfor(A,B)</td>\n      <td>5</td>\n    </tr>\n    <tr>\n      <th>555</th>\n      <td>isaffiliatedto</td>\n      <td>0.7</td>\n      <td>0.6</td>\n      <td>isaffiliatedto(A,B) :- playsfor(A,B)</td>\n      <td>5</td>\n    </tr>\n    <tr>\n      <th>556</th>\n      <td>isaffiliatedto</td>\n      <td>0.7</td>\n      <td>0.7</td>\n      <td>isaffiliatedto(A,B) :- playsfor(A,B)</td>\n      <td>5</td>\n    </tr>\n    <tr>\n      <th>557</th>\n      <td>isaffiliatedto</td>\n      <td>0.7</td>\n      <td>0.8</td>\n      <td>isaffiliatedto(A,B) :- playsfor(A,B)</td>\n      <td>5</td>\n    </tr>\n    <tr>\n      <th>558</th>\n      <td>isaffiliatedto</td>\n      <td>0.7</td>\n      <td>0.9</td>\n      <td>isaffiliatedto(A,B) :- playsfor(A,B)</td>\n      <td>5</td>\n    </tr>\n    <tr>\n      <th>559</th>\n      <td>isaffiliatedto</td>\n      <td>0.7</td>\n      <td>1.0</td>\n      <td>isaffiliatedto(A,B) :- playsfor(A,B)</td>\n      <td>5</td>\n    </tr>\n    <tr>\n      <th>900</th>\n      <td>playsfor</td>\n      <td>0.7</td>\n      <td>0.1</td>\n      <td>playsfor(A,B) :- isaffiliatedto(A,B)</td>\n      <td>5</td>\n    </tr>\n    <tr>\n      <th>901</th>\n      <td>playsfor</td>\n      <td>0.7</td>\n      <td>0.2</td>\n      <td>playsfor(A,B) :- isaffiliatedto(A,B)</td>\n      <td>5</td>\n    </tr>\n    <tr>\n      <th>902</th>\n      <td>playsfor</td>\n      <td>0.7</td>\n      <td>0.3</td>\n      <td>playsfor(A,B) :- isaffiliatedto(A,B)</td>\n      <td>5</td>\n    </tr>\n    <tr>\n      <th>903</th>\n      <td>playsfor</td>\n      <td>0.7</td>\n      <td>0.4</td>\n      <td>playsfor(A,B) :- isaffiliatedto(A,B)</td>\n      <td>5</td>\n    </tr>\n    <tr>\n      <th>904</th>\n      <td>playsfor</td>\n      <td>0.7</td>\n      <td>0.5</td>\n      <td>playsfor(A,B) :- isaffiliatedto(A,B)</td>\n      <td>5</td>\n    </tr>\n    <tr>\n      <th>905</th>\n      <td>playsfor</td>\n      <td>0.7</td>\n      <td>0.6</td>\n      <td>playsfor(A,B) :- isaffiliatedto(A,B)</td>\n      <td>5</td>\n    </tr>\n    <tr>\n      <th>906</th>\n      <td>playsfor</td>\n      <td>0.7</td>\n      <td>0.7</td>\n      <td>playsfor(A,B) :- isaffiliatedto(A,B)</td>\n      <td>5</td>\n    </tr>\n    <tr>\n      <th>907</th>\n      <td>playsfor</td>\n      <td>0.7</td>\n      <td>0.8</td>\n      <td>playsfor(A,B) :- isaffiliatedto(A,B)</td>\n      <td>5</td>\n    </tr>\n    <tr>\n      <th>908</th>\n      <td>playsfor</td>\n      <td>0.7</td>\n      <td>0.9</td>\n      <td>playsfor(A,B) :- isaffiliatedto(A,B)</td>\n      <td>5</td>\n    </tr>\n    <tr>\n      <th>909</th>\n      <td>playsfor</td>\n      <td>0.7</td>\n      <td>1.0</td>\n      <td>playsfor(A,B) :- isaffiliatedto(A,B)</td>\n      <td>5</td>\n    </tr>\n  </tbody>\n</table>\n</div>"
     },
     "execution_count": 13,
     "metadata": {},
     "output_type": "execute_result"
    }
   ],
   "source": [
    "df_less_than_ten_trials: pd.DataFrame = df_count_trials[df_count_trials[\"random_trial_index\"].values != 10]\n",
    "df_less_than_ten_trials"
   ],
   "metadata": {
    "collapsed": false,
    "pycharm": {
     "name": "#%%\n"
    }
   }
  },
  {
   "cell_type": "code",
   "execution_count": 14,
   "outputs": [
    {
     "data": {
      "text/plain": "    target_relation                                  Rule\n540  isaffiliatedto  isaffiliatedto(A,B) :- playsfor(A,B)\n900        playsfor  playsfor(A,B) :- isaffiliatedto(A,B)",
      "text/html": "<div>\n<style scoped>\n    .dataframe tbody tr th:only-of-type {\n        vertical-align: middle;\n    }\n\n    .dataframe tbody tr th {\n        vertical-align: top;\n    }\n\n    .dataframe thead th {\n        text-align: right;\n    }\n</style>\n<table border=\"1\" class=\"dataframe\">\n  <thead>\n    <tr style=\"text-align: right;\">\n      <th></th>\n      <th>target_relation</th>\n      <th>Rule</th>\n    </tr>\n  </thead>\n  <tbody>\n    <tr>\n      <th>540</th>\n      <td>isaffiliatedto</td>\n      <td>isaffiliatedto(A,B) :- playsfor(A,B)</td>\n    </tr>\n    <tr>\n      <th>900</th>\n      <td>playsfor</td>\n      <td>playsfor(A,B) :- isaffiliatedto(A,B)</td>\n    </tr>\n  </tbody>\n</table>\n</div>"
     },
     "execution_count": 14,
     "metadata": {},
     "output_type": "execute_result"
    }
   ],
   "source": [
    "df_less_than_ten_trials_filter_info = df_less_than_ten_trials[[\"target_relation\", \"Rule\"]].drop_duplicates()\n",
    "df_less_than_ten_trials_filter_info.head()"
   ],
   "metadata": {
    "collapsed": false,
    "pycharm": {
     "name": "#%%\n"
    }
   }
  },
  {
   "cell_type": "code",
   "execution_count": 15,
   "outputs": [
    {
     "data": {
      "text/plain": "  target_relation  true_label_frequency  noisy_label_frequency  \\\n0         actedin                   0.3                    0.1   \n1         actedin                   0.3                    0.2   \n2         actedin                   0.3                    0.3   \n3         actedin                   0.3                    0.4   \n4         actedin                   0.3                    0.5   \n\n                            Rule  random_trial_index    $conf$  \\\n0  actedin(A,B) :- directed(A,B)                   8  0.101806   \n1  actedin(A,B) :- directed(A,B)                   8  0.101806   \n2  actedin(A,B) :- directed(A,B)                   8  0.101806   \n3  actedin(A,B) :- directed(A,B)                   8  0.101806   \n4  actedin(A,B) :- directed(A,B)                   8  0.101806   \n\n   PCA ${p^{-1}}$       IPW       CWA   PCA $p$  \n0        0.040352  0.301040  0.030104  0.166163  \n1        0.040352  0.150520  0.030104  0.166163  \n2        0.040352  0.100347  0.030104  0.166163  \n3        0.040352  0.075260  0.030104  0.166163  \n4        0.040352  0.060208  0.030104  0.166163  ",
      "text/html": "<div>\n<style scoped>\n    .dataframe tbody tr th:only-of-type {\n        vertical-align: middle;\n    }\n\n    .dataframe tbody tr th {\n        vertical-align: top;\n    }\n\n    .dataframe thead th {\n        text-align: right;\n    }\n</style>\n<table border=\"1\" class=\"dataframe\">\n  <thead>\n    <tr style=\"text-align: right;\">\n      <th></th>\n      <th>target_relation</th>\n      <th>true_label_frequency</th>\n      <th>noisy_label_frequency</th>\n      <th>Rule</th>\n      <th>random_trial_index</th>\n      <th>$conf$</th>\n      <th>PCA ${p^{-1}}$</th>\n      <th>IPW</th>\n      <th>CWA</th>\n      <th>PCA $p$</th>\n    </tr>\n  </thead>\n  <tbody>\n    <tr>\n      <th>0</th>\n      <td>actedin</td>\n      <td>0.3</td>\n      <td>0.1</td>\n      <td>actedin(A,B) :- directed(A,B)</td>\n      <td>8</td>\n      <td>0.101806</td>\n      <td>0.040352</td>\n      <td>0.301040</td>\n      <td>0.030104</td>\n      <td>0.166163</td>\n    </tr>\n    <tr>\n      <th>1</th>\n      <td>actedin</td>\n      <td>0.3</td>\n      <td>0.2</td>\n      <td>actedin(A,B) :- directed(A,B)</td>\n      <td>8</td>\n      <td>0.101806</td>\n      <td>0.040352</td>\n      <td>0.150520</td>\n      <td>0.030104</td>\n      <td>0.166163</td>\n    </tr>\n    <tr>\n      <th>2</th>\n      <td>actedin</td>\n      <td>0.3</td>\n      <td>0.3</td>\n      <td>actedin(A,B) :- directed(A,B)</td>\n      <td>8</td>\n      <td>0.101806</td>\n      <td>0.040352</td>\n      <td>0.100347</td>\n      <td>0.030104</td>\n      <td>0.166163</td>\n    </tr>\n    <tr>\n      <th>3</th>\n      <td>actedin</td>\n      <td>0.3</td>\n      <td>0.4</td>\n      <td>actedin(A,B) :- directed(A,B)</td>\n      <td>8</td>\n      <td>0.101806</td>\n      <td>0.040352</td>\n      <td>0.075260</td>\n      <td>0.030104</td>\n      <td>0.166163</td>\n    </tr>\n    <tr>\n      <th>4</th>\n      <td>actedin</td>\n      <td>0.3</td>\n      <td>0.5</td>\n      <td>actedin(A,B) :- directed(A,B)</td>\n      <td>8</td>\n      <td>0.101806</td>\n      <td>0.040352</td>\n      <td>0.060208</td>\n      <td>0.030104</td>\n      <td>0.166163</td>\n    </tr>\n  </tbody>\n</table>\n</div>"
     },
     "execution_count": 15,
     "metadata": {},
     "output_type": "execute_result"
    }
   ],
   "source": [
    "for row_index, row in df_less_than_ten_trials_filter_info.iterrows():\n",
    "    target_relation = row[\"target_relation\"]\n",
    "    rule = row[\"Rule\"]\n",
    "    df_rule_wrappers_all_targets = df_rule_wrappers_all_targets[\n",
    "        ~(\n",
    "        (df_rule_wrappers_all_targets[\"target_relation\"] == target_relation)\n",
    "        &\n",
    "        (df_rule_wrappers_all_targets[\"Rule\"]==rule)\n",
    "        )\n",
    "    ]\n",
    "df_rule_wrappers_all_targets.head()"
   ],
   "metadata": {
    "collapsed": false,
    "pycharm": {
     "name": "#%%\n"
    }
   }
  },
  {
   "cell_type": "code",
   "execution_count": 15,
   "outputs": [],
   "source": [],
   "metadata": {
    "collapsed": false,
    "pycharm": {
     "name": "#%%\n"
    }
   }
  },
  {
   "cell_type": "markdown",
   "source": [
    "**Now, we have the full dataframe**\n",
    "\n",
    "****"
   ],
   "metadata": {
    "collapsed": false
   }
  },
  {
   "cell_type": "markdown",
   "source": [
    "## Calculate $[conf(R) - \\widehat{conf}(R)]$"
   ],
   "metadata": {
    "collapsed": false
   }
  },
  {
   "cell_type": "code",
   "execution_count": 16,
   "outputs": [],
   "source": [
    "true_conf: ConfidenceEnum = ConfidenceEnum.TRUE_CONF\n",
    "\n",
    "conf_estimators_list: List[ConfidenceEnum] = [\n",
    "    ConfidenceEnum.CWA_CONF,\n",
    "    # ConfidenceEnum.ICW_CONF,\n",
    "    ConfidenceEnum.PCA_CONF_S_TO_O,\n",
    "    ConfidenceEnum.PCA_CONF_O_TO_S,\n",
    "     ConfidenceEnum.IPW_CONF,\n",
    "]\n",
    "all_confs_list: List[ConfidenceEnum] = [ConfidenceEnum.TRUE_CONF ] + conf_estimators_list\n",
    "\n",
    "column_names_all_confs: List[str] = [\n",
    "    conf.get_name()\n",
    "    for conf in all_confs_list\n",
    "]"
   ],
   "metadata": {
    "collapsed": false,
    "pycharm": {
     "name": "#%%\n"
    }
   }
  },
  {
   "cell_type": "code",
   "execution_count": 17,
   "outputs": [
    {
     "data": {
      "text/plain": "  target_relation  true_label_frequency  noisy_label_frequency  \\\n0         actedin                   0.3                    0.1   \n1         actedin                   0.3                    0.2   \n2         actedin                   0.3                    0.3   \n3         actedin                   0.3                    0.4   \n4         actedin                   0.3                    0.5   \n\n                            Rule  random_trial_index    $conf$       CWA  \\\n0  actedin(A,B) :- directed(A,B)                   8  0.101806  0.030104   \n1  actedin(A,B) :- directed(A,B)                   8  0.101806  0.030104   \n2  actedin(A,B) :- directed(A,B)                   8  0.101806  0.030104   \n3  actedin(A,B) :- directed(A,B)                   8  0.101806  0.030104   \n4  actedin(A,B) :- directed(A,B)                   8  0.101806  0.030104   \n\n    PCA $p$  PCA ${p^{-1}}$       IPW  \n0  0.166163        0.040352  0.301040  \n1  0.166163        0.040352  0.150520  \n2  0.166163        0.040352  0.100347  \n3  0.166163        0.040352  0.075260  \n4  0.166163        0.040352  0.060208  ",
      "text/html": "<div>\n<style scoped>\n    .dataframe tbody tr th:only-of-type {\n        vertical-align: middle;\n    }\n\n    .dataframe tbody tr th {\n        vertical-align: top;\n    }\n\n    .dataframe thead th {\n        text-align: right;\n    }\n</style>\n<table border=\"1\" class=\"dataframe\">\n  <thead>\n    <tr style=\"text-align: right;\">\n      <th></th>\n      <th>target_relation</th>\n      <th>true_label_frequency</th>\n      <th>noisy_label_frequency</th>\n      <th>Rule</th>\n      <th>random_trial_index</th>\n      <th>$conf$</th>\n      <th>CWA</th>\n      <th>PCA $p$</th>\n      <th>PCA ${p^{-1}}$</th>\n      <th>IPW</th>\n    </tr>\n  </thead>\n  <tbody>\n    <tr>\n      <th>0</th>\n      <td>actedin</td>\n      <td>0.3</td>\n      <td>0.1</td>\n      <td>actedin(A,B) :- directed(A,B)</td>\n      <td>8</td>\n      <td>0.101806</td>\n      <td>0.030104</td>\n      <td>0.166163</td>\n      <td>0.040352</td>\n      <td>0.301040</td>\n    </tr>\n    <tr>\n      <th>1</th>\n      <td>actedin</td>\n      <td>0.3</td>\n      <td>0.2</td>\n      <td>actedin(A,B) :- directed(A,B)</td>\n      <td>8</td>\n      <td>0.101806</td>\n      <td>0.030104</td>\n      <td>0.166163</td>\n      <td>0.040352</td>\n      <td>0.150520</td>\n    </tr>\n    <tr>\n      <th>2</th>\n      <td>actedin</td>\n      <td>0.3</td>\n      <td>0.3</td>\n      <td>actedin(A,B) :- directed(A,B)</td>\n      <td>8</td>\n      <td>0.101806</td>\n      <td>0.030104</td>\n      <td>0.166163</td>\n      <td>0.040352</td>\n      <td>0.100347</td>\n    </tr>\n    <tr>\n      <th>3</th>\n      <td>actedin</td>\n      <td>0.3</td>\n      <td>0.4</td>\n      <td>actedin(A,B) :- directed(A,B)</td>\n      <td>8</td>\n      <td>0.101806</td>\n      <td>0.030104</td>\n      <td>0.166163</td>\n      <td>0.040352</td>\n      <td>0.075260</td>\n    </tr>\n    <tr>\n      <th>4</th>\n      <td>actedin</td>\n      <td>0.3</td>\n      <td>0.5</td>\n      <td>actedin(A,B) :- directed(A,B)</td>\n      <td>8</td>\n      <td>0.101806</td>\n      <td>0.030104</td>\n      <td>0.166163</td>\n      <td>0.040352</td>\n      <td>0.060208</td>\n    </tr>\n  </tbody>\n</table>\n</div>"
     },
     "execution_count": 17,
     "metadata": {},
     "output_type": "execute_result"
    }
   ],
   "source": [
    "df_rule_wrappers_all_targets = df_rule_wrappers_all_targets[\n",
    "    column_names_logistics + column_names_all_confs\n",
    "]\n",
    "df_rule_wrappers_all_targets.head()"
   ],
   "metadata": {
    "collapsed": false,
    "pycharm": {
     "name": "#%%\n"
    }
   }
  },
  {
   "cell_type": "code",
   "execution_count": 18,
   "outputs": [
    {
     "data": {
      "text/plain": "   target_relation  true_label_frequency  noisy_label_frequency  \\\n2          actedin                   0.3                    0.3   \n12         actedin                   0.3                    0.3   \n22         actedin                   0.3                    0.3   \n32         actedin                   0.3                    0.3   \n42         actedin                   0.3                    0.3   \n\n                             Rule  random_trial_index    $conf$       CWA  \\\n2   actedin(A,B) :- directed(A,B)                   8  0.101806  0.030104   \n12  actedin(A,B) :- directed(A,B)                   9  0.101806  0.032841   \n22  actedin(A,B) :- directed(A,B)                   4  0.101806  0.031928   \n32  actedin(A,B) :- directed(A,B)                   6  0.101806  0.029557   \n42  actedin(A,B) :- directed(A,B)                   1  0.101806  0.030834   \n\n     PCA $p$  PCA ${p^{-1}}$       IPW  \n2   0.166163        0.040352  0.100347  \n12  0.172745        0.044042  0.109469  \n22  0.172925        0.042966  0.106428  \n32  0.164969        0.039892  0.098522  \n42  0.167161        0.041852  0.102779  ",
      "text/html": "<div>\n<style scoped>\n    .dataframe tbody tr th:only-of-type {\n        vertical-align: middle;\n    }\n\n    .dataframe tbody tr th {\n        vertical-align: top;\n    }\n\n    .dataframe thead th {\n        text-align: right;\n    }\n</style>\n<table border=\"1\" class=\"dataframe\">\n  <thead>\n    <tr style=\"text-align: right;\">\n      <th></th>\n      <th>target_relation</th>\n      <th>true_label_frequency</th>\n      <th>noisy_label_frequency</th>\n      <th>Rule</th>\n      <th>random_trial_index</th>\n      <th>$conf$</th>\n      <th>CWA</th>\n      <th>PCA $p$</th>\n      <th>PCA ${p^{-1}}$</th>\n      <th>IPW</th>\n    </tr>\n  </thead>\n  <tbody>\n    <tr>\n      <th>2</th>\n      <td>actedin</td>\n      <td>0.3</td>\n      <td>0.3</td>\n      <td>actedin(A,B) :- directed(A,B)</td>\n      <td>8</td>\n      <td>0.101806</td>\n      <td>0.030104</td>\n      <td>0.166163</td>\n      <td>0.040352</td>\n      <td>0.100347</td>\n    </tr>\n    <tr>\n      <th>12</th>\n      <td>actedin</td>\n      <td>0.3</td>\n      <td>0.3</td>\n      <td>actedin(A,B) :- directed(A,B)</td>\n      <td>9</td>\n      <td>0.101806</td>\n      <td>0.032841</td>\n      <td>0.172745</td>\n      <td>0.044042</td>\n      <td>0.109469</td>\n    </tr>\n    <tr>\n      <th>22</th>\n      <td>actedin</td>\n      <td>0.3</td>\n      <td>0.3</td>\n      <td>actedin(A,B) :- directed(A,B)</td>\n      <td>4</td>\n      <td>0.101806</td>\n      <td>0.031928</td>\n      <td>0.172925</td>\n      <td>0.042966</td>\n      <td>0.106428</td>\n    </tr>\n    <tr>\n      <th>32</th>\n      <td>actedin</td>\n      <td>0.3</td>\n      <td>0.3</td>\n      <td>actedin(A,B) :- directed(A,B)</td>\n      <td>6</td>\n      <td>0.101806</td>\n      <td>0.029557</td>\n      <td>0.164969</td>\n      <td>0.039892</td>\n      <td>0.098522</td>\n    </tr>\n    <tr>\n      <th>42</th>\n      <td>actedin</td>\n      <td>0.3</td>\n      <td>0.3</td>\n      <td>actedin(A,B) :- directed(A,B)</td>\n      <td>1</td>\n      <td>0.101806</td>\n      <td>0.030834</td>\n      <td>0.167161</td>\n      <td>0.041852</td>\n      <td>0.102779</td>\n    </tr>\n  </tbody>\n</table>\n</div>"
     },
     "execution_count": 18,
     "metadata": {},
     "output_type": "execute_result"
    }
   ],
   "source": [
    "df_conf_estimators_true_other = df_rule_wrappers_all_targets[\n",
    "    df_rule_wrappers_all_targets[\"true_label_frequency\"]\n",
    "    == df_rule_wrappers_all_targets[\"noisy_label_frequency\"]\n",
    "]\n",
    "df_conf_estimators_true_other.head()"
   ],
   "metadata": {
    "collapsed": false,
    "pycharm": {
     "name": "#%%\n"
    }
   }
  },
  {
   "cell_type": "code",
   "execution_count": 19,
   "outputs": [],
   "source": [
    "column_names_info = ColumnNamesInfo(\n",
    "        true_conf=true_conf,\n",
    "        column_name_true_conf=true_conf.get_name(),\n",
    "        conf_estimators=conf_estimators_list,\n",
    "        column_names_conf_estimators=[\n",
    "            col.get_name()\n",
    "            for col in conf_estimators_list\n",
    "        ],\n",
    "        column_names_logistics=column_names_logistics\n",
    "    )\n"
   ],
   "metadata": {
    "collapsed": false,
    "pycharm": {
     "name": "#%%\n"
    }
   }
  },
  {
   "cell_type": "code",
   "execution_count": 20,
   "outputs": [
    {
     "data": {
      "text/plain": "  target_relation  true_label_frequency  noisy_label_frequency  \\\n0         actedin                   0.3                    0.1   \n1         actedin                   0.3                    0.2   \n2         actedin                   0.3                    0.3   \n3         actedin                   0.3                    0.4   \n4         actedin                   0.3                    0.5   \n\n                            Rule  random_trial_index       CWA   PCA $p$  \\\n0  actedin(A,B) :- directed(A,B)                   8  0.005141  0.004142   \n1  actedin(A,B) :- directed(A,B)                   8  0.005141  0.004142   \n2  actedin(A,B) :- directed(A,B)                   8  0.005141  0.004142   \n3  actedin(A,B) :- directed(A,B)                   8  0.005141  0.004142   \n4  actedin(A,B) :- directed(A,B)                   8  0.005141  0.004142   \n\n   PCA ${p^{-1}}$       IPW  \n0        0.003777  0.039694  \n1        0.003777  0.002373  \n2        0.003777  0.000002  \n3        0.003777  0.000705  \n4        0.003777  0.001730  ",
      "text/html": "<div>\n<style scoped>\n    .dataframe tbody tr th:only-of-type {\n        vertical-align: middle;\n    }\n\n    .dataframe tbody tr th {\n        vertical-align: top;\n    }\n\n    .dataframe thead th {\n        text-align: right;\n    }\n</style>\n<table border=\"1\" class=\"dataframe\">\n  <thead>\n    <tr style=\"text-align: right;\">\n      <th></th>\n      <th>target_relation</th>\n      <th>true_label_frequency</th>\n      <th>noisy_label_frequency</th>\n      <th>Rule</th>\n      <th>random_trial_index</th>\n      <th>CWA</th>\n      <th>PCA $p$</th>\n      <th>PCA ${p^{-1}}$</th>\n      <th>IPW</th>\n    </tr>\n  </thead>\n  <tbody>\n    <tr>\n      <th>0</th>\n      <td>actedin</td>\n      <td>0.3</td>\n      <td>0.1</td>\n      <td>actedin(A,B) :- directed(A,B)</td>\n      <td>8</td>\n      <td>0.005141</td>\n      <td>0.004142</td>\n      <td>0.003777</td>\n      <td>0.039694</td>\n    </tr>\n    <tr>\n      <th>1</th>\n      <td>actedin</td>\n      <td>0.3</td>\n      <td>0.2</td>\n      <td>actedin(A,B) :- directed(A,B)</td>\n      <td>8</td>\n      <td>0.005141</td>\n      <td>0.004142</td>\n      <td>0.003777</td>\n      <td>0.002373</td>\n    </tr>\n    <tr>\n      <th>2</th>\n      <td>actedin</td>\n      <td>0.3</td>\n      <td>0.3</td>\n      <td>actedin(A,B) :- directed(A,B)</td>\n      <td>8</td>\n      <td>0.005141</td>\n      <td>0.004142</td>\n      <td>0.003777</td>\n      <td>0.000002</td>\n    </tr>\n    <tr>\n      <th>3</th>\n      <td>actedin</td>\n      <td>0.3</td>\n      <td>0.4</td>\n      <td>actedin(A,B) :- directed(A,B)</td>\n      <td>8</td>\n      <td>0.005141</td>\n      <td>0.004142</td>\n      <td>0.003777</td>\n      <td>0.000705</td>\n    </tr>\n    <tr>\n      <th>4</th>\n      <td>actedin</td>\n      <td>0.3</td>\n      <td>0.5</td>\n      <td>actedin(A,B) :- directed(A,B)</td>\n      <td>8</td>\n      <td>0.005141</td>\n      <td>0.004142</td>\n      <td>0.003777</td>\n      <td>0.001730</td>\n    </tr>\n  </tbody>\n</table>\n</div>"
     },
     "execution_count": 20,
     "metadata": {},
     "output_type": "execute_result"
    }
   ],
   "source": [
    "def get_df_rulewise_squared_diffs_between_true_conf_and_conf_estimator(\n",
    "        df_rule_wrappers: pd.DataFrame,\n",
    "        column_names_info: ColumnNamesInfo\n",
    ") -> pd.DataFrame:\n",
    "    df_rulewise_diffs_between_true_conf_and_conf_estimator: pd.DataFrame = df_rule_wrappers[\n",
    "        column_names_info.column_names_logistics\n",
    "    ]\n",
    "\n",
    "    col_name_estimator: str\n",
    "    for col_name_estimator in column_names_info.column_names_conf_estimators:\n",
    "        df_rulewise_diffs_between_true_conf_and_conf_estimator \\\n",
    "            = df_rulewise_diffs_between_true_conf_and_conf_estimator.assign(\n",
    "                **{\n",
    "                    col_name_estimator: (\n",
    "                        (df_rule_wrappers[column_names_info.column_name_true_conf]\n",
    "                            - df_rule_wrappers[col_name_estimator]) ** 2\n",
    "                    )\n",
    "                }\n",
    "            )\n",
    "    return df_rulewise_diffs_between_true_conf_and_conf_estimator\n",
    "\n",
    "df_conf_squared_errors: pd.DataFrame = get_df_rulewise_squared_diffs_between_true_conf_and_conf_estimator(\n",
    "    df_rule_wrappers=df_rule_wrappers_all_targets,\n",
    "    column_names_info = column_names_info\n",
    ")\n",
    "df_conf_squared_errors.head()"
   ],
   "metadata": {
    "collapsed": false,
    "pycharm": {
     "name": "#%%\n"
    }
   }
  },
  {
   "cell_type": "markdown",
   "source": [
    "## AVERAGE the PCA(S) and PCA(O)"
   ],
   "metadata": {
    "collapsed": false,
    "pycharm": {
     "name": "#%% md\n"
    }
   }
  },
  {
   "cell_type": "code",
   "execution_count": 21,
   "outputs": [
    {
     "data": {
      "text/plain": "Index(['target_relation', 'true_label_frequency', 'noisy_label_frequency',\n       'Rule', 'random_trial_index', 'CWA', 'PCA $p$', 'PCA ${p^{-1}}$',\n       'IPW'],\n      dtype='object')"
     },
     "execution_count": 21,
     "metadata": {},
     "output_type": "execute_result"
    }
   ],
   "source": [
    "df_conf_squared_errors.columns"
   ],
   "metadata": {
    "collapsed": false,
    "pycharm": {
     "name": "#%%\n"
    }
   }
  },
  {
   "cell_type": "code",
   "execution_count": 22,
   "outputs": [
    {
     "data": {
      "text/plain": "  target_relation  true_label_frequency  noisy_label_frequency  \\\n0         actedin                   0.3                    0.1   \n1         actedin                   0.3                    0.2   \n2         actedin                   0.3                    0.3   \n3         actedin                   0.3                    0.4   \n4         actedin                   0.3                    0.5   \n\n                            Rule  random_trial_index       CWA   PCA $p$  \\\n0  actedin(A,B) :- directed(A,B)                   8  0.005141  0.004142   \n1  actedin(A,B) :- directed(A,B)                   8  0.005141  0.004142   \n2  actedin(A,B) :- directed(A,B)                   8  0.005141  0.004142   \n3  actedin(A,B) :- directed(A,B)                   8  0.005141  0.004142   \n4  actedin(A,B) :- directed(A,B)                   8  0.005141  0.004142   \n\n   PCA ${p^{-1}}$       IPW       PCA  \n0        0.003777  0.039694  0.003959  \n1        0.003777  0.002373  0.003959  \n2        0.003777  0.000002  0.003959  \n3        0.003777  0.000705  0.003959  \n4        0.003777  0.001730  0.003959  ",
      "text/html": "<div>\n<style scoped>\n    .dataframe tbody tr th:only-of-type {\n        vertical-align: middle;\n    }\n\n    .dataframe tbody tr th {\n        vertical-align: top;\n    }\n\n    .dataframe thead th {\n        text-align: right;\n    }\n</style>\n<table border=\"1\" class=\"dataframe\">\n  <thead>\n    <tr style=\"text-align: right;\">\n      <th></th>\n      <th>target_relation</th>\n      <th>true_label_frequency</th>\n      <th>noisy_label_frequency</th>\n      <th>Rule</th>\n      <th>random_trial_index</th>\n      <th>CWA</th>\n      <th>PCA $p$</th>\n      <th>PCA ${p^{-1}}$</th>\n      <th>IPW</th>\n      <th>PCA</th>\n    </tr>\n  </thead>\n  <tbody>\n    <tr>\n      <th>0</th>\n      <td>actedin</td>\n      <td>0.3</td>\n      <td>0.1</td>\n      <td>actedin(A,B) :- directed(A,B)</td>\n      <td>8</td>\n      <td>0.005141</td>\n      <td>0.004142</td>\n      <td>0.003777</td>\n      <td>0.039694</td>\n      <td>0.003959</td>\n    </tr>\n    <tr>\n      <th>1</th>\n      <td>actedin</td>\n      <td>0.3</td>\n      <td>0.2</td>\n      <td>actedin(A,B) :- directed(A,B)</td>\n      <td>8</td>\n      <td>0.005141</td>\n      <td>0.004142</td>\n      <td>0.003777</td>\n      <td>0.002373</td>\n      <td>0.003959</td>\n    </tr>\n    <tr>\n      <th>2</th>\n      <td>actedin</td>\n      <td>0.3</td>\n      <td>0.3</td>\n      <td>actedin(A,B) :- directed(A,B)</td>\n      <td>8</td>\n      <td>0.005141</td>\n      <td>0.004142</td>\n      <td>0.003777</td>\n      <td>0.000002</td>\n      <td>0.003959</td>\n    </tr>\n    <tr>\n      <th>3</th>\n      <td>actedin</td>\n      <td>0.3</td>\n      <td>0.4</td>\n      <td>actedin(A,B) :- directed(A,B)</td>\n      <td>8</td>\n      <td>0.005141</td>\n      <td>0.004142</td>\n      <td>0.003777</td>\n      <td>0.000705</td>\n      <td>0.003959</td>\n    </tr>\n    <tr>\n      <th>4</th>\n      <td>actedin</td>\n      <td>0.3</td>\n      <td>0.5</td>\n      <td>actedin(A,B) :- directed(A,B)</td>\n      <td>8</td>\n      <td>0.005141</td>\n      <td>0.004142</td>\n      <td>0.003777</td>\n      <td>0.001730</td>\n      <td>0.003959</td>\n    </tr>\n  </tbody>\n</table>\n</div>"
     },
     "execution_count": 22,
     "metadata": {},
     "output_type": "execute_result"
    }
   ],
   "source": [
    "df_conf_squared_errors[\"PCA\"] = (\n",
    "    (\n",
    "            df_conf_squared_errors[ConfidenceEnum.PCA_CONF_S_TO_O.value]\n",
    "            +\n",
    "            df_conf_squared_errors[ConfidenceEnum.PCA_CONF_O_TO_S.value]\n",
    "    ) / 2\n",
    ")\n",
    "df_conf_squared_errors.head()"
   ],
   "metadata": {
    "collapsed": false,
    "pycharm": {
     "name": "#%%\n"
    }
   }
  },
  {
   "cell_type": "code",
   "execution_count": 23,
   "outputs": [
    {
     "data": {
      "text/plain": "  target_relation  true_label_frequency  noisy_label_frequency  \\\n0         actedin                   0.3                    0.1   \n1         actedin                   0.3                    0.2   \n2         actedin                   0.3                    0.3   \n3         actedin                   0.3                    0.4   \n4         actedin                   0.3                    0.5   \n\n                            Rule  random_trial_index       CWA       IPW  \\\n0  actedin(A,B) :- directed(A,B)                   8  0.005141  0.039694   \n1  actedin(A,B) :- directed(A,B)                   8  0.005141  0.002373   \n2  actedin(A,B) :- directed(A,B)                   8  0.005141  0.000002   \n3  actedin(A,B) :- directed(A,B)                   8  0.005141  0.000705   \n4  actedin(A,B) :- directed(A,B)                   8  0.005141  0.001730   \n\n        PCA  \n0  0.003959  \n1  0.003959  \n2  0.003959  \n3  0.003959  \n4  0.003959  ",
      "text/html": "<div>\n<style scoped>\n    .dataframe tbody tr th:only-of-type {\n        vertical-align: middle;\n    }\n\n    .dataframe tbody tr th {\n        vertical-align: top;\n    }\n\n    .dataframe thead th {\n        text-align: right;\n    }\n</style>\n<table border=\"1\" class=\"dataframe\">\n  <thead>\n    <tr style=\"text-align: right;\">\n      <th></th>\n      <th>target_relation</th>\n      <th>true_label_frequency</th>\n      <th>noisy_label_frequency</th>\n      <th>Rule</th>\n      <th>random_trial_index</th>\n      <th>CWA</th>\n      <th>IPW</th>\n      <th>PCA</th>\n    </tr>\n  </thead>\n  <tbody>\n    <tr>\n      <th>0</th>\n      <td>actedin</td>\n      <td>0.3</td>\n      <td>0.1</td>\n      <td>actedin(A,B) :- directed(A,B)</td>\n      <td>8</td>\n      <td>0.005141</td>\n      <td>0.039694</td>\n      <td>0.003959</td>\n    </tr>\n    <tr>\n      <th>1</th>\n      <td>actedin</td>\n      <td>0.3</td>\n      <td>0.2</td>\n      <td>actedin(A,B) :- directed(A,B)</td>\n      <td>8</td>\n      <td>0.005141</td>\n      <td>0.002373</td>\n      <td>0.003959</td>\n    </tr>\n    <tr>\n      <th>2</th>\n      <td>actedin</td>\n      <td>0.3</td>\n      <td>0.3</td>\n      <td>actedin(A,B) :- directed(A,B)</td>\n      <td>8</td>\n      <td>0.005141</td>\n      <td>0.000002</td>\n      <td>0.003959</td>\n    </tr>\n    <tr>\n      <th>3</th>\n      <td>actedin</td>\n      <td>0.3</td>\n      <td>0.4</td>\n      <td>actedin(A,B) :- directed(A,B)</td>\n      <td>8</td>\n      <td>0.005141</td>\n      <td>0.000705</td>\n      <td>0.003959</td>\n    </tr>\n    <tr>\n      <th>4</th>\n      <td>actedin</td>\n      <td>0.3</td>\n      <td>0.5</td>\n      <td>actedin(A,B) :- directed(A,B)</td>\n      <td>8</td>\n      <td>0.005141</td>\n      <td>0.001730</td>\n      <td>0.003959</td>\n    </tr>\n  </tbody>\n</table>\n</div>"
     },
     "execution_count": 23,
     "metadata": {},
     "output_type": "execute_result"
    }
   ],
   "source": [
    "df_conf_squared_errors = df_conf_squared_errors.drop(\n",
    "        columns=[\n",
    "            ConfidenceEnum.PCA_CONF_S_TO_O.value,\n",
    "            ConfidenceEnum.PCA_CONF_O_TO_S.value\n",
    "        ],\n",
    "        axis=1,\n",
    "        errors='ignore'\n",
    "    )\n",
    "df_conf_squared_errors.head()"
   ],
   "metadata": {
    "collapsed": false,
    "pycharm": {
     "name": "#%%\n"
    }
   }
  },
  {
   "cell_type": "markdown",
   "source": [
    "# Now start averaging"
   ],
   "metadata": {
    "collapsed": false,
    "pycharm": {
     "name": "#%% md\n"
    }
   }
  },
  {
   "cell_type": "code",
   "execution_count": 24,
   "outputs": [
    {
     "data": {
      "text/plain": "  target_relation  true_label_frequency  noisy_label_frequency  \\\n0         actedin                   0.3                    0.1   \n1         actedin                   0.3                    0.2   \n2         actedin                   0.3                    0.3   \n3         actedin                   0.3                    0.4   \n4         actedin                   0.3                    0.5   \n\n                            Rule  random_trial_index       CWA       IPW  \\\n0  actedin(A,B) :- directed(A,B)                 4.5  0.005044  0.042676   \n1  actedin(A,B) :- directed(A,B)                 4.5  0.005044  0.002766   \n2  actedin(A,B) :- directed(A,B)                 4.5  0.005044  0.000020   \n3  actedin(A,B) :- directed(A,B)                 4.5  0.005044  0.000626   \n4  actedin(A,B) :- directed(A,B)                 4.5  0.005044  0.001624   \n\n        PCA  \n0  0.003983  \n1  0.003983  \n2  0.003983  \n3  0.003983  \n4  0.003983  ",
      "text/html": "<div>\n<style scoped>\n    .dataframe tbody tr th:only-of-type {\n        vertical-align: middle;\n    }\n\n    .dataframe tbody tr th {\n        vertical-align: top;\n    }\n\n    .dataframe thead th {\n        text-align: right;\n    }\n</style>\n<table border=\"1\" class=\"dataframe\">\n  <thead>\n    <tr style=\"text-align: right;\">\n      <th></th>\n      <th>target_relation</th>\n      <th>true_label_frequency</th>\n      <th>noisy_label_frequency</th>\n      <th>Rule</th>\n      <th>random_trial_index</th>\n      <th>CWA</th>\n      <th>IPW</th>\n      <th>PCA</th>\n    </tr>\n  </thead>\n  <tbody>\n    <tr>\n      <th>0</th>\n      <td>actedin</td>\n      <td>0.3</td>\n      <td>0.1</td>\n      <td>actedin(A,B) :- directed(A,B)</td>\n      <td>4.5</td>\n      <td>0.005044</td>\n      <td>0.042676</td>\n      <td>0.003983</td>\n    </tr>\n    <tr>\n      <th>1</th>\n      <td>actedin</td>\n      <td>0.3</td>\n      <td>0.2</td>\n      <td>actedin(A,B) :- directed(A,B)</td>\n      <td>4.5</td>\n      <td>0.005044</td>\n      <td>0.002766</td>\n      <td>0.003983</td>\n    </tr>\n    <tr>\n      <th>2</th>\n      <td>actedin</td>\n      <td>0.3</td>\n      <td>0.3</td>\n      <td>actedin(A,B) :- directed(A,B)</td>\n      <td>4.5</td>\n      <td>0.005044</td>\n      <td>0.000020</td>\n      <td>0.003983</td>\n    </tr>\n    <tr>\n      <th>3</th>\n      <td>actedin</td>\n      <td>0.3</td>\n      <td>0.4</td>\n      <td>actedin(A,B) :- directed(A,B)</td>\n      <td>4.5</td>\n      <td>0.005044</td>\n      <td>0.000626</td>\n      <td>0.003983</td>\n    </tr>\n    <tr>\n      <th>4</th>\n      <td>actedin</td>\n      <td>0.3</td>\n      <td>0.5</td>\n      <td>actedin(A,B) :- directed(A,B)</td>\n      <td>4.5</td>\n      <td>0.005044</td>\n      <td>0.001624</td>\n      <td>0.003983</td>\n    </tr>\n  </tbody>\n</table>\n</div>"
     },
     "execution_count": 24,
     "metadata": {},
     "output_type": "execute_result"
    }
   ],
   "source": [
    "df_conf_squared_errors_avg_over_trials: pd.DataFrame = df_conf_squared_errors.groupby(\n",
    "    by=[\"target_relation\", 'true_label_frequency', \"noisy_label_frequency\", \"Rule\"],\n",
    "    sort=True,\n",
    "    as_index=False\n",
    ").mean()\n",
    "\n",
    "df_conf_squared_errors_avg_over_trials.head()"
   ],
   "metadata": {
    "collapsed": false,
    "pycharm": {
     "name": "#%%\n"
    }
   }
  },
  {
   "cell_type": "code",
   "execution_count": 25,
   "outputs": [
    {
     "data": {
      "text/plain": "  target_relation  true_label_frequency  noisy_label_frequency  \\\n0         actedin                   0.3                    0.1   \n1         actedin                   0.3                    0.2   \n2         actedin                   0.3                    0.3   \n3         actedin                   0.3                    0.4   \n4         actedin                   0.3                    0.5   \n\n   random_trial_index       CWA       IPW       PCA  \n0                 4.5  0.005044  0.042676  0.003983  \n1                 4.5  0.005044  0.002766  0.003983  \n2                 4.5  0.005044  0.000020  0.003983  \n3                 4.5  0.005044  0.000626  0.003983  \n4                 4.5  0.005044  0.001624  0.003983  ",
      "text/html": "<div>\n<style scoped>\n    .dataframe tbody tr th:only-of-type {\n        vertical-align: middle;\n    }\n\n    .dataframe tbody tr th {\n        vertical-align: top;\n    }\n\n    .dataframe thead th {\n        text-align: right;\n    }\n</style>\n<table border=\"1\" class=\"dataframe\">\n  <thead>\n    <tr style=\"text-align: right;\">\n      <th></th>\n      <th>target_relation</th>\n      <th>true_label_frequency</th>\n      <th>noisy_label_frequency</th>\n      <th>random_trial_index</th>\n      <th>CWA</th>\n      <th>IPW</th>\n      <th>PCA</th>\n    </tr>\n  </thead>\n  <tbody>\n    <tr>\n      <th>0</th>\n      <td>actedin</td>\n      <td>0.3</td>\n      <td>0.1</td>\n      <td>4.5</td>\n      <td>0.005044</td>\n      <td>0.042676</td>\n      <td>0.003983</td>\n    </tr>\n    <tr>\n      <th>1</th>\n      <td>actedin</td>\n      <td>0.3</td>\n      <td>0.2</td>\n      <td>4.5</td>\n      <td>0.005044</td>\n      <td>0.002766</td>\n      <td>0.003983</td>\n    </tr>\n    <tr>\n      <th>2</th>\n      <td>actedin</td>\n      <td>0.3</td>\n      <td>0.3</td>\n      <td>4.5</td>\n      <td>0.005044</td>\n      <td>0.000020</td>\n      <td>0.003983</td>\n    </tr>\n    <tr>\n      <th>3</th>\n      <td>actedin</td>\n      <td>0.3</td>\n      <td>0.4</td>\n      <td>4.5</td>\n      <td>0.005044</td>\n      <td>0.000626</td>\n      <td>0.003983</td>\n    </tr>\n    <tr>\n      <th>4</th>\n      <td>actedin</td>\n      <td>0.3</td>\n      <td>0.5</td>\n      <td>4.5</td>\n      <td>0.005044</td>\n      <td>0.001624</td>\n      <td>0.003983</td>\n    </tr>\n  </tbody>\n</table>\n</div>"
     },
     "execution_count": 25,
     "metadata": {},
     "output_type": "execute_result"
    }
   ],
   "source": [
    "df_conf_squared_errors_avg_over_trials_and_rules: pd.DataFrame = df_conf_squared_errors_avg_over_trials.groupby(\n",
    "    by=[\"target_relation\", 'true_label_frequency', \"noisy_label_frequency\",],\n",
    "    sort=True,\n",
    "    as_index=False\n",
    ").mean()\n",
    "df_conf_squared_errors_avg_over_trials_and_rules.head()"
   ],
   "metadata": {
    "collapsed": false,
    "pycharm": {
     "name": "#%%\n"
    }
   }
  },
  {
   "cell_type": "code",
   "execution_count": 26,
   "outputs": [
    {
     "data": {
      "text/plain": "420"
     },
     "execution_count": 26,
     "metadata": {},
     "output_type": "execute_result"
    }
   ],
   "source": [
    "len(df_conf_squared_errors_avg_over_trials_and_rules)"
   ],
   "metadata": {
    "collapsed": false,
    "pycharm": {
     "name": "#%%\n"
    }
   }
  },
  {
   "cell_type": "markdown",
   "source": [
    "## Subset of noisy_other"
   ],
   "metadata": {
    "collapsed": false
   }
  },
  {
   "cell_type": "code",
   "execution_count": 27,
   "outputs": [],
   "source": [
    "first_true_label_freq_to_include = 0.3\n",
    "second_true_label_freq_to_include = 0.7\n",
    "\n",
    "true_label_frequencies_set: Set[float] = {\n",
    "    first_true_label_freq_to_include, second_true_label_freq_to_include,\n",
    "}\n",
    "true_label_frequency_to_estimate_map: Dict[float, Set[float]] = dict()\n",
    "\n",
    "label_frequency_est_diff: float = 0.1\n",
    "label_frequencies_to_keep: Set[float] = set(true_label_frequencies_set)\n",
    "for true_label_freq in true_label_frequencies_set:\n",
    "    true_label_frequency_to_estimate_map[true_label_freq] = {\n",
    "        round(true_label_freq - label_frequency_est_diff, 1),\n",
    "        round(true_label_freq + label_frequency_est_diff, 1)\n",
    "    }\n",
    "    label_frequencies_to_keep.update(true_label_frequency_to_estimate_map[true_label_freq])"
   ],
   "metadata": {
    "collapsed": false,
    "pycharm": {
     "name": "#%%\n"
    }
   }
  },
  {
   "cell_type": "code",
   "execution_count": 28,
   "outputs": [
    {
     "data": {
      "text/plain": "  target_relation  true_label_frequency  noisy_label_frequency  \\\n1         actedin                   0.3                    0.2   \n2         actedin                   0.3                    0.3   \n3         actedin                   0.3                    0.4   \n5         actedin                   0.3                    0.6   \n6         actedin                   0.3                    0.7   \n\n   random_trial_index       CWA       IPW       PCA  \n1                 4.5  0.005044  0.002766  0.003983  \n2                 4.5  0.005044  0.000020  0.003983  \n3                 4.5  0.005044  0.000626  0.003983  \n5                 4.5  0.005044  0.002553  0.003983  \n6                 4.5  0.005044  0.003345  0.003983  ",
      "text/html": "<div>\n<style scoped>\n    .dataframe tbody tr th:only-of-type {\n        vertical-align: middle;\n    }\n\n    .dataframe tbody tr th {\n        vertical-align: top;\n    }\n\n    .dataframe thead th {\n        text-align: right;\n    }\n</style>\n<table border=\"1\" class=\"dataframe\">\n  <thead>\n    <tr style=\"text-align: right;\">\n      <th></th>\n      <th>target_relation</th>\n      <th>true_label_frequency</th>\n      <th>noisy_label_frequency</th>\n      <th>random_trial_index</th>\n      <th>CWA</th>\n      <th>IPW</th>\n      <th>PCA</th>\n    </tr>\n  </thead>\n  <tbody>\n    <tr>\n      <th>1</th>\n      <td>actedin</td>\n      <td>0.3</td>\n      <td>0.2</td>\n      <td>4.5</td>\n      <td>0.005044</td>\n      <td>0.002766</td>\n      <td>0.003983</td>\n    </tr>\n    <tr>\n      <th>2</th>\n      <td>actedin</td>\n      <td>0.3</td>\n      <td>0.3</td>\n      <td>4.5</td>\n      <td>0.005044</td>\n      <td>0.000020</td>\n      <td>0.003983</td>\n    </tr>\n    <tr>\n      <th>3</th>\n      <td>actedin</td>\n      <td>0.3</td>\n      <td>0.4</td>\n      <td>4.5</td>\n      <td>0.005044</td>\n      <td>0.000626</td>\n      <td>0.003983</td>\n    </tr>\n    <tr>\n      <th>5</th>\n      <td>actedin</td>\n      <td>0.3</td>\n      <td>0.6</td>\n      <td>4.5</td>\n      <td>0.005044</td>\n      <td>0.002553</td>\n      <td>0.003983</td>\n    </tr>\n    <tr>\n      <th>6</th>\n      <td>actedin</td>\n      <td>0.3</td>\n      <td>0.7</td>\n      <td>4.5</td>\n      <td>0.005044</td>\n      <td>0.003345</td>\n      <td>0.003983</td>\n    </tr>\n  </tbody>\n</table>\n</div>"
     },
     "execution_count": 28,
     "metadata": {},
     "output_type": "execute_result"
    }
   ],
   "source": [
    "df_conf_errors_avg_over_trials_and_rules_subset = df_conf_squared_errors_avg_over_trials_and_rules[\n",
    "    df_conf_squared_errors_avg_over_trials_and_rules[\"noisy_label_frequency\"].isin(label_frequencies_to_keep)\n",
    "]\n",
    "df_conf_errors_avg_over_trials_and_rules_subset.head()"
   ],
   "metadata": {
    "collapsed": false,
    "pycharm": {
     "name": "#%%\n"
    }
   }
  },
  {
   "cell_type": "code",
   "execution_count": 29,
   "outputs": [
    {
     "data": {
      "text/plain": "252"
     },
     "execution_count": 29,
     "metadata": {},
     "output_type": "execute_result"
    }
   ],
   "source": [
    "len(df_conf_errors_avg_over_trials_and_rules_subset)"
   ],
   "metadata": {
    "collapsed": false,
    "pycharm": {
     "name": "#%%\n"
    }
   }
  },
  {
   "cell_type": "markdown",
   "source": [
    "## Count the rules per $p$"
   ],
   "metadata": {
    "collapsed": false
   }
  },
  {
   "cell_type": "code",
   "execution_count": 30,
   "outputs": [
    {
     "data": {
      "text/plain": "  target_relation  # rules\n0         actedin        1\n1         created        2\n2       dealswith        7\n3          diedin        1\n4        directed        2",
      "text/html": "<div>\n<style scoped>\n    .dataframe tbody tr th:only-of-type {\n        vertical-align: middle;\n    }\n\n    .dataframe tbody tr th {\n        vertical-align: top;\n    }\n\n    .dataframe thead th {\n        text-align: right;\n    }\n</style>\n<table border=\"1\" class=\"dataframe\">\n  <thead>\n    <tr style=\"text-align: right;\">\n      <th></th>\n      <th>target_relation</th>\n      <th># rules</th>\n    </tr>\n  </thead>\n  <tbody>\n    <tr>\n      <th>0</th>\n      <td>actedin</td>\n      <td>1</td>\n    </tr>\n    <tr>\n      <th>1</th>\n      <td>created</td>\n      <td>2</td>\n    </tr>\n    <tr>\n      <th>2</th>\n      <td>dealswith</td>\n      <td>7</td>\n    </tr>\n    <tr>\n      <th>3</th>\n      <td>diedin</td>\n      <td>1</td>\n    </tr>\n    <tr>\n      <th>4</th>\n      <td>directed</td>\n      <td>2</td>\n    </tr>\n  </tbody>\n</table>\n</div>"
     },
     "execution_count": 30,
     "metadata": {},
     "output_type": "execute_result"
    }
   ],
   "source": [
    "df_n_rules_per_target = df_rule_wrappers_all_targets[[\"target_relation\", \"Rule\"]].groupby(\n",
    "    by=['target_relation'],\n",
    "    # sort=True,\n",
    "    # as_index=False\n",
    ")[\"Rule\"].nunique().to_frame().reset_index().rename(\n",
    "    columns={\"Rule\" : \"# rules\"}\n",
    ")\n",
    "\n",
    "\n",
    "df_n_rules_per_target.head()\n",
    "\n",
    "\n"
   ],
   "metadata": {
    "collapsed": false,
    "pycharm": {
     "name": "#%%\n"
    }
   }
  },
  {
   "cell_type": "markdown",
   "source": [
    "****\n",
    "# Format pretty table\n",
    "\n",
    "Goal:\n",
    "* put smallest value per row in BOLT\n",
    "* per target: mean_value 0.3 / 0.4"
   ],
   "metadata": {
    "collapsed": false
   }
  },
  {
   "cell_type": "code",
   "execution_count": 31,
   "outputs": [
    {
     "data": {
      "text/plain": "   target_relation  random_trial_index       CWA       IPW       PCA\n1          actedin                 4.5  0.005044  0.002766  0.003983\n21         created                 4.5  0.047558  0.023654  0.004257\n41       dealswith                 4.5  0.017872  0.010924  0.009553\n61          diedin                 4.5  0.008779  0.003866  0.010935\n81        directed                 4.5  0.056130  0.034786  0.006112",
      "text/html": "<div>\n<style scoped>\n    .dataframe tbody tr th:only-of-type {\n        vertical-align: middle;\n    }\n\n    .dataframe tbody tr th {\n        vertical-align: top;\n    }\n\n    .dataframe thead th {\n        text-align: right;\n    }\n</style>\n<table border=\"1\" class=\"dataframe\">\n  <thead>\n    <tr style=\"text-align: right;\">\n      <th></th>\n      <th>target_relation</th>\n      <th>random_trial_index</th>\n      <th>CWA</th>\n      <th>IPW</th>\n      <th>PCA</th>\n    </tr>\n  </thead>\n  <tbody>\n    <tr>\n      <th>1</th>\n      <td>actedin</td>\n      <td>4.5</td>\n      <td>0.005044</td>\n      <td>0.002766</td>\n      <td>0.003983</td>\n    </tr>\n    <tr>\n      <th>21</th>\n      <td>created</td>\n      <td>4.5</td>\n      <td>0.047558</td>\n      <td>0.023654</td>\n      <td>0.004257</td>\n    </tr>\n    <tr>\n      <th>41</th>\n      <td>dealswith</td>\n      <td>4.5</td>\n      <td>0.017872</td>\n      <td>0.010924</td>\n      <td>0.009553</td>\n    </tr>\n    <tr>\n      <th>61</th>\n      <td>diedin</td>\n      <td>4.5</td>\n      <td>0.008779</td>\n      <td>0.003866</td>\n      <td>0.010935</td>\n    </tr>\n    <tr>\n      <th>81</th>\n      <td>directed</td>\n      <td>4.5</td>\n      <td>0.056130</td>\n      <td>0.034786</td>\n      <td>0.006112</td>\n    </tr>\n  </tbody>\n</table>\n</div>"
     },
     "execution_count": 31,
     "metadata": {},
     "output_type": "execute_result"
    }
   ],
   "source": [
    "true_label_freq_to_noisy_to_df_map: Dict[float, Dict[float, pd.DataFrame]] = dict()\n",
    "for true_label_freq in true_label_frequencies_set:\n",
    "    df_true_tmp: pd.DataFrame = df_conf_errors_avg_over_trials_and_rules_subset[\n",
    "        df_conf_errors_avg_over_trials_and_rules_subset[\"true_label_frequency\"] == true_label_freq\n",
    "    ]\n",
    "    noisy_label_freq_to_df_map = dict()\n",
    "    true_label_freq_to_noisy_to_df_map[true_label_freq] = noisy_label_freq_to_df_map\n",
    "\n",
    "    df_true_and_noisy_tmp = df_true_tmp[\n",
    "        df_true_tmp[\"noisy_label_frequency\"] == true_label_freq\n",
    "    ]\n",
    "    noisy_label_freq_to_df_map[true_label_freq] = df_true_and_noisy_tmp[\n",
    "        [col for col in df_true_and_noisy_tmp.columns if col != \"noisy_label_frequency\" and col != \"true_label_frequency\"]\n",
    "    ]\n",
    "\n",
    "    for noisy_label_freq in true_label_frequency_to_estimate_map[true_label_freq]:\n",
    "        df_true_and_noisy_tmp = df_true_tmp[\n",
    "            df_true_tmp[\"noisy_label_frequency\"] == noisy_label_freq\n",
    "        ]\n",
    "        noisy_label_freq_to_df_map[noisy_label_freq] = df_true_and_noisy_tmp[\n",
    "            [col for col in df_true_and_noisy_tmp.columns if col != \"noisy_label_frequency\" and col != \"true_label_frequency\"]\n",
    "        ]\n",
    "\n",
    "true_label_freq_to_noisy_to_df_map[first_true_label_freq_to_include][0.2].head()"
   ],
   "metadata": {
    "collapsed": false,
    "pycharm": {
     "name": "#%%\n"
    }
   }
  },
  {
   "cell_type": "code",
   "execution_count": 32,
   "outputs": [
    {
     "data": {
      "text/plain": "  target_relation  random_trial_index       CWA       IPW       PCA  \\\n0         actedin                 4.5  0.005044  0.000020  0.003983   \n1         created                 4.5  0.047558  0.000413  0.004257   \n2       dealswith                 4.5  0.017872  0.000274  0.009553   \n3          diedin                 4.5  0.008779  0.000057  0.010935   \n4        directed                 4.5  0.056130  0.000674  0.006112   \n\n   IPW_lower  IPW_higher  \n0   0.002766    0.000626  \n1   0.023654    0.006579  \n2   0.010924    0.002205  \n3   0.003866    0.001290  \n4   0.034786    0.006657  ",
      "text/html": "<div>\n<style scoped>\n    .dataframe tbody tr th:only-of-type {\n        vertical-align: middle;\n    }\n\n    .dataframe tbody tr th {\n        vertical-align: top;\n    }\n\n    .dataframe thead th {\n        text-align: right;\n    }\n</style>\n<table border=\"1\" class=\"dataframe\">\n  <thead>\n    <tr style=\"text-align: right;\">\n      <th></th>\n      <th>target_relation</th>\n      <th>random_trial_index</th>\n      <th>CWA</th>\n      <th>IPW</th>\n      <th>PCA</th>\n      <th>IPW_lower</th>\n      <th>IPW_higher</th>\n    </tr>\n  </thead>\n  <tbody>\n    <tr>\n      <th>0</th>\n      <td>actedin</td>\n      <td>4.5</td>\n      <td>0.005044</td>\n      <td>0.000020</td>\n      <td>0.003983</td>\n      <td>0.002766</td>\n      <td>0.000626</td>\n    </tr>\n    <tr>\n      <th>1</th>\n      <td>created</td>\n      <td>4.5</td>\n      <td>0.047558</td>\n      <td>0.000413</td>\n      <td>0.004257</td>\n      <td>0.023654</td>\n      <td>0.006579</td>\n    </tr>\n    <tr>\n      <th>2</th>\n      <td>dealswith</td>\n      <td>4.5</td>\n      <td>0.017872</td>\n      <td>0.000274</td>\n      <td>0.009553</td>\n      <td>0.010924</td>\n      <td>0.002205</td>\n    </tr>\n    <tr>\n      <th>3</th>\n      <td>diedin</td>\n      <td>4.5</td>\n      <td>0.008779</td>\n      <td>0.000057</td>\n      <td>0.010935</td>\n      <td>0.003866</td>\n      <td>0.001290</td>\n    </tr>\n    <tr>\n      <th>4</th>\n      <td>directed</td>\n      <td>4.5</td>\n      <td>0.056130</td>\n      <td>0.000674</td>\n      <td>0.006112</td>\n      <td>0.034786</td>\n      <td>0.006657</td>\n    </tr>\n  </tbody>\n</table>\n</div>"
     },
     "execution_count": 32,
     "metadata": {},
     "output_type": "execute_result"
    }
   ],
   "source": [
    "from typing import Iterator\n",
    "\n",
    "true_label_freq_to_df_map = dict()\n",
    "\n",
    "label_freq_estimators: Iterator[float]\n",
    "for true_label_freq in true_label_frequencies_set:\n",
    "    noisy_to_df_map: Dict[float, pd.DataFrame]  = true_label_freq_to_noisy_to_df_map[true_label_freq]\n",
    "\n",
    "    df_true_label_freq: pd.DataFrame = noisy_to_df_map[true_label_freq]\n",
    "\n",
    "    lower_est: float = round(true_label_freq - label_frequency_est_diff, 1)\n",
    "    higher_est: float = round(true_label_freq + label_frequency_est_diff, 1)\n",
    "\n",
    "\n",
    "    df_lower: pd.DataFrame = noisy_to_df_map[lower_est][\n",
    "        ['target_relation', ConfidenceEnum.IPW_CONF.value]\n",
    "    ].rename(\n",
    "        columns={\n",
    "            ConfidenceEnum.IPW_CONF.value: f\"{ConfidenceEnum.IPW_CONF.value}_lower\"\n",
    "        }\n",
    "    )\n",
    "\n",
    "    df_true_label_freq = pd.merge(\n",
    "        left=df_true_label_freq,\n",
    "        right=df_lower,\n",
    "        on=\"target_relation\"\n",
    "    )\n",
    "\n",
    "    df_higher = noisy_to_df_map[higher_est][\n",
    "        ['target_relation', ConfidenceEnum.IPW_CONF.value]\n",
    "    ].rename(\n",
    "        columns={\n",
    "            ConfidenceEnum.IPW_CONF.value: f\"{ConfidenceEnum.IPW_CONF.value}_higher\"\n",
    "        }\n",
    "    )\n",
    "    df_true_label_freq = pd.merge(\n",
    "        left=df_true_label_freq,\n",
    "        right=df_higher,\n",
    "        on=\"target_relation\"\n",
    "    )\n",
    "    true_label_freq_to_df_map[true_label_freq] = df_true_label_freq\n",
    "\n",
    "true_label_freq_to_df_map[0.3].head()"
   ],
   "metadata": {
    "collapsed": false,
    "pycharm": {
     "name": "#%%\n"
    }
   }
  },
  {
   "cell_type": "code",
   "execution_count": 33,
   "outputs": [],
   "source": [
    "for key, df in true_label_freq_to_df_map.items():\n",
    "    true_label_freq_to_df_map[key] = df.drop(\n",
    "        columns=[\"random_trial_index\"],\n",
    "        axis=1,\n",
    "        errors='ignore'\n",
    "    )\n"
   ],
   "metadata": {
    "collapsed": false,
    "pycharm": {
     "name": "#%%\n"
    }
   }
  },
  {
   "cell_type": "code",
   "execution_count": 34,
   "outputs": [
    {
     "data": {
      "text/plain": "  target_relation   CWA_0.3   IPW_0.3   PCA_0.3  IPW_lower_0.3  \\\n0         actedin  0.005044  0.000020  0.003983       0.002766   \n1         created  0.047558  0.000413  0.004257       0.023654   \n2       dealswith  0.017872  0.000274  0.009553       0.010924   \n3          diedin  0.008779  0.000057  0.010935       0.003866   \n4        directed  0.056130  0.000674  0.006112       0.034786   \n\n   IPW_higher_0.3   CWA_0.7   IPW_0.7   PCA_0.7  IPW_lower_0.7  IPW_higher_0.7  \n0        0.000626  0.000868  0.000007  0.014121       0.000360        0.000132  \n1        0.006579  0.008514  0.000157  0.011084       0.003092        0.001508  \n2        0.002205  0.003405  0.000046  0.000714       0.001045        0.000640  \n3        0.001290  0.001573  0.000007  0.008410       0.000504        0.000275  \n4        0.006657  0.010634  0.000058  0.028192       0.003232        0.001920  ",
      "text/html": "<div>\n<style scoped>\n    .dataframe tbody tr th:only-of-type {\n        vertical-align: middle;\n    }\n\n    .dataframe tbody tr th {\n        vertical-align: top;\n    }\n\n    .dataframe thead th {\n        text-align: right;\n    }\n</style>\n<table border=\"1\" class=\"dataframe\">\n  <thead>\n    <tr style=\"text-align: right;\">\n      <th></th>\n      <th>target_relation</th>\n      <th>CWA_0.3</th>\n      <th>IPW_0.3</th>\n      <th>PCA_0.3</th>\n      <th>IPW_lower_0.3</th>\n      <th>IPW_higher_0.3</th>\n      <th>CWA_0.7</th>\n      <th>IPW_0.7</th>\n      <th>PCA_0.7</th>\n      <th>IPW_lower_0.7</th>\n      <th>IPW_higher_0.7</th>\n    </tr>\n  </thead>\n  <tbody>\n    <tr>\n      <th>0</th>\n      <td>actedin</td>\n      <td>0.005044</td>\n      <td>0.000020</td>\n      <td>0.003983</td>\n      <td>0.002766</td>\n      <td>0.000626</td>\n      <td>0.000868</td>\n      <td>0.000007</td>\n      <td>0.014121</td>\n      <td>0.000360</td>\n      <td>0.000132</td>\n    </tr>\n    <tr>\n      <th>1</th>\n      <td>created</td>\n      <td>0.047558</td>\n      <td>0.000413</td>\n      <td>0.004257</td>\n      <td>0.023654</td>\n      <td>0.006579</td>\n      <td>0.008514</td>\n      <td>0.000157</td>\n      <td>0.011084</td>\n      <td>0.003092</td>\n      <td>0.001508</td>\n    </tr>\n    <tr>\n      <th>2</th>\n      <td>dealswith</td>\n      <td>0.017872</td>\n      <td>0.000274</td>\n      <td>0.009553</td>\n      <td>0.010924</td>\n      <td>0.002205</td>\n      <td>0.003405</td>\n      <td>0.000046</td>\n      <td>0.000714</td>\n      <td>0.001045</td>\n      <td>0.000640</td>\n    </tr>\n    <tr>\n      <th>3</th>\n      <td>diedin</td>\n      <td>0.008779</td>\n      <td>0.000057</td>\n      <td>0.010935</td>\n      <td>0.003866</td>\n      <td>0.001290</td>\n      <td>0.001573</td>\n      <td>0.000007</td>\n      <td>0.008410</td>\n      <td>0.000504</td>\n      <td>0.000275</td>\n    </tr>\n    <tr>\n      <th>4</th>\n      <td>directed</td>\n      <td>0.056130</td>\n      <td>0.000674</td>\n      <td>0.006112</td>\n      <td>0.034786</td>\n      <td>0.006657</td>\n      <td>0.010634</td>\n      <td>0.000058</td>\n      <td>0.028192</td>\n      <td>0.003232</td>\n      <td>0.001920</td>\n    </tr>\n  </tbody>\n</table>\n</div>"
     },
     "execution_count": 34,
     "metadata": {},
     "output_type": "execute_result"
    }
   ],
   "source": [
    "df_one_row_per_target = pd.merge(\n",
    "    left=true_label_freq_to_df_map[first_true_label_freq_to_include],\n",
    "    right=true_label_freq_to_df_map[second_true_label_freq_to_include],\n",
    "    on=\"target_relation\",\n",
    "    suffixes=(f\"_{first_true_label_freq_to_include}\", f\"_{second_true_label_freq_to_include}\")\n",
    ")\n",
    "df_one_row_per_target.head()"
   ],
   "metadata": {
    "collapsed": false,
    "pycharm": {
     "name": "#%%\n"
    }
   }
  },
  {
   "cell_type": "markdown",
   "source": [
    "## What is the smallest value?"
   ],
   "metadata": {
    "collapsed": false
   }
  },
  {
   "cell_type": "code",
   "execution_count": 35,
   "outputs": [
    {
     "data": {
      "text/plain": "5.206077916404551e-06"
     },
     "execution_count": 35,
     "metadata": {},
     "output_type": "execute_result"
    }
   ],
   "source": [
    "all_values: np.ndarray = df_one_row_per_target[\n",
    "    [ col\n",
    "      for col in df_one_row_per_target.columns\n",
    "      if col != \"target_relation\"\n",
    "      ]\n",
    "].values\n",
    "\n",
    "min_val = np.amin(all_values)\n",
    "min_val"
   ],
   "metadata": {
    "collapsed": false,
    "pycharm": {
     "name": "#%%\n"
    }
   }
  },
  {
   "cell_type": "code",
   "execution_count": 36,
   "outputs": [
    {
     "data": {
      "text/plain": "0.052060779164045515"
     },
     "execution_count": 36,
     "metadata": {},
     "output_type": "execute_result"
    }
   ],
   "source": [
    "min_val * 10000"
   ],
   "metadata": {
    "collapsed": false,
    "pycharm": {
     "name": "#%%\n"
    }
   }
  },
  {
   "cell_type": "code",
   "execution_count": 37,
   "outputs": [
    {
     "data": {
      "text/plain": "0.1517314056437167"
     },
     "execution_count": 37,
     "metadata": {},
     "output_type": "execute_result"
    }
   ],
   "source": [
    "max_val = np.amax(all_values)\n",
    "max_val"
   ],
   "metadata": {
    "collapsed": false,
    "pycharm": {
     "name": "#%%\n"
    }
   }
  },
  {
   "cell_type": "code",
   "execution_count": 38,
   "outputs": [
    {
     "data": {
      "text/plain": "1517.314056437167"
     },
     "execution_count": 38,
     "metadata": {},
     "output_type": "execute_result"
    }
   ],
   "source": [
    "max_val * 10000"
   ],
   "metadata": {
    "collapsed": false,
    "pycharm": {
     "name": "#%%\n"
    }
   }
  },
  {
   "cell_type": "code",
   "execution_count": 39,
   "outputs": [
    {
     "data": {
      "text/plain": "                                     target_relation     CWA_0.3   IPW_0.3  \\\n0  actedinactedinactedinactedinactedinactedinacte...   50.439792  0.197210   \n1  createdcreatedcreatedcreatedcreatedcreatedcrea...  475.575363  4.133103   \n2  dealswithdealswithdealswithdealswithdealswithd...  178.717080  2.741393   \n3  diedindiedindiedindiedindiedindiedindiedindied...   87.793571  0.574204   \n4  directeddirecteddirecteddirecteddirecteddirect...  561.303077  6.743527   \n\n      PCA_0.3  IPW_lower_0.3  IPW_higher_0.3     CWA_0.7   IPW_0.7  \\\n0   39.831514      27.655205        6.263698    8.682130  0.069170   \n1   42.567653     236.538050       65.789823   85.142179  1.565609   \n2   95.530126     109.236689       22.053812   34.049894  0.463346   \n3  109.346092      38.655024       12.902659   15.731572  0.065602   \n4   61.118245     347.856904       66.570383  106.341465  0.582379   \n\n      PCA_0.7  IPW_lower_0.7  IPW_higher_0.7  \n0  141.205257       3.602644        1.318339  \n1  110.842459      30.916689       15.075349  \n2    7.141257      10.450022        6.401090  \n3   84.097181       5.037616        2.746903  \n4  281.916339      32.324272       19.196401  ",
      "text/html": "<div>\n<style scoped>\n    .dataframe tbody tr th:only-of-type {\n        vertical-align: middle;\n    }\n\n    .dataframe tbody tr th {\n        vertical-align: top;\n    }\n\n    .dataframe thead th {\n        text-align: right;\n    }\n</style>\n<table border=\"1\" class=\"dataframe\">\n  <thead>\n    <tr style=\"text-align: right;\">\n      <th></th>\n      <th>target_relation</th>\n      <th>CWA_0.3</th>\n      <th>IPW_0.3</th>\n      <th>PCA_0.3</th>\n      <th>IPW_lower_0.3</th>\n      <th>IPW_higher_0.3</th>\n      <th>CWA_0.7</th>\n      <th>IPW_0.7</th>\n      <th>PCA_0.7</th>\n      <th>IPW_lower_0.7</th>\n      <th>IPW_higher_0.7</th>\n    </tr>\n  </thead>\n  <tbody>\n    <tr>\n      <th>0</th>\n      <td>actedinactedinactedinactedinactedinactedinacte...</td>\n      <td>50.439792</td>\n      <td>0.197210</td>\n      <td>39.831514</td>\n      <td>27.655205</td>\n      <td>6.263698</td>\n      <td>8.682130</td>\n      <td>0.069170</td>\n      <td>141.205257</td>\n      <td>3.602644</td>\n      <td>1.318339</td>\n    </tr>\n    <tr>\n      <th>1</th>\n      <td>createdcreatedcreatedcreatedcreatedcreatedcrea...</td>\n      <td>475.575363</td>\n      <td>4.133103</td>\n      <td>42.567653</td>\n      <td>236.538050</td>\n      <td>65.789823</td>\n      <td>85.142179</td>\n      <td>1.565609</td>\n      <td>110.842459</td>\n      <td>30.916689</td>\n      <td>15.075349</td>\n    </tr>\n    <tr>\n      <th>2</th>\n      <td>dealswithdealswithdealswithdealswithdealswithd...</td>\n      <td>178.717080</td>\n      <td>2.741393</td>\n      <td>95.530126</td>\n      <td>109.236689</td>\n      <td>22.053812</td>\n      <td>34.049894</td>\n      <td>0.463346</td>\n      <td>7.141257</td>\n      <td>10.450022</td>\n      <td>6.401090</td>\n    </tr>\n    <tr>\n      <th>3</th>\n      <td>diedindiedindiedindiedindiedindiedindiedindied...</td>\n      <td>87.793571</td>\n      <td>0.574204</td>\n      <td>109.346092</td>\n      <td>38.655024</td>\n      <td>12.902659</td>\n      <td>15.731572</td>\n      <td>0.065602</td>\n      <td>84.097181</td>\n      <td>5.037616</td>\n      <td>2.746903</td>\n    </tr>\n    <tr>\n      <th>4</th>\n      <td>directeddirecteddirecteddirecteddirecteddirect...</td>\n      <td>561.303077</td>\n      <td>6.743527</td>\n      <td>61.118245</td>\n      <td>347.856904</td>\n      <td>66.570383</td>\n      <td>106.341465</td>\n      <td>0.582379</td>\n      <td>281.916339</td>\n      <td>32.324272</td>\n      <td>19.196401</td>\n    </tr>\n  </tbody>\n</table>\n</div>"
     },
     "execution_count": 39,
     "metadata": {},
     "output_type": "execute_result"
    }
   ],
   "source": [
    "df_one_row_per_target.head() * 10000"
   ],
   "metadata": {
    "collapsed": false,
    "pycharm": {
     "name": "#%%\n"
    }
   }
  },
  {
   "cell_type": "code",
   "execution_count": 40,
   "outputs": [
    {
     "data": {
      "text/plain": "target_relation     object\nCWA_0.3            float64\nIPW_0.3            float64\nPCA_0.3            float64\nIPW_lower_0.3      float64\nIPW_higher_0.3     float64\nCWA_0.7            float64\nIPW_0.7            float64\nPCA_0.7            float64\nIPW_lower_0.7      float64\nIPW_higher_0.7     float64\ndtype: object"
     },
     "execution_count": 40,
     "metadata": {},
     "output_type": "execute_result"
    }
   ],
   "source": [
    "df_one_row_per_target.dtypes"
   ],
   "metadata": {
    "collapsed": false,
    "pycharm": {
     "name": "#%%\n"
    }
   }
  },
  {
   "cell_type": "code",
   "execution_count": 41,
   "outputs": [
    {
     "data": {
      "text/plain": "10000"
     },
     "execution_count": 41,
     "metadata": {},
     "output_type": "execute_result"
    }
   ],
   "source": [
    "exponent = 4\n",
    "\n",
    "multiplication_factor = 10 ** exponent\n",
    "multiplication_factor"
   ],
   "metadata": {
    "collapsed": false,
    "pycharm": {
     "name": "#%%\n"
    }
   }
  },
  {
   "cell_type": "code",
   "execution_count": 42,
   "outputs": [
    {
     "data": {
      "text/plain": "   target_relation      CWA_0.3    IPW_0.3     PCA_0.3  IPW_lower_0.3  \\\n0          actedin    50.439792   0.197210   39.831514      27.655205   \n1          created   475.575363   4.133103   42.567653     236.538050   \n2        dealswith   178.717080   2.741393   95.530126     109.236689   \n3           diedin    87.793571   0.574204  109.346092      38.655024   \n4         directed   561.303077   6.743527   61.118245     347.856904   \n5          exports   115.306671   6.114928   67.984786      70.087861   \n6    graduatedfrom   255.439036   3.019419  128.908457     147.570466   \n7       happenedin   406.930870   0.749552  267.301350     204.799698   \n8       hascapital   147.471250   8.152137  667.913283      64.349069   \n9      hasneighbor   232.432138  11.215188   84.933150     170.938947   \n10         imports    94.888344   2.134876   48.942164      36.494492   \n11     iscitizenof   242.739306   8.920300  156.153408     133.727970   \n12   isconnectedto    64.997163   1.448575    5.746051      39.892624   \n13      isleaderof    61.634948  13.696655  246.627735      27.032872   \n14     islocatedin  1517.314056   3.739044  657.058739     711.250883   \n15     ismarriedto    56.850398   0.246332  107.604865      26.375870   \n16  ispoliticianof   678.500833  16.071141  532.014968     336.585614   \n17         livesin    77.993010   3.006316  276.568345      53.453515   \n18  participatedin   418.320567   0.794935  233.163924     229.116790   \n19       wasbornin   130.788802   0.888595   86.265770      67.755748   \n20         worksat   287.782569   2.891695  131.795109     158.227329   \n\n    IPW_higher_0.3     CWA_0.7   IPW_0.7     PCA_0.7  IPW_lower_0.7  \\\n0         6.263698    8.682130  0.069170  141.205257       3.602644   \n1        65.789823   85.142179  1.565609  110.842459      30.916689   \n2        22.053812   34.049894  0.463346    7.141257      10.450022   \n3        12.902659   15.731572  0.065602   84.097181       5.037616   \n4        66.570383  106.341465  0.582379  281.916339      32.324272   \n5        18.493160   22.447539  1.572410    9.904105       7.967391   \n6        32.259762   46.070790  0.556970   17.419621      16.802020   \n7        53.155623   75.968555  0.064481   22.258161      21.786701   \n8        28.713229   28.295549  1.237589  796.841151       7.716939   \n9        30.645766   38.980353  4.452073    4.032811      25.998695   \n10       16.396347   18.499987  0.444235    4.561458       4.226128   \n11       37.710604   42.836156  1.374676  156.163284      17.149239   \n12        8.425269   13.263631  0.204895   67.857079       2.996286   \n13       21.896626    8.866782  2.339171  670.249195       7.809496   \n14      208.932140  281.054455  0.981718   88.713979      81.580196   \n15        7.981880   10.746648  0.052061  144.339799       2.853858   \n16      103.838448  128.291921  4.637000  566.576058      40.652984   \n17       10.285568   13.978927  0.326027  364.660336       5.663197   \n18       51.182273   77.174856  0.081736   35.244883      24.305397   \n19       17.346586   24.776479  0.107177   34.542873       6.840748   \n20       37.357977   48.188570  1.684137   30.648881      23.914374   \n\n    IPW_higher_0.7  \n0         1.318339  \n1        15.075349  \n2         6.401090  \n3         2.746903  \n4        19.196401  \n5         5.210053  \n6         7.840607  \n7        13.721793  \n8         6.461616  \n9         7.383825  \n10        4.082596  \n11        7.735341  \n12        2.820528  \n13        2.500541  \n14       51.249005  \n15        2.049104  \n16       26.709306  \n17        2.380391  \n18       13.345165  \n19        4.637658  \n20        7.542412  ",
      "text/html": "<div>\n<style scoped>\n    .dataframe tbody tr th:only-of-type {\n        vertical-align: middle;\n    }\n\n    .dataframe tbody tr th {\n        vertical-align: top;\n    }\n\n    .dataframe thead th {\n        text-align: right;\n    }\n</style>\n<table border=\"1\" class=\"dataframe\">\n  <thead>\n    <tr style=\"text-align: right;\">\n      <th></th>\n      <th>target_relation</th>\n      <th>CWA_0.3</th>\n      <th>IPW_0.3</th>\n      <th>PCA_0.3</th>\n      <th>IPW_lower_0.3</th>\n      <th>IPW_higher_0.3</th>\n      <th>CWA_0.7</th>\n      <th>IPW_0.7</th>\n      <th>PCA_0.7</th>\n      <th>IPW_lower_0.7</th>\n      <th>IPW_higher_0.7</th>\n    </tr>\n  </thead>\n  <tbody>\n    <tr>\n      <th>0</th>\n      <td>actedin</td>\n      <td>50.439792</td>\n      <td>0.197210</td>\n      <td>39.831514</td>\n      <td>27.655205</td>\n      <td>6.263698</td>\n      <td>8.682130</td>\n      <td>0.069170</td>\n      <td>141.205257</td>\n      <td>3.602644</td>\n      <td>1.318339</td>\n    </tr>\n    <tr>\n      <th>1</th>\n      <td>created</td>\n      <td>475.575363</td>\n      <td>4.133103</td>\n      <td>42.567653</td>\n      <td>236.538050</td>\n      <td>65.789823</td>\n      <td>85.142179</td>\n      <td>1.565609</td>\n      <td>110.842459</td>\n      <td>30.916689</td>\n      <td>15.075349</td>\n    </tr>\n    <tr>\n      <th>2</th>\n      <td>dealswith</td>\n      <td>178.717080</td>\n      <td>2.741393</td>\n      <td>95.530126</td>\n      <td>109.236689</td>\n      <td>22.053812</td>\n      <td>34.049894</td>\n      <td>0.463346</td>\n      <td>7.141257</td>\n      <td>10.450022</td>\n      <td>6.401090</td>\n    </tr>\n    <tr>\n      <th>3</th>\n      <td>diedin</td>\n      <td>87.793571</td>\n      <td>0.574204</td>\n      <td>109.346092</td>\n      <td>38.655024</td>\n      <td>12.902659</td>\n      <td>15.731572</td>\n      <td>0.065602</td>\n      <td>84.097181</td>\n      <td>5.037616</td>\n      <td>2.746903</td>\n    </tr>\n    <tr>\n      <th>4</th>\n      <td>directed</td>\n      <td>561.303077</td>\n      <td>6.743527</td>\n      <td>61.118245</td>\n      <td>347.856904</td>\n      <td>66.570383</td>\n      <td>106.341465</td>\n      <td>0.582379</td>\n      <td>281.916339</td>\n      <td>32.324272</td>\n      <td>19.196401</td>\n    </tr>\n    <tr>\n      <th>5</th>\n      <td>exports</td>\n      <td>115.306671</td>\n      <td>6.114928</td>\n      <td>67.984786</td>\n      <td>70.087861</td>\n      <td>18.493160</td>\n      <td>22.447539</td>\n      <td>1.572410</td>\n      <td>9.904105</td>\n      <td>7.967391</td>\n      <td>5.210053</td>\n    </tr>\n    <tr>\n      <th>6</th>\n      <td>graduatedfrom</td>\n      <td>255.439036</td>\n      <td>3.019419</td>\n      <td>128.908457</td>\n      <td>147.570466</td>\n      <td>32.259762</td>\n      <td>46.070790</td>\n      <td>0.556970</td>\n      <td>17.419621</td>\n      <td>16.802020</td>\n      <td>7.840607</td>\n    </tr>\n    <tr>\n      <th>7</th>\n      <td>happenedin</td>\n      <td>406.930870</td>\n      <td>0.749552</td>\n      <td>267.301350</td>\n      <td>204.799698</td>\n      <td>53.155623</td>\n      <td>75.968555</td>\n      <td>0.064481</td>\n      <td>22.258161</td>\n      <td>21.786701</td>\n      <td>13.721793</td>\n    </tr>\n    <tr>\n      <th>8</th>\n      <td>hascapital</td>\n      <td>147.471250</td>\n      <td>8.152137</td>\n      <td>667.913283</td>\n      <td>64.349069</td>\n      <td>28.713229</td>\n      <td>28.295549</td>\n      <td>1.237589</td>\n      <td>796.841151</td>\n      <td>7.716939</td>\n      <td>6.461616</td>\n    </tr>\n    <tr>\n      <th>9</th>\n      <td>hasneighbor</td>\n      <td>232.432138</td>\n      <td>11.215188</td>\n      <td>84.933150</td>\n      <td>170.938947</td>\n      <td>30.645766</td>\n      <td>38.980353</td>\n      <td>4.452073</td>\n      <td>4.032811</td>\n      <td>25.998695</td>\n      <td>7.383825</td>\n    </tr>\n    <tr>\n      <th>10</th>\n      <td>imports</td>\n      <td>94.888344</td>\n      <td>2.134876</td>\n      <td>48.942164</td>\n      <td>36.494492</td>\n      <td>16.396347</td>\n      <td>18.499987</td>\n      <td>0.444235</td>\n      <td>4.561458</td>\n      <td>4.226128</td>\n      <td>4.082596</td>\n    </tr>\n    <tr>\n      <th>11</th>\n      <td>iscitizenof</td>\n      <td>242.739306</td>\n      <td>8.920300</td>\n      <td>156.153408</td>\n      <td>133.727970</td>\n      <td>37.710604</td>\n      <td>42.836156</td>\n      <td>1.374676</td>\n      <td>156.163284</td>\n      <td>17.149239</td>\n      <td>7.735341</td>\n    </tr>\n    <tr>\n      <th>12</th>\n      <td>isconnectedto</td>\n      <td>64.997163</td>\n      <td>1.448575</td>\n      <td>5.746051</td>\n      <td>39.892624</td>\n      <td>8.425269</td>\n      <td>13.263631</td>\n      <td>0.204895</td>\n      <td>67.857079</td>\n      <td>2.996286</td>\n      <td>2.820528</td>\n    </tr>\n    <tr>\n      <th>13</th>\n      <td>isleaderof</td>\n      <td>61.634948</td>\n      <td>13.696655</td>\n      <td>246.627735</td>\n      <td>27.032872</td>\n      <td>21.896626</td>\n      <td>8.866782</td>\n      <td>2.339171</td>\n      <td>670.249195</td>\n      <td>7.809496</td>\n      <td>2.500541</td>\n    </tr>\n    <tr>\n      <th>14</th>\n      <td>islocatedin</td>\n      <td>1517.314056</td>\n      <td>3.739044</td>\n      <td>657.058739</td>\n      <td>711.250883</td>\n      <td>208.932140</td>\n      <td>281.054455</td>\n      <td>0.981718</td>\n      <td>88.713979</td>\n      <td>81.580196</td>\n      <td>51.249005</td>\n    </tr>\n    <tr>\n      <th>15</th>\n      <td>ismarriedto</td>\n      <td>56.850398</td>\n      <td>0.246332</td>\n      <td>107.604865</td>\n      <td>26.375870</td>\n      <td>7.981880</td>\n      <td>10.746648</td>\n      <td>0.052061</td>\n      <td>144.339799</td>\n      <td>2.853858</td>\n      <td>2.049104</td>\n    </tr>\n    <tr>\n      <th>16</th>\n      <td>ispoliticianof</td>\n      <td>678.500833</td>\n      <td>16.071141</td>\n      <td>532.014968</td>\n      <td>336.585614</td>\n      <td>103.838448</td>\n      <td>128.291921</td>\n      <td>4.637000</td>\n      <td>566.576058</td>\n      <td>40.652984</td>\n      <td>26.709306</td>\n    </tr>\n    <tr>\n      <th>17</th>\n      <td>livesin</td>\n      <td>77.993010</td>\n      <td>3.006316</td>\n      <td>276.568345</td>\n      <td>53.453515</td>\n      <td>10.285568</td>\n      <td>13.978927</td>\n      <td>0.326027</td>\n      <td>364.660336</td>\n      <td>5.663197</td>\n      <td>2.380391</td>\n    </tr>\n    <tr>\n      <th>18</th>\n      <td>participatedin</td>\n      <td>418.320567</td>\n      <td>0.794935</td>\n      <td>233.163924</td>\n      <td>229.116790</td>\n      <td>51.182273</td>\n      <td>77.174856</td>\n      <td>0.081736</td>\n      <td>35.244883</td>\n      <td>24.305397</td>\n      <td>13.345165</td>\n    </tr>\n    <tr>\n      <th>19</th>\n      <td>wasbornin</td>\n      <td>130.788802</td>\n      <td>0.888595</td>\n      <td>86.265770</td>\n      <td>67.755748</td>\n      <td>17.346586</td>\n      <td>24.776479</td>\n      <td>0.107177</td>\n      <td>34.542873</td>\n      <td>6.840748</td>\n      <td>4.637658</td>\n    </tr>\n    <tr>\n      <th>20</th>\n      <td>worksat</td>\n      <td>287.782569</td>\n      <td>2.891695</td>\n      <td>131.795109</td>\n      <td>158.227329</td>\n      <td>37.357977</td>\n      <td>48.188570</td>\n      <td>1.684137</td>\n      <td>30.648881</td>\n      <td>23.914374</td>\n      <td>7.542412</td>\n    </tr>\n  </tbody>\n</table>\n</div>"
     },
     "execution_count": 42,
     "metadata": {},
     "output_type": "execute_result"
    }
   ],
   "source": [
    "df_one_row_per_target[\n",
    "    df_one_row_per_target.select_dtypes(include=['number']).columns\n",
    "] *= multiplication_factor\n",
    "\n",
    "df_one_row_per_target"
   ],
   "metadata": {
    "collapsed": false,
    "pycharm": {
     "name": "#%%\n"
    }
   }
  },
  {
   "cell_type": "markdown",
   "source": [
    "## Output files definitions"
   ],
   "metadata": {
    "collapsed": false
   }
  },
  {
   "cell_type": "code",
   "execution_count": 43,
   "outputs": [
    {
     "data": {
      "text/plain": "  target_relation     CWA_0.3   IPW_0.3     PCA_0.3  IPW_lower_0.3  \\\n0         actedin   50.439792  0.197210   39.831514      27.655205   \n1         created  475.575363  4.133103   42.567653     236.538050   \n2       dealswith  178.717080  2.741393   95.530126     109.236689   \n3          diedin   87.793571  0.574204  109.346092      38.655024   \n4        directed  561.303077  6.743527   61.118245     347.856904   \n\n   IPW_higher_0.3     CWA_0.7   IPW_0.7     PCA_0.7  IPW_lower_0.7  \\\n0        6.263698    8.682130  0.069170  141.205257       3.602644   \n1       65.789823   85.142179  1.565609  110.842459      30.916689   \n2       22.053812   34.049894  0.463346    7.141257      10.450022   \n3       12.902659   15.731572  0.065602   84.097181       5.037616   \n4       66.570383  106.341465  0.582379  281.916339      32.324272   \n\n   IPW_higher_0.7  \n0        1.318339  \n1       15.075349  \n2        6.401090  \n3        2.746903  \n4       19.196401  ",
      "text/html": "<div>\n<style scoped>\n    .dataframe tbody tr th:only-of-type {\n        vertical-align: middle;\n    }\n\n    .dataframe tbody tr th {\n        vertical-align: top;\n    }\n\n    .dataframe thead th {\n        text-align: right;\n    }\n</style>\n<table border=\"1\" class=\"dataframe\">\n  <thead>\n    <tr style=\"text-align: right;\">\n      <th></th>\n      <th>target_relation</th>\n      <th>CWA_0.3</th>\n      <th>IPW_0.3</th>\n      <th>PCA_0.3</th>\n      <th>IPW_lower_0.3</th>\n      <th>IPW_higher_0.3</th>\n      <th>CWA_0.7</th>\n      <th>IPW_0.7</th>\n      <th>PCA_0.7</th>\n      <th>IPW_lower_0.7</th>\n      <th>IPW_higher_0.7</th>\n    </tr>\n  </thead>\n  <tbody>\n    <tr>\n      <th>0</th>\n      <td>actedin</td>\n      <td>50.439792</td>\n      <td>0.197210</td>\n      <td>39.831514</td>\n      <td>27.655205</td>\n      <td>6.263698</td>\n      <td>8.682130</td>\n      <td>0.069170</td>\n      <td>141.205257</td>\n      <td>3.602644</td>\n      <td>1.318339</td>\n    </tr>\n    <tr>\n      <th>1</th>\n      <td>created</td>\n      <td>475.575363</td>\n      <td>4.133103</td>\n      <td>42.567653</td>\n      <td>236.538050</td>\n      <td>65.789823</td>\n      <td>85.142179</td>\n      <td>1.565609</td>\n      <td>110.842459</td>\n      <td>30.916689</td>\n      <td>15.075349</td>\n    </tr>\n    <tr>\n      <th>2</th>\n      <td>dealswith</td>\n      <td>178.717080</td>\n      <td>2.741393</td>\n      <td>95.530126</td>\n      <td>109.236689</td>\n      <td>22.053812</td>\n      <td>34.049894</td>\n      <td>0.463346</td>\n      <td>7.141257</td>\n      <td>10.450022</td>\n      <td>6.401090</td>\n    </tr>\n    <tr>\n      <th>3</th>\n      <td>diedin</td>\n      <td>87.793571</td>\n      <td>0.574204</td>\n      <td>109.346092</td>\n      <td>38.655024</td>\n      <td>12.902659</td>\n      <td>15.731572</td>\n      <td>0.065602</td>\n      <td>84.097181</td>\n      <td>5.037616</td>\n      <td>2.746903</td>\n    </tr>\n    <tr>\n      <th>4</th>\n      <td>directed</td>\n      <td>561.303077</td>\n      <td>6.743527</td>\n      <td>61.118245</td>\n      <td>347.856904</td>\n      <td>66.570383</td>\n      <td>106.341465</td>\n      <td>0.582379</td>\n      <td>281.916339</td>\n      <td>32.324272</td>\n      <td>19.196401</td>\n    </tr>\n  </tbody>\n</table>\n</div>"
     },
     "execution_count": 43,
     "metadata": {},
     "output_type": "execute_result"
    }
   ],
   "source": [
    "df_one_row_per_target.head()"
   ],
   "metadata": {
    "collapsed": false,
    "pycharm": {
     "name": "#%%\n"
    }
   }
  },
  {
   "cell_type": "code",
   "execution_count": 56,
   "outputs": [
    {
     "name": "stdout",
     "output_type": "stream",
     "text": [
      "/home/joschout/Documents/Repos/KUL-PUL/paper_latex_tables/known_prop_scores/scar/noisy_scar_single_row_summary.tsv\n"
     ]
    }
   ],
   "source": [
    "dir_latex_table: str = os.path.join(\n",
    "    kbc_e_metrics_project_dir,\n",
    "    \"paper_latex_tables\",\n",
    "    'known_prop_scores',\n",
    "    'scar'\n",
    ")\n",
    "\n",
    "if not os.path.exists(dir_latex_table):\n",
    "    os.makedirs(dir_latex_table)\n",
    "\n",
    "filename_tsv_rule_stats = os.path.join(\n",
    "    dir_latex_table,\n",
    "    \"conf_error_stats_v4.tsv\"\n",
    ")\n",
    "filename_tsv_single_row_summary = os.path.join(\n",
    "    dir_latex_table,\n",
    "    \"noisy_scar_single_row_summary.tsv\"\n",
    ")\n",
    "print(filename_tsv_single_row_summary)"
   ],
   "metadata": {
    "collapsed": false,
    "pycharm": {
     "name": "#%%\n"
    }
   }
  },
  {
   "cell_type": "markdown",
   "source": [
    "## Create single-row summary"
   ],
   "metadata": {
    "collapsed": false
   }
  },
  {
   "cell_type": "code",
   "execution_count": 45,
   "outputs": [
    {
     "name": "stderr",
     "output_type": "stream",
     "text": [
      "/tmp/ipykernel_54658/1788372146.py:1: FutureWarning: Dropping of nuisance columns in DataFrame reductions (with 'numeric_only=None') is deprecated; in a future version this will raise TypeError.  Select only valid columns before calling the reduction.\n",
      "  df_one_row_in_total: pd.Series = df_one_row_per_target.mean(\n"
     ]
    },
    {
     "data": {
      "text/plain": "CWA_0.3           292.534231\nIPW_0.3             4.641863\nPCA_0.3           192.732178\nIPW_lower_0.3     154.171506\nIPW_higher_0.3     40.866744\nCWA_0.7            53.780402\nIPW_0.7             1.088689\nPCA_0.7           173.296008\nIPW_lower_0.7      18.123566\nIPW_higher_0.7     10.019430\ndtype: float64"
     },
     "execution_count": 45,
     "metadata": {},
     "output_type": "execute_result"
    }
   ],
   "source": [
    "df_one_row_in_total: pd.Series = df_one_row_per_target.mean(\n",
    ")\n",
    "\n",
    "\n",
    "df_one_row_in_total"
   ],
   "metadata": {
    "collapsed": false,
    "pycharm": {
     "name": "#%%\n"
    }
   }
  },
  {
   "cell_type": "code",
   "execution_count": 46,
   "outputs": [
    {
     "data": {
      "text/plain": "  target_relation  # rules\n0         actedin        1\n1         created        2\n2       dealswith        7\n3          diedin        1\n4        directed        2",
      "text/html": "<div>\n<style scoped>\n    .dataframe tbody tr th:only-of-type {\n        vertical-align: middle;\n    }\n\n    .dataframe tbody tr th {\n        vertical-align: top;\n    }\n\n    .dataframe thead th {\n        text-align: right;\n    }\n</style>\n<table border=\"1\" class=\"dataframe\">\n  <thead>\n    <tr style=\"text-align: right;\">\n      <th></th>\n      <th>target_relation</th>\n      <th># rules</th>\n    </tr>\n  </thead>\n  <tbody>\n    <tr>\n      <th>0</th>\n      <td>actedin</td>\n      <td>1</td>\n    </tr>\n    <tr>\n      <th>1</th>\n      <td>created</td>\n      <td>2</td>\n    </tr>\n    <tr>\n      <th>2</th>\n      <td>dealswith</td>\n      <td>7</td>\n    </tr>\n    <tr>\n      <th>3</th>\n      <td>diedin</td>\n      <td>1</td>\n    </tr>\n    <tr>\n      <th>4</th>\n      <td>directed</td>\n      <td>2</td>\n    </tr>\n  </tbody>\n</table>\n</div>"
     },
     "execution_count": 46,
     "metadata": {},
     "output_type": "execute_result"
    }
   ],
   "source": [
    "df_n_rules_per_target.head()"
   ],
   "metadata": {
    "collapsed": false,
    "pycharm": {
     "name": "#%%\n"
    }
   }
  },
  {
   "cell_type": "code",
   "execution_count": 47,
   "outputs": [
    {
     "data": {
      "text/plain": "CWA_0.3           292.534231\nIPW_0.3             4.641863\nPCA_0.3           192.732178\nIPW_lower_0.3     154.171506\nIPW_higher_0.3     40.866744\nCWA_0.7            53.780402\nIPW_0.7             1.088689\nPCA_0.7           173.296008\nIPW_lower_0.7      18.123566\nIPW_higher_0.7     10.019430\n# rules            47.000000\ndtype: float64"
     },
     "execution_count": 47,
     "metadata": {},
     "output_type": "execute_result"
    }
   ],
   "source": [
    "df_one_row_in_total[\"# rules\"] = int(df_n_rules_per_target[\"# rules\"].sum())\n",
    "df_one_row_in_total"
   ],
   "metadata": {
    "collapsed": false,
    "pycharm": {
     "name": "#%%\n"
    }
   }
  },
  {
   "cell_type": "code",
   "execution_count": 48,
   "outputs": [
    {
     "data": {
      "text/plain": "pandas.core.series.Series"
     },
     "execution_count": 48,
     "metadata": {},
     "output_type": "execute_result"
    }
   ],
   "source": [
    "type(df_one_row_in_total)"
   ],
   "metadata": {
    "collapsed": false,
    "pycharm": {
     "name": "#%%\n"
    }
   }
  },
  {
   "cell_type": "code",
   "execution_count": 49,
   "outputs": [],
   "source": [
    "df_one_row_in_total.to_csv(\n",
    "    filename_tsv_single_row_summary,\n",
    "    sep = \"\\t\",\n",
    "    header=None\n",
    ")\n"
   ],
   "metadata": {
    "collapsed": false,
    "pycharm": {
     "name": "#%%\n"
    }
   }
  },
  {
   "cell_type": "markdown",
   "source": [
    "### Now create a pretty table"
   ],
   "metadata": {
    "collapsed": false
   }
  },
  {
   "cell_type": "code",
   "execution_count": 50,
   "outputs": [
    {
     "data": {
      "text/plain": "['CWA', 'PCA $p$', 'PCA ${p^{-1}}$', 'IPW']"
     },
     "execution_count": 50,
     "metadata": {},
     "output_type": "execute_result"
    }
   ],
   "source": [
    "column_names_info.column_names_conf_estimators"
   ],
   "metadata": {
    "collapsed": false,
    "pycharm": {
     "name": "#%%\n"
    }
   }
  },
  {
   "cell_type": "code",
   "execution_count": 51,
   "outputs": [],
   "source": [
    "simplified_column_names_conf_estimators = ['CWA', 'PCA', 'IPW',]"
   ],
   "metadata": {
    "collapsed": false,
    "pycharm": {
     "name": "#%%\n"
    }
   }
  },
  {
   "cell_type": "code",
   "execution_count": 52,
   "outputs": [
    {
     "data": {
      "text/plain": "MultiIndex([(    '$p$',                ''),\n            (   '\\# R',                ''),\n            ('$c=0.3$',             'CWA'),\n            ('$c=0.3$',             'PCA'),\n            ('$c=0.3$',             'IPW'),\n            ('$c=0.3$', 'IPW ($-\\Delta$)'),\n            ('$c=0.3$', 'IPW ($+\\Delta$)'),\n            ('$c=0.7$',             'CWA'),\n            ('$c=0.7$',             'PCA'),\n            ('$c=0.7$',             'IPW'),\n            ('$c=0.7$', 'IPW ($-\\Delta$)'),\n            ('$c=0.7$', 'IPW ($+\\Delta$)')],\n           )"
     },
     "execution_count": 52,
     "metadata": {},
     "output_type": "execute_result"
    }
   ],
   "source": [
    "multi_index_columns = [\n",
    "    (\"$p$\", \"\"),\n",
    "    (\"\\# R\", \"\")\n",
    "]\n",
    "from itertools import product\n",
    "\n",
    "# conf_upper_cols = column_names_info.column_names_conf_estimators + [\n",
    "#     f\"{ConfidenceEnum.IPW_CONF.value} \" + \"($\\Delta c=-\" + f\"{label_frequency_est_diff}\" + \"$)\",\n",
    "#     f\"{ConfidenceEnum.IPW_CONF.value} \" + \"($\\Delta c=\" + f\"{label_frequency_est_diff}\" + \"$)\",\n",
    "# ]\n",
    "conf_upper_cols  = simplified_column_names_conf_estimators + [\n",
    "    f\"{ConfidenceEnum.IPW_CONF.value} \" + \"($-\\Delta$)\",\n",
    "    f\"{ConfidenceEnum.IPW_CONF.value} \" + \"($+\\Delta$)\",\n",
    "]\n",
    "\n",
    "c_subcols = [\"$c=0.3$\", \"$c=0.7$\"]\n",
    "\n",
    "multi_index_columns = multi_index_columns + list(product(c_subcols, conf_upper_cols))\n",
    "# multi_index_list\n",
    "\n",
    "multi_index_columns = pd.MultiIndex.from_tuples(multi_index_columns)\n",
    "multi_index_columns"
   ],
   "metadata": {
    "collapsed": false,
    "pycharm": {
     "name": "#%%\n"
    }
   }
  },
  {
   "cell_type": "code",
   "execution_count": 53,
   "outputs": [
    {
     "data": {
      "text/plain": "         $p$ \\# R  $c=0.3$                                       \\\n                       CWA      PCA         IPW IPW ($-\\Delta$)   \n0    actedin    1   $50.4$   $39.8$  $\\bm{0.2}$          $27.7$   \n1    created    2  $475.6$   $42.6$  $\\bm{4.1}$         $236.5$   \n2  dealswith    7  $178.7$   $95.5$  $\\bm{2.7}$         $109.2$   \n3     diedin    1   $87.8$  $109.3$  $\\bm{0.6}$          $38.7$   \n4   directed    2  $561.3$   $61.1$  $\\bm{6.7}$         $347.9$   \n\n                   $c=0.7$                                       \\\n  IPW ($+\\Delta$)      CWA      PCA         IPW IPW ($-\\Delta$)   \n0           $6.3$    $8.7$  $141.2$  $\\bm{0.1}$           $3.6$   \n1          $65.8$   $85.1$  $110.8$  $\\bm{1.6}$          $30.9$   \n2          $22.1$   $34.0$    $7.1$  $\\bm{0.5}$          $10.5$   \n3          $12.9$   $15.7$   $84.1$  $\\bm{0.1}$           $5.0$   \n4          $66.6$  $106.3$  $281.9$  $\\bm{0.6}$          $32.3$   \n\n                   \n  IPW ($+\\Delta$)  \n0           $1.3$  \n1          $15.1$  \n2           $6.4$  \n3           $2.7$  \n4          $19.2$  ",
      "text/html": "<div>\n<style scoped>\n    .dataframe tbody tr th:only-of-type {\n        vertical-align: middle;\n    }\n\n    .dataframe tbody tr th {\n        vertical-align: top;\n    }\n\n    .dataframe thead tr th {\n        text-align: left;\n    }\n</style>\n<table border=\"1\" class=\"dataframe\">\n  <thead>\n    <tr>\n      <th></th>\n      <th>$p$</th>\n      <th>\\# R</th>\n      <th colspan=\"5\" halign=\"left\">$c=0.3$</th>\n      <th colspan=\"5\" halign=\"left\">$c=0.7$</th>\n    </tr>\n    <tr>\n      <th></th>\n      <th></th>\n      <th></th>\n      <th>CWA</th>\n      <th>PCA</th>\n      <th>IPW</th>\n      <th>IPW ($-\\Delta$)</th>\n      <th>IPW ($+\\Delta$)</th>\n      <th>CWA</th>\n      <th>PCA</th>\n      <th>IPW</th>\n      <th>IPW ($-\\Delta$)</th>\n      <th>IPW ($+\\Delta$)</th>\n    </tr>\n  </thead>\n  <tbody>\n    <tr>\n      <th>0</th>\n      <td>actedin</td>\n      <td>1</td>\n      <td>$50.4$</td>\n      <td>$39.8$</td>\n      <td>$\\bm{0.2}$</td>\n      <td>$27.7$</td>\n      <td>$6.3$</td>\n      <td>$8.7$</td>\n      <td>$141.2$</td>\n      <td>$\\bm{0.1}$</td>\n      <td>$3.6$</td>\n      <td>$1.3$</td>\n    </tr>\n    <tr>\n      <th>1</th>\n      <td>created</td>\n      <td>2</td>\n      <td>$475.6$</td>\n      <td>$42.6$</td>\n      <td>$\\bm{4.1}$</td>\n      <td>$236.5$</td>\n      <td>$65.8$</td>\n      <td>$85.1$</td>\n      <td>$110.8$</td>\n      <td>$\\bm{1.6}$</td>\n      <td>$30.9$</td>\n      <td>$15.1$</td>\n    </tr>\n    <tr>\n      <th>2</th>\n      <td>dealswith</td>\n      <td>7</td>\n      <td>$178.7$</td>\n      <td>$95.5$</td>\n      <td>$\\bm{2.7}$</td>\n      <td>$109.2$</td>\n      <td>$22.1$</td>\n      <td>$34.0$</td>\n      <td>$7.1$</td>\n      <td>$\\bm{0.5}$</td>\n      <td>$10.5$</td>\n      <td>$6.4$</td>\n    </tr>\n    <tr>\n      <th>3</th>\n      <td>diedin</td>\n      <td>1</td>\n      <td>$87.8$</td>\n      <td>$109.3$</td>\n      <td>$\\bm{0.6}$</td>\n      <td>$38.7$</td>\n      <td>$12.9$</td>\n      <td>$15.7$</td>\n      <td>$84.1$</td>\n      <td>$\\bm{0.1}$</td>\n      <td>$5.0$</td>\n      <td>$2.7$</td>\n    </tr>\n    <tr>\n      <th>4</th>\n      <td>directed</td>\n      <td>2</td>\n      <td>$561.3$</td>\n      <td>$61.1$</td>\n      <td>$\\bm{6.7}$</td>\n      <td>$347.9$</td>\n      <td>$66.6$</td>\n      <td>$106.3$</td>\n      <td>$281.9$</td>\n      <td>$\\bm{0.6}$</td>\n      <td>$32.3$</td>\n      <td>$19.2$</td>\n    </tr>\n  </tbody>\n</table>\n</div>"
     },
     "execution_count": 53,
     "metadata": {},
     "output_type": "execute_result"
    }
   ],
   "source": [
    "\n",
    "rule_counter: int = 1\n",
    "rule_str_to_rule_id_map: Dict[str, int] = {}\n",
    "\n",
    "\n",
    "float_precision: int = 1\n",
    "\n",
    "col_name_conf_estimator: str\n",
    "\n",
    "\n",
    "pretty_rows: List[List] = []\n",
    "\n",
    "row_index: int\n",
    "row: pd.Series\n",
    "\n",
    "# columns_to_use = [\n",
    "#     \"$p$\",\n",
    "#     \"\\# rules\"\n",
    "# ] + column_names_info.column_names_conf_estimators + [\n",
    "#     f\"{ConfidenceEnum.IPW_CONF.value} \" + \"($\\Delta c=-\" + f\"{label_frequency_est_diff}\" + \"$)\",\n",
    "#     f\"{ConfidenceEnum.IPW_CONF.value} \" + \"($\\Delta c=\" + f\"{label_frequency_est_diff}\" + \"$)\",\n",
    "# ]\n",
    "\n",
    "LabelFreq = float\n",
    "def get_dict_with_smallest_estimator_per_label_freq(row: pd.Series) -> Dict[LabelFreq, Set[str]]:\n",
    "    # Find estimator with smallest mean value for label frequency###################\n",
    "    label_freq_to_set_of_smallest_est_map: Dict[LabelFreq, Set[str]] = dict()\n",
    "    for label_freq in [first_true_label_freq_to_include, second_true_label_freq_to_include]:\n",
    "        o_set_of_col_names_with_min_value: Optional[Set[str]] = None\n",
    "        o_current_smallest_value: Optional[float] = None\n",
    "        # Find smallest squared error\n",
    "        for col_name_conf_estimator in simplified_column_names_conf_estimators:\n",
    "            current_val: float = row[f\"{col_name_conf_estimator}_{label_freq}\"]\n",
    "            # print(current_val)\n",
    "            if o_set_of_col_names_with_min_value is None or o_current_smallest_value > current_val:\n",
    "                o_set_of_col_names_with_min_value = {col_name_conf_estimator}\n",
    "                o_current_smallest_value = current_val\n",
    "            elif current_val == o_current_smallest_value:\n",
    "                o_set_of_col_names_with_min_value.update(col_name_conf_estimator)\n",
    "\n",
    "        label_freq_to_set_of_smallest_est_map[label_freq] = o_set_of_col_names_with_min_value\n",
    "    return label_freq_to_set_of_smallest_est_map\n",
    "\n",
    "\n",
    "def format_value_depending_on_whether_it_is_smallest(\n",
    "        value: float,\n",
    "        is_smallest: bool,\n",
    "        float_precision: float,\n",
    "        use_si: bool = False\n",
    ")-> str:\n",
    "    if is_smallest:\n",
    "        if not use_si:\n",
    "            formatted_value = \"$\\\\bm{\" + f\"{value:0.{float_precision}f}\" + \"}$\"\n",
    "            # formatted_value = \"$\\\\bm{\" + f\"{value:0.{float_precision}e}\" + \"}$\"\n",
    "        else:\n",
    "            formatted_value = \"\\\\textbf{$\" + f\"\\\\num[round-precision={float_precision},round-mode=figures,scientific-notation=true]\"+\\\n",
    "                              \"{\"+ str(value) + \"}\"+ \"$}\"\n",
    "    else:\n",
    "        if not use_si:\n",
    "            formatted_value = f\"${value:0.{float_precision}f}$\"\n",
    "            # formatted_value = f\"${value:0.{float_precision}e}$\"\n",
    "        else:\n",
    "            formatted_value = \"$\" + f\"\\\\num[round-precision={float_precision},round-mode=figures,scientific-notation=true]\"+\\\n",
    "                              \"{\"+ str(value) + \"}\"+ \"$\"\n",
    "\n",
    "    return formatted_value\n",
    "\n",
    "\n",
    "estimator_columns = simplified_column_names_conf_estimators + [\n",
    "    f\"{ConfidenceEnum.IPW_CONF.value}_lower\",\n",
    "    f\"{ConfidenceEnum.IPW_CONF.value}_higher\"\n",
    "]\n",
    "\n",
    "# For each row, i.e. for each target relation\n",
    "for row_index, row in df_one_row_per_target.iterrows():\n",
    "\n",
    "    # Find estimator with smallest mean value for label frequency###################\n",
    "    label_freq_to_set_of_smallest_est_map: Dict[float, Set[str]] = get_dict_with_smallest_estimator_per_label_freq(\n",
    "        row=row\n",
    "    )\n",
    "    ##################################################################################\n",
    "    # Construct the new row\n",
    "    ######################\n",
    "\n",
    "    target_relation = row[\"target_relation\"]\n",
    "\n",
    "\n",
    "    nb_of_rules = df_n_rules_per_target[df_n_rules_per_target['target_relation'] == target_relation][\n",
    "        \"# rules\"\n",
    "    ].iloc[0]\n",
    "\n",
    "    new_row: List[str] = [\n",
    "        target_relation,\n",
    "        nb_of_rules\n",
    "    ]\n",
    "    # For each Confidence estimator, get the value at c 0.3 and 0.7\n",
    "    # for col_name_conf_estimator in estimator_columns:\n",
    "    #     mean_val_03:float = row[f\"{col_name_conf_estimator}_0.3\"]\n",
    "    #     mean_val_07:float = row[f\"{col_name_conf_estimator}_0.7\"]\n",
    "    #\n",
    "    #     new_row_value = (\n",
    "    #         format_value_depending_on_whether_it_is_smallest(\n",
    "    #             value=mean_val_03,\n",
    "    #             is_smallest=col_name_conf_estimator == label_freq_to_smallest_est_map[0.3],\n",
    "    #             float_precision=float_precision\n",
    "    #         )\n",
    "    #         + \" / \"\n",
    "    #         + format_value_depending_on_whether_it_is_smallest(\n",
    "    #             value=mean_val_07,\n",
    "    #             is_smallest=col_name_conf_estimator == label_freq_to_smallest_est_map[0.7],\n",
    "    #             float_precision=float_precision\n",
    "    #         )\n",
    "    #     )\n",
    "    #     new_row.append(new_row_value)\n",
    "    for col_name_conf_estimator in estimator_columns:\n",
    "        mean_val_03:float = row[f\"{col_name_conf_estimator}_0.3\"]\n",
    "\n",
    "\n",
    "\n",
    "        new_row_value_03 = format_value_depending_on_whether_it_is_smallest(\n",
    "                value=mean_val_03,\n",
    "                is_smallest=(\n",
    "                        col_name_conf_estimator in label_freq_to_set_of_smallest_est_map[first_true_label_freq_to_include]\n",
    "                ),\n",
    "                float_precision=float_precision\n",
    "        )\n",
    "        new_row.append(new_row_value_03)\n",
    "\n",
    "\n",
    "    for col_name_conf_estimator in estimator_columns:\n",
    "        mean_val_07:float = row[f\"{col_name_conf_estimator}_0.7\"]\n",
    "        new_row_value_07 = format_value_depending_on_whether_it_is_smallest(\n",
    "                value=mean_val_07,\n",
    "                is_smallest=(\n",
    "                        col_name_conf_estimator in label_freq_to_set_of_smallest_est_map[second_true_label_freq_to_include]\n",
    "                ),\n",
    "                float_precision=float_precision\n",
    "\n",
    "        )\n",
    "        new_row.append(new_row_value_07)\n",
    "\n",
    "    pretty_rows.append(new_row)\n",
    "\n",
    "\n",
    "df_pretty: pd.DataFrame = pd.DataFrame(\n",
    "    data=pretty_rows,\n",
    "    columns=multi_index_columns\n",
    ")\n",
    "df_pretty.head()"
   ],
   "metadata": {
    "collapsed": false,
    "pycharm": {
     "name": "#%%\n"
    }
   }
  },
  {
   "cell_type": "code",
   "execution_count": 54,
   "outputs": [
    {
     "data": {
      "text/plain": "         $p$ \\# R  $c=0.3$                                       \\\n                       CWA      PCA         IPW IPW ($-\\Delta$)   \n0    actedin    1   $50.4$   $39.8$  $\\bm{0.2}$          $27.7$   \n1    created    2  $475.6$   $42.6$  $\\bm{4.1}$         $236.5$   \n2  dealswith    7  $178.7$   $95.5$  $\\bm{2.7}$         $109.2$   \n3     diedin    1   $87.8$  $109.3$  $\\bm{0.6}$          $38.7$   \n4   directed    2  $561.3$   $61.1$  $\\bm{6.7}$         $347.9$   \n\n                   $c=0.7$                                       \\\n  IPW ($+\\Delta$)      CWA      PCA         IPW IPW ($-\\Delta$)   \n0           $6.3$    $8.7$  $141.2$  $\\bm{0.1}$           $3.6$   \n1          $65.8$   $85.1$  $110.8$  $\\bm{1.6}$          $30.9$   \n2          $22.1$   $34.0$    $7.1$  $\\bm{0.5}$          $10.5$   \n3          $12.9$   $15.7$   $84.1$  $\\bm{0.1}$           $5.0$   \n4          $66.6$  $106.3$  $281.9$  $\\bm{0.6}$          $32.3$   \n\n                   \n  IPW ($+\\Delta$)  \n0           $1.3$  \n1          $15.1$  \n2           $6.4$  \n3           $2.7$  \n4          $19.2$  ",
      "text/html": "<div>\n<style scoped>\n    .dataframe tbody tr th:only-of-type {\n        vertical-align: middle;\n    }\n\n    .dataframe tbody tr th {\n        vertical-align: top;\n    }\n\n    .dataframe thead tr th {\n        text-align: left;\n    }\n</style>\n<table border=\"1\" class=\"dataframe\">\n  <thead>\n    <tr>\n      <th></th>\n      <th>$p$</th>\n      <th>\\# R</th>\n      <th colspan=\"5\" halign=\"left\">$c=0.3$</th>\n      <th colspan=\"5\" halign=\"left\">$c=0.7$</th>\n    </tr>\n    <tr>\n      <th></th>\n      <th></th>\n      <th></th>\n      <th>CWA</th>\n      <th>PCA</th>\n      <th>IPW</th>\n      <th>IPW ($-\\Delta$)</th>\n      <th>IPW ($+\\Delta$)</th>\n      <th>CWA</th>\n      <th>PCA</th>\n      <th>IPW</th>\n      <th>IPW ($-\\Delta$)</th>\n      <th>IPW ($+\\Delta$)</th>\n    </tr>\n  </thead>\n  <tbody>\n    <tr>\n      <th>0</th>\n      <td>actedin</td>\n      <td>1</td>\n      <td>$50.4$</td>\n      <td>$39.8$</td>\n      <td>$\\bm{0.2}$</td>\n      <td>$27.7$</td>\n      <td>$6.3$</td>\n      <td>$8.7$</td>\n      <td>$141.2$</td>\n      <td>$\\bm{0.1}$</td>\n      <td>$3.6$</td>\n      <td>$1.3$</td>\n    </tr>\n    <tr>\n      <th>1</th>\n      <td>created</td>\n      <td>2</td>\n      <td>$475.6$</td>\n      <td>$42.6$</td>\n      <td>$\\bm{4.1}$</td>\n      <td>$236.5$</td>\n      <td>$65.8$</td>\n      <td>$85.1$</td>\n      <td>$110.8$</td>\n      <td>$\\bm{1.6}$</td>\n      <td>$30.9$</td>\n      <td>$15.1$</td>\n    </tr>\n    <tr>\n      <th>2</th>\n      <td>dealswith</td>\n      <td>7</td>\n      <td>$178.7$</td>\n      <td>$95.5$</td>\n      <td>$\\bm{2.7}$</td>\n      <td>$109.2$</td>\n      <td>$22.1$</td>\n      <td>$34.0$</td>\n      <td>$7.1$</td>\n      <td>$\\bm{0.5}$</td>\n      <td>$10.5$</td>\n      <td>$6.4$</td>\n    </tr>\n    <tr>\n      <th>3</th>\n      <td>diedin</td>\n      <td>1</td>\n      <td>$87.8$</td>\n      <td>$109.3$</td>\n      <td>$\\bm{0.6}$</td>\n      <td>$38.7$</td>\n      <td>$12.9$</td>\n      <td>$15.7$</td>\n      <td>$84.1$</td>\n      <td>$\\bm{0.1}$</td>\n      <td>$5.0$</td>\n      <td>$2.7$</td>\n    </tr>\n    <tr>\n      <th>4</th>\n      <td>directed</td>\n      <td>2</td>\n      <td>$561.3$</td>\n      <td>$61.1$</td>\n      <td>$\\bm{6.7}$</td>\n      <td>$347.9$</td>\n      <td>$66.6$</td>\n      <td>$106.3$</td>\n      <td>$281.9$</td>\n      <td>$\\bm{0.6}$</td>\n      <td>$32.3$</td>\n      <td>$19.2$</td>\n    </tr>\n  </tbody>\n</table>\n</div>"
     },
     "execution_count": 54,
     "metadata": {},
     "output_type": "execute_result"
    }
   ],
   "source": [
    "df_pretty: pd.DataFrame = df_pretty.sort_values(\n",
    "    by=[\"$p$\"]\n",
    ")\n",
    "\n",
    "df_pretty.head()\n",
    "\n"
   ],
   "metadata": {
    "collapsed": false,
    "pycharm": {
     "name": "#%%\n"
    }
   }
  },
  {
   "cell_type": "markdown",
   "source": [
    "# To file"
   ],
   "metadata": {
    "collapsed": false
   }
  },
  {
   "cell_type": "code",
   "execution_count": 55,
   "outputs": [
    {
     "name": "stdout",
     "output_type": "stream",
     "text": [
      "/home/joschout/Documents/Repos/KUL-PUL/paper_latex_tables/known_prop_scores/scar/confidence-error-table-scar-rerun-agg-per-p.tex\n"
     ]
    }
   ],
   "source": [
    "# dir_latex_table: str = os.path.join(\n",
    "#     kbc_e_metrics_project_dir,\n",
    "#     \"paper_latex_tables\",\n",
    "#     'known_prop_scores',\n",
    "#     'scar'\n",
    "# )\n",
    "#\n",
    "# if not os.path.exists(dir_latex_table):\n",
    "#     os.makedirs(dir_latex_table)\n",
    "\n",
    "filename_latex_table: str = os.path.join(\n",
    "    dir_latex_table,\n",
    "    \"confidence-error-table-scar-rerun-agg-per-p.tex\"\n",
    ")\n",
    "filename_tsv_table: str = os.path.join(\n",
    "    dir_latex_table,\n",
    "    \"confidence-error-table-scar-rerun-agg-per-p.tsv\"\n",
    ")\n",
    "\n",
    "\n",
    "with open(filename_latex_table, \"w\") as latex_ofile:\n",
    "    with pd.option_context(\"max_colwidth\", 1000):\n",
    "        latex_ofile.write(\n",
    "            df_pretty.to_latex(\n",
    "                column_format=\"lr|llllll|llllll\",\n",
    "                index=False,\n",
    "                float_format=\"{:0.3f}\".format,\n",
    "                escape=False,\n",
    "            #     caption=\"$[widehat{conf}-conf]^2$ for SCAR. \"\n",
    "            #             \"std=standard confidence, \"\n",
    "            #             \"PCA (S) = PCA confidence with $s$ as domain, \"\n",
    "            #             \"PCA (O) = PCA confidence with $o$  as domain, \"\n",
    "            #             \"IPW = PCA confidence with $\\hat{e}=e$, \"\n",
    "            #             \"IPW +/- $\" + f\"{label_frequency_est_diff:0.1}\" + \"$ = IPW confidence with $\\hat{e}=e+/-\" +  f\"{label_frequency_est_diff:0.1}\" + \"$.\"\n",
    "            )\n",
    "        )\n",
    "\n",
    "with open(filename_tsv_table, \"w\") as tsv_ofile:\n",
    "    tsv_ofile.write(df_pretty.to_csv(\n",
    "        index=False,\n",
    "        sep=\"\\t\"\n",
    "    ))\n",
    "\n",
    "print(filename_latex_table)\n"
   ],
   "metadata": {
    "collapsed": false,
    "pycharm": {
     "name": "#%%\n"
    }
   }
  },
  {
   "cell_type": "code",
   "execution_count": null,
   "outputs": [],
   "source": [],
   "metadata": {
    "collapsed": false,
    "pycharm": {
     "name": "#%%\n"
    }
   }
  },
  {
   "cell_type": "code",
   "execution_count": null,
   "outputs": [],
   "source": [],
   "metadata": {
    "collapsed": false,
    "pycharm": {
     "name": "#%%\n"
    }
   }
  }
 ],
 "metadata": {
  "kernelspec": {
   "display_name": "Python 3",
   "language": "python",
   "name": "python3"
  },
  "language_info": {
   "codemirror_mode": {
    "name": "ipython",
    "version": 2
   },
   "file_extension": ".py",
   "mimetype": "text/x-python",
   "name": "python",
   "nbconvert_exporter": "python",
   "pygments_lexer": "ipython2",
   "version": "2.7.6"
  }
 },
 "nbformat": 4,
 "nbformat_minor": 0
}