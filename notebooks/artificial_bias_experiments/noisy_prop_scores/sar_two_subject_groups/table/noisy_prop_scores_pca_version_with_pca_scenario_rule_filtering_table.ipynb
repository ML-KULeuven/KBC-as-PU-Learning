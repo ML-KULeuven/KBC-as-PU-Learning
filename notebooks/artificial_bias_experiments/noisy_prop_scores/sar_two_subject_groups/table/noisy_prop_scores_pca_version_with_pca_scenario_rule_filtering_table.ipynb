{
 "cells": [
  {
   "cell_type": "code",
   "execution_count": 63,
   "metadata": {
    "collapsed": true
   },
   "outputs": [],
   "source": [
    "from kbc_pul.project_info import project_dir as kbc_e_metrics_project_dir\n",
    "\n",
    "\n",
    "import os\n",
    "from typing import List, Dict, Set, Optional\n",
    "\n",
    "import numpy as np\n",
    "import pandas as pd\n",
    "\n",
    "from artificial_bias_experiments.evaluation.confidence_comparison.df_utils import ColumnNamesInfo\n",
    "from artificial_bias_experiments.known_prop_scores.dataset_generation_file_naming import \\\n",
    "    get_root_dir_experiment_noisy_propensity_scores\n",
    "from kbc_pul.confidence_naming import ConfidenceEnum\n",
    "from kbc_pul.observed_data_generation.sar_two_subject_groups.sar_two_subject_groups_prop_scores import \\\n",
    "    PropScoresTwoSARGroups\n",
    "from artificial_bias_experiments.noisy_prop_scores.sar_two_subject_groups.experiment_info import \\\n",
    "    NoisyPropScoresSARExperimentInfo\n",
    "from artificial_bias_experiments.noisy_prop_scores.sar_two_subject_groups.noisy_prop_scores_sar_two_groups_loading import \\\n",
    "    load_df_noisy_prop_scores_two_groups\n",
    "from artificial_bias_experiments.noisy_prop_scores.sar_two_subject_groups.image_generation.group_differences.loading_df_with_group_info_using_noisy_prop_scores_sar import \\\n",
    "    get_dataframe_with_info_about_noisy_prop_scores_sar_two_groups_for\n",
    "\n",
    "from pathlib import Path\n",
    "\n",
    "from pylo.language.lp import Clause as PyloClause"
   ]
  },
  {
   "cell_type": "markdown",
   "source": [
    "# Noisy SAR 2 groups - paper table\n"
   ],
   "metadata": {
    "collapsed": false,
    "pycharm": {
     "name": "#%% md\n"
    }
   }
  },
  {
   "cell_type": "code",
   "execution_count": 105,
   "outputs": [
    {
     "name": "stdout",
     "output_type": "stream",
     "text": [
      "participatedin - hasneighbor\n",
      "[Errno 2] No such file or directory: '/home/joschout/Documents/Repos/KUL-PUL/data/artificial_bias_experiments/noisy_prop_scores/sar_two_subject_groups/yago3_10/participatedin/hasneighbor/pca_version/s_prop0.5_ns_prop0.3/rule_wrappers'\n",
      "participatedin - hascapital\n",
      "participatedin - hasofficiallanguage\n",
      "[Errno 2] No such file or directory: '/home/joschout/Documents/Repos/KUL-PUL/data/artificial_bias_experiments/noisy_prop_scores/sar_two_subject_groups/yago3_10/participatedin/hasofficiallanguage/pca_version/s_prop0.5_ns_prop0.3/rule_wrappers'\n",
      "participatedin - imports\n",
      "[Errno 2] No such file or directory: '/home/joschout/Documents/Repos/KUL-PUL/data/artificial_bias_experiments/noisy_prop_scores/sar_two_subject_groups/yago3_10/participatedin/imports/pca_version/s_prop0.5_ns_prop0.3/rule_wrappers'\n",
      "participatedin - islocatedin\n",
      "[Errno 2] No such file or directory: '/home/joschout/Documents/Repos/KUL-PUL/data/artificial_bias_experiments/noisy_prop_scores/sar_two_subject_groups/yago3_10/participatedin/islocatedin/pca_version/s_prop0.5_ns_prop0.3/rule_wrappers'\n",
      "participatedin - exports\n",
      "[Errno 2] No such file or directory: '/home/joschout/Documents/Repos/KUL-PUL/data/artificial_bias_experiments/noisy_prop_scores/sar_two_subject_groups/yago3_10/participatedin/exports/pca_version/s_prop0.5_ns_prop0.3/rule_wrappers'\n",
      "participatedin - dealswith\n",
      "hascurrency - participatedin\n",
      "[Errno 2] No such file or directory: '/home/joschout/Documents/Repos/KUL-PUL/data/artificial_bias_experiments/noisy_prop_scores/sar_two_subject_groups/yago3_10/hascurrency/participatedin/pca_version/s_prop0.5_ns_prop0.3/rule_wrappers'\n",
      "hascurrency - hasneighbor\n",
      "[Errno 2] No such file or directory: '/home/joschout/Documents/Repos/KUL-PUL/data/artificial_bias_experiments/noisy_prop_scores/sar_two_subject_groups/yago3_10/hascurrency/hasneighbor/pca_version/s_prop0.5_ns_prop0.3/rule_wrappers'\n",
      "hascurrency - owns\n",
      "hascurrency - hascapital\n",
      "[Errno 2] No such file or directory: '/home/joschout/Documents/Repos/KUL-PUL/data/artificial_bias_experiments/noisy_prop_scores/sar_two_subject_groups/yago3_10/hascurrency/hascapital/pca_version/s_prop0.5_ns_prop0.3/rule_wrappers'\n",
      "hascurrency - hasofficiallanguage\n",
      "hascurrency - imports\n",
      "[Errno 2] No such file or directory: '/home/joschout/Documents/Repos/KUL-PUL/data/artificial_bias_experiments/noisy_prop_scores/sar_two_subject_groups/yago3_10/hascurrency/imports/pca_version/s_prop0.5_ns_prop0.3/rule_wrappers'\n",
      "hascurrency - exports\n",
      "[Errno 2] No such file or directory: '/home/joschout/Documents/Repos/KUL-PUL/data/artificial_bias_experiments/noisy_prop_scores/sar_two_subject_groups/yago3_10/hascurrency/exports/pca_version/s_prop0.5_ns_prop0.3/rule_wrappers'\n",
      "hascurrency - dealswith\n",
      "[Errno 2] No such file or directory: '/home/joschout/Documents/Repos/KUL-PUL/data/artificial_bias_experiments/noisy_prop_scores/sar_two_subject_groups/yago3_10/hascurrency/dealswith/pca_version/s_prop0.5_ns_prop0.3/rule_wrappers'\n",
      "directed - haswonprize\n",
      "[Errno 2] No such file or directory: '/home/joschout/Documents/Repos/KUL-PUL/data/artificial_bias_experiments/noisy_prop_scores/sar_two_subject_groups/yago3_10/directed/haswonprize/pca_version/s_prop0.5_ns_prop0.3/rule_wrappers'\n",
      "directed - diedin\n",
      "[Errno 2] No such file or directory: '/home/joschout/Documents/Repos/KUL-PUL/data/artificial_bias_experiments/noisy_prop_scores/sar_two_subject_groups/yago3_10/directed/diedin/pca_version/s_prop0.5_ns_prop0.3/rule_wrappers'\n",
      "directed - wasbornin\n",
      "[Errno 2] No such file or directory: '/home/joschout/Documents/Repos/KUL-PUL/data/artificial_bias_experiments/noisy_prop_scores/sar_two_subject_groups/yago3_10/directed/wasbornin/pca_version/s_prop0.5_ns_prop0.3/rule_wrappers'\n",
      "directed - created\n",
      "[Errno 2] No such file or directory: '/home/joschout/Documents/Repos/KUL-PUL/data/artificial_bias_experiments/noisy_prop_scores/sar_two_subject_groups/yago3_10/directed/created/pca_version/s_prop0.5_ns_prop0.3/rule_wrappers'\n",
      "directed - actedin\n",
      "directed - ismarriedto\n",
      "haswonprize - iscitizenof\n",
      "[Errno 2] No such file or directory: '/home/joschout/Documents/Repos/KUL-PUL/data/artificial_bias_experiments/noisy_prop_scores/sar_two_subject_groups/yago3_10/haswonprize/iscitizenof/pca_version/s_prop0.5_ns_prop0.3/rule_wrappers'\n",
      "haswonprize - diedin\n",
      "[Errno 2] No such file or directory: '/home/joschout/Documents/Repos/KUL-PUL/data/artificial_bias_experiments/noisy_prop_scores/sar_two_subject_groups/yago3_10/haswonprize/diedin/pca_version/s_prop0.5_ns_prop0.3/rule_wrappers'\n",
      "haswonprize - wasbornin\n",
      "[Errno 2] No such file or directory: '/home/joschout/Documents/Repos/KUL-PUL/data/artificial_bias_experiments/noisy_prop_scores/sar_two_subject_groups/yago3_10/haswonprize/wasbornin/pca_version/s_prop0.5_ns_prop0.3/rule_wrappers'\n",
      "haswonprize - graduatedfrom\n",
      "[Errno 2] No such file or directory: '/home/joschout/Documents/Repos/KUL-PUL/data/artificial_bias_experiments/noisy_prop_scores/sar_two_subject_groups/yago3_10/haswonprize/graduatedfrom/pca_version/s_prop0.5_ns_prop0.3/rule_wrappers'\n",
      "haswonprize - created\n",
      "[Errno 2] No such file or directory: '/home/joschout/Documents/Repos/KUL-PUL/data/artificial_bias_experiments/noisy_prop_scores/sar_two_subject_groups/yago3_10/haswonprize/created/pca_version/s_prop0.5_ns_prop0.3/rule_wrappers'\n",
      "haswonprize - isaffiliatedto\n",
      "[Errno 2] No such file or directory: '/home/joschout/Documents/Repos/KUL-PUL/data/artificial_bias_experiments/noisy_prop_scores/sar_two_subject_groups/yago3_10/haswonprize/isaffiliatedto/pca_version/s_prop0.5_ns_prop0.3/rule_wrappers'\n",
      "haswonprize - actedin\n",
      "[Errno 2] No such file or directory: '/home/joschout/Documents/Repos/KUL-PUL/data/artificial_bias_experiments/noisy_prop_scores/sar_two_subject_groups/yago3_10/haswonprize/actedin/pca_version/s_prop0.5_ns_prop0.3/rule_wrappers'\n",
      "haswonprize - influences\n",
      "haswonprize - ismarriedto\n",
      "[Errno 2] No such file or directory: '/home/joschout/Documents/Repos/KUL-PUL/data/artificial_bias_experiments/noisy_prop_scores/sar_two_subject_groups/yago3_10/haswonprize/ismarriedto/pca_version/s_prop0.5_ns_prop0.3/rule_wrappers'\n",
      "hasneighbor - participatedin\n",
      "[Errno 2] No such file or directory: '/home/joschout/Documents/Repos/KUL-PUL/data/artificial_bias_experiments/noisy_prop_scores/sar_two_subject_groups/yago3_10/hasneighbor/participatedin/pca_version/s_prop0.5_ns_prop0.3/rule_wrappers'\n",
      "hasneighbor - hascurrency\n",
      "[Errno 2] No such file or directory: '/home/joschout/Documents/Repos/KUL-PUL/data/artificial_bias_experiments/noisy_prop_scores/sar_two_subject_groups/yago3_10/hasneighbor/hascurrency/pca_version/s_prop0.5_ns_prop0.3/rule_wrappers'\n",
      "hasneighbor - owns\n",
      "[Errno 2] No such file or directory: '/home/joschout/Documents/Repos/KUL-PUL/data/artificial_bias_experiments/noisy_prop_scores/sar_two_subject_groups/yago3_10/hasneighbor/owns/pca_version/s_prop0.5_ns_prop0.3/rule_wrappers'\n",
      "hasneighbor - hascapital\n",
      "[Errno 2] No such file or directory: '/home/joschout/Documents/Repos/KUL-PUL/data/artificial_bias_experiments/noisy_prop_scores/sar_two_subject_groups/yago3_10/hasneighbor/hascapital/pca_version/s_prop0.5_ns_prop0.3/rule_wrappers'\n",
      "hasneighbor - hasofficiallanguage\n",
      "[Errno 2] No such file or directory: '/home/joschout/Documents/Repos/KUL-PUL/data/artificial_bias_experiments/noisy_prop_scores/sar_two_subject_groups/yago3_10/hasneighbor/hasofficiallanguage/pca_version/s_prop0.5_ns_prop0.3/rule_wrappers'\n",
      "hasneighbor - imports\n",
      "[Errno 2] No such file or directory: '/home/joschout/Documents/Repos/KUL-PUL/data/artificial_bias_experiments/noisy_prop_scores/sar_two_subject_groups/yago3_10/hasneighbor/imports/pca_version/s_prop0.5_ns_prop0.3/rule_wrappers'\n",
      "hasneighbor - exports\n",
      "[Errno 2] No such file or directory: '/home/joschout/Documents/Repos/KUL-PUL/data/artificial_bias_experiments/noisy_prop_scores/sar_two_subject_groups/yago3_10/hasneighbor/exports/pca_version/s_prop0.5_ns_prop0.3/rule_wrappers'\n",
      "hasneighbor - dealswith\n",
      "[Errno 2] No such file or directory: '/home/joschout/Documents/Repos/KUL-PUL/data/artificial_bias_experiments/noisy_prop_scores/sar_two_subject_groups/yago3_10/hasneighbor/dealswith/pca_version/s_prop0.5_ns_prop0.3/rule_wrappers'\n",
      "iscitizenof - haswonprize\n",
      "[Errno 2] No such file or directory: '/home/joschout/Documents/Repos/KUL-PUL/data/artificial_bias_experiments/noisy_prop_scores/sar_two_subject_groups/yago3_10/iscitizenof/haswonprize/pca_version/s_prop0.5_ns_prop0.3/rule_wrappers'\n",
      "iscitizenof - diedin\n",
      "iscitizenof - livesin\n",
      "[Errno 2] No such file or directory: '/home/joschout/Documents/Repos/KUL-PUL/data/artificial_bias_experiments/noisy_prop_scores/sar_two_subject_groups/yago3_10/iscitizenof/livesin/pca_version/s_prop0.5_ns_prop0.3/rule_wrappers'\n",
      "iscitizenof - wasbornin\n",
      "[Errno 2] No such file or directory: '/home/joschout/Documents/Repos/KUL-PUL/data/artificial_bias_experiments/noisy_prop_scores/sar_two_subject_groups/yago3_10/iscitizenof/wasbornin/pca_version/s_prop0.5_ns_prop0.3/rule_wrappers'\n",
      "iscitizenof - graduatedfrom\n",
      "iscitizenof - isaffiliatedto\n",
      "[Errno 2] No such file or directory: '/home/joschout/Documents/Repos/KUL-PUL/data/artificial_bias_experiments/noisy_prop_scores/sar_two_subject_groups/yago3_10/iscitizenof/isaffiliatedto/pca_version/s_prop0.5_ns_prop0.3/rule_wrappers'\n",
      "iscitizenof - worksat\n",
      "iscitizenof - hasacademicadvisor\n",
      "iscitizenof - influences\n",
      "[Errno 2] No such file or directory: '/home/joschout/Documents/Repos/KUL-PUL/data/artificial_bias_experiments/noisy_prop_scores/sar_two_subject_groups/yago3_10/iscitizenof/influences/pca_version/s_prop0.5_ns_prop0.3/rule_wrappers'\n",
      "isinterestedin - haswonprize\n",
      "[Errno 2] No such file or directory: '/home/joschout/Documents/Repos/KUL-PUL/data/artificial_bias_experiments/noisy_prop_scores/sar_two_subject_groups/yago3_10/isinterestedin/haswonprize/pca_version/s_prop0.5_ns_prop0.3/rule_wrappers'\n",
      "isinterestedin - diedin\n",
      "[Errno 2] No such file or directory: '/home/joschout/Documents/Repos/KUL-PUL/data/artificial_bias_experiments/noisy_prop_scores/sar_two_subject_groups/yago3_10/isinterestedin/diedin/pca_version/s_prop0.5_ns_prop0.3/rule_wrappers'\n",
      "isinterestedin - wasbornin\n",
      "[Errno 2] No such file or directory: '/home/joschout/Documents/Repos/KUL-PUL/data/artificial_bias_experiments/noisy_prop_scores/sar_two_subject_groups/yago3_10/isinterestedin/wasbornin/pca_version/s_prop0.5_ns_prop0.3/rule_wrappers'\n",
      "isinterestedin - graduatedfrom\n",
      "[Errno 2] No such file or directory: '/home/joschout/Documents/Repos/KUL-PUL/data/artificial_bias_experiments/noisy_prop_scores/sar_two_subject_groups/yago3_10/isinterestedin/graduatedfrom/pca_version/s_prop0.5_ns_prop0.3/rule_wrappers'\n",
      "isinterestedin - influences\n",
      "[Errno 2] No such file or directory: '/home/joschout/Documents/Repos/KUL-PUL/data/artificial_bias_experiments/noisy_prop_scores/sar_two_subject_groups/yago3_10/isinterestedin/influences/pca_version/s_prop0.5_ns_prop0.3/rule_wrappers'\n",
      "diedin - haswonprize\n",
      "[Errno 2] No such file or directory: '/home/joschout/Documents/Repos/KUL-PUL/data/artificial_bias_experiments/noisy_prop_scores/sar_two_subject_groups/yago3_10/diedin/haswonprize/pca_version/s_prop0.5_ns_prop0.3/rule_wrappers'\n",
      "diedin - iscitizenof\n",
      "[Errno 2] No such file or directory: '/home/joschout/Documents/Repos/KUL-PUL/data/artificial_bias_experiments/noisy_prop_scores/sar_two_subject_groups/yago3_10/diedin/iscitizenof/pca_version/s_prop0.5_ns_prop0.3/rule_wrappers'\n",
      "diedin - wasbornin\n",
      "[Errno 2] No such file or directory: '/home/joschout/Documents/Repos/KUL-PUL/data/artificial_bias_experiments/noisy_prop_scores/sar_two_subject_groups/yago3_10/diedin/wasbornin/pca_version/s_prop0.5_ns_prop0.3/rule_wrappers'\n",
      "diedin - graduatedfrom\n",
      "[Errno 2] No such file or directory: '/home/joschout/Documents/Repos/KUL-PUL/data/artificial_bias_experiments/noisy_prop_scores/sar_two_subject_groups/yago3_10/diedin/graduatedfrom/pca_version/s_prop0.5_ns_prop0.3/rule_wrappers'\n",
      "diedin - isaffiliatedto\n",
      "diedin - actedin\n",
      "[Errno 2] No such file or directory: '/home/joschout/Documents/Repos/KUL-PUL/data/artificial_bias_experiments/noisy_prop_scores/sar_two_subject_groups/yago3_10/diedin/actedin/pca_version/s_prop0.5_ns_prop0.3/rule_wrappers'\n",
      "diedin - influences\n",
      "[Errno 2] No such file or directory: '/home/joschout/Documents/Repos/KUL-PUL/data/artificial_bias_experiments/noisy_prop_scores/sar_two_subject_groups/yago3_10/diedin/influences/pca_version/s_prop0.5_ns_prop0.3/rule_wrappers'\n",
      "diedin - haschild\n",
      "[Errno 2] No such file or directory: '/home/joschout/Documents/Repos/KUL-PUL/data/artificial_bias_experiments/noisy_prop_scores/sar_two_subject_groups/yago3_10/diedin/haschild/pca_version/s_prop0.5_ns_prop0.3/rule_wrappers'\n",
      "diedin - playsfor\n",
      "[Errno 2] No such file or directory: '/home/joschout/Documents/Repos/KUL-PUL/data/artificial_bias_experiments/noisy_prop_scores/sar_two_subject_groups/yago3_10/diedin/playsfor/pca_version/s_prop0.5_ns_prop0.3/rule_wrappers'\n",
      "diedin - ismarriedto\n",
      "[Errno 2] No such file or directory: '/home/joschout/Documents/Repos/KUL-PUL/data/artificial_bias_experiments/noisy_prop_scores/sar_two_subject_groups/yago3_10/diedin/ismarriedto/pca_version/s_prop0.5_ns_prop0.3/rule_wrappers'\n",
      "wrotemusicfor - haswonprize\n",
      "[Errno 2] No such file or directory: '/home/joschout/Documents/Repos/KUL-PUL/data/artificial_bias_experiments/noisy_prop_scores/sar_two_subject_groups/yago3_10/wrotemusicfor/haswonprize/pca_version/s_prop0.5_ns_prop0.3/rule_wrappers'\n",
      "wrotemusicfor - diedin\n",
      "[Errno 2] No such file or directory: '/home/joschout/Documents/Repos/KUL-PUL/data/artificial_bias_experiments/noisy_prop_scores/sar_two_subject_groups/yago3_10/wrotemusicfor/diedin/pca_version/s_prop0.5_ns_prop0.3/rule_wrappers'\n",
      "wrotemusicfor - wasbornin\n",
      "[Errno 2] No such file or directory: '/home/joschout/Documents/Repos/KUL-PUL/data/artificial_bias_experiments/noisy_prop_scores/sar_two_subject_groups/yago3_10/wrotemusicfor/wasbornin/pca_version/s_prop0.5_ns_prop0.3/rule_wrappers'\n",
      "wrotemusicfor - created\n",
      "[Errno 2] No such file or directory: '/home/joschout/Documents/Repos/KUL-PUL/data/artificial_bias_experiments/noisy_prop_scores/sar_two_subject_groups/yago3_10/wrotemusicfor/created/pca_version/s_prop0.5_ns_prop0.3/rule_wrappers'\n",
      "wrotemusicfor - hasmusicalrole\n",
      "[Errno 2] No such file or directory: '/home/joschout/Documents/Repos/KUL-PUL/data/artificial_bias_experiments/noisy_prop_scores/sar_two_subject_groups/yago3_10/wrotemusicfor/hasmusicalrole/pca_version/s_prop0.5_ns_prop0.3/rule_wrappers'\n",
      "owns - participatedin\n",
      "owns - hascapital\n",
      "[Errno 2] No such file or directory: '/home/joschout/Documents/Repos/KUL-PUL/data/artificial_bias_experiments/noisy_prop_scores/sar_two_subject_groups/yago3_10/owns/hascapital/pca_version/s_prop0.5_ns_prop0.3/rule_wrappers'\n",
      "owns - wasbornin\n",
      "[Errno 2] No such file or directory: '/home/joschout/Documents/Repos/KUL-PUL/data/artificial_bias_experiments/noisy_prop_scores/sar_two_subject_groups/yago3_10/owns/wasbornin/pca_version/s_prop0.5_ns_prop0.3/rule_wrappers'\n",
      "owns - hasgender\n",
      "[Errno 2] No such file or directory: '/home/joschout/Documents/Repos/KUL-PUL/data/artificial_bias_experiments/noisy_prop_scores/sar_two_subject_groups/yago3_10/owns/hasgender/pca_version/s_prop0.5_ns_prop0.3/rule_wrappers'\n",
      "owns - islocatedin\n",
      "[Errno 2] No such file or directory: '/home/joschout/Documents/Repos/KUL-PUL/data/artificial_bias_experiments/noisy_prop_scores/sar_two_subject_groups/yago3_10/owns/islocatedin/pca_version/s_prop0.5_ns_prop0.3/rule_wrappers'\n",
      "hascapital - participatedin\n",
      "[Errno 2] No such file or directory: '/home/joschout/Documents/Repos/KUL-PUL/data/artificial_bias_experiments/noisy_prop_scores/sar_two_subject_groups/yago3_10/hascapital/participatedin/pca_version/s_prop0.5_ns_prop0.3/rule_wrappers'\n",
      "hasofficiallanguage - participatedin\n",
      "hasofficiallanguage - hascurrency\n",
      "[Errno 2] No such file or directory: '/home/joschout/Documents/Repos/KUL-PUL/data/artificial_bias_experiments/noisy_prop_scores/sar_two_subject_groups/yago3_10/hasofficiallanguage/hascurrency/pca_version/s_prop0.5_ns_prop0.3/rule_wrappers'\n",
      "hasofficiallanguage - hasneighbor\n",
      "[Errno 2] No such file or directory: '/home/joschout/Documents/Repos/KUL-PUL/data/artificial_bias_experiments/noisy_prop_scores/sar_two_subject_groups/yago3_10/hasofficiallanguage/hasneighbor/pca_version/s_prop0.5_ns_prop0.3/rule_wrappers'\n",
      "hasofficiallanguage - hascapital\n",
      "hasofficiallanguage - imports\n",
      "hasofficiallanguage - exports\n",
      "hasofficiallanguage - dealswith\n",
      "edited - directed\n",
      "[Errno 2] No such file or directory: '/home/joschout/Documents/Repos/KUL-PUL/data/artificial_bias_experiments/noisy_prop_scores/sar_two_subject_groups/yago3_10/edited/directed/pca_version/s_prop0.5_ns_prop0.3/rule_wrappers'\n",
      "edited - haswonprize\n",
      "[Errno 2] No such file or directory: '/home/joschout/Documents/Repos/KUL-PUL/data/artificial_bias_experiments/noisy_prop_scores/sar_two_subject_groups/yago3_10/edited/haswonprize/pca_version/s_prop0.5_ns_prop0.3/rule_wrappers'\n",
      "edited - diedin\n",
      "[Errno 2] No such file or directory: '/home/joschout/Documents/Repos/KUL-PUL/data/artificial_bias_experiments/noisy_prop_scores/sar_two_subject_groups/yago3_10/edited/diedin/pca_version/s_prop0.5_ns_prop0.3/rule_wrappers'\n",
      "edited - wasbornin\n",
      "[Errno 2] No such file or directory: '/home/joschout/Documents/Repos/KUL-PUL/data/artificial_bias_experiments/noisy_prop_scores/sar_two_subject_groups/yago3_10/edited/wasbornin/pca_version/s_prop0.5_ns_prop0.3/rule_wrappers'\n",
      "livesin - haswonprize\n",
      "[Errno 2] No such file or directory: '/home/joschout/Documents/Repos/KUL-PUL/data/artificial_bias_experiments/noisy_prop_scores/sar_two_subject_groups/yago3_10/livesin/haswonprize/pca_version/s_prop0.5_ns_prop0.3/rule_wrappers'\n",
      "livesin - iscitizenof\n",
      "[Errno 2] No such file or directory: '/home/joschout/Documents/Repos/KUL-PUL/data/artificial_bias_experiments/noisy_prop_scores/sar_two_subject_groups/yago3_10/livesin/iscitizenof/pca_version/s_prop0.5_ns_prop0.3/rule_wrappers'\n",
      "livesin - diedin\n",
      "[Errno 2] No such file or directory: '/home/joschout/Documents/Repos/KUL-PUL/data/artificial_bias_experiments/noisy_prop_scores/sar_two_subject_groups/yago3_10/livesin/diedin/pca_version/s_prop0.5_ns_prop0.3/rule_wrappers'\n",
      "livesin - wasbornin\n",
      "[Errno 2] No such file or directory: '/home/joschout/Documents/Repos/KUL-PUL/data/artificial_bias_experiments/noisy_prop_scores/sar_two_subject_groups/yago3_10/livesin/wasbornin/pca_version/s_prop0.5_ns_prop0.3/rule_wrappers'\n",
      "livesin - graduatedfrom\n",
      "livesin - ispoliticianof\n",
      "[Errno 2] No such file or directory: '/home/joschout/Documents/Repos/KUL-PUL/data/artificial_bias_experiments/noisy_prop_scores/sar_two_subject_groups/yago3_10/livesin/ispoliticianof/pca_version/s_prop0.5_ns_prop0.3/rule_wrappers'\n",
      "livesin - isaffiliatedto\n",
      "[Errno 2] No such file or directory: '/home/joschout/Documents/Repos/KUL-PUL/data/artificial_bias_experiments/noisy_prop_scores/sar_two_subject_groups/yago3_10/livesin/isaffiliatedto/pca_version/s_prop0.5_ns_prop0.3/rule_wrappers'\n",
      "livesin - worksat\n",
      "[Errno 2] No such file or directory: '/home/joschout/Documents/Repos/KUL-PUL/data/artificial_bias_experiments/noisy_prop_scores/sar_two_subject_groups/yago3_10/livesin/worksat/pca_version/s_prop0.5_ns_prop0.3/rule_wrappers'\n",
      "livesin - actedin\n",
      "livesin - hasacademicadvisor\n",
      "livesin - ismarriedto\n",
      "[Errno 2] No such file or directory: '/home/joschout/Documents/Repos/KUL-PUL/data/artificial_bias_experiments/noisy_prop_scores/sar_two_subject_groups/yago3_10/livesin/ismarriedto/pca_version/s_prop0.5_ns_prop0.3/rule_wrappers'\n",
      "wasbornin - haswonprize\n",
      "[Errno 2] No such file or directory: '/home/joschout/Documents/Repos/KUL-PUL/data/artificial_bias_experiments/noisy_prop_scores/sar_two_subject_groups/yago3_10/wasbornin/haswonprize/pca_version/s_prop0.5_ns_prop0.3/rule_wrappers'\n",
      "wasbornin - diedin\n",
      "[Errno 2] No such file or directory: '/home/joschout/Documents/Repos/KUL-PUL/data/artificial_bias_experiments/noisy_prop_scores/sar_two_subject_groups/yago3_10/wasbornin/diedin/pca_version/s_prop0.5_ns_prop0.3/rule_wrappers'\n",
      "wasbornin - isaffiliatedto\n",
      "[Errno 2] No such file or directory: '/home/joschout/Documents/Repos/KUL-PUL/data/artificial_bias_experiments/noisy_prop_scores/sar_two_subject_groups/yago3_10/wasbornin/isaffiliatedto/pca_version/s_prop0.5_ns_prop0.3/rule_wrappers'\n",
      "wasbornin - playsfor\n",
      "isleaderof - haswonprize\n",
      "[Errno 2] No such file or directory: '/home/joschout/Documents/Repos/KUL-PUL/data/artificial_bias_experiments/noisy_prop_scores/sar_two_subject_groups/yago3_10/isleaderof/haswonprize/pca_version/s_prop0.5_ns_prop0.3/rule_wrappers'\n",
      "isleaderof - iscitizenof\n",
      "[Errno 2] No such file or directory: '/home/joschout/Documents/Repos/KUL-PUL/data/artificial_bias_experiments/noisy_prop_scores/sar_two_subject_groups/yago3_10/isleaderof/iscitizenof/pca_version/s_prop0.5_ns_prop0.3/rule_wrappers'\n",
      "isleaderof - diedin\n",
      "[Errno 2] No such file or directory: '/home/joschout/Documents/Repos/KUL-PUL/data/artificial_bias_experiments/noisy_prop_scores/sar_two_subject_groups/yago3_10/isleaderof/diedin/pca_version/s_prop0.5_ns_prop0.3/rule_wrappers'\n",
      "isleaderof - livesin\n",
      "[Errno 2] No such file or directory: '/home/joschout/Documents/Repos/KUL-PUL/data/artificial_bias_experiments/noisy_prop_scores/sar_two_subject_groups/yago3_10/isleaderof/livesin/pca_version/s_prop0.5_ns_prop0.3/rule_wrappers'\n",
      "isleaderof - wasbornin\n",
      "[Errno 2] No such file or directory: '/home/joschout/Documents/Repos/KUL-PUL/data/artificial_bias_experiments/noisy_prop_scores/sar_two_subject_groups/yago3_10/isleaderof/wasbornin/pca_version/s_prop0.5_ns_prop0.3/rule_wrappers'\n",
      "isleaderof - graduatedfrom\n",
      "[Errno 2] No such file or directory: '/home/joschout/Documents/Repos/KUL-PUL/data/artificial_bias_experiments/noisy_prop_scores/sar_two_subject_groups/yago3_10/isleaderof/graduatedfrom/pca_version/s_prop0.5_ns_prop0.3/rule_wrappers'\n",
      "isleaderof - ispoliticianof\n",
      "[Errno 2] No such file or directory: '/home/joschout/Documents/Repos/KUL-PUL/data/artificial_bias_experiments/noisy_prop_scores/sar_two_subject_groups/yago3_10/isleaderof/ispoliticianof/pca_version/s_prop0.5_ns_prop0.3/rule_wrappers'\n",
      "isleaderof - isaffiliatedto\n",
      "isleaderof - haschild\n",
      "[Errno 2] No such file or directory: '/home/joschout/Documents/Repos/KUL-PUL/data/artificial_bias_experiments/noisy_prop_scores/sar_two_subject_groups/yago3_10/isleaderof/haschild/pca_version/s_prop0.5_ns_prop0.3/rule_wrappers'\n",
      "graduatedfrom - haswonprize\n",
      "[Errno 2] No such file or directory: '/home/joschout/Documents/Repos/KUL-PUL/data/artificial_bias_experiments/noisy_prop_scores/sar_two_subject_groups/yago3_10/graduatedfrom/haswonprize/pca_version/s_prop0.5_ns_prop0.3/rule_wrappers'\n",
      "graduatedfrom - iscitizenof\n",
      "[Errno 2] No such file or directory: '/home/joschout/Documents/Repos/KUL-PUL/data/artificial_bias_experiments/noisy_prop_scores/sar_two_subject_groups/yago3_10/graduatedfrom/iscitizenof/pca_version/s_prop0.5_ns_prop0.3/rule_wrappers'\n",
      "graduatedfrom - diedin\n",
      "[Errno 2] No such file or directory: '/home/joschout/Documents/Repos/KUL-PUL/data/artificial_bias_experiments/noisy_prop_scores/sar_two_subject_groups/yago3_10/graduatedfrom/diedin/pca_version/s_prop0.5_ns_prop0.3/rule_wrappers'\n",
      "graduatedfrom - livesin\n",
      "[Errno 2] No such file or directory: '/home/joschout/Documents/Repos/KUL-PUL/data/artificial_bias_experiments/noisy_prop_scores/sar_two_subject_groups/yago3_10/graduatedfrom/livesin/pca_version/s_prop0.5_ns_prop0.3/rule_wrappers'\n",
      "graduatedfrom - wasbornin\n",
      "[Errno 2] No such file or directory: '/home/joschout/Documents/Repos/KUL-PUL/data/artificial_bias_experiments/noisy_prop_scores/sar_two_subject_groups/yago3_10/graduatedfrom/wasbornin/pca_version/s_prop0.5_ns_prop0.3/rule_wrappers'\n",
      "graduatedfrom - ispoliticianof\n",
      "[Errno 2] No such file or directory: '/home/joschout/Documents/Repos/KUL-PUL/data/artificial_bias_experiments/noisy_prop_scores/sar_two_subject_groups/yago3_10/graduatedfrom/ispoliticianof/pca_version/s_prop0.5_ns_prop0.3/rule_wrappers'\n",
      "graduatedfrom - isaffiliatedto\n",
      "graduatedfrom - worksat\n",
      "[Errno 2] No such file or directory: '/home/joschout/Documents/Repos/KUL-PUL/data/artificial_bias_experiments/noisy_prop_scores/sar_two_subject_groups/yago3_10/graduatedfrom/worksat/pca_version/s_prop0.5_ns_prop0.3/rule_wrappers'\n",
      "graduatedfrom - actedin\n",
      "[Errno 2] No such file or directory: '/home/joschout/Documents/Repos/KUL-PUL/data/artificial_bias_experiments/noisy_prop_scores/sar_two_subject_groups/yago3_10/graduatedfrom/actedin/pca_version/s_prop0.5_ns_prop0.3/rule_wrappers'\n",
      "graduatedfrom - hasacademicadvisor\n",
      "[Errno 2] No such file or directory: '/home/joschout/Documents/Repos/KUL-PUL/data/artificial_bias_experiments/noisy_prop_scores/sar_two_subject_groups/yago3_10/graduatedfrom/hasacademicadvisor/pca_version/s_prop0.5_ns_prop0.3/rule_wrappers'\n",
      "graduatedfrom - influences\n",
      "[Errno 2] No such file or directory: '/home/joschout/Documents/Repos/KUL-PUL/data/artificial_bias_experiments/noisy_prop_scores/sar_two_subject_groups/yago3_10/graduatedfrom/influences/pca_version/s_prop0.5_ns_prop0.3/rule_wrappers'\n",
      "graduatedfrom - haschild\n",
      "[Errno 2] No such file or directory: '/home/joschout/Documents/Repos/KUL-PUL/data/artificial_bias_experiments/noisy_prop_scores/sar_two_subject_groups/yago3_10/graduatedfrom/haschild/pca_version/s_prop0.5_ns_prop0.3/rule_wrappers'\n",
      "created - directed\n",
      "[Errno 2] No such file or directory: '/home/joschout/Documents/Repos/KUL-PUL/data/artificial_bias_experiments/noisy_prop_scores/sar_two_subject_groups/yago3_10/created/directed/pca_version/s_prop0.5_ns_prop0.3/rule_wrappers'\n",
      "created - haswonprize\n",
      "created - diedin\n",
      "[Errno 2] No such file or directory: '/home/joschout/Documents/Repos/KUL-PUL/data/artificial_bias_experiments/noisy_prop_scores/sar_two_subject_groups/yago3_10/created/diedin/pca_version/s_prop0.5_ns_prop0.3/rule_wrappers'\n",
      "created - wrotemusicfor\n",
      "[Errno 2] No such file or directory: '/home/joschout/Documents/Repos/KUL-PUL/data/artificial_bias_experiments/noisy_prop_scores/sar_two_subject_groups/yago3_10/created/wrotemusicfor/pca_version/s_prop0.5_ns_prop0.3/rule_wrappers'\n",
      "created - wasbornin\n",
      "[Errno 2] No such file or directory: '/home/joschout/Documents/Repos/KUL-PUL/data/artificial_bias_experiments/noisy_prop_scores/sar_two_subject_groups/yago3_10/created/wasbornin/pca_version/s_prop0.5_ns_prop0.3/rule_wrappers'\n",
      "created - graduatedfrom\n",
      "created - actedin\n",
      "[Errno 2] No such file or directory: '/home/joschout/Documents/Repos/KUL-PUL/data/artificial_bias_experiments/noisy_prop_scores/sar_two_subject_groups/yago3_10/created/actedin/pca_version/s_prop0.5_ns_prop0.3/rule_wrappers'\n",
      "created - influences\n",
      "[Errno 2] No such file or directory: '/home/joschout/Documents/Repos/KUL-PUL/data/artificial_bias_experiments/noisy_prop_scores/sar_two_subject_groups/yago3_10/created/influences/pca_version/s_prop0.5_ns_prop0.3/rule_wrappers'\n",
      "hasmusicalrole - haswonprize\n",
      "[Errno 2] No such file or directory: '/home/joschout/Documents/Repos/KUL-PUL/data/artificial_bias_experiments/noisy_prop_scores/sar_two_subject_groups/yago3_10/hasmusicalrole/haswonprize/pca_version/s_prop0.5_ns_prop0.3/rule_wrappers'\n",
      "hasmusicalrole - diedin\n",
      "[Errno 2] No such file or directory: '/home/joschout/Documents/Repos/KUL-PUL/data/artificial_bias_experiments/noisy_prop_scores/sar_two_subject_groups/yago3_10/hasmusicalrole/diedin/pca_version/s_prop0.5_ns_prop0.3/rule_wrappers'\n",
      "hasmusicalrole - wrotemusicfor\n",
      "[Errno 2] No such file or directory: '/home/joschout/Documents/Repos/KUL-PUL/data/artificial_bias_experiments/noisy_prop_scores/sar_two_subject_groups/yago3_10/hasmusicalrole/wrotemusicfor/pca_version/s_prop0.5_ns_prop0.3/rule_wrappers'\n",
      "hasmusicalrole - wasbornin\n",
      "[Errno 2] No such file or directory: '/home/joschout/Documents/Repos/KUL-PUL/data/artificial_bias_experiments/noisy_prop_scores/sar_two_subject_groups/yago3_10/hasmusicalrole/wasbornin/pca_version/s_prop0.5_ns_prop0.3/rule_wrappers'\n",
      "hasgender - haswonprize\n",
      "[Errno 2] No such file or directory: '/home/joschout/Documents/Repos/KUL-PUL/data/artificial_bias_experiments/noisy_prop_scores/sar_two_subject_groups/yago3_10/hasgender/haswonprize/pca_version/s_prop0.5_ns_prop0.3/rule_wrappers'\n",
      "hasgender - diedin\n",
      "[Errno 2] No such file or directory: '/home/joschout/Documents/Repos/KUL-PUL/data/artificial_bias_experiments/noisy_prop_scores/sar_two_subject_groups/yago3_10/hasgender/diedin/pca_version/s_prop0.5_ns_prop0.3/rule_wrappers'\n",
      "hasgender - wasbornin\n",
      "[Errno 2] No such file or directory: '/home/joschout/Documents/Repos/KUL-PUL/data/artificial_bias_experiments/noisy_prop_scores/sar_two_subject_groups/yago3_10/hasgender/wasbornin/pca_version/s_prop0.5_ns_prop0.3/rule_wrappers'\n",
      "hasgender - isaffiliatedto\n",
      "hasgender - playsfor\n",
      "[Errno 2] No such file or directory: '/home/joschout/Documents/Repos/KUL-PUL/data/artificial_bias_experiments/noisy_prop_scores/sar_two_subject_groups/yago3_10/hasgender/playsfor/pca_version/s_prop0.5_ns_prop0.3/rule_wrappers'\n",
      "haswebsite - islocatedin\n",
      "[Errno 2] No such file or directory: '/home/joschout/Documents/Repos/KUL-PUL/data/artificial_bias_experiments/noisy_prop_scores/sar_two_subject_groups/yago3_10/haswebsite/islocatedin/pca_version/s_prop0.5_ns_prop0.3/rule_wrappers'\n",
      "imports - participatedin\n",
      "imports - hascurrency\n",
      "imports - hasneighbor\n",
      "[Errno 2] No such file or directory: '/home/joschout/Documents/Repos/KUL-PUL/data/artificial_bias_experiments/noisy_prop_scores/sar_two_subject_groups/yago3_10/imports/hasneighbor/pca_version/s_prop0.5_ns_prop0.3/rule_wrappers'\n",
      "imports - owns\n",
      "imports - hascapital\n",
      "[Errno 2] No such file or directory: '/home/joschout/Documents/Repos/KUL-PUL/data/artificial_bias_experiments/noisy_prop_scores/sar_two_subject_groups/yago3_10/imports/hascapital/pca_version/s_prop0.5_ns_prop0.3/rule_wrappers'\n",
      "imports - hasofficiallanguage\n",
      "[Errno 2] No such file or directory: '/home/joschout/Documents/Repos/KUL-PUL/data/artificial_bias_experiments/noisy_prop_scores/sar_two_subject_groups/yago3_10/imports/hasofficiallanguage/pca_version/s_prop0.5_ns_prop0.3/rule_wrappers'\n",
      "imports - exports\n",
      "[Errno 2] No such file or directory: '/home/joschout/Documents/Repos/KUL-PUL/data/artificial_bias_experiments/noisy_prop_scores/sar_two_subject_groups/yago3_10/imports/exports/pca_version/s_prop0.5_ns_prop0.3/rule_wrappers'\n",
      "ispoliticianof - haswonprize\n",
      "ispoliticianof - iscitizenof\n",
      "[Errno 2] No such file or directory: '/home/joschout/Documents/Repos/KUL-PUL/data/artificial_bias_experiments/noisy_prop_scores/sar_two_subject_groups/yago3_10/ispoliticianof/iscitizenof/pca_version/s_prop0.5_ns_prop0.3/rule_wrappers'\n",
      "ispoliticianof - diedin\n",
      "[Errno 2] No such file or directory: '/home/joschout/Documents/Repos/KUL-PUL/data/artificial_bias_experiments/noisy_prop_scores/sar_two_subject_groups/yago3_10/ispoliticianof/diedin/pca_version/s_prop0.5_ns_prop0.3/rule_wrappers'\n",
      "ispoliticianof - livesin\n",
      "[Errno 2] No such file or directory: '/home/joschout/Documents/Repos/KUL-PUL/data/artificial_bias_experiments/noisy_prop_scores/sar_two_subject_groups/yago3_10/ispoliticianof/livesin/pca_version/s_prop0.5_ns_prop0.3/rule_wrappers'\n",
      "ispoliticianof - wasbornin\n",
      "[Errno 2] No such file or directory: '/home/joschout/Documents/Repos/KUL-PUL/data/artificial_bias_experiments/noisy_prop_scores/sar_two_subject_groups/yago3_10/ispoliticianof/wasbornin/pca_version/s_prop0.5_ns_prop0.3/rule_wrappers'\n",
      "ispoliticianof - isleaderof\n",
      "[Errno 2] No such file or directory: '/home/joschout/Documents/Repos/KUL-PUL/data/artificial_bias_experiments/noisy_prop_scores/sar_two_subject_groups/yago3_10/ispoliticianof/isleaderof/pca_version/s_prop0.5_ns_prop0.3/rule_wrappers'\n",
      "ispoliticianof - graduatedfrom\n",
      "ispoliticianof - isaffiliatedto\n",
      "ispoliticianof - haschild\n",
      "isaffiliatedto - wasbornin\n",
      "isaffiliatedto - hasgender\n",
      "[Errno 2] No such file or directory: '/home/joschout/Documents/Repos/KUL-PUL/data/artificial_bias_experiments/noisy_prop_scores/sar_two_subject_groups/yago3_10/isaffiliatedto/hasgender/pca_version/s_prop0.5_ns_prop0.3/rule_wrappers'\n",
      "isaffiliatedto - playsfor\n",
      "[Errno 2] No such file or directory: '/home/joschout/Documents/Repos/KUL-PUL/data/artificial_bias_experiments/noisy_prop_scores/sar_two_subject_groups/yago3_10/isaffiliatedto/playsfor/pca_version/s_prop0.5_ns_prop0.3/rule_wrappers'\n",
      "exports - participatedin\n",
      "exports - hascurrency\n",
      "exports - hasneighbor\n",
      "[Errno 2] No such file or directory: '/home/joschout/Documents/Repos/KUL-PUL/data/artificial_bias_experiments/noisy_prop_scores/sar_two_subject_groups/yago3_10/exports/hasneighbor/pca_version/s_prop0.5_ns_prop0.3/rule_wrappers'\n",
      "exports - owns\n",
      "exports - hascapital\n",
      "exports - hasofficiallanguage\n",
      "[Errno 2] No such file or directory: '/home/joschout/Documents/Repos/KUL-PUL/data/artificial_bias_experiments/noisy_prop_scores/sar_two_subject_groups/yago3_10/exports/hasofficiallanguage/pca_version/s_prop0.5_ns_prop0.3/rule_wrappers'\n",
      "worksat - haswonprize\n",
      "[Errno 2] No such file or directory: '/home/joschout/Documents/Repos/KUL-PUL/data/artificial_bias_experiments/noisy_prop_scores/sar_two_subject_groups/yago3_10/worksat/haswonprize/pca_version/s_prop0.5_ns_prop0.3/rule_wrappers'\n",
      "worksat - iscitizenof\n",
      "[Errno 2] No such file or directory: '/home/joschout/Documents/Repos/KUL-PUL/data/artificial_bias_experiments/noisy_prop_scores/sar_two_subject_groups/yago3_10/worksat/iscitizenof/pca_version/s_prop0.5_ns_prop0.3/rule_wrappers'\n",
      "worksat - diedin\n",
      "[Errno 2] No such file or directory: '/home/joschout/Documents/Repos/KUL-PUL/data/artificial_bias_experiments/noisy_prop_scores/sar_two_subject_groups/yago3_10/worksat/diedin/pca_version/s_prop0.5_ns_prop0.3/rule_wrappers'\n",
      "worksat - livesin\n",
      "[Errno 2] No such file or directory: '/home/joschout/Documents/Repos/KUL-PUL/data/artificial_bias_experiments/noisy_prop_scores/sar_two_subject_groups/yago3_10/worksat/livesin/pca_version/s_prop0.5_ns_prop0.3/rule_wrappers'\n",
      "worksat - wasbornin\n",
      "[Errno 2] No such file or directory: '/home/joschout/Documents/Repos/KUL-PUL/data/artificial_bias_experiments/noisy_prop_scores/sar_two_subject_groups/yago3_10/worksat/wasbornin/pca_version/s_prop0.5_ns_prop0.3/rule_wrappers'\n",
      "worksat - hasacademicadvisor\n",
      "[Errno 2] No such file or directory: '/home/joschout/Documents/Repos/KUL-PUL/data/artificial_bias_experiments/noisy_prop_scores/sar_two_subject_groups/yago3_10/worksat/hasacademicadvisor/pca_version/s_prop0.5_ns_prop0.3/rule_wrappers'\n",
      "worksat - influences\n",
      "[Errno 2] No such file or directory: '/home/joschout/Documents/Repos/KUL-PUL/data/artificial_bias_experiments/noisy_prop_scores/sar_two_subject_groups/yago3_10/worksat/influences/pca_version/s_prop0.5_ns_prop0.3/rule_wrappers'\n",
      "dealswith - participatedin\n",
      "[Errno 2] No such file or directory: '/home/joschout/Documents/Repos/KUL-PUL/data/artificial_bias_experiments/noisy_prop_scores/sar_two_subject_groups/yago3_10/dealswith/participatedin/pca_version/s_prop0.5_ns_prop0.3/rule_wrappers'\n",
      "dealswith - hascurrency\n",
      "[Errno 2] No such file or directory: '/home/joschout/Documents/Repos/KUL-PUL/data/artificial_bias_experiments/noisy_prop_scores/sar_two_subject_groups/yago3_10/dealswith/hascurrency/pca_version/s_prop0.5_ns_prop0.3/rule_wrappers'\n",
      "dealswith - hasneighbor\n",
      "[Errno 2] No such file or directory: '/home/joschout/Documents/Repos/KUL-PUL/data/artificial_bias_experiments/noisy_prop_scores/sar_two_subject_groups/yago3_10/dealswith/hasneighbor/pca_version/s_prop0.5_ns_prop0.3/rule_wrappers'\n",
      "dealswith - owns\n",
      "[Errno 2] No such file or directory: '/home/joschout/Documents/Repos/KUL-PUL/data/artificial_bias_experiments/noisy_prop_scores/sar_two_subject_groups/yago3_10/dealswith/owns/pca_version/s_prop0.5_ns_prop0.3/rule_wrappers'\n",
      "dealswith - hascapital\n",
      "[Errno 2] No such file or directory: '/home/joschout/Documents/Repos/KUL-PUL/data/artificial_bias_experiments/noisy_prop_scores/sar_two_subject_groups/yago3_10/dealswith/hascapital/pca_version/s_prop0.5_ns_prop0.3/rule_wrappers'\n",
      "dealswith - hasofficiallanguage\n",
      "[Errno 2] No such file or directory: '/home/joschout/Documents/Repos/KUL-PUL/data/artificial_bias_experiments/noisy_prop_scores/sar_two_subject_groups/yago3_10/dealswith/hasofficiallanguage/pca_version/s_prop0.5_ns_prop0.3/rule_wrappers'\n",
      "dealswith - imports\n",
      "dealswith - exports\n",
      "isconnectedto - islocatedin\n",
      "[Errno 2] No such file or directory: '/home/joschout/Documents/Repos/KUL-PUL/data/artificial_bias_experiments/noisy_prop_scores/sar_two_subject_groups/yago3_10/isconnectedto/islocatedin/pca_version/s_prop0.5_ns_prop0.3/rule_wrappers'\n",
      "happenedin - islocatedin\n",
      "actedin - haswonprize\n",
      "[Errno 2] No such file or directory: '/home/joschout/Documents/Repos/KUL-PUL/data/artificial_bias_experiments/noisy_prop_scores/sar_two_subject_groups/yago3_10/actedin/haswonprize/pca_version/s_prop0.5_ns_prop0.3/rule_wrappers'\n",
      "actedin - diedin\n",
      "[Errno 2] No such file or directory: '/home/joschout/Documents/Repos/KUL-PUL/data/artificial_bias_experiments/noisy_prop_scores/sar_two_subject_groups/yago3_10/actedin/diedin/pca_version/s_prop0.5_ns_prop0.3/rule_wrappers'\n",
      "actedin - wasbornin\n",
      "[Errno 2] No such file or directory: '/home/joschout/Documents/Repos/KUL-PUL/data/artificial_bias_experiments/noisy_prop_scores/sar_two_subject_groups/yago3_10/actedin/wasbornin/pca_version/s_prop0.5_ns_prop0.3/rule_wrappers'\n",
      "actedin - ismarriedto\n",
      "[Errno 2] No such file or directory: '/home/joschout/Documents/Repos/KUL-PUL/data/artificial_bias_experiments/noisy_prop_scores/sar_two_subject_groups/yago3_10/actedin/ismarriedto/pca_version/s_prop0.5_ns_prop0.3/rule_wrappers'\n",
      "hasacademicadvisor - haswonprize\n",
      "[Errno 2] No such file or directory: '/home/joschout/Documents/Repos/KUL-PUL/data/artificial_bias_experiments/noisy_prop_scores/sar_two_subject_groups/yago3_10/hasacademicadvisor/haswonprize/pca_version/s_prop0.5_ns_prop0.3/rule_wrappers'\n",
      "hasacademicadvisor - iscitizenof\n",
      "[Errno 2] No such file or directory: '/home/joschout/Documents/Repos/KUL-PUL/data/artificial_bias_experiments/noisy_prop_scores/sar_two_subject_groups/yago3_10/hasacademicadvisor/iscitizenof/pca_version/s_prop0.5_ns_prop0.3/rule_wrappers'\n",
      "hasacademicadvisor - diedin\n",
      "[Errno 2] No such file or directory: '/home/joschout/Documents/Repos/KUL-PUL/data/artificial_bias_experiments/noisy_prop_scores/sar_two_subject_groups/yago3_10/hasacademicadvisor/diedin/pca_version/s_prop0.5_ns_prop0.3/rule_wrappers'\n",
      "hasacademicadvisor - livesin\n",
      "[Errno 2] No such file or directory: '/home/joschout/Documents/Repos/KUL-PUL/data/artificial_bias_experiments/noisy_prop_scores/sar_two_subject_groups/yago3_10/hasacademicadvisor/livesin/pca_version/s_prop0.5_ns_prop0.3/rule_wrappers'\n",
      "hasacademicadvisor - wasbornin\n",
      "[Errno 2] No such file or directory: '/home/joschout/Documents/Repos/KUL-PUL/data/artificial_bias_experiments/noisy_prop_scores/sar_two_subject_groups/yago3_10/hasacademicadvisor/wasbornin/pca_version/s_prop0.5_ns_prop0.3/rule_wrappers'\n",
      "hasacademicadvisor - graduatedfrom\n",
      "[Errno 2] No such file or directory: '/home/joschout/Documents/Repos/KUL-PUL/data/artificial_bias_experiments/noisy_prop_scores/sar_two_subject_groups/yago3_10/hasacademicadvisor/graduatedfrom/pca_version/s_prop0.5_ns_prop0.3/rule_wrappers'\n",
      "hasacademicadvisor - worksat\n",
      "[Errno 2] No such file or directory: '/home/joschout/Documents/Repos/KUL-PUL/data/artificial_bias_experiments/noisy_prop_scores/sar_two_subject_groups/yago3_10/hasacademicadvisor/worksat/pca_version/s_prop0.5_ns_prop0.3/rule_wrappers'\n",
      "hasacademicadvisor - influences\n",
      "[Errno 2] No such file or directory: '/home/joschout/Documents/Repos/KUL-PUL/data/artificial_bias_experiments/noisy_prop_scores/sar_two_subject_groups/yago3_10/hasacademicadvisor/influences/pca_version/s_prop0.5_ns_prop0.3/rule_wrappers'\n",
      "influences - haswonprize\n",
      "[Errno 2] No such file or directory: '/home/joschout/Documents/Repos/KUL-PUL/data/artificial_bias_experiments/noisy_prop_scores/sar_two_subject_groups/yago3_10/influences/haswonprize/pca_version/s_prop0.5_ns_prop0.3/rule_wrappers'\n",
      "influences - iscitizenof\n",
      "[Errno 2] No such file or directory: '/home/joschout/Documents/Repos/KUL-PUL/data/artificial_bias_experiments/noisy_prop_scores/sar_two_subject_groups/yago3_10/influences/iscitizenof/pca_version/s_prop0.5_ns_prop0.3/rule_wrappers'\n",
      "influences - diedin\n",
      "[Errno 2] No such file or directory: '/home/joschout/Documents/Repos/KUL-PUL/data/artificial_bias_experiments/noisy_prop_scores/sar_two_subject_groups/yago3_10/influences/diedin/pca_version/s_prop0.5_ns_prop0.3/rule_wrappers'\n",
      "influences - wasbornin\n",
      "[Errno 2] No such file or directory: '/home/joschout/Documents/Repos/KUL-PUL/data/artificial_bias_experiments/noisy_prop_scores/sar_two_subject_groups/yago3_10/influences/wasbornin/pca_version/s_prop0.5_ns_prop0.3/rule_wrappers'\n",
      "influences - graduatedfrom\n",
      "[Errno 2] No such file or directory: '/home/joschout/Documents/Repos/KUL-PUL/data/artificial_bias_experiments/noisy_prop_scores/sar_two_subject_groups/yago3_10/influences/graduatedfrom/pca_version/s_prop0.5_ns_prop0.3/rule_wrappers'\n",
      "influences - created\n",
      "[Errno 2] No such file or directory: '/home/joschout/Documents/Repos/KUL-PUL/data/artificial_bias_experiments/noisy_prop_scores/sar_two_subject_groups/yago3_10/influences/created/pca_version/s_prop0.5_ns_prop0.3/rule_wrappers'\n",
      "haschild - haswonprize\n",
      "[Errno 2] No such file or directory: '/home/joschout/Documents/Repos/KUL-PUL/data/artificial_bias_experiments/noisy_prop_scores/sar_two_subject_groups/yago3_10/haschild/haswonprize/pca_version/s_prop0.5_ns_prop0.3/rule_wrappers'\n",
      "haschild - diedin\n",
      "[Errno 2] No such file or directory: '/home/joschout/Documents/Repos/KUL-PUL/data/artificial_bias_experiments/noisy_prop_scores/sar_two_subject_groups/yago3_10/haschild/diedin/pca_version/s_prop0.5_ns_prop0.3/rule_wrappers'\n",
      "haschild - wasbornin\n",
      "[Errno 2] No such file or directory: '/home/joschout/Documents/Repos/KUL-PUL/data/artificial_bias_experiments/noisy_prop_scores/sar_two_subject_groups/yago3_10/haschild/wasbornin/pca_version/s_prop0.5_ns_prop0.3/rule_wrappers'\n",
      "haschild - graduatedfrom\n",
      "[Errno 2] No such file or directory: '/home/joschout/Documents/Repos/KUL-PUL/data/artificial_bias_experiments/noisy_prop_scores/sar_two_subject_groups/yago3_10/haschild/graduatedfrom/pca_version/s_prop0.5_ns_prop0.3/rule_wrappers'\n",
      "haschild - ispoliticianof\n",
      "[Errno 2] No such file or directory: '/home/joschout/Documents/Repos/KUL-PUL/data/artificial_bias_experiments/noisy_prop_scores/sar_two_subject_groups/yago3_10/haschild/ispoliticianof/pca_version/s_prop0.5_ns_prop0.3/rule_wrappers'\n",
      "haschild - isaffiliatedto\n",
      "[Errno 2] No such file or directory: '/home/joschout/Documents/Repos/KUL-PUL/data/artificial_bias_experiments/noisy_prop_scores/sar_two_subject_groups/yago3_10/haschild/isaffiliatedto/pca_version/s_prop0.5_ns_prop0.3/rule_wrappers'\n",
      "haschild - ismarriedto\n",
      "[Errno 2] No such file or directory: '/home/joschout/Documents/Repos/KUL-PUL/data/artificial_bias_experiments/noisy_prop_scores/sar_two_subject_groups/yago3_10/haschild/ismarriedto/pca_version/s_prop0.5_ns_prop0.3/rule_wrappers'\n",
      "playsfor - wasbornin\n",
      "[Errno 2] No such file or directory: '/home/joschout/Documents/Repos/KUL-PUL/data/artificial_bias_experiments/noisy_prop_scores/sar_two_subject_groups/yago3_10/playsfor/wasbornin/pca_version/s_prop0.5_ns_prop0.3/rule_wrappers'\n",
      "playsfor - hasgender\n",
      "[Errno 2] No such file or directory: '/home/joschout/Documents/Repos/KUL-PUL/data/artificial_bias_experiments/noisy_prop_scores/sar_two_subject_groups/yago3_10/playsfor/hasgender/pca_version/s_prop0.5_ns_prop0.3/rule_wrappers'\n",
      "ismarriedto - haswonprize\n",
      "[Errno 2] No such file or directory: '/home/joschout/Documents/Repos/KUL-PUL/data/artificial_bias_experiments/noisy_prop_scores/sar_two_subject_groups/yago3_10/ismarriedto/haswonprize/pca_version/s_prop0.5_ns_prop0.3/rule_wrappers'\n",
      "ismarriedto - diedin\n",
      "[Errno 2] No such file or directory: '/home/joschout/Documents/Repos/KUL-PUL/data/artificial_bias_experiments/noisy_prop_scores/sar_two_subject_groups/yago3_10/ismarriedto/diedin/pca_version/s_prop0.5_ns_prop0.3/rule_wrappers'\n",
      "ismarriedto - wasbornin\n",
      "[Errno 2] No such file or directory: '/home/joschout/Documents/Repos/KUL-PUL/data/artificial_bias_experiments/noisy_prop_scores/sar_two_subject_groups/yago3_10/ismarriedto/wasbornin/pca_version/s_prop0.5_ns_prop0.3/rule_wrappers'\n",
      "ismarriedto - graduatedfrom\n",
      "[Errno 2] No such file or directory: '/home/joschout/Documents/Repos/KUL-PUL/data/artificial_bias_experiments/noisy_prop_scores/sar_two_subject_groups/yago3_10/ismarriedto/graduatedfrom/pca_version/s_prop0.5_ns_prop0.3/rule_wrappers'\n",
      "ismarriedto - actedin\n",
      "[Errno 2] No such file or directory: '/home/joschout/Documents/Repos/KUL-PUL/data/artificial_bias_experiments/noisy_prop_scores/sar_two_subject_groups/yago3_10/ismarriedto/actedin/pca_version/s_prop0.5_ns_prop0.3/rule_wrappers'\n",
      "ismarriedto - haschild\n",
      "[Errno 2] No such file or directory: '/home/joschout/Documents/Repos/KUL-PUL/data/artificial_bias_experiments/noisy_prop_scores/sar_two_subject_groups/yago3_10/ismarriedto/haschild/pca_version/s_prop0.5_ns_prop0.3/rule_wrappers'\n",
      "participatedin - hasneighbor\n",
      "[Errno 2] No such file or directory: '/home/joschout/Documents/Repos/KUL-PUL/data/artificial_bias_experiments/noisy_prop_scores/sar_two_subject_groups/yago3_10/participatedin/hasneighbor/pca_version/s_prop0.5_ns_prop0.7/rule_wrappers'\n",
      "participatedin - hascapital\n",
      "participatedin - hasofficiallanguage\n",
      "[Errno 2] No such file or directory: '/home/joschout/Documents/Repos/KUL-PUL/data/artificial_bias_experiments/noisy_prop_scores/sar_two_subject_groups/yago3_10/participatedin/hasofficiallanguage/pca_version/s_prop0.5_ns_prop0.7/rule_wrappers'\n",
      "participatedin - imports\n",
      "[Errno 2] No such file or directory: '/home/joschout/Documents/Repos/KUL-PUL/data/artificial_bias_experiments/noisy_prop_scores/sar_two_subject_groups/yago3_10/participatedin/imports/pca_version/s_prop0.5_ns_prop0.7/rule_wrappers'\n",
      "participatedin - islocatedin\n",
      "[Errno 2] No such file or directory: '/home/joschout/Documents/Repos/KUL-PUL/data/artificial_bias_experiments/noisy_prop_scores/sar_two_subject_groups/yago3_10/participatedin/islocatedin/pca_version/s_prop0.5_ns_prop0.7/rule_wrappers'\n",
      "participatedin - exports\n",
      "[Errno 2] No such file or directory: '/home/joschout/Documents/Repos/KUL-PUL/data/artificial_bias_experiments/noisy_prop_scores/sar_two_subject_groups/yago3_10/participatedin/exports/pca_version/s_prop0.5_ns_prop0.7/rule_wrappers'\n",
      "participatedin - dealswith\n",
      "hascurrency - participatedin\n",
      "[Errno 2] No such file or directory: '/home/joschout/Documents/Repos/KUL-PUL/data/artificial_bias_experiments/noisy_prop_scores/sar_two_subject_groups/yago3_10/hascurrency/participatedin/pca_version/s_prop0.5_ns_prop0.7/rule_wrappers'\n",
      "hascurrency - hasneighbor\n",
      "[Errno 2] No such file or directory: '/home/joschout/Documents/Repos/KUL-PUL/data/artificial_bias_experiments/noisy_prop_scores/sar_two_subject_groups/yago3_10/hascurrency/hasneighbor/pca_version/s_prop0.5_ns_prop0.7/rule_wrappers'\n",
      "hascurrency - owns\n",
      "hascurrency - hascapital\n",
      "[Errno 2] No such file or directory: '/home/joschout/Documents/Repos/KUL-PUL/data/artificial_bias_experiments/noisy_prop_scores/sar_two_subject_groups/yago3_10/hascurrency/hascapital/pca_version/s_prop0.5_ns_prop0.7/rule_wrappers'\n",
      "hascurrency - hasofficiallanguage\n",
      "hascurrency - imports\n",
      "[Errno 2] No such file or directory: '/home/joschout/Documents/Repos/KUL-PUL/data/artificial_bias_experiments/noisy_prop_scores/sar_two_subject_groups/yago3_10/hascurrency/imports/pca_version/s_prop0.5_ns_prop0.7/rule_wrappers'\n",
      "hascurrency - exports\n",
      "[Errno 2] No such file or directory: '/home/joschout/Documents/Repos/KUL-PUL/data/artificial_bias_experiments/noisy_prop_scores/sar_two_subject_groups/yago3_10/hascurrency/exports/pca_version/s_prop0.5_ns_prop0.7/rule_wrappers'\n",
      "hascurrency - dealswith\n",
      "[Errno 2] No such file or directory: '/home/joschout/Documents/Repos/KUL-PUL/data/artificial_bias_experiments/noisy_prop_scores/sar_two_subject_groups/yago3_10/hascurrency/dealswith/pca_version/s_prop0.5_ns_prop0.7/rule_wrappers'\n",
      "directed - haswonprize\n",
      "[Errno 2] No such file or directory: '/home/joschout/Documents/Repos/KUL-PUL/data/artificial_bias_experiments/noisy_prop_scores/sar_two_subject_groups/yago3_10/directed/haswonprize/pca_version/s_prop0.5_ns_prop0.7/rule_wrappers'\n",
      "directed - diedin\n",
      "[Errno 2] No such file or directory: '/home/joschout/Documents/Repos/KUL-PUL/data/artificial_bias_experiments/noisy_prop_scores/sar_two_subject_groups/yago3_10/directed/diedin/pca_version/s_prop0.5_ns_prop0.7/rule_wrappers'\n",
      "directed - wasbornin\n",
      "[Errno 2] No such file or directory: '/home/joschout/Documents/Repos/KUL-PUL/data/artificial_bias_experiments/noisy_prop_scores/sar_two_subject_groups/yago3_10/directed/wasbornin/pca_version/s_prop0.5_ns_prop0.7/rule_wrappers'\n",
      "directed - created\n",
      "[Errno 2] No such file or directory: '/home/joschout/Documents/Repos/KUL-PUL/data/artificial_bias_experiments/noisy_prop_scores/sar_two_subject_groups/yago3_10/directed/created/pca_version/s_prop0.5_ns_prop0.7/rule_wrappers'\n",
      "directed - actedin\n",
      "directed - ismarriedto\n",
      "haswonprize - iscitizenof\n",
      "[Errno 2] No such file or directory: '/home/joschout/Documents/Repos/KUL-PUL/data/artificial_bias_experiments/noisy_prop_scores/sar_two_subject_groups/yago3_10/haswonprize/iscitizenof/pca_version/s_prop0.5_ns_prop0.7/rule_wrappers'\n",
      "haswonprize - diedin\n",
      "[Errno 2] No such file or directory: '/home/joschout/Documents/Repos/KUL-PUL/data/artificial_bias_experiments/noisy_prop_scores/sar_two_subject_groups/yago3_10/haswonprize/diedin/pca_version/s_prop0.5_ns_prop0.7/rule_wrappers'\n",
      "haswonprize - wasbornin\n",
      "[Errno 2] No such file or directory: '/home/joschout/Documents/Repos/KUL-PUL/data/artificial_bias_experiments/noisy_prop_scores/sar_two_subject_groups/yago3_10/haswonprize/wasbornin/pca_version/s_prop0.5_ns_prop0.7/rule_wrappers'\n",
      "haswonprize - graduatedfrom\n",
      "[Errno 2] No such file or directory: '/home/joschout/Documents/Repos/KUL-PUL/data/artificial_bias_experiments/noisy_prop_scores/sar_two_subject_groups/yago3_10/haswonprize/graduatedfrom/pca_version/s_prop0.5_ns_prop0.7/rule_wrappers'\n",
      "haswonprize - created\n",
      "[Errno 2] No such file or directory: '/home/joschout/Documents/Repos/KUL-PUL/data/artificial_bias_experiments/noisy_prop_scores/sar_two_subject_groups/yago3_10/haswonprize/created/pca_version/s_prop0.5_ns_prop0.7/rule_wrappers'\n",
      "haswonprize - isaffiliatedto\n",
      "[Errno 2] No such file or directory: '/home/joschout/Documents/Repos/KUL-PUL/data/artificial_bias_experiments/noisy_prop_scores/sar_two_subject_groups/yago3_10/haswonprize/isaffiliatedto/pca_version/s_prop0.5_ns_prop0.7/rule_wrappers'\n",
      "haswonprize - actedin\n",
      "[Errno 2] No such file or directory: '/home/joschout/Documents/Repos/KUL-PUL/data/artificial_bias_experiments/noisy_prop_scores/sar_two_subject_groups/yago3_10/haswonprize/actedin/pca_version/s_prop0.5_ns_prop0.7/rule_wrappers'\n",
      "haswonprize - influences\n",
      "haswonprize - ismarriedto\n",
      "[Errno 2] No such file or directory: '/home/joschout/Documents/Repos/KUL-PUL/data/artificial_bias_experiments/noisy_prop_scores/sar_two_subject_groups/yago3_10/haswonprize/ismarriedto/pca_version/s_prop0.5_ns_prop0.7/rule_wrappers'\n",
      "hasneighbor - participatedin\n",
      "[Errno 2] No such file or directory: '/home/joschout/Documents/Repos/KUL-PUL/data/artificial_bias_experiments/noisy_prop_scores/sar_two_subject_groups/yago3_10/hasneighbor/participatedin/pca_version/s_prop0.5_ns_prop0.7/rule_wrappers'\n",
      "hasneighbor - hascurrency\n",
      "[Errno 2] No such file or directory: '/home/joschout/Documents/Repos/KUL-PUL/data/artificial_bias_experiments/noisy_prop_scores/sar_two_subject_groups/yago3_10/hasneighbor/hascurrency/pca_version/s_prop0.5_ns_prop0.7/rule_wrappers'\n",
      "hasneighbor - owns\n",
      "[Errno 2] No such file or directory: '/home/joschout/Documents/Repos/KUL-PUL/data/artificial_bias_experiments/noisy_prop_scores/sar_two_subject_groups/yago3_10/hasneighbor/owns/pca_version/s_prop0.5_ns_prop0.7/rule_wrappers'\n",
      "hasneighbor - hascapital\n",
      "[Errno 2] No such file or directory: '/home/joschout/Documents/Repos/KUL-PUL/data/artificial_bias_experiments/noisy_prop_scores/sar_two_subject_groups/yago3_10/hasneighbor/hascapital/pca_version/s_prop0.5_ns_prop0.7/rule_wrappers'\n",
      "hasneighbor - hasofficiallanguage\n",
      "[Errno 2] No such file or directory: '/home/joschout/Documents/Repos/KUL-PUL/data/artificial_bias_experiments/noisy_prop_scores/sar_two_subject_groups/yago3_10/hasneighbor/hasofficiallanguage/pca_version/s_prop0.5_ns_prop0.7/rule_wrappers'\n",
      "hasneighbor - imports\n",
      "[Errno 2] No such file or directory: '/home/joschout/Documents/Repos/KUL-PUL/data/artificial_bias_experiments/noisy_prop_scores/sar_two_subject_groups/yago3_10/hasneighbor/imports/pca_version/s_prop0.5_ns_prop0.7/rule_wrappers'\n",
      "hasneighbor - exports\n",
      "[Errno 2] No such file or directory: '/home/joschout/Documents/Repos/KUL-PUL/data/artificial_bias_experiments/noisy_prop_scores/sar_two_subject_groups/yago3_10/hasneighbor/exports/pca_version/s_prop0.5_ns_prop0.7/rule_wrappers'\n",
      "hasneighbor - dealswith\n",
      "[Errno 2] No such file or directory: '/home/joschout/Documents/Repos/KUL-PUL/data/artificial_bias_experiments/noisy_prop_scores/sar_two_subject_groups/yago3_10/hasneighbor/dealswith/pca_version/s_prop0.5_ns_prop0.7/rule_wrappers'\n",
      "iscitizenof - haswonprize\n",
      "[Errno 2] No such file or directory: '/home/joschout/Documents/Repos/KUL-PUL/data/artificial_bias_experiments/noisy_prop_scores/sar_two_subject_groups/yago3_10/iscitizenof/haswonprize/pca_version/s_prop0.5_ns_prop0.7/rule_wrappers'\n",
      "iscitizenof - diedin\n",
      "iscitizenof - livesin\n",
      "[Errno 2] No such file or directory: '/home/joschout/Documents/Repos/KUL-PUL/data/artificial_bias_experiments/noisy_prop_scores/sar_two_subject_groups/yago3_10/iscitizenof/livesin/pca_version/s_prop0.5_ns_prop0.7/rule_wrappers'\n",
      "iscitizenof - wasbornin\n",
      "[Errno 2] No such file or directory: '/home/joschout/Documents/Repos/KUL-PUL/data/artificial_bias_experiments/noisy_prop_scores/sar_two_subject_groups/yago3_10/iscitizenof/wasbornin/pca_version/s_prop0.5_ns_prop0.7/rule_wrappers'\n",
      "iscitizenof - graduatedfrom\n",
      "iscitizenof - isaffiliatedto\n",
      "[Errno 2] No such file or directory: '/home/joschout/Documents/Repos/KUL-PUL/data/artificial_bias_experiments/noisy_prop_scores/sar_two_subject_groups/yago3_10/iscitizenof/isaffiliatedto/pca_version/s_prop0.5_ns_prop0.7/rule_wrappers'\n",
      "iscitizenof - worksat\n",
      "iscitizenof - hasacademicadvisor\n",
      "iscitizenof - influences\n",
      "[Errno 2] No such file or directory: '/home/joschout/Documents/Repos/KUL-PUL/data/artificial_bias_experiments/noisy_prop_scores/sar_two_subject_groups/yago3_10/iscitizenof/influences/pca_version/s_prop0.5_ns_prop0.7/rule_wrappers'\n",
      "isinterestedin - haswonprize\n",
      "[Errno 2] No such file or directory: '/home/joschout/Documents/Repos/KUL-PUL/data/artificial_bias_experiments/noisy_prop_scores/sar_two_subject_groups/yago3_10/isinterestedin/haswonprize/pca_version/s_prop0.5_ns_prop0.7/rule_wrappers'\n",
      "isinterestedin - diedin\n",
      "[Errno 2] No such file or directory: '/home/joschout/Documents/Repos/KUL-PUL/data/artificial_bias_experiments/noisy_prop_scores/sar_two_subject_groups/yago3_10/isinterestedin/diedin/pca_version/s_prop0.5_ns_prop0.7/rule_wrappers'\n",
      "isinterestedin - wasbornin\n",
      "[Errno 2] No such file or directory: '/home/joschout/Documents/Repos/KUL-PUL/data/artificial_bias_experiments/noisy_prop_scores/sar_two_subject_groups/yago3_10/isinterestedin/wasbornin/pca_version/s_prop0.5_ns_prop0.7/rule_wrappers'\n",
      "isinterestedin - graduatedfrom\n",
      "[Errno 2] No such file or directory: '/home/joschout/Documents/Repos/KUL-PUL/data/artificial_bias_experiments/noisy_prop_scores/sar_two_subject_groups/yago3_10/isinterestedin/graduatedfrom/pca_version/s_prop0.5_ns_prop0.7/rule_wrappers'\n",
      "isinterestedin - influences\n",
      "[Errno 2] No such file or directory: '/home/joschout/Documents/Repos/KUL-PUL/data/artificial_bias_experiments/noisy_prop_scores/sar_two_subject_groups/yago3_10/isinterestedin/influences/pca_version/s_prop0.5_ns_prop0.7/rule_wrappers'\n",
      "diedin - haswonprize\n",
      "[Errno 2] No such file or directory: '/home/joschout/Documents/Repos/KUL-PUL/data/artificial_bias_experiments/noisy_prop_scores/sar_two_subject_groups/yago3_10/diedin/haswonprize/pca_version/s_prop0.5_ns_prop0.7/rule_wrappers'\n",
      "diedin - iscitizenof\n",
      "[Errno 2] No such file or directory: '/home/joschout/Documents/Repos/KUL-PUL/data/artificial_bias_experiments/noisy_prop_scores/sar_two_subject_groups/yago3_10/diedin/iscitizenof/pca_version/s_prop0.5_ns_prop0.7/rule_wrappers'\n",
      "diedin - wasbornin\n",
      "[Errno 2] No such file or directory: '/home/joschout/Documents/Repos/KUL-PUL/data/artificial_bias_experiments/noisy_prop_scores/sar_two_subject_groups/yago3_10/diedin/wasbornin/pca_version/s_prop0.5_ns_prop0.7/rule_wrappers'\n",
      "diedin - graduatedfrom\n",
      "[Errno 2] No such file or directory: '/home/joschout/Documents/Repos/KUL-PUL/data/artificial_bias_experiments/noisy_prop_scores/sar_two_subject_groups/yago3_10/diedin/graduatedfrom/pca_version/s_prop0.5_ns_prop0.7/rule_wrappers'\n",
      "diedin - isaffiliatedto\n",
      "diedin - actedin\n",
      "[Errno 2] No such file or directory: '/home/joschout/Documents/Repos/KUL-PUL/data/artificial_bias_experiments/noisy_prop_scores/sar_two_subject_groups/yago3_10/diedin/actedin/pca_version/s_prop0.5_ns_prop0.7/rule_wrappers'\n",
      "diedin - influences\n",
      "[Errno 2] No such file or directory: '/home/joschout/Documents/Repos/KUL-PUL/data/artificial_bias_experiments/noisy_prop_scores/sar_two_subject_groups/yago3_10/diedin/influences/pca_version/s_prop0.5_ns_prop0.7/rule_wrappers'\n",
      "diedin - haschild\n",
      "[Errno 2] No such file or directory: '/home/joschout/Documents/Repos/KUL-PUL/data/artificial_bias_experiments/noisy_prop_scores/sar_two_subject_groups/yago3_10/diedin/haschild/pca_version/s_prop0.5_ns_prop0.7/rule_wrappers'\n",
      "diedin - playsfor\n",
      "[Errno 2] No such file or directory: '/home/joschout/Documents/Repos/KUL-PUL/data/artificial_bias_experiments/noisy_prop_scores/sar_two_subject_groups/yago3_10/diedin/playsfor/pca_version/s_prop0.5_ns_prop0.7/rule_wrappers'\n",
      "diedin - ismarriedto\n",
      "[Errno 2] No such file or directory: '/home/joschout/Documents/Repos/KUL-PUL/data/artificial_bias_experiments/noisy_prop_scores/sar_two_subject_groups/yago3_10/diedin/ismarriedto/pca_version/s_prop0.5_ns_prop0.7/rule_wrappers'\n",
      "wrotemusicfor - haswonprize\n",
      "[Errno 2] No such file or directory: '/home/joschout/Documents/Repos/KUL-PUL/data/artificial_bias_experiments/noisy_prop_scores/sar_two_subject_groups/yago3_10/wrotemusicfor/haswonprize/pca_version/s_prop0.5_ns_prop0.7/rule_wrappers'\n",
      "wrotemusicfor - diedin\n",
      "[Errno 2] No such file or directory: '/home/joschout/Documents/Repos/KUL-PUL/data/artificial_bias_experiments/noisy_prop_scores/sar_two_subject_groups/yago3_10/wrotemusicfor/diedin/pca_version/s_prop0.5_ns_prop0.7/rule_wrappers'\n",
      "wrotemusicfor - wasbornin\n",
      "[Errno 2] No such file or directory: '/home/joschout/Documents/Repos/KUL-PUL/data/artificial_bias_experiments/noisy_prop_scores/sar_two_subject_groups/yago3_10/wrotemusicfor/wasbornin/pca_version/s_prop0.5_ns_prop0.7/rule_wrappers'\n",
      "wrotemusicfor - created\n",
      "[Errno 2] No such file or directory: '/home/joschout/Documents/Repos/KUL-PUL/data/artificial_bias_experiments/noisy_prop_scores/sar_two_subject_groups/yago3_10/wrotemusicfor/created/pca_version/s_prop0.5_ns_prop0.7/rule_wrappers'\n",
      "wrotemusicfor - hasmusicalrole\n",
      "[Errno 2] No such file or directory: '/home/joschout/Documents/Repos/KUL-PUL/data/artificial_bias_experiments/noisy_prop_scores/sar_two_subject_groups/yago3_10/wrotemusicfor/hasmusicalrole/pca_version/s_prop0.5_ns_prop0.7/rule_wrappers'\n",
      "owns - participatedin\n",
      "owns - hascapital\n",
      "[Errno 2] No such file or directory: '/home/joschout/Documents/Repos/KUL-PUL/data/artificial_bias_experiments/noisy_prop_scores/sar_two_subject_groups/yago3_10/owns/hascapital/pca_version/s_prop0.5_ns_prop0.7/rule_wrappers'\n",
      "owns - wasbornin\n",
      "[Errno 2] No such file or directory: '/home/joschout/Documents/Repos/KUL-PUL/data/artificial_bias_experiments/noisy_prop_scores/sar_two_subject_groups/yago3_10/owns/wasbornin/pca_version/s_prop0.5_ns_prop0.7/rule_wrappers'\n",
      "owns - hasgender\n",
      "[Errno 2] No such file or directory: '/home/joschout/Documents/Repos/KUL-PUL/data/artificial_bias_experiments/noisy_prop_scores/sar_two_subject_groups/yago3_10/owns/hasgender/pca_version/s_prop0.5_ns_prop0.7/rule_wrappers'\n",
      "owns - islocatedin\n",
      "[Errno 2] No such file or directory: '/home/joschout/Documents/Repos/KUL-PUL/data/artificial_bias_experiments/noisy_prop_scores/sar_two_subject_groups/yago3_10/owns/islocatedin/pca_version/s_prop0.5_ns_prop0.7/rule_wrappers'\n",
      "hascapital - participatedin\n",
      "[Errno 2] No such file or directory: '/home/joschout/Documents/Repos/KUL-PUL/data/artificial_bias_experiments/noisy_prop_scores/sar_two_subject_groups/yago3_10/hascapital/participatedin/pca_version/s_prop0.5_ns_prop0.7/rule_wrappers'\n",
      "hasofficiallanguage - participatedin\n",
      "hasofficiallanguage - hascurrency\n",
      "[Errno 2] No such file or directory: '/home/joschout/Documents/Repos/KUL-PUL/data/artificial_bias_experiments/noisy_prop_scores/sar_two_subject_groups/yago3_10/hasofficiallanguage/hascurrency/pca_version/s_prop0.5_ns_prop0.7/rule_wrappers'\n",
      "hasofficiallanguage - hasneighbor\n",
      "[Errno 2] No such file or directory: '/home/joschout/Documents/Repos/KUL-PUL/data/artificial_bias_experiments/noisy_prop_scores/sar_two_subject_groups/yago3_10/hasofficiallanguage/hasneighbor/pca_version/s_prop0.5_ns_prop0.7/rule_wrappers'\n",
      "hasofficiallanguage - hascapital\n",
      "hasofficiallanguage - imports\n",
      "hasofficiallanguage - exports\n",
      "hasofficiallanguage - dealswith\n",
      "edited - directed\n",
      "[Errno 2] No such file or directory: '/home/joschout/Documents/Repos/KUL-PUL/data/artificial_bias_experiments/noisy_prop_scores/sar_two_subject_groups/yago3_10/edited/directed/pca_version/s_prop0.5_ns_prop0.7/rule_wrappers'\n",
      "edited - haswonprize\n",
      "[Errno 2] No such file or directory: '/home/joschout/Documents/Repos/KUL-PUL/data/artificial_bias_experiments/noisy_prop_scores/sar_two_subject_groups/yago3_10/edited/haswonprize/pca_version/s_prop0.5_ns_prop0.7/rule_wrappers'\n",
      "edited - diedin\n",
      "[Errno 2] No such file or directory: '/home/joschout/Documents/Repos/KUL-PUL/data/artificial_bias_experiments/noisy_prop_scores/sar_two_subject_groups/yago3_10/edited/diedin/pca_version/s_prop0.5_ns_prop0.7/rule_wrappers'\n",
      "edited - wasbornin\n",
      "[Errno 2] No such file or directory: '/home/joschout/Documents/Repos/KUL-PUL/data/artificial_bias_experiments/noisy_prop_scores/sar_two_subject_groups/yago3_10/edited/wasbornin/pca_version/s_prop0.5_ns_prop0.7/rule_wrappers'\n",
      "livesin - haswonprize\n",
      "[Errno 2] No such file or directory: '/home/joschout/Documents/Repos/KUL-PUL/data/artificial_bias_experiments/noisy_prop_scores/sar_two_subject_groups/yago3_10/livesin/haswonprize/pca_version/s_prop0.5_ns_prop0.7/rule_wrappers'\n",
      "livesin - iscitizenof\n",
      "[Errno 2] No such file or directory: '/home/joschout/Documents/Repos/KUL-PUL/data/artificial_bias_experiments/noisy_prop_scores/sar_two_subject_groups/yago3_10/livesin/iscitizenof/pca_version/s_prop0.5_ns_prop0.7/rule_wrappers'\n",
      "livesin - diedin\n",
      "[Errno 2] No such file or directory: '/home/joschout/Documents/Repos/KUL-PUL/data/artificial_bias_experiments/noisy_prop_scores/sar_two_subject_groups/yago3_10/livesin/diedin/pca_version/s_prop0.5_ns_prop0.7/rule_wrappers'\n",
      "livesin - wasbornin\n",
      "[Errno 2] No such file or directory: '/home/joschout/Documents/Repos/KUL-PUL/data/artificial_bias_experiments/noisy_prop_scores/sar_two_subject_groups/yago3_10/livesin/wasbornin/pca_version/s_prop0.5_ns_prop0.7/rule_wrappers'\n",
      "livesin - graduatedfrom\n",
      "livesin - ispoliticianof\n",
      "[Errno 2] No such file or directory: '/home/joschout/Documents/Repos/KUL-PUL/data/artificial_bias_experiments/noisy_prop_scores/sar_two_subject_groups/yago3_10/livesin/ispoliticianof/pca_version/s_prop0.5_ns_prop0.7/rule_wrappers'\n",
      "livesin - isaffiliatedto\n",
      "[Errno 2] No such file or directory: '/home/joschout/Documents/Repos/KUL-PUL/data/artificial_bias_experiments/noisy_prop_scores/sar_two_subject_groups/yago3_10/livesin/isaffiliatedto/pca_version/s_prop0.5_ns_prop0.7/rule_wrappers'\n",
      "livesin - worksat\n",
      "[Errno 2] No such file or directory: '/home/joschout/Documents/Repos/KUL-PUL/data/artificial_bias_experiments/noisy_prop_scores/sar_two_subject_groups/yago3_10/livesin/worksat/pca_version/s_prop0.5_ns_prop0.7/rule_wrappers'\n",
      "livesin - actedin\n",
      "livesin - hasacademicadvisor\n",
      "livesin - ismarriedto\n",
      "[Errno 2] No such file or directory: '/home/joschout/Documents/Repos/KUL-PUL/data/artificial_bias_experiments/noisy_prop_scores/sar_two_subject_groups/yago3_10/livesin/ismarriedto/pca_version/s_prop0.5_ns_prop0.7/rule_wrappers'\n",
      "wasbornin - haswonprize\n",
      "[Errno 2] No such file or directory: '/home/joschout/Documents/Repos/KUL-PUL/data/artificial_bias_experiments/noisy_prop_scores/sar_two_subject_groups/yago3_10/wasbornin/haswonprize/pca_version/s_prop0.5_ns_prop0.7/rule_wrappers'\n",
      "wasbornin - diedin\n",
      "[Errno 2] No such file or directory: '/home/joschout/Documents/Repos/KUL-PUL/data/artificial_bias_experiments/noisy_prop_scores/sar_two_subject_groups/yago3_10/wasbornin/diedin/pca_version/s_prop0.5_ns_prop0.7/rule_wrappers'\n",
      "wasbornin - isaffiliatedto\n",
      "[Errno 2] No such file or directory: '/home/joschout/Documents/Repos/KUL-PUL/data/artificial_bias_experiments/noisy_prop_scores/sar_two_subject_groups/yago3_10/wasbornin/isaffiliatedto/pca_version/s_prop0.5_ns_prop0.7/rule_wrappers'\n",
      "wasbornin - playsfor\n",
      "isleaderof - haswonprize\n",
      "[Errno 2] No such file or directory: '/home/joschout/Documents/Repos/KUL-PUL/data/artificial_bias_experiments/noisy_prop_scores/sar_two_subject_groups/yago3_10/isleaderof/haswonprize/pca_version/s_prop0.5_ns_prop0.7/rule_wrappers'\n",
      "isleaderof - iscitizenof\n",
      "[Errno 2] No such file or directory: '/home/joschout/Documents/Repos/KUL-PUL/data/artificial_bias_experiments/noisy_prop_scores/sar_two_subject_groups/yago3_10/isleaderof/iscitizenof/pca_version/s_prop0.5_ns_prop0.7/rule_wrappers'\n",
      "isleaderof - diedin\n",
      "[Errno 2] No such file or directory: '/home/joschout/Documents/Repos/KUL-PUL/data/artificial_bias_experiments/noisy_prop_scores/sar_two_subject_groups/yago3_10/isleaderof/diedin/pca_version/s_prop0.5_ns_prop0.7/rule_wrappers'\n",
      "isleaderof - livesin\n",
      "[Errno 2] No such file or directory: '/home/joschout/Documents/Repos/KUL-PUL/data/artificial_bias_experiments/noisy_prop_scores/sar_two_subject_groups/yago3_10/isleaderof/livesin/pca_version/s_prop0.5_ns_prop0.7/rule_wrappers'\n",
      "isleaderof - wasbornin\n",
      "[Errno 2] No such file or directory: '/home/joschout/Documents/Repos/KUL-PUL/data/artificial_bias_experiments/noisy_prop_scores/sar_two_subject_groups/yago3_10/isleaderof/wasbornin/pca_version/s_prop0.5_ns_prop0.7/rule_wrappers'\n",
      "isleaderof - graduatedfrom\n",
      "[Errno 2] No such file or directory: '/home/joschout/Documents/Repos/KUL-PUL/data/artificial_bias_experiments/noisy_prop_scores/sar_two_subject_groups/yago3_10/isleaderof/graduatedfrom/pca_version/s_prop0.5_ns_prop0.7/rule_wrappers'\n",
      "isleaderof - ispoliticianof\n",
      "[Errno 2] No such file or directory: '/home/joschout/Documents/Repos/KUL-PUL/data/artificial_bias_experiments/noisy_prop_scores/sar_two_subject_groups/yago3_10/isleaderof/ispoliticianof/pca_version/s_prop0.5_ns_prop0.7/rule_wrappers'\n",
      "isleaderof - isaffiliatedto\n",
      "isleaderof - haschild\n",
      "[Errno 2] No such file or directory: '/home/joschout/Documents/Repos/KUL-PUL/data/artificial_bias_experiments/noisy_prop_scores/sar_two_subject_groups/yago3_10/isleaderof/haschild/pca_version/s_prop0.5_ns_prop0.7/rule_wrappers'\n",
      "graduatedfrom - haswonprize\n",
      "[Errno 2] No such file or directory: '/home/joschout/Documents/Repos/KUL-PUL/data/artificial_bias_experiments/noisy_prop_scores/sar_two_subject_groups/yago3_10/graduatedfrom/haswonprize/pca_version/s_prop0.5_ns_prop0.7/rule_wrappers'\n",
      "graduatedfrom - iscitizenof\n",
      "[Errno 2] No such file or directory: '/home/joschout/Documents/Repos/KUL-PUL/data/artificial_bias_experiments/noisy_prop_scores/sar_two_subject_groups/yago3_10/graduatedfrom/iscitizenof/pca_version/s_prop0.5_ns_prop0.7/rule_wrappers'\n",
      "graduatedfrom - diedin\n",
      "[Errno 2] No such file or directory: '/home/joschout/Documents/Repos/KUL-PUL/data/artificial_bias_experiments/noisy_prop_scores/sar_two_subject_groups/yago3_10/graduatedfrom/diedin/pca_version/s_prop0.5_ns_prop0.7/rule_wrappers'\n",
      "graduatedfrom - livesin\n",
      "[Errno 2] No such file or directory: '/home/joschout/Documents/Repos/KUL-PUL/data/artificial_bias_experiments/noisy_prop_scores/sar_two_subject_groups/yago3_10/graduatedfrom/livesin/pca_version/s_prop0.5_ns_prop0.7/rule_wrappers'\n",
      "graduatedfrom - wasbornin\n",
      "[Errno 2] No such file or directory: '/home/joschout/Documents/Repos/KUL-PUL/data/artificial_bias_experiments/noisy_prop_scores/sar_two_subject_groups/yago3_10/graduatedfrom/wasbornin/pca_version/s_prop0.5_ns_prop0.7/rule_wrappers'\n",
      "graduatedfrom - ispoliticianof\n",
      "[Errno 2] No such file or directory: '/home/joschout/Documents/Repos/KUL-PUL/data/artificial_bias_experiments/noisy_prop_scores/sar_two_subject_groups/yago3_10/graduatedfrom/ispoliticianof/pca_version/s_prop0.5_ns_prop0.7/rule_wrappers'\n",
      "graduatedfrom - isaffiliatedto\n",
      "graduatedfrom - worksat\n",
      "[Errno 2] No such file or directory: '/home/joschout/Documents/Repos/KUL-PUL/data/artificial_bias_experiments/noisy_prop_scores/sar_two_subject_groups/yago3_10/graduatedfrom/worksat/pca_version/s_prop0.5_ns_prop0.7/rule_wrappers'\n",
      "graduatedfrom - actedin\n",
      "[Errno 2] No such file or directory: '/home/joschout/Documents/Repos/KUL-PUL/data/artificial_bias_experiments/noisy_prop_scores/sar_two_subject_groups/yago3_10/graduatedfrom/actedin/pca_version/s_prop0.5_ns_prop0.7/rule_wrappers'\n",
      "graduatedfrom - hasacademicadvisor\n",
      "[Errno 2] No such file or directory: '/home/joschout/Documents/Repos/KUL-PUL/data/artificial_bias_experiments/noisy_prop_scores/sar_two_subject_groups/yago3_10/graduatedfrom/hasacademicadvisor/pca_version/s_prop0.5_ns_prop0.7/rule_wrappers'\n",
      "graduatedfrom - influences\n",
      "[Errno 2] No such file or directory: '/home/joschout/Documents/Repos/KUL-PUL/data/artificial_bias_experiments/noisy_prop_scores/sar_two_subject_groups/yago3_10/graduatedfrom/influences/pca_version/s_prop0.5_ns_prop0.7/rule_wrappers'\n",
      "graduatedfrom - haschild\n",
      "[Errno 2] No such file or directory: '/home/joschout/Documents/Repos/KUL-PUL/data/artificial_bias_experiments/noisy_prop_scores/sar_two_subject_groups/yago3_10/graduatedfrom/haschild/pca_version/s_prop0.5_ns_prop0.7/rule_wrappers'\n",
      "created - directed\n",
      "[Errno 2] No such file or directory: '/home/joschout/Documents/Repos/KUL-PUL/data/artificial_bias_experiments/noisy_prop_scores/sar_two_subject_groups/yago3_10/created/directed/pca_version/s_prop0.5_ns_prop0.7/rule_wrappers'\n",
      "created - haswonprize\n",
      "created - diedin\n",
      "[Errno 2] No such file or directory: '/home/joschout/Documents/Repos/KUL-PUL/data/artificial_bias_experiments/noisy_prop_scores/sar_two_subject_groups/yago3_10/created/diedin/pca_version/s_prop0.5_ns_prop0.7/rule_wrappers'\n",
      "created - wrotemusicfor\n",
      "[Errno 2] No such file or directory: '/home/joschout/Documents/Repos/KUL-PUL/data/artificial_bias_experiments/noisy_prop_scores/sar_two_subject_groups/yago3_10/created/wrotemusicfor/pca_version/s_prop0.5_ns_prop0.7/rule_wrappers'\n",
      "created - wasbornin\n",
      "[Errno 2] No such file or directory: '/home/joschout/Documents/Repos/KUL-PUL/data/artificial_bias_experiments/noisy_prop_scores/sar_two_subject_groups/yago3_10/created/wasbornin/pca_version/s_prop0.5_ns_prop0.7/rule_wrappers'\n",
      "created - graduatedfrom\n",
      "created - actedin\n",
      "[Errno 2] No such file or directory: '/home/joschout/Documents/Repos/KUL-PUL/data/artificial_bias_experiments/noisy_prop_scores/sar_two_subject_groups/yago3_10/created/actedin/pca_version/s_prop0.5_ns_prop0.7/rule_wrappers'\n",
      "created - influences\n",
      "[Errno 2] No such file or directory: '/home/joschout/Documents/Repos/KUL-PUL/data/artificial_bias_experiments/noisy_prop_scores/sar_two_subject_groups/yago3_10/created/influences/pca_version/s_prop0.5_ns_prop0.7/rule_wrappers'\n",
      "hasmusicalrole - haswonprize\n",
      "[Errno 2] No such file or directory: '/home/joschout/Documents/Repos/KUL-PUL/data/artificial_bias_experiments/noisy_prop_scores/sar_two_subject_groups/yago3_10/hasmusicalrole/haswonprize/pca_version/s_prop0.5_ns_prop0.7/rule_wrappers'\n",
      "hasmusicalrole - diedin\n",
      "[Errno 2] No such file or directory: '/home/joschout/Documents/Repos/KUL-PUL/data/artificial_bias_experiments/noisy_prop_scores/sar_two_subject_groups/yago3_10/hasmusicalrole/diedin/pca_version/s_prop0.5_ns_prop0.7/rule_wrappers'\n",
      "hasmusicalrole - wrotemusicfor\n",
      "[Errno 2] No such file or directory: '/home/joschout/Documents/Repos/KUL-PUL/data/artificial_bias_experiments/noisy_prop_scores/sar_two_subject_groups/yago3_10/hasmusicalrole/wrotemusicfor/pca_version/s_prop0.5_ns_prop0.7/rule_wrappers'\n",
      "hasmusicalrole - wasbornin\n",
      "[Errno 2] No such file or directory: '/home/joschout/Documents/Repos/KUL-PUL/data/artificial_bias_experiments/noisy_prop_scores/sar_two_subject_groups/yago3_10/hasmusicalrole/wasbornin/pca_version/s_prop0.5_ns_prop0.7/rule_wrappers'\n",
      "hasgender - haswonprize\n",
      "[Errno 2] No such file or directory: '/home/joschout/Documents/Repos/KUL-PUL/data/artificial_bias_experiments/noisy_prop_scores/sar_two_subject_groups/yago3_10/hasgender/haswonprize/pca_version/s_prop0.5_ns_prop0.7/rule_wrappers'\n",
      "hasgender - diedin\n",
      "[Errno 2] No such file or directory: '/home/joschout/Documents/Repos/KUL-PUL/data/artificial_bias_experiments/noisy_prop_scores/sar_two_subject_groups/yago3_10/hasgender/diedin/pca_version/s_prop0.5_ns_prop0.7/rule_wrappers'\n",
      "hasgender - wasbornin\n",
      "[Errno 2] No such file or directory: '/home/joschout/Documents/Repos/KUL-PUL/data/artificial_bias_experiments/noisy_prop_scores/sar_two_subject_groups/yago3_10/hasgender/wasbornin/pca_version/s_prop0.5_ns_prop0.7/rule_wrappers'\n",
      "hasgender - isaffiliatedto\n",
      "hasgender - playsfor\n",
      "[Errno 2] No such file or directory: '/home/joschout/Documents/Repos/KUL-PUL/data/artificial_bias_experiments/noisy_prop_scores/sar_two_subject_groups/yago3_10/hasgender/playsfor/pca_version/s_prop0.5_ns_prop0.7/rule_wrappers'\n",
      "haswebsite - islocatedin\n",
      "[Errno 2] No such file or directory: '/home/joschout/Documents/Repos/KUL-PUL/data/artificial_bias_experiments/noisy_prop_scores/sar_two_subject_groups/yago3_10/haswebsite/islocatedin/pca_version/s_prop0.5_ns_prop0.7/rule_wrappers'\n",
      "imports - participatedin\n",
      "imports - hascurrency\n",
      "imports - hasneighbor\n",
      "[Errno 2] No such file or directory: '/home/joschout/Documents/Repos/KUL-PUL/data/artificial_bias_experiments/noisy_prop_scores/sar_two_subject_groups/yago3_10/imports/hasneighbor/pca_version/s_prop0.5_ns_prop0.7/rule_wrappers'\n",
      "imports - owns\n",
      "imports - hascapital\n",
      "[Errno 2] No such file or directory: '/home/joschout/Documents/Repos/KUL-PUL/data/artificial_bias_experiments/noisy_prop_scores/sar_two_subject_groups/yago3_10/imports/hascapital/pca_version/s_prop0.5_ns_prop0.7/rule_wrappers'\n",
      "imports - hasofficiallanguage\n",
      "[Errno 2] No such file or directory: '/home/joschout/Documents/Repos/KUL-PUL/data/artificial_bias_experiments/noisy_prop_scores/sar_two_subject_groups/yago3_10/imports/hasofficiallanguage/pca_version/s_prop0.5_ns_prop0.7/rule_wrappers'\n",
      "imports - exports\n",
      "[Errno 2] No such file or directory: '/home/joschout/Documents/Repos/KUL-PUL/data/artificial_bias_experiments/noisy_prop_scores/sar_two_subject_groups/yago3_10/imports/exports/pca_version/s_prop0.5_ns_prop0.7/rule_wrappers'\n",
      "ispoliticianof - haswonprize\n",
      "ispoliticianof - iscitizenof\n",
      "[Errno 2] No such file or directory: '/home/joschout/Documents/Repos/KUL-PUL/data/artificial_bias_experiments/noisy_prop_scores/sar_two_subject_groups/yago3_10/ispoliticianof/iscitizenof/pca_version/s_prop0.5_ns_prop0.7/rule_wrappers'\n",
      "ispoliticianof - diedin\n",
      "[Errno 2] No such file or directory: '/home/joschout/Documents/Repos/KUL-PUL/data/artificial_bias_experiments/noisy_prop_scores/sar_two_subject_groups/yago3_10/ispoliticianof/diedin/pca_version/s_prop0.5_ns_prop0.7/rule_wrappers'\n",
      "ispoliticianof - livesin\n",
      "[Errno 2] No such file or directory: '/home/joschout/Documents/Repos/KUL-PUL/data/artificial_bias_experiments/noisy_prop_scores/sar_two_subject_groups/yago3_10/ispoliticianof/livesin/pca_version/s_prop0.5_ns_prop0.7/rule_wrappers'\n",
      "ispoliticianof - wasbornin\n",
      "[Errno 2] No such file or directory: '/home/joschout/Documents/Repos/KUL-PUL/data/artificial_bias_experiments/noisy_prop_scores/sar_two_subject_groups/yago3_10/ispoliticianof/wasbornin/pca_version/s_prop0.5_ns_prop0.7/rule_wrappers'\n",
      "ispoliticianof - isleaderof\n",
      "[Errno 2] No such file or directory: '/home/joschout/Documents/Repos/KUL-PUL/data/artificial_bias_experiments/noisy_prop_scores/sar_two_subject_groups/yago3_10/ispoliticianof/isleaderof/pca_version/s_prop0.5_ns_prop0.7/rule_wrappers'\n",
      "ispoliticianof - graduatedfrom\n",
      "ispoliticianof - isaffiliatedto\n",
      "ispoliticianof - haschild\n",
      "isaffiliatedto - wasbornin\n",
      "isaffiliatedto - hasgender\n",
      "[Errno 2] No such file or directory: '/home/joschout/Documents/Repos/KUL-PUL/data/artificial_bias_experiments/noisy_prop_scores/sar_two_subject_groups/yago3_10/isaffiliatedto/hasgender/pca_version/s_prop0.5_ns_prop0.7/rule_wrappers'\n",
      "isaffiliatedto - playsfor\n",
      "[Errno 2] No such file or directory: '/home/joschout/Documents/Repos/KUL-PUL/data/artificial_bias_experiments/noisy_prop_scores/sar_two_subject_groups/yago3_10/isaffiliatedto/playsfor/pca_version/s_prop0.5_ns_prop0.7/rule_wrappers'\n",
      "exports - participatedin\n",
      "exports - hascurrency\n",
      "exports - hasneighbor\n",
      "[Errno 2] No such file or directory: '/home/joschout/Documents/Repos/KUL-PUL/data/artificial_bias_experiments/noisy_prop_scores/sar_two_subject_groups/yago3_10/exports/hasneighbor/pca_version/s_prop0.5_ns_prop0.7/rule_wrappers'\n",
      "exports - owns\n",
      "exports - hascapital\n",
      "exports - hasofficiallanguage\n",
      "[Errno 2] No such file or directory: '/home/joschout/Documents/Repos/KUL-PUL/data/artificial_bias_experiments/noisy_prop_scores/sar_two_subject_groups/yago3_10/exports/hasofficiallanguage/pca_version/s_prop0.5_ns_prop0.7/rule_wrappers'\n",
      "worksat - haswonprize\n",
      "[Errno 2] No such file or directory: '/home/joschout/Documents/Repos/KUL-PUL/data/artificial_bias_experiments/noisy_prop_scores/sar_two_subject_groups/yago3_10/worksat/haswonprize/pca_version/s_prop0.5_ns_prop0.7/rule_wrappers'\n",
      "worksat - iscitizenof\n",
      "[Errno 2] No such file or directory: '/home/joschout/Documents/Repos/KUL-PUL/data/artificial_bias_experiments/noisy_prop_scores/sar_two_subject_groups/yago3_10/worksat/iscitizenof/pca_version/s_prop0.5_ns_prop0.7/rule_wrappers'\n",
      "worksat - diedin\n",
      "[Errno 2] No such file or directory: '/home/joschout/Documents/Repos/KUL-PUL/data/artificial_bias_experiments/noisy_prop_scores/sar_two_subject_groups/yago3_10/worksat/diedin/pca_version/s_prop0.5_ns_prop0.7/rule_wrappers'\n",
      "worksat - livesin\n",
      "[Errno 2] No such file or directory: '/home/joschout/Documents/Repos/KUL-PUL/data/artificial_bias_experiments/noisy_prop_scores/sar_two_subject_groups/yago3_10/worksat/livesin/pca_version/s_prop0.5_ns_prop0.7/rule_wrappers'\n",
      "worksat - wasbornin\n",
      "[Errno 2] No such file or directory: '/home/joschout/Documents/Repos/KUL-PUL/data/artificial_bias_experiments/noisy_prop_scores/sar_two_subject_groups/yago3_10/worksat/wasbornin/pca_version/s_prop0.5_ns_prop0.7/rule_wrappers'\n",
      "worksat - hasacademicadvisor\n",
      "[Errno 2] No such file or directory: '/home/joschout/Documents/Repos/KUL-PUL/data/artificial_bias_experiments/noisy_prop_scores/sar_two_subject_groups/yago3_10/worksat/hasacademicadvisor/pca_version/s_prop0.5_ns_prop0.7/rule_wrappers'\n",
      "worksat - influences\n",
      "[Errno 2] No such file or directory: '/home/joschout/Documents/Repos/KUL-PUL/data/artificial_bias_experiments/noisy_prop_scores/sar_two_subject_groups/yago3_10/worksat/influences/pca_version/s_prop0.5_ns_prop0.7/rule_wrappers'\n",
      "dealswith - participatedin\n",
      "[Errno 2] No such file or directory: '/home/joschout/Documents/Repos/KUL-PUL/data/artificial_bias_experiments/noisy_prop_scores/sar_two_subject_groups/yago3_10/dealswith/participatedin/pca_version/s_prop0.5_ns_prop0.7/rule_wrappers'\n",
      "dealswith - hascurrency\n",
      "[Errno 2] No such file or directory: '/home/joschout/Documents/Repos/KUL-PUL/data/artificial_bias_experiments/noisy_prop_scores/sar_two_subject_groups/yago3_10/dealswith/hascurrency/pca_version/s_prop0.5_ns_prop0.7/rule_wrappers'\n",
      "dealswith - hasneighbor\n",
      "[Errno 2] No such file or directory: '/home/joschout/Documents/Repos/KUL-PUL/data/artificial_bias_experiments/noisy_prop_scores/sar_two_subject_groups/yago3_10/dealswith/hasneighbor/pca_version/s_prop0.5_ns_prop0.7/rule_wrappers'\n",
      "dealswith - owns\n",
      "[Errno 2] No such file or directory: '/home/joschout/Documents/Repos/KUL-PUL/data/artificial_bias_experiments/noisy_prop_scores/sar_two_subject_groups/yago3_10/dealswith/owns/pca_version/s_prop0.5_ns_prop0.7/rule_wrappers'\n",
      "dealswith - hascapital\n",
      "[Errno 2] No such file or directory: '/home/joschout/Documents/Repos/KUL-PUL/data/artificial_bias_experiments/noisy_prop_scores/sar_two_subject_groups/yago3_10/dealswith/hascapital/pca_version/s_prop0.5_ns_prop0.7/rule_wrappers'\n",
      "dealswith - hasofficiallanguage\n",
      "[Errno 2] No such file or directory: '/home/joschout/Documents/Repos/KUL-PUL/data/artificial_bias_experiments/noisy_prop_scores/sar_two_subject_groups/yago3_10/dealswith/hasofficiallanguage/pca_version/s_prop0.5_ns_prop0.7/rule_wrappers'\n",
      "dealswith - imports\n",
      "dealswith - exports\n",
      "isconnectedto - islocatedin\n",
      "[Errno 2] No such file or directory: '/home/joschout/Documents/Repos/KUL-PUL/data/artificial_bias_experiments/noisy_prop_scores/sar_two_subject_groups/yago3_10/isconnectedto/islocatedin/pca_version/s_prop0.5_ns_prop0.7/rule_wrappers'\n",
      "happenedin - islocatedin\n",
      "actedin - haswonprize\n",
      "[Errno 2] No such file or directory: '/home/joschout/Documents/Repos/KUL-PUL/data/artificial_bias_experiments/noisy_prop_scores/sar_two_subject_groups/yago3_10/actedin/haswonprize/pca_version/s_prop0.5_ns_prop0.7/rule_wrappers'\n",
      "actedin - diedin\n",
      "[Errno 2] No such file or directory: '/home/joschout/Documents/Repos/KUL-PUL/data/artificial_bias_experiments/noisy_prop_scores/sar_two_subject_groups/yago3_10/actedin/diedin/pca_version/s_prop0.5_ns_prop0.7/rule_wrappers'\n",
      "actedin - wasbornin\n",
      "[Errno 2] No such file or directory: '/home/joschout/Documents/Repos/KUL-PUL/data/artificial_bias_experiments/noisy_prop_scores/sar_two_subject_groups/yago3_10/actedin/wasbornin/pca_version/s_prop0.5_ns_prop0.7/rule_wrappers'\n",
      "actedin - ismarriedto\n",
      "[Errno 2] No such file or directory: '/home/joschout/Documents/Repos/KUL-PUL/data/artificial_bias_experiments/noisy_prop_scores/sar_two_subject_groups/yago3_10/actedin/ismarriedto/pca_version/s_prop0.5_ns_prop0.7/rule_wrappers'\n",
      "hasacademicadvisor - haswonprize\n",
      "[Errno 2] No such file or directory: '/home/joschout/Documents/Repos/KUL-PUL/data/artificial_bias_experiments/noisy_prop_scores/sar_two_subject_groups/yago3_10/hasacademicadvisor/haswonprize/pca_version/s_prop0.5_ns_prop0.7/rule_wrappers'\n",
      "hasacademicadvisor - iscitizenof\n",
      "[Errno 2] No such file or directory: '/home/joschout/Documents/Repos/KUL-PUL/data/artificial_bias_experiments/noisy_prop_scores/sar_two_subject_groups/yago3_10/hasacademicadvisor/iscitizenof/pca_version/s_prop0.5_ns_prop0.7/rule_wrappers'\n",
      "hasacademicadvisor - diedin\n",
      "[Errno 2] No such file or directory: '/home/joschout/Documents/Repos/KUL-PUL/data/artificial_bias_experiments/noisy_prop_scores/sar_two_subject_groups/yago3_10/hasacademicadvisor/diedin/pca_version/s_prop0.5_ns_prop0.7/rule_wrappers'\n",
      "hasacademicadvisor - livesin\n",
      "[Errno 2] No such file or directory: '/home/joschout/Documents/Repos/KUL-PUL/data/artificial_bias_experiments/noisy_prop_scores/sar_two_subject_groups/yago3_10/hasacademicadvisor/livesin/pca_version/s_prop0.5_ns_prop0.7/rule_wrappers'\n",
      "hasacademicadvisor - wasbornin\n",
      "[Errno 2] No such file or directory: '/home/joschout/Documents/Repos/KUL-PUL/data/artificial_bias_experiments/noisy_prop_scores/sar_two_subject_groups/yago3_10/hasacademicadvisor/wasbornin/pca_version/s_prop0.5_ns_prop0.7/rule_wrappers'\n",
      "hasacademicadvisor - graduatedfrom\n",
      "[Errno 2] No such file or directory: '/home/joschout/Documents/Repos/KUL-PUL/data/artificial_bias_experiments/noisy_prop_scores/sar_two_subject_groups/yago3_10/hasacademicadvisor/graduatedfrom/pca_version/s_prop0.5_ns_prop0.7/rule_wrappers'\n",
      "hasacademicadvisor - worksat\n",
      "[Errno 2] No such file or directory: '/home/joschout/Documents/Repos/KUL-PUL/data/artificial_bias_experiments/noisy_prop_scores/sar_two_subject_groups/yago3_10/hasacademicadvisor/worksat/pca_version/s_prop0.5_ns_prop0.7/rule_wrappers'\n",
      "hasacademicadvisor - influences\n",
      "[Errno 2] No such file or directory: '/home/joschout/Documents/Repos/KUL-PUL/data/artificial_bias_experiments/noisy_prop_scores/sar_two_subject_groups/yago3_10/hasacademicadvisor/influences/pca_version/s_prop0.5_ns_prop0.7/rule_wrappers'\n",
      "influences - haswonprize\n",
      "[Errno 2] No such file or directory: '/home/joschout/Documents/Repos/KUL-PUL/data/artificial_bias_experiments/noisy_prop_scores/sar_two_subject_groups/yago3_10/influences/haswonprize/pca_version/s_prop0.5_ns_prop0.7/rule_wrappers'\n",
      "influences - iscitizenof\n",
      "[Errno 2] No such file or directory: '/home/joschout/Documents/Repos/KUL-PUL/data/artificial_bias_experiments/noisy_prop_scores/sar_two_subject_groups/yago3_10/influences/iscitizenof/pca_version/s_prop0.5_ns_prop0.7/rule_wrappers'\n",
      "influences - diedin\n",
      "[Errno 2] No such file or directory: '/home/joschout/Documents/Repos/KUL-PUL/data/artificial_bias_experiments/noisy_prop_scores/sar_two_subject_groups/yago3_10/influences/diedin/pca_version/s_prop0.5_ns_prop0.7/rule_wrappers'\n",
      "influences - wasbornin\n",
      "[Errno 2] No such file or directory: '/home/joschout/Documents/Repos/KUL-PUL/data/artificial_bias_experiments/noisy_prop_scores/sar_two_subject_groups/yago3_10/influences/wasbornin/pca_version/s_prop0.5_ns_prop0.7/rule_wrappers'\n",
      "influences - graduatedfrom\n",
      "[Errno 2] No such file or directory: '/home/joschout/Documents/Repos/KUL-PUL/data/artificial_bias_experiments/noisy_prop_scores/sar_two_subject_groups/yago3_10/influences/graduatedfrom/pca_version/s_prop0.5_ns_prop0.7/rule_wrappers'\n",
      "influences - created\n",
      "[Errno 2] No such file or directory: '/home/joschout/Documents/Repos/KUL-PUL/data/artificial_bias_experiments/noisy_prop_scores/sar_two_subject_groups/yago3_10/influences/created/pca_version/s_prop0.5_ns_prop0.7/rule_wrappers'\n",
      "haschild - haswonprize\n",
      "[Errno 2] No such file or directory: '/home/joschout/Documents/Repos/KUL-PUL/data/artificial_bias_experiments/noisy_prop_scores/sar_two_subject_groups/yago3_10/haschild/haswonprize/pca_version/s_prop0.5_ns_prop0.7/rule_wrappers'\n",
      "haschild - diedin\n",
      "[Errno 2] No such file or directory: '/home/joschout/Documents/Repos/KUL-PUL/data/artificial_bias_experiments/noisy_prop_scores/sar_two_subject_groups/yago3_10/haschild/diedin/pca_version/s_prop0.5_ns_prop0.7/rule_wrappers'\n",
      "haschild - wasbornin\n",
      "[Errno 2] No such file or directory: '/home/joschout/Documents/Repos/KUL-PUL/data/artificial_bias_experiments/noisy_prop_scores/sar_two_subject_groups/yago3_10/haschild/wasbornin/pca_version/s_prop0.5_ns_prop0.7/rule_wrappers'\n",
      "haschild - graduatedfrom\n",
      "[Errno 2] No such file or directory: '/home/joschout/Documents/Repos/KUL-PUL/data/artificial_bias_experiments/noisy_prop_scores/sar_two_subject_groups/yago3_10/haschild/graduatedfrom/pca_version/s_prop0.5_ns_prop0.7/rule_wrappers'\n",
      "haschild - ispoliticianof\n",
      "[Errno 2] No such file or directory: '/home/joschout/Documents/Repos/KUL-PUL/data/artificial_bias_experiments/noisy_prop_scores/sar_two_subject_groups/yago3_10/haschild/ispoliticianof/pca_version/s_prop0.5_ns_prop0.7/rule_wrappers'\n",
      "haschild - isaffiliatedto\n",
      "[Errno 2] No such file or directory: '/home/joschout/Documents/Repos/KUL-PUL/data/artificial_bias_experiments/noisy_prop_scores/sar_two_subject_groups/yago3_10/haschild/isaffiliatedto/pca_version/s_prop0.5_ns_prop0.7/rule_wrappers'\n",
      "haschild - ismarriedto\n",
      "[Errno 2] No such file or directory: '/home/joschout/Documents/Repos/KUL-PUL/data/artificial_bias_experiments/noisy_prop_scores/sar_two_subject_groups/yago3_10/haschild/ismarriedto/pca_version/s_prop0.5_ns_prop0.7/rule_wrappers'\n",
      "playsfor - wasbornin\n",
      "[Errno 2] No such file or directory: '/home/joschout/Documents/Repos/KUL-PUL/data/artificial_bias_experiments/noisy_prop_scores/sar_two_subject_groups/yago3_10/playsfor/wasbornin/pca_version/s_prop0.5_ns_prop0.7/rule_wrappers'\n",
      "playsfor - hasgender\n",
      "[Errno 2] No such file or directory: '/home/joschout/Documents/Repos/KUL-PUL/data/artificial_bias_experiments/noisy_prop_scores/sar_two_subject_groups/yago3_10/playsfor/hasgender/pca_version/s_prop0.5_ns_prop0.7/rule_wrappers'\n",
      "ismarriedto - haswonprize\n",
      "[Errno 2] No such file or directory: '/home/joschout/Documents/Repos/KUL-PUL/data/artificial_bias_experiments/noisy_prop_scores/sar_two_subject_groups/yago3_10/ismarriedto/haswonprize/pca_version/s_prop0.5_ns_prop0.7/rule_wrappers'\n",
      "ismarriedto - diedin\n",
      "[Errno 2] No such file or directory: '/home/joschout/Documents/Repos/KUL-PUL/data/artificial_bias_experiments/noisy_prop_scores/sar_two_subject_groups/yago3_10/ismarriedto/diedin/pca_version/s_prop0.5_ns_prop0.7/rule_wrappers'\n",
      "ismarriedto - wasbornin\n",
      "[Errno 2] No such file or directory: '/home/joschout/Documents/Repos/KUL-PUL/data/artificial_bias_experiments/noisy_prop_scores/sar_two_subject_groups/yago3_10/ismarriedto/wasbornin/pca_version/s_prop0.5_ns_prop0.7/rule_wrappers'\n",
      "ismarriedto - graduatedfrom\n",
      "[Errno 2] No such file or directory: '/home/joschout/Documents/Repos/KUL-PUL/data/artificial_bias_experiments/noisy_prop_scores/sar_two_subject_groups/yago3_10/ismarriedto/graduatedfrom/pca_version/s_prop0.5_ns_prop0.7/rule_wrappers'\n",
      "ismarriedto - actedin\n",
      "[Errno 2] No such file or directory: '/home/joschout/Documents/Repos/KUL-PUL/data/artificial_bias_experiments/noisy_prop_scores/sar_two_subject_groups/yago3_10/ismarriedto/actedin/pca_version/s_prop0.5_ns_prop0.7/rule_wrappers'\n",
      "ismarriedto - haschild\n",
      "[Errno 2] No such file or directory: '/home/joschout/Documents/Repos/KUL-PUL/data/artificial_bias_experiments/noisy_prop_scores/sar_two_subject_groups/yago3_10/ismarriedto/haschild/pca_version/s_prop0.5_ns_prop0.7/rule_wrappers'\n"
     ]
    }
   ],
   "source": [
    "\n",
    "dataset_name=\"yago3_10\"\n",
    "is_pca_version: bool = True\n",
    "\n",
    "\n",
    "true_prop_score_in_filter = 0.5\n",
    "true_prop_score_other_list = [0.3, .7]\n",
    "\n",
    "# true_prop_scores = PropScoresTwoSARGroups(\n",
    "#     in_filter=true_prop_score_in_filter,\n",
    "#     other=true_prop_score_other\n",
    "# )\n",
    "\n",
    "noisy_prop_score_in_filter: float = true_prop_score_in_filter\n",
    "noisy_prop_score_not_in_filter_list: List[float] = [0.1, 0.2, .3, .4, .5, .6, .7, .8, .9, 1]\n",
    "\n",
    "root_experiment_dir: str = os.path.join(\n",
    "    get_root_dir_experiment_noisy_propensity_scores(),\n",
    "    'sar_two_subject_groups',\n",
    "    dataset_name\n",
    "\n",
    ")\n",
    "path_root_experiment_dir = Path(root_experiment_dir)\n",
    "\n",
    "true_prop_score_other_to_df_map: Dict[float, pd.DataFrame] = dict()\n",
    "df_rule_wrapper_list: List[pd.DataFrame] = []\n",
    "df_group_info_list: List[pd.DataFrame] = []\n",
    "\n",
    "for true_prop_score_other in true_prop_score_other_list:\n",
    "    true_prop_scores = PropScoresTwoSARGroups(\n",
    "        in_filter=true_prop_score_in_filter,\n",
    "        other=true_prop_score_other\n",
    "    )\n",
    "\n",
    "    # df_list: List[pd.DataFrame] = []\n",
    "\n",
    "    for target_rel_path in path_root_experiment_dir.iterdir():\n",
    "        if target_rel_path.is_dir():\n",
    "            for filter_dir in target_rel_path.iterdir():\n",
    "                if filter_dir.is_dir():\n",
    "                    target_relation = target_rel_path.name\n",
    "                    filter_relation = filter_dir.name\n",
    "                    print(f\"{target_relation} - {filter_relation}\")\n",
    "                    try:\n",
    "                        experiment_info =  NoisyPropScoresSARExperimentInfo(\n",
    "                           dataset_name=dataset_name,\n",
    "                            target_relation=target_relation,\n",
    "                            filter_relation=filter_relation,\n",
    "                            true_prop_scores=true_prop_scores,\n",
    "                            noisy_prop_score_in_filter=noisy_prop_score_in_filter,\n",
    "                            noisy_prop_score_not_in_filter_list=noisy_prop_score_not_in_filter_list,\n",
    "                            is_pca_version=is_pca_version\n",
    "                        )\n",
    "                        df_rule_wrappers_tmp = load_df_noisy_prop_scores_two_groups(\n",
    "                            experiment_info=experiment_info\n",
    "                        )\n",
    "                        df_rule_wrapper_list.append(df_rule_wrappers_tmp)\n",
    "\n",
    "                        df_group_info_tmp: pd.DataFrame = get_dataframe_with_info_about_noisy_prop_scores_sar_two_groups_for(\n",
    "                            dataset_name=dataset_name,\n",
    "                            target_relation=target_relation,\n",
    "                            filter_relation=filter_relation,\n",
    "                            true_prop_scores=true_prop_scores,\n",
    "                            noisy_prop_score_in_filter=noisy_prop_score_in_filter,\n",
    "                            noisy_prop_score_not_in_filter_list=noisy_prop_score_not_in_filter_list,\n",
    "                            is_pca_version=is_pca_version\n",
    "                        )\n",
    "\n",
    "                        df_group_info_list.append(df_group_info_tmp)\n",
    "\n",
    "                    except Exception as err:\n",
    "                        print(err)\n",
    "\n",
    "\n",
    "df_rule_wrappers_all_targets: pd.DataFrame = pd.concat(df_rule_wrapper_list, axis=0)\n",
    "df_group_info_all_targets: pd.DataFrame = pd.concat(df_group_info_list, axis=0)\n",
    "# true_prop_score_other_to_df_map[true_prop_score_other] = df_for_true_prop_score_other"
   ],
   "metadata": {
    "collapsed": false,
    "pycharm": {
     "name": "#%%\n"
    }
   }
  },
  {
   "cell_type": "code",
   "execution_count": 106,
   "outputs": [
    {
     "data": {
      "text/plain": "  target_relation filter_relation  true_prop_scores_in_filter  \\\n0  participatedin      hascapital                         0.5   \n1  participatedin      hascapital                         0.5   \n2  participatedin      hascapital                         0.5   \n3  participatedin      hascapital                         0.5   \n4  participatedin      hascapital                         0.5   \n\n   true_prop_scores_not_in_filter  noisy_prop_scores_in_filter  \\\n0                             0.3                          0.5   \n1                             0.3                          0.5   \n2                             0.3                          0.5   \n3                             0.3                          0.5   \n4                             0.3                          0.5   \n\n   noisy_prop_scores_not_in_filter  random_trial_index  \\\n0                              0.1                   4   \n1                              0.2                   4   \n2                              0.3                   4   \n3                              0.4                   4   \n4                              0.5                   4   \n\n                                                Rule  \\\n0  participatedin(A,B) :- hasneighbor(G,A),partic...   \n1  participatedin(A,B) :- hasneighbor(G,A),partic...   \n2  participatedin(A,B) :- hasneighbor(G,A),partic...   \n3  participatedin(A,B) :- hasneighbor(G,A),partic...   \n4  participatedin(A,B) :- hasneighbor(G,A),partic...   \n\n   Nb supported predictions  Body size   $conf$       CWA  \\\n0                       122       1770  0.20452  0.068927   \n1                       122       1770  0.20452  0.068927   \n2                       122       1770  0.20452  0.068927   \n3                       122       1770  0.20452  0.068927   \n4                       122       1770  0.20452  0.068927   \n\n   $\\frac{\\left| \\mathbf{R}\\right|}{\\left| \\mathbf{R_s}\\right|} conf$ $p$  \\\n0                                           0.237689                        \n1                                           0.237689                        \n2                                           0.237689                        \n3                                           0.237689                        \n4                                           0.237689                        \n\n    PCA $p$  \\\n0  0.172805   \n1  0.172805   \n2  0.172805   \n3  0.172805   \n4  0.172805   \n\n   $\\frac{\\left| \\mathbf{R}\\right|}{\\left| \\mathbf{R_s}\\right|} conf$ $p^{-1}$  \\\n0                                            0.20452                             \n1                                            0.20452                             \n2                                            0.20452                             \n3                                            0.20452                             \n4                                            0.20452                             \n\n   PCA ${p^{-1}}$       IPW  IPW-PCA $p$  IPW-PCA ${p^{-1}}$       ICW  \n0        0.068927  0.160452     0.145791            0.145791  0.151175  \n1        0.068927  0.146328     0.160570            0.160570  0.147609  \n2        0.068927  0.141620     0.166963            0.166963  0.144207  \n3        0.068927  0.139266     0.170529            0.170529  0.140958  \n4        0.068927  0.137853     0.172805            0.172805  0.137853  ",
      "text/html": "<div>\n<style scoped>\n    .dataframe tbody tr th:only-of-type {\n        vertical-align: middle;\n    }\n\n    .dataframe tbody tr th {\n        vertical-align: top;\n    }\n\n    .dataframe thead th {\n        text-align: right;\n    }\n</style>\n<table border=\"1\" class=\"dataframe\">\n  <thead>\n    <tr style=\"text-align: right;\">\n      <th></th>\n      <th>target_relation</th>\n      <th>filter_relation</th>\n      <th>true_prop_scores_in_filter</th>\n      <th>true_prop_scores_not_in_filter</th>\n      <th>noisy_prop_scores_in_filter</th>\n      <th>noisy_prop_scores_not_in_filter</th>\n      <th>random_trial_index</th>\n      <th>Rule</th>\n      <th>Nb supported predictions</th>\n      <th>Body size</th>\n      <th>$conf$</th>\n      <th>CWA</th>\n      <th>$\\frac{\\left| \\mathbf{R}\\right|}{\\left| \\mathbf{R_s}\\right|} conf$ $p$</th>\n      <th>PCA $p$</th>\n      <th>$\\frac{\\left| \\mathbf{R}\\right|}{\\left| \\mathbf{R_s}\\right|} conf$ $p^{-1}$</th>\n      <th>PCA ${p^{-1}}$</th>\n      <th>IPW</th>\n      <th>IPW-PCA $p$</th>\n      <th>IPW-PCA ${p^{-1}}$</th>\n      <th>ICW</th>\n    </tr>\n  </thead>\n  <tbody>\n    <tr>\n      <th>0</th>\n      <td>participatedin</td>\n      <td>hascapital</td>\n      <td>0.5</td>\n      <td>0.3</td>\n      <td>0.5</td>\n      <td>0.1</td>\n      <td>4</td>\n      <td>participatedin(A,B) :- hasneighbor(G,A),partic...</td>\n      <td>122</td>\n      <td>1770</td>\n      <td>0.20452</td>\n      <td>0.068927</td>\n      <td>0.237689</td>\n      <td>0.172805</td>\n      <td>0.20452</td>\n      <td>0.068927</td>\n      <td>0.160452</td>\n      <td>0.145791</td>\n      <td>0.145791</td>\n      <td>0.151175</td>\n    </tr>\n    <tr>\n      <th>1</th>\n      <td>participatedin</td>\n      <td>hascapital</td>\n      <td>0.5</td>\n      <td>0.3</td>\n      <td>0.5</td>\n      <td>0.2</td>\n      <td>4</td>\n      <td>participatedin(A,B) :- hasneighbor(G,A),partic...</td>\n      <td>122</td>\n      <td>1770</td>\n      <td>0.20452</td>\n      <td>0.068927</td>\n      <td>0.237689</td>\n      <td>0.172805</td>\n      <td>0.20452</td>\n      <td>0.068927</td>\n      <td>0.146328</td>\n      <td>0.160570</td>\n      <td>0.160570</td>\n      <td>0.147609</td>\n    </tr>\n    <tr>\n      <th>2</th>\n      <td>participatedin</td>\n      <td>hascapital</td>\n      <td>0.5</td>\n      <td>0.3</td>\n      <td>0.5</td>\n      <td>0.3</td>\n      <td>4</td>\n      <td>participatedin(A,B) :- hasneighbor(G,A),partic...</td>\n      <td>122</td>\n      <td>1770</td>\n      <td>0.20452</td>\n      <td>0.068927</td>\n      <td>0.237689</td>\n      <td>0.172805</td>\n      <td>0.20452</td>\n      <td>0.068927</td>\n      <td>0.141620</td>\n      <td>0.166963</td>\n      <td>0.166963</td>\n      <td>0.144207</td>\n    </tr>\n    <tr>\n      <th>3</th>\n      <td>participatedin</td>\n      <td>hascapital</td>\n      <td>0.5</td>\n      <td>0.3</td>\n      <td>0.5</td>\n      <td>0.4</td>\n      <td>4</td>\n      <td>participatedin(A,B) :- hasneighbor(G,A),partic...</td>\n      <td>122</td>\n      <td>1770</td>\n      <td>0.20452</td>\n      <td>0.068927</td>\n      <td>0.237689</td>\n      <td>0.172805</td>\n      <td>0.20452</td>\n      <td>0.068927</td>\n      <td>0.139266</td>\n      <td>0.170529</td>\n      <td>0.170529</td>\n      <td>0.140958</td>\n    </tr>\n    <tr>\n      <th>4</th>\n      <td>participatedin</td>\n      <td>hascapital</td>\n      <td>0.5</td>\n      <td>0.3</td>\n      <td>0.5</td>\n      <td>0.5</td>\n      <td>4</td>\n      <td>participatedin(A,B) :- hasneighbor(G,A),partic...</td>\n      <td>122</td>\n      <td>1770</td>\n      <td>0.20452</td>\n      <td>0.068927</td>\n      <td>0.237689</td>\n      <td>0.172805</td>\n      <td>0.20452</td>\n      <td>0.068927</td>\n      <td>0.137853</td>\n      <td>0.172805</td>\n      <td>0.172805</td>\n      <td>0.137853</td>\n    </tr>\n  </tbody>\n</table>\n</div>"
     },
     "execution_count": 106,
     "metadata": {},
     "output_type": "execute_result"
    }
   ],
   "source": [
    "df_rule_wrappers_all_targets.head()"
   ],
   "metadata": {
    "collapsed": false,
    "pycharm": {
     "name": "#%%\n"
    }
   }
  },
  {
   "cell_type": "code",
   "execution_count": 107,
   "outputs": [
    {
     "data": {
      "text/plain": "Index(['target_relation', 'filter_relation', 'true_prop_scores_in_filter',\n       'true_prop_scores_not_in_filter', 'noisy_prop_scores_in_filter',\n       'noisy_prop_scores_not_in_filter', 'random_trial_index', 'Rule',\n       'Nb supported predictions', 'Body size', '$conf$', 'CWA',\n       '$\\frac{\\left| \\mathbf{R}\\right|}{\\left| \\mathbf{R_s}\\right|} conf$ $p$',\n       'PCA $p$',\n       '$\\frac{\\left| \\mathbf{R}\\right|}{\\left| \\mathbf{R_s}\\right|} conf$ $p^{-1}$',\n       'PCA ${p^{-1}}$', 'IPW', 'IPW-PCA $p$', 'IPW-PCA ${p^{-1}}$', 'ICW'],\n      dtype='object')"
     },
     "execution_count": 107,
     "metadata": {},
     "output_type": "execute_result"
    }
   ],
   "source": [
    "df_rule_wrappers_all_targets.columns"
   ],
   "metadata": {
    "collapsed": false,
    "pycharm": {
     "name": "#%%\n"
    }
   }
  },
  {
   "cell_type": "code",
   "execution_count": 108,
   "outputs": [
    {
     "data": {
      "text/plain": "                                                Rule target_relation  \\\n0             participatedin(A,B) :- happenedin(B,A)  participatedin   \n1  participatedin(A,B) :- hasneighbor(A,H),partic...  participatedin   \n2  participatedin(A,B) :- dealswith(G,A),particip...  participatedin   \n3  participatedin(A,B) :- hasneighbor(G,A),partic...  participatedin   \n1  participatedin(A,B) :- hasneighbor(A,H),partic...  participatedin   \n\n  filter_relation  true_prop_scores_in_filter  true_prop_scores_not_in_filter  \\\n0      hascapital                         0.5                             0.3   \n1      hascapital                         0.5                             0.3   \n2      hascapital                         0.5                             0.3   \n3      hascapital                         0.5                             0.3   \n1      hascapital                         0.5                             0.3   \n\n   true_conf  true_conf_on_predictions_in_filter  \\\n0   0.293349                            0.417961   \n1   0.226375                            0.272206   \n2   0.225240                            0.233528   \n3   0.215250                            0.269011   \n1   0.209007                            0.242556   \n\n   true_conf_on_predictions_not_in_filter  true_pos_pair_conf_s_to_o  \\\n0                                0.074700                   0.469136   \n1                                0.097035                   0.294766   \n2                                0.111111                   0.231430   \n3                                0.083721                   0.291590   \n1                                0.078873                   0.243771   \n\n   true_pos_pair_s_to_o_conf_on_predictions_in_filter  ...  \\\n0                                           0.489091   ...   \n1                                           0.307443   ...   \n2                                           0.236818   ...   \n3                                           0.303648   ...   \n1                                           0.269138   ...   \n\n   true_pos_pair_conf_o_to_s  \\\n0                   0.310107   \n1                   0.226375   \n2                   0.225240   \n3                   0.215250   \n1                   0.209007   \n\n   true_pos_pair_o_to_s_conf_on_predictions_in_filter  \\\n0                                           0.433312    \n1                                           0.272206    \n2                                           0.233528    \n3                                           0.269011    \n1                                           0.242556    \n\n   true_pos_pair_o_to_s_conf_on_predictions_not_in_filter  \\\n0                                           0.081791        \n1                                           0.097035        \n2                                           0.111111        \n3                                           0.083721        \n1                                           0.078873        \n\n   n_predictions_in_filter  n_predictions_not_in_filter  n_predictions  \\\n0                     3218                         1834           5052   \n1                     1047                          371           1418   \n2                     2231                          162           2393   \n3                     1052                          430           1482   \n1                     1377                          355           1732   \n\n   rel_conf_in_filter  rel_conf_not_in_filter  rel_n_predictions_in_filter  \\\n0            0.424792               -0.745354                    63.697546   \n1            0.202457               -0.571353                    73.836389   \n2            0.036793               -0.506700                    93.230255   \n3            0.249765               -0.611052                    70.985155   \n1            0.160518               -0.622629                    79.503464   \n\n   rel_n_predictions_not_in_filter  \n0                        36.302454  \n1                        26.163611  \n2                         6.769745  \n3                        29.014845  \n1                        20.496536  \n\n[5 rows x 21 columns]",
      "text/html": "<div>\n<style scoped>\n    .dataframe tbody tr th:only-of-type {\n        vertical-align: middle;\n    }\n\n    .dataframe tbody tr th {\n        vertical-align: top;\n    }\n\n    .dataframe thead th {\n        text-align: right;\n    }\n</style>\n<table border=\"1\" class=\"dataframe\">\n  <thead>\n    <tr style=\"text-align: right;\">\n      <th></th>\n      <th>Rule</th>\n      <th>target_relation</th>\n      <th>filter_relation</th>\n      <th>true_prop_scores_in_filter</th>\n      <th>true_prop_scores_not_in_filter</th>\n      <th>true_conf</th>\n      <th>true_conf_on_predictions_in_filter</th>\n      <th>true_conf_on_predictions_not_in_filter</th>\n      <th>true_pos_pair_conf_s_to_o</th>\n      <th>true_pos_pair_s_to_o_conf_on_predictions_in_filter</th>\n      <th>...</th>\n      <th>true_pos_pair_conf_o_to_s</th>\n      <th>true_pos_pair_o_to_s_conf_on_predictions_in_filter</th>\n      <th>true_pos_pair_o_to_s_conf_on_predictions_not_in_filter</th>\n      <th>n_predictions_in_filter</th>\n      <th>n_predictions_not_in_filter</th>\n      <th>n_predictions</th>\n      <th>rel_conf_in_filter</th>\n      <th>rel_conf_not_in_filter</th>\n      <th>rel_n_predictions_in_filter</th>\n      <th>rel_n_predictions_not_in_filter</th>\n    </tr>\n  </thead>\n  <tbody>\n    <tr>\n      <th>0</th>\n      <td>participatedin(A,B) :- happenedin(B,A)</td>\n      <td>participatedin</td>\n      <td>hascapital</td>\n      <td>0.5</td>\n      <td>0.3</td>\n      <td>0.293349</td>\n      <td>0.417961</td>\n      <td>0.074700</td>\n      <td>0.469136</td>\n      <td>0.489091</td>\n      <td>...</td>\n      <td>0.310107</td>\n      <td>0.433312</td>\n      <td>0.081791</td>\n      <td>3218</td>\n      <td>1834</td>\n      <td>5052</td>\n      <td>0.424792</td>\n      <td>-0.745354</td>\n      <td>63.697546</td>\n      <td>36.302454</td>\n    </tr>\n    <tr>\n      <th>1</th>\n      <td>participatedin(A,B) :- hasneighbor(A,H),partic...</td>\n      <td>participatedin</td>\n      <td>hascapital</td>\n      <td>0.5</td>\n      <td>0.3</td>\n      <td>0.226375</td>\n      <td>0.272206</td>\n      <td>0.097035</td>\n      <td>0.294766</td>\n      <td>0.307443</td>\n      <td>...</td>\n      <td>0.226375</td>\n      <td>0.272206</td>\n      <td>0.097035</td>\n      <td>1047</td>\n      <td>371</td>\n      <td>1418</td>\n      <td>0.202457</td>\n      <td>-0.571353</td>\n      <td>73.836389</td>\n      <td>26.163611</td>\n    </tr>\n    <tr>\n      <th>2</th>\n      <td>participatedin(A,B) :- dealswith(G,A),particip...</td>\n      <td>participatedin</td>\n      <td>hascapital</td>\n      <td>0.5</td>\n      <td>0.3</td>\n      <td>0.225240</td>\n      <td>0.233528</td>\n      <td>0.111111</td>\n      <td>0.231430</td>\n      <td>0.236818</td>\n      <td>...</td>\n      <td>0.225240</td>\n      <td>0.233528</td>\n      <td>0.111111</td>\n      <td>2231</td>\n      <td>162</td>\n      <td>2393</td>\n      <td>0.036793</td>\n      <td>-0.506700</td>\n      <td>93.230255</td>\n      <td>6.769745</td>\n    </tr>\n    <tr>\n      <th>3</th>\n      <td>participatedin(A,B) :- hasneighbor(G,A),partic...</td>\n      <td>participatedin</td>\n      <td>hascapital</td>\n      <td>0.5</td>\n      <td>0.3</td>\n      <td>0.215250</td>\n      <td>0.269011</td>\n      <td>0.083721</td>\n      <td>0.291590</td>\n      <td>0.303648</td>\n      <td>...</td>\n      <td>0.215250</td>\n      <td>0.269011</td>\n      <td>0.083721</td>\n      <td>1052</td>\n      <td>430</td>\n      <td>1482</td>\n      <td>0.249765</td>\n      <td>-0.611052</td>\n      <td>70.985155</td>\n      <td>29.014845</td>\n    </tr>\n    <tr>\n      <th>1</th>\n      <td>participatedin(A,B) :- hasneighbor(A,H),partic...</td>\n      <td>participatedin</td>\n      <td>hascapital</td>\n      <td>0.5</td>\n      <td>0.3</td>\n      <td>0.209007</td>\n      <td>0.242556</td>\n      <td>0.078873</td>\n      <td>0.243771</td>\n      <td>0.269138</td>\n      <td>...</td>\n      <td>0.209007</td>\n      <td>0.242556</td>\n      <td>0.078873</td>\n      <td>1377</td>\n      <td>355</td>\n      <td>1732</td>\n      <td>0.160518</td>\n      <td>-0.622629</td>\n      <td>79.503464</td>\n      <td>20.496536</td>\n    </tr>\n  </tbody>\n</table>\n<p>5 rows × 21 columns</p>\n</div>"
     },
     "execution_count": 108,
     "metadata": {},
     "output_type": "execute_result"
    }
   ],
   "source": [
    "df_group_info_all_targets.head()"
   ],
   "metadata": {
    "collapsed": false,
    "pycharm": {
     "name": "#%%\n"
    }
   }
  },
  {
   "cell_type": "code",
   "execution_count": 109,
   "outputs": [
    {
     "data": {
      "text/plain": "Index(['Rule', 'target_relation', 'filter_relation',\n       'true_prop_scores_in_filter', 'true_prop_scores_not_in_filter',\n       'true_conf', 'true_conf_on_predictions_in_filter',\n       'true_conf_on_predictions_not_in_filter', 'true_pos_pair_conf_s_to_o',\n       'true_pos_pair_s_to_o_conf_on_predictions_in_filter',\n       'true_pos_pair_s_to_o_conf_on_predictions_not_in_filter',\n       'true_pos_pair_conf_o_to_s',\n       'true_pos_pair_o_to_s_conf_on_predictions_in_filter',\n       'true_pos_pair_o_to_s_conf_on_predictions_not_in_filter',\n       'n_predictions_in_filter', 'n_predictions_not_in_filter',\n       'n_predictions', 'rel_conf_in_filter', 'rel_conf_not_in_filter',\n       'rel_n_predictions_in_filter', 'rel_n_predictions_not_in_filter'],\n      dtype='object')"
     },
     "execution_count": 109,
     "metadata": {},
     "output_type": "execute_result"
    }
   ],
   "source": [
    "df_group_info_all_targets.columns"
   ],
   "metadata": {
    "collapsed": false,
    "pycharm": {
     "name": "#%%\n"
    }
   }
  },
  {
   "cell_type": "code",
   "execution_count": 110,
   "outputs": [
    {
     "data": {
      "text/plain": "  target_relation filter_relation  true_prop_scores_in_filter  \\\n0  participatedin      hascapital                         0.5   \n1  participatedin      hascapital                         0.5   \n2  participatedin      hascapital                         0.5   \n3  participatedin      hascapital                         0.5   \n4  participatedin      hascapital                         0.5   \n\n   true_prop_scores_not_in_filter  noisy_prop_scores_in_filter  \\\n0                             0.3                          0.5   \n1                             0.3                          0.5   \n2                             0.3                          0.5   \n3                             0.3                          0.5   \n4                             0.3                          0.5   \n\n   noisy_prop_scores_not_in_filter  random_trial_index  \\\n0                              0.1                   4   \n1                              0.2                   4   \n2                              0.3                   4   \n3                              0.4                   4   \n4                              0.5                   4   \n\n                                                Rule  \\\n0  participatedin(A,B) :- hasneighbor(G,A),partic...   \n1  participatedin(A,B) :- hasneighbor(G,A),partic...   \n2  participatedin(A,B) :- hasneighbor(G,A),partic...   \n3  participatedin(A,B) :- hasneighbor(G,A),partic...   \n4  participatedin(A,B) :- hasneighbor(G,A),partic...   \n\n   Nb supported predictions  Body size   $conf$       CWA  \\\n0                       122       1770  0.20452  0.068927   \n1                       122       1770  0.20452  0.068927   \n2                       122       1770  0.20452  0.068927   \n3                       122       1770  0.20452  0.068927   \n4                       122       1770  0.20452  0.068927   \n\n   $\\frac{\\left| \\mathbf{R}\\right|}{\\left| \\mathbf{R_s}\\right|} conf$ $p$  \\\n0                                           0.237689                        \n1                                           0.237689                        \n2                                           0.237689                        \n3                                           0.237689                        \n4                                           0.237689                        \n\n    PCA $p$  \\\n0  0.172805   \n1  0.172805   \n2  0.172805   \n3  0.172805   \n4  0.172805   \n\n   $\\frac{\\left| \\mathbf{R}\\right|}{\\left| \\mathbf{R_s}\\right|} conf$ $p^{-1}$  \\\n0                                            0.20452                             \n1                                            0.20452                             \n2                                            0.20452                             \n3                                            0.20452                             \n4                                            0.20452                             \n\n   PCA ${p^{-1}}$       IPW  IPW-PCA $p$  IPW-PCA ${p^{-1}}$       ICW  \n0        0.068927  0.160452     0.145791            0.145791  0.151175  \n1        0.068927  0.146328     0.160570            0.160570  0.147609  \n2        0.068927  0.141620     0.166963            0.166963  0.144207  \n3        0.068927  0.139266     0.170529            0.170529  0.140958  \n4        0.068927  0.137853     0.172805            0.172805  0.137853  ",
      "text/html": "<div>\n<style scoped>\n    .dataframe tbody tr th:only-of-type {\n        vertical-align: middle;\n    }\n\n    .dataframe tbody tr th {\n        vertical-align: top;\n    }\n\n    .dataframe thead th {\n        text-align: right;\n    }\n</style>\n<table border=\"1\" class=\"dataframe\">\n  <thead>\n    <tr style=\"text-align: right;\">\n      <th></th>\n      <th>target_relation</th>\n      <th>filter_relation</th>\n      <th>true_prop_scores_in_filter</th>\n      <th>true_prop_scores_not_in_filter</th>\n      <th>noisy_prop_scores_in_filter</th>\n      <th>noisy_prop_scores_not_in_filter</th>\n      <th>random_trial_index</th>\n      <th>Rule</th>\n      <th>Nb supported predictions</th>\n      <th>Body size</th>\n      <th>$conf$</th>\n      <th>CWA</th>\n      <th>$\\frac{\\left| \\mathbf{R}\\right|}{\\left| \\mathbf{R_s}\\right|} conf$ $p$</th>\n      <th>PCA $p$</th>\n      <th>$\\frac{\\left| \\mathbf{R}\\right|}{\\left| \\mathbf{R_s}\\right|} conf$ $p^{-1}$</th>\n      <th>PCA ${p^{-1}}$</th>\n      <th>IPW</th>\n      <th>IPW-PCA $p$</th>\n      <th>IPW-PCA ${p^{-1}}$</th>\n      <th>ICW</th>\n    </tr>\n  </thead>\n  <tbody>\n    <tr>\n      <th>0</th>\n      <td>participatedin</td>\n      <td>hascapital</td>\n      <td>0.5</td>\n      <td>0.3</td>\n      <td>0.5</td>\n      <td>0.1</td>\n      <td>4</td>\n      <td>participatedin(A,B) :- hasneighbor(G,A),partic...</td>\n      <td>122</td>\n      <td>1770</td>\n      <td>0.20452</td>\n      <td>0.068927</td>\n      <td>0.237689</td>\n      <td>0.172805</td>\n      <td>0.20452</td>\n      <td>0.068927</td>\n      <td>0.160452</td>\n      <td>0.145791</td>\n      <td>0.145791</td>\n      <td>0.151175</td>\n    </tr>\n    <tr>\n      <th>1</th>\n      <td>participatedin</td>\n      <td>hascapital</td>\n      <td>0.5</td>\n      <td>0.3</td>\n      <td>0.5</td>\n      <td>0.2</td>\n      <td>4</td>\n      <td>participatedin(A,B) :- hasneighbor(G,A),partic...</td>\n      <td>122</td>\n      <td>1770</td>\n      <td>0.20452</td>\n      <td>0.068927</td>\n      <td>0.237689</td>\n      <td>0.172805</td>\n      <td>0.20452</td>\n      <td>0.068927</td>\n      <td>0.146328</td>\n      <td>0.160570</td>\n      <td>0.160570</td>\n      <td>0.147609</td>\n    </tr>\n    <tr>\n      <th>2</th>\n      <td>participatedin</td>\n      <td>hascapital</td>\n      <td>0.5</td>\n      <td>0.3</td>\n      <td>0.5</td>\n      <td>0.3</td>\n      <td>4</td>\n      <td>participatedin(A,B) :- hasneighbor(G,A),partic...</td>\n      <td>122</td>\n      <td>1770</td>\n      <td>0.20452</td>\n      <td>0.068927</td>\n      <td>0.237689</td>\n      <td>0.172805</td>\n      <td>0.20452</td>\n      <td>0.068927</td>\n      <td>0.141620</td>\n      <td>0.166963</td>\n      <td>0.166963</td>\n      <td>0.144207</td>\n    </tr>\n    <tr>\n      <th>3</th>\n      <td>participatedin</td>\n      <td>hascapital</td>\n      <td>0.5</td>\n      <td>0.3</td>\n      <td>0.5</td>\n      <td>0.4</td>\n      <td>4</td>\n      <td>participatedin(A,B) :- hasneighbor(G,A),partic...</td>\n      <td>122</td>\n      <td>1770</td>\n      <td>0.20452</td>\n      <td>0.068927</td>\n      <td>0.237689</td>\n      <td>0.172805</td>\n      <td>0.20452</td>\n      <td>0.068927</td>\n      <td>0.139266</td>\n      <td>0.170529</td>\n      <td>0.170529</td>\n      <td>0.140958</td>\n    </tr>\n    <tr>\n      <th>4</th>\n      <td>participatedin</td>\n      <td>hascapital</td>\n      <td>0.5</td>\n      <td>0.3</td>\n      <td>0.5</td>\n      <td>0.5</td>\n      <td>4</td>\n      <td>participatedin(A,B) :- hasneighbor(G,A),partic...</td>\n      <td>122</td>\n      <td>1770</td>\n      <td>0.20452</td>\n      <td>0.068927</td>\n      <td>0.237689</td>\n      <td>0.172805</td>\n      <td>0.20452</td>\n      <td>0.068927</td>\n      <td>0.137853</td>\n      <td>0.172805</td>\n      <td>0.172805</td>\n      <td>0.137853</td>\n    </tr>\n  </tbody>\n</table>\n</div>"
     },
     "execution_count": 110,
     "metadata": {},
     "output_type": "execute_result"
    }
   ],
   "source": [
    "column_names_logistics: List[str] = [\n",
    "    'target_relation',\n",
    "    'filter_relation',\n",
    "    'true_prop_scores_in_filter', 'true_prop_scores_not_in_filter',\n",
    "    'noisy_prop_scores_in_filter', 'noisy_prop_scores_not_in_filter',\n",
    "\n",
    "    'random_trial_index',\n",
    "    \"Rule\"\n",
    "]\n",
    "other_columns = [col for col in df_rule_wrappers_all_targets.columns if col not in column_names_logistics]\n",
    "resorted_columns = column_names_logistics + other_columns\n",
    "df_rule_wrappers_all_targets = df_rule_wrappers_all_targets[resorted_columns]\n",
    "df_rule_wrappers_all_targets.head()"
   ],
   "metadata": {
    "collapsed": false,
    "pycharm": {
     "name": "#%%\n"
    }
   }
  },
  {
   "cell_type": "code",
   "execution_count": 111,
   "outputs": [],
   "source": [
    "df_rule_wrappers_all_targets.rename(\n",
    "    columns={\n",
    "            'true_prop_scores_in_filter': \"true_filter\",\n",
    "        'true_prop_scores_not_in_filter': \"true_other\",\n",
    "    'noisy_prop_scores_in_filter': \"noisy_filter\", 'noisy_prop_scores_not_in_filter': \"noisy_other\",\n",
    "    },\n",
    "    inplace=True,\n",
    "    errors=\"ignore\"\n",
    ")\n",
    "column_names_logistics: List[str] = [\n",
    "    'target_relation',\n",
    "    'filter_relation',\n",
    "    'true_filter', 'true_other',\n",
    "    'noisy_filter', 'noisy_other',\n",
    "    'random_trial_index',\n",
    "    \"Rule\"\n",
    "]"
   ],
   "metadata": {
    "collapsed": false,
    "pycharm": {
     "name": "#%%\n"
    }
   }
  },
  {
   "cell_type": "code",
   "execution_count": 112,
   "outputs": [
    {
     "data": {
      "text/plain": "  target_relation filter_relation  true_filter  true_other  noisy_filter  \\\n0  participatedin      hascapital          0.5         0.3           0.5   \n1  participatedin      hascapital          0.5         0.3           0.5   \n2  participatedin      hascapital          0.5         0.3           0.5   \n3  participatedin      hascapital          0.5         0.3           0.5   \n4  participatedin      hascapital          0.5         0.3           0.5   \n\n   noisy_other  random_trial_index  \\\n0          0.1                   4   \n1          0.2                   4   \n2          0.3                   4   \n3          0.4                   4   \n4          0.5                   4   \n\n                                                Rule  \\\n0  participatedin(A,B) :- hasneighbor(G,A),partic...   \n1  participatedin(A,B) :- hasneighbor(G,A),partic...   \n2  participatedin(A,B) :- hasneighbor(G,A),partic...   \n3  participatedin(A,B) :- hasneighbor(G,A),partic...   \n4  participatedin(A,B) :- hasneighbor(G,A),partic...   \n\n   Nb supported predictions  Body size   $conf$       CWA  \\\n0                       122       1770  0.20452  0.068927   \n1                       122       1770  0.20452  0.068927   \n2                       122       1770  0.20452  0.068927   \n3                       122       1770  0.20452  0.068927   \n4                       122       1770  0.20452  0.068927   \n\n   $\\frac{\\left| \\mathbf{R}\\right|}{\\left| \\mathbf{R_s}\\right|} conf$ $p$  \\\n0                                           0.237689                        \n1                                           0.237689                        \n2                                           0.237689                        \n3                                           0.237689                        \n4                                           0.237689                        \n\n    PCA $p$  \\\n0  0.172805   \n1  0.172805   \n2  0.172805   \n3  0.172805   \n4  0.172805   \n\n   $\\frac{\\left| \\mathbf{R}\\right|}{\\left| \\mathbf{R_s}\\right|} conf$ $p^{-1}$  \\\n0                                            0.20452                             \n1                                            0.20452                             \n2                                            0.20452                             \n3                                            0.20452                             \n4                                            0.20452                             \n\n   PCA ${p^{-1}}$       IPW  IPW-PCA $p$  IPW-PCA ${p^{-1}}$       ICW  \n0        0.068927  0.160452     0.145791            0.145791  0.151175  \n1        0.068927  0.146328     0.160570            0.160570  0.147609  \n2        0.068927  0.141620     0.166963            0.166963  0.144207  \n3        0.068927  0.139266     0.170529            0.170529  0.140958  \n4        0.068927  0.137853     0.172805            0.172805  0.137853  ",
      "text/html": "<div>\n<style scoped>\n    .dataframe tbody tr th:only-of-type {\n        vertical-align: middle;\n    }\n\n    .dataframe tbody tr th {\n        vertical-align: top;\n    }\n\n    .dataframe thead th {\n        text-align: right;\n    }\n</style>\n<table border=\"1\" class=\"dataframe\">\n  <thead>\n    <tr style=\"text-align: right;\">\n      <th></th>\n      <th>target_relation</th>\n      <th>filter_relation</th>\n      <th>true_filter</th>\n      <th>true_other</th>\n      <th>noisy_filter</th>\n      <th>noisy_other</th>\n      <th>random_trial_index</th>\n      <th>Rule</th>\n      <th>Nb supported predictions</th>\n      <th>Body size</th>\n      <th>$conf$</th>\n      <th>CWA</th>\n      <th>$\\frac{\\left| \\mathbf{R}\\right|}{\\left| \\mathbf{R_s}\\right|} conf$ $p$</th>\n      <th>PCA $p$</th>\n      <th>$\\frac{\\left| \\mathbf{R}\\right|}{\\left| \\mathbf{R_s}\\right|} conf$ $p^{-1}$</th>\n      <th>PCA ${p^{-1}}$</th>\n      <th>IPW</th>\n      <th>IPW-PCA $p$</th>\n      <th>IPW-PCA ${p^{-1}}$</th>\n      <th>ICW</th>\n    </tr>\n  </thead>\n  <tbody>\n    <tr>\n      <th>0</th>\n      <td>participatedin</td>\n      <td>hascapital</td>\n      <td>0.5</td>\n      <td>0.3</td>\n      <td>0.5</td>\n      <td>0.1</td>\n      <td>4</td>\n      <td>participatedin(A,B) :- hasneighbor(G,A),partic...</td>\n      <td>122</td>\n      <td>1770</td>\n      <td>0.20452</td>\n      <td>0.068927</td>\n      <td>0.237689</td>\n      <td>0.172805</td>\n      <td>0.20452</td>\n      <td>0.068927</td>\n      <td>0.160452</td>\n      <td>0.145791</td>\n      <td>0.145791</td>\n      <td>0.151175</td>\n    </tr>\n    <tr>\n      <th>1</th>\n      <td>participatedin</td>\n      <td>hascapital</td>\n      <td>0.5</td>\n      <td>0.3</td>\n      <td>0.5</td>\n      <td>0.2</td>\n      <td>4</td>\n      <td>participatedin(A,B) :- hasneighbor(G,A),partic...</td>\n      <td>122</td>\n      <td>1770</td>\n      <td>0.20452</td>\n      <td>0.068927</td>\n      <td>0.237689</td>\n      <td>0.172805</td>\n      <td>0.20452</td>\n      <td>0.068927</td>\n      <td>0.146328</td>\n      <td>0.160570</td>\n      <td>0.160570</td>\n      <td>0.147609</td>\n    </tr>\n    <tr>\n      <th>2</th>\n      <td>participatedin</td>\n      <td>hascapital</td>\n      <td>0.5</td>\n      <td>0.3</td>\n      <td>0.5</td>\n      <td>0.3</td>\n      <td>4</td>\n      <td>participatedin(A,B) :- hasneighbor(G,A),partic...</td>\n      <td>122</td>\n      <td>1770</td>\n      <td>0.20452</td>\n      <td>0.068927</td>\n      <td>0.237689</td>\n      <td>0.172805</td>\n      <td>0.20452</td>\n      <td>0.068927</td>\n      <td>0.141620</td>\n      <td>0.166963</td>\n      <td>0.166963</td>\n      <td>0.144207</td>\n    </tr>\n    <tr>\n      <th>3</th>\n      <td>participatedin</td>\n      <td>hascapital</td>\n      <td>0.5</td>\n      <td>0.3</td>\n      <td>0.5</td>\n      <td>0.4</td>\n      <td>4</td>\n      <td>participatedin(A,B) :- hasneighbor(G,A),partic...</td>\n      <td>122</td>\n      <td>1770</td>\n      <td>0.20452</td>\n      <td>0.068927</td>\n      <td>0.237689</td>\n      <td>0.172805</td>\n      <td>0.20452</td>\n      <td>0.068927</td>\n      <td>0.139266</td>\n      <td>0.170529</td>\n      <td>0.170529</td>\n      <td>0.140958</td>\n    </tr>\n    <tr>\n      <th>4</th>\n      <td>participatedin</td>\n      <td>hascapital</td>\n      <td>0.5</td>\n      <td>0.3</td>\n      <td>0.5</td>\n      <td>0.5</td>\n      <td>4</td>\n      <td>participatedin(A,B) :- hasneighbor(G,A),partic...</td>\n      <td>122</td>\n      <td>1770</td>\n      <td>0.20452</td>\n      <td>0.068927</td>\n      <td>0.237689</td>\n      <td>0.172805</td>\n      <td>0.20452</td>\n      <td>0.068927</td>\n      <td>0.137853</td>\n      <td>0.172805</td>\n      <td>0.172805</td>\n      <td>0.137853</td>\n    </tr>\n  </tbody>\n</table>\n</div>"
     },
     "execution_count": 112,
     "metadata": {},
     "output_type": "execute_result"
    }
   ],
   "source": [
    "df_rule_wrappers_all_targets.head()"
   ],
   "metadata": {
    "collapsed": false,
    "pycharm": {
     "name": "#%%\n"
    }
   }
  },
  {
   "cell_type": "markdown",
   "source": [
    "# Filter on groups size difference & conf difference\n",
    "\n",
    "Criteria (AND):\n",
    "* $0.3 < \\frac{\\left|S_{q}\\right|}{\\left| R \\right|} < 0.7$\n",
    "* $\\left| conf^{*}(R\\mid S_{q}) - conf^{*}(R\\mid S_{\\neg q})\\right| > 0.1$"
   ],
   "metadata": {
    "collapsed": false
   }
  },
  {
   "cell_type": "code",
   "execution_count": 113,
   "outputs": [
    {
     "data": {
      "text/plain": "0     True\n1    False\n2    False\n3    False\n1    False\n     ...  \n2     True\n1     True\n2     True\n1     True\n2     True\nLength: 3367, dtype: bool"
     },
     "execution_count": 113,
     "metadata": {},
     "output_type": "execute_result"
    }
   ],
   "source": [
    "relative_n_predictions_in_filter = (\n",
    "        df_group_info_all_targets[\"n_predictions_in_filter\"]\n",
    "        / df_group_info_all_targets[\"n_predictions\"]\n",
    ")\n",
    "\n",
    "mask_n_predictions = (\n",
    "        (relative_n_predictions_in_filter >= 0.3)\n",
    "        & (relative_n_predictions_in_filter <= 0.7)\n",
    ")\n",
    "\n",
    "\n",
    "mask_n_predictions"
   ],
   "metadata": {
    "collapsed": false,
    "pycharm": {
     "name": "#%%\n"
    }
   }
  },
  {
   "cell_type": "code",
   "execution_count": 114,
   "outputs": [
    {
     "data": {
      "text/plain": "0     True\n1    False\n2    False\n3    False\n1     True\n     ...  \n2    False\n1    False\n2    False\n1    False\n2    False\nLength: 3367, dtype: bool"
     },
     "execution_count": 114,
     "metadata": {},
     "output_type": "execute_result"
    }
   ],
   "source": [
    "mask_confidence = (\n",
    "        abs(\n",
    "            df_group_info_all_targets[\"true_pos_pair_s_to_o_conf_on_predictions_in_filter\"]\n",
    "            - df_group_info_all_targets[\"true_pos_pair_s_to_o_conf_on_predictions_not_in_filter\"]\n",
    "            )\n",
    "        ) >= 0.1\n",
    "mask_confidence"
   ],
   "metadata": {
    "collapsed": false,
    "pycharm": {
     "name": "#%%\n"
    }
   }
  },
  {
   "cell_type": "code",
   "execution_count": 115,
   "outputs": [
    {
     "data": {
      "text/plain": "3367"
     },
     "execution_count": 115,
     "metadata": {},
     "output_type": "execute_result"
    }
   ],
   "source": [
    "len(df_group_info_all_targets)"
   ],
   "metadata": {
    "collapsed": false,
    "pycharm": {
     "name": "#%%\n"
    }
   }
  },
  {
   "cell_type": "code",
   "execution_count": 116,
   "outputs": [
    {
     "data": {
      "text/plain": "339"
     },
     "execution_count": 116,
     "metadata": {},
     "output_type": "execute_result"
    }
   ],
   "source": [
    "df_group_info_filtered = df_group_info_all_targets[\n",
    "    mask_n_predictions & mask_confidence\n",
    "]\n",
    "len(df_group_info_filtered)"
   ],
   "metadata": {
    "collapsed": false,
    "pycharm": {
     "name": "#%%\n"
    }
   }
  },
  {
   "cell_type": "code",
   "execution_count": 117,
   "outputs": [
    {
     "data": {
      "text/plain": "                                                Rule target_relation  \\\n0             participatedin(A,B) :- happenedin(B,A)  participatedin   \n2  hascurrency(A,B) :- dealswith(G,A),hascurrency...     hascurrency   \n2  hascurrency(A,B) :- dealswith(G,A),hascurrency...     hascurrency   \n0  hascurrency(A,B) :- hascurrency(H,B),hasneighb...     hascurrency   \n1  hascurrency(A,B) :- hascurrency(G,B),hasneighb...     hascurrency   \n\n  filter_relation  true_prop_scores_in_filter  true_prop_scores_not_in_filter  \\\n0      hascapital                         0.5                             0.3   \n2            owns                         0.5                             0.3   \n2            owns                         0.5                             0.3   \n0            owns                         0.5                             0.3   \n1            owns                         0.5                             0.3   \n\n   true_conf  true_conf_on_predictions_in_filter  \\\n0   0.293349                            0.417961   \n2   0.148148                            0.241379   \n2   0.176471                            0.256410   \n0   0.288889                            0.300000   \n1   0.288889                            0.300000   \n\n   true_conf_on_predictions_not_in_filter  true_pos_pair_conf_s_to_o  \\\n0                                0.074700                   0.469136   \n2                                0.040000                   0.444444   \n2                                0.068966                   0.500000   \n0                                0.280000                   0.722222   \n1                                0.280000                   0.722222   \n\n   true_pos_pair_s_to_o_conf_on_predictions_in_filter  ...  \\\n0                                           0.489091   ...   \n2                                           0.411765   ...   \n2                                           0.454545   ...   \n0                                           0.666667   ...   \n1                                           0.666667   ...   \n\n   true_pos_pair_conf_o_to_s  \\\n0                   0.310107   \n2                   0.148148   \n2                   0.176471   \n0                   0.288889   \n1                   0.288889   \n\n   true_pos_pair_o_to_s_conf_on_predictions_in_filter  \\\n0                                           0.433312    \n2                                           0.241379    \n2                                           0.256410    \n0                                           0.300000    \n1                                           0.300000    \n\n   true_pos_pair_o_to_s_conf_on_predictions_not_in_filter  \\\n0                                           0.081791        \n2                                           0.040000        \n2                                           0.068966        \n0                                           0.280000        \n1                                           0.280000        \n\n   n_predictions_in_filter  n_predictions_not_in_filter  n_predictions  \\\n0                     3218                         1834           5052   \n2                       29                           25             54   \n2                       39                           29             68   \n0                       20                           25             45   \n1                       20                           25             45   \n\n   rel_conf_in_filter  rel_conf_not_in_filter  rel_n_predictions_in_filter  \\\n0            0.424792               -0.745354                    63.697546   \n2            0.629310               -0.730000                    53.703704   \n2            0.452991               -0.609195                    57.352941   \n0            0.038462               -0.030769                    44.444444   \n1            0.038462               -0.030769                    44.444444   \n\n   rel_n_predictions_not_in_filter  \n0                        36.302454  \n2                        46.296296  \n2                        42.647059  \n0                        55.555556  \n1                        55.555556  \n\n[5 rows x 21 columns]",
      "text/html": "<div>\n<style scoped>\n    .dataframe tbody tr th:only-of-type {\n        vertical-align: middle;\n    }\n\n    .dataframe tbody tr th {\n        vertical-align: top;\n    }\n\n    .dataframe thead th {\n        text-align: right;\n    }\n</style>\n<table border=\"1\" class=\"dataframe\">\n  <thead>\n    <tr style=\"text-align: right;\">\n      <th></th>\n      <th>Rule</th>\n      <th>target_relation</th>\n      <th>filter_relation</th>\n      <th>true_prop_scores_in_filter</th>\n      <th>true_prop_scores_not_in_filter</th>\n      <th>true_conf</th>\n      <th>true_conf_on_predictions_in_filter</th>\n      <th>true_conf_on_predictions_not_in_filter</th>\n      <th>true_pos_pair_conf_s_to_o</th>\n      <th>true_pos_pair_s_to_o_conf_on_predictions_in_filter</th>\n      <th>...</th>\n      <th>true_pos_pair_conf_o_to_s</th>\n      <th>true_pos_pair_o_to_s_conf_on_predictions_in_filter</th>\n      <th>true_pos_pair_o_to_s_conf_on_predictions_not_in_filter</th>\n      <th>n_predictions_in_filter</th>\n      <th>n_predictions_not_in_filter</th>\n      <th>n_predictions</th>\n      <th>rel_conf_in_filter</th>\n      <th>rel_conf_not_in_filter</th>\n      <th>rel_n_predictions_in_filter</th>\n      <th>rel_n_predictions_not_in_filter</th>\n    </tr>\n  </thead>\n  <tbody>\n    <tr>\n      <th>0</th>\n      <td>participatedin(A,B) :- happenedin(B,A)</td>\n      <td>participatedin</td>\n      <td>hascapital</td>\n      <td>0.5</td>\n      <td>0.3</td>\n      <td>0.293349</td>\n      <td>0.417961</td>\n      <td>0.074700</td>\n      <td>0.469136</td>\n      <td>0.489091</td>\n      <td>...</td>\n      <td>0.310107</td>\n      <td>0.433312</td>\n      <td>0.081791</td>\n      <td>3218</td>\n      <td>1834</td>\n      <td>5052</td>\n      <td>0.424792</td>\n      <td>-0.745354</td>\n      <td>63.697546</td>\n      <td>36.302454</td>\n    </tr>\n    <tr>\n      <th>2</th>\n      <td>hascurrency(A,B) :- dealswith(G,A),hascurrency...</td>\n      <td>hascurrency</td>\n      <td>owns</td>\n      <td>0.5</td>\n      <td>0.3</td>\n      <td>0.148148</td>\n      <td>0.241379</td>\n      <td>0.040000</td>\n      <td>0.444444</td>\n      <td>0.411765</td>\n      <td>...</td>\n      <td>0.148148</td>\n      <td>0.241379</td>\n      <td>0.040000</td>\n      <td>29</td>\n      <td>25</td>\n      <td>54</td>\n      <td>0.629310</td>\n      <td>-0.730000</td>\n      <td>53.703704</td>\n      <td>46.296296</td>\n    </tr>\n    <tr>\n      <th>2</th>\n      <td>hascurrency(A,B) :- dealswith(G,A),hascurrency...</td>\n      <td>hascurrency</td>\n      <td>owns</td>\n      <td>0.5</td>\n      <td>0.3</td>\n      <td>0.176471</td>\n      <td>0.256410</td>\n      <td>0.068966</td>\n      <td>0.500000</td>\n      <td>0.454545</td>\n      <td>...</td>\n      <td>0.176471</td>\n      <td>0.256410</td>\n      <td>0.068966</td>\n      <td>39</td>\n      <td>29</td>\n      <td>68</td>\n      <td>0.452991</td>\n      <td>-0.609195</td>\n      <td>57.352941</td>\n      <td>42.647059</td>\n    </tr>\n    <tr>\n      <th>0</th>\n      <td>hascurrency(A,B) :- hascurrency(H,B),hasneighb...</td>\n      <td>hascurrency</td>\n      <td>owns</td>\n      <td>0.5</td>\n      <td>0.3</td>\n      <td>0.288889</td>\n      <td>0.300000</td>\n      <td>0.280000</td>\n      <td>0.722222</td>\n      <td>0.666667</td>\n      <td>...</td>\n      <td>0.288889</td>\n      <td>0.300000</td>\n      <td>0.280000</td>\n      <td>20</td>\n      <td>25</td>\n      <td>45</td>\n      <td>0.038462</td>\n      <td>-0.030769</td>\n      <td>44.444444</td>\n      <td>55.555556</td>\n    </tr>\n    <tr>\n      <th>1</th>\n      <td>hascurrency(A,B) :- hascurrency(G,B),hasneighb...</td>\n      <td>hascurrency</td>\n      <td>owns</td>\n      <td>0.5</td>\n      <td>0.3</td>\n      <td>0.288889</td>\n      <td>0.300000</td>\n      <td>0.280000</td>\n      <td>0.722222</td>\n      <td>0.666667</td>\n      <td>...</td>\n      <td>0.288889</td>\n      <td>0.300000</td>\n      <td>0.280000</td>\n      <td>20</td>\n      <td>25</td>\n      <td>45</td>\n      <td>0.038462</td>\n      <td>-0.030769</td>\n      <td>44.444444</td>\n      <td>55.555556</td>\n    </tr>\n  </tbody>\n</table>\n<p>5 rows × 21 columns</p>\n</div>"
     },
     "execution_count": 117,
     "metadata": {},
     "output_type": "execute_result"
    }
   ],
   "source": [
    "df_group_info_filtered.head(\n",
    ")"
   ],
   "metadata": {
    "collapsed": false,
    "pycharm": {
     "name": "#%%\n"
    }
   }
  },
  {
   "cell_type": "code",
   "execution_count": 118,
   "outputs": [
    {
     "data": {
      "text/plain": "Index(['Rule', 'target_relation', 'filter_relation',\n       'true_prop_scores_in_filter', 'true_prop_scores_not_in_filter',\n       'true_conf', 'true_conf_on_predictions_in_filter',\n       'true_conf_on_predictions_not_in_filter', 'true_pos_pair_conf_s_to_o',\n       'true_pos_pair_s_to_o_conf_on_predictions_in_filter',\n       'true_pos_pair_s_to_o_conf_on_predictions_not_in_filter',\n       'true_pos_pair_conf_o_to_s',\n       'true_pos_pair_o_to_s_conf_on_predictions_in_filter',\n       'true_pos_pair_o_to_s_conf_on_predictions_not_in_filter',\n       'n_predictions_in_filter', 'n_predictions_not_in_filter',\n       'n_predictions', 'rel_conf_in_filter', 'rel_conf_not_in_filter',\n       'rel_n_predictions_in_filter', 'rel_n_predictions_not_in_filter'],\n      dtype='object')"
     },
     "execution_count": 118,
     "metadata": {},
     "output_type": "execute_result"
    }
   ],
   "source": [
    "df_group_info_filtered.columns"
   ],
   "metadata": {
    "collapsed": false,
    "pycharm": {
     "name": "#%%\n"
    }
   }
  },
  {
   "cell_type": "code",
   "execution_count": 119,
   "outputs": [
    {
     "data": {
      "text/plain": "                                                Rule target_relation  \\\n0             participatedin(A,B) :- happenedin(B,A)  participatedin   \n2  hascurrency(A,B) :- dealswith(G,A),hascurrency...     hascurrency   \n2  hascurrency(A,B) :- dealswith(G,A),hascurrency...     hascurrency   \n0  hascurrency(A,B) :- hascurrency(H,B),hasneighb...     hascurrency   \n1  hascurrency(A,B) :- hascurrency(G,B),hasneighb...     hascurrency   \n\n  filter_relation  true_prop_scores_in_filter  true_prop_scores_not_in_filter  \n0      hascapital                         0.5                             0.3  \n2            owns                         0.5                             0.3  \n2            owns                         0.5                             0.3  \n0            owns                         0.5                             0.3  \n1            owns                         0.5                             0.3  ",
      "text/html": "<div>\n<style scoped>\n    .dataframe tbody tr th:only-of-type {\n        vertical-align: middle;\n    }\n\n    .dataframe tbody tr th {\n        vertical-align: top;\n    }\n\n    .dataframe thead th {\n        text-align: right;\n    }\n</style>\n<table border=\"1\" class=\"dataframe\">\n  <thead>\n    <tr style=\"text-align: right;\">\n      <th></th>\n      <th>Rule</th>\n      <th>target_relation</th>\n      <th>filter_relation</th>\n      <th>true_prop_scores_in_filter</th>\n      <th>true_prop_scores_not_in_filter</th>\n    </tr>\n  </thead>\n  <tbody>\n    <tr>\n      <th>0</th>\n      <td>participatedin(A,B) :- happenedin(B,A)</td>\n      <td>participatedin</td>\n      <td>hascapital</td>\n      <td>0.5</td>\n      <td>0.3</td>\n    </tr>\n    <tr>\n      <th>2</th>\n      <td>hascurrency(A,B) :- dealswith(G,A),hascurrency...</td>\n      <td>hascurrency</td>\n      <td>owns</td>\n      <td>0.5</td>\n      <td>0.3</td>\n    </tr>\n    <tr>\n      <th>2</th>\n      <td>hascurrency(A,B) :- dealswith(G,A),hascurrency...</td>\n      <td>hascurrency</td>\n      <td>owns</td>\n      <td>0.5</td>\n      <td>0.3</td>\n    </tr>\n    <tr>\n      <th>0</th>\n      <td>hascurrency(A,B) :- hascurrency(H,B),hasneighb...</td>\n      <td>hascurrency</td>\n      <td>owns</td>\n      <td>0.5</td>\n      <td>0.3</td>\n    </tr>\n    <tr>\n      <th>1</th>\n      <td>hascurrency(A,B) :- hascurrency(G,B),hasneighb...</td>\n      <td>hascurrency</td>\n      <td>owns</td>\n      <td>0.5</td>\n      <td>0.3</td>\n    </tr>\n  </tbody>\n</table>\n</div>"
     },
     "execution_count": 119,
     "metadata": {},
     "output_type": "execute_result"
    }
   ],
   "source": [
    "columns_to_select_df_group_info = [\n",
    "    'Rule',\n",
    "    'target_relation',\n",
    "    'filter_relation',\n",
    "    'true_prop_scores_in_filter',\n",
    "    'true_prop_scores_not_in_filter',\n",
    "    # 'true_conf',\n",
    "    # 'true_conf_on_predictions_in_filter',\n",
    "    # 'true_conf_on_predictions_not_in_filter',\n",
    "    # 'true_pos_pair_conf_s_to_o',\n",
    "    # 'true_pos_pair_s_to_o_conf_on_predictions_in_filter',\n",
    "    # 'true_pos_pair_s_to_o_conf_on_predictions_not_in_filter',\n",
    "    # 'true_pos_pair_conf_o_to_s',\n",
    "    # 'true_pos_pair_o_to_s_conf_on_predictions_in_filter',\n",
    "    # 'true_pos_pair_o_to_s_conf_on_predictions_not_in_filter',\n",
    "    # 'n_predictions_in_filter',\n",
    "    # 'n_predictions_not_in_filter',\n",
    "    # 'n_predictions',\n",
    "    # 'rel_conf_in_filter',\n",
    "    # 'rel_conf_not_in_filter',\n",
    "    # 'rel_n_predictions_in_filter',\n",
    "    # 'rel_n_predictions_not_in_filter'\n",
    "]\n",
    "df_group_info_filtered_with_column_subset = df_group_info_filtered[\n",
    "    columns_to_select_df_group_info\n",
    "]\n",
    "df_group_info_filtered_with_column_subset.head()"
   ],
   "metadata": {
    "collapsed": false,
    "pycharm": {
     "name": "#%%\n"
    }
   }
  },
  {
   "cell_type": "markdown",
   "source": [
    "## Only keep rules within filter"
   ],
   "metadata": {
    "collapsed": false,
    "pycharm": {
     "name": "#%% md\n"
    }
   }
  },
  {
   "cell_type": "code",
   "execution_count": 120,
   "outputs": [],
   "source": [
    "df_rule_wrappers_all_targets = pd.merge(\n",
    "    left=df_rule_wrappers_all_targets,\n",
    "    right=df_group_info_filtered_with_column_subset,\n",
    "    left_on=['Rule',\n",
    "    'target_relation',\n",
    "    'filter_relation',\n",
    "    'true_filter',\n",
    "    'true_other'],\n",
    "    right_on=['Rule',\n",
    "        'target_relation',\n",
    "        'filter_relation',\n",
    "        'true_prop_scores_in_filter',\n",
    "        'true_prop_scores_not_in_filter'],\n",
    "    how=\"inner\",\n",
    "    indicator=False\n",
    ")"
   ],
   "metadata": {
    "collapsed": false,
    "pycharm": {
     "name": "#%%\n"
    }
   }
  },
  {
   "cell_type": "markdown",
   "source": [
    "## 2. Only keep a subset of rules\n",
    "### 2.1. Only keep the non-recursive rules; drop recursive rules"
   ],
   "metadata": {
    "collapsed": false,
    "pycharm": {
     "name": "#%% md\n"
    }
   }
  },
  {
   "cell_type": "code",
   "execution_count": 121,
   "outputs": [],
   "source": [
    "from kbc_pul.data_structures.rule_wrapper import get_pylo_rule_from_string, is_pylo_rule_recursive\n",
    "\n",
    "\n",
    "def is_rule_recursive(rule_string: str) -> bool:\n",
    "        pylo_rule: PyloClause = get_pylo_rule_from_string(rule_string)\n",
    "        is_rule_recursive = is_pylo_rule_recursive(pylo_rule)\n",
    "        return is_rule_recursive\n",
    "\n",
    "\n",
    "mask_recursive_rules = df_rule_wrappers_all_targets.apply(\n",
    "    lambda row: is_rule_recursive(row[\"Rule\"]),\n",
    "    axis=1\n",
    ")"
   ],
   "metadata": {
    "collapsed": false,
    "pycharm": {
     "name": "#%%\n"
    }
   }
  },
  {
   "cell_type": "code",
   "execution_count": 122,
   "outputs": [
    {
     "name": "stdout",
     "output_type": "stream",
     "text": [
      "33900\n",
      "2800\n"
     ]
    }
   ],
   "source": [
    "print(len(df_rule_wrappers_all_targets))\n",
    "df_rule_wrappers_all_targets: pd.DataFrame = df_rule_wrappers_all_targets[~mask_recursive_rules]\n",
    "print(len(df_rule_wrappers_all_targets))\n"
   ],
   "metadata": {
    "collapsed": false,
    "pycharm": {
     "name": "#%%\n"
    }
   }
  },
  {
   "cell_type": "markdown",
   "source": [
    "### 2.3 Drop the non-relevant columns"
   ],
   "metadata": {
    "collapsed": false
   }
  },
  {
   "cell_type": "code",
   "execution_count": 123,
   "outputs": [
    {
     "data": {
      "text/plain": "  target_relation filter_relation  true_filter  true_other  noisy_filter  \\\n0  participatedin      hascapital          0.5         0.3           0.5   \n1  participatedin      hascapital          0.5         0.3           0.5   \n2  participatedin      hascapital          0.5         0.3           0.5   \n3  participatedin      hascapital          0.5         0.3           0.5   \n4  participatedin      hascapital          0.5         0.3           0.5   \n\n   noisy_other  random_trial_index                                    Rule  \\\n0          0.1                   7  participatedin(A,B) :- happenedin(B,A)   \n1          0.2                   7  participatedin(A,B) :- happenedin(B,A)   \n2          0.3                   7  participatedin(A,B) :- happenedin(B,A)   \n3          0.4                   7  participatedin(A,B) :- happenedin(B,A)   \n4          0.5                   7  participatedin(A,B) :- happenedin(B,A)   \n\n   Nb supported predictions  Body size  \\\n0                       682       5052   \n1                       682       5052   \n2                       682       5052   \n3                       682       5052   \n4                       682       5052   \n\n   $\\frac{\\left| \\mathbf{R}\\right|}{\\left| \\mathbf{R_s}\\right|} conf$ $p$  \\\n0                                           0.469136                        \n1                                           0.469136                        \n2                                           0.469136                        \n3                                           0.469136                        \n4                                           0.469136                        \n\n    PCA $p$  \\\n0  0.470345   \n1  0.470345   \n2  0.470345   \n3  0.470345   \n4  0.470345   \n\n   $\\frac{\\left| \\mathbf{R}\\right|}{\\left| \\mathbf{R_s}\\right|} conf$ $p^{-1}$  \\\n0                                           0.310107                             \n1                                           0.310107                             \n2                                           0.310107                             \n3                                           0.310107                             \n4                                           0.310107                             \n\n   PCA ${p^{-1}}$  IPW-PCA $p$  IPW-PCA ${p^{-1}}$  \\\n0        0.170032     0.438105            0.438105   \n1        0.170032     0.456332            0.456332   \n2        0.170032     0.463768            0.463768   \n3        0.170032     0.467808            0.467808   \n4        0.170032     0.470345            0.470345   \n\n   true_prop_scores_in_filter  true_prop_scores_not_in_filter  \n0                         0.5                             0.3  \n1                         0.5                             0.3  \n2                         0.5                             0.3  \n3                         0.5                             0.3  \n4                         0.5                             0.3  ",
      "text/html": "<div>\n<style scoped>\n    .dataframe tbody tr th:only-of-type {\n        vertical-align: middle;\n    }\n\n    .dataframe tbody tr th {\n        vertical-align: top;\n    }\n\n    .dataframe thead th {\n        text-align: right;\n    }\n</style>\n<table border=\"1\" class=\"dataframe\">\n  <thead>\n    <tr style=\"text-align: right;\">\n      <th></th>\n      <th>target_relation</th>\n      <th>filter_relation</th>\n      <th>true_filter</th>\n      <th>true_other</th>\n      <th>noisy_filter</th>\n      <th>noisy_other</th>\n      <th>random_trial_index</th>\n      <th>Rule</th>\n      <th>Nb supported predictions</th>\n      <th>Body size</th>\n      <th>$\\frac{\\left| \\mathbf{R}\\right|}{\\left| \\mathbf{R_s}\\right|} conf$ $p$</th>\n      <th>PCA $p$</th>\n      <th>$\\frac{\\left| \\mathbf{R}\\right|}{\\left| \\mathbf{R_s}\\right|} conf$ $p^{-1}$</th>\n      <th>PCA ${p^{-1}}$</th>\n      <th>IPW-PCA $p$</th>\n      <th>IPW-PCA ${p^{-1}}$</th>\n      <th>true_prop_scores_in_filter</th>\n      <th>true_prop_scores_not_in_filter</th>\n    </tr>\n  </thead>\n  <tbody>\n    <tr>\n      <th>0</th>\n      <td>participatedin</td>\n      <td>hascapital</td>\n      <td>0.5</td>\n      <td>0.3</td>\n      <td>0.5</td>\n      <td>0.1</td>\n      <td>7</td>\n      <td>participatedin(A,B) :- happenedin(B,A)</td>\n      <td>682</td>\n      <td>5052</td>\n      <td>0.469136</td>\n      <td>0.470345</td>\n      <td>0.310107</td>\n      <td>0.170032</td>\n      <td>0.438105</td>\n      <td>0.438105</td>\n      <td>0.5</td>\n      <td>0.3</td>\n    </tr>\n    <tr>\n      <th>1</th>\n      <td>participatedin</td>\n      <td>hascapital</td>\n      <td>0.5</td>\n      <td>0.3</td>\n      <td>0.5</td>\n      <td>0.2</td>\n      <td>7</td>\n      <td>participatedin(A,B) :- happenedin(B,A)</td>\n      <td>682</td>\n      <td>5052</td>\n      <td>0.469136</td>\n      <td>0.470345</td>\n      <td>0.310107</td>\n      <td>0.170032</td>\n      <td>0.456332</td>\n      <td>0.456332</td>\n      <td>0.5</td>\n      <td>0.3</td>\n    </tr>\n    <tr>\n      <th>2</th>\n      <td>participatedin</td>\n      <td>hascapital</td>\n      <td>0.5</td>\n      <td>0.3</td>\n      <td>0.5</td>\n      <td>0.3</td>\n      <td>7</td>\n      <td>participatedin(A,B) :- happenedin(B,A)</td>\n      <td>682</td>\n      <td>5052</td>\n      <td>0.469136</td>\n      <td>0.470345</td>\n      <td>0.310107</td>\n      <td>0.170032</td>\n      <td>0.463768</td>\n      <td>0.463768</td>\n      <td>0.5</td>\n      <td>0.3</td>\n    </tr>\n    <tr>\n      <th>3</th>\n      <td>participatedin</td>\n      <td>hascapital</td>\n      <td>0.5</td>\n      <td>0.3</td>\n      <td>0.5</td>\n      <td>0.4</td>\n      <td>7</td>\n      <td>participatedin(A,B) :- happenedin(B,A)</td>\n      <td>682</td>\n      <td>5052</td>\n      <td>0.469136</td>\n      <td>0.470345</td>\n      <td>0.310107</td>\n      <td>0.170032</td>\n      <td>0.467808</td>\n      <td>0.467808</td>\n      <td>0.5</td>\n      <td>0.3</td>\n    </tr>\n    <tr>\n      <th>4</th>\n      <td>participatedin</td>\n      <td>hascapital</td>\n      <td>0.5</td>\n      <td>0.3</td>\n      <td>0.5</td>\n      <td>0.5</td>\n      <td>7</td>\n      <td>participatedin(A,B) :- happenedin(B,A)</td>\n      <td>682</td>\n      <td>5052</td>\n      <td>0.469136</td>\n      <td>0.470345</td>\n      <td>0.310107</td>\n      <td>0.170032</td>\n      <td>0.470345</td>\n      <td>0.470345</td>\n      <td>0.5</td>\n      <td>0.3</td>\n    </tr>\n  </tbody>\n</table>\n</div>"
     },
     "execution_count": 123,
     "metadata": {},
     "output_type": "execute_result"
    }
   ],
   "source": [
    "df_rule_wrappers_all_targets.drop(\n",
    "        [\n",
    "            ConfidenceEnum.IPW_CONF.value,\n",
    "            ConfidenceEnum.ICW_CONF.value,\n",
    "            ConfidenceEnum.TRUE_CONF.value,\n",
    "            ConfidenceEnum.CWA_CONF.value,\n",
    "\n",
    "         ],\n",
    "        axis=1,\n",
    "        inplace=True,\n",
    "        errors='ignore'\n",
    ")\n",
    "df_rule_wrappers_all_targets.head()\n"
   ],
   "metadata": {
    "collapsed": false,
    "pycharm": {
     "name": "#%%\n"
    }
   }
  },
  {
   "cell_type": "markdown",
   "source": [
    "### 2.3 Only consider the *subject* direction"
   ],
   "metadata": {
    "collapsed": false
   }
  },
  {
   "cell_type": "code",
   "execution_count": 124,
   "outputs": [
    {
     "data": {
      "text/plain": "  target_relation filter_relation  true_filter  true_other  noisy_filter  \\\n0  participatedin      hascapital          0.5         0.3           0.5   \n1  participatedin      hascapital          0.5         0.3           0.5   \n2  participatedin      hascapital          0.5         0.3           0.5   \n3  participatedin      hascapital          0.5         0.3           0.5   \n4  participatedin      hascapital          0.5         0.3           0.5   \n\n   noisy_other  random_trial_index                                    Rule  \\\n0          0.1                   7  participatedin(A,B) :- happenedin(B,A)   \n1          0.2                   7  participatedin(A,B) :- happenedin(B,A)   \n2          0.3                   7  participatedin(A,B) :- happenedin(B,A)   \n3          0.4                   7  participatedin(A,B) :- happenedin(B,A)   \n4          0.5                   7  participatedin(A,B) :- happenedin(B,A)   \n\n   Nb supported predictions  Body size  \\\n0                       682       5052   \n1                       682       5052   \n2                       682       5052   \n3                       682       5052   \n4                       682       5052   \n\n   $\\frac{\\left| \\mathbf{R}\\right|}{\\left| \\mathbf{R_s}\\right|} conf$ $p$  \\\n0                                           0.469136                        \n1                                           0.469136                        \n2                                           0.469136                        \n3                                           0.469136                        \n4                                           0.469136                        \n\n    PCA $p$  IPW-PCA $p$  true_prop_scores_in_filter  \\\n0  0.470345     0.438105                         0.5   \n1  0.470345     0.456332                         0.5   \n2  0.470345     0.463768                         0.5   \n3  0.470345     0.467808                         0.5   \n4  0.470345     0.470345                         0.5   \n\n   true_prop_scores_not_in_filter  \n0                             0.3  \n1                             0.3  \n2                             0.3  \n3                             0.3  \n4                             0.3  ",
      "text/html": "<div>\n<style scoped>\n    .dataframe tbody tr th:only-of-type {\n        vertical-align: middle;\n    }\n\n    .dataframe tbody tr th {\n        vertical-align: top;\n    }\n\n    .dataframe thead th {\n        text-align: right;\n    }\n</style>\n<table border=\"1\" class=\"dataframe\">\n  <thead>\n    <tr style=\"text-align: right;\">\n      <th></th>\n      <th>target_relation</th>\n      <th>filter_relation</th>\n      <th>true_filter</th>\n      <th>true_other</th>\n      <th>noisy_filter</th>\n      <th>noisy_other</th>\n      <th>random_trial_index</th>\n      <th>Rule</th>\n      <th>Nb supported predictions</th>\n      <th>Body size</th>\n      <th>$\\frac{\\left| \\mathbf{R}\\right|}{\\left| \\mathbf{R_s}\\right|} conf$ $p$</th>\n      <th>PCA $p$</th>\n      <th>IPW-PCA $p$</th>\n      <th>true_prop_scores_in_filter</th>\n      <th>true_prop_scores_not_in_filter</th>\n    </tr>\n  </thead>\n  <tbody>\n    <tr>\n      <th>0</th>\n      <td>participatedin</td>\n      <td>hascapital</td>\n      <td>0.5</td>\n      <td>0.3</td>\n      <td>0.5</td>\n      <td>0.1</td>\n      <td>7</td>\n      <td>participatedin(A,B) :- happenedin(B,A)</td>\n      <td>682</td>\n      <td>5052</td>\n      <td>0.469136</td>\n      <td>0.470345</td>\n      <td>0.438105</td>\n      <td>0.5</td>\n      <td>0.3</td>\n    </tr>\n    <tr>\n      <th>1</th>\n      <td>participatedin</td>\n      <td>hascapital</td>\n      <td>0.5</td>\n      <td>0.3</td>\n      <td>0.5</td>\n      <td>0.2</td>\n      <td>7</td>\n      <td>participatedin(A,B) :- happenedin(B,A)</td>\n      <td>682</td>\n      <td>5052</td>\n      <td>0.469136</td>\n      <td>0.470345</td>\n      <td>0.456332</td>\n      <td>0.5</td>\n      <td>0.3</td>\n    </tr>\n    <tr>\n      <th>2</th>\n      <td>participatedin</td>\n      <td>hascapital</td>\n      <td>0.5</td>\n      <td>0.3</td>\n      <td>0.5</td>\n      <td>0.3</td>\n      <td>7</td>\n      <td>participatedin(A,B) :- happenedin(B,A)</td>\n      <td>682</td>\n      <td>5052</td>\n      <td>0.469136</td>\n      <td>0.470345</td>\n      <td>0.463768</td>\n      <td>0.5</td>\n      <td>0.3</td>\n    </tr>\n    <tr>\n      <th>3</th>\n      <td>participatedin</td>\n      <td>hascapital</td>\n      <td>0.5</td>\n      <td>0.3</td>\n      <td>0.5</td>\n      <td>0.4</td>\n      <td>7</td>\n      <td>participatedin(A,B) :- happenedin(B,A)</td>\n      <td>682</td>\n      <td>5052</td>\n      <td>0.469136</td>\n      <td>0.470345</td>\n      <td>0.467808</td>\n      <td>0.5</td>\n      <td>0.3</td>\n    </tr>\n    <tr>\n      <th>4</th>\n      <td>participatedin</td>\n      <td>hascapital</td>\n      <td>0.5</td>\n      <td>0.3</td>\n      <td>0.5</td>\n      <td>0.5</td>\n      <td>7</td>\n      <td>participatedin(A,B) :- happenedin(B,A)</td>\n      <td>682</td>\n      <td>5052</td>\n      <td>0.469136</td>\n      <td>0.470345</td>\n      <td>0.470345</td>\n      <td>0.5</td>\n      <td>0.3</td>\n    </tr>\n  </tbody>\n</table>\n</div>"
     },
     "execution_count": 124,
     "metadata": {},
     "output_type": "execute_result"
    }
   ],
   "source": [
    "df_rule_wrappers_all_targets.drop(\n",
    "        [\n",
    "            ConfidenceEnum.PCA_CONF_O_TO_S.value,\n",
    "            ConfidenceEnum.IPW_PCA_CONF_O_TO_S.value,\n",
    "            ConfidenceEnum.TRUE_CONF_BIAS_YS_ZERO_O_TO_S.value,\n",
    "\n",
    "         ],\n",
    "        axis=1,\n",
    "        inplace=True,\n",
    "        errors='ignore'\n",
    ")\n",
    "df_rule_wrappers_all_targets.head()\n",
    "\n"
   ],
   "metadata": {
    "collapsed": false,
    "pycharm": {
     "name": "#%%\n"
    }
   }
  },
  {
   "cell_type": "markdown",
   "source": [
    "### 2.4 Drop the $c_{q}=0.5$ column"
   ],
   "metadata": {
    "collapsed": false
   }
  },
  {
   "cell_type": "code",
   "execution_count": 125,
   "outputs": [
    {
     "data": {
      "text/plain": "  target_relation filter_relation  true_other  noisy_other  \\\n0  participatedin      hascapital         0.3          0.1   \n1  participatedin      hascapital         0.3          0.2   \n2  participatedin      hascapital         0.3          0.3   \n3  participatedin      hascapital         0.3          0.4   \n4  participatedin      hascapital         0.3          0.5   \n\n   random_trial_index                                    Rule  \\\n0                   7  participatedin(A,B) :- happenedin(B,A)   \n1                   7  participatedin(A,B) :- happenedin(B,A)   \n2                   7  participatedin(A,B) :- happenedin(B,A)   \n3                   7  participatedin(A,B) :- happenedin(B,A)   \n4                   7  participatedin(A,B) :- happenedin(B,A)   \n\n   Nb supported predictions  Body size  \\\n0                       682       5052   \n1                       682       5052   \n2                       682       5052   \n3                       682       5052   \n4                       682       5052   \n\n   $\\frac{\\left| \\mathbf{R}\\right|}{\\left| \\mathbf{R_s}\\right|} conf$ $p$  \\\n0                                           0.469136                        \n1                                           0.469136                        \n2                                           0.469136                        \n3                                           0.469136                        \n4                                           0.469136                        \n\n    PCA $p$  IPW-PCA $p$  true_prop_scores_in_filter  \\\n0  0.470345     0.438105                         0.5   \n1  0.470345     0.456332                         0.5   \n2  0.470345     0.463768                         0.5   \n3  0.470345     0.467808                         0.5   \n4  0.470345     0.470345                         0.5   \n\n   true_prop_scores_not_in_filter  \n0                             0.3  \n1                             0.3  \n2                             0.3  \n3                             0.3  \n4                             0.3  ",
      "text/html": "<div>\n<style scoped>\n    .dataframe tbody tr th:only-of-type {\n        vertical-align: middle;\n    }\n\n    .dataframe tbody tr th {\n        vertical-align: top;\n    }\n\n    .dataframe thead th {\n        text-align: right;\n    }\n</style>\n<table border=\"1\" class=\"dataframe\">\n  <thead>\n    <tr style=\"text-align: right;\">\n      <th></th>\n      <th>target_relation</th>\n      <th>filter_relation</th>\n      <th>true_other</th>\n      <th>noisy_other</th>\n      <th>random_trial_index</th>\n      <th>Rule</th>\n      <th>Nb supported predictions</th>\n      <th>Body size</th>\n      <th>$\\frac{\\left| \\mathbf{R}\\right|}{\\left| \\mathbf{R_s}\\right|} conf$ $p$</th>\n      <th>PCA $p$</th>\n      <th>IPW-PCA $p$</th>\n      <th>true_prop_scores_in_filter</th>\n      <th>true_prop_scores_not_in_filter</th>\n    </tr>\n  </thead>\n  <tbody>\n    <tr>\n      <th>0</th>\n      <td>participatedin</td>\n      <td>hascapital</td>\n      <td>0.3</td>\n      <td>0.1</td>\n      <td>7</td>\n      <td>participatedin(A,B) :- happenedin(B,A)</td>\n      <td>682</td>\n      <td>5052</td>\n      <td>0.469136</td>\n      <td>0.470345</td>\n      <td>0.438105</td>\n      <td>0.5</td>\n      <td>0.3</td>\n    </tr>\n    <tr>\n      <th>1</th>\n      <td>participatedin</td>\n      <td>hascapital</td>\n      <td>0.3</td>\n      <td>0.2</td>\n      <td>7</td>\n      <td>participatedin(A,B) :- happenedin(B,A)</td>\n      <td>682</td>\n      <td>5052</td>\n      <td>0.469136</td>\n      <td>0.470345</td>\n      <td>0.456332</td>\n      <td>0.5</td>\n      <td>0.3</td>\n    </tr>\n    <tr>\n      <th>2</th>\n      <td>participatedin</td>\n      <td>hascapital</td>\n      <td>0.3</td>\n      <td>0.3</td>\n      <td>7</td>\n      <td>participatedin(A,B) :- happenedin(B,A)</td>\n      <td>682</td>\n      <td>5052</td>\n      <td>0.469136</td>\n      <td>0.470345</td>\n      <td>0.463768</td>\n      <td>0.5</td>\n      <td>0.3</td>\n    </tr>\n    <tr>\n      <th>3</th>\n      <td>participatedin</td>\n      <td>hascapital</td>\n      <td>0.3</td>\n      <td>0.4</td>\n      <td>7</td>\n      <td>participatedin(A,B) :- happenedin(B,A)</td>\n      <td>682</td>\n      <td>5052</td>\n      <td>0.469136</td>\n      <td>0.470345</td>\n      <td>0.467808</td>\n      <td>0.5</td>\n      <td>0.3</td>\n    </tr>\n    <tr>\n      <th>4</th>\n      <td>participatedin</td>\n      <td>hascapital</td>\n      <td>0.3</td>\n      <td>0.5</td>\n      <td>7</td>\n      <td>participatedin(A,B) :- happenedin(B,A)</td>\n      <td>682</td>\n      <td>5052</td>\n      <td>0.469136</td>\n      <td>0.470345</td>\n      <td>0.470345</td>\n      <td>0.5</td>\n      <td>0.3</td>\n    </tr>\n  </tbody>\n</table>\n</div>"
     },
     "execution_count": 125,
     "metadata": {},
     "output_type": "execute_result"
    }
   ],
   "source": [
    "df_rule_wrappers_all_targets.drop(\n",
    "        [\"true_filter\", \"noisy_filter\"],\n",
    "        axis=1,\n",
    "        inplace=True,\n",
    "        errors='ignore'\n",
    ")\n",
    "column_names_logistics = [\n",
    "    col for col in column_names_logistics\n",
    "    if col != \"true_filter\"\n",
    "       and col != \"noisy_filter\"\n",
    "]\n",
    "df_rule_wrappers_all_targets.head()"
   ],
   "metadata": {
    "collapsed": false,
    "pycharm": {
     "name": "#%%\n"
    }
   }
  },
  {
   "cell_type": "code",
   "execution_count": 126,
   "outputs": [],
   "source": [
    "group_by_list =  [\n",
    "    \"target_relation\",\n",
    "    \"filter_relation\",\n",
    "    'true_other',\n",
    "    'noisy_other',\n",
    "    \"Rule\",\n",
    "    \"random_trial_index\"\n",
    "]\n",
    "df_count_trials: pd.DataFrame = df_rule_wrappers_all_targets[\n",
    "      [\n",
    "        \"target_relation\",\n",
    "        \"filter_relation\",\n",
    "        'true_other',\n",
    "        'noisy_other',\n",
    "        \"Rule\",\n",
    "        \"random_trial_index\"\n",
    "    ]\n",
    "].groupby(\n",
    "    [\n",
    "    \"target_relation\",\n",
    "    \"filter_relation\",\n",
    "    'true_other',\n",
    "    'noisy_other',\n",
    "    \"Rule\",\n",
    "    ]\n",
    ").count().reset_index()"
   ],
   "metadata": {
    "collapsed": false,
    "pycharm": {
     "name": "#%%\n"
    }
   }
  },
  {
   "cell_type": "code",
   "execution_count": 127,
   "outputs": [
    {
     "data": {
      "text/plain": "Empty DataFrame\nColumns: [target_relation, filter_relation, true_other, noisy_other, Rule, random_trial_index]\nIndex: []",
      "text/html": "<div>\n<style scoped>\n    .dataframe tbody tr th:only-of-type {\n        vertical-align: middle;\n    }\n\n    .dataframe tbody tr th {\n        vertical-align: top;\n    }\n\n    .dataframe thead th {\n        text-align: right;\n    }\n</style>\n<table border=\"1\" class=\"dataframe\">\n  <thead>\n    <tr style=\"text-align: right;\">\n      <th></th>\n      <th>target_relation</th>\n      <th>filter_relation</th>\n      <th>true_other</th>\n      <th>noisy_other</th>\n      <th>Rule</th>\n      <th>random_trial_index</th>\n    </tr>\n  </thead>\n  <tbody>\n  </tbody>\n</table>\n</div>"
     },
     "execution_count": 127,
     "metadata": {},
     "output_type": "execute_result"
    }
   ],
   "source": [
    "df_less_than_ten_trials: pd.DataFrame = df_count_trials[df_count_trials[\"random_trial_index\"].values != 10]\n",
    "df_less_than_ten_trials"
   ],
   "metadata": {
    "collapsed": false,
    "pycharm": {
     "name": "#%%\n"
    }
   }
  },
  {
   "cell_type": "code",
   "execution_count": 128,
   "outputs": [
    {
     "data": {
      "text/plain": "  target_relation filter_relation  true_other  noisy_other  \\\n0  participatedin      hascapital         0.3          0.1   \n1  participatedin      hascapital         0.3          0.2   \n2  participatedin      hascapital         0.3          0.3   \n3  participatedin      hascapital         0.3          0.4   \n4  participatedin      hascapital         0.3          0.5   \n\n   random_trial_index                                    Rule  \\\n0                   7  participatedin(A,B) :- happenedin(B,A)   \n1                   7  participatedin(A,B) :- happenedin(B,A)   \n2                   7  participatedin(A,B) :- happenedin(B,A)   \n3                   7  participatedin(A,B) :- happenedin(B,A)   \n4                   7  participatedin(A,B) :- happenedin(B,A)   \n\n   Nb supported predictions  Body size  \\\n0                       682       5052   \n1                       682       5052   \n2                       682       5052   \n3                       682       5052   \n4                       682       5052   \n\n   $\\frac{\\left| \\mathbf{R}\\right|}{\\left| \\mathbf{R_s}\\right|} conf$ $p$  \\\n0                                           0.469136                        \n1                                           0.469136                        \n2                                           0.469136                        \n3                                           0.469136                        \n4                                           0.469136                        \n\n    PCA $p$  IPW-PCA $p$  true_prop_scores_in_filter  \\\n0  0.470345     0.438105                         0.5   \n1  0.470345     0.456332                         0.5   \n2  0.470345     0.463768                         0.5   \n3  0.470345     0.467808                         0.5   \n4  0.470345     0.470345                         0.5   \n\n   true_prop_scores_not_in_filter  \n0                             0.3  \n1                             0.3  \n2                             0.3  \n3                             0.3  \n4                             0.3  ",
      "text/html": "<div>\n<style scoped>\n    .dataframe tbody tr th:only-of-type {\n        vertical-align: middle;\n    }\n\n    .dataframe tbody tr th {\n        vertical-align: top;\n    }\n\n    .dataframe thead th {\n        text-align: right;\n    }\n</style>\n<table border=\"1\" class=\"dataframe\">\n  <thead>\n    <tr style=\"text-align: right;\">\n      <th></th>\n      <th>target_relation</th>\n      <th>filter_relation</th>\n      <th>true_other</th>\n      <th>noisy_other</th>\n      <th>random_trial_index</th>\n      <th>Rule</th>\n      <th>Nb supported predictions</th>\n      <th>Body size</th>\n      <th>$\\frac{\\left| \\mathbf{R}\\right|}{\\left| \\mathbf{R_s}\\right|} conf$ $p$</th>\n      <th>PCA $p$</th>\n      <th>IPW-PCA $p$</th>\n      <th>true_prop_scores_in_filter</th>\n      <th>true_prop_scores_not_in_filter</th>\n    </tr>\n  </thead>\n  <tbody>\n    <tr>\n      <th>0</th>\n      <td>participatedin</td>\n      <td>hascapital</td>\n      <td>0.3</td>\n      <td>0.1</td>\n      <td>7</td>\n      <td>participatedin(A,B) :- happenedin(B,A)</td>\n      <td>682</td>\n      <td>5052</td>\n      <td>0.469136</td>\n      <td>0.470345</td>\n      <td>0.438105</td>\n      <td>0.5</td>\n      <td>0.3</td>\n    </tr>\n    <tr>\n      <th>1</th>\n      <td>participatedin</td>\n      <td>hascapital</td>\n      <td>0.3</td>\n      <td>0.2</td>\n      <td>7</td>\n      <td>participatedin(A,B) :- happenedin(B,A)</td>\n      <td>682</td>\n      <td>5052</td>\n      <td>0.469136</td>\n      <td>0.470345</td>\n      <td>0.456332</td>\n      <td>0.5</td>\n      <td>0.3</td>\n    </tr>\n    <tr>\n      <th>2</th>\n      <td>participatedin</td>\n      <td>hascapital</td>\n      <td>0.3</td>\n      <td>0.3</td>\n      <td>7</td>\n      <td>participatedin(A,B) :- happenedin(B,A)</td>\n      <td>682</td>\n      <td>5052</td>\n      <td>0.469136</td>\n      <td>0.470345</td>\n      <td>0.463768</td>\n      <td>0.5</td>\n      <td>0.3</td>\n    </tr>\n    <tr>\n      <th>3</th>\n      <td>participatedin</td>\n      <td>hascapital</td>\n      <td>0.3</td>\n      <td>0.4</td>\n      <td>7</td>\n      <td>participatedin(A,B) :- happenedin(B,A)</td>\n      <td>682</td>\n      <td>5052</td>\n      <td>0.469136</td>\n      <td>0.470345</td>\n      <td>0.467808</td>\n      <td>0.5</td>\n      <td>0.3</td>\n    </tr>\n    <tr>\n      <th>4</th>\n      <td>participatedin</td>\n      <td>hascapital</td>\n      <td>0.3</td>\n      <td>0.5</td>\n      <td>7</td>\n      <td>participatedin(A,B) :- happenedin(B,A)</td>\n      <td>682</td>\n      <td>5052</td>\n      <td>0.469136</td>\n      <td>0.470345</td>\n      <td>0.470345</td>\n      <td>0.5</td>\n      <td>0.3</td>\n    </tr>\n  </tbody>\n</table>\n</div>"
     },
     "execution_count": 128,
     "metadata": {},
     "output_type": "execute_result"
    }
   ],
   "source": [
    "df_rule_wrappers_all_targets = df_rule_wrappers_all_targets[\n",
    "    ~(\n",
    "    (df_rule_wrappers_all_targets[\"target_relation\"] == \"isaffiliatedto\")\n",
    "    &\n",
    "    (df_rule_wrappers_all_targets[\"filter_relation\"] == \"wasbornin\")\n",
    "    &\n",
    "    (df_rule_wrappers_all_targets[\"Rule\"]==\"isaffiliatedto(A,B) :- playsfor(A,B)\")\n",
    "    )\n",
    "]\n",
    "df_rule_wrappers_all_targets.head()"
   ],
   "metadata": {
    "collapsed": false,
    "pycharm": {
     "name": "#%%\n"
    }
   }
  },
  {
   "cell_type": "markdown",
   "source": [
    "**Now, we have the full dataframe**\n",
    "\n",
    "****"
   ],
   "metadata": {
    "collapsed": false
   }
  },
  {
   "cell_type": "markdown",
   "source": [
    "## Calculate $[conf(R) - \\widehat{conf}(R)]$"
   ],
   "metadata": {
    "collapsed": false
   }
  },
  {
   "cell_type": "code",
   "execution_count": 129,
   "outputs": [],
   "source": [
    "true_conf: ConfidenceEnum = ConfidenceEnum.TRUE_CONF_BIAS_YS_ZERO_S_TO_O\n",
    "\n",
    "conf_estimators_list: List[ConfidenceEnum] = [\n",
    "    # ConfidenceEnum.CWA_CONF,\n",
    "    # ConfidenceEnum.ICW_CONF,\n",
    "    ConfidenceEnum.PCA_CONF_S_TO_O,\n",
    "    # ConfidenceEnum.PCA_CONF_O_TO_S,\n",
    "   ConfidenceEnum.IPW_PCA_CONF_S_TO_O,\n",
    "\n",
    "\n",
    "     # ConfidenceEnum.IPW_CONF,\n",
    "]\n",
    "all_confs_list: List[ConfidenceEnum] = [ConfidenceEnum.TRUE_CONF_BIAS_YS_ZERO_S_TO_O ] + conf_estimators_list\n",
    "\n",
    "column_names_all_confs: List[str] = [\n",
    "    conf.get_name()\n",
    "    for conf in all_confs_list\n",
    "]"
   ],
   "metadata": {
    "collapsed": false,
    "pycharm": {
     "name": "#%%\n"
    }
   }
  },
  {
   "cell_type": "code",
   "execution_count": 130,
   "outputs": [
    {
     "data": {
      "text/plain": "  target_relation filter_relation  true_other  noisy_other  \\\n0  participatedin      hascapital         0.3          0.1   \n1  participatedin      hascapital         0.3          0.2   \n2  participatedin      hascapital         0.3          0.3   \n3  participatedin      hascapital         0.3          0.4   \n4  participatedin      hascapital         0.3          0.5   \n\n   random_trial_index                                    Rule  \\\n0                   7  participatedin(A,B) :- happenedin(B,A)   \n1                   7  participatedin(A,B) :- happenedin(B,A)   \n2                   7  participatedin(A,B) :- happenedin(B,A)   \n3                   7  participatedin(A,B) :- happenedin(B,A)   \n4                   7  participatedin(A,B) :- happenedin(B,A)   \n\n   $\\frac{\\left| \\mathbf{R}\\right|}{\\left| \\mathbf{R_s}\\right|} conf$ $p$  \\\n0                                           0.469136                        \n1                                           0.469136                        \n2                                           0.469136                        \n3                                           0.469136                        \n4                                           0.469136                        \n\n    PCA $p$  IPW-PCA $p$  \n0  0.470345     0.438105  \n1  0.470345     0.456332  \n2  0.470345     0.463768  \n3  0.470345     0.467808  \n4  0.470345     0.470345  ",
      "text/html": "<div>\n<style scoped>\n    .dataframe tbody tr th:only-of-type {\n        vertical-align: middle;\n    }\n\n    .dataframe tbody tr th {\n        vertical-align: top;\n    }\n\n    .dataframe thead th {\n        text-align: right;\n    }\n</style>\n<table border=\"1\" class=\"dataframe\">\n  <thead>\n    <tr style=\"text-align: right;\">\n      <th></th>\n      <th>target_relation</th>\n      <th>filter_relation</th>\n      <th>true_other</th>\n      <th>noisy_other</th>\n      <th>random_trial_index</th>\n      <th>Rule</th>\n      <th>$\\frac{\\left| \\mathbf{R}\\right|}{\\left| \\mathbf{R_s}\\right|} conf$ $p$</th>\n      <th>PCA $p$</th>\n      <th>IPW-PCA $p$</th>\n    </tr>\n  </thead>\n  <tbody>\n    <tr>\n      <th>0</th>\n      <td>participatedin</td>\n      <td>hascapital</td>\n      <td>0.3</td>\n      <td>0.1</td>\n      <td>7</td>\n      <td>participatedin(A,B) :- happenedin(B,A)</td>\n      <td>0.469136</td>\n      <td>0.470345</td>\n      <td>0.438105</td>\n    </tr>\n    <tr>\n      <th>1</th>\n      <td>participatedin</td>\n      <td>hascapital</td>\n      <td>0.3</td>\n      <td>0.2</td>\n      <td>7</td>\n      <td>participatedin(A,B) :- happenedin(B,A)</td>\n      <td>0.469136</td>\n      <td>0.470345</td>\n      <td>0.456332</td>\n    </tr>\n    <tr>\n      <th>2</th>\n      <td>participatedin</td>\n      <td>hascapital</td>\n      <td>0.3</td>\n      <td>0.3</td>\n      <td>7</td>\n      <td>participatedin(A,B) :- happenedin(B,A)</td>\n      <td>0.469136</td>\n      <td>0.470345</td>\n      <td>0.463768</td>\n    </tr>\n    <tr>\n      <th>3</th>\n      <td>participatedin</td>\n      <td>hascapital</td>\n      <td>0.3</td>\n      <td>0.4</td>\n      <td>7</td>\n      <td>participatedin(A,B) :- happenedin(B,A)</td>\n      <td>0.469136</td>\n      <td>0.470345</td>\n      <td>0.467808</td>\n    </tr>\n    <tr>\n      <th>4</th>\n      <td>participatedin</td>\n      <td>hascapital</td>\n      <td>0.3</td>\n      <td>0.5</td>\n      <td>7</td>\n      <td>participatedin(A,B) :- happenedin(B,A)</td>\n      <td>0.469136</td>\n      <td>0.470345</td>\n      <td>0.470345</td>\n    </tr>\n  </tbody>\n</table>\n</div>"
     },
     "execution_count": 130,
     "metadata": {},
     "output_type": "execute_result"
    }
   ],
   "source": [
    "df_rule_wrappers_all_targets = df_rule_wrappers_all_targets[\n",
    "    column_names_logistics + column_names_all_confs\n",
    "]\n",
    "df_rule_wrappers_all_targets.head()"
   ],
   "metadata": {
    "collapsed": false,
    "pycharm": {
     "name": "#%%\n"
    }
   }
  },
  {
   "cell_type": "code",
   "execution_count": 131,
   "outputs": [
    {
     "data": {
      "text/plain": "   target_relation filter_relation  true_other  noisy_other  \\\n2   participatedin      hascapital         0.3          0.3   \n12  participatedin      hascapital         0.3          0.3   \n22  participatedin      hascapital         0.3          0.3   \n32  participatedin      hascapital         0.3          0.3   \n42  participatedin      hascapital         0.3          0.3   \n\n    random_trial_index                                    Rule  \\\n2                    7  participatedin(A,B) :- happenedin(B,A)   \n12                   6  participatedin(A,B) :- happenedin(B,A)   \n22                   9  participatedin(A,B) :- happenedin(B,A)   \n32                   2  participatedin(A,B) :- happenedin(B,A)   \n42                   0  participatedin(A,B) :- happenedin(B,A)   \n\n    $\\frac{\\left| \\mathbf{R}\\right|}{\\left| \\mathbf{R_s}\\right|} conf$ $p$  \\\n2                                            0.469136                        \n12                                           0.469136                        \n22                                           0.469136                        \n32                                           0.469136                        \n42                                           0.469136                        \n\n     PCA $p$  IPW-PCA $p$  \n2   0.470345     0.463768  \n12  0.452012     0.451883  \n22  0.537769     0.525649  \n32  0.549872     0.538149  \n42  0.452003     0.445922  ",
      "text/html": "<div>\n<style scoped>\n    .dataframe tbody tr th:only-of-type {\n        vertical-align: middle;\n    }\n\n    .dataframe tbody tr th {\n        vertical-align: top;\n    }\n\n    .dataframe thead th {\n        text-align: right;\n    }\n</style>\n<table border=\"1\" class=\"dataframe\">\n  <thead>\n    <tr style=\"text-align: right;\">\n      <th></th>\n      <th>target_relation</th>\n      <th>filter_relation</th>\n      <th>true_other</th>\n      <th>noisy_other</th>\n      <th>random_trial_index</th>\n      <th>Rule</th>\n      <th>$\\frac{\\left| \\mathbf{R}\\right|}{\\left| \\mathbf{R_s}\\right|} conf$ $p$</th>\n      <th>PCA $p$</th>\n      <th>IPW-PCA $p$</th>\n    </tr>\n  </thead>\n  <tbody>\n    <tr>\n      <th>2</th>\n      <td>participatedin</td>\n      <td>hascapital</td>\n      <td>0.3</td>\n      <td>0.3</td>\n      <td>7</td>\n      <td>participatedin(A,B) :- happenedin(B,A)</td>\n      <td>0.469136</td>\n      <td>0.470345</td>\n      <td>0.463768</td>\n    </tr>\n    <tr>\n      <th>12</th>\n      <td>participatedin</td>\n      <td>hascapital</td>\n      <td>0.3</td>\n      <td>0.3</td>\n      <td>6</td>\n      <td>participatedin(A,B) :- happenedin(B,A)</td>\n      <td>0.469136</td>\n      <td>0.452012</td>\n      <td>0.451883</td>\n    </tr>\n    <tr>\n      <th>22</th>\n      <td>participatedin</td>\n      <td>hascapital</td>\n      <td>0.3</td>\n      <td>0.3</td>\n      <td>9</td>\n      <td>participatedin(A,B) :- happenedin(B,A)</td>\n      <td>0.469136</td>\n      <td>0.537769</td>\n      <td>0.525649</td>\n    </tr>\n    <tr>\n      <th>32</th>\n      <td>participatedin</td>\n      <td>hascapital</td>\n      <td>0.3</td>\n      <td>0.3</td>\n      <td>2</td>\n      <td>participatedin(A,B) :- happenedin(B,A)</td>\n      <td>0.469136</td>\n      <td>0.549872</td>\n      <td>0.538149</td>\n    </tr>\n    <tr>\n      <th>42</th>\n      <td>participatedin</td>\n      <td>hascapital</td>\n      <td>0.3</td>\n      <td>0.3</td>\n      <td>0</td>\n      <td>participatedin(A,B) :- happenedin(B,A)</td>\n      <td>0.469136</td>\n      <td>0.452003</td>\n      <td>0.445922</td>\n    </tr>\n  </tbody>\n</table>\n</div>"
     },
     "execution_count": 131,
     "metadata": {},
     "output_type": "execute_result"
    }
   ],
   "source": [
    "df_conf_estimators_true_other = df_rule_wrappers_all_targets[\n",
    "    df_rule_wrappers_all_targets[\"true_other\"] == df_rule_wrappers_all_targets[\"noisy_other\"]\n",
    "]\n",
    "df_conf_estimators_true_other.head()"
   ],
   "metadata": {
    "collapsed": false,
    "pycharm": {
     "name": "#%%\n"
    }
   }
  },
  {
   "cell_type": "code",
   "execution_count": 132,
   "outputs": [
    {
     "name": "stdout",
     "output_type": "stream",
     "text": [
      "ColumnNamesInfo(true_conf=<ConfidenceEnum.TRUE_CONF_BIAS_YS_ZERO_S_TO_O: '$\\\\frac{\\\\left| \\\\mathbf{R}\\\\right|}{\\\\left| \\\\mathbf{R_s}\\\\right|} conf$ $p$'>, column_name_true_conf='$\\\\frac{\\\\left| \\\\mathbf{R}\\\\right|}{\\\\left| \\\\mathbf{R_s}\\\\right|} conf$ $p$', conf_estimators=[<ConfidenceEnum.PCA_CONF_S_TO_O: 'PCA $p$'>, <ConfidenceEnum.IPW_PCA_CONF_S_TO_O: 'IPW-PCA $p$'>], column_names_conf_estimators=['PCA $p$', 'IPW-PCA $p$'], column_names_logistics=['target_relation', 'filter_relation', 'true_other', 'noisy_other', 'random_trial_index', 'Rule'])\n"
     ]
    }
   ],
   "source": [
    "column_names_info =ColumnNamesInfo(\n",
    "        true_conf=true_conf,\n",
    "        column_name_true_conf=true_conf.get_name(),\n",
    "        conf_estimators=conf_estimators_list,\n",
    "        column_names_conf_estimators=[\n",
    "            col.get_name()\n",
    "            for col in conf_estimators_list\n",
    "        ],\n",
    "        column_names_logistics=column_names_logistics\n",
    "    )\n",
    "from pprint import pprint\n",
    "pprint(column_names_info)"
   ],
   "metadata": {
    "collapsed": false,
    "pycharm": {
     "name": "#%%\n"
    }
   }
  },
  {
   "cell_type": "code",
   "execution_count": 133,
   "outputs": [
    {
     "data": {
      "text/plain": "  target_relation filter_relation  true_other  noisy_other  \\\n0  participatedin      hascapital         0.3          0.1   \n1  participatedin      hascapital         0.3          0.2   \n2  participatedin      hascapital         0.3          0.3   \n3  participatedin      hascapital         0.3          0.4   \n4  participatedin      hascapital         0.3          0.5   \n\n   random_trial_index                                    Rule   PCA $p$  \\\n0                   7  participatedin(A,B) :- happenedin(B,A)  0.000001   \n1                   7  participatedin(A,B) :- happenedin(B,A)  0.000001   \n2                   7  participatedin(A,B) :- happenedin(B,A)  0.000001   \n3                   7  participatedin(A,B) :- happenedin(B,A)  0.000001   \n4                   7  participatedin(A,B) :- happenedin(B,A)  0.000001   \n\n   IPW-PCA $p$  \n0     0.000963  \n1     0.000164  \n2     0.000029  \n3     0.000002  \n4     0.000001  ",
      "text/html": "<div>\n<style scoped>\n    .dataframe tbody tr th:only-of-type {\n        vertical-align: middle;\n    }\n\n    .dataframe tbody tr th {\n        vertical-align: top;\n    }\n\n    .dataframe thead th {\n        text-align: right;\n    }\n</style>\n<table border=\"1\" class=\"dataframe\">\n  <thead>\n    <tr style=\"text-align: right;\">\n      <th></th>\n      <th>target_relation</th>\n      <th>filter_relation</th>\n      <th>true_other</th>\n      <th>noisy_other</th>\n      <th>random_trial_index</th>\n      <th>Rule</th>\n      <th>PCA $p$</th>\n      <th>IPW-PCA $p$</th>\n    </tr>\n  </thead>\n  <tbody>\n    <tr>\n      <th>0</th>\n      <td>participatedin</td>\n      <td>hascapital</td>\n      <td>0.3</td>\n      <td>0.1</td>\n      <td>7</td>\n      <td>participatedin(A,B) :- happenedin(B,A)</td>\n      <td>0.000001</td>\n      <td>0.000963</td>\n    </tr>\n    <tr>\n      <th>1</th>\n      <td>participatedin</td>\n      <td>hascapital</td>\n      <td>0.3</td>\n      <td>0.2</td>\n      <td>7</td>\n      <td>participatedin(A,B) :- happenedin(B,A)</td>\n      <td>0.000001</td>\n      <td>0.000164</td>\n    </tr>\n    <tr>\n      <th>2</th>\n      <td>participatedin</td>\n      <td>hascapital</td>\n      <td>0.3</td>\n      <td>0.3</td>\n      <td>7</td>\n      <td>participatedin(A,B) :- happenedin(B,A)</td>\n      <td>0.000001</td>\n      <td>0.000029</td>\n    </tr>\n    <tr>\n      <th>3</th>\n      <td>participatedin</td>\n      <td>hascapital</td>\n      <td>0.3</td>\n      <td>0.4</td>\n      <td>7</td>\n      <td>participatedin(A,B) :- happenedin(B,A)</td>\n      <td>0.000001</td>\n      <td>0.000002</td>\n    </tr>\n    <tr>\n      <th>4</th>\n      <td>participatedin</td>\n      <td>hascapital</td>\n      <td>0.3</td>\n      <td>0.5</td>\n      <td>7</td>\n      <td>participatedin(A,B) :- happenedin(B,A)</td>\n      <td>0.000001</td>\n      <td>0.000001</td>\n    </tr>\n  </tbody>\n</table>\n</div>"
     },
     "execution_count": 133,
     "metadata": {},
     "output_type": "execute_result"
    }
   ],
   "source": [
    "def get_df_rulewise_squared_diffs_between_true_conf_and_conf_estimator(\n",
    "        df_rule_wrappers: pd.DataFrame,\n",
    "        column_names_info: ColumnNamesInfo\n",
    ") -> pd.DataFrame:\n",
    "    df_rulewise_diffs_between_true_conf_and_conf_estimator: pd.DataFrame = df_rule_wrappers[\n",
    "        column_names_info.column_names_logistics\n",
    "    ]\n",
    "\n",
    "    col_name_estimator: str\n",
    "    for col_name_estimator in column_names_info.column_names_conf_estimators:\n",
    "        df_rulewise_diffs_between_true_conf_and_conf_estimator \\\n",
    "            = df_rulewise_diffs_between_true_conf_and_conf_estimator.assign(\n",
    "                **{\n",
    "                    col_name_estimator: (\n",
    "                        (df_rule_wrappers[column_names_info.column_name_true_conf]\n",
    "                            - df_rule_wrappers[col_name_estimator]) ** 2\n",
    "                    )\n",
    "                }\n",
    "            )\n",
    "    return df_rulewise_diffs_between_true_conf_and_conf_estimator\n",
    "\n",
    "df_conf_squared_errors: pd.DataFrame = get_df_rulewise_squared_diffs_between_true_conf_and_conf_estimator(\n",
    "    df_rule_wrappers=df_rule_wrappers_all_targets,\n",
    "    column_names_info = column_names_info\n",
    ")\n",
    "df_conf_squared_errors.head()\n",
    "\n"
   ],
   "metadata": {
    "collapsed": false,
    "pycharm": {
     "name": "#%%\n"
    }
   }
  },
  {
   "cell_type": "code",
   "execution_count": 134,
   "outputs": [
    {
     "data": {
      "text/plain": "  target_relation filter_relation  true_other  noisy_other  \\\n0       dealswith         exports         0.3          0.1   \n1       dealswith         exports         0.3          0.2   \n2       dealswith         exports         0.3          0.3   \n3       dealswith         exports         0.3          0.4   \n4       dealswith         exports         0.3          0.5   \n\n                                                Rule  random_trial_index  \\\n0  dealswith(A,B) :- iscitizenof(G,A),iscitizenof...                 4.5   \n1  dealswith(A,B) :- iscitizenof(G,A),iscitizenof...                 4.5   \n2  dealswith(A,B) :- iscitizenof(G,A),iscitizenof...                 4.5   \n3  dealswith(A,B) :- iscitizenof(G,A),iscitizenof...                 4.5   \n4  dealswith(A,B) :- iscitizenof(G,A),iscitizenof...                 4.5   \n\n    PCA $p$  IPW-PCA $p$  \n0  0.002188     0.000838  \n1  0.002188     0.001062  \n2  0.002188     0.001492  \n3  0.002188     0.001872  \n4  0.002188     0.002188  ",
      "text/html": "<div>\n<style scoped>\n    .dataframe tbody tr th:only-of-type {\n        vertical-align: middle;\n    }\n\n    .dataframe tbody tr th {\n        vertical-align: top;\n    }\n\n    .dataframe thead th {\n        text-align: right;\n    }\n</style>\n<table border=\"1\" class=\"dataframe\">\n  <thead>\n    <tr style=\"text-align: right;\">\n      <th></th>\n      <th>target_relation</th>\n      <th>filter_relation</th>\n      <th>true_other</th>\n      <th>noisy_other</th>\n      <th>Rule</th>\n      <th>random_trial_index</th>\n      <th>PCA $p$</th>\n      <th>IPW-PCA $p$</th>\n    </tr>\n  </thead>\n  <tbody>\n    <tr>\n      <th>0</th>\n      <td>dealswith</td>\n      <td>exports</td>\n      <td>0.3</td>\n      <td>0.1</td>\n      <td>dealswith(A,B) :- iscitizenof(G,A),iscitizenof...</td>\n      <td>4.5</td>\n      <td>0.002188</td>\n      <td>0.000838</td>\n    </tr>\n    <tr>\n      <th>1</th>\n      <td>dealswith</td>\n      <td>exports</td>\n      <td>0.3</td>\n      <td>0.2</td>\n      <td>dealswith(A,B) :- iscitizenof(G,A),iscitizenof...</td>\n      <td>4.5</td>\n      <td>0.002188</td>\n      <td>0.001062</td>\n    </tr>\n    <tr>\n      <th>2</th>\n      <td>dealswith</td>\n      <td>exports</td>\n      <td>0.3</td>\n      <td>0.3</td>\n      <td>dealswith(A,B) :- iscitizenof(G,A),iscitizenof...</td>\n      <td>4.5</td>\n      <td>0.002188</td>\n      <td>0.001492</td>\n    </tr>\n    <tr>\n      <th>3</th>\n      <td>dealswith</td>\n      <td>exports</td>\n      <td>0.3</td>\n      <td>0.4</td>\n      <td>dealswith(A,B) :- iscitizenof(G,A),iscitizenof...</td>\n      <td>4.5</td>\n      <td>0.002188</td>\n      <td>0.001872</td>\n    </tr>\n    <tr>\n      <th>4</th>\n      <td>dealswith</td>\n      <td>exports</td>\n      <td>0.3</td>\n      <td>0.5</td>\n      <td>dealswith(A,B) :- iscitizenof(G,A),iscitizenof...</td>\n      <td>4.5</td>\n      <td>0.002188</td>\n      <td>0.002188</td>\n    </tr>\n  </tbody>\n</table>\n</div>"
     },
     "execution_count": 134,
     "metadata": {},
     "output_type": "execute_result"
    }
   ],
   "source": [
    "df_conf_squared_errors_avg_over_trials: pd.DataFrame = df_conf_squared_errors.groupby(\n",
    "    by=[\"target_relation\", \"filter_relation\", 'true_other', \"noisy_other\", \"Rule\"],\n",
    "    sort=True,\n",
    "    as_index=False\n",
    ").mean()\n",
    "\n",
    "df_conf_squared_errors_avg_over_trials.head()"
   ],
   "metadata": {
    "collapsed": false,
    "pycharm": {
     "name": "#%%\n"
    }
   }
  },
  {
   "cell_type": "code",
   "execution_count": 135,
   "outputs": [
    {
     "data": {
      "text/plain": "  target_relation filter_relation  true_other  noisy_other  \\\n0       dealswith         exports         0.3          0.1   \n1       dealswith         exports         0.3          0.2   \n2       dealswith         exports         0.3          0.3   \n3       dealswith         exports         0.3          0.4   \n4       dealswith         exports         0.3          0.5   \n\n   random_trial_index   PCA $p$  IPW-PCA $p$  \n0                 4.5  0.002188     0.000838  \n1                 4.5  0.002188     0.001062  \n2                 4.5  0.002188     0.001492  \n3                 4.5  0.002188     0.001872  \n4                 4.5  0.002188     0.002188  ",
      "text/html": "<div>\n<style scoped>\n    .dataframe tbody tr th:only-of-type {\n        vertical-align: middle;\n    }\n\n    .dataframe tbody tr th {\n        vertical-align: top;\n    }\n\n    .dataframe thead th {\n        text-align: right;\n    }\n</style>\n<table border=\"1\" class=\"dataframe\">\n  <thead>\n    <tr style=\"text-align: right;\">\n      <th></th>\n      <th>target_relation</th>\n      <th>filter_relation</th>\n      <th>true_other</th>\n      <th>noisy_other</th>\n      <th>random_trial_index</th>\n      <th>PCA $p$</th>\n      <th>IPW-PCA $p$</th>\n    </tr>\n  </thead>\n  <tbody>\n    <tr>\n      <th>0</th>\n      <td>dealswith</td>\n      <td>exports</td>\n      <td>0.3</td>\n      <td>0.1</td>\n      <td>4.5</td>\n      <td>0.002188</td>\n      <td>0.000838</td>\n    </tr>\n    <tr>\n      <th>1</th>\n      <td>dealswith</td>\n      <td>exports</td>\n      <td>0.3</td>\n      <td>0.2</td>\n      <td>4.5</td>\n      <td>0.002188</td>\n      <td>0.001062</td>\n    </tr>\n    <tr>\n      <th>2</th>\n      <td>dealswith</td>\n      <td>exports</td>\n      <td>0.3</td>\n      <td>0.3</td>\n      <td>4.5</td>\n      <td>0.002188</td>\n      <td>0.001492</td>\n    </tr>\n    <tr>\n      <th>3</th>\n      <td>dealswith</td>\n      <td>exports</td>\n      <td>0.3</td>\n      <td>0.4</td>\n      <td>4.5</td>\n      <td>0.002188</td>\n      <td>0.001872</td>\n    </tr>\n    <tr>\n      <th>4</th>\n      <td>dealswith</td>\n      <td>exports</td>\n      <td>0.3</td>\n      <td>0.5</td>\n      <td>4.5</td>\n      <td>0.002188</td>\n      <td>0.002188</td>\n    </tr>\n  </tbody>\n</table>\n</div>"
     },
     "execution_count": 135,
     "metadata": {},
     "output_type": "execute_result"
    }
   ],
   "source": [
    "df_conf_squared_errors_avg_over_trials_and_rules: pd.DataFrame = df_conf_squared_errors_avg_over_trials.groupby(\n",
    "    by=[\"target_relation\", \"filter_relation\", 'true_other', \"noisy_other\",],\n",
    "    sort=True,\n",
    "    as_index=False\n",
    ").mean()\n",
    "df_conf_squared_errors_avg_over_trials_and_rules.head()"
   ],
   "metadata": {
    "collapsed": false,
    "pycharm": {
     "name": "#%%\n"
    }
   }
  },
  {
   "cell_type": "code",
   "execution_count": 136,
   "outputs": [
    {
     "data": {
      "text/plain": "240"
     },
     "execution_count": 136,
     "metadata": {},
     "output_type": "execute_result"
    }
   ],
   "source": [
    "len(df_conf_squared_errors_avg_over_trials_and_rules)"
   ],
   "metadata": {
    "collapsed": false,
    "pycharm": {
     "name": "#%%\n"
    }
   }
  },
  {
   "cell_type": "markdown",
   "source": [
    "### How many $p$, $q$ combinations are there?"
   ],
   "metadata": {
    "collapsed": false,
    "pycharm": {
     "name": "#%% md\n"
    }
   }
  },
  {
   "cell_type": "code",
   "execution_count": 137,
   "outputs": [
    {
     "data": {
      "text/plain": "   target_relation filter_relation\n0        dealswith         exports\n20       dealswith         imports\n40          diedin  isaffiliatedto\n60      happenedin     islocatedin\n80     iscitizenof          diedin",
      "text/html": "<div>\n<style scoped>\n    .dataframe tbody tr th:only-of-type {\n        vertical-align: middle;\n    }\n\n    .dataframe tbody tr th {\n        vertical-align: top;\n    }\n\n    .dataframe thead th {\n        text-align: right;\n    }\n</style>\n<table border=\"1\" class=\"dataframe\">\n  <thead>\n    <tr style=\"text-align: right;\">\n      <th></th>\n      <th>target_relation</th>\n      <th>filter_relation</th>\n    </tr>\n  </thead>\n  <tbody>\n    <tr>\n      <th>0</th>\n      <td>dealswith</td>\n      <td>exports</td>\n    </tr>\n    <tr>\n      <th>20</th>\n      <td>dealswith</td>\n      <td>imports</td>\n    </tr>\n    <tr>\n      <th>40</th>\n      <td>diedin</td>\n      <td>isaffiliatedto</td>\n    </tr>\n    <tr>\n      <th>60</th>\n      <td>happenedin</td>\n      <td>islocatedin</td>\n    </tr>\n    <tr>\n      <th>80</th>\n      <td>iscitizenof</td>\n      <td>diedin</td>\n    </tr>\n  </tbody>\n</table>\n</div>"
     },
     "execution_count": 137,
     "metadata": {},
     "output_type": "execute_result"
    }
   ],
   "source": [
    "\n",
    "df_p_and_q = df_conf_squared_errors_avg_over_trials_and_rules[[\"target_relation\", \"filter_relation\"]].drop_duplicates()\n",
    "df_p_and_q.head()"
   ],
   "metadata": {
    "collapsed": false,
    "pycharm": {
     "name": "#%%\n"
    }
   }
  },
  {
   "cell_type": "code",
   "execution_count": 138,
   "outputs": [
    {
     "data": {
      "text/plain": "12"
     },
     "execution_count": 138,
     "metadata": {},
     "output_type": "execute_result"
    }
   ],
   "source": [
    "len(df_p_and_q)"
   ],
   "metadata": {
    "collapsed": false,
    "pycharm": {
     "name": "#%%\n"
    }
   }
  },
  {
   "cell_type": "code",
   "execution_count": 139,
   "outputs": [
    {
     "data": {
      "text/plain": "  target_relation  true_other  noisy_other  random_trial_index   PCA $p$  \\\n0       dealswith         0.3          0.1                 4.5  0.002242   \n1       dealswith         0.3          0.2                 4.5  0.002242   \n2       dealswith         0.3          0.3                 4.5  0.002242   \n3       dealswith         0.3          0.4                 4.5  0.002242   \n4       dealswith         0.3          0.5                 4.5  0.002242   \n\n   IPW-PCA $p$  \n0     0.001118  \n1     0.001349  \n2     0.001693  \n3     0.001993  \n4     0.002242  ",
      "text/html": "<div>\n<style scoped>\n    .dataframe tbody tr th:only-of-type {\n        vertical-align: middle;\n    }\n\n    .dataframe tbody tr th {\n        vertical-align: top;\n    }\n\n    .dataframe thead th {\n        text-align: right;\n    }\n</style>\n<table border=\"1\" class=\"dataframe\">\n  <thead>\n    <tr style=\"text-align: right;\">\n      <th></th>\n      <th>target_relation</th>\n      <th>true_other</th>\n      <th>noisy_other</th>\n      <th>random_trial_index</th>\n      <th>PCA $p$</th>\n      <th>IPW-PCA $p$</th>\n    </tr>\n  </thead>\n  <tbody>\n    <tr>\n      <th>0</th>\n      <td>dealswith</td>\n      <td>0.3</td>\n      <td>0.1</td>\n      <td>4.5</td>\n      <td>0.002242</td>\n      <td>0.001118</td>\n    </tr>\n    <tr>\n      <th>1</th>\n      <td>dealswith</td>\n      <td>0.3</td>\n      <td>0.2</td>\n      <td>4.5</td>\n      <td>0.002242</td>\n      <td>0.001349</td>\n    </tr>\n    <tr>\n      <th>2</th>\n      <td>dealswith</td>\n      <td>0.3</td>\n      <td>0.3</td>\n      <td>4.5</td>\n      <td>0.002242</td>\n      <td>0.001693</td>\n    </tr>\n    <tr>\n      <th>3</th>\n      <td>dealswith</td>\n      <td>0.3</td>\n      <td>0.4</td>\n      <td>4.5</td>\n      <td>0.002242</td>\n      <td>0.001993</td>\n    </tr>\n    <tr>\n      <th>4</th>\n      <td>dealswith</td>\n      <td>0.3</td>\n      <td>0.5</td>\n      <td>4.5</td>\n      <td>0.002242</td>\n      <td>0.002242</td>\n    </tr>\n  </tbody>\n</table>\n</div>"
     },
     "execution_count": 139,
     "metadata": {},
     "output_type": "execute_result"
    }
   ],
   "source": [
    "df_conf_errors_avg_over_trials_and_rules_and_q: pd.DataFrame = df_conf_squared_errors_avg_over_trials_and_rules.groupby(\n",
    "    by=[\"target_relation\", 'true_other', \"noisy_other\",],\n",
    "    sort=True,\n",
    "    as_index=False\n",
    ").mean()\n",
    "df_conf_errors_avg_over_trials_and_rules_and_q.head()\n"
   ],
   "metadata": {
    "collapsed": false,
    "pycharm": {
     "name": "#%%\n"
    }
   }
  },
  {
   "cell_type": "code",
   "execution_count": 140,
   "outputs": [
    {
     "data": {
      "text/plain": "160"
     },
     "execution_count": 140,
     "metadata": {},
     "output_type": "execute_result"
    }
   ],
   "source": [
    "len(df_conf_errors_avg_over_trials_and_rules_and_q)\n"
   ],
   "metadata": {
    "collapsed": false,
    "pycharm": {
     "name": "#%%\n"
    }
   }
  },
  {
   "cell_type": "markdown",
   "source": [
    "## Subset of noisy_other"
   ],
   "metadata": {
    "collapsed": false
   }
  },
  {
   "cell_type": "code",
   "execution_count": 141,
   "outputs": [],
   "source": [
    "first_true_label_freq_to_include = 0.3\n",
    "second_true_label_freq_to_include = 0.7\n",
    "\n",
    "\n",
    "true_label_frequencies_set: Set[float] = {\n",
    "    first_true_label_freq_to_include, second_true_label_freq_to_include,\n",
    "}\n",
    "true_label_frequency_to_estimate_map: Dict[float, Set[float]] = dict()\n",
    "\n",
    "label_frequency_est_diff: float = 0.1\n",
    "label_frequencies_to_keep: Set[float] = set(true_label_frequencies_set)\n",
    "for true_label_freq in true_label_frequencies_set:\n",
    "    true_label_frequency_to_estimate_map[true_label_freq] = {\n",
    "        round(true_label_freq - label_frequency_est_diff, 1),\n",
    "        round(true_label_freq + label_frequency_est_diff, 1)\n",
    "    }\n",
    "    label_frequencies_to_keep.update(true_label_frequency_to_estimate_map[true_label_freq])"
   ],
   "metadata": {
    "collapsed": false,
    "pycharm": {
     "name": "#%%\n"
    }
   }
  },
  {
   "cell_type": "code",
   "execution_count": 142,
   "outputs": [
    {
     "data": {
      "text/plain": "  target_relation  true_other  noisy_other  random_trial_index   PCA $p$  \\\n1       dealswith         0.3          0.2                 4.5  0.002242   \n2       dealswith         0.3          0.3                 4.5  0.002242   \n3       dealswith         0.3          0.4                 4.5  0.002242   \n5       dealswith         0.3          0.6                 4.5  0.002242   \n6       dealswith         0.3          0.7                 4.5  0.002242   \n\n   IPW-PCA $p$  \n1     0.001349  \n2     0.001693  \n3     0.001993  \n5     0.002449  \n6     0.002623  ",
      "text/html": "<div>\n<style scoped>\n    .dataframe tbody tr th:only-of-type {\n        vertical-align: middle;\n    }\n\n    .dataframe tbody tr th {\n        vertical-align: top;\n    }\n\n    .dataframe thead th {\n        text-align: right;\n    }\n</style>\n<table border=\"1\" class=\"dataframe\">\n  <thead>\n    <tr style=\"text-align: right;\">\n      <th></th>\n      <th>target_relation</th>\n      <th>true_other</th>\n      <th>noisy_other</th>\n      <th>random_trial_index</th>\n      <th>PCA $p$</th>\n      <th>IPW-PCA $p$</th>\n    </tr>\n  </thead>\n  <tbody>\n    <tr>\n      <th>1</th>\n      <td>dealswith</td>\n      <td>0.3</td>\n      <td>0.2</td>\n      <td>4.5</td>\n      <td>0.002242</td>\n      <td>0.001349</td>\n    </tr>\n    <tr>\n      <th>2</th>\n      <td>dealswith</td>\n      <td>0.3</td>\n      <td>0.3</td>\n      <td>4.5</td>\n      <td>0.002242</td>\n      <td>0.001693</td>\n    </tr>\n    <tr>\n      <th>3</th>\n      <td>dealswith</td>\n      <td>0.3</td>\n      <td>0.4</td>\n      <td>4.5</td>\n      <td>0.002242</td>\n      <td>0.001993</td>\n    </tr>\n    <tr>\n      <th>5</th>\n      <td>dealswith</td>\n      <td>0.3</td>\n      <td>0.6</td>\n      <td>4.5</td>\n      <td>0.002242</td>\n      <td>0.002449</td>\n    </tr>\n    <tr>\n      <th>6</th>\n      <td>dealswith</td>\n      <td>0.3</td>\n      <td>0.7</td>\n      <td>4.5</td>\n      <td>0.002242</td>\n      <td>0.002623</td>\n    </tr>\n  </tbody>\n</table>\n</div>"
     },
     "execution_count": 142,
     "metadata": {},
     "output_type": "execute_result"
    }
   ],
   "source": [
    "df_conf_errors_avg_over_trials_and_rules_and_q_c_subset = df_conf_errors_avg_over_trials_and_rules_and_q[\n",
    "    df_conf_errors_avg_over_trials_and_rules_and_q[\"noisy_other\"].isin(label_frequencies_to_keep)\n",
    "]\n",
    "df_conf_errors_avg_over_trials_and_rules_and_q_c_subset.head()"
   ],
   "metadata": {
    "collapsed": false,
    "pycharm": {
     "name": "#%%\n"
    }
   }
  },
  {
   "cell_type": "code",
   "execution_count": 143,
   "outputs": [
    {
     "data": {
      "text/plain": "96"
     },
     "execution_count": 143,
     "metadata": {},
     "output_type": "execute_result"
    }
   ],
   "source": [
    "len(df_conf_errors_avg_over_trials_and_rules_and_q_c_subset)"
   ],
   "metadata": {
    "collapsed": false,
    "pycharm": {
     "name": "#%%\n"
    }
   }
  },
  {
   "cell_type": "markdown",
   "source": [
    "## Count the rules per $p$"
   ],
   "metadata": {
    "collapsed": false,
    "pycharm": {
     "name": "#%% md\n"
    }
   }
  },
  {
   "cell_type": "code",
   "execution_count": 144,
   "outputs": [
    {
     "data": {
      "text/plain": "  target_relation  # rules\n0       dealswith        1\n1          diedin        1\n2      happenedin        1\n3     iscitizenof        2\n4      isleaderof        1",
      "text/html": "<div>\n<style scoped>\n    .dataframe tbody tr th:only-of-type {\n        vertical-align: middle;\n    }\n\n    .dataframe tbody tr th {\n        vertical-align: top;\n    }\n\n    .dataframe thead th {\n        text-align: right;\n    }\n</style>\n<table border=\"1\" class=\"dataframe\">\n  <thead>\n    <tr style=\"text-align: right;\">\n      <th></th>\n      <th>target_relation</th>\n      <th># rules</th>\n    </tr>\n  </thead>\n  <tbody>\n    <tr>\n      <th>0</th>\n      <td>dealswith</td>\n      <td>1</td>\n    </tr>\n    <tr>\n      <th>1</th>\n      <td>diedin</td>\n      <td>1</td>\n    </tr>\n    <tr>\n      <th>2</th>\n      <td>happenedin</td>\n      <td>1</td>\n    </tr>\n    <tr>\n      <th>3</th>\n      <td>iscitizenof</td>\n      <td>2</td>\n    </tr>\n    <tr>\n      <th>4</th>\n      <td>isleaderof</td>\n      <td>1</td>\n    </tr>\n  </tbody>\n</table>\n</div>"
     },
     "execution_count": 144,
     "metadata": {},
     "output_type": "execute_result"
    }
   ],
   "source": [
    "df_n_rules_per_target = df_rule_wrappers_all_targets[[\"target_relation\", \"Rule\"]].groupby(\n",
    "    by=['target_relation'],\n",
    "    # sort=True,\n",
    "    # as_index=False\n",
    ")[\"Rule\"].nunique().to_frame().reset_index().rename(\n",
    "    columns={\"Rule\" : \"# rules\"}\n",
    ")\n",
    "\n",
    "\n",
    "df_n_rules_per_target.head()"
   ],
   "metadata": {
    "collapsed": false,
    "pycharm": {
     "name": "#%%\n"
    }
   }
  },
  {
   "cell_type": "markdown",
   "source": [
    "****\n",
    "# Format pretty table\n",
    "\n",
    "Goal:\n",
    "* put smallest value per row in BOLT\n",
    "* per target: mean_value 0.3 / 0.4"
   ],
   "metadata": {
    "collapsed": false,
    "pycharm": {
     "name": "#%% md\n"
    }
   }
  },
  {
   "cell_type": "code",
   "execution_count": 145,
   "outputs": [
    {
     "data": {
      "text/plain": "   target_relation  random_trial_index   PCA $p$  IPW-PCA $p$\n1        dealswith                 4.5  0.002242     0.001349\n21          diedin                 4.5  0.000386     0.000367\n41      happenedin                 4.5  0.000656     0.000403\n61     iscitizenof                 4.5  0.001314     0.002001\n81      isleaderof                 4.5  0.005809     0.005804",
      "text/html": "<div>\n<style scoped>\n    .dataframe tbody tr th:only-of-type {\n        vertical-align: middle;\n    }\n\n    .dataframe tbody tr th {\n        vertical-align: top;\n    }\n\n    .dataframe thead th {\n        text-align: right;\n    }\n</style>\n<table border=\"1\" class=\"dataframe\">\n  <thead>\n    <tr style=\"text-align: right;\">\n      <th></th>\n      <th>target_relation</th>\n      <th>random_trial_index</th>\n      <th>PCA $p$</th>\n      <th>IPW-PCA $p$</th>\n    </tr>\n  </thead>\n  <tbody>\n    <tr>\n      <th>1</th>\n      <td>dealswith</td>\n      <td>4.5</td>\n      <td>0.002242</td>\n      <td>0.001349</td>\n    </tr>\n    <tr>\n      <th>21</th>\n      <td>diedin</td>\n      <td>4.5</td>\n      <td>0.000386</td>\n      <td>0.000367</td>\n    </tr>\n    <tr>\n      <th>41</th>\n      <td>happenedin</td>\n      <td>4.5</td>\n      <td>0.000656</td>\n      <td>0.000403</td>\n    </tr>\n    <tr>\n      <th>61</th>\n      <td>iscitizenof</td>\n      <td>4.5</td>\n      <td>0.001314</td>\n      <td>0.002001</td>\n    </tr>\n    <tr>\n      <th>81</th>\n      <td>isleaderof</td>\n      <td>4.5</td>\n      <td>0.005809</td>\n      <td>0.005804</td>\n    </tr>\n  </tbody>\n</table>\n</div>"
     },
     "execution_count": 145,
     "metadata": {},
     "output_type": "execute_result"
    }
   ],
   "source": [
    "true_label_freq_to_noisy_to_df_map: Dict[float, Dict[float, pd.DataFrame]] = dict()\n",
    "for true_label_freq in true_label_frequencies_set:\n",
    "    df_true_tmp: pd.DataFrame = df_conf_errors_avg_over_trials_and_rules_and_q_c_subset[\n",
    "        df_conf_errors_avg_over_trials_and_rules_and_q_c_subset[\"true_other\"] == true_label_freq\n",
    "    ]\n",
    "    noisy_label_freq_to_df_map = dict()\n",
    "    true_label_freq_to_noisy_to_df_map[true_label_freq] = noisy_label_freq_to_df_map\n",
    "\n",
    "    df_true_and_noisy_tmp = df_true_tmp[\n",
    "        df_true_tmp[\"noisy_other\"] == true_label_freq\n",
    "    ]\n",
    "    noisy_label_freq_to_df_map[true_label_freq] = df_true_and_noisy_tmp[\n",
    "        [col for col in df_true_and_noisy_tmp.columns if col != \"noisy_other\" and col != \"true_other\"]\n",
    "    ]\n",
    "\n",
    "    for noisy_label_freq in true_label_frequency_to_estimate_map[true_label_freq]:\n",
    "        df_true_and_noisy_tmp = df_true_tmp[\n",
    "            df_true_tmp[\"noisy_other\"] == noisy_label_freq\n",
    "        ]\n",
    "        noisy_label_freq_to_df_map[noisy_label_freq] = df_true_and_noisy_tmp[\n",
    "            [col for col in df_true_and_noisy_tmp.columns if col != \"noisy_other\" and col != \"true_other\"]\n",
    "        ]\n",
    "\n",
    "true_label_freq_to_noisy_to_df_map[0.3][0.2].head()"
   ],
   "metadata": {
    "collapsed": false,
    "pycharm": {
     "name": "#%%\n"
    }
   }
  },
  {
   "cell_type": "code",
   "execution_count": 153,
   "outputs": [
    {
     "data": {
      "text/plain": "  target_relation  random_trial_index   PCA $p$  IPW-PCA $p$  \\\n0       dealswith                 4.5  0.002242     0.001693   \n1          diedin                 4.5  0.000386     0.000157   \n2      happenedin                 4.5  0.000656     0.000165   \n3     iscitizenof                 4.5  0.001314     0.001455   \n4      isleaderof                 4.5  0.005809     0.005548   \n\n   IPW-PCA $p$_lower  IPW-PCA $p$_higher  \n0           0.001349            0.001993  \n1           0.000367            0.000201  \n2           0.000403            0.000326  \n3           0.002001            0.001321  \n4           0.005804            0.005655  ",
      "text/html": "<div>\n<style scoped>\n    .dataframe tbody tr th:only-of-type {\n        vertical-align: middle;\n    }\n\n    .dataframe tbody tr th {\n        vertical-align: top;\n    }\n\n    .dataframe thead th {\n        text-align: right;\n    }\n</style>\n<table border=\"1\" class=\"dataframe\">\n  <thead>\n    <tr style=\"text-align: right;\">\n      <th></th>\n      <th>target_relation</th>\n      <th>random_trial_index</th>\n      <th>PCA $p$</th>\n      <th>IPW-PCA $p$</th>\n      <th>IPW-PCA $p$_lower</th>\n      <th>IPW-PCA $p$_higher</th>\n    </tr>\n  </thead>\n  <tbody>\n    <tr>\n      <th>0</th>\n      <td>dealswith</td>\n      <td>4.5</td>\n      <td>0.002242</td>\n      <td>0.001693</td>\n      <td>0.001349</td>\n      <td>0.001993</td>\n    </tr>\n    <tr>\n      <th>1</th>\n      <td>diedin</td>\n      <td>4.5</td>\n      <td>0.000386</td>\n      <td>0.000157</td>\n      <td>0.000367</td>\n      <td>0.000201</td>\n    </tr>\n    <tr>\n      <th>2</th>\n      <td>happenedin</td>\n      <td>4.5</td>\n      <td>0.000656</td>\n      <td>0.000165</td>\n      <td>0.000403</td>\n      <td>0.000326</td>\n    </tr>\n    <tr>\n      <th>3</th>\n      <td>iscitizenof</td>\n      <td>4.5</td>\n      <td>0.001314</td>\n      <td>0.001455</td>\n      <td>0.002001</td>\n      <td>0.001321</td>\n    </tr>\n    <tr>\n      <th>4</th>\n      <td>isleaderof</td>\n      <td>4.5</td>\n      <td>0.005809</td>\n      <td>0.005548</td>\n      <td>0.005804</td>\n      <td>0.005655</td>\n    </tr>\n  </tbody>\n</table>\n</div>"
     },
     "execution_count": 153,
     "metadata": {},
     "output_type": "execute_result"
    }
   ],
   "source": [
    "from typing import Iterator\n",
    "\n",
    "true_label_freq_to_df_map = dict()\n",
    "\n",
    "label_freq_estimators: Iterator[float]\n",
    "for true_label_freq in true_label_frequencies_set:\n",
    "    noisy_to_df_map: Dict[float, pd.DataFrame]  = true_label_freq_to_noisy_to_df_map[true_label_freq]\n",
    "\n",
    "    df_true_label_freq: pd.DataFrame = noisy_to_df_map[true_label_freq]\n",
    "\n",
    "    lower_est: float = round(true_label_freq - label_frequency_est_diff, 1)\n",
    "    higher_est: float = round(true_label_freq + label_frequency_est_diff, 1)\n",
    "\n",
    "\n",
    "    df_lower: pd.DataFrame = noisy_to_df_map[lower_est][\n",
    "        ['target_relation',ConfidenceEnum.IPW_PCA_CONF_S_TO_O.value]\n",
    "    ].rename(\n",
    "        columns={\n",
    "           ConfidenceEnum.IPW_PCA_CONF_S_TO_O.value: f\"{ConfidenceEnum.IPW_PCA_CONF_S_TO_O.value}_lower\"\n",
    "        }\n",
    "    )\n",
    "\n",
    "    df_true_label_freq = pd.merge(\n",
    "        left=df_true_label_freq,\n",
    "        right=df_lower,\n",
    "        on=\"target_relation\"\n",
    "    )\n",
    "\n",
    "    df_higher = noisy_to_df_map[higher_est][\n",
    "        ['target_relation',ConfidenceEnum.IPW_PCA_CONF_S_TO_O.value]\n",
    "    ].rename(\n",
    "        columns={\n",
    "           ConfidenceEnum.IPW_PCA_CONF_S_TO_O.value: f\"{ConfidenceEnum.IPW_PCA_CONF_S_TO_O.value}_higher\"\n",
    "        }\n",
    "    )\n",
    "    df_true_label_freq = pd.merge(\n",
    "        left=df_true_label_freq,\n",
    "        right=df_higher,\n",
    "        on=\"target_relation\"\n",
    "    )\n",
    "    true_label_freq_to_df_map[true_label_freq] = df_true_label_freq\n",
    "\n",
    "true_label_freq_to_df_map[first_true_label_freq_to_include].head()"
   ],
   "metadata": {
    "collapsed": false,
    "pycharm": {
     "name": "#%%\n"
    }
   }
  },
  {
   "cell_type": "code",
   "execution_count": 154,
   "outputs": [],
   "source": [
    "for key, df in true_label_freq_to_df_map.items():\n",
    "    true_label_freq_to_df_map[key] = df.drop(\n",
    "        columns=[\"random_trial_index\"],\n",
    "        axis=1,\n",
    "        errors='ignore'\n",
    "    )\n"
   ],
   "metadata": {
    "collapsed": false,
    "pycharm": {
     "name": "#%%\n"
    }
   }
  },
  {
   "cell_type": "code",
   "execution_count": 155,
   "outputs": [
    {
     "data": {
      "text/plain": "  target_relation  PCA $p$_0.3  IPW-PCA $p$_0.3  IPW-PCA $p$_lower_0.3  \\\n0       dealswith     0.002242         0.001693               0.001349   \n1          diedin     0.000386         0.000157               0.000367   \n2      happenedin     0.000656         0.000165               0.000403   \n3     iscitizenof     0.001314         0.001455               0.002001   \n4      isleaderof     0.005809         0.005548               0.005804   \n\n   IPW-PCA $p$_higher_0.3  PCA $p$_0.7  IPW-PCA $p$_0.7  \\\n0                0.001993     0.000911         0.001239   \n1                0.000201     0.000140         0.000051   \n2                0.000326     0.000232         0.000073   \n3                0.001321     0.001098         0.000993   \n4                0.005655     0.007409         0.007197   \n\n   IPW-PCA $p$_lower_0.7  IPW-PCA $p$_higher_0.7  \n0               0.001070                0.001404  \n1               0.000070                0.000072  \n2               0.000102                0.000114  \n3               0.001016                0.001002  \n4               0.007271                0.007156  ",
      "text/html": "<div>\n<style scoped>\n    .dataframe tbody tr th:only-of-type {\n        vertical-align: middle;\n    }\n\n    .dataframe tbody tr th {\n        vertical-align: top;\n    }\n\n    .dataframe thead th {\n        text-align: right;\n    }\n</style>\n<table border=\"1\" class=\"dataframe\">\n  <thead>\n    <tr style=\"text-align: right;\">\n      <th></th>\n      <th>target_relation</th>\n      <th>PCA $p$_0.3</th>\n      <th>IPW-PCA $p$_0.3</th>\n      <th>IPW-PCA $p$_lower_0.3</th>\n      <th>IPW-PCA $p$_higher_0.3</th>\n      <th>PCA $p$_0.7</th>\n      <th>IPW-PCA $p$_0.7</th>\n      <th>IPW-PCA $p$_lower_0.7</th>\n      <th>IPW-PCA $p$_higher_0.7</th>\n    </tr>\n  </thead>\n  <tbody>\n    <tr>\n      <th>0</th>\n      <td>dealswith</td>\n      <td>0.002242</td>\n      <td>0.001693</td>\n      <td>0.001349</td>\n      <td>0.001993</td>\n      <td>0.000911</td>\n      <td>0.001239</td>\n      <td>0.001070</td>\n      <td>0.001404</td>\n    </tr>\n    <tr>\n      <th>1</th>\n      <td>diedin</td>\n      <td>0.000386</td>\n      <td>0.000157</td>\n      <td>0.000367</td>\n      <td>0.000201</td>\n      <td>0.000140</td>\n      <td>0.000051</td>\n      <td>0.000070</td>\n      <td>0.000072</td>\n    </tr>\n    <tr>\n      <th>2</th>\n      <td>happenedin</td>\n      <td>0.000656</td>\n      <td>0.000165</td>\n      <td>0.000403</td>\n      <td>0.000326</td>\n      <td>0.000232</td>\n      <td>0.000073</td>\n      <td>0.000102</td>\n      <td>0.000114</td>\n    </tr>\n    <tr>\n      <th>3</th>\n      <td>iscitizenof</td>\n      <td>0.001314</td>\n      <td>0.001455</td>\n      <td>0.002001</td>\n      <td>0.001321</td>\n      <td>0.001098</td>\n      <td>0.000993</td>\n      <td>0.001016</td>\n      <td>0.001002</td>\n    </tr>\n    <tr>\n      <th>4</th>\n      <td>isleaderof</td>\n      <td>0.005809</td>\n      <td>0.005548</td>\n      <td>0.005804</td>\n      <td>0.005655</td>\n      <td>0.007409</td>\n      <td>0.007197</td>\n      <td>0.007271</td>\n      <td>0.007156</td>\n    </tr>\n  </tbody>\n</table>\n</div>"
     },
     "execution_count": 155,
     "metadata": {},
     "output_type": "execute_result"
    }
   ],
   "source": [
    "df_one_row_per_target = pd.merge(\n",
    "    left=true_label_freq_to_df_map[first_true_label_freq_to_include],\n",
    "    right=true_label_freq_to_df_map[second_true_label_freq_to_include],\n",
    "    on=\"target_relation\",\n",
    "    suffixes=(f\"_{first_true_label_freq_to_include}\", f\"_{second_true_label_freq_to_include}\")\n",
    ")\n",
    "df_one_row_per_target.head()"
   ],
   "metadata": {
    "collapsed": false,
    "pycharm": {
     "name": "#%%\n"
    }
   }
  },
  {
   "cell_type": "markdown",
   "source": [
    "## What is the smallest value?"
   ],
   "metadata": {
    "collapsed": false,
    "pycharm": {
     "name": "#%% md\n"
    }
   }
  },
  {
   "cell_type": "code",
   "execution_count": 156,
   "outputs": [
    {
     "data": {
      "text/plain": "5.1402060298427255e-05"
     },
     "execution_count": 156,
     "metadata": {},
     "output_type": "execute_result"
    }
   ],
   "source": [
    "all_values: np.ndarray = df_one_row_per_target[\n",
    "    [ col\n",
    "      for col in df_one_row_per_target.columns\n",
    "      if col != \"target_relation\"\n",
    "      ]\n",
    "].values\n",
    "\n",
    "min_val = np.amin(all_values)\n",
    "min_val"
   ],
   "metadata": {
    "collapsed": false,
    "pycharm": {
     "name": "#%%\n"
    }
   }
  },
  {
   "cell_type": "code",
   "execution_count": 157,
   "outputs": [
    {
     "data": {
      "text/plain": "0.5140206029842725"
     },
     "execution_count": 157,
     "metadata": {},
     "output_type": "execute_result"
    }
   ],
   "source": [
    "min_val * 10000"
   ],
   "metadata": {
    "collapsed": false,
    "pycharm": {
     "name": "#%%\n"
    }
   }
  },
  {
   "cell_type": "code",
   "execution_count": 158,
   "outputs": [
    {
     "data": {
      "text/plain": "0.00740893094054078"
     },
     "execution_count": 158,
     "metadata": {},
     "output_type": "execute_result"
    }
   ],
   "source": [
    "max_val = np.amax(all_values)\n",
    "max_val"
   ],
   "metadata": {
    "collapsed": false,
    "pycharm": {
     "name": "#%%\n"
    }
   }
  },
  {
   "cell_type": "code",
   "execution_count": 159,
   "outputs": [
    {
     "data": {
      "text/plain": "74.0893094054078"
     },
     "execution_count": 159,
     "metadata": {},
     "output_type": "execute_result"
    }
   ],
   "source": [
    "max_val * 10000\n"
   ],
   "metadata": {
    "collapsed": false,
    "pycharm": {
     "name": "#%%\n"
    }
   }
  },
  {
   "cell_type": "code",
   "execution_count": 160,
   "outputs": [
    {
     "data": {
      "text/plain": "target_relation            object\nPCA $p$_0.3               float64\nIPW-PCA $p$_0.3           float64\nIPW-PCA $p$_lower_0.3     float64\nIPW-PCA $p$_higher_0.3    float64\nPCA $p$_0.7               float64\nIPW-PCA $p$_0.7           float64\nIPW-PCA $p$_lower_0.7     float64\nIPW-PCA $p$_higher_0.7    float64\ndtype: object"
     },
     "execution_count": 160,
     "metadata": {},
     "output_type": "execute_result"
    }
   ],
   "source": [
    "df_one_row_per_target.dtypes"
   ],
   "metadata": {
    "collapsed": false,
    "pycharm": {
     "name": "#%%\n"
    }
   }
  },
  {
   "cell_type": "code",
   "execution_count": 161,
   "outputs": [
    {
     "data": {
      "text/plain": "10000"
     },
     "execution_count": 161,
     "metadata": {},
     "output_type": "execute_result"
    }
   ],
   "source": [
    "exponent = 4\n",
    "\n",
    "multiplication_factor = 10 ** exponent\n",
    "multiplication_factor"
   ],
   "metadata": {
    "collapsed": false,
    "pycharm": {
     "name": "#%%\n"
    }
   }
  },
  {
   "cell_type": "code",
   "execution_count": 162,
   "outputs": [
    {
     "data": {
      "text/plain": "  target_relation  PCA $p$_0.3  IPW-PCA $p$_0.3  IPW-PCA $p$_lower_0.3  \\\n0       dealswith    22.424155        16.932950              13.490390   \n1          diedin     3.858403         1.574993               3.666228   \n2      happenedin     6.564183         1.653397               4.027687   \n3     iscitizenof    13.141803        14.546029              20.013570   \n4      isleaderof    58.093772        55.478457              58.041749   \n5  ispoliticianof     8.007529         9.284309              16.892211   \n6         livesin     6.967068         6.761990               8.510603   \n7  participatedin    15.966703        11.560492               8.063693   \n\n   IPW-PCA $p$_higher_0.3  PCA $p$_0.7  IPW-PCA $p$_0.7  \\\n0               19.932403     9.105910        12.387549   \n1                2.010082     1.402144         0.514021   \n2                3.256007     2.318945         0.729214   \n3               13.210278    10.976938         9.929775   \n4               56.553054    74.089309        71.972912   \n5                7.770142     9.238759         8.299389   \n6                6.677261     4.659981         4.004324   \n7               14.116567    10.897760        13.211715   \n\n   IPW-PCA $p$_lower_0.7  IPW-PCA $p$_higher_0.7  \n0              10.702340               14.038730  \n1               0.703385                0.721103  \n2               1.021343                1.138511  \n3              10.157474               10.016581  \n4              72.710754               71.561078  \n5               8.437545                8.504736  \n6               4.111159                4.110956  \n7              12.093887               14.212390  ",
      "text/html": "<div>\n<style scoped>\n    .dataframe tbody tr th:only-of-type {\n        vertical-align: middle;\n    }\n\n    .dataframe tbody tr th {\n        vertical-align: top;\n    }\n\n    .dataframe thead th {\n        text-align: right;\n    }\n</style>\n<table border=\"1\" class=\"dataframe\">\n  <thead>\n    <tr style=\"text-align: right;\">\n      <th></th>\n      <th>target_relation</th>\n      <th>PCA $p$_0.3</th>\n      <th>IPW-PCA $p$_0.3</th>\n      <th>IPW-PCA $p$_lower_0.3</th>\n      <th>IPW-PCA $p$_higher_0.3</th>\n      <th>PCA $p$_0.7</th>\n      <th>IPW-PCA $p$_0.7</th>\n      <th>IPW-PCA $p$_lower_0.7</th>\n      <th>IPW-PCA $p$_higher_0.7</th>\n    </tr>\n  </thead>\n  <tbody>\n    <tr>\n      <th>0</th>\n      <td>dealswith</td>\n      <td>22.424155</td>\n      <td>16.932950</td>\n      <td>13.490390</td>\n      <td>19.932403</td>\n      <td>9.105910</td>\n      <td>12.387549</td>\n      <td>10.702340</td>\n      <td>14.038730</td>\n    </tr>\n    <tr>\n      <th>1</th>\n      <td>diedin</td>\n      <td>3.858403</td>\n      <td>1.574993</td>\n      <td>3.666228</td>\n      <td>2.010082</td>\n      <td>1.402144</td>\n      <td>0.514021</td>\n      <td>0.703385</td>\n      <td>0.721103</td>\n    </tr>\n    <tr>\n      <th>2</th>\n      <td>happenedin</td>\n      <td>6.564183</td>\n      <td>1.653397</td>\n      <td>4.027687</td>\n      <td>3.256007</td>\n      <td>2.318945</td>\n      <td>0.729214</td>\n      <td>1.021343</td>\n      <td>1.138511</td>\n    </tr>\n    <tr>\n      <th>3</th>\n      <td>iscitizenof</td>\n      <td>13.141803</td>\n      <td>14.546029</td>\n      <td>20.013570</td>\n      <td>13.210278</td>\n      <td>10.976938</td>\n      <td>9.929775</td>\n      <td>10.157474</td>\n      <td>10.016581</td>\n    </tr>\n    <tr>\n      <th>4</th>\n      <td>isleaderof</td>\n      <td>58.093772</td>\n      <td>55.478457</td>\n      <td>58.041749</td>\n      <td>56.553054</td>\n      <td>74.089309</td>\n      <td>71.972912</td>\n      <td>72.710754</td>\n      <td>71.561078</td>\n    </tr>\n    <tr>\n      <th>5</th>\n      <td>ispoliticianof</td>\n      <td>8.007529</td>\n      <td>9.284309</td>\n      <td>16.892211</td>\n      <td>7.770142</td>\n      <td>9.238759</td>\n      <td>8.299389</td>\n      <td>8.437545</td>\n      <td>8.504736</td>\n    </tr>\n    <tr>\n      <th>6</th>\n      <td>livesin</td>\n      <td>6.967068</td>\n      <td>6.761990</td>\n      <td>8.510603</td>\n      <td>6.677261</td>\n      <td>4.659981</td>\n      <td>4.004324</td>\n      <td>4.111159</td>\n      <td>4.110956</td>\n    </tr>\n    <tr>\n      <th>7</th>\n      <td>participatedin</td>\n      <td>15.966703</td>\n      <td>11.560492</td>\n      <td>8.063693</td>\n      <td>14.116567</td>\n      <td>10.897760</td>\n      <td>13.211715</td>\n      <td>12.093887</td>\n      <td>14.212390</td>\n    </tr>\n  </tbody>\n</table>\n</div>"
     },
     "execution_count": 162,
     "metadata": {},
     "output_type": "execute_result"
    }
   ],
   "source": [
    "df_one_row_per_target[\n",
    "    df_one_row_per_target.select_dtypes(include=['number']).columns\n",
    "] *= multiplication_factor\n",
    "\n",
    "df_one_row_per_target"
   ],
   "metadata": {
    "collapsed": false,
    "pycharm": {
     "name": "#%%\n"
    }
   }
  },
  {
   "cell_type": "code",
   "execution_count": 163,
   "outputs": [],
   "source": [
    "dir_latex_table: str = os.path.join(\n",
    "    kbc_e_metrics_project_dir,\n",
    "    \"paper_latex_tables\",\n",
    "    'known_prop_scores',\n",
    "    'sar_two_groups'\n",
    ")\n",
    "\n",
    "if not os.path.exists(dir_latex_table):\n",
    "    os.makedirs(dir_latex_table)\n",
    "\n",
    "filename_tsv_rule_stats = os.path.join(\n",
    "    dir_latex_table,\n",
    "    \"conf_error_stats_v4.tsv\"\n",
    ")\n"
   ],
   "metadata": {
    "collapsed": false,
    "pycharm": {
     "name": "#%%\n"
    }
   }
  },
  {
   "cell_type": "markdown",
   "source": [
    "### Now create a pretty table"
   ],
   "metadata": {
    "collapsed": false
   }
  },
  {
   "cell_type": "code",
   "execution_count": 163,
   "outputs": [],
   "source": [],
   "metadata": {
    "collapsed": false,
    "pycharm": {
     "name": "#%%\n"
    }
   }
  },
  {
   "cell_type": "code",
   "execution_count": 164,
   "outputs": [
    {
     "data": {
      "text/plain": "MultiIndex([(             '$p$',                       ''),\n            (            '\\# R',                       ''),\n            ('$c_{\\neg q}=0.3$',                'PCA $p$'),\n            ('$c_{\\neg q}=0.3$',            'IPW-PCA $p$'),\n            ('$c_{\\neg q}=0.3$', 'IPW-PCA $p$($-\\Delta$)'),\n            ('$c_{\\neg q}=0.3$', 'IPW-PCA $p$($+\\Delta$)'),\n            ('$c_{\\neg q}=0.7$',                'PCA $p$'),\n            ('$c_{\\neg q}=0.7$',            'IPW-PCA $p$'),\n            ('$c_{\\neg q}=0.7$', 'IPW-PCA $p$($-\\Delta$)'),\n            ('$c_{\\neg q}=0.7$', 'IPW-PCA $p$($+\\Delta$)')],\n           )"
     },
     "execution_count": 164,
     "metadata": {},
     "output_type": "execute_result"
    }
   ],
   "source": [
    "multi_index_columns = [\n",
    "    (\"$p$\", \"\"),\n",
    "    (\"\\# R\", \"\")\n",
    "]\n",
    "from itertools import product\n",
    "\n",
    "# conf_upper_cols = column_names_info.column_names_conf_estimators + [\n",
    "#     f\"{ConfidenceEnum.IPW_CONF.value} \" + \"($\\Delta c=-\" + f\"{label_frequency_est_diff}\" + \"$)\",\n",
    "#     f\"{ConfidenceEnum.IPW_CONF.value} \" + \"($\\Delta c=\" + f\"{label_frequency_est_diff}\" + \"$)\",\n",
    "# ]\n",
    "conf_upper_cols = column_names_info.column_names_conf_estimators + [\n",
    "    f\"{ConfidenceEnum.IPW_PCA_CONF_S_TO_O.value}\" + \"($-\\Delta$)\",\n",
    "    f\"{ConfidenceEnum.IPW_PCA_CONF_S_TO_O.value}\" + \"($+\\Delta$)\",\n",
    "]\n",
    "\n",
    "conf_upper_cols = [\n",
    "    col_name.replace(\"(S)\", \"\")\n",
    "    for col_name in conf_upper_cols\n",
    "]\n",
    "\n",
    "c_subcols = [\n",
    "    \"$c_{\\\\neg q}=\" +f\"{first_true_label_freq_to_include}\" + \"$\",\n",
    "    \"$c_{\\\\neg q}=\"+f\"{second_true_label_freq_to_include}\"+\"$\"\n",
    "]\n",
    "\n",
    "multi_index_columns = multi_index_columns + list(product(c_subcols, conf_upper_cols))\n",
    "# multi_index_list\n",
    "\n",
    "multi_index_columns = pd.MultiIndex.from_tuples(multi_index_columns)\n",
    "multi_index_columns"
   ],
   "metadata": {
    "collapsed": false,
    "pycharm": {
     "name": "#%%\n"
    }
   }
  },
  {
   "cell_type": "code",
   "execution_count": 165,
   "outputs": [
    {
     "data": {
      "text/plain": "           $p$ \\# R $c_{\\neg q}=0.3$                                      \\\n                             PCA $p$  IPW-PCA $p$ IPW-PCA $p$($-\\Delta$)   \n0    dealswith    1           $22.4$  $\\bm{16.9}$                 $13.5$   \n1       diedin    1            $3.9$   $\\bm{1.6}$                  $3.7$   \n2   happenedin    1            $6.6$   $\\bm{1.7}$                  $4.0$   \n3  iscitizenof    2      $\\bm{13.1}$       $14.5$                 $20.0$   \n4   isleaderof    1           $58.1$  $\\bm{55.5}$                 $58.0$   \n\n                         $c_{\\neg q}=0.7$                                      \\\n  IPW-PCA $p$($+\\Delta$)          PCA $p$  IPW-PCA $p$ IPW-PCA $p$($-\\Delta$)   \n0                 $19.9$       $\\bm{9.1}$       $12.4$                 $10.7$   \n1                  $2.0$            $1.4$   $\\bm{0.5}$                  $0.7$   \n2                  $3.3$            $2.3$   $\\bm{0.7}$                  $1.0$   \n3                 $13.2$           $11.0$   $\\bm{9.9}$                 $10.2$   \n4                 $56.6$           $74.1$  $\\bm{72.0}$                 $72.7$   \n\n                          \n  IPW-PCA $p$($+\\Delta$)  \n0                 $14.0$  \n1                  $0.7$  \n2                  $1.1$  \n3                 $10.0$  \n4                 $71.6$  ",
      "text/html": "<div>\n<style scoped>\n    .dataframe tbody tr th:only-of-type {\n        vertical-align: middle;\n    }\n\n    .dataframe tbody tr th {\n        vertical-align: top;\n    }\n\n    .dataframe thead tr th {\n        text-align: left;\n    }\n</style>\n<table border=\"1\" class=\"dataframe\">\n  <thead>\n    <tr>\n      <th></th>\n      <th>$p$</th>\n      <th>\\# R</th>\n      <th colspan=\"4\" halign=\"left\">$c_{\\neg q}=0.3$</th>\n      <th colspan=\"4\" halign=\"left\">$c_{\\neg q}=0.7$</th>\n    </tr>\n    <tr>\n      <th></th>\n      <th></th>\n      <th></th>\n      <th>PCA $p$</th>\n      <th>IPW-PCA $p$</th>\n      <th>IPW-PCA $p$($-\\Delta$)</th>\n      <th>IPW-PCA $p$($+\\Delta$)</th>\n      <th>PCA $p$</th>\n      <th>IPW-PCA $p$</th>\n      <th>IPW-PCA $p$($-\\Delta$)</th>\n      <th>IPW-PCA $p$($+\\Delta$)</th>\n    </tr>\n  </thead>\n  <tbody>\n    <tr>\n      <th>0</th>\n      <td>dealswith</td>\n      <td>1</td>\n      <td>$22.4$</td>\n      <td>$\\bm{16.9}$</td>\n      <td>$13.5$</td>\n      <td>$19.9$</td>\n      <td>$\\bm{9.1}$</td>\n      <td>$12.4$</td>\n      <td>$10.7$</td>\n      <td>$14.0$</td>\n    </tr>\n    <tr>\n      <th>1</th>\n      <td>diedin</td>\n      <td>1</td>\n      <td>$3.9$</td>\n      <td>$\\bm{1.6}$</td>\n      <td>$3.7$</td>\n      <td>$2.0$</td>\n      <td>$1.4$</td>\n      <td>$\\bm{0.5}$</td>\n      <td>$0.7$</td>\n      <td>$0.7$</td>\n    </tr>\n    <tr>\n      <th>2</th>\n      <td>happenedin</td>\n      <td>1</td>\n      <td>$6.6$</td>\n      <td>$\\bm{1.7}$</td>\n      <td>$4.0$</td>\n      <td>$3.3$</td>\n      <td>$2.3$</td>\n      <td>$\\bm{0.7}$</td>\n      <td>$1.0$</td>\n      <td>$1.1$</td>\n    </tr>\n    <tr>\n      <th>3</th>\n      <td>iscitizenof</td>\n      <td>2</td>\n      <td>$\\bm{13.1}$</td>\n      <td>$14.5$</td>\n      <td>$20.0$</td>\n      <td>$13.2$</td>\n      <td>$11.0$</td>\n      <td>$\\bm{9.9}$</td>\n      <td>$10.2$</td>\n      <td>$10.0$</td>\n    </tr>\n    <tr>\n      <th>4</th>\n      <td>isleaderof</td>\n      <td>1</td>\n      <td>$58.1$</td>\n      <td>$\\bm{55.5}$</td>\n      <td>$58.0$</td>\n      <td>$56.6$</td>\n      <td>$74.1$</td>\n      <td>$\\bm{72.0}$</td>\n      <td>$72.7$</td>\n      <td>$71.6$</td>\n    </tr>\n  </tbody>\n</table>\n</div>"
     },
     "execution_count": 165,
     "metadata": {},
     "output_type": "execute_result"
    }
   ],
   "source": [
    "rule_counter: int = 1\n",
    "rule_str_to_rule_id_map: Dict[str, int] = {}\n",
    "\n",
    "\n",
    "float_precision: int = 1\n",
    "\n",
    "col_name_conf_estimator: str\n",
    "\n",
    "\n",
    "pretty_rows: List[List] = []\n",
    "\n",
    "row_index: int\n",
    "row: pd.Series\n",
    "\n",
    "# columns_to_use = [\n",
    "#     \"$p$\",\n",
    "#     \"\\# rules\"\n",
    "# ] + column_names_info.column_names_conf_estimators + [\n",
    "#     f\"{ConfidenceEnum.IPW_CONF.value} \" + \"($\\Delta c=-\" + f\"{label_frequency_est_diff}\" + \"$)\",\n",
    "#     f\"{ConfidenceEnum.IPW_CONF.value} \" + \"($\\Delta c=\" + f\"{label_frequency_est_diff}\" + \"$)\",\n",
    "# ]\n",
    "\n",
    "LabelFreq = float\n",
    "def get_dict_with_smallest_estimator_per_label_freq(row: pd.Series) -> Dict[LabelFreq, Set[str]]:\n",
    "    # Find estimator with smallest mean value for label frequency###################\n",
    "    label_freq_to_set_of_smallest_est_map: Dict[LabelFreq, Set[str]] = dict()\n",
    "    for label_freq in [first_true_label_freq_to_include, second_true_label_freq_to_include]:\n",
    "        o_set_of_col_names_with_min_value: Optional[Set[str]] = None\n",
    "        o_current_smallest_value: Optional[float] = None\n",
    "        # Find smallest squared error\n",
    "        for col_name_conf_estimator in column_names_info.column_names_conf_estimators:\n",
    "            current_val: float = row[f\"{col_name_conf_estimator}_{label_freq}\"]\n",
    "            # print(current_val)\n",
    "            if o_set_of_col_names_with_min_value is None or o_current_smallest_value > current_val:\n",
    "                o_set_of_col_names_with_min_value = {col_name_conf_estimator}\n",
    "                o_current_smallest_value = current_val\n",
    "            elif current_val == o_current_smallest_value:\n",
    "                o_set_of_col_names_with_min_value.update(col_name_conf_estimator)\n",
    "\n",
    "        label_freq_to_set_of_smallest_est_map[label_freq] = o_set_of_col_names_with_min_value\n",
    "    return label_freq_to_set_of_smallest_est_map\n",
    "\n",
    "\n",
    "\n",
    "def format_value_depending_on_whether_it_is_smallest(\n",
    "        value: float,\n",
    "        is_smallest: bool,\n",
    "        float_precision: float,\n",
    "        use_si: bool = False\n",
    ")-> str:\n",
    "    if is_smallest:\n",
    "        if not use_si:\n",
    "            formatted_value = \"$\\\\bm{\" + f\"{value:0.{float_precision}f}\" + \"}$\"\n",
    "            # formatted_value = \"$\\\\bm{\" + f\"{value:0.{float_precision}e}\" + \"}$\"\n",
    "        else:\n",
    "            formatted_value = \"\\\\textbf{$\" + f\"\\\\num[round-precision={float_precision},round-mode=figures,scientific-notation=true]\"+\\\n",
    "                              \"{\"+ str(value) + \"}\"+ \"$}\"\n",
    "    else:\n",
    "        if not use_si:\n",
    "            formatted_value = f\"${value:0.{float_precision}f}$\"\n",
    "            # formatted_value = f\"${value:0.{float_precision}e}$\"\n",
    "        else:\n",
    "            formatted_value = \"$\" + f\"\\\\num[round-precision={float_precision},round-mode=figures,scientific-notation=true]\"+\\\n",
    "                              \"{\"+ str(value) + \"}\"+ \"$\"\n",
    "\n",
    "    return formatted_value\n",
    "\n",
    "\n",
    "estimator_columns = column_names_info.column_names_conf_estimators + [\n",
    "    f\"{ConfidenceEnum.IPW_PCA_CONF_S_TO_O.value}_lower\",\n",
    "    f\"{ConfidenceEnum.IPW_PCA_CONF_S_TO_O.value}_higher\"\n",
    "]\n",
    "\n",
    "# For each row, i.e. for each target relation\n",
    "for row_index, row in df_one_row_per_target.iterrows():\n",
    "\n",
    "    # Find estimator with smallest mean value for label frequency###################\n",
    "    label_freq_to_set_of_smallest_est_map: Dict[float, Set[str]] = get_dict_with_smallest_estimator_per_label_freq(\n",
    "        row=row\n",
    "    )\n",
    "    ##################################################################################\n",
    "    # Construct the new row\n",
    "    ######################\n",
    "\n",
    "    target_relation = row[\"target_relation\"]\n",
    "\n",
    "\n",
    "    nb_of_rules = df_n_rules_per_target[df_n_rules_per_target['target_relation'] == target_relation][\n",
    "        \"# rules\"\n",
    "    ].iloc[0]\n",
    "\n",
    "    new_row: List[str] = [\n",
    "        target_relation,\n",
    "        nb_of_rules\n",
    "    ]\n",
    "    # For each Confidence estimator, get the value at c 0.3 and 0.7\n",
    "    # for col_name_conf_estimator in estimator_columns:\n",
    "    #     mean_val_03:float = row[f\"{col_name_conf_estimator}_0.3\"]\n",
    "    #     mean_val_07:float = row[f\"{col_name_conf_estimator}_0.7\"]\n",
    "    #\n",
    "    #     new_row_value = (\n",
    "    #         format_value_depending_on_whether_it_is_smallest(\n",
    "    #             value=mean_val_03,\n",
    "    #             is_smallest=col_name_conf_estimator == label_freq_to_smallest_est_map[0.3],\n",
    "    #             float_precision=float_precision\n",
    "    #         )\n",
    "    #         + \" / \"\n",
    "    #         + format_value_depending_on_whether_it_is_smallest(\n",
    "    #             value=mean_val_07,\n",
    "    #             is_smallest=col_name_conf_estimator == label_freq_to_smallest_est_map[0.7],\n",
    "    #             float_precision=float_precision\n",
    "    #         )\n",
    "    #     )\n",
    "    #     new_row.append(new_row_value)\n",
    "    for col_name_conf_estimator in estimator_columns:\n",
    "        mean_val_03:float = row[f\"{col_name_conf_estimator}_{first_true_label_freq_to_include}\"]\n",
    "\n",
    "\n",
    "\n",
    "        new_row_value_03 = format_value_depending_on_whether_it_is_smallest(\n",
    "                value=mean_val_03,\n",
    "                is_smallest=(\n",
    "                        col_name_conf_estimator in label_freq_to_set_of_smallest_est_map[first_true_label_freq_to_include]\n",
    "                ),\n",
    "                float_precision=float_precision\n",
    "        )\n",
    "        new_row.append(new_row_value_03)\n",
    "\n",
    "\n",
    "    for col_name_conf_estimator in estimator_columns:\n",
    "        mean_val_07:float = row[f\"{col_name_conf_estimator}_{second_true_label_freq_to_include}\"]\n",
    "        new_row_value_07 = format_value_depending_on_whether_it_is_smallest(\n",
    "                value=mean_val_07,\n",
    "                is_smallest=(\n",
    "                        col_name_conf_estimator in label_freq_to_set_of_smallest_est_map[second_true_label_freq_to_include]\n",
    "                ),\n",
    "                float_precision=float_precision\n",
    "\n",
    "        )\n",
    "        new_row.append(new_row_value_07)\n",
    "\n",
    "    pretty_rows.append(new_row)\n",
    "\n",
    "\n",
    "df_pretty: pd.DataFrame = pd.DataFrame(\n",
    "    data=pretty_rows,\n",
    "    columns=multi_index_columns\n",
    ")\n",
    "df_pretty.head()"
   ],
   "metadata": {
    "collapsed": false,
    "pycharm": {
     "name": "#%%\n"
    }
   }
  },
  {
   "cell_type": "code",
   "execution_count": 166,
   "outputs": [
    {
     "data": {
      "text/plain": "           $p$ \\# R $c_{\\neg q}=0.3$                                      \\\n                             PCA $p$  IPW-PCA $p$ IPW-PCA $p$($-\\Delta$)   \n0    dealswith    1           $22.4$  $\\bm{16.9}$                 $13.5$   \n1       diedin    1            $3.9$   $\\bm{1.6}$                  $3.7$   \n2   happenedin    1            $6.6$   $\\bm{1.7}$                  $4.0$   \n3  iscitizenof    2      $\\bm{13.1}$       $14.5$                 $20.0$   \n4   isleaderof    1           $58.1$  $\\bm{55.5}$                 $58.0$   \n\n                         $c_{\\neg q}=0.7$                                      \\\n  IPW-PCA $p$($+\\Delta$)          PCA $p$  IPW-PCA $p$ IPW-PCA $p$($-\\Delta$)   \n0                 $19.9$       $\\bm{9.1}$       $12.4$                 $10.7$   \n1                  $2.0$            $1.4$   $\\bm{0.5}$                  $0.7$   \n2                  $3.3$            $2.3$   $\\bm{0.7}$                  $1.0$   \n3                 $13.2$           $11.0$   $\\bm{9.9}$                 $10.2$   \n4                 $56.6$           $74.1$  $\\bm{72.0}$                 $72.7$   \n\n                          \n  IPW-PCA $p$($+\\Delta$)  \n0                 $14.0$  \n1                  $0.7$  \n2                  $1.1$  \n3                 $10.0$  \n4                 $71.6$  ",
      "text/html": "<div>\n<style scoped>\n    .dataframe tbody tr th:only-of-type {\n        vertical-align: middle;\n    }\n\n    .dataframe tbody tr th {\n        vertical-align: top;\n    }\n\n    .dataframe thead tr th {\n        text-align: left;\n    }\n</style>\n<table border=\"1\" class=\"dataframe\">\n  <thead>\n    <tr>\n      <th></th>\n      <th>$p$</th>\n      <th>\\# R</th>\n      <th colspan=\"4\" halign=\"left\">$c_{\\neg q}=0.3$</th>\n      <th colspan=\"4\" halign=\"left\">$c_{\\neg q}=0.7$</th>\n    </tr>\n    <tr>\n      <th></th>\n      <th></th>\n      <th></th>\n      <th>PCA $p$</th>\n      <th>IPW-PCA $p$</th>\n      <th>IPW-PCA $p$($-\\Delta$)</th>\n      <th>IPW-PCA $p$($+\\Delta$)</th>\n      <th>PCA $p$</th>\n      <th>IPW-PCA $p$</th>\n      <th>IPW-PCA $p$($-\\Delta$)</th>\n      <th>IPW-PCA $p$($+\\Delta$)</th>\n    </tr>\n  </thead>\n  <tbody>\n    <tr>\n      <th>0</th>\n      <td>dealswith</td>\n      <td>1</td>\n      <td>$22.4$</td>\n      <td>$\\bm{16.9}$</td>\n      <td>$13.5$</td>\n      <td>$19.9$</td>\n      <td>$\\bm{9.1}$</td>\n      <td>$12.4$</td>\n      <td>$10.7$</td>\n      <td>$14.0$</td>\n    </tr>\n    <tr>\n      <th>1</th>\n      <td>diedin</td>\n      <td>1</td>\n      <td>$3.9$</td>\n      <td>$\\bm{1.6}$</td>\n      <td>$3.7$</td>\n      <td>$2.0$</td>\n      <td>$1.4$</td>\n      <td>$\\bm{0.5}$</td>\n      <td>$0.7$</td>\n      <td>$0.7$</td>\n    </tr>\n    <tr>\n      <th>2</th>\n      <td>happenedin</td>\n      <td>1</td>\n      <td>$6.6$</td>\n      <td>$\\bm{1.7}$</td>\n      <td>$4.0$</td>\n      <td>$3.3$</td>\n      <td>$2.3$</td>\n      <td>$\\bm{0.7}$</td>\n      <td>$1.0$</td>\n      <td>$1.1$</td>\n    </tr>\n    <tr>\n      <th>3</th>\n      <td>iscitizenof</td>\n      <td>2</td>\n      <td>$\\bm{13.1}$</td>\n      <td>$14.5$</td>\n      <td>$20.0$</td>\n      <td>$13.2$</td>\n      <td>$11.0$</td>\n      <td>$\\bm{9.9}$</td>\n      <td>$10.2$</td>\n      <td>$10.0$</td>\n    </tr>\n    <tr>\n      <th>4</th>\n      <td>isleaderof</td>\n      <td>1</td>\n      <td>$58.1$</td>\n      <td>$\\bm{55.5}$</td>\n      <td>$58.0$</td>\n      <td>$56.6$</td>\n      <td>$74.1$</td>\n      <td>$\\bm{72.0}$</td>\n      <td>$72.7$</td>\n      <td>$71.6$</td>\n    </tr>\n  </tbody>\n</table>\n</div>"
     },
     "execution_count": 166,
     "metadata": {},
     "output_type": "execute_result"
    }
   ],
   "source": [
    "df_pretty: pd.DataFrame = df_pretty.sort_values(\n",
    "    by=[\"$p$\"]\n",
    ")\n",
    "\n",
    "df_pretty.head()\n",
    "\n"
   ],
   "metadata": {
    "collapsed": false,
    "pycharm": {
     "name": "#%%\n"
    }
   }
  },
  {
   "cell_type": "markdown",
   "source": [
    "# To file"
   ],
   "metadata": {
    "collapsed": false
   }
  },
  {
   "cell_type": "code",
   "execution_count": 167,
   "outputs": [
    {
     "name": "stdout",
     "output_type": "stream",
     "text": [
      "/home/joschout/Documents/Repos/KUL-PUL/paper_latex_tables/known_prop_scores/sar_two_groups/confidence-error-table-sar-two-subject-groups-pca_version-case-specific_agg-per-p.tex\n"
     ]
    }
   ],
   "source": [
    "# dir_latex_table: str = os.path.join(\n",
    "#     kbc_e_metrics_project_dir,\n",
    "#     \"paper_latex_tables\",\n",
    "#     'known_prop_scores',\n",
    "#     'scar'\n",
    "# )\n",
    "#\n",
    "# if not os.path.exists(dir_latex_table):\n",
    "#     os.makedirs(dir_latex_table)\n",
    "\n",
    "filename_latex_table: str = os.path.join(\n",
    "    dir_latex_table,\n",
    "    \"confidence-error-table-sar-two-subject-groups-pca_version-case-specific_agg-per-p.tex\"\n",
    ")\n",
    "filename_tsv_table: str = os.path.join(\n",
    "    dir_latex_table,\n",
    "    \"confidence-error-table-sar-two-subject-groups-pca_version-case-specific_agg-per-p.tsv\"\n",
    ")\n",
    "\n",
    "\n",
    "with open(filename_latex_table, \"w\") as latex_ofile:\n",
    "    with pd.option_context(\"max_colwidth\", 1000):\n",
    "        latex_ofile.write(\n",
    "            df_pretty.to_latex(\n",
    "                column_format=\"lr|llll|llll\",\n",
    "                index=False,\n",
    "                float_format=\"{:0.3f}\".format,\n",
    "                escape=False,\n",
    "            #     caption=\"$[widehat{conf}-conf]^2$ for SCAR. \"\n",
    "            #             \"std=standard confidence, \"\n",
    "            #             \"PCA (S) = PCA confidence with $s$ as domain, \"\n",
    "            #             \"PCA (O) = PCA confidence with $o$  as domain, \"\n",
    "            #             \"IPW = PCA confidence with $\\hat{e}=e$, \"\n",
    "            #             \"IPW +/- $\" + f\"{label_frequency_est_diff:0.1}\" + \"$ = IPW confidence with $\\hat{e}=e+/-\" +  f\"{label_frequency_est_diff:0.1}\" + \"$.\"\n",
    "            )\n",
    "        )\n",
    "\n",
    "with open(filename_tsv_table, \"w\") as tsv_ofile:\n",
    "    tsv_ofile.write(df_pretty.to_csv(\n",
    "        index=False,\n",
    "        sep=\"\\t\"\n",
    "    ))\n",
    "\n",
    "print(filename_latex_table)\n"
   ],
   "metadata": {
    "collapsed": false,
    "pycharm": {
     "name": "#%%\n"
    }
   }
  },
  {
   "cell_type": "code",
   "execution_count": 55,
   "outputs": [],
   "source": [],
   "metadata": {
    "collapsed": false,
    "pycharm": {
     "name": "#%%\n"
    }
   }
  },
  {
   "cell_type": "code",
   "execution_count": 55,
   "outputs": [],
   "source": [],
   "metadata": {
    "collapsed": false,
    "pycharm": {
     "name": "#%%\n"
    }
   }
  }
 ],
 "metadata": {
  "kernelspec": {
   "display_name": "Python 3",
   "language": "python",
   "name": "python3"
  },
  "language_info": {
   "codemirror_mode": {
    "name": "ipython",
    "version": 2
   },
   "file_extension": ".py",
   "mimetype": "text/x-python",
   "name": "python",
   "nbconvert_exporter": "python",
   "pygments_lexer": "ipython2",
   "version": "2.7.6"
  }
 },
 "nbformat": 4,
 "nbformat_minor": 0
}