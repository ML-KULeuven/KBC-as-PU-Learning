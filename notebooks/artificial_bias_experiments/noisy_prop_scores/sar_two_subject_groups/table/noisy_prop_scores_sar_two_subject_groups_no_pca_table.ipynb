{
 "cells": [
  {
   "cell_type": "code",
   "execution_count": 1,
   "metadata": {
    "collapsed": true
   },
   "outputs": [],
   "source": [
    "from kbc_pul.project_info import project_dir as kbc_e_metrics_project_dir\n",
    "\n",
    "\n",
    "import os\n",
    "from typing import List, Dict, Set, Optional\n",
    "\n",
    "import numpy as np\n",
    "import pandas as pd\n",
    "\n",
    "from artificial_bias_experiments.evaluation.confidence_comparison.df_utils import ColumnNamesInfo\n",
    "from artificial_bias_experiments.known_prop_scores.dataset_generation_file_naming import \\\n",
    "    get_root_dir_experiment_noisy_propensity_scores\n",
    "from kbc_pul.confidence_naming import ConfidenceEnum\n",
    "from kbc_pul.observed_data_generation.sar_two_subject_groups.sar_two_subject_groups_prop_scores import \\\n",
    "    PropScoresTwoSARGroups\n",
    "from artificial_bias_experiments.noisy_prop_scores.sar_two_subject_groups.experiment_info import \\\n",
    "    NoisyPropScoresSARExperimentInfo\n",
    "from artificial_bias_experiments.noisy_prop_scores.sar_two_subject_groups.noisy_prop_scores_sar_two_groups_loading import \\\n",
    "    load_df_noisy_prop_scores_two_groups\n",
    "\n",
    "\n",
    "from pathlib import Path\n",
    "\n",
    "from pylo.language.lp import Clause as PyloClause"
   ]
  },
  {
   "cell_type": "markdown",
   "source": [
    "# Noisy SAR 2 groups - paper table\n"
   ],
   "metadata": {
    "collapsed": false,
    "pycharm": {
     "name": "#%% md\n"
    }
   }
  },
  {
   "cell_type": "code",
   "execution_count": 2,
   "outputs": [
    {
     "name": "stdout",
     "output_type": "stream",
     "text": [
      "participatedin - hasneighbor\n",
      "[Errno 2] No such file or directory: '/home/joschout/Documents/Repos/KUL-PUL/data/artificial_bias_experiments/noisy_prop_scores/sar_two_subject_groups/yago3_10/participatedin/hasneighbor/not_pca/s_prop0.5_ns_prop0.3/rule_wrappers'\n",
      "participatedin - hascapital\n",
      "participatedin - hasofficiallanguage\n",
      "[Errno 2] No such file or directory: '/home/joschout/Documents/Repos/KUL-PUL/data/artificial_bias_experiments/noisy_prop_scores/sar_two_subject_groups/yago3_10/participatedin/hasofficiallanguage/not_pca/s_prop0.5_ns_prop0.3/rule_wrappers'\n",
      "participatedin - imports\n",
      "[Errno 2] No such file or directory: '/home/joschout/Documents/Repos/KUL-PUL/data/artificial_bias_experiments/noisy_prop_scores/sar_two_subject_groups/yago3_10/participatedin/imports/not_pca/s_prop0.5_ns_prop0.3/rule_wrappers'\n",
      "participatedin - islocatedin\n",
      "[Errno 2] No such file or directory: '/home/joschout/Documents/Repos/KUL-PUL/data/artificial_bias_experiments/noisy_prop_scores/sar_two_subject_groups/yago3_10/participatedin/islocatedin/not_pca/s_prop0.5_ns_prop0.3/rule_wrappers'\n",
      "participatedin - exports\n",
      "[Errno 2] No such file or directory: '/home/joschout/Documents/Repos/KUL-PUL/data/artificial_bias_experiments/noisy_prop_scores/sar_two_subject_groups/yago3_10/participatedin/exports/not_pca/s_prop0.5_ns_prop0.3/rule_wrappers'\n",
      "participatedin - dealswith\n",
      "hascurrency - participatedin\n",
      "[Errno 2] No such file or directory: '/home/joschout/Documents/Repos/KUL-PUL/data/artificial_bias_experiments/noisy_prop_scores/sar_two_subject_groups/yago3_10/hascurrency/participatedin/not_pca/s_prop0.5_ns_prop0.3/rule_wrappers'\n",
      "hascurrency - hasneighbor\n",
      "[Errno 2] No such file or directory: '/home/joschout/Documents/Repos/KUL-PUL/data/artificial_bias_experiments/noisy_prop_scores/sar_two_subject_groups/yago3_10/hascurrency/hasneighbor/not_pca/s_prop0.5_ns_prop0.3/rule_wrappers'\n",
      "hascurrency - owns\n",
      "hascurrency - hascapital\n",
      "[Errno 2] No such file or directory: '/home/joschout/Documents/Repos/KUL-PUL/data/artificial_bias_experiments/noisy_prop_scores/sar_two_subject_groups/yago3_10/hascurrency/hascapital/not_pca/s_prop0.5_ns_prop0.3/rule_wrappers'\n",
      "hascurrency - hasofficiallanguage\n",
      "hascurrency - imports\n",
      "[Errno 2] No such file or directory: '/home/joschout/Documents/Repos/KUL-PUL/data/artificial_bias_experiments/noisy_prop_scores/sar_two_subject_groups/yago3_10/hascurrency/imports/not_pca/s_prop0.5_ns_prop0.3/rule_wrappers'\n",
      "hascurrency - exports\n",
      "[Errno 2] No such file or directory: '/home/joschout/Documents/Repos/KUL-PUL/data/artificial_bias_experiments/noisy_prop_scores/sar_two_subject_groups/yago3_10/hascurrency/exports/not_pca/s_prop0.5_ns_prop0.3/rule_wrappers'\n",
      "hascurrency - dealswith\n",
      "[Errno 2] No such file or directory: '/home/joschout/Documents/Repos/KUL-PUL/data/artificial_bias_experiments/noisy_prop_scores/sar_two_subject_groups/yago3_10/hascurrency/dealswith/not_pca/s_prop0.5_ns_prop0.3/rule_wrappers'\n",
      "directed - haswonprize\n",
      "[Errno 2] No such file or directory: '/home/joschout/Documents/Repos/KUL-PUL/data/artificial_bias_experiments/noisy_prop_scores/sar_two_subject_groups/yago3_10/directed/haswonprize/not_pca/s_prop0.5_ns_prop0.3/rule_wrappers'\n",
      "directed - diedin\n",
      "[Errno 2] No such file or directory: '/home/joschout/Documents/Repos/KUL-PUL/data/artificial_bias_experiments/noisy_prop_scores/sar_two_subject_groups/yago3_10/directed/diedin/not_pca/s_prop0.5_ns_prop0.3/rule_wrappers'\n",
      "directed - wasbornin\n",
      "[Errno 2] No such file or directory: '/home/joschout/Documents/Repos/KUL-PUL/data/artificial_bias_experiments/noisy_prop_scores/sar_two_subject_groups/yago3_10/directed/wasbornin/not_pca/s_prop0.5_ns_prop0.3/rule_wrappers'\n",
      "directed - created\n",
      "[Errno 2] No such file or directory: '/home/joschout/Documents/Repos/KUL-PUL/data/artificial_bias_experiments/noisy_prop_scores/sar_two_subject_groups/yago3_10/directed/created/not_pca/s_prop0.5_ns_prop0.3/rule_wrappers'\n",
      "directed - actedin\n",
      "directed - ismarriedto\n",
      "haswonprize - iscitizenof\n",
      "[Errno 2] No such file or directory: '/home/joschout/Documents/Repos/KUL-PUL/data/artificial_bias_experiments/noisy_prop_scores/sar_two_subject_groups/yago3_10/haswonprize/iscitizenof/not_pca/s_prop0.5_ns_prop0.3/rule_wrappers'\n",
      "haswonprize - diedin\n",
      "[Errno 2] No such file or directory: '/home/joschout/Documents/Repos/KUL-PUL/data/artificial_bias_experiments/noisy_prop_scores/sar_two_subject_groups/yago3_10/haswonprize/diedin/not_pca/s_prop0.5_ns_prop0.3/rule_wrappers'\n",
      "haswonprize - wasbornin\n",
      "[Errno 2] No such file or directory: '/home/joschout/Documents/Repos/KUL-PUL/data/artificial_bias_experiments/noisy_prop_scores/sar_two_subject_groups/yago3_10/haswonprize/wasbornin/not_pca/s_prop0.5_ns_prop0.3/rule_wrappers'\n",
      "haswonprize - graduatedfrom\n",
      "[Errno 2] No such file or directory: '/home/joschout/Documents/Repos/KUL-PUL/data/artificial_bias_experiments/noisy_prop_scores/sar_two_subject_groups/yago3_10/haswonprize/graduatedfrom/not_pca/s_prop0.5_ns_prop0.3/rule_wrappers'\n",
      "haswonprize - created\n",
      "[Errno 2] No such file or directory: '/home/joschout/Documents/Repos/KUL-PUL/data/artificial_bias_experiments/noisy_prop_scores/sar_two_subject_groups/yago3_10/haswonprize/created/not_pca/s_prop0.5_ns_prop0.3/rule_wrappers'\n",
      "haswonprize - isaffiliatedto\n",
      "[Errno 2] No such file or directory: '/home/joschout/Documents/Repos/KUL-PUL/data/artificial_bias_experiments/noisy_prop_scores/sar_two_subject_groups/yago3_10/haswonprize/isaffiliatedto/not_pca/s_prop0.5_ns_prop0.3/rule_wrappers'\n",
      "haswonprize - actedin\n",
      "[Errno 2] No such file or directory: '/home/joschout/Documents/Repos/KUL-PUL/data/artificial_bias_experiments/noisy_prop_scores/sar_two_subject_groups/yago3_10/haswonprize/actedin/not_pca/s_prop0.5_ns_prop0.3/rule_wrappers'\n",
      "haswonprize - influences\n",
      "haswonprize - ismarriedto\n",
      "[Errno 2] No such file or directory: '/home/joschout/Documents/Repos/KUL-PUL/data/artificial_bias_experiments/noisy_prop_scores/sar_two_subject_groups/yago3_10/haswonprize/ismarriedto/not_pca/s_prop0.5_ns_prop0.3/rule_wrappers'\n",
      "hasneighbor - participatedin\n",
      "[Errno 2] No such file or directory: '/home/joschout/Documents/Repos/KUL-PUL/data/artificial_bias_experiments/noisy_prop_scores/sar_two_subject_groups/yago3_10/hasneighbor/participatedin/not_pca/s_prop0.5_ns_prop0.3/rule_wrappers'\n",
      "hasneighbor - hascurrency\n",
      "[Errno 2] No such file or directory: '/home/joschout/Documents/Repos/KUL-PUL/data/artificial_bias_experiments/noisy_prop_scores/sar_two_subject_groups/yago3_10/hasneighbor/hascurrency/not_pca/s_prop0.5_ns_prop0.3/rule_wrappers'\n",
      "hasneighbor - owns\n",
      "[Errno 2] No such file or directory: '/home/joschout/Documents/Repos/KUL-PUL/data/artificial_bias_experiments/noisy_prop_scores/sar_two_subject_groups/yago3_10/hasneighbor/owns/not_pca/s_prop0.5_ns_prop0.3/rule_wrappers'\n",
      "hasneighbor - hascapital\n",
      "[Errno 2] No such file or directory: '/home/joschout/Documents/Repos/KUL-PUL/data/artificial_bias_experiments/noisy_prop_scores/sar_two_subject_groups/yago3_10/hasneighbor/hascapital/not_pca/s_prop0.5_ns_prop0.3/rule_wrappers'\n",
      "hasneighbor - hasofficiallanguage\n",
      "[Errno 2] No such file or directory: '/home/joschout/Documents/Repos/KUL-PUL/data/artificial_bias_experiments/noisy_prop_scores/sar_two_subject_groups/yago3_10/hasneighbor/hasofficiallanguage/not_pca/s_prop0.5_ns_prop0.3/rule_wrappers'\n",
      "hasneighbor - imports\n",
      "[Errno 2] No such file or directory: '/home/joschout/Documents/Repos/KUL-PUL/data/artificial_bias_experiments/noisy_prop_scores/sar_two_subject_groups/yago3_10/hasneighbor/imports/not_pca/s_prop0.5_ns_prop0.3/rule_wrappers'\n",
      "hasneighbor - exports\n",
      "[Errno 2] No such file or directory: '/home/joschout/Documents/Repos/KUL-PUL/data/artificial_bias_experiments/noisy_prop_scores/sar_two_subject_groups/yago3_10/hasneighbor/exports/not_pca/s_prop0.5_ns_prop0.3/rule_wrappers'\n",
      "hasneighbor - dealswith\n",
      "[Errno 2] No such file or directory: '/home/joschout/Documents/Repos/KUL-PUL/data/artificial_bias_experiments/noisy_prop_scores/sar_two_subject_groups/yago3_10/hasneighbor/dealswith/not_pca/s_prop0.5_ns_prop0.3/rule_wrappers'\n",
      "iscitizenof - haswonprize\n",
      "[Errno 2] No such file or directory: '/home/joschout/Documents/Repos/KUL-PUL/data/artificial_bias_experiments/noisy_prop_scores/sar_two_subject_groups/yago3_10/iscitizenof/haswonprize/not_pca/s_prop0.5_ns_prop0.3/rule_wrappers'\n",
      "iscitizenof - diedin\n",
      "iscitizenof - livesin\n",
      "[Errno 2] No such file or directory: '/home/joschout/Documents/Repos/KUL-PUL/data/artificial_bias_experiments/noisy_prop_scores/sar_two_subject_groups/yago3_10/iscitizenof/livesin/not_pca/s_prop0.5_ns_prop0.3/rule_wrappers'\n",
      "iscitizenof - wasbornin\n",
      "[Errno 2] No such file or directory: '/home/joschout/Documents/Repos/KUL-PUL/data/artificial_bias_experiments/noisy_prop_scores/sar_two_subject_groups/yago3_10/iscitizenof/wasbornin/not_pca/s_prop0.5_ns_prop0.3/rule_wrappers'\n",
      "iscitizenof - graduatedfrom\n",
      "iscitizenof - isaffiliatedto\n",
      "[Errno 2] No such file or directory: '/home/joschout/Documents/Repos/KUL-PUL/data/artificial_bias_experiments/noisy_prop_scores/sar_two_subject_groups/yago3_10/iscitizenof/isaffiliatedto/not_pca/s_prop0.5_ns_prop0.3/rule_wrappers'\n",
      "iscitizenof - worksat\n",
      "iscitizenof - hasacademicadvisor\n",
      "iscitizenof - influences\n",
      "[Errno 2] No such file or directory: '/home/joschout/Documents/Repos/KUL-PUL/data/artificial_bias_experiments/noisy_prop_scores/sar_two_subject_groups/yago3_10/iscitizenof/influences/not_pca/s_prop0.5_ns_prop0.3/rule_wrappers'\n",
      "isinterestedin - haswonprize\n",
      "[Errno 2] No such file or directory: '/home/joschout/Documents/Repos/KUL-PUL/data/artificial_bias_experiments/noisy_prop_scores/sar_two_subject_groups/yago3_10/isinterestedin/haswonprize/not_pca/s_prop0.5_ns_prop0.3/rule_wrappers'\n",
      "isinterestedin - diedin\n",
      "[Errno 2] No such file or directory: '/home/joschout/Documents/Repos/KUL-PUL/data/artificial_bias_experiments/noisy_prop_scores/sar_two_subject_groups/yago3_10/isinterestedin/diedin/not_pca/s_prop0.5_ns_prop0.3/rule_wrappers'\n",
      "isinterestedin - wasbornin\n",
      "[Errno 2] No such file or directory: '/home/joschout/Documents/Repos/KUL-PUL/data/artificial_bias_experiments/noisy_prop_scores/sar_two_subject_groups/yago3_10/isinterestedin/wasbornin/not_pca/s_prop0.5_ns_prop0.3/rule_wrappers'\n",
      "isinterestedin - graduatedfrom\n",
      "[Errno 2] No such file or directory: '/home/joschout/Documents/Repos/KUL-PUL/data/artificial_bias_experiments/noisy_prop_scores/sar_two_subject_groups/yago3_10/isinterestedin/graduatedfrom/not_pca/s_prop0.5_ns_prop0.3/rule_wrappers'\n",
      "isinterestedin - influences\n",
      "[Errno 2] No such file or directory: '/home/joschout/Documents/Repos/KUL-PUL/data/artificial_bias_experiments/noisy_prop_scores/sar_two_subject_groups/yago3_10/isinterestedin/influences/not_pca/s_prop0.5_ns_prop0.3/rule_wrappers'\n",
      "diedin - haswonprize\n",
      "[Errno 2] No such file or directory: '/home/joschout/Documents/Repos/KUL-PUL/data/artificial_bias_experiments/noisy_prop_scores/sar_two_subject_groups/yago3_10/diedin/haswonprize/not_pca/s_prop0.5_ns_prop0.3/rule_wrappers'\n",
      "diedin - iscitizenof\n",
      "[Errno 2] No such file or directory: '/home/joschout/Documents/Repos/KUL-PUL/data/artificial_bias_experiments/noisy_prop_scores/sar_two_subject_groups/yago3_10/diedin/iscitizenof/not_pca/s_prop0.5_ns_prop0.3/rule_wrappers'\n",
      "diedin - wasbornin\n",
      "[Errno 2] No such file or directory: '/home/joschout/Documents/Repos/KUL-PUL/data/artificial_bias_experiments/noisy_prop_scores/sar_two_subject_groups/yago3_10/diedin/wasbornin/not_pca/s_prop0.5_ns_prop0.3/rule_wrappers'\n",
      "diedin - graduatedfrom\n",
      "[Errno 2] No such file or directory: '/home/joschout/Documents/Repos/KUL-PUL/data/artificial_bias_experiments/noisy_prop_scores/sar_two_subject_groups/yago3_10/diedin/graduatedfrom/not_pca/s_prop0.5_ns_prop0.3/rule_wrappers'\n",
      "diedin - isaffiliatedto\n",
      "diedin - actedin\n",
      "[Errno 2] No such file or directory: '/home/joschout/Documents/Repos/KUL-PUL/data/artificial_bias_experiments/noisy_prop_scores/sar_two_subject_groups/yago3_10/diedin/actedin/not_pca/s_prop0.5_ns_prop0.3/rule_wrappers'\n",
      "diedin - influences\n",
      "[Errno 2] No such file or directory: '/home/joschout/Documents/Repos/KUL-PUL/data/artificial_bias_experiments/noisy_prop_scores/sar_two_subject_groups/yago3_10/diedin/influences/not_pca/s_prop0.5_ns_prop0.3/rule_wrappers'\n",
      "diedin - haschild\n",
      "[Errno 2] No such file or directory: '/home/joschout/Documents/Repos/KUL-PUL/data/artificial_bias_experiments/noisy_prop_scores/sar_two_subject_groups/yago3_10/diedin/haschild/not_pca/s_prop0.5_ns_prop0.3/rule_wrappers'\n",
      "diedin - playsfor\n",
      "[Errno 2] No such file or directory: '/home/joschout/Documents/Repos/KUL-PUL/data/artificial_bias_experiments/noisy_prop_scores/sar_two_subject_groups/yago3_10/diedin/playsfor/not_pca/s_prop0.5_ns_prop0.3/rule_wrappers'\n",
      "diedin - ismarriedto\n",
      "[Errno 2] No such file or directory: '/home/joschout/Documents/Repos/KUL-PUL/data/artificial_bias_experiments/noisy_prop_scores/sar_two_subject_groups/yago3_10/diedin/ismarriedto/not_pca/s_prop0.5_ns_prop0.3/rule_wrappers'\n",
      "wrotemusicfor - haswonprize\n",
      "[Errno 2] No such file or directory: '/home/joschout/Documents/Repos/KUL-PUL/data/artificial_bias_experiments/noisy_prop_scores/sar_two_subject_groups/yago3_10/wrotemusicfor/haswonprize/not_pca/s_prop0.5_ns_prop0.3/rule_wrappers'\n",
      "wrotemusicfor - diedin\n",
      "[Errno 2] No such file or directory: '/home/joschout/Documents/Repos/KUL-PUL/data/artificial_bias_experiments/noisy_prop_scores/sar_two_subject_groups/yago3_10/wrotemusicfor/diedin/not_pca/s_prop0.5_ns_prop0.3/rule_wrappers'\n",
      "wrotemusicfor - wasbornin\n",
      "[Errno 2] No such file or directory: '/home/joschout/Documents/Repos/KUL-PUL/data/artificial_bias_experiments/noisy_prop_scores/sar_two_subject_groups/yago3_10/wrotemusicfor/wasbornin/not_pca/s_prop0.5_ns_prop0.3/rule_wrappers'\n",
      "wrotemusicfor - created\n",
      "[Errno 2] No such file or directory: '/home/joschout/Documents/Repos/KUL-PUL/data/artificial_bias_experiments/noisy_prop_scores/sar_two_subject_groups/yago3_10/wrotemusicfor/created/not_pca/s_prop0.5_ns_prop0.3/rule_wrappers'\n",
      "wrotemusicfor - hasmusicalrole\n",
      "[Errno 2] No such file or directory: '/home/joschout/Documents/Repos/KUL-PUL/data/artificial_bias_experiments/noisy_prop_scores/sar_two_subject_groups/yago3_10/wrotemusicfor/hasmusicalrole/not_pca/s_prop0.5_ns_prop0.3/rule_wrappers'\n",
      "owns - participatedin\n",
      "owns - hascapital\n",
      "[Errno 2] No such file or directory: '/home/joschout/Documents/Repos/KUL-PUL/data/artificial_bias_experiments/noisy_prop_scores/sar_two_subject_groups/yago3_10/owns/hascapital/not_pca/s_prop0.5_ns_prop0.3/rule_wrappers'\n",
      "owns - wasbornin\n",
      "[Errno 2] No such file or directory: '/home/joschout/Documents/Repos/KUL-PUL/data/artificial_bias_experiments/noisy_prop_scores/sar_two_subject_groups/yago3_10/owns/wasbornin/not_pca/s_prop0.5_ns_prop0.3/rule_wrappers'\n",
      "owns - hasgender\n",
      "[Errno 2] No such file or directory: '/home/joschout/Documents/Repos/KUL-PUL/data/artificial_bias_experiments/noisy_prop_scores/sar_two_subject_groups/yago3_10/owns/hasgender/not_pca/s_prop0.5_ns_prop0.3/rule_wrappers'\n",
      "owns - islocatedin\n",
      "[Errno 2] No such file or directory: '/home/joschout/Documents/Repos/KUL-PUL/data/artificial_bias_experiments/noisy_prop_scores/sar_two_subject_groups/yago3_10/owns/islocatedin/not_pca/s_prop0.5_ns_prop0.3/rule_wrappers'\n",
      "hascapital - participatedin\n",
      "[Errno 2] No such file or directory: '/home/joschout/Documents/Repos/KUL-PUL/data/artificial_bias_experiments/noisy_prop_scores/sar_two_subject_groups/yago3_10/hascapital/participatedin/not_pca/s_prop0.5_ns_prop0.3/rule_wrappers'\n",
      "hasofficiallanguage - participatedin\n",
      "hasofficiallanguage - hascurrency\n",
      "[Errno 2] No such file or directory: '/home/joschout/Documents/Repos/KUL-PUL/data/artificial_bias_experiments/noisy_prop_scores/sar_two_subject_groups/yago3_10/hasofficiallanguage/hascurrency/not_pca/s_prop0.5_ns_prop0.3/rule_wrappers'\n",
      "hasofficiallanguage - hasneighbor\n",
      "[Errno 2] No such file or directory: '/home/joschout/Documents/Repos/KUL-PUL/data/artificial_bias_experiments/noisy_prop_scores/sar_two_subject_groups/yago3_10/hasofficiallanguage/hasneighbor/not_pca/s_prop0.5_ns_prop0.3/rule_wrappers'\n",
      "hasofficiallanguage - hascapital\n",
      "hasofficiallanguage - imports\n",
      "hasofficiallanguage - exports\n",
      "hasofficiallanguage - dealswith\n",
      "edited - directed\n",
      "[Errno 2] No such file or directory: '/home/joschout/Documents/Repos/KUL-PUL/data/artificial_bias_experiments/noisy_prop_scores/sar_two_subject_groups/yago3_10/edited/directed/not_pca/s_prop0.5_ns_prop0.3/rule_wrappers'\n",
      "edited - haswonprize\n",
      "[Errno 2] No such file or directory: '/home/joschout/Documents/Repos/KUL-PUL/data/artificial_bias_experiments/noisy_prop_scores/sar_two_subject_groups/yago3_10/edited/haswonprize/not_pca/s_prop0.5_ns_prop0.3/rule_wrappers'\n",
      "edited - diedin\n",
      "[Errno 2] No such file or directory: '/home/joschout/Documents/Repos/KUL-PUL/data/artificial_bias_experiments/noisy_prop_scores/sar_two_subject_groups/yago3_10/edited/diedin/not_pca/s_prop0.5_ns_prop0.3/rule_wrappers'\n",
      "edited - wasbornin\n",
      "[Errno 2] No such file or directory: '/home/joschout/Documents/Repos/KUL-PUL/data/artificial_bias_experiments/noisy_prop_scores/sar_two_subject_groups/yago3_10/edited/wasbornin/not_pca/s_prop0.5_ns_prop0.3/rule_wrappers'\n",
      "livesin - haswonprize\n",
      "[Errno 2] No such file or directory: '/home/joschout/Documents/Repos/KUL-PUL/data/artificial_bias_experiments/noisy_prop_scores/sar_two_subject_groups/yago3_10/livesin/haswonprize/not_pca/s_prop0.5_ns_prop0.3/rule_wrappers'\n",
      "livesin - iscitizenof\n",
      "[Errno 2] No such file or directory: '/home/joschout/Documents/Repos/KUL-PUL/data/artificial_bias_experiments/noisy_prop_scores/sar_two_subject_groups/yago3_10/livesin/iscitizenof/not_pca/s_prop0.5_ns_prop0.3/rule_wrappers'\n",
      "livesin - diedin\n",
      "[Errno 2] No such file or directory: '/home/joschout/Documents/Repos/KUL-PUL/data/artificial_bias_experiments/noisy_prop_scores/sar_two_subject_groups/yago3_10/livesin/diedin/not_pca/s_prop0.5_ns_prop0.3/rule_wrappers'\n",
      "livesin - wasbornin\n",
      "[Errno 2] No such file or directory: '/home/joschout/Documents/Repos/KUL-PUL/data/artificial_bias_experiments/noisy_prop_scores/sar_two_subject_groups/yago3_10/livesin/wasbornin/not_pca/s_prop0.5_ns_prop0.3/rule_wrappers'\n",
      "livesin - graduatedfrom\n",
      "livesin - ispoliticianof\n",
      "[Errno 2] No such file or directory: '/home/joschout/Documents/Repos/KUL-PUL/data/artificial_bias_experiments/noisy_prop_scores/sar_two_subject_groups/yago3_10/livesin/ispoliticianof/not_pca/s_prop0.5_ns_prop0.3/rule_wrappers'\n",
      "livesin - isaffiliatedto\n",
      "[Errno 2] No such file or directory: '/home/joschout/Documents/Repos/KUL-PUL/data/artificial_bias_experiments/noisy_prop_scores/sar_two_subject_groups/yago3_10/livesin/isaffiliatedto/not_pca/s_prop0.5_ns_prop0.3/rule_wrappers'\n",
      "livesin - worksat\n",
      "[Errno 2] No such file or directory: '/home/joschout/Documents/Repos/KUL-PUL/data/artificial_bias_experiments/noisy_prop_scores/sar_two_subject_groups/yago3_10/livesin/worksat/not_pca/s_prop0.5_ns_prop0.3/rule_wrappers'\n",
      "livesin - actedin\n",
      "livesin - hasacademicadvisor\n",
      "livesin - ismarriedto\n",
      "[Errno 2] No such file or directory: '/home/joschout/Documents/Repos/KUL-PUL/data/artificial_bias_experiments/noisy_prop_scores/sar_two_subject_groups/yago3_10/livesin/ismarriedto/not_pca/s_prop0.5_ns_prop0.3/rule_wrappers'\n",
      "wasbornin - haswonprize\n",
      "[Errno 2] No such file or directory: '/home/joschout/Documents/Repos/KUL-PUL/data/artificial_bias_experiments/noisy_prop_scores/sar_two_subject_groups/yago3_10/wasbornin/haswonprize/not_pca/s_prop0.5_ns_prop0.3/rule_wrappers'\n",
      "wasbornin - diedin\n",
      "[Errno 2] No such file or directory: '/home/joschout/Documents/Repos/KUL-PUL/data/artificial_bias_experiments/noisy_prop_scores/sar_two_subject_groups/yago3_10/wasbornin/diedin/not_pca/s_prop0.5_ns_prop0.3/rule_wrappers'\n",
      "wasbornin - isaffiliatedto\n",
      "[Errno 2] No such file or directory: '/home/joschout/Documents/Repos/KUL-PUL/data/artificial_bias_experiments/noisy_prop_scores/sar_two_subject_groups/yago3_10/wasbornin/isaffiliatedto/not_pca/s_prop0.5_ns_prop0.3/rule_wrappers'\n",
      "wasbornin - playsfor\n",
      "isleaderof - haswonprize\n",
      "[Errno 2] No such file or directory: '/home/joschout/Documents/Repos/KUL-PUL/data/artificial_bias_experiments/noisy_prop_scores/sar_two_subject_groups/yago3_10/isleaderof/haswonprize/not_pca/s_prop0.5_ns_prop0.3/rule_wrappers'\n",
      "isleaderof - iscitizenof\n",
      "[Errno 2] No such file or directory: '/home/joschout/Documents/Repos/KUL-PUL/data/artificial_bias_experiments/noisy_prop_scores/sar_two_subject_groups/yago3_10/isleaderof/iscitizenof/not_pca/s_prop0.5_ns_prop0.3/rule_wrappers'\n",
      "isleaderof - diedin\n",
      "[Errno 2] No such file or directory: '/home/joschout/Documents/Repos/KUL-PUL/data/artificial_bias_experiments/noisy_prop_scores/sar_two_subject_groups/yago3_10/isleaderof/diedin/not_pca/s_prop0.5_ns_prop0.3/rule_wrappers'\n",
      "isleaderof - livesin\n",
      "[Errno 2] No such file or directory: '/home/joschout/Documents/Repos/KUL-PUL/data/artificial_bias_experiments/noisy_prop_scores/sar_two_subject_groups/yago3_10/isleaderof/livesin/not_pca/s_prop0.5_ns_prop0.3/rule_wrappers'\n",
      "isleaderof - wasbornin\n",
      "[Errno 2] No such file or directory: '/home/joschout/Documents/Repos/KUL-PUL/data/artificial_bias_experiments/noisy_prop_scores/sar_two_subject_groups/yago3_10/isleaderof/wasbornin/not_pca/s_prop0.5_ns_prop0.3/rule_wrappers'\n",
      "isleaderof - graduatedfrom\n",
      "[Errno 2] No such file or directory: '/home/joschout/Documents/Repos/KUL-PUL/data/artificial_bias_experiments/noisy_prop_scores/sar_two_subject_groups/yago3_10/isleaderof/graduatedfrom/not_pca/s_prop0.5_ns_prop0.3/rule_wrappers'\n",
      "isleaderof - ispoliticianof\n",
      "[Errno 2] No such file or directory: '/home/joschout/Documents/Repos/KUL-PUL/data/artificial_bias_experiments/noisy_prop_scores/sar_two_subject_groups/yago3_10/isleaderof/ispoliticianof/not_pca/s_prop0.5_ns_prop0.3/rule_wrappers'\n",
      "isleaderof - isaffiliatedto\n",
      "isleaderof - haschild\n",
      "[Errno 2] No such file or directory: '/home/joschout/Documents/Repos/KUL-PUL/data/artificial_bias_experiments/noisy_prop_scores/sar_two_subject_groups/yago3_10/isleaderof/haschild/not_pca/s_prop0.5_ns_prop0.3/rule_wrappers'\n",
      "graduatedfrom - haswonprize\n",
      "[Errno 2] No such file or directory: '/home/joschout/Documents/Repos/KUL-PUL/data/artificial_bias_experiments/noisy_prop_scores/sar_two_subject_groups/yago3_10/graduatedfrom/haswonprize/not_pca/s_prop0.5_ns_prop0.3/rule_wrappers'\n",
      "graduatedfrom - iscitizenof\n",
      "[Errno 2] No such file or directory: '/home/joschout/Documents/Repos/KUL-PUL/data/artificial_bias_experiments/noisy_prop_scores/sar_two_subject_groups/yago3_10/graduatedfrom/iscitizenof/not_pca/s_prop0.5_ns_prop0.3/rule_wrappers'\n",
      "graduatedfrom - diedin\n",
      "[Errno 2] No such file or directory: '/home/joschout/Documents/Repos/KUL-PUL/data/artificial_bias_experiments/noisy_prop_scores/sar_two_subject_groups/yago3_10/graduatedfrom/diedin/not_pca/s_prop0.5_ns_prop0.3/rule_wrappers'\n",
      "graduatedfrom - livesin\n",
      "[Errno 2] No such file or directory: '/home/joschout/Documents/Repos/KUL-PUL/data/artificial_bias_experiments/noisy_prop_scores/sar_two_subject_groups/yago3_10/graduatedfrom/livesin/not_pca/s_prop0.5_ns_prop0.3/rule_wrappers'\n",
      "graduatedfrom - wasbornin\n",
      "[Errno 2] No such file or directory: '/home/joschout/Documents/Repos/KUL-PUL/data/artificial_bias_experiments/noisy_prop_scores/sar_two_subject_groups/yago3_10/graduatedfrom/wasbornin/not_pca/s_prop0.5_ns_prop0.3/rule_wrappers'\n",
      "graduatedfrom - ispoliticianof\n",
      "[Errno 2] No such file or directory: '/home/joschout/Documents/Repos/KUL-PUL/data/artificial_bias_experiments/noisy_prop_scores/sar_two_subject_groups/yago3_10/graduatedfrom/ispoliticianof/not_pca/s_prop0.5_ns_prop0.3/rule_wrappers'\n",
      "graduatedfrom - isaffiliatedto\n",
      "graduatedfrom - worksat\n",
      "[Errno 2] No such file or directory: '/home/joschout/Documents/Repos/KUL-PUL/data/artificial_bias_experiments/noisy_prop_scores/sar_two_subject_groups/yago3_10/graduatedfrom/worksat/not_pca/s_prop0.5_ns_prop0.3/rule_wrappers'\n",
      "graduatedfrom - actedin\n",
      "[Errno 2] No such file or directory: '/home/joschout/Documents/Repos/KUL-PUL/data/artificial_bias_experiments/noisy_prop_scores/sar_two_subject_groups/yago3_10/graduatedfrom/actedin/not_pca/s_prop0.5_ns_prop0.3/rule_wrappers'\n",
      "graduatedfrom - hasacademicadvisor\n",
      "[Errno 2] No such file or directory: '/home/joschout/Documents/Repos/KUL-PUL/data/artificial_bias_experiments/noisy_prop_scores/sar_two_subject_groups/yago3_10/graduatedfrom/hasacademicadvisor/not_pca/s_prop0.5_ns_prop0.3/rule_wrappers'\n",
      "graduatedfrom - influences\n",
      "[Errno 2] No such file or directory: '/home/joschout/Documents/Repos/KUL-PUL/data/artificial_bias_experiments/noisy_prop_scores/sar_two_subject_groups/yago3_10/graduatedfrom/influences/not_pca/s_prop0.5_ns_prop0.3/rule_wrappers'\n",
      "graduatedfrom - haschild\n",
      "[Errno 2] No such file or directory: '/home/joschout/Documents/Repos/KUL-PUL/data/artificial_bias_experiments/noisy_prop_scores/sar_two_subject_groups/yago3_10/graduatedfrom/haschild/not_pca/s_prop0.5_ns_prop0.3/rule_wrappers'\n",
      "created - directed\n",
      "[Errno 2] No such file or directory: '/home/joschout/Documents/Repos/KUL-PUL/data/artificial_bias_experiments/noisy_prop_scores/sar_two_subject_groups/yago3_10/created/directed/not_pca/s_prop0.5_ns_prop0.3/rule_wrappers'\n",
      "created - haswonprize\n",
      "created - diedin\n",
      "[Errno 2] No such file or directory: '/home/joschout/Documents/Repos/KUL-PUL/data/artificial_bias_experiments/noisy_prop_scores/sar_two_subject_groups/yago3_10/created/diedin/not_pca/s_prop0.5_ns_prop0.3/rule_wrappers'\n",
      "created - wrotemusicfor\n",
      "[Errno 2] No such file or directory: '/home/joschout/Documents/Repos/KUL-PUL/data/artificial_bias_experiments/noisy_prop_scores/sar_two_subject_groups/yago3_10/created/wrotemusicfor/not_pca/s_prop0.5_ns_prop0.3/rule_wrappers'\n",
      "created - wasbornin\n",
      "[Errno 2] No such file or directory: '/home/joschout/Documents/Repos/KUL-PUL/data/artificial_bias_experiments/noisy_prop_scores/sar_two_subject_groups/yago3_10/created/wasbornin/not_pca/s_prop0.5_ns_prop0.3/rule_wrappers'\n",
      "created - graduatedfrom\n",
      "created - actedin\n",
      "[Errno 2] No such file or directory: '/home/joschout/Documents/Repos/KUL-PUL/data/artificial_bias_experiments/noisy_prop_scores/sar_two_subject_groups/yago3_10/created/actedin/not_pca/s_prop0.5_ns_prop0.3/rule_wrappers'\n",
      "created - influences\n",
      "[Errno 2] No such file or directory: '/home/joschout/Documents/Repos/KUL-PUL/data/artificial_bias_experiments/noisy_prop_scores/sar_two_subject_groups/yago3_10/created/influences/not_pca/s_prop0.5_ns_prop0.3/rule_wrappers'\n",
      "hasmusicalrole - haswonprize\n",
      "[Errno 2] No such file or directory: '/home/joschout/Documents/Repos/KUL-PUL/data/artificial_bias_experiments/noisy_prop_scores/sar_two_subject_groups/yago3_10/hasmusicalrole/haswonprize/not_pca/s_prop0.5_ns_prop0.3/rule_wrappers'\n",
      "hasmusicalrole - diedin\n",
      "[Errno 2] No such file or directory: '/home/joschout/Documents/Repos/KUL-PUL/data/artificial_bias_experiments/noisy_prop_scores/sar_two_subject_groups/yago3_10/hasmusicalrole/diedin/not_pca/s_prop0.5_ns_prop0.3/rule_wrappers'\n",
      "hasmusicalrole - wrotemusicfor\n",
      "[Errno 2] No such file or directory: '/home/joschout/Documents/Repos/KUL-PUL/data/artificial_bias_experiments/noisy_prop_scores/sar_two_subject_groups/yago3_10/hasmusicalrole/wrotemusicfor/not_pca/s_prop0.5_ns_prop0.3/rule_wrappers'\n",
      "hasmusicalrole - wasbornin\n",
      "[Errno 2] No such file or directory: '/home/joschout/Documents/Repos/KUL-PUL/data/artificial_bias_experiments/noisy_prop_scores/sar_two_subject_groups/yago3_10/hasmusicalrole/wasbornin/not_pca/s_prop0.5_ns_prop0.3/rule_wrappers'\n",
      "hasgender - haswonprize\n",
      "[Errno 2] No such file or directory: '/home/joschout/Documents/Repos/KUL-PUL/data/artificial_bias_experiments/noisy_prop_scores/sar_two_subject_groups/yago3_10/hasgender/haswonprize/not_pca/s_prop0.5_ns_prop0.3/rule_wrappers'\n",
      "hasgender - diedin\n",
      "[Errno 2] No such file or directory: '/home/joschout/Documents/Repos/KUL-PUL/data/artificial_bias_experiments/noisy_prop_scores/sar_two_subject_groups/yago3_10/hasgender/diedin/not_pca/s_prop0.5_ns_prop0.3/rule_wrappers'\n",
      "hasgender - wasbornin\n",
      "[Errno 2] No such file or directory: '/home/joschout/Documents/Repos/KUL-PUL/data/artificial_bias_experiments/noisy_prop_scores/sar_two_subject_groups/yago3_10/hasgender/wasbornin/not_pca/s_prop0.5_ns_prop0.3/rule_wrappers'\n",
      "hasgender - isaffiliatedto\n",
      "hasgender - playsfor\n",
      "[Errno 2] No such file or directory: '/home/joschout/Documents/Repos/KUL-PUL/data/artificial_bias_experiments/noisy_prop_scores/sar_two_subject_groups/yago3_10/hasgender/playsfor/not_pca/s_prop0.5_ns_prop0.3/rule_wrappers'\n",
      "haswebsite - islocatedin\n",
      "[Errno 2] No such file or directory: '/home/joschout/Documents/Repos/KUL-PUL/data/artificial_bias_experiments/noisy_prop_scores/sar_two_subject_groups/yago3_10/haswebsite/islocatedin/not_pca/s_prop0.5_ns_prop0.3/rule_wrappers'\n",
      "imports - participatedin\n",
      "imports - hascurrency\n",
      "imports - hasneighbor\n",
      "[Errno 2] No such file or directory: '/home/joschout/Documents/Repos/KUL-PUL/data/artificial_bias_experiments/noisy_prop_scores/sar_two_subject_groups/yago3_10/imports/hasneighbor/not_pca/s_prop0.5_ns_prop0.3/rule_wrappers'\n",
      "imports - owns\n",
      "imports - hascapital\n",
      "[Errno 2] No such file or directory: '/home/joschout/Documents/Repos/KUL-PUL/data/artificial_bias_experiments/noisy_prop_scores/sar_two_subject_groups/yago3_10/imports/hascapital/not_pca/s_prop0.5_ns_prop0.3/rule_wrappers'\n",
      "imports - hasofficiallanguage\n",
      "[Errno 2] No such file or directory: '/home/joschout/Documents/Repos/KUL-PUL/data/artificial_bias_experiments/noisy_prop_scores/sar_two_subject_groups/yago3_10/imports/hasofficiallanguage/not_pca/s_prop0.5_ns_prop0.3/rule_wrappers'\n",
      "imports - exports\n",
      "[Errno 2] No such file or directory: '/home/joschout/Documents/Repos/KUL-PUL/data/artificial_bias_experiments/noisy_prop_scores/sar_two_subject_groups/yago3_10/imports/exports/not_pca/s_prop0.5_ns_prop0.3/rule_wrappers'\n",
      "ispoliticianof - haswonprize\n",
      "ispoliticianof - iscitizenof\n",
      "[Errno 2] No such file or directory: '/home/joschout/Documents/Repos/KUL-PUL/data/artificial_bias_experiments/noisy_prop_scores/sar_two_subject_groups/yago3_10/ispoliticianof/iscitizenof/not_pca/s_prop0.5_ns_prop0.3/rule_wrappers'\n",
      "ispoliticianof - diedin\n",
      "[Errno 2] No such file or directory: '/home/joschout/Documents/Repos/KUL-PUL/data/artificial_bias_experiments/noisy_prop_scores/sar_two_subject_groups/yago3_10/ispoliticianof/diedin/not_pca/s_prop0.5_ns_prop0.3/rule_wrappers'\n",
      "ispoliticianof - livesin\n",
      "[Errno 2] No such file or directory: '/home/joschout/Documents/Repos/KUL-PUL/data/artificial_bias_experiments/noisy_prop_scores/sar_two_subject_groups/yago3_10/ispoliticianof/livesin/not_pca/s_prop0.5_ns_prop0.3/rule_wrappers'\n",
      "ispoliticianof - wasbornin\n",
      "[Errno 2] No such file or directory: '/home/joschout/Documents/Repos/KUL-PUL/data/artificial_bias_experiments/noisy_prop_scores/sar_two_subject_groups/yago3_10/ispoliticianof/wasbornin/not_pca/s_prop0.5_ns_prop0.3/rule_wrappers'\n",
      "ispoliticianof - isleaderof\n",
      "[Errno 2] No such file or directory: '/home/joschout/Documents/Repos/KUL-PUL/data/artificial_bias_experiments/noisy_prop_scores/sar_two_subject_groups/yago3_10/ispoliticianof/isleaderof/not_pca/s_prop0.5_ns_prop0.3/rule_wrappers'\n",
      "ispoliticianof - graduatedfrom\n",
      "ispoliticianof - isaffiliatedto\n",
      "ispoliticianof - haschild\n",
      "isaffiliatedto - wasbornin\n",
      "isaffiliatedto - hasgender\n",
      "[Errno 2] No such file or directory: '/home/joschout/Documents/Repos/KUL-PUL/data/artificial_bias_experiments/noisy_prop_scores/sar_two_subject_groups/yago3_10/isaffiliatedto/hasgender/not_pca/s_prop0.5_ns_prop0.3/rule_wrappers'\n",
      "isaffiliatedto - playsfor\n",
      "[Errno 2] No such file or directory: '/home/joschout/Documents/Repos/KUL-PUL/data/artificial_bias_experiments/noisy_prop_scores/sar_two_subject_groups/yago3_10/isaffiliatedto/playsfor/not_pca/s_prop0.5_ns_prop0.3/rule_wrappers'\n",
      "exports - participatedin\n",
      "exports - hascurrency\n",
      "exports - hasneighbor\n",
      "[Errno 2] No such file or directory: '/home/joschout/Documents/Repos/KUL-PUL/data/artificial_bias_experiments/noisy_prop_scores/sar_two_subject_groups/yago3_10/exports/hasneighbor/not_pca/s_prop0.5_ns_prop0.3/rule_wrappers'\n",
      "exports - owns\n",
      "exports - hascapital\n",
      "exports - hasofficiallanguage\n",
      "[Errno 2] No such file or directory: '/home/joschout/Documents/Repos/KUL-PUL/data/artificial_bias_experiments/noisy_prop_scores/sar_two_subject_groups/yago3_10/exports/hasofficiallanguage/not_pca/s_prop0.5_ns_prop0.3/rule_wrappers'\n",
      "worksat - haswonprize\n",
      "[Errno 2] No such file or directory: '/home/joschout/Documents/Repos/KUL-PUL/data/artificial_bias_experiments/noisy_prop_scores/sar_two_subject_groups/yago3_10/worksat/haswonprize/not_pca/s_prop0.5_ns_prop0.3/rule_wrappers'\n",
      "worksat - iscitizenof\n",
      "[Errno 2] No such file or directory: '/home/joschout/Documents/Repos/KUL-PUL/data/artificial_bias_experiments/noisy_prop_scores/sar_two_subject_groups/yago3_10/worksat/iscitizenof/not_pca/s_prop0.5_ns_prop0.3/rule_wrappers'\n",
      "worksat - diedin\n",
      "[Errno 2] No such file or directory: '/home/joschout/Documents/Repos/KUL-PUL/data/artificial_bias_experiments/noisy_prop_scores/sar_two_subject_groups/yago3_10/worksat/diedin/not_pca/s_prop0.5_ns_prop0.3/rule_wrappers'\n",
      "worksat - livesin\n",
      "[Errno 2] No such file or directory: '/home/joschout/Documents/Repos/KUL-PUL/data/artificial_bias_experiments/noisy_prop_scores/sar_two_subject_groups/yago3_10/worksat/livesin/not_pca/s_prop0.5_ns_prop0.3/rule_wrappers'\n",
      "worksat - wasbornin\n",
      "[Errno 2] No such file or directory: '/home/joschout/Documents/Repos/KUL-PUL/data/artificial_bias_experiments/noisy_prop_scores/sar_two_subject_groups/yago3_10/worksat/wasbornin/not_pca/s_prop0.5_ns_prop0.3/rule_wrappers'\n",
      "worksat - hasacademicadvisor\n",
      "[Errno 2] No such file or directory: '/home/joschout/Documents/Repos/KUL-PUL/data/artificial_bias_experiments/noisy_prop_scores/sar_two_subject_groups/yago3_10/worksat/hasacademicadvisor/not_pca/s_prop0.5_ns_prop0.3/rule_wrappers'\n",
      "worksat - influences\n",
      "[Errno 2] No such file or directory: '/home/joschout/Documents/Repos/KUL-PUL/data/artificial_bias_experiments/noisy_prop_scores/sar_two_subject_groups/yago3_10/worksat/influences/not_pca/s_prop0.5_ns_prop0.3/rule_wrappers'\n",
      "dealswith - participatedin\n",
      "[Errno 2] No such file or directory: '/home/joschout/Documents/Repos/KUL-PUL/data/artificial_bias_experiments/noisy_prop_scores/sar_two_subject_groups/yago3_10/dealswith/participatedin/not_pca/s_prop0.5_ns_prop0.3/rule_wrappers'\n",
      "dealswith - hascurrency\n",
      "[Errno 2] No such file or directory: '/home/joschout/Documents/Repos/KUL-PUL/data/artificial_bias_experiments/noisy_prop_scores/sar_two_subject_groups/yago3_10/dealswith/hascurrency/not_pca/s_prop0.5_ns_prop0.3/rule_wrappers'\n",
      "dealswith - hasneighbor\n",
      "[Errno 2] No such file or directory: '/home/joschout/Documents/Repos/KUL-PUL/data/artificial_bias_experiments/noisy_prop_scores/sar_two_subject_groups/yago3_10/dealswith/hasneighbor/not_pca/s_prop0.5_ns_prop0.3/rule_wrappers'\n",
      "dealswith - owns\n",
      "[Errno 2] No such file or directory: '/home/joschout/Documents/Repos/KUL-PUL/data/artificial_bias_experiments/noisy_prop_scores/sar_two_subject_groups/yago3_10/dealswith/owns/not_pca/s_prop0.5_ns_prop0.3/rule_wrappers'\n",
      "dealswith - hascapital\n",
      "[Errno 2] No such file or directory: '/home/joschout/Documents/Repos/KUL-PUL/data/artificial_bias_experiments/noisy_prop_scores/sar_two_subject_groups/yago3_10/dealswith/hascapital/not_pca/s_prop0.5_ns_prop0.3/rule_wrappers'\n",
      "dealswith - hasofficiallanguage\n",
      "[Errno 2] No such file or directory: '/home/joschout/Documents/Repos/KUL-PUL/data/artificial_bias_experiments/noisy_prop_scores/sar_two_subject_groups/yago3_10/dealswith/hasofficiallanguage/not_pca/s_prop0.5_ns_prop0.3/rule_wrappers'\n",
      "dealswith - imports\n",
      "dealswith - exports\n",
      "isconnectedto - islocatedin\n",
      "[Errno 2] No such file or directory: '/home/joschout/Documents/Repos/KUL-PUL/data/artificial_bias_experiments/noisy_prop_scores/sar_two_subject_groups/yago3_10/isconnectedto/islocatedin/not_pca/s_prop0.5_ns_prop0.3/rule_wrappers'\n",
      "happenedin - islocatedin\n",
      "actedin - haswonprize\n",
      "[Errno 2] No such file or directory: '/home/joschout/Documents/Repos/KUL-PUL/data/artificial_bias_experiments/noisy_prop_scores/sar_two_subject_groups/yago3_10/actedin/haswonprize/not_pca/s_prop0.5_ns_prop0.3/rule_wrappers'\n",
      "actedin - diedin\n",
      "[Errno 2] No such file or directory: '/home/joschout/Documents/Repos/KUL-PUL/data/artificial_bias_experiments/noisy_prop_scores/sar_two_subject_groups/yago3_10/actedin/diedin/not_pca/s_prop0.5_ns_prop0.3/rule_wrappers'\n",
      "actedin - wasbornin\n",
      "[Errno 2] No such file or directory: '/home/joschout/Documents/Repos/KUL-PUL/data/artificial_bias_experiments/noisy_prop_scores/sar_two_subject_groups/yago3_10/actedin/wasbornin/not_pca/s_prop0.5_ns_prop0.3/rule_wrappers'\n",
      "actedin - ismarriedto\n",
      "[Errno 2] No such file or directory: '/home/joschout/Documents/Repos/KUL-PUL/data/artificial_bias_experiments/noisy_prop_scores/sar_two_subject_groups/yago3_10/actedin/ismarriedto/not_pca/s_prop0.5_ns_prop0.3/rule_wrappers'\n",
      "hasacademicadvisor - haswonprize\n",
      "[Errno 2] No such file or directory: '/home/joschout/Documents/Repos/KUL-PUL/data/artificial_bias_experiments/noisy_prop_scores/sar_two_subject_groups/yago3_10/hasacademicadvisor/haswonprize/not_pca/s_prop0.5_ns_prop0.3/rule_wrappers'\n",
      "hasacademicadvisor - iscitizenof\n",
      "[Errno 2] No such file or directory: '/home/joschout/Documents/Repos/KUL-PUL/data/artificial_bias_experiments/noisy_prop_scores/sar_two_subject_groups/yago3_10/hasacademicadvisor/iscitizenof/not_pca/s_prop0.5_ns_prop0.3/rule_wrappers'\n",
      "hasacademicadvisor - diedin\n",
      "[Errno 2] No such file or directory: '/home/joschout/Documents/Repos/KUL-PUL/data/artificial_bias_experiments/noisy_prop_scores/sar_two_subject_groups/yago3_10/hasacademicadvisor/diedin/not_pca/s_prop0.5_ns_prop0.3/rule_wrappers'\n",
      "hasacademicadvisor - livesin\n",
      "[Errno 2] No such file or directory: '/home/joschout/Documents/Repos/KUL-PUL/data/artificial_bias_experiments/noisy_prop_scores/sar_two_subject_groups/yago3_10/hasacademicadvisor/livesin/not_pca/s_prop0.5_ns_prop0.3/rule_wrappers'\n",
      "hasacademicadvisor - wasbornin\n",
      "[Errno 2] No such file or directory: '/home/joschout/Documents/Repos/KUL-PUL/data/artificial_bias_experiments/noisy_prop_scores/sar_two_subject_groups/yago3_10/hasacademicadvisor/wasbornin/not_pca/s_prop0.5_ns_prop0.3/rule_wrappers'\n",
      "hasacademicadvisor - graduatedfrom\n",
      "[Errno 2] No such file or directory: '/home/joschout/Documents/Repos/KUL-PUL/data/artificial_bias_experiments/noisy_prop_scores/sar_two_subject_groups/yago3_10/hasacademicadvisor/graduatedfrom/not_pca/s_prop0.5_ns_prop0.3/rule_wrappers'\n",
      "hasacademicadvisor - worksat\n",
      "[Errno 2] No such file or directory: '/home/joschout/Documents/Repos/KUL-PUL/data/artificial_bias_experiments/noisy_prop_scores/sar_two_subject_groups/yago3_10/hasacademicadvisor/worksat/not_pca/s_prop0.5_ns_prop0.3/rule_wrappers'\n",
      "hasacademicadvisor - influences\n",
      "[Errno 2] No such file or directory: '/home/joschout/Documents/Repos/KUL-PUL/data/artificial_bias_experiments/noisy_prop_scores/sar_two_subject_groups/yago3_10/hasacademicadvisor/influences/not_pca/s_prop0.5_ns_prop0.3/rule_wrappers'\n",
      "influences - haswonprize\n",
      "[Errno 2] No such file or directory: '/home/joschout/Documents/Repos/KUL-PUL/data/artificial_bias_experiments/noisy_prop_scores/sar_two_subject_groups/yago3_10/influences/haswonprize/not_pca/s_prop0.5_ns_prop0.3/rule_wrappers'\n",
      "influences - iscitizenof\n",
      "[Errno 2] No such file or directory: '/home/joschout/Documents/Repos/KUL-PUL/data/artificial_bias_experiments/noisy_prop_scores/sar_two_subject_groups/yago3_10/influences/iscitizenof/not_pca/s_prop0.5_ns_prop0.3/rule_wrappers'\n",
      "influences - diedin\n",
      "[Errno 2] No such file or directory: '/home/joschout/Documents/Repos/KUL-PUL/data/artificial_bias_experiments/noisy_prop_scores/sar_two_subject_groups/yago3_10/influences/diedin/not_pca/s_prop0.5_ns_prop0.3/rule_wrappers'\n",
      "influences - wasbornin\n",
      "[Errno 2] No such file or directory: '/home/joschout/Documents/Repos/KUL-PUL/data/artificial_bias_experiments/noisy_prop_scores/sar_two_subject_groups/yago3_10/influences/wasbornin/not_pca/s_prop0.5_ns_prop0.3/rule_wrappers'\n",
      "influences - graduatedfrom\n",
      "[Errno 2] No such file or directory: '/home/joschout/Documents/Repos/KUL-PUL/data/artificial_bias_experiments/noisy_prop_scores/sar_two_subject_groups/yago3_10/influences/graduatedfrom/not_pca/s_prop0.5_ns_prop0.3/rule_wrappers'\n",
      "influences - created\n",
      "[Errno 2] No such file or directory: '/home/joschout/Documents/Repos/KUL-PUL/data/artificial_bias_experiments/noisy_prop_scores/sar_two_subject_groups/yago3_10/influences/created/not_pca/s_prop0.5_ns_prop0.3/rule_wrappers'\n",
      "haschild - haswonprize\n",
      "[Errno 2] No such file or directory: '/home/joschout/Documents/Repos/KUL-PUL/data/artificial_bias_experiments/noisy_prop_scores/sar_two_subject_groups/yago3_10/haschild/haswonprize/not_pca/s_prop0.5_ns_prop0.3/rule_wrappers'\n",
      "haschild - diedin\n",
      "[Errno 2] No such file or directory: '/home/joschout/Documents/Repos/KUL-PUL/data/artificial_bias_experiments/noisy_prop_scores/sar_two_subject_groups/yago3_10/haschild/diedin/not_pca/s_prop0.5_ns_prop0.3/rule_wrappers'\n",
      "haschild - wasbornin\n",
      "[Errno 2] No such file or directory: '/home/joschout/Documents/Repos/KUL-PUL/data/artificial_bias_experiments/noisy_prop_scores/sar_two_subject_groups/yago3_10/haschild/wasbornin/not_pca/s_prop0.5_ns_prop0.3/rule_wrappers'\n",
      "haschild - graduatedfrom\n",
      "[Errno 2] No such file or directory: '/home/joschout/Documents/Repos/KUL-PUL/data/artificial_bias_experiments/noisy_prop_scores/sar_two_subject_groups/yago3_10/haschild/graduatedfrom/not_pca/s_prop0.5_ns_prop0.3/rule_wrappers'\n",
      "haschild - ispoliticianof\n",
      "[Errno 2] No such file or directory: '/home/joschout/Documents/Repos/KUL-PUL/data/artificial_bias_experiments/noisy_prop_scores/sar_two_subject_groups/yago3_10/haschild/ispoliticianof/not_pca/s_prop0.5_ns_prop0.3/rule_wrappers'\n",
      "haschild - isaffiliatedto\n",
      "[Errno 2] No such file or directory: '/home/joschout/Documents/Repos/KUL-PUL/data/artificial_bias_experiments/noisy_prop_scores/sar_two_subject_groups/yago3_10/haschild/isaffiliatedto/not_pca/s_prop0.5_ns_prop0.3/rule_wrappers'\n",
      "haschild - ismarriedto\n",
      "[Errno 2] No such file or directory: '/home/joschout/Documents/Repos/KUL-PUL/data/artificial_bias_experiments/noisy_prop_scores/sar_two_subject_groups/yago3_10/haschild/ismarriedto/not_pca/s_prop0.5_ns_prop0.3/rule_wrappers'\n",
      "playsfor - wasbornin\n",
      "[Errno 2] No such file or directory: '/home/joschout/Documents/Repos/KUL-PUL/data/artificial_bias_experiments/noisy_prop_scores/sar_two_subject_groups/yago3_10/playsfor/wasbornin/not_pca/s_prop0.5_ns_prop0.3/rule_wrappers'\n",
      "playsfor - hasgender\n",
      "[Errno 2] No such file or directory: '/home/joschout/Documents/Repos/KUL-PUL/data/artificial_bias_experiments/noisy_prop_scores/sar_two_subject_groups/yago3_10/playsfor/hasgender/not_pca/s_prop0.5_ns_prop0.3/rule_wrappers'\n",
      "ismarriedto - haswonprize\n",
      "[Errno 2] No such file or directory: '/home/joschout/Documents/Repos/KUL-PUL/data/artificial_bias_experiments/noisy_prop_scores/sar_two_subject_groups/yago3_10/ismarriedto/haswonprize/not_pca/s_prop0.5_ns_prop0.3/rule_wrappers'\n",
      "ismarriedto - diedin\n",
      "[Errno 2] No such file or directory: '/home/joschout/Documents/Repos/KUL-PUL/data/artificial_bias_experiments/noisy_prop_scores/sar_two_subject_groups/yago3_10/ismarriedto/diedin/not_pca/s_prop0.5_ns_prop0.3/rule_wrappers'\n",
      "ismarriedto - wasbornin\n",
      "[Errno 2] No such file or directory: '/home/joschout/Documents/Repos/KUL-PUL/data/artificial_bias_experiments/noisy_prop_scores/sar_two_subject_groups/yago3_10/ismarriedto/wasbornin/not_pca/s_prop0.5_ns_prop0.3/rule_wrappers'\n",
      "ismarriedto - graduatedfrom\n",
      "[Errno 2] No such file or directory: '/home/joschout/Documents/Repos/KUL-PUL/data/artificial_bias_experiments/noisy_prop_scores/sar_two_subject_groups/yago3_10/ismarriedto/graduatedfrom/not_pca/s_prop0.5_ns_prop0.3/rule_wrappers'\n",
      "ismarriedto - actedin\n",
      "[Errno 2] No such file or directory: '/home/joschout/Documents/Repos/KUL-PUL/data/artificial_bias_experiments/noisy_prop_scores/sar_two_subject_groups/yago3_10/ismarriedto/actedin/not_pca/s_prop0.5_ns_prop0.3/rule_wrappers'\n",
      "ismarriedto - haschild\n",
      "[Errno 2] No such file or directory: '/home/joschout/Documents/Repos/KUL-PUL/data/artificial_bias_experiments/noisy_prop_scores/sar_two_subject_groups/yago3_10/ismarriedto/haschild/not_pca/s_prop0.5_ns_prop0.3/rule_wrappers'\n",
      "participatedin - hasneighbor\n",
      "[Errno 2] No such file or directory: '/home/joschout/Documents/Repos/KUL-PUL/data/artificial_bias_experiments/noisy_prop_scores/sar_two_subject_groups/yago3_10/participatedin/hasneighbor/not_pca/s_prop0.5_ns_prop0.7/rule_wrappers'\n",
      "participatedin - hascapital\n",
      "participatedin - hasofficiallanguage\n",
      "[Errno 2] No such file or directory: '/home/joschout/Documents/Repos/KUL-PUL/data/artificial_bias_experiments/noisy_prop_scores/sar_two_subject_groups/yago3_10/participatedin/hasofficiallanguage/not_pca/s_prop0.5_ns_prop0.7/rule_wrappers'\n",
      "participatedin - imports\n",
      "[Errno 2] No such file or directory: '/home/joschout/Documents/Repos/KUL-PUL/data/artificial_bias_experiments/noisy_prop_scores/sar_two_subject_groups/yago3_10/participatedin/imports/not_pca/s_prop0.5_ns_prop0.7/rule_wrappers'\n",
      "participatedin - islocatedin\n",
      "[Errno 2] No such file or directory: '/home/joschout/Documents/Repos/KUL-PUL/data/artificial_bias_experiments/noisy_prop_scores/sar_two_subject_groups/yago3_10/participatedin/islocatedin/not_pca/s_prop0.5_ns_prop0.7/rule_wrappers'\n",
      "participatedin - exports\n",
      "[Errno 2] No such file or directory: '/home/joschout/Documents/Repos/KUL-PUL/data/artificial_bias_experiments/noisy_prop_scores/sar_two_subject_groups/yago3_10/participatedin/exports/not_pca/s_prop0.5_ns_prop0.7/rule_wrappers'\n",
      "participatedin - dealswith\n",
      "hascurrency - participatedin\n",
      "[Errno 2] No such file or directory: '/home/joschout/Documents/Repos/KUL-PUL/data/artificial_bias_experiments/noisy_prop_scores/sar_two_subject_groups/yago3_10/hascurrency/participatedin/not_pca/s_prop0.5_ns_prop0.7/rule_wrappers'\n",
      "hascurrency - hasneighbor\n",
      "[Errno 2] No such file or directory: '/home/joschout/Documents/Repos/KUL-PUL/data/artificial_bias_experiments/noisy_prop_scores/sar_two_subject_groups/yago3_10/hascurrency/hasneighbor/not_pca/s_prop0.5_ns_prop0.7/rule_wrappers'\n",
      "hascurrency - owns\n",
      "hascurrency - hascapital\n",
      "[Errno 2] No such file or directory: '/home/joschout/Documents/Repos/KUL-PUL/data/artificial_bias_experiments/noisy_prop_scores/sar_two_subject_groups/yago3_10/hascurrency/hascapital/not_pca/s_prop0.5_ns_prop0.7/rule_wrappers'\n",
      "hascurrency - hasofficiallanguage\n",
      "hascurrency - imports\n",
      "[Errno 2] No such file or directory: '/home/joschout/Documents/Repos/KUL-PUL/data/artificial_bias_experiments/noisy_prop_scores/sar_two_subject_groups/yago3_10/hascurrency/imports/not_pca/s_prop0.5_ns_prop0.7/rule_wrappers'\n",
      "hascurrency - exports\n",
      "[Errno 2] No such file or directory: '/home/joschout/Documents/Repos/KUL-PUL/data/artificial_bias_experiments/noisy_prop_scores/sar_two_subject_groups/yago3_10/hascurrency/exports/not_pca/s_prop0.5_ns_prop0.7/rule_wrappers'\n",
      "hascurrency - dealswith\n",
      "[Errno 2] No such file or directory: '/home/joschout/Documents/Repos/KUL-PUL/data/artificial_bias_experiments/noisy_prop_scores/sar_two_subject_groups/yago3_10/hascurrency/dealswith/not_pca/s_prop0.5_ns_prop0.7/rule_wrappers'\n",
      "directed - haswonprize\n",
      "[Errno 2] No such file or directory: '/home/joschout/Documents/Repos/KUL-PUL/data/artificial_bias_experiments/noisy_prop_scores/sar_two_subject_groups/yago3_10/directed/haswonprize/not_pca/s_prop0.5_ns_prop0.7/rule_wrappers'\n",
      "directed - diedin\n",
      "[Errno 2] No such file or directory: '/home/joschout/Documents/Repos/KUL-PUL/data/artificial_bias_experiments/noisy_prop_scores/sar_two_subject_groups/yago3_10/directed/diedin/not_pca/s_prop0.5_ns_prop0.7/rule_wrappers'\n",
      "directed - wasbornin\n",
      "[Errno 2] No such file or directory: '/home/joschout/Documents/Repos/KUL-PUL/data/artificial_bias_experiments/noisy_prop_scores/sar_two_subject_groups/yago3_10/directed/wasbornin/not_pca/s_prop0.5_ns_prop0.7/rule_wrappers'\n",
      "directed - created\n",
      "[Errno 2] No such file or directory: '/home/joschout/Documents/Repos/KUL-PUL/data/artificial_bias_experiments/noisy_prop_scores/sar_two_subject_groups/yago3_10/directed/created/not_pca/s_prop0.5_ns_prop0.7/rule_wrappers'\n",
      "directed - actedin\n",
      "directed - ismarriedto\n",
      "haswonprize - iscitizenof\n",
      "[Errno 2] No such file or directory: '/home/joschout/Documents/Repos/KUL-PUL/data/artificial_bias_experiments/noisy_prop_scores/sar_two_subject_groups/yago3_10/haswonprize/iscitizenof/not_pca/s_prop0.5_ns_prop0.7/rule_wrappers'\n",
      "haswonprize - diedin\n",
      "[Errno 2] No such file or directory: '/home/joschout/Documents/Repos/KUL-PUL/data/artificial_bias_experiments/noisy_prop_scores/sar_two_subject_groups/yago3_10/haswonprize/diedin/not_pca/s_prop0.5_ns_prop0.7/rule_wrappers'\n",
      "haswonprize - wasbornin\n",
      "[Errno 2] No such file or directory: '/home/joschout/Documents/Repos/KUL-PUL/data/artificial_bias_experiments/noisy_prop_scores/sar_two_subject_groups/yago3_10/haswonprize/wasbornin/not_pca/s_prop0.5_ns_prop0.7/rule_wrappers'\n",
      "haswonprize - graduatedfrom\n",
      "[Errno 2] No such file or directory: '/home/joschout/Documents/Repos/KUL-PUL/data/artificial_bias_experiments/noisy_prop_scores/sar_two_subject_groups/yago3_10/haswonprize/graduatedfrom/not_pca/s_prop0.5_ns_prop0.7/rule_wrappers'\n",
      "haswonprize - created\n",
      "[Errno 2] No such file or directory: '/home/joschout/Documents/Repos/KUL-PUL/data/artificial_bias_experiments/noisy_prop_scores/sar_two_subject_groups/yago3_10/haswonprize/created/not_pca/s_prop0.5_ns_prop0.7/rule_wrappers'\n",
      "haswonprize - isaffiliatedto\n",
      "[Errno 2] No such file or directory: '/home/joschout/Documents/Repos/KUL-PUL/data/artificial_bias_experiments/noisy_prop_scores/sar_two_subject_groups/yago3_10/haswonprize/isaffiliatedto/not_pca/s_prop0.5_ns_prop0.7/rule_wrappers'\n",
      "haswonprize - actedin\n",
      "[Errno 2] No such file or directory: '/home/joschout/Documents/Repos/KUL-PUL/data/artificial_bias_experiments/noisy_prop_scores/sar_two_subject_groups/yago3_10/haswonprize/actedin/not_pca/s_prop0.5_ns_prop0.7/rule_wrappers'\n",
      "haswonprize - influences\n",
      "haswonprize - ismarriedto\n",
      "[Errno 2] No such file or directory: '/home/joschout/Documents/Repos/KUL-PUL/data/artificial_bias_experiments/noisy_prop_scores/sar_two_subject_groups/yago3_10/haswonprize/ismarriedto/not_pca/s_prop0.5_ns_prop0.7/rule_wrappers'\n",
      "hasneighbor - participatedin\n",
      "[Errno 2] No such file or directory: '/home/joschout/Documents/Repos/KUL-PUL/data/artificial_bias_experiments/noisy_prop_scores/sar_two_subject_groups/yago3_10/hasneighbor/participatedin/not_pca/s_prop0.5_ns_prop0.7/rule_wrappers'\n",
      "hasneighbor - hascurrency\n",
      "[Errno 2] No such file or directory: '/home/joschout/Documents/Repos/KUL-PUL/data/artificial_bias_experiments/noisy_prop_scores/sar_two_subject_groups/yago3_10/hasneighbor/hascurrency/not_pca/s_prop0.5_ns_prop0.7/rule_wrappers'\n",
      "hasneighbor - owns\n",
      "[Errno 2] No such file or directory: '/home/joschout/Documents/Repos/KUL-PUL/data/artificial_bias_experiments/noisy_prop_scores/sar_two_subject_groups/yago3_10/hasneighbor/owns/not_pca/s_prop0.5_ns_prop0.7/rule_wrappers'\n",
      "hasneighbor - hascapital\n",
      "[Errno 2] No such file or directory: '/home/joschout/Documents/Repos/KUL-PUL/data/artificial_bias_experiments/noisy_prop_scores/sar_two_subject_groups/yago3_10/hasneighbor/hascapital/not_pca/s_prop0.5_ns_prop0.7/rule_wrappers'\n",
      "hasneighbor - hasofficiallanguage\n",
      "[Errno 2] No such file or directory: '/home/joschout/Documents/Repos/KUL-PUL/data/artificial_bias_experiments/noisy_prop_scores/sar_two_subject_groups/yago3_10/hasneighbor/hasofficiallanguage/not_pca/s_prop0.5_ns_prop0.7/rule_wrappers'\n",
      "hasneighbor - imports\n",
      "[Errno 2] No such file or directory: '/home/joschout/Documents/Repos/KUL-PUL/data/artificial_bias_experiments/noisy_prop_scores/sar_two_subject_groups/yago3_10/hasneighbor/imports/not_pca/s_prop0.5_ns_prop0.7/rule_wrappers'\n",
      "hasneighbor - exports\n",
      "[Errno 2] No such file or directory: '/home/joschout/Documents/Repos/KUL-PUL/data/artificial_bias_experiments/noisy_prop_scores/sar_two_subject_groups/yago3_10/hasneighbor/exports/not_pca/s_prop0.5_ns_prop0.7/rule_wrappers'\n",
      "hasneighbor - dealswith\n",
      "[Errno 2] No such file or directory: '/home/joschout/Documents/Repos/KUL-PUL/data/artificial_bias_experiments/noisy_prop_scores/sar_two_subject_groups/yago3_10/hasneighbor/dealswith/not_pca/s_prop0.5_ns_prop0.7/rule_wrappers'\n",
      "iscitizenof - haswonprize\n",
      "[Errno 2] No such file or directory: '/home/joschout/Documents/Repos/KUL-PUL/data/artificial_bias_experiments/noisy_prop_scores/sar_two_subject_groups/yago3_10/iscitizenof/haswonprize/not_pca/s_prop0.5_ns_prop0.7/rule_wrappers'\n",
      "iscitizenof - diedin\n",
      "iscitizenof - livesin\n",
      "[Errno 2] No such file or directory: '/home/joschout/Documents/Repos/KUL-PUL/data/artificial_bias_experiments/noisy_prop_scores/sar_two_subject_groups/yago3_10/iscitizenof/livesin/not_pca/s_prop0.5_ns_prop0.7/rule_wrappers'\n",
      "iscitizenof - wasbornin\n",
      "[Errno 2] No such file or directory: '/home/joschout/Documents/Repos/KUL-PUL/data/artificial_bias_experiments/noisy_prop_scores/sar_two_subject_groups/yago3_10/iscitizenof/wasbornin/not_pca/s_prop0.5_ns_prop0.7/rule_wrappers'\n",
      "iscitizenof - graduatedfrom\n",
      "iscitizenof - isaffiliatedto\n",
      "[Errno 2] No such file or directory: '/home/joschout/Documents/Repos/KUL-PUL/data/artificial_bias_experiments/noisy_prop_scores/sar_two_subject_groups/yago3_10/iscitizenof/isaffiliatedto/not_pca/s_prop0.5_ns_prop0.7/rule_wrappers'\n",
      "iscitizenof - worksat\n",
      "iscitizenof - hasacademicadvisor\n",
      "iscitizenof - influences\n",
      "[Errno 2] No such file or directory: '/home/joschout/Documents/Repos/KUL-PUL/data/artificial_bias_experiments/noisy_prop_scores/sar_two_subject_groups/yago3_10/iscitizenof/influences/not_pca/s_prop0.5_ns_prop0.7/rule_wrappers'\n",
      "isinterestedin - haswonprize\n",
      "[Errno 2] No such file or directory: '/home/joschout/Documents/Repos/KUL-PUL/data/artificial_bias_experiments/noisy_prop_scores/sar_two_subject_groups/yago3_10/isinterestedin/haswonprize/not_pca/s_prop0.5_ns_prop0.7/rule_wrappers'\n",
      "isinterestedin - diedin\n",
      "[Errno 2] No such file or directory: '/home/joschout/Documents/Repos/KUL-PUL/data/artificial_bias_experiments/noisy_prop_scores/sar_two_subject_groups/yago3_10/isinterestedin/diedin/not_pca/s_prop0.5_ns_prop0.7/rule_wrappers'\n",
      "isinterestedin - wasbornin\n",
      "[Errno 2] No such file or directory: '/home/joschout/Documents/Repos/KUL-PUL/data/artificial_bias_experiments/noisy_prop_scores/sar_two_subject_groups/yago3_10/isinterestedin/wasbornin/not_pca/s_prop0.5_ns_prop0.7/rule_wrappers'\n",
      "isinterestedin - graduatedfrom\n",
      "[Errno 2] No such file or directory: '/home/joschout/Documents/Repos/KUL-PUL/data/artificial_bias_experiments/noisy_prop_scores/sar_two_subject_groups/yago3_10/isinterestedin/graduatedfrom/not_pca/s_prop0.5_ns_prop0.7/rule_wrappers'\n",
      "isinterestedin - influences\n",
      "[Errno 2] No such file or directory: '/home/joschout/Documents/Repos/KUL-PUL/data/artificial_bias_experiments/noisy_prop_scores/sar_two_subject_groups/yago3_10/isinterestedin/influences/not_pca/s_prop0.5_ns_prop0.7/rule_wrappers'\n",
      "diedin - haswonprize\n",
      "[Errno 2] No such file or directory: '/home/joschout/Documents/Repos/KUL-PUL/data/artificial_bias_experiments/noisy_prop_scores/sar_two_subject_groups/yago3_10/diedin/haswonprize/not_pca/s_prop0.5_ns_prop0.7/rule_wrappers'\n",
      "diedin - iscitizenof\n",
      "[Errno 2] No such file or directory: '/home/joschout/Documents/Repos/KUL-PUL/data/artificial_bias_experiments/noisy_prop_scores/sar_two_subject_groups/yago3_10/diedin/iscitizenof/not_pca/s_prop0.5_ns_prop0.7/rule_wrappers'\n",
      "diedin - wasbornin\n",
      "[Errno 2] No such file or directory: '/home/joschout/Documents/Repos/KUL-PUL/data/artificial_bias_experiments/noisy_prop_scores/sar_two_subject_groups/yago3_10/diedin/wasbornin/not_pca/s_prop0.5_ns_prop0.7/rule_wrappers'\n",
      "diedin - graduatedfrom\n",
      "[Errno 2] No such file or directory: '/home/joschout/Documents/Repos/KUL-PUL/data/artificial_bias_experiments/noisy_prop_scores/sar_two_subject_groups/yago3_10/diedin/graduatedfrom/not_pca/s_prop0.5_ns_prop0.7/rule_wrappers'\n",
      "diedin - isaffiliatedto\n",
      "diedin - actedin\n",
      "[Errno 2] No such file or directory: '/home/joschout/Documents/Repos/KUL-PUL/data/artificial_bias_experiments/noisy_prop_scores/sar_two_subject_groups/yago3_10/diedin/actedin/not_pca/s_prop0.5_ns_prop0.7/rule_wrappers'\n",
      "diedin - influences\n",
      "[Errno 2] No such file or directory: '/home/joschout/Documents/Repos/KUL-PUL/data/artificial_bias_experiments/noisy_prop_scores/sar_two_subject_groups/yago3_10/diedin/influences/not_pca/s_prop0.5_ns_prop0.7/rule_wrappers'\n",
      "diedin - haschild\n",
      "[Errno 2] No such file or directory: '/home/joschout/Documents/Repos/KUL-PUL/data/artificial_bias_experiments/noisy_prop_scores/sar_two_subject_groups/yago3_10/diedin/haschild/not_pca/s_prop0.5_ns_prop0.7/rule_wrappers'\n",
      "diedin - playsfor\n",
      "[Errno 2] No such file or directory: '/home/joschout/Documents/Repos/KUL-PUL/data/artificial_bias_experiments/noisy_prop_scores/sar_two_subject_groups/yago3_10/diedin/playsfor/not_pca/s_prop0.5_ns_prop0.7/rule_wrappers'\n",
      "diedin - ismarriedto\n",
      "[Errno 2] No such file or directory: '/home/joschout/Documents/Repos/KUL-PUL/data/artificial_bias_experiments/noisy_prop_scores/sar_two_subject_groups/yago3_10/diedin/ismarriedto/not_pca/s_prop0.5_ns_prop0.7/rule_wrappers'\n",
      "wrotemusicfor - haswonprize\n",
      "[Errno 2] No such file or directory: '/home/joschout/Documents/Repos/KUL-PUL/data/artificial_bias_experiments/noisy_prop_scores/sar_two_subject_groups/yago3_10/wrotemusicfor/haswonprize/not_pca/s_prop0.5_ns_prop0.7/rule_wrappers'\n",
      "wrotemusicfor - diedin\n",
      "[Errno 2] No such file or directory: '/home/joschout/Documents/Repos/KUL-PUL/data/artificial_bias_experiments/noisy_prop_scores/sar_two_subject_groups/yago3_10/wrotemusicfor/diedin/not_pca/s_prop0.5_ns_prop0.7/rule_wrappers'\n",
      "wrotemusicfor - wasbornin\n",
      "[Errno 2] No such file or directory: '/home/joschout/Documents/Repos/KUL-PUL/data/artificial_bias_experiments/noisy_prop_scores/sar_two_subject_groups/yago3_10/wrotemusicfor/wasbornin/not_pca/s_prop0.5_ns_prop0.7/rule_wrappers'\n",
      "wrotemusicfor - created\n",
      "[Errno 2] No such file or directory: '/home/joschout/Documents/Repos/KUL-PUL/data/artificial_bias_experiments/noisy_prop_scores/sar_two_subject_groups/yago3_10/wrotemusicfor/created/not_pca/s_prop0.5_ns_prop0.7/rule_wrappers'\n",
      "wrotemusicfor - hasmusicalrole\n",
      "[Errno 2] No such file or directory: '/home/joschout/Documents/Repos/KUL-PUL/data/artificial_bias_experiments/noisy_prop_scores/sar_two_subject_groups/yago3_10/wrotemusicfor/hasmusicalrole/not_pca/s_prop0.5_ns_prop0.7/rule_wrappers'\n",
      "owns - participatedin\n",
      "owns - hascapital\n",
      "[Errno 2] No such file or directory: '/home/joschout/Documents/Repos/KUL-PUL/data/artificial_bias_experiments/noisy_prop_scores/sar_two_subject_groups/yago3_10/owns/hascapital/not_pca/s_prop0.5_ns_prop0.7/rule_wrappers'\n",
      "owns - wasbornin\n",
      "[Errno 2] No such file or directory: '/home/joschout/Documents/Repos/KUL-PUL/data/artificial_bias_experiments/noisy_prop_scores/sar_two_subject_groups/yago3_10/owns/wasbornin/not_pca/s_prop0.5_ns_prop0.7/rule_wrappers'\n",
      "owns - hasgender\n",
      "[Errno 2] No such file or directory: '/home/joschout/Documents/Repos/KUL-PUL/data/artificial_bias_experiments/noisy_prop_scores/sar_two_subject_groups/yago3_10/owns/hasgender/not_pca/s_prop0.5_ns_prop0.7/rule_wrappers'\n",
      "owns - islocatedin\n",
      "[Errno 2] No such file or directory: '/home/joschout/Documents/Repos/KUL-PUL/data/artificial_bias_experiments/noisy_prop_scores/sar_two_subject_groups/yago3_10/owns/islocatedin/not_pca/s_prop0.5_ns_prop0.7/rule_wrappers'\n",
      "hascapital - participatedin\n",
      "[Errno 2] No such file or directory: '/home/joschout/Documents/Repos/KUL-PUL/data/artificial_bias_experiments/noisy_prop_scores/sar_two_subject_groups/yago3_10/hascapital/participatedin/not_pca/s_prop0.5_ns_prop0.7/rule_wrappers'\n",
      "hasofficiallanguage - participatedin\n",
      "hasofficiallanguage - hascurrency\n",
      "[Errno 2] No such file or directory: '/home/joschout/Documents/Repos/KUL-PUL/data/artificial_bias_experiments/noisy_prop_scores/sar_two_subject_groups/yago3_10/hasofficiallanguage/hascurrency/not_pca/s_prop0.5_ns_prop0.7/rule_wrappers'\n",
      "hasofficiallanguage - hasneighbor\n",
      "[Errno 2] No such file or directory: '/home/joschout/Documents/Repos/KUL-PUL/data/artificial_bias_experiments/noisy_prop_scores/sar_two_subject_groups/yago3_10/hasofficiallanguage/hasneighbor/not_pca/s_prop0.5_ns_prop0.7/rule_wrappers'\n",
      "hasofficiallanguage - hascapital\n",
      "hasofficiallanguage - imports\n",
      "hasofficiallanguage - exports\n",
      "hasofficiallanguage - dealswith\n",
      "edited - directed\n",
      "[Errno 2] No such file or directory: '/home/joschout/Documents/Repos/KUL-PUL/data/artificial_bias_experiments/noisy_prop_scores/sar_two_subject_groups/yago3_10/edited/directed/not_pca/s_prop0.5_ns_prop0.7/rule_wrappers'\n",
      "edited - haswonprize\n",
      "[Errno 2] No such file or directory: '/home/joschout/Documents/Repos/KUL-PUL/data/artificial_bias_experiments/noisy_prop_scores/sar_two_subject_groups/yago3_10/edited/haswonprize/not_pca/s_prop0.5_ns_prop0.7/rule_wrappers'\n",
      "edited - diedin\n",
      "[Errno 2] No such file or directory: '/home/joschout/Documents/Repos/KUL-PUL/data/artificial_bias_experiments/noisy_prop_scores/sar_two_subject_groups/yago3_10/edited/diedin/not_pca/s_prop0.5_ns_prop0.7/rule_wrappers'\n",
      "edited - wasbornin\n",
      "[Errno 2] No such file or directory: '/home/joschout/Documents/Repos/KUL-PUL/data/artificial_bias_experiments/noisy_prop_scores/sar_two_subject_groups/yago3_10/edited/wasbornin/not_pca/s_prop0.5_ns_prop0.7/rule_wrappers'\n",
      "livesin - haswonprize\n",
      "[Errno 2] No such file or directory: '/home/joschout/Documents/Repos/KUL-PUL/data/artificial_bias_experiments/noisy_prop_scores/sar_two_subject_groups/yago3_10/livesin/haswonprize/not_pca/s_prop0.5_ns_prop0.7/rule_wrappers'\n",
      "livesin - iscitizenof\n",
      "[Errno 2] No such file or directory: '/home/joschout/Documents/Repos/KUL-PUL/data/artificial_bias_experiments/noisy_prop_scores/sar_two_subject_groups/yago3_10/livesin/iscitizenof/not_pca/s_prop0.5_ns_prop0.7/rule_wrappers'\n",
      "livesin - diedin\n",
      "[Errno 2] No such file or directory: '/home/joschout/Documents/Repos/KUL-PUL/data/artificial_bias_experiments/noisy_prop_scores/sar_two_subject_groups/yago3_10/livesin/diedin/not_pca/s_prop0.5_ns_prop0.7/rule_wrappers'\n",
      "livesin - wasbornin\n",
      "[Errno 2] No such file or directory: '/home/joschout/Documents/Repos/KUL-PUL/data/artificial_bias_experiments/noisy_prop_scores/sar_two_subject_groups/yago3_10/livesin/wasbornin/not_pca/s_prop0.5_ns_prop0.7/rule_wrappers'\n",
      "livesin - graduatedfrom\n",
      "livesin - ispoliticianof\n",
      "[Errno 2] No such file or directory: '/home/joschout/Documents/Repos/KUL-PUL/data/artificial_bias_experiments/noisy_prop_scores/sar_two_subject_groups/yago3_10/livesin/ispoliticianof/not_pca/s_prop0.5_ns_prop0.7/rule_wrappers'\n",
      "livesin - isaffiliatedto\n",
      "[Errno 2] No such file or directory: '/home/joschout/Documents/Repos/KUL-PUL/data/artificial_bias_experiments/noisy_prop_scores/sar_two_subject_groups/yago3_10/livesin/isaffiliatedto/not_pca/s_prop0.5_ns_prop0.7/rule_wrappers'\n",
      "livesin - worksat\n",
      "[Errno 2] No such file or directory: '/home/joschout/Documents/Repos/KUL-PUL/data/artificial_bias_experiments/noisy_prop_scores/sar_two_subject_groups/yago3_10/livesin/worksat/not_pca/s_prop0.5_ns_prop0.7/rule_wrappers'\n",
      "livesin - actedin\n",
      "livesin - hasacademicadvisor\n",
      "livesin - ismarriedto\n",
      "[Errno 2] No such file or directory: '/home/joschout/Documents/Repos/KUL-PUL/data/artificial_bias_experiments/noisy_prop_scores/sar_two_subject_groups/yago3_10/livesin/ismarriedto/not_pca/s_prop0.5_ns_prop0.7/rule_wrappers'\n",
      "wasbornin - haswonprize\n",
      "[Errno 2] No such file or directory: '/home/joschout/Documents/Repos/KUL-PUL/data/artificial_bias_experiments/noisy_prop_scores/sar_two_subject_groups/yago3_10/wasbornin/haswonprize/not_pca/s_prop0.5_ns_prop0.7/rule_wrappers'\n",
      "wasbornin - diedin\n",
      "[Errno 2] No such file or directory: '/home/joschout/Documents/Repos/KUL-PUL/data/artificial_bias_experiments/noisy_prop_scores/sar_two_subject_groups/yago3_10/wasbornin/diedin/not_pca/s_prop0.5_ns_prop0.7/rule_wrappers'\n",
      "wasbornin - isaffiliatedto\n",
      "[Errno 2] No such file or directory: '/home/joschout/Documents/Repos/KUL-PUL/data/artificial_bias_experiments/noisy_prop_scores/sar_two_subject_groups/yago3_10/wasbornin/isaffiliatedto/not_pca/s_prop0.5_ns_prop0.7/rule_wrappers'\n",
      "wasbornin - playsfor\n",
      "isleaderof - haswonprize\n",
      "[Errno 2] No such file or directory: '/home/joschout/Documents/Repos/KUL-PUL/data/artificial_bias_experiments/noisy_prop_scores/sar_two_subject_groups/yago3_10/isleaderof/haswonprize/not_pca/s_prop0.5_ns_prop0.7/rule_wrappers'\n",
      "isleaderof - iscitizenof\n",
      "[Errno 2] No such file or directory: '/home/joschout/Documents/Repos/KUL-PUL/data/artificial_bias_experiments/noisy_prop_scores/sar_two_subject_groups/yago3_10/isleaderof/iscitizenof/not_pca/s_prop0.5_ns_prop0.7/rule_wrappers'\n",
      "isleaderof - diedin\n",
      "[Errno 2] No such file or directory: '/home/joschout/Documents/Repos/KUL-PUL/data/artificial_bias_experiments/noisy_prop_scores/sar_two_subject_groups/yago3_10/isleaderof/diedin/not_pca/s_prop0.5_ns_prop0.7/rule_wrappers'\n",
      "isleaderof - livesin\n",
      "[Errno 2] No such file or directory: '/home/joschout/Documents/Repos/KUL-PUL/data/artificial_bias_experiments/noisy_prop_scores/sar_two_subject_groups/yago3_10/isleaderof/livesin/not_pca/s_prop0.5_ns_prop0.7/rule_wrappers'\n",
      "isleaderof - wasbornin\n",
      "[Errno 2] No such file or directory: '/home/joschout/Documents/Repos/KUL-PUL/data/artificial_bias_experiments/noisy_prop_scores/sar_two_subject_groups/yago3_10/isleaderof/wasbornin/not_pca/s_prop0.5_ns_prop0.7/rule_wrappers'\n",
      "isleaderof - graduatedfrom\n",
      "[Errno 2] No such file or directory: '/home/joschout/Documents/Repos/KUL-PUL/data/artificial_bias_experiments/noisy_prop_scores/sar_two_subject_groups/yago3_10/isleaderof/graduatedfrom/not_pca/s_prop0.5_ns_prop0.7/rule_wrappers'\n",
      "isleaderof - ispoliticianof\n",
      "[Errno 2] No such file or directory: '/home/joschout/Documents/Repos/KUL-PUL/data/artificial_bias_experiments/noisy_prop_scores/sar_two_subject_groups/yago3_10/isleaderof/ispoliticianof/not_pca/s_prop0.5_ns_prop0.7/rule_wrappers'\n",
      "isleaderof - isaffiliatedto\n",
      "isleaderof - haschild\n",
      "[Errno 2] No such file or directory: '/home/joschout/Documents/Repos/KUL-PUL/data/artificial_bias_experiments/noisy_prop_scores/sar_two_subject_groups/yago3_10/isleaderof/haschild/not_pca/s_prop0.5_ns_prop0.7/rule_wrappers'\n",
      "graduatedfrom - haswonprize\n",
      "[Errno 2] No such file or directory: '/home/joschout/Documents/Repos/KUL-PUL/data/artificial_bias_experiments/noisy_prop_scores/sar_two_subject_groups/yago3_10/graduatedfrom/haswonprize/not_pca/s_prop0.5_ns_prop0.7/rule_wrappers'\n",
      "graduatedfrom - iscitizenof\n",
      "[Errno 2] No such file or directory: '/home/joschout/Documents/Repos/KUL-PUL/data/artificial_bias_experiments/noisy_prop_scores/sar_two_subject_groups/yago3_10/graduatedfrom/iscitizenof/not_pca/s_prop0.5_ns_prop0.7/rule_wrappers'\n",
      "graduatedfrom - diedin\n",
      "[Errno 2] No such file or directory: '/home/joschout/Documents/Repos/KUL-PUL/data/artificial_bias_experiments/noisy_prop_scores/sar_two_subject_groups/yago3_10/graduatedfrom/diedin/not_pca/s_prop0.5_ns_prop0.7/rule_wrappers'\n",
      "graduatedfrom - livesin\n",
      "[Errno 2] No such file or directory: '/home/joschout/Documents/Repos/KUL-PUL/data/artificial_bias_experiments/noisy_prop_scores/sar_two_subject_groups/yago3_10/graduatedfrom/livesin/not_pca/s_prop0.5_ns_prop0.7/rule_wrappers'\n",
      "graduatedfrom - wasbornin\n",
      "[Errno 2] No such file or directory: '/home/joschout/Documents/Repos/KUL-PUL/data/artificial_bias_experiments/noisy_prop_scores/sar_two_subject_groups/yago3_10/graduatedfrom/wasbornin/not_pca/s_prop0.5_ns_prop0.7/rule_wrappers'\n",
      "graduatedfrom - ispoliticianof\n",
      "[Errno 2] No such file or directory: '/home/joschout/Documents/Repos/KUL-PUL/data/artificial_bias_experiments/noisy_prop_scores/sar_two_subject_groups/yago3_10/graduatedfrom/ispoliticianof/not_pca/s_prop0.5_ns_prop0.7/rule_wrappers'\n",
      "graduatedfrom - isaffiliatedto\n",
      "graduatedfrom - worksat\n",
      "[Errno 2] No such file or directory: '/home/joschout/Documents/Repos/KUL-PUL/data/artificial_bias_experiments/noisy_prop_scores/sar_two_subject_groups/yago3_10/graduatedfrom/worksat/not_pca/s_prop0.5_ns_prop0.7/rule_wrappers'\n",
      "graduatedfrom - actedin\n",
      "[Errno 2] No such file or directory: '/home/joschout/Documents/Repos/KUL-PUL/data/artificial_bias_experiments/noisy_prop_scores/sar_two_subject_groups/yago3_10/graduatedfrom/actedin/not_pca/s_prop0.5_ns_prop0.7/rule_wrappers'\n",
      "graduatedfrom - hasacademicadvisor\n",
      "[Errno 2] No such file or directory: '/home/joschout/Documents/Repos/KUL-PUL/data/artificial_bias_experiments/noisy_prop_scores/sar_two_subject_groups/yago3_10/graduatedfrom/hasacademicadvisor/not_pca/s_prop0.5_ns_prop0.7/rule_wrappers'\n",
      "graduatedfrom - influences\n",
      "[Errno 2] No such file or directory: '/home/joschout/Documents/Repos/KUL-PUL/data/artificial_bias_experiments/noisy_prop_scores/sar_two_subject_groups/yago3_10/graduatedfrom/influences/not_pca/s_prop0.5_ns_prop0.7/rule_wrappers'\n",
      "graduatedfrom - haschild\n",
      "[Errno 2] No such file or directory: '/home/joschout/Documents/Repos/KUL-PUL/data/artificial_bias_experiments/noisy_prop_scores/sar_two_subject_groups/yago3_10/graduatedfrom/haschild/not_pca/s_prop0.5_ns_prop0.7/rule_wrappers'\n",
      "created - directed\n",
      "[Errno 2] No such file or directory: '/home/joschout/Documents/Repos/KUL-PUL/data/artificial_bias_experiments/noisy_prop_scores/sar_two_subject_groups/yago3_10/created/directed/not_pca/s_prop0.5_ns_prop0.7/rule_wrappers'\n",
      "created - haswonprize\n",
      "created - diedin\n",
      "[Errno 2] No such file or directory: '/home/joschout/Documents/Repos/KUL-PUL/data/artificial_bias_experiments/noisy_prop_scores/sar_two_subject_groups/yago3_10/created/diedin/not_pca/s_prop0.5_ns_prop0.7/rule_wrappers'\n",
      "created - wrotemusicfor\n",
      "[Errno 2] No such file or directory: '/home/joschout/Documents/Repos/KUL-PUL/data/artificial_bias_experiments/noisy_prop_scores/sar_two_subject_groups/yago3_10/created/wrotemusicfor/not_pca/s_prop0.5_ns_prop0.7/rule_wrappers'\n",
      "created - wasbornin\n",
      "[Errno 2] No such file or directory: '/home/joschout/Documents/Repos/KUL-PUL/data/artificial_bias_experiments/noisy_prop_scores/sar_two_subject_groups/yago3_10/created/wasbornin/not_pca/s_prop0.5_ns_prop0.7/rule_wrappers'\n",
      "created - graduatedfrom\n",
      "created - actedin\n",
      "[Errno 2] No such file or directory: '/home/joschout/Documents/Repos/KUL-PUL/data/artificial_bias_experiments/noisy_prop_scores/sar_two_subject_groups/yago3_10/created/actedin/not_pca/s_prop0.5_ns_prop0.7/rule_wrappers'\n",
      "created - influences\n",
      "[Errno 2] No such file or directory: '/home/joschout/Documents/Repos/KUL-PUL/data/artificial_bias_experiments/noisy_prop_scores/sar_two_subject_groups/yago3_10/created/influences/not_pca/s_prop0.5_ns_prop0.7/rule_wrappers'\n",
      "hasmusicalrole - haswonprize\n",
      "[Errno 2] No such file or directory: '/home/joschout/Documents/Repos/KUL-PUL/data/artificial_bias_experiments/noisy_prop_scores/sar_two_subject_groups/yago3_10/hasmusicalrole/haswonprize/not_pca/s_prop0.5_ns_prop0.7/rule_wrappers'\n",
      "hasmusicalrole - diedin\n",
      "[Errno 2] No such file or directory: '/home/joschout/Documents/Repos/KUL-PUL/data/artificial_bias_experiments/noisy_prop_scores/sar_two_subject_groups/yago3_10/hasmusicalrole/diedin/not_pca/s_prop0.5_ns_prop0.7/rule_wrappers'\n",
      "hasmusicalrole - wrotemusicfor\n",
      "[Errno 2] No such file or directory: '/home/joschout/Documents/Repos/KUL-PUL/data/artificial_bias_experiments/noisy_prop_scores/sar_two_subject_groups/yago3_10/hasmusicalrole/wrotemusicfor/not_pca/s_prop0.5_ns_prop0.7/rule_wrappers'\n",
      "hasmusicalrole - wasbornin\n",
      "[Errno 2] No such file or directory: '/home/joschout/Documents/Repos/KUL-PUL/data/artificial_bias_experiments/noisy_prop_scores/sar_two_subject_groups/yago3_10/hasmusicalrole/wasbornin/not_pca/s_prop0.5_ns_prop0.7/rule_wrappers'\n",
      "hasgender - haswonprize\n",
      "[Errno 2] No such file or directory: '/home/joschout/Documents/Repos/KUL-PUL/data/artificial_bias_experiments/noisy_prop_scores/sar_two_subject_groups/yago3_10/hasgender/haswonprize/not_pca/s_prop0.5_ns_prop0.7/rule_wrappers'\n",
      "hasgender - diedin\n",
      "[Errno 2] No such file or directory: '/home/joschout/Documents/Repos/KUL-PUL/data/artificial_bias_experiments/noisy_prop_scores/sar_two_subject_groups/yago3_10/hasgender/diedin/not_pca/s_prop0.5_ns_prop0.7/rule_wrappers'\n",
      "hasgender - wasbornin\n",
      "[Errno 2] No such file or directory: '/home/joschout/Documents/Repos/KUL-PUL/data/artificial_bias_experiments/noisy_prop_scores/sar_two_subject_groups/yago3_10/hasgender/wasbornin/not_pca/s_prop0.5_ns_prop0.7/rule_wrappers'\n",
      "hasgender - isaffiliatedto\n",
      "hasgender - playsfor\n",
      "[Errno 2] No such file or directory: '/home/joschout/Documents/Repos/KUL-PUL/data/artificial_bias_experiments/noisy_prop_scores/sar_two_subject_groups/yago3_10/hasgender/playsfor/not_pca/s_prop0.5_ns_prop0.7/rule_wrappers'\n",
      "haswebsite - islocatedin\n",
      "[Errno 2] No such file or directory: '/home/joschout/Documents/Repos/KUL-PUL/data/artificial_bias_experiments/noisy_prop_scores/sar_two_subject_groups/yago3_10/haswebsite/islocatedin/not_pca/s_prop0.5_ns_prop0.7/rule_wrappers'\n",
      "imports - participatedin\n",
      "imports - hascurrency\n",
      "imports - hasneighbor\n",
      "[Errno 2] No such file or directory: '/home/joschout/Documents/Repos/KUL-PUL/data/artificial_bias_experiments/noisy_prop_scores/sar_two_subject_groups/yago3_10/imports/hasneighbor/not_pca/s_prop0.5_ns_prop0.7/rule_wrappers'\n",
      "imports - owns\n",
      "imports - hascapital\n",
      "[Errno 2] No such file or directory: '/home/joschout/Documents/Repos/KUL-PUL/data/artificial_bias_experiments/noisy_prop_scores/sar_two_subject_groups/yago3_10/imports/hascapital/not_pca/s_prop0.5_ns_prop0.7/rule_wrappers'\n",
      "imports - hasofficiallanguage\n",
      "[Errno 2] No such file or directory: '/home/joschout/Documents/Repos/KUL-PUL/data/artificial_bias_experiments/noisy_prop_scores/sar_two_subject_groups/yago3_10/imports/hasofficiallanguage/not_pca/s_prop0.5_ns_prop0.7/rule_wrappers'\n",
      "imports - exports\n",
      "[Errno 2] No such file or directory: '/home/joschout/Documents/Repos/KUL-PUL/data/artificial_bias_experiments/noisy_prop_scores/sar_two_subject_groups/yago3_10/imports/exports/not_pca/s_prop0.5_ns_prop0.7/rule_wrappers'\n",
      "ispoliticianof - haswonprize\n",
      "ispoliticianof - iscitizenof\n",
      "[Errno 2] No such file or directory: '/home/joschout/Documents/Repos/KUL-PUL/data/artificial_bias_experiments/noisy_prop_scores/sar_two_subject_groups/yago3_10/ispoliticianof/iscitizenof/not_pca/s_prop0.5_ns_prop0.7/rule_wrappers'\n",
      "ispoliticianof - diedin\n",
      "[Errno 2] No such file or directory: '/home/joschout/Documents/Repos/KUL-PUL/data/artificial_bias_experiments/noisy_prop_scores/sar_two_subject_groups/yago3_10/ispoliticianof/diedin/not_pca/s_prop0.5_ns_prop0.7/rule_wrappers'\n",
      "ispoliticianof - livesin\n",
      "[Errno 2] No such file or directory: '/home/joschout/Documents/Repos/KUL-PUL/data/artificial_bias_experiments/noisy_prop_scores/sar_two_subject_groups/yago3_10/ispoliticianof/livesin/not_pca/s_prop0.5_ns_prop0.7/rule_wrappers'\n",
      "ispoliticianof - wasbornin\n",
      "[Errno 2] No such file or directory: '/home/joschout/Documents/Repos/KUL-PUL/data/artificial_bias_experiments/noisy_prop_scores/sar_two_subject_groups/yago3_10/ispoliticianof/wasbornin/not_pca/s_prop0.5_ns_prop0.7/rule_wrappers'\n",
      "ispoliticianof - isleaderof\n",
      "[Errno 2] No such file or directory: '/home/joschout/Documents/Repos/KUL-PUL/data/artificial_bias_experiments/noisy_prop_scores/sar_two_subject_groups/yago3_10/ispoliticianof/isleaderof/not_pca/s_prop0.5_ns_prop0.7/rule_wrappers'\n",
      "ispoliticianof - graduatedfrom\n",
      "ispoliticianof - isaffiliatedto\n",
      "ispoliticianof - haschild\n",
      "isaffiliatedto - wasbornin\n",
      "isaffiliatedto - hasgender\n",
      "[Errno 2] No such file or directory: '/home/joschout/Documents/Repos/KUL-PUL/data/artificial_bias_experiments/noisy_prop_scores/sar_two_subject_groups/yago3_10/isaffiliatedto/hasgender/not_pca/s_prop0.5_ns_prop0.7/rule_wrappers'\n",
      "isaffiliatedto - playsfor\n",
      "[Errno 2] No such file or directory: '/home/joschout/Documents/Repos/KUL-PUL/data/artificial_bias_experiments/noisy_prop_scores/sar_two_subject_groups/yago3_10/isaffiliatedto/playsfor/not_pca/s_prop0.5_ns_prop0.7/rule_wrappers'\n",
      "exports - participatedin\n",
      "exports - hascurrency\n",
      "exports - hasneighbor\n",
      "[Errno 2] No such file or directory: '/home/joschout/Documents/Repos/KUL-PUL/data/artificial_bias_experiments/noisy_prop_scores/sar_two_subject_groups/yago3_10/exports/hasneighbor/not_pca/s_prop0.5_ns_prop0.7/rule_wrappers'\n",
      "exports - owns\n",
      "exports - hascapital\n",
      "exports - hasofficiallanguage\n",
      "[Errno 2] No such file or directory: '/home/joschout/Documents/Repos/KUL-PUL/data/artificial_bias_experiments/noisy_prop_scores/sar_two_subject_groups/yago3_10/exports/hasofficiallanguage/not_pca/s_prop0.5_ns_prop0.7/rule_wrappers'\n",
      "worksat - haswonprize\n",
      "[Errno 2] No such file or directory: '/home/joschout/Documents/Repos/KUL-PUL/data/artificial_bias_experiments/noisy_prop_scores/sar_two_subject_groups/yago3_10/worksat/haswonprize/not_pca/s_prop0.5_ns_prop0.7/rule_wrappers'\n",
      "worksat - iscitizenof\n",
      "[Errno 2] No such file or directory: '/home/joschout/Documents/Repos/KUL-PUL/data/artificial_bias_experiments/noisy_prop_scores/sar_two_subject_groups/yago3_10/worksat/iscitizenof/not_pca/s_prop0.5_ns_prop0.7/rule_wrappers'\n",
      "worksat - diedin\n",
      "[Errno 2] No such file or directory: '/home/joschout/Documents/Repos/KUL-PUL/data/artificial_bias_experiments/noisy_prop_scores/sar_two_subject_groups/yago3_10/worksat/diedin/not_pca/s_prop0.5_ns_prop0.7/rule_wrappers'\n",
      "worksat - livesin\n",
      "[Errno 2] No such file or directory: '/home/joschout/Documents/Repos/KUL-PUL/data/artificial_bias_experiments/noisy_prop_scores/sar_two_subject_groups/yago3_10/worksat/livesin/not_pca/s_prop0.5_ns_prop0.7/rule_wrappers'\n",
      "worksat - wasbornin\n",
      "[Errno 2] No such file or directory: '/home/joschout/Documents/Repos/KUL-PUL/data/artificial_bias_experiments/noisy_prop_scores/sar_two_subject_groups/yago3_10/worksat/wasbornin/not_pca/s_prop0.5_ns_prop0.7/rule_wrappers'\n",
      "worksat - hasacademicadvisor\n",
      "[Errno 2] No such file or directory: '/home/joschout/Documents/Repos/KUL-PUL/data/artificial_bias_experiments/noisy_prop_scores/sar_two_subject_groups/yago3_10/worksat/hasacademicadvisor/not_pca/s_prop0.5_ns_prop0.7/rule_wrappers'\n",
      "worksat - influences\n",
      "[Errno 2] No such file or directory: '/home/joschout/Documents/Repos/KUL-PUL/data/artificial_bias_experiments/noisy_prop_scores/sar_two_subject_groups/yago3_10/worksat/influences/not_pca/s_prop0.5_ns_prop0.7/rule_wrappers'\n",
      "dealswith - participatedin\n",
      "[Errno 2] No such file or directory: '/home/joschout/Documents/Repos/KUL-PUL/data/artificial_bias_experiments/noisy_prop_scores/sar_two_subject_groups/yago3_10/dealswith/participatedin/not_pca/s_prop0.5_ns_prop0.7/rule_wrappers'\n",
      "dealswith - hascurrency\n",
      "[Errno 2] No such file or directory: '/home/joschout/Documents/Repos/KUL-PUL/data/artificial_bias_experiments/noisy_prop_scores/sar_two_subject_groups/yago3_10/dealswith/hascurrency/not_pca/s_prop0.5_ns_prop0.7/rule_wrappers'\n",
      "dealswith - hasneighbor\n",
      "[Errno 2] No such file or directory: '/home/joschout/Documents/Repos/KUL-PUL/data/artificial_bias_experiments/noisy_prop_scores/sar_two_subject_groups/yago3_10/dealswith/hasneighbor/not_pca/s_prop0.5_ns_prop0.7/rule_wrappers'\n",
      "dealswith - owns\n",
      "[Errno 2] No such file or directory: '/home/joschout/Documents/Repos/KUL-PUL/data/artificial_bias_experiments/noisy_prop_scores/sar_two_subject_groups/yago3_10/dealswith/owns/not_pca/s_prop0.5_ns_prop0.7/rule_wrappers'\n",
      "dealswith - hascapital\n",
      "[Errno 2] No such file or directory: '/home/joschout/Documents/Repos/KUL-PUL/data/artificial_bias_experiments/noisy_prop_scores/sar_two_subject_groups/yago3_10/dealswith/hascapital/not_pca/s_prop0.5_ns_prop0.7/rule_wrappers'\n",
      "dealswith - hasofficiallanguage\n",
      "[Errno 2] No such file or directory: '/home/joschout/Documents/Repos/KUL-PUL/data/artificial_bias_experiments/noisy_prop_scores/sar_two_subject_groups/yago3_10/dealswith/hasofficiallanguage/not_pca/s_prop0.5_ns_prop0.7/rule_wrappers'\n",
      "dealswith - imports\n",
      "dealswith - exports\n",
      "isconnectedto - islocatedin\n",
      "[Errno 2] No such file or directory: '/home/joschout/Documents/Repos/KUL-PUL/data/artificial_bias_experiments/noisy_prop_scores/sar_two_subject_groups/yago3_10/isconnectedto/islocatedin/not_pca/s_prop0.5_ns_prop0.7/rule_wrappers'\n",
      "happenedin - islocatedin\n",
      "actedin - haswonprize\n",
      "[Errno 2] No such file or directory: '/home/joschout/Documents/Repos/KUL-PUL/data/artificial_bias_experiments/noisy_prop_scores/sar_two_subject_groups/yago3_10/actedin/haswonprize/not_pca/s_prop0.5_ns_prop0.7/rule_wrappers'\n",
      "actedin - diedin\n",
      "[Errno 2] No such file or directory: '/home/joschout/Documents/Repos/KUL-PUL/data/artificial_bias_experiments/noisy_prop_scores/sar_two_subject_groups/yago3_10/actedin/diedin/not_pca/s_prop0.5_ns_prop0.7/rule_wrappers'\n",
      "actedin - wasbornin\n",
      "[Errno 2] No such file or directory: '/home/joschout/Documents/Repos/KUL-PUL/data/artificial_bias_experiments/noisy_prop_scores/sar_two_subject_groups/yago3_10/actedin/wasbornin/not_pca/s_prop0.5_ns_prop0.7/rule_wrappers'\n",
      "actedin - ismarriedto\n",
      "[Errno 2] No such file or directory: '/home/joschout/Documents/Repos/KUL-PUL/data/artificial_bias_experiments/noisy_prop_scores/sar_two_subject_groups/yago3_10/actedin/ismarriedto/not_pca/s_prop0.5_ns_prop0.7/rule_wrappers'\n",
      "hasacademicadvisor - haswonprize\n",
      "[Errno 2] No such file or directory: '/home/joschout/Documents/Repos/KUL-PUL/data/artificial_bias_experiments/noisy_prop_scores/sar_two_subject_groups/yago3_10/hasacademicadvisor/haswonprize/not_pca/s_prop0.5_ns_prop0.7/rule_wrappers'\n",
      "hasacademicadvisor - iscitizenof\n",
      "[Errno 2] No such file or directory: '/home/joschout/Documents/Repos/KUL-PUL/data/artificial_bias_experiments/noisy_prop_scores/sar_two_subject_groups/yago3_10/hasacademicadvisor/iscitizenof/not_pca/s_prop0.5_ns_prop0.7/rule_wrappers'\n",
      "hasacademicadvisor - diedin\n",
      "[Errno 2] No such file or directory: '/home/joschout/Documents/Repos/KUL-PUL/data/artificial_bias_experiments/noisy_prop_scores/sar_two_subject_groups/yago3_10/hasacademicadvisor/diedin/not_pca/s_prop0.5_ns_prop0.7/rule_wrappers'\n",
      "hasacademicadvisor - livesin\n",
      "[Errno 2] No such file or directory: '/home/joschout/Documents/Repos/KUL-PUL/data/artificial_bias_experiments/noisy_prop_scores/sar_two_subject_groups/yago3_10/hasacademicadvisor/livesin/not_pca/s_prop0.5_ns_prop0.7/rule_wrappers'\n",
      "hasacademicadvisor - wasbornin\n",
      "[Errno 2] No such file or directory: '/home/joschout/Documents/Repos/KUL-PUL/data/artificial_bias_experiments/noisy_prop_scores/sar_two_subject_groups/yago3_10/hasacademicadvisor/wasbornin/not_pca/s_prop0.5_ns_prop0.7/rule_wrappers'\n",
      "hasacademicadvisor - graduatedfrom\n",
      "[Errno 2] No such file or directory: '/home/joschout/Documents/Repos/KUL-PUL/data/artificial_bias_experiments/noisy_prop_scores/sar_two_subject_groups/yago3_10/hasacademicadvisor/graduatedfrom/not_pca/s_prop0.5_ns_prop0.7/rule_wrappers'\n",
      "hasacademicadvisor - worksat\n",
      "[Errno 2] No such file or directory: '/home/joschout/Documents/Repos/KUL-PUL/data/artificial_bias_experiments/noisy_prop_scores/sar_two_subject_groups/yago3_10/hasacademicadvisor/worksat/not_pca/s_prop0.5_ns_prop0.7/rule_wrappers'\n",
      "hasacademicadvisor - influences\n",
      "[Errno 2] No such file or directory: '/home/joschout/Documents/Repos/KUL-PUL/data/artificial_bias_experiments/noisy_prop_scores/sar_two_subject_groups/yago3_10/hasacademicadvisor/influences/not_pca/s_prop0.5_ns_prop0.7/rule_wrappers'\n",
      "influences - haswonprize\n",
      "[Errno 2] No such file or directory: '/home/joschout/Documents/Repos/KUL-PUL/data/artificial_bias_experiments/noisy_prop_scores/sar_two_subject_groups/yago3_10/influences/haswonprize/not_pca/s_prop0.5_ns_prop0.7/rule_wrappers'\n",
      "influences - iscitizenof\n",
      "[Errno 2] No such file or directory: '/home/joschout/Documents/Repos/KUL-PUL/data/artificial_bias_experiments/noisy_prop_scores/sar_two_subject_groups/yago3_10/influences/iscitizenof/not_pca/s_prop0.5_ns_prop0.7/rule_wrappers'\n",
      "influences - diedin\n",
      "[Errno 2] No such file or directory: '/home/joschout/Documents/Repos/KUL-PUL/data/artificial_bias_experiments/noisy_prop_scores/sar_two_subject_groups/yago3_10/influences/diedin/not_pca/s_prop0.5_ns_prop0.7/rule_wrappers'\n",
      "influences - wasbornin\n",
      "[Errno 2] No such file or directory: '/home/joschout/Documents/Repos/KUL-PUL/data/artificial_bias_experiments/noisy_prop_scores/sar_two_subject_groups/yago3_10/influences/wasbornin/not_pca/s_prop0.5_ns_prop0.7/rule_wrappers'\n",
      "influences - graduatedfrom\n",
      "[Errno 2] No such file or directory: '/home/joschout/Documents/Repos/KUL-PUL/data/artificial_bias_experiments/noisy_prop_scores/sar_two_subject_groups/yago3_10/influences/graduatedfrom/not_pca/s_prop0.5_ns_prop0.7/rule_wrappers'\n",
      "influences - created\n",
      "[Errno 2] No such file or directory: '/home/joschout/Documents/Repos/KUL-PUL/data/artificial_bias_experiments/noisy_prop_scores/sar_two_subject_groups/yago3_10/influences/created/not_pca/s_prop0.5_ns_prop0.7/rule_wrappers'\n",
      "haschild - haswonprize\n",
      "[Errno 2] No such file or directory: '/home/joschout/Documents/Repos/KUL-PUL/data/artificial_bias_experiments/noisy_prop_scores/sar_two_subject_groups/yago3_10/haschild/haswonprize/not_pca/s_prop0.5_ns_prop0.7/rule_wrappers'\n",
      "haschild - diedin\n",
      "[Errno 2] No such file or directory: '/home/joschout/Documents/Repos/KUL-PUL/data/artificial_bias_experiments/noisy_prop_scores/sar_two_subject_groups/yago3_10/haschild/diedin/not_pca/s_prop0.5_ns_prop0.7/rule_wrappers'\n",
      "haschild - wasbornin\n",
      "[Errno 2] No such file or directory: '/home/joschout/Documents/Repos/KUL-PUL/data/artificial_bias_experiments/noisy_prop_scores/sar_two_subject_groups/yago3_10/haschild/wasbornin/not_pca/s_prop0.5_ns_prop0.7/rule_wrappers'\n",
      "haschild - graduatedfrom\n",
      "[Errno 2] No such file or directory: '/home/joschout/Documents/Repos/KUL-PUL/data/artificial_bias_experiments/noisy_prop_scores/sar_two_subject_groups/yago3_10/haschild/graduatedfrom/not_pca/s_prop0.5_ns_prop0.7/rule_wrappers'\n",
      "haschild - ispoliticianof\n",
      "[Errno 2] No such file or directory: '/home/joschout/Documents/Repos/KUL-PUL/data/artificial_bias_experiments/noisy_prop_scores/sar_two_subject_groups/yago3_10/haschild/ispoliticianof/not_pca/s_prop0.5_ns_prop0.7/rule_wrappers'\n",
      "haschild - isaffiliatedto\n",
      "[Errno 2] No such file or directory: '/home/joschout/Documents/Repos/KUL-PUL/data/artificial_bias_experiments/noisy_prop_scores/sar_two_subject_groups/yago3_10/haschild/isaffiliatedto/not_pca/s_prop0.5_ns_prop0.7/rule_wrappers'\n",
      "haschild - ismarriedto\n",
      "[Errno 2] No such file or directory: '/home/joschout/Documents/Repos/KUL-PUL/data/artificial_bias_experiments/noisy_prop_scores/sar_two_subject_groups/yago3_10/haschild/ismarriedto/not_pca/s_prop0.5_ns_prop0.7/rule_wrappers'\n",
      "playsfor - wasbornin\n",
      "[Errno 2] No such file or directory: '/home/joschout/Documents/Repos/KUL-PUL/data/artificial_bias_experiments/noisy_prop_scores/sar_two_subject_groups/yago3_10/playsfor/wasbornin/not_pca/s_prop0.5_ns_prop0.7/rule_wrappers'\n",
      "playsfor - hasgender\n",
      "[Errno 2] No such file or directory: '/home/joschout/Documents/Repos/KUL-PUL/data/artificial_bias_experiments/noisy_prop_scores/sar_two_subject_groups/yago3_10/playsfor/hasgender/not_pca/s_prop0.5_ns_prop0.7/rule_wrappers'\n",
      "ismarriedto - haswonprize\n",
      "[Errno 2] No such file or directory: '/home/joschout/Documents/Repos/KUL-PUL/data/artificial_bias_experiments/noisy_prop_scores/sar_two_subject_groups/yago3_10/ismarriedto/haswonprize/not_pca/s_prop0.5_ns_prop0.7/rule_wrappers'\n",
      "ismarriedto - diedin\n",
      "[Errno 2] No such file or directory: '/home/joschout/Documents/Repos/KUL-PUL/data/artificial_bias_experiments/noisy_prop_scores/sar_two_subject_groups/yago3_10/ismarriedto/diedin/not_pca/s_prop0.5_ns_prop0.7/rule_wrappers'\n",
      "ismarriedto - wasbornin\n",
      "[Errno 2] No such file or directory: '/home/joschout/Documents/Repos/KUL-PUL/data/artificial_bias_experiments/noisy_prop_scores/sar_two_subject_groups/yago3_10/ismarriedto/wasbornin/not_pca/s_prop0.5_ns_prop0.7/rule_wrappers'\n",
      "ismarriedto - graduatedfrom\n",
      "[Errno 2] No such file or directory: '/home/joschout/Documents/Repos/KUL-PUL/data/artificial_bias_experiments/noisy_prop_scores/sar_two_subject_groups/yago3_10/ismarriedto/graduatedfrom/not_pca/s_prop0.5_ns_prop0.7/rule_wrappers'\n",
      "ismarriedto - actedin\n",
      "[Errno 2] No such file or directory: '/home/joschout/Documents/Repos/KUL-PUL/data/artificial_bias_experiments/noisy_prop_scores/sar_two_subject_groups/yago3_10/ismarriedto/actedin/not_pca/s_prop0.5_ns_prop0.7/rule_wrappers'\n",
      "ismarriedto - haschild\n",
      "[Errno 2] No such file or directory: '/home/joschout/Documents/Repos/KUL-PUL/data/artificial_bias_experiments/noisy_prop_scores/sar_two_subject_groups/yago3_10/ismarriedto/haschild/not_pca/s_prop0.5_ns_prop0.7/rule_wrappers'\n"
     ]
    }
   ],
   "source": [
    "\n",
    "\n",
    "dataset_name=\"yago3_10\"\n",
    "is_pca_version: bool = False\n",
    "\n",
    "\n",
    "true_prop_score_in_filter = 0.5\n",
    "true_prop_score_other_list = [0.3, .7]\n",
    "\n",
    "# true_prop_scores = PropScoresTwoSARGroups(\n",
    "#     in_filter=true_prop_score_in_filter,\n",
    "#     other=true_prop_score_other\n",
    "# )\n",
    "\n",
    "noisy_prop_score_in_filter: float = true_prop_score_in_filter\n",
    "noisy_prop_score_not_in_filter_list: List[float] = [0.1, 0.2, .3, .4, .5, .6, .7, .8, .9, 1]\n",
    "\n",
    "root_experiment_dir: str = os.path.join(\n",
    "    get_root_dir_experiment_noisy_propensity_scores(),\n",
    "    'sar_two_subject_groups',\n",
    "    dataset_name\n",
    "\n",
    ")\n",
    "path_root_experiment_dir = Path(root_experiment_dir)\n",
    "\n",
    "true_prop_score_other_to_df_map: Dict[float, pd.DataFrame] = dict()\n",
    "df_list_complete: List[pd.DataFrame] = []\n",
    "\n",
    "for true_prop_score_other in true_prop_score_other_list:\n",
    "    true_prop_scores = PropScoresTwoSARGroups(\n",
    "        in_filter=true_prop_score_in_filter,\n",
    "        other=true_prop_score_other\n",
    "    )\n",
    "\n",
    "    # df_list: List[pd.DataFrame] = []\n",
    "\n",
    "    for target_rel_path in path_root_experiment_dir.iterdir():\n",
    "        if target_rel_path.is_dir():\n",
    "            for filter_dir in target_rel_path.iterdir():\n",
    "                if filter_dir.is_dir():\n",
    "                    target_relation = target_rel_path.name\n",
    "                    filter_relation = filter_dir.name\n",
    "                    print(f\"{target_relation} - {filter_relation}\")\n",
    "                    try:\n",
    "                        experiment_info =  NoisyPropScoresSARExperimentInfo(\n",
    "                           dataset_name=dataset_name,\n",
    "                            target_relation=target_relation,\n",
    "                            filter_relation=filter_relation,\n",
    "                            true_prop_scores=true_prop_scores,\n",
    "                            noisy_prop_score_in_filter=noisy_prop_score_in_filter,\n",
    "                            noisy_prop_score_not_in_filter_list=noisy_prop_score_not_in_filter_list,\n",
    "                            is_pca_version=is_pca_version\n",
    "                        )\n",
    "                        df_rule_wrappers_tmp = load_df_noisy_prop_scores_two_groups(\n",
    "                            experiment_info=experiment_info\n",
    "                        )\n",
    "                        df_list_complete.append(df_rule_wrappers_tmp)\n",
    "                    except Exception as err:\n",
    "                        print(err)\n",
    "\n",
    "\n",
    "df_rule_wrappers_all_targets: pd.DataFrame = pd.concat(df_list_complete, axis=0)\n",
    "# true_prop_score_other_to_df_map[true_prop_score_other] = df_for_true_prop_score_other"
   ],
   "metadata": {
    "collapsed": false,
    "pycharm": {
     "name": "#%%\n"
    }
   }
  },
  {
   "cell_type": "code",
   "execution_count": 3,
   "outputs": [
    {
     "data": {
      "text/plain": "  target_relation filter_relation  true_prop_scores_in_filter  \\\n0  participatedin      hascapital                         0.5   \n1  participatedin      hascapital                         0.5   \n2  participatedin      hascapital                         0.5   \n3  participatedin      hascapital                         0.5   \n4  participatedin      hascapital                         0.5   \n\n   true_prop_scores_not_in_filter  noisy_prop_scores_in_filter  \\\n0                             0.3                          0.5   \n1                             0.3                          0.5   \n2                             0.3                          0.5   \n3                             0.3                          0.5   \n4                             0.3                          0.5   \n\n   noisy_prop_scores_not_in_filter  random_trial_index  \\\n0                              0.1                   4   \n1                              0.2                   4   \n2                              0.3                   4   \n3                              0.4                   4   \n4                              0.5                   4   \n\n                                                Rule  \\\n0  participatedin(A,B) :- hasneighbor(G,A),partic...   \n1  participatedin(A,B) :- hasneighbor(G,A),partic...   \n2  participatedin(A,B) :- hasneighbor(G,A),partic...   \n3  participatedin(A,B) :- hasneighbor(G,A),partic...   \n4  participatedin(A,B) :- hasneighbor(G,A),partic...   \n\n   Nb supported predictions  Body size    $conf$       CWA  \\\n0                       166       2009  0.181682  0.082628   \n1                       166       2009  0.181682  0.082628   \n2                       166       2009  0.181682  0.082628   \n3                       166       2009  0.181682  0.082628   \n4                       166       2009  0.181682  0.082628   \n\n   $\\frac{\\left| \\mathbf{R}\\right|}{\\left| \\mathbf{R_s}\\right|} conf$ $p$  \\\n0                                           0.212333                        \n1                                           0.212333                        \n2                                           0.212333                        \n3                                           0.212333                        \n4                                           0.212333                        \n\n    PCA $p$  \\\n0  0.110372   \n1  0.110372   \n2  0.110372   \n3  0.110372   \n4  0.110372   \n\n   $\\frac{\\left| \\mathbf{R}\\right|}{\\left| \\mathbf{R_s}\\right|} conf$ $p^{-1}$  \\\n0                                           0.181682                             \n1                                           0.181682                             \n2                                           0.181682                             \n3                                           0.181682                             \n4                                           0.181682                             \n\n   PCA ${p^{-1}}$       IPW  IPW-PCA $p$  IPW-PCA ${p^{-1}}$       ICW  \n0        0.082628  0.205077     0.089255            0.089255  0.182658  \n1        0.082628  0.180189     0.100249            0.100249  0.177973  \n2        0.082628  0.171893     0.105413            0.105413  0.173522  \n3        0.082628  0.167745     0.108412            0.108412  0.169288  \n4        0.082628  0.165256     0.110372            0.110372  0.165256  ",
      "text/html": "<div>\n<style scoped>\n    .dataframe tbody tr th:only-of-type {\n        vertical-align: middle;\n    }\n\n    .dataframe tbody tr th {\n        vertical-align: top;\n    }\n\n    .dataframe thead th {\n        text-align: right;\n    }\n</style>\n<table border=\"1\" class=\"dataframe\">\n  <thead>\n    <tr style=\"text-align: right;\">\n      <th></th>\n      <th>target_relation</th>\n      <th>filter_relation</th>\n      <th>true_prop_scores_in_filter</th>\n      <th>true_prop_scores_not_in_filter</th>\n      <th>noisy_prop_scores_in_filter</th>\n      <th>noisy_prop_scores_not_in_filter</th>\n      <th>random_trial_index</th>\n      <th>Rule</th>\n      <th>Nb supported predictions</th>\n      <th>Body size</th>\n      <th>$conf$</th>\n      <th>CWA</th>\n      <th>$\\frac{\\left| \\mathbf{R}\\right|}{\\left| \\mathbf{R_s}\\right|} conf$ $p$</th>\n      <th>PCA $p$</th>\n      <th>$\\frac{\\left| \\mathbf{R}\\right|}{\\left| \\mathbf{R_s}\\right|} conf$ $p^{-1}$</th>\n      <th>PCA ${p^{-1}}$</th>\n      <th>IPW</th>\n      <th>IPW-PCA $p$</th>\n      <th>IPW-PCA ${p^{-1}}$</th>\n      <th>ICW</th>\n    </tr>\n  </thead>\n  <tbody>\n    <tr>\n      <th>0</th>\n      <td>participatedin</td>\n      <td>hascapital</td>\n      <td>0.5</td>\n      <td>0.3</td>\n      <td>0.5</td>\n      <td>0.1</td>\n      <td>4</td>\n      <td>participatedin(A,B) :- hasneighbor(G,A),partic...</td>\n      <td>166</td>\n      <td>2009</td>\n      <td>0.181682</td>\n      <td>0.082628</td>\n      <td>0.212333</td>\n      <td>0.110372</td>\n      <td>0.181682</td>\n      <td>0.082628</td>\n      <td>0.205077</td>\n      <td>0.089255</td>\n      <td>0.089255</td>\n      <td>0.182658</td>\n    </tr>\n    <tr>\n      <th>1</th>\n      <td>participatedin</td>\n      <td>hascapital</td>\n      <td>0.5</td>\n      <td>0.3</td>\n      <td>0.5</td>\n      <td>0.2</td>\n      <td>4</td>\n      <td>participatedin(A,B) :- hasneighbor(G,A),partic...</td>\n      <td>166</td>\n      <td>2009</td>\n      <td>0.181682</td>\n      <td>0.082628</td>\n      <td>0.212333</td>\n      <td>0.110372</td>\n      <td>0.181682</td>\n      <td>0.082628</td>\n      <td>0.180189</td>\n      <td>0.100249</td>\n      <td>0.100249</td>\n      <td>0.177973</td>\n    </tr>\n    <tr>\n      <th>2</th>\n      <td>participatedin</td>\n      <td>hascapital</td>\n      <td>0.5</td>\n      <td>0.3</td>\n      <td>0.5</td>\n      <td>0.3</td>\n      <td>4</td>\n      <td>participatedin(A,B) :- hasneighbor(G,A),partic...</td>\n      <td>166</td>\n      <td>2009</td>\n      <td>0.181682</td>\n      <td>0.082628</td>\n      <td>0.212333</td>\n      <td>0.110372</td>\n      <td>0.181682</td>\n      <td>0.082628</td>\n      <td>0.171893</td>\n      <td>0.105413</td>\n      <td>0.105413</td>\n      <td>0.173522</td>\n    </tr>\n    <tr>\n      <th>3</th>\n      <td>participatedin</td>\n      <td>hascapital</td>\n      <td>0.5</td>\n      <td>0.3</td>\n      <td>0.5</td>\n      <td>0.4</td>\n      <td>4</td>\n      <td>participatedin(A,B) :- hasneighbor(G,A),partic...</td>\n      <td>166</td>\n      <td>2009</td>\n      <td>0.181682</td>\n      <td>0.082628</td>\n      <td>0.212333</td>\n      <td>0.110372</td>\n      <td>0.181682</td>\n      <td>0.082628</td>\n      <td>0.167745</td>\n      <td>0.108412</td>\n      <td>0.108412</td>\n      <td>0.169288</td>\n    </tr>\n    <tr>\n      <th>4</th>\n      <td>participatedin</td>\n      <td>hascapital</td>\n      <td>0.5</td>\n      <td>0.3</td>\n      <td>0.5</td>\n      <td>0.5</td>\n      <td>4</td>\n      <td>participatedin(A,B) :- hasneighbor(G,A),partic...</td>\n      <td>166</td>\n      <td>2009</td>\n      <td>0.181682</td>\n      <td>0.082628</td>\n      <td>0.212333</td>\n      <td>0.110372</td>\n      <td>0.181682</td>\n      <td>0.082628</td>\n      <td>0.165256</td>\n      <td>0.110372</td>\n      <td>0.110372</td>\n      <td>0.165256</td>\n    </tr>\n  </tbody>\n</table>\n</div>"
     },
     "execution_count": 3,
     "metadata": {},
     "output_type": "execute_result"
    }
   ],
   "source": [
    "df_rule_wrappers_all_targets.head()"
   ],
   "metadata": {
    "collapsed": false,
    "pycharm": {
     "name": "#%%\n"
    }
   }
  },
  {
   "cell_type": "code",
   "execution_count": 4,
   "outputs": [
    {
     "data": {
      "text/plain": "Index(['target_relation', 'filter_relation', 'true_prop_scores_in_filter',\n       'true_prop_scores_not_in_filter', 'noisy_prop_scores_in_filter',\n       'noisy_prop_scores_not_in_filter', 'random_trial_index', 'Rule',\n       'Nb supported predictions', 'Body size', '$conf$', 'CWA',\n       '$\\frac{\\left| \\mathbf{R}\\right|}{\\left| \\mathbf{R_s}\\right|} conf$ $p$',\n       'PCA $p$',\n       '$\\frac{\\left| \\mathbf{R}\\right|}{\\left| \\mathbf{R_s}\\right|} conf$ $p^{-1}$',\n       'PCA ${p^{-1}}$', 'IPW', 'IPW-PCA $p$', 'IPW-PCA ${p^{-1}}$', 'ICW'],\n      dtype='object')"
     },
     "execution_count": 4,
     "metadata": {},
     "output_type": "execute_result"
    }
   ],
   "source": [
    "df_rule_wrappers_all_targets.columns"
   ],
   "metadata": {
    "collapsed": false,
    "pycharm": {
     "name": "#%%\n"
    }
   }
  },
  {
   "cell_type": "code",
   "execution_count": 5,
   "outputs": [
    {
     "data": {
      "text/plain": "  target_relation filter_relation  true_prop_scores_in_filter  \\\n0  participatedin      hascapital                         0.5   \n1  participatedin      hascapital                         0.5   \n2  participatedin      hascapital                         0.5   \n3  participatedin      hascapital                         0.5   \n4  participatedin      hascapital                         0.5   \n\n   true_prop_scores_not_in_filter  noisy_prop_scores_in_filter  \\\n0                             0.3                          0.5   \n1                             0.3                          0.5   \n2                             0.3                          0.5   \n3                             0.3                          0.5   \n4                             0.3                          0.5   \n\n   noisy_prop_scores_not_in_filter  random_trial_index  \\\n0                              0.1                   4   \n1                              0.2                   4   \n2                              0.3                   4   \n3                              0.4                   4   \n4                              0.5                   4   \n\n                                                Rule  \\\n0  participatedin(A,B) :- hasneighbor(G,A),partic...   \n1  participatedin(A,B) :- hasneighbor(G,A),partic...   \n2  participatedin(A,B) :- hasneighbor(G,A),partic...   \n3  participatedin(A,B) :- hasneighbor(G,A),partic...   \n4  participatedin(A,B) :- hasneighbor(G,A),partic...   \n\n   Nb supported predictions  Body size    $conf$       CWA  \\\n0                       166       2009  0.181682  0.082628   \n1                       166       2009  0.181682  0.082628   \n2                       166       2009  0.181682  0.082628   \n3                       166       2009  0.181682  0.082628   \n4                       166       2009  0.181682  0.082628   \n\n   $\\frac{\\left| \\mathbf{R}\\right|}{\\left| \\mathbf{R_s}\\right|} conf$ $p$  \\\n0                                           0.212333                        \n1                                           0.212333                        \n2                                           0.212333                        \n3                                           0.212333                        \n4                                           0.212333                        \n\n    PCA $p$  \\\n0  0.110372   \n1  0.110372   \n2  0.110372   \n3  0.110372   \n4  0.110372   \n\n   $\\frac{\\left| \\mathbf{R}\\right|}{\\left| \\mathbf{R_s}\\right|} conf$ $p^{-1}$  \\\n0                                           0.181682                             \n1                                           0.181682                             \n2                                           0.181682                             \n3                                           0.181682                             \n4                                           0.181682                             \n\n   PCA ${p^{-1}}$       IPW  IPW-PCA $p$  IPW-PCA ${p^{-1}}$       ICW  \n0        0.082628  0.205077     0.089255            0.089255  0.182658  \n1        0.082628  0.180189     0.100249            0.100249  0.177973  \n2        0.082628  0.171893     0.105413            0.105413  0.173522  \n3        0.082628  0.167745     0.108412            0.108412  0.169288  \n4        0.082628  0.165256     0.110372            0.110372  0.165256  ",
      "text/html": "<div>\n<style scoped>\n    .dataframe tbody tr th:only-of-type {\n        vertical-align: middle;\n    }\n\n    .dataframe tbody tr th {\n        vertical-align: top;\n    }\n\n    .dataframe thead th {\n        text-align: right;\n    }\n</style>\n<table border=\"1\" class=\"dataframe\">\n  <thead>\n    <tr style=\"text-align: right;\">\n      <th></th>\n      <th>target_relation</th>\n      <th>filter_relation</th>\n      <th>true_prop_scores_in_filter</th>\n      <th>true_prop_scores_not_in_filter</th>\n      <th>noisy_prop_scores_in_filter</th>\n      <th>noisy_prop_scores_not_in_filter</th>\n      <th>random_trial_index</th>\n      <th>Rule</th>\n      <th>Nb supported predictions</th>\n      <th>Body size</th>\n      <th>$conf$</th>\n      <th>CWA</th>\n      <th>$\\frac{\\left| \\mathbf{R}\\right|}{\\left| \\mathbf{R_s}\\right|} conf$ $p$</th>\n      <th>PCA $p$</th>\n      <th>$\\frac{\\left| \\mathbf{R}\\right|}{\\left| \\mathbf{R_s}\\right|} conf$ $p^{-1}$</th>\n      <th>PCA ${p^{-1}}$</th>\n      <th>IPW</th>\n      <th>IPW-PCA $p$</th>\n      <th>IPW-PCA ${p^{-1}}$</th>\n      <th>ICW</th>\n    </tr>\n  </thead>\n  <tbody>\n    <tr>\n      <th>0</th>\n      <td>participatedin</td>\n      <td>hascapital</td>\n      <td>0.5</td>\n      <td>0.3</td>\n      <td>0.5</td>\n      <td>0.1</td>\n      <td>4</td>\n      <td>participatedin(A,B) :- hasneighbor(G,A),partic...</td>\n      <td>166</td>\n      <td>2009</td>\n      <td>0.181682</td>\n      <td>0.082628</td>\n      <td>0.212333</td>\n      <td>0.110372</td>\n      <td>0.181682</td>\n      <td>0.082628</td>\n      <td>0.205077</td>\n      <td>0.089255</td>\n      <td>0.089255</td>\n      <td>0.182658</td>\n    </tr>\n    <tr>\n      <th>1</th>\n      <td>participatedin</td>\n      <td>hascapital</td>\n      <td>0.5</td>\n      <td>0.3</td>\n      <td>0.5</td>\n      <td>0.2</td>\n      <td>4</td>\n      <td>participatedin(A,B) :- hasneighbor(G,A),partic...</td>\n      <td>166</td>\n      <td>2009</td>\n      <td>0.181682</td>\n      <td>0.082628</td>\n      <td>0.212333</td>\n      <td>0.110372</td>\n      <td>0.181682</td>\n      <td>0.082628</td>\n      <td>0.180189</td>\n      <td>0.100249</td>\n      <td>0.100249</td>\n      <td>0.177973</td>\n    </tr>\n    <tr>\n      <th>2</th>\n      <td>participatedin</td>\n      <td>hascapital</td>\n      <td>0.5</td>\n      <td>0.3</td>\n      <td>0.5</td>\n      <td>0.3</td>\n      <td>4</td>\n      <td>participatedin(A,B) :- hasneighbor(G,A),partic...</td>\n      <td>166</td>\n      <td>2009</td>\n      <td>0.181682</td>\n      <td>0.082628</td>\n      <td>0.212333</td>\n      <td>0.110372</td>\n      <td>0.181682</td>\n      <td>0.082628</td>\n      <td>0.171893</td>\n      <td>0.105413</td>\n      <td>0.105413</td>\n      <td>0.173522</td>\n    </tr>\n    <tr>\n      <th>3</th>\n      <td>participatedin</td>\n      <td>hascapital</td>\n      <td>0.5</td>\n      <td>0.3</td>\n      <td>0.5</td>\n      <td>0.4</td>\n      <td>4</td>\n      <td>participatedin(A,B) :- hasneighbor(G,A),partic...</td>\n      <td>166</td>\n      <td>2009</td>\n      <td>0.181682</td>\n      <td>0.082628</td>\n      <td>0.212333</td>\n      <td>0.110372</td>\n      <td>0.181682</td>\n      <td>0.082628</td>\n      <td>0.167745</td>\n      <td>0.108412</td>\n      <td>0.108412</td>\n      <td>0.169288</td>\n    </tr>\n    <tr>\n      <th>4</th>\n      <td>participatedin</td>\n      <td>hascapital</td>\n      <td>0.5</td>\n      <td>0.3</td>\n      <td>0.5</td>\n      <td>0.5</td>\n      <td>4</td>\n      <td>participatedin(A,B) :- hasneighbor(G,A),partic...</td>\n      <td>166</td>\n      <td>2009</td>\n      <td>0.181682</td>\n      <td>0.082628</td>\n      <td>0.212333</td>\n      <td>0.110372</td>\n      <td>0.181682</td>\n      <td>0.082628</td>\n      <td>0.165256</td>\n      <td>0.110372</td>\n      <td>0.110372</td>\n      <td>0.165256</td>\n    </tr>\n  </tbody>\n</table>\n</div>"
     },
     "execution_count": 5,
     "metadata": {},
     "output_type": "execute_result"
    }
   ],
   "source": [
    "column_names_logistics: List[str] = [\n",
    "    'target_relation',\n",
    "    'filter_relation',\n",
    "    'true_prop_scores_in_filter', 'true_prop_scores_not_in_filter',\n",
    "    'noisy_prop_scores_in_filter', 'noisy_prop_scores_not_in_filter',\n",
    "\n",
    "    'random_trial_index',\n",
    "    \"Rule\"\n",
    "]\n",
    "other_columns = [col for col in df_rule_wrappers_all_targets.columns if col not in column_names_logistics]\n",
    "resorted_columns = column_names_logistics + other_columns\n",
    "df_rule_wrappers_all_targets = df_rule_wrappers_all_targets[resorted_columns]\n",
    "df_rule_wrappers_all_targets.head()"
   ],
   "metadata": {
    "collapsed": false,
    "pycharm": {
     "name": "#%%\n"
    }
   }
  },
  {
   "cell_type": "code",
   "execution_count": 6,
   "outputs": [],
   "source": [
    "df_rule_wrappers_all_targets.rename(\n",
    "    columns={\n",
    "            'true_prop_scores_in_filter': \"true_filter\",\n",
    "        'true_prop_scores_not_in_filter': \"true_other\",\n",
    "    'noisy_prop_scores_in_filter': \"noisy_filter\", 'noisy_prop_scores_not_in_filter': \"noisy_other\",\n",
    "    },\n",
    "    inplace=True,\n",
    "    errors=\"ignore\"\n",
    ")\n",
    "column_names_logistics: List[str] = [\n",
    "    'target_relation',\n",
    "    'filter_relation',\n",
    "    'true_filter', 'true_other',\n",
    "    'noisy_filter', 'noisy_other',\n",
    "    'random_trial_index',\n",
    "    \"Rule\"\n",
    "]"
   ],
   "metadata": {
    "collapsed": false,
    "pycharm": {
     "name": "#%%\n"
    }
   }
  },
  {
   "cell_type": "code",
   "execution_count": 7,
   "outputs": [
    {
     "data": {
      "text/plain": "  target_relation filter_relation  true_filter  true_other  noisy_filter  \\\n0  participatedin      hascapital          0.5         0.3           0.5   \n1  participatedin      hascapital          0.5         0.3           0.5   \n2  participatedin      hascapital          0.5         0.3           0.5   \n3  participatedin      hascapital          0.5         0.3           0.5   \n4  participatedin      hascapital          0.5         0.3           0.5   \n\n   noisy_other  random_trial_index  \\\n0          0.1                   4   \n1          0.2                   4   \n2          0.3                   4   \n3          0.4                   4   \n4          0.5                   4   \n\n                                                Rule  \\\n0  participatedin(A,B) :- hasneighbor(G,A),partic...   \n1  participatedin(A,B) :- hasneighbor(G,A),partic...   \n2  participatedin(A,B) :- hasneighbor(G,A),partic...   \n3  participatedin(A,B) :- hasneighbor(G,A),partic...   \n4  participatedin(A,B) :- hasneighbor(G,A),partic...   \n\n   Nb supported predictions  Body size    $conf$       CWA  \\\n0                       166       2009  0.181682  0.082628   \n1                       166       2009  0.181682  0.082628   \n2                       166       2009  0.181682  0.082628   \n3                       166       2009  0.181682  0.082628   \n4                       166       2009  0.181682  0.082628   \n\n   $\\frac{\\left| \\mathbf{R}\\right|}{\\left| \\mathbf{R_s}\\right|} conf$ $p$  \\\n0                                           0.212333                        \n1                                           0.212333                        \n2                                           0.212333                        \n3                                           0.212333                        \n4                                           0.212333                        \n\n    PCA $p$  \\\n0  0.110372   \n1  0.110372   \n2  0.110372   \n3  0.110372   \n4  0.110372   \n\n   $\\frac{\\left| \\mathbf{R}\\right|}{\\left| \\mathbf{R_s}\\right|} conf$ $p^{-1}$  \\\n0                                           0.181682                             \n1                                           0.181682                             \n2                                           0.181682                             \n3                                           0.181682                             \n4                                           0.181682                             \n\n   PCA ${p^{-1}}$       IPW  IPW-PCA $p$  IPW-PCA ${p^{-1}}$       ICW  \n0        0.082628  0.205077     0.089255            0.089255  0.182658  \n1        0.082628  0.180189     0.100249            0.100249  0.177973  \n2        0.082628  0.171893     0.105413            0.105413  0.173522  \n3        0.082628  0.167745     0.108412            0.108412  0.169288  \n4        0.082628  0.165256     0.110372            0.110372  0.165256  ",
      "text/html": "<div>\n<style scoped>\n    .dataframe tbody tr th:only-of-type {\n        vertical-align: middle;\n    }\n\n    .dataframe tbody tr th {\n        vertical-align: top;\n    }\n\n    .dataframe thead th {\n        text-align: right;\n    }\n</style>\n<table border=\"1\" class=\"dataframe\">\n  <thead>\n    <tr style=\"text-align: right;\">\n      <th></th>\n      <th>target_relation</th>\n      <th>filter_relation</th>\n      <th>true_filter</th>\n      <th>true_other</th>\n      <th>noisy_filter</th>\n      <th>noisy_other</th>\n      <th>random_trial_index</th>\n      <th>Rule</th>\n      <th>Nb supported predictions</th>\n      <th>Body size</th>\n      <th>$conf$</th>\n      <th>CWA</th>\n      <th>$\\frac{\\left| \\mathbf{R}\\right|}{\\left| \\mathbf{R_s}\\right|} conf$ $p$</th>\n      <th>PCA $p$</th>\n      <th>$\\frac{\\left| \\mathbf{R}\\right|}{\\left| \\mathbf{R_s}\\right|} conf$ $p^{-1}$</th>\n      <th>PCA ${p^{-1}}$</th>\n      <th>IPW</th>\n      <th>IPW-PCA $p$</th>\n      <th>IPW-PCA ${p^{-1}}$</th>\n      <th>ICW</th>\n    </tr>\n  </thead>\n  <tbody>\n    <tr>\n      <th>0</th>\n      <td>participatedin</td>\n      <td>hascapital</td>\n      <td>0.5</td>\n      <td>0.3</td>\n      <td>0.5</td>\n      <td>0.1</td>\n      <td>4</td>\n      <td>participatedin(A,B) :- hasneighbor(G,A),partic...</td>\n      <td>166</td>\n      <td>2009</td>\n      <td>0.181682</td>\n      <td>0.082628</td>\n      <td>0.212333</td>\n      <td>0.110372</td>\n      <td>0.181682</td>\n      <td>0.082628</td>\n      <td>0.205077</td>\n      <td>0.089255</td>\n      <td>0.089255</td>\n      <td>0.182658</td>\n    </tr>\n    <tr>\n      <th>1</th>\n      <td>participatedin</td>\n      <td>hascapital</td>\n      <td>0.5</td>\n      <td>0.3</td>\n      <td>0.5</td>\n      <td>0.2</td>\n      <td>4</td>\n      <td>participatedin(A,B) :- hasneighbor(G,A),partic...</td>\n      <td>166</td>\n      <td>2009</td>\n      <td>0.181682</td>\n      <td>0.082628</td>\n      <td>0.212333</td>\n      <td>0.110372</td>\n      <td>0.181682</td>\n      <td>0.082628</td>\n      <td>0.180189</td>\n      <td>0.100249</td>\n      <td>0.100249</td>\n      <td>0.177973</td>\n    </tr>\n    <tr>\n      <th>2</th>\n      <td>participatedin</td>\n      <td>hascapital</td>\n      <td>0.5</td>\n      <td>0.3</td>\n      <td>0.5</td>\n      <td>0.3</td>\n      <td>4</td>\n      <td>participatedin(A,B) :- hasneighbor(G,A),partic...</td>\n      <td>166</td>\n      <td>2009</td>\n      <td>0.181682</td>\n      <td>0.082628</td>\n      <td>0.212333</td>\n      <td>0.110372</td>\n      <td>0.181682</td>\n      <td>0.082628</td>\n      <td>0.171893</td>\n      <td>0.105413</td>\n      <td>0.105413</td>\n      <td>0.173522</td>\n    </tr>\n    <tr>\n      <th>3</th>\n      <td>participatedin</td>\n      <td>hascapital</td>\n      <td>0.5</td>\n      <td>0.3</td>\n      <td>0.5</td>\n      <td>0.4</td>\n      <td>4</td>\n      <td>participatedin(A,B) :- hasneighbor(G,A),partic...</td>\n      <td>166</td>\n      <td>2009</td>\n      <td>0.181682</td>\n      <td>0.082628</td>\n      <td>0.212333</td>\n      <td>0.110372</td>\n      <td>0.181682</td>\n      <td>0.082628</td>\n      <td>0.167745</td>\n      <td>0.108412</td>\n      <td>0.108412</td>\n      <td>0.169288</td>\n    </tr>\n    <tr>\n      <th>4</th>\n      <td>participatedin</td>\n      <td>hascapital</td>\n      <td>0.5</td>\n      <td>0.3</td>\n      <td>0.5</td>\n      <td>0.5</td>\n      <td>4</td>\n      <td>participatedin(A,B) :- hasneighbor(G,A),partic...</td>\n      <td>166</td>\n      <td>2009</td>\n      <td>0.181682</td>\n      <td>0.082628</td>\n      <td>0.212333</td>\n      <td>0.110372</td>\n      <td>0.181682</td>\n      <td>0.082628</td>\n      <td>0.165256</td>\n      <td>0.110372</td>\n      <td>0.110372</td>\n      <td>0.165256</td>\n    </tr>\n  </tbody>\n</table>\n</div>"
     },
     "execution_count": 7,
     "metadata": {},
     "output_type": "execute_result"
    }
   ],
   "source": [
    "df_rule_wrappers_all_targets.head()"
   ],
   "metadata": {
    "collapsed": false,
    "pycharm": {
     "name": "#%%\n"
    }
   }
  },
  {
   "cell_type": "markdown",
   "source": [
    "\n",
    "## 2. Only keep a subset of rules\n",
    "### 2.1. Only keep the non-recursive rules; drop recursive rules"
   ],
   "metadata": {
    "collapsed": false,
    "pycharm": {
     "name": "#%% md\n"
    }
   }
  },
  {
   "cell_type": "code",
   "execution_count": 8,
   "outputs": [],
   "source": [
    "from kbc_pul.data_structures.rule_wrapper import get_pylo_rule_from_string, is_pylo_rule_recursive\n",
    "\n",
    "\n",
    "def is_rule_recursive(rule_string: str) -> bool:\n",
    "        pylo_rule: PyloClause = get_pylo_rule_from_string(rule_string)\n",
    "        is_rule_recursive = is_pylo_rule_recursive(pylo_rule)\n",
    "        return is_rule_recursive\n",
    "\n",
    "\n",
    "mask_recursive_rules = df_rule_wrappers_all_targets.apply(\n",
    "    lambda row: is_rule_recursive(row[\"Rule\"]),\n",
    "    axis=1\n",
    ")"
   ],
   "metadata": {
    "collapsed": false,
    "pycharm": {
     "name": "#%%\n"
    }
   }
  },
  {
   "cell_type": "code",
   "execution_count": 9,
   "outputs": [
    {
     "name": "stdout",
     "output_type": "stream",
     "text": [
      "47530\n",
      "15300\n"
     ]
    }
   ],
   "source": [
    "print(len(df_rule_wrappers_all_targets))\n",
    "df_rule_wrappers_all_targets: pd.DataFrame = df_rule_wrappers_all_targets[~mask_recursive_rules]\n",
    "print(len(df_rule_wrappers_all_targets))\n",
    "\n"
   ],
   "metadata": {
    "collapsed": false,
    "pycharm": {
     "name": "#%%\n"
    }
   }
  },
  {
   "cell_type": "markdown",
   "source": [
    "### 2.3 Drop the Pair-positive columns (both directions)"
   ],
   "metadata": {
    "collapsed": false
   }
  },
  {
   "cell_type": "code",
   "execution_count": 30,
   "outputs": [
    {
     "data": {
      "text/plain": "   target_relation filter_relation  true_filter  true_other  noisy_filter  \\\n10  participatedin      hascapital          0.5         0.3           0.5   \n11  participatedin      hascapital          0.5         0.3           0.5   \n12  participatedin      hascapital          0.5         0.3           0.5   \n13  participatedin      hascapital          0.5         0.3           0.5   \n14  participatedin      hascapital          0.5         0.3           0.5   \n\n    noisy_other  random_trial_index                                    Rule  \\\n10          0.1                   7  participatedin(A,B) :- happenedin(B,A)   \n11          0.2                   7  participatedin(A,B) :- happenedin(B,A)   \n12          0.3                   7  participatedin(A,B) :- happenedin(B,A)   \n13          0.4                   7  participatedin(A,B) :- happenedin(B,A)   \n14          0.5                   7  participatedin(A,B) :- happenedin(B,A)   \n\n    Nb supported predictions  Body size    $conf$       CWA  PCA(S)    PCA(O)  \\\n10                       703       5052  0.293349  0.139153   0.243  0.163603   \n11                       703       5052  0.293349  0.139153   0.243  0.163603   \n12                       703       5052  0.293349  0.139153   0.243  0.163603   \n13                       703       5052  0.293349  0.139153   0.243  0.163603   \n14                       703       5052  0.293349  0.139153   0.243  0.163603   \n\n         IPW  IPW-PCA(S)  IPW-PCA(O)       ICW  \n10  0.338480    0.215203    0.215203  0.309098  \n11  0.300871    0.230443    0.230443  0.300778  \n12  0.288335    0.237011    0.237011  0.292895  \n13  0.282067    0.240669    0.240669  0.285414  \n14  0.278306    0.243000    0.243000  0.278306  ",
      "text/html": "<div>\n<style scoped>\n    .dataframe tbody tr th:only-of-type {\n        vertical-align: middle;\n    }\n\n    .dataframe tbody tr th {\n        vertical-align: top;\n    }\n\n    .dataframe thead th {\n        text-align: right;\n    }\n</style>\n<table border=\"1\" class=\"dataframe\">\n  <thead>\n    <tr style=\"text-align: right;\">\n      <th></th>\n      <th>target_relation</th>\n      <th>filter_relation</th>\n      <th>true_filter</th>\n      <th>true_other</th>\n      <th>noisy_filter</th>\n      <th>noisy_other</th>\n      <th>random_trial_index</th>\n      <th>Rule</th>\n      <th>Nb supported predictions</th>\n      <th>Body size</th>\n      <th>$conf$</th>\n      <th>CWA</th>\n      <th>PCA(S)</th>\n      <th>PCA(O)</th>\n      <th>IPW</th>\n      <th>IPW-PCA(S)</th>\n      <th>IPW-PCA(O)</th>\n      <th>ICW</th>\n    </tr>\n  </thead>\n  <tbody>\n    <tr>\n      <th>10</th>\n      <td>participatedin</td>\n      <td>hascapital</td>\n      <td>0.5</td>\n      <td>0.3</td>\n      <td>0.5</td>\n      <td>0.1</td>\n      <td>7</td>\n      <td>participatedin(A,B) :- happenedin(B,A)</td>\n      <td>703</td>\n      <td>5052</td>\n      <td>0.293349</td>\n      <td>0.139153</td>\n      <td>0.243</td>\n      <td>0.163603</td>\n      <td>0.338480</td>\n      <td>0.215203</td>\n      <td>0.215203</td>\n      <td>0.309098</td>\n    </tr>\n    <tr>\n      <th>11</th>\n      <td>participatedin</td>\n      <td>hascapital</td>\n      <td>0.5</td>\n      <td>0.3</td>\n      <td>0.5</td>\n      <td>0.2</td>\n      <td>7</td>\n      <td>participatedin(A,B) :- happenedin(B,A)</td>\n      <td>703</td>\n      <td>5052</td>\n      <td>0.293349</td>\n      <td>0.139153</td>\n      <td>0.243</td>\n      <td>0.163603</td>\n      <td>0.300871</td>\n      <td>0.230443</td>\n      <td>0.230443</td>\n      <td>0.300778</td>\n    </tr>\n    <tr>\n      <th>12</th>\n      <td>participatedin</td>\n      <td>hascapital</td>\n      <td>0.5</td>\n      <td>0.3</td>\n      <td>0.5</td>\n      <td>0.3</td>\n      <td>7</td>\n      <td>participatedin(A,B) :- happenedin(B,A)</td>\n      <td>703</td>\n      <td>5052</td>\n      <td>0.293349</td>\n      <td>0.139153</td>\n      <td>0.243</td>\n      <td>0.163603</td>\n      <td>0.288335</td>\n      <td>0.237011</td>\n      <td>0.237011</td>\n      <td>0.292895</td>\n    </tr>\n    <tr>\n      <th>13</th>\n      <td>participatedin</td>\n      <td>hascapital</td>\n      <td>0.5</td>\n      <td>0.3</td>\n      <td>0.5</td>\n      <td>0.4</td>\n      <td>7</td>\n      <td>participatedin(A,B) :- happenedin(B,A)</td>\n      <td>703</td>\n      <td>5052</td>\n      <td>0.293349</td>\n      <td>0.139153</td>\n      <td>0.243</td>\n      <td>0.163603</td>\n      <td>0.282067</td>\n      <td>0.240669</td>\n      <td>0.240669</td>\n      <td>0.285414</td>\n    </tr>\n    <tr>\n      <th>14</th>\n      <td>participatedin</td>\n      <td>hascapital</td>\n      <td>0.5</td>\n      <td>0.3</td>\n      <td>0.5</td>\n      <td>0.5</td>\n      <td>7</td>\n      <td>participatedin(A,B) :- happenedin(B,A)</td>\n      <td>703</td>\n      <td>5052</td>\n      <td>0.293349</td>\n      <td>0.139153</td>\n      <td>0.243</td>\n      <td>0.163603</td>\n      <td>0.278306</td>\n      <td>0.243000</td>\n      <td>0.243000</td>\n      <td>0.278306</td>\n    </tr>\n  </tbody>\n</table>\n</div>"
     },
     "execution_count": 30,
     "metadata": {},
     "output_type": "execute_result"
    }
   ],
   "source": [
    "df_rule_wrappers_all_targets.drop(\n",
    "        [ConfidenceEnum.TRUE_CONF_BIAS_YS_ZERO_S_TO_O.value,\n",
    "         ConfidenceEnum.TRUE_CONF_BIAS_YS_ZERO_O_TO_S.value],\n",
    "        axis=1,\n",
    "        inplace=True,\n",
    "        errors='ignore'\n",
    ")\n",
    "df_rule_wrappers_all_targets.head()"
   ],
   "metadata": {
    "collapsed": false,
    "pycharm": {
     "name": "#%%\n"
    }
   }
  },
  {
   "cell_type": "markdown",
   "source": [
    "### 2.4 Drop the IPW-PCA columns (both directions)"
   ],
   "metadata": {
    "collapsed": false
   }
  },
  {
   "cell_type": "code",
   "execution_count": 10,
   "outputs": [
    {
     "data": {
      "text/plain": "   target_relation filter_relation  true_filter  true_other  noisy_filter  \\\n10  participatedin      hascapital          0.5         0.3           0.5   \n11  participatedin      hascapital          0.5         0.3           0.5   \n12  participatedin      hascapital          0.5         0.3           0.5   \n13  participatedin      hascapital          0.5         0.3           0.5   \n14  participatedin      hascapital          0.5         0.3           0.5   \n\n    noisy_other  random_trial_index                                    Rule  \\\n10          0.1                   7  participatedin(A,B) :- happenedin(B,A)   \n11          0.2                   7  participatedin(A,B) :- happenedin(B,A)   \n12          0.3                   7  participatedin(A,B) :- happenedin(B,A)   \n13          0.4                   7  participatedin(A,B) :- happenedin(B,A)   \n14          0.5                   7  participatedin(A,B) :- happenedin(B,A)   \n\n    Nb supported predictions  Body size    $conf$       CWA  \\\n10                       703       5052  0.293349  0.139153   \n11                       703       5052  0.293349  0.139153   \n12                       703       5052  0.293349  0.139153   \n13                       703       5052  0.293349  0.139153   \n14                       703       5052  0.293349  0.139153   \n\n    $\\frac{\\left| \\mathbf{R}\\right|}{\\left| \\mathbf{R_s}\\right|} conf$ $p$  \\\n10                                           0.469136                        \n11                                           0.469136                        \n12                                           0.469136                        \n13                                           0.469136                        \n14                                           0.469136                        \n\n    PCA $p$  \\\n10    0.243   \n11    0.243   \n12    0.243   \n13    0.243   \n14    0.243   \n\n    $\\frac{\\left| \\mathbf{R}\\right|}{\\left| \\mathbf{R_s}\\right|} conf$ $p^{-1}$  \\\n10                                           0.310107                             \n11                                           0.310107                             \n12                                           0.310107                             \n13                                           0.310107                             \n14                                           0.310107                             \n\n    PCA ${p^{-1}}$       IPW       ICW  \n10        0.163603  0.338480  0.309098  \n11        0.163603  0.300871  0.300778  \n12        0.163603  0.288335  0.292895  \n13        0.163603  0.282067  0.285414  \n14        0.163603  0.278306  0.278306  ",
      "text/html": "<div>\n<style scoped>\n    .dataframe tbody tr th:only-of-type {\n        vertical-align: middle;\n    }\n\n    .dataframe tbody tr th {\n        vertical-align: top;\n    }\n\n    .dataframe thead th {\n        text-align: right;\n    }\n</style>\n<table border=\"1\" class=\"dataframe\">\n  <thead>\n    <tr style=\"text-align: right;\">\n      <th></th>\n      <th>target_relation</th>\n      <th>filter_relation</th>\n      <th>true_filter</th>\n      <th>true_other</th>\n      <th>noisy_filter</th>\n      <th>noisy_other</th>\n      <th>random_trial_index</th>\n      <th>Rule</th>\n      <th>Nb supported predictions</th>\n      <th>Body size</th>\n      <th>$conf$</th>\n      <th>CWA</th>\n      <th>$\\frac{\\left| \\mathbf{R}\\right|}{\\left| \\mathbf{R_s}\\right|} conf$ $p$</th>\n      <th>PCA $p$</th>\n      <th>$\\frac{\\left| \\mathbf{R}\\right|}{\\left| \\mathbf{R_s}\\right|} conf$ $p^{-1}$</th>\n      <th>PCA ${p^{-1}}$</th>\n      <th>IPW</th>\n      <th>ICW</th>\n    </tr>\n  </thead>\n  <tbody>\n    <tr>\n      <th>10</th>\n      <td>participatedin</td>\n      <td>hascapital</td>\n      <td>0.5</td>\n      <td>0.3</td>\n      <td>0.5</td>\n      <td>0.1</td>\n      <td>7</td>\n      <td>participatedin(A,B) :- happenedin(B,A)</td>\n      <td>703</td>\n      <td>5052</td>\n      <td>0.293349</td>\n      <td>0.139153</td>\n      <td>0.469136</td>\n      <td>0.243</td>\n      <td>0.310107</td>\n      <td>0.163603</td>\n      <td>0.338480</td>\n      <td>0.309098</td>\n    </tr>\n    <tr>\n      <th>11</th>\n      <td>participatedin</td>\n      <td>hascapital</td>\n      <td>0.5</td>\n      <td>0.3</td>\n      <td>0.5</td>\n      <td>0.2</td>\n      <td>7</td>\n      <td>participatedin(A,B) :- happenedin(B,A)</td>\n      <td>703</td>\n      <td>5052</td>\n      <td>0.293349</td>\n      <td>0.139153</td>\n      <td>0.469136</td>\n      <td>0.243</td>\n      <td>0.310107</td>\n      <td>0.163603</td>\n      <td>0.300871</td>\n      <td>0.300778</td>\n    </tr>\n    <tr>\n      <th>12</th>\n      <td>participatedin</td>\n      <td>hascapital</td>\n      <td>0.5</td>\n      <td>0.3</td>\n      <td>0.5</td>\n      <td>0.3</td>\n      <td>7</td>\n      <td>participatedin(A,B) :- happenedin(B,A)</td>\n      <td>703</td>\n      <td>5052</td>\n      <td>0.293349</td>\n      <td>0.139153</td>\n      <td>0.469136</td>\n      <td>0.243</td>\n      <td>0.310107</td>\n      <td>0.163603</td>\n      <td>0.288335</td>\n      <td>0.292895</td>\n    </tr>\n    <tr>\n      <th>13</th>\n      <td>participatedin</td>\n      <td>hascapital</td>\n      <td>0.5</td>\n      <td>0.3</td>\n      <td>0.5</td>\n      <td>0.4</td>\n      <td>7</td>\n      <td>participatedin(A,B) :- happenedin(B,A)</td>\n      <td>703</td>\n      <td>5052</td>\n      <td>0.293349</td>\n      <td>0.139153</td>\n      <td>0.469136</td>\n      <td>0.243</td>\n      <td>0.310107</td>\n      <td>0.163603</td>\n      <td>0.282067</td>\n      <td>0.285414</td>\n    </tr>\n    <tr>\n      <th>14</th>\n      <td>participatedin</td>\n      <td>hascapital</td>\n      <td>0.5</td>\n      <td>0.3</td>\n      <td>0.5</td>\n      <td>0.5</td>\n      <td>7</td>\n      <td>participatedin(A,B) :- happenedin(B,A)</td>\n      <td>703</td>\n      <td>5052</td>\n      <td>0.293349</td>\n      <td>0.139153</td>\n      <td>0.469136</td>\n      <td>0.243</td>\n      <td>0.310107</td>\n      <td>0.163603</td>\n      <td>0.278306</td>\n      <td>0.278306</td>\n    </tr>\n  </tbody>\n</table>\n</div>"
     },
     "execution_count": 10,
     "metadata": {},
     "output_type": "execute_result"
    }
   ],
   "source": [
    "df_rule_wrappers_all_targets.drop(\n",
    "        [ConfidenceEnum.IPW_PCA_CONF_S_TO_O.value,\n",
    "         ConfidenceEnum.IPW_PCA_CONF_O_TO_S.value],\n",
    "        axis=1,\n",
    "        inplace=True,\n",
    "        errors='ignore'\n",
    ")\n",
    "df_rule_wrappers_all_targets.head()\n"
   ],
   "metadata": {
    "collapsed": false,
    "pycharm": {
     "name": "#%%\n"
    }
   }
  },
  {
   "cell_type": "markdown",
   "source": [
    "### 2.4 Drop the $c_{q}=0.5$ column"
   ],
   "metadata": {
    "collapsed": false
   }
  },
  {
   "cell_type": "code",
   "execution_count": 11,
   "outputs": [
    {
     "data": {
      "text/plain": "   target_relation filter_relation  true_other  noisy_other  \\\n10  participatedin      hascapital         0.3          0.1   \n11  participatedin      hascapital         0.3          0.2   \n12  participatedin      hascapital         0.3          0.3   \n13  participatedin      hascapital         0.3          0.4   \n14  participatedin      hascapital         0.3          0.5   \n\n    random_trial_index                                    Rule  \\\n10                   7  participatedin(A,B) :- happenedin(B,A)   \n11                   7  participatedin(A,B) :- happenedin(B,A)   \n12                   7  participatedin(A,B) :- happenedin(B,A)   \n13                   7  participatedin(A,B) :- happenedin(B,A)   \n14                   7  participatedin(A,B) :- happenedin(B,A)   \n\n    Nb supported predictions  Body size    $conf$       CWA  \\\n10                       703       5052  0.293349  0.139153   \n11                       703       5052  0.293349  0.139153   \n12                       703       5052  0.293349  0.139153   \n13                       703       5052  0.293349  0.139153   \n14                       703       5052  0.293349  0.139153   \n\n    $\\frac{\\left| \\mathbf{R}\\right|}{\\left| \\mathbf{R_s}\\right|} conf$ $p$  \\\n10                                           0.469136                        \n11                                           0.469136                        \n12                                           0.469136                        \n13                                           0.469136                        \n14                                           0.469136                        \n\n    PCA $p$  \\\n10    0.243   \n11    0.243   \n12    0.243   \n13    0.243   \n14    0.243   \n\n    $\\frac{\\left| \\mathbf{R}\\right|}{\\left| \\mathbf{R_s}\\right|} conf$ $p^{-1}$  \\\n10                                           0.310107                             \n11                                           0.310107                             \n12                                           0.310107                             \n13                                           0.310107                             \n14                                           0.310107                             \n\n    PCA ${p^{-1}}$       IPW       ICW  \n10        0.163603  0.338480  0.309098  \n11        0.163603  0.300871  0.300778  \n12        0.163603  0.288335  0.292895  \n13        0.163603  0.282067  0.285414  \n14        0.163603  0.278306  0.278306  ",
      "text/html": "<div>\n<style scoped>\n    .dataframe tbody tr th:only-of-type {\n        vertical-align: middle;\n    }\n\n    .dataframe tbody tr th {\n        vertical-align: top;\n    }\n\n    .dataframe thead th {\n        text-align: right;\n    }\n</style>\n<table border=\"1\" class=\"dataframe\">\n  <thead>\n    <tr style=\"text-align: right;\">\n      <th></th>\n      <th>target_relation</th>\n      <th>filter_relation</th>\n      <th>true_other</th>\n      <th>noisy_other</th>\n      <th>random_trial_index</th>\n      <th>Rule</th>\n      <th>Nb supported predictions</th>\n      <th>Body size</th>\n      <th>$conf$</th>\n      <th>CWA</th>\n      <th>$\\frac{\\left| \\mathbf{R}\\right|}{\\left| \\mathbf{R_s}\\right|} conf$ $p$</th>\n      <th>PCA $p$</th>\n      <th>$\\frac{\\left| \\mathbf{R}\\right|}{\\left| \\mathbf{R_s}\\right|} conf$ $p^{-1}$</th>\n      <th>PCA ${p^{-1}}$</th>\n      <th>IPW</th>\n      <th>ICW</th>\n    </tr>\n  </thead>\n  <tbody>\n    <tr>\n      <th>10</th>\n      <td>participatedin</td>\n      <td>hascapital</td>\n      <td>0.3</td>\n      <td>0.1</td>\n      <td>7</td>\n      <td>participatedin(A,B) :- happenedin(B,A)</td>\n      <td>703</td>\n      <td>5052</td>\n      <td>0.293349</td>\n      <td>0.139153</td>\n      <td>0.469136</td>\n      <td>0.243</td>\n      <td>0.310107</td>\n      <td>0.163603</td>\n      <td>0.338480</td>\n      <td>0.309098</td>\n    </tr>\n    <tr>\n      <th>11</th>\n      <td>participatedin</td>\n      <td>hascapital</td>\n      <td>0.3</td>\n      <td>0.2</td>\n      <td>7</td>\n      <td>participatedin(A,B) :- happenedin(B,A)</td>\n      <td>703</td>\n      <td>5052</td>\n      <td>0.293349</td>\n      <td>0.139153</td>\n      <td>0.469136</td>\n      <td>0.243</td>\n      <td>0.310107</td>\n      <td>0.163603</td>\n      <td>0.300871</td>\n      <td>0.300778</td>\n    </tr>\n    <tr>\n      <th>12</th>\n      <td>participatedin</td>\n      <td>hascapital</td>\n      <td>0.3</td>\n      <td>0.3</td>\n      <td>7</td>\n      <td>participatedin(A,B) :- happenedin(B,A)</td>\n      <td>703</td>\n      <td>5052</td>\n      <td>0.293349</td>\n      <td>0.139153</td>\n      <td>0.469136</td>\n      <td>0.243</td>\n      <td>0.310107</td>\n      <td>0.163603</td>\n      <td>0.288335</td>\n      <td>0.292895</td>\n    </tr>\n    <tr>\n      <th>13</th>\n      <td>participatedin</td>\n      <td>hascapital</td>\n      <td>0.3</td>\n      <td>0.4</td>\n      <td>7</td>\n      <td>participatedin(A,B) :- happenedin(B,A)</td>\n      <td>703</td>\n      <td>5052</td>\n      <td>0.293349</td>\n      <td>0.139153</td>\n      <td>0.469136</td>\n      <td>0.243</td>\n      <td>0.310107</td>\n      <td>0.163603</td>\n      <td>0.282067</td>\n      <td>0.285414</td>\n    </tr>\n    <tr>\n      <th>14</th>\n      <td>participatedin</td>\n      <td>hascapital</td>\n      <td>0.3</td>\n      <td>0.5</td>\n      <td>7</td>\n      <td>participatedin(A,B) :- happenedin(B,A)</td>\n      <td>703</td>\n      <td>5052</td>\n      <td>0.293349</td>\n      <td>0.139153</td>\n      <td>0.469136</td>\n      <td>0.243</td>\n      <td>0.310107</td>\n      <td>0.163603</td>\n      <td>0.278306</td>\n      <td>0.278306</td>\n    </tr>\n  </tbody>\n</table>\n</div>"
     },
     "execution_count": 11,
     "metadata": {},
     "output_type": "execute_result"
    }
   ],
   "source": [
    "df_rule_wrappers_all_targets.drop(\n",
    "        [\"true_filter\", \"noisy_filter\"],\n",
    "        axis=1,\n",
    "        inplace=True,\n",
    "        errors='ignore'\n",
    ")\n",
    "column_names_logistics = [\n",
    "    col for col in column_names_logistics\n",
    "    if col != \"true_filter\"\n",
    "       and col != \"noisy_filter\"\n",
    "]\n",
    "df_rule_wrappers_all_targets.head()"
   ],
   "metadata": {
    "collapsed": false,
    "pycharm": {
     "name": "#%%\n"
    }
   }
  },
  {
   "cell_type": "code",
   "execution_count": 12,
   "outputs": [],
   "source": [
    "group_by_list =  [\n",
    "    \"target_relation\",\n",
    "    \"filter_relation\",\n",
    "    'true_other',\n",
    "    'noisy_other',\n",
    "    \"Rule\",\n",
    "    \"random_trial_index\"\n",
    "]\n",
    "df_count_trials: pd.DataFrame = df_rule_wrappers_all_targets[\n",
    "      [\n",
    "        \"target_relation\",\n",
    "        \"filter_relation\",\n",
    "        'true_other',\n",
    "        'noisy_other',\n",
    "        \"Rule\",\n",
    "        \"random_trial_index\"\n",
    "    ]\n",
    "].groupby(\n",
    "    [\n",
    "    \"target_relation\",\n",
    "    \"filter_relation\",\n",
    "    'true_other',\n",
    "    'noisy_other',\n",
    "    \"Rule\",\n",
    "    ]\n",
    ").count().reset_index()"
   ],
   "metadata": {
    "collapsed": false,
    "pycharm": {
     "name": "#%%\n"
    }
   }
  },
  {
   "cell_type": "code",
   "execution_count": 13,
   "outputs": [
    {
     "data": {
      "text/plain": "    target_relation filter_relation  true_other  noisy_other  \\\n700  isaffiliatedto       wasbornin         0.3          0.1   \n701  isaffiliatedto       wasbornin         0.3          0.2   \n702  isaffiliatedto       wasbornin         0.3          0.3   \n703  isaffiliatedto       wasbornin         0.3          0.4   \n704  isaffiliatedto       wasbornin         0.3          0.5   \n705  isaffiliatedto       wasbornin         0.3          0.6   \n706  isaffiliatedto       wasbornin         0.3          0.7   \n707  isaffiliatedto       wasbornin         0.3          0.8   \n708  isaffiliatedto       wasbornin         0.3          0.9   \n709  isaffiliatedto       wasbornin         0.3          1.0   \n710  isaffiliatedto       wasbornin         0.7          0.1   \n711  isaffiliatedto       wasbornin         0.7          0.2   \n712  isaffiliatedto       wasbornin         0.7          0.3   \n713  isaffiliatedto       wasbornin         0.7          0.4   \n714  isaffiliatedto       wasbornin         0.7          0.5   \n715  isaffiliatedto       wasbornin         0.7          0.6   \n716  isaffiliatedto       wasbornin         0.7          0.7   \n717  isaffiliatedto       wasbornin         0.7          0.8   \n718  isaffiliatedto       wasbornin         0.7          0.9   \n719  isaffiliatedto       wasbornin         0.7          1.0   \n\n                                     Rule  random_trial_index  \n700  isaffiliatedto(A,B) :- playsfor(A,B)                   5  \n701  isaffiliatedto(A,B) :- playsfor(A,B)                   5  \n702  isaffiliatedto(A,B) :- playsfor(A,B)                   5  \n703  isaffiliatedto(A,B) :- playsfor(A,B)                   5  \n704  isaffiliatedto(A,B) :- playsfor(A,B)                   5  \n705  isaffiliatedto(A,B) :- playsfor(A,B)                   5  \n706  isaffiliatedto(A,B) :- playsfor(A,B)                   5  \n707  isaffiliatedto(A,B) :- playsfor(A,B)                   5  \n708  isaffiliatedto(A,B) :- playsfor(A,B)                   5  \n709  isaffiliatedto(A,B) :- playsfor(A,B)                   5  \n710  isaffiliatedto(A,B) :- playsfor(A,B)                   5  \n711  isaffiliatedto(A,B) :- playsfor(A,B)                   5  \n712  isaffiliatedto(A,B) :- playsfor(A,B)                   5  \n713  isaffiliatedto(A,B) :- playsfor(A,B)                   5  \n714  isaffiliatedto(A,B) :- playsfor(A,B)                   5  \n715  isaffiliatedto(A,B) :- playsfor(A,B)                   5  \n716  isaffiliatedto(A,B) :- playsfor(A,B)                   5  \n717  isaffiliatedto(A,B) :- playsfor(A,B)                   5  \n718  isaffiliatedto(A,B) :- playsfor(A,B)                   5  \n719  isaffiliatedto(A,B) :- playsfor(A,B)                   5  ",
      "text/html": "<div>\n<style scoped>\n    .dataframe tbody tr th:only-of-type {\n        vertical-align: middle;\n    }\n\n    .dataframe tbody tr th {\n        vertical-align: top;\n    }\n\n    .dataframe thead th {\n        text-align: right;\n    }\n</style>\n<table border=\"1\" class=\"dataframe\">\n  <thead>\n    <tr style=\"text-align: right;\">\n      <th></th>\n      <th>target_relation</th>\n      <th>filter_relation</th>\n      <th>true_other</th>\n      <th>noisy_other</th>\n      <th>Rule</th>\n      <th>random_trial_index</th>\n    </tr>\n  </thead>\n  <tbody>\n    <tr>\n      <th>700</th>\n      <td>isaffiliatedto</td>\n      <td>wasbornin</td>\n      <td>0.3</td>\n      <td>0.1</td>\n      <td>isaffiliatedto(A,B) :- playsfor(A,B)</td>\n      <td>5</td>\n    </tr>\n    <tr>\n      <th>701</th>\n      <td>isaffiliatedto</td>\n      <td>wasbornin</td>\n      <td>0.3</td>\n      <td>0.2</td>\n      <td>isaffiliatedto(A,B) :- playsfor(A,B)</td>\n      <td>5</td>\n    </tr>\n    <tr>\n      <th>702</th>\n      <td>isaffiliatedto</td>\n      <td>wasbornin</td>\n      <td>0.3</td>\n      <td>0.3</td>\n      <td>isaffiliatedto(A,B) :- playsfor(A,B)</td>\n      <td>5</td>\n    </tr>\n    <tr>\n      <th>703</th>\n      <td>isaffiliatedto</td>\n      <td>wasbornin</td>\n      <td>0.3</td>\n      <td>0.4</td>\n      <td>isaffiliatedto(A,B) :- playsfor(A,B)</td>\n      <td>5</td>\n    </tr>\n    <tr>\n      <th>704</th>\n      <td>isaffiliatedto</td>\n      <td>wasbornin</td>\n      <td>0.3</td>\n      <td>0.5</td>\n      <td>isaffiliatedto(A,B) :- playsfor(A,B)</td>\n      <td>5</td>\n    </tr>\n    <tr>\n      <th>705</th>\n      <td>isaffiliatedto</td>\n      <td>wasbornin</td>\n      <td>0.3</td>\n      <td>0.6</td>\n      <td>isaffiliatedto(A,B) :- playsfor(A,B)</td>\n      <td>5</td>\n    </tr>\n    <tr>\n      <th>706</th>\n      <td>isaffiliatedto</td>\n      <td>wasbornin</td>\n      <td>0.3</td>\n      <td>0.7</td>\n      <td>isaffiliatedto(A,B) :- playsfor(A,B)</td>\n      <td>5</td>\n    </tr>\n    <tr>\n      <th>707</th>\n      <td>isaffiliatedto</td>\n      <td>wasbornin</td>\n      <td>0.3</td>\n      <td>0.8</td>\n      <td>isaffiliatedto(A,B) :- playsfor(A,B)</td>\n      <td>5</td>\n    </tr>\n    <tr>\n      <th>708</th>\n      <td>isaffiliatedto</td>\n      <td>wasbornin</td>\n      <td>0.3</td>\n      <td>0.9</td>\n      <td>isaffiliatedto(A,B) :- playsfor(A,B)</td>\n      <td>5</td>\n    </tr>\n    <tr>\n      <th>709</th>\n      <td>isaffiliatedto</td>\n      <td>wasbornin</td>\n      <td>0.3</td>\n      <td>1.0</td>\n      <td>isaffiliatedto(A,B) :- playsfor(A,B)</td>\n      <td>5</td>\n    </tr>\n    <tr>\n      <th>710</th>\n      <td>isaffiliatedto</td>\n      <td>wasbornin</td>\n      <td>0.7</td>\n      <td>0.1</td>\n      <td>isaffiliatedto(A,B) :- playsfor(A,B)</td>\n      <td>5</td>\n    </tr>\n    <tr>\n      <th>711</th>\n      <td>isaffiliatedto</td>\n      <td>wasbornin</td>\n      <td>0.7</td>\n      <td>0.2</td>\n      <td>isaffiliatedto(A,B) :- playsfor(A,B)</td>\n      <td>5</td>\n    </tr>\n    <tr>\n      <th>712</th>\n      <td>isaffiliatedto</td>\n      <td>wasbornin</td>\n      <td>0.7</td>\n      <td>0.3</td>\n      <td>isaffiliatedto(A,B) :- playsfor(A,B)</td>\n      <td>5</td>\n    </tr>\n    <tr>\n      <th>713</th>\n      <td>isaffiliatedto</td>\n      <td>wasbornin</td>\n      <td>0.7</td>\n      <td>0.4</td>\n      <td>isaffiliatedto(A,B) :- playsfor(A,B)</td>\n      <td>5</td>\n    </tr>\n    <tr>\n      <th>714</th>\n      <td>isaffiliatedto</td>\n      <td>wasbornin</td>\n      <td>0.7</td>\n      <td>0.5</td>\n      <td>isaffiliatedto(A,B) :- playsfor(A,B)</td>\n      <td>5</td>\n    </tr>\n    <tr>\n      <th>715</th>\n      <td>isaffiliatedto</td>\n      <td>wasbornin</td>\n      <td>0.7</td>\n      <td>0.6</td>\n      <td>isaffiliatedto(A,B) :- playsfor(A,B)</td>\n      <td>5</td>\n    </tr>\n    <tr>\n      <th>716</th>\n      <td>isaffiliatedto</td>\n      <td>wasbornin</td>\n      <td>0.7</td>\n      <td>0.7</td>\n      <td>isaffiliatedto(A,B) :- playsfor(A,B)</td>\n      <td>5</td>\n    </tr>\n    <tr>\n      <th>717</th>\n      <td>isaffiliatedto</td>\n      <td>wasbornin</td>\n      <td>0.7</td>\n      <td>0.8</td>\n      <td>isaffiliatedto(A,B) :- playsfor(A,B)</td>\n      <td>5</td>\n    </tr>\n    <tr>\n      <th>718</th>\n      <td>isaffiliatedto</td>\n      <td>wasbornin</td>\n      <td>0.7</td>\n      <td>0.9</td>\n      <td>isaffiliatedto(A,B) :- playsfor(A,B)</td>\n      <td>5</td>\n    </tr>\n    <tr>\n      <th>719</th>\n      <td>isaffiliatedto</td>\n      <td>wasbornin</td>\n      <td>0.7</td>\n      <td>1.0</td>\n      <td>isaffiliatedto(A,B) :- playsfor(A,B)</td>\n      <td>5</td>\n    </tr>\n  </tbody>\n</table>\n</div>"
     },
     "execution_count": 13,
     "metadata": {},
     "output_type": "execute_result"
    }
   ],
   "source": [
    "df_less_than_ten_trials: pd.DataFrame = df_count_trials[df_count_trials[\"random_trial_index\"].values != 10]\n",
    "df_less_than_ten_trials"
   ],
   "metadata": {
    "collapsed": false,
    "pycharm": {
     "name": "#%%\n"
    }
   }
  },
  {
   "cell_type": "code",
   "execution_count": 14,
   "outputs": [
    {
     "data": {
      "text/plain": "   target_relation filter_relation  true_other  noisy_other  \\\n10  participatedin      hascapital         0.3          0.1   \n11  participatedin      hascapital         0.3          0.2   \n12  participatedin      hascapital         0.3          0.3   \n13  participatedin      hascapital         0.3          0.4   \n14  participatedin      hascapital         0.3          0.5   \n\n    random_trial_index                                    Rule  \\\n10                   7  participatedin(A,B) :- happenedin(B,A)   \n11                   7  participatedin(A,B) :- happenedin(B,A)   \n12                   7  participatedin(A,B) :- happenedin(B,A)   \n13                   7  participatedin(A,B) :- happenedin(B,A)   \n14                   7  participatedin(A,B) :- happenedin(B,A)   \n\n    Nb supported predictions  Body size    $conf$       CWA  \\\n10                       703       5052  0.293349  0.139153   \n11                       703       5052  0.293349  0.139153   \n12                       703       5052  0.293349  0.139153   \n13                       703       5052  0.293349  0.139153   \n14                       703       5052  0.293349  0.139153   \n\n    $\\frac{\\left| \\mathbf{R}\\right|}{\\left| \\mathbf{R_s}\\right|} conf$ $p$  \\\n10                                           0.469136                        \n11                                           0.469136                        \n12                                           0.469136                        \n13                                           0.469136                        \n14                                           0.469136                        \n\n    PCA $p$  \\\n10    0.243   \n11    0.243   \n12    0.243   \n13    0.243   \n14    0.243   \n\n    $\\frac{\\left| \\mathbf{R}\\right|}{\\left| \\mathbf{R_s}\\right|} conf$ $p^{-1}$  \\\n10                                           0.310107                             \n11                                           0.310107                             \n12                                           0.310107                             \n13                                           0.310107                             \n14                                           0.310107                             \n\n    PCA ${p^{-1}}$       IPW       ICW  \n10        0.163603  0.338480  0.309098  \n11        0.163603  0.300871  0.300778  \n12        0.163603  0.288335  0.292895  \n13        0.163603  0.282067  0.285414  \n14        0.163603  0.278306  0.278306  ",
      "text/html": "<div>\n<style scoped>\n    .dataframe tbody tr th:only-of-type {\n        vertical-align: middle;\n    }\n\n    .dataframe tbody tr th {\n        vertical-align: top;\n    }\n\n    .dataframe thead th {\n        text-align: right;\n    }\n</style>\n<table border=\"1\" class=\"dataframe\">\n  <thead>\n    <tr style=\"text-align: right;\">\n      <th></th>\n      <th>target_relation</th>\n      <th>filter_relation</th>\n      <th>true_other</th>\n      <th>noisy_other</th>\n      <th>random_trial_index</th>\n      <th>Rule</th>\n      <th>Nb supported predictions</th>\n      <th>Body size</th>\n      <th>$conf$</th>\n      <th>CWA</th>\n      <th>$\\frac{\\left| \\mathbf{R}\\right|}{\\left| \\mathbf{R_s}\\right|} conf$ $p$</th>\n      <th>PCA $p$</th>\n      <th>$\\frac{\\left| \\mathbf{R}\\right|}{\\left| \\mathbf{R_s}\\right|} conf$ $p^{-1}$</th>\n      <th>PCA ${p^{-1}}$</th>\n      <th>IPW</th>\n      <th>ICW</th>\n    </tr>\n  </thead>\n  <tbody>\n    <tr>\n      <th>10</th>\n      <td>participatedin</td>\n      <td>hascapital</td>\n      <td>0.3</td>\n      <td>0.1</td>\n      <td>7</td>\n      <td>participatedin(A,B) :- happenedin(B,A)</td>\n      <td>703</td>\n      <td>5052</td>\n      <td>0.293349</td>\n      <td>0.139153</td>\n      <td>0.469136</td>\n      <td>0.243</td>\n      <td>0.310107</td>\n      <td>0.163603</td>\n      <td>0.338480</td>\n      <td>0.309098</td>\n    </tr>\n    <tr>\n      <th>11</th>\n      <td>participatedin</td>\n      <td>hascapital</td>\n      <td>0.3</td>\n      <td>0.2</td>\n      <td>7</td>\n      <td>participatedin(A,B) :- happenedin(B,A)</td>\n      <td>703</td>\n      <td>5052</td>\n      <td>0.293349</td>\n      <td>0.139153</td>\n      <td>0.469136</td>\n      <td>0.243</td>\n      <td>0.310107</td>\n      <td>0.163603</td>\n      <td>0.300871</td>\n      <td>0.300778</td>\n    </tr>\n    <tr>\n      <th>12</th>\n      <td>participatedin</td>\n      <td>hascapital</td>\n      <td>0.3</td>\n      <td>0.3</td>\n      <td>7</td>\n      <td>participatedin(A,B) :- happenedin(B,A)</td>\n      <td>703</td>\n      <td>5052</td>\n      <td>0.293349</td>\n      <td>0.139153</td>\n      <td>0.469136</td>\n      <td>0.243</td>\n      <td>0.310107</td>\n      <td>0.163603</td>\n      <td>0.288335</td>\n      <td>0.292895</td>\n    </tr>\n    <tr>\n      <th>13</th>\n      <td>participatedin</td>\n      <td>hascapital</td>\n      <td>0.3</td>\n      <td>0.4</td>\n      <td>7</td>\n      <td>participatedin(A,B) :- happenedin(B,A)</td>\n      <td>703</td>\n      <td>5052</td>\n      <td>0.293349</td>\n      <td>0.139153</td>\n      <td>0.469136</td>\n      <td>0.243</td>\n      <td>0.310107</td>\n      <td>0.163603</td>\n      <td>0.282067</td>\n      <td>0.285414</td>\n    </tr>\n    <tr>\n      <th>14</th>\n      <td>participatedin</td>\n      <td>hascapital</td>\n      <td>0.3</td>\n      <td>0.5</td>\n      <td>7</td>\n      <td>participatedin(A,B) :- happenedin(B,A)</td>\n      <td>703</td>\n      <td>5052</td>\n      <td>0.293349</td>\n      <td>0.139153</td>\n      <td>0.469136</td>\n      <td>0.243</td>\n      <td>0.310107</td>\n      <td>0.163603</td>\n      <td>0.278306</td>\n      <td>0.278306</td>\n    </tr>\n  </tbody>\n</table>\n</div>"
     },
     "execution_count": 14,
     "metadata": {},
     "output_type": "execute_result"
    }
   ],
   "source": [
    "df_rule_wrappers_all_targets = df_rule_wrappers_all_targets[\n",
    "    ~(\n",
    "    (df_rule_wrappers_all_targets[\"target_relation\"] == \"isaffiliatedto\")\n",
    "    &\n",
    "    (df_rule_wrappers_all_targets[\"filter_relation\"] == \"wasbornin\")\n",
    "    &\n",
    "    (df_rule_wrappers_all_targets[\"Rule\"]==\"isaffiliatedto(A,B) :- playsfor(A,B)\")\n",
    "    )\n",
    "]\n",
    "df_rule_wrappers_all_targets.head()\n"
   ],
   "metadata": {
    "collapsed": false,
    "pycharm": {
     "name": "#%%\n"
    }
   }
  },
  {
   "cell_type": "markdown",
   "source": [
    "**Now, we have the full dataframe**\n",
    "\n",
    "****"
   ],
   "metadata": {
    "collapsed": false
   }
  },
  {
   "cell_type": "markdown",
   "source": [
    "## Calculate $[conf(R) - \\widehat{conf}(R)]$"
   ],
   "metadata": {
    "collapsed": false
   }
  },
  {
   "cell_type": "code",
   "execution_count": 15,
   "outputs": [],
   "source": [
    "true_conf: ConfidenceEnum = ConfidenceEnum.TRUE_CONF\n",
    "\n",
    "conf_estimators_list: List[ConfidenceEnum] = [\n",
    "    ConfidenceEnum.CWA_CONF,\n",
    "    ConfidenceEnum.ICW_CONF,\n",
    "    ConfidenceEnum.PCA_CONF_S_TO_O,\n",
    "    ConfidenceEnum.PCA_CONF_O_TO_S,\n",
    "     ConfidenceEnum.IPW_CONF,\n",
    "]\n",
    "all_confs_list: List[ConfidenceEnum] = [ConfidenceEnum.TRUE_CONF ] + conf_estimators_list\n",
    "\n",
    "column_names_all_confs: List[str] = [\n",
    "    conf.get_name()\n",
    "    for conf in all_confs_list\n",
    "]"
   ],
   "metadata": {
    "collapsed": false,
    "pycharm": {
     "name": "#%%\n"
    }
   }
  },
  {
   "cell_type": "code",
   "execution_count": 16,
   "outputs": [
    {
     "data": {
      "text/plain": "   target_relation filter_relation  true_other  noisy_other  \\\n10  participatedin      hascapital         0.3          0.1   \n11  participatedin      hascapital         0.3          0.2   \n12  participatedin      hascapital         0.3          0.3   \n13  participatedin      hascapital         0.3          0.4   \n14  participatedin      hascapital         0.3          0.5   \n\n    random_trial_index                                    Rule    $conf$  \\\n10                   7  participatedin(A,B) :- happenedin(B,A)  0.293349   \n11                   7  participatedin(A,B) :- happenedin(B,A)  0.293349   \n12                   7  participatedin(A,B) :- happenedin(B,A)  0.293349   \n13                   7  participatedin(A,B) :- happenedin(B,A)  0.293349   \n14                   7  participatedin(A,B) :- happenedin(B,A)  0.293349   \n\n         CWA       ICW  PCA $p$  PCA ${p^{-1}}$       IPW  \n10  0.139153  0.309098    0.243        0.163603  0.338480  \n11  0.139153  0.300778    0.243        0.163603  0.300871  \n12  0.139153  0.292895    0.243        0.163603  0.288335  \n13  0.139153  0.285414    0.243        0.163603  0.282067  \n14  0.139153  0.278306    0.243        0.163603  0.278306  ",
      "text/html": "<div>\n<style scoped>\n    .dataframe tbody tr th:only-of-type {\n        vertical-align: middle;\n    }\n\n    .dataframe tbody tr th {\n        vertical-align: top;\n    }\n\n    .dataframe thead th {\n        text-align: right;\n    }\n</style>\n<table border=\"1\" class=\"dataframe\">\n  <thead>\n    <tr style=\"text-align: right;\">\n      <th></th>\n      <th>target_relation</th>\n      <th>filter_relation</th>\n      <th>true_other</th>\n      <th>noisy_other</th>\n      <th>random_trial_index</th>\n      <th>Rule</th>\n      <th>$conf$</th>\n      <th>CWA</th>\n      <th>ICW</th>\n      <th>PCA $p$</th>\n      <th>PCA ${p^{-1}}$</th>\n      <th>IPW</th>\n    </tr>\n  </thead>\n  <tbody>\n    <tr>\n      <th>10</th>\n      <td>participatedin</td>\n      <td>hascapital</td>\n      <td>0.3</td>\n      <td>0.1</td>\n      <td>7</td>\n      <td>participatedin(A,B) :- happenedin(B,A)</td>\n      <td>0.293349</td>\n      <td>0.139153</td>\n      <td>0.309098</td>\n      <td>0.243</td>\n      <td>0.163603</td>\n      <td>0.338480</td>\n    </tr>\n    <tr>\n      <th>11</th>\n      <td>participatedin</td>\n      <td>hascapital</td>\n      <td>0.3</td>\n      <td>0.2</td>\n      <td>7</td>\n      <td>participatedin(A,B) :- happenedin(B,A)</td>\n      <td>0.293349</td>\n      <td>0.139153</td>\n      <td>0.300778</td>\n      <td>0.243</td>\n      <td>0.163603</td>\n      <td>0.300871</td>\n    </tr>\n    <tr>\n      <th>12</th>\n      <td>participatedin</td>\n      <td>hascapital</td>\n      <td>0.3</td>\n      <td>0.3</td>\n      <td>7</td>\n      <td>participatedin(A,B) :- happenedin(B,A)</td>\n      <td>0.293349</td>\n      <td>0.139153</td>\n      <td>0.292895</td>\n      <td>0.243</td>\n      <td>0.163603</td>\n      <td>0.288335</td>\n    </tr>\n    <tr>\n      <th>13</th>\n      <td>participatedin</td>\n      <td>hascapital</td>\n      <td>0.3</td>\n      <td>0.4</td>\n      <td>7</td>\n      <td>participatedin(A,B) :- happenedin(B,A)</td>\n      <td>0.293349</td>\n      <td>0.139153</td>\n      <td>0.285414</td>\n      <td>0.243</td>\n      <td>0.163603</td>\n      <td>0.282067</td>\n    </tr>\n    <tr>\n      <th>14</th>\n      <td>participatedin</td>\n      <td>hascapital</td>\n      <td>0.3</td>\n      <td>0.5</td>\n      <td>7</td>\n      <td>participatedin(A,B) :- happenedin(B,A)</td>\n      <td>0.293349</td>\n      <td>0.139153</td>\n      <td>0.278306</td>\n      <td>0.243</td>\n      <td>0.163603</td>\n      <td>0.278306</td>\n    </tr>\n  </tbody>\n</table>\n</div>"
     },
     "execution_count": 16,
     "metadata": {},
     "output_type": "execute_result"
    }
   ],
   "source": [
    "df_rule_wrappers_all_targets = df_rule_wrappers_all_targets[\n",
    "    column_names_logistics + column_names_all_confs\n",
    "]\n",
    "df_rule_wrappers_all_targets.head()"
   ],
   "metadata": {
    "collapsed": false,
    "pycharm": {
     "name": "#%%\n"
    }
   }
  },
  {
   "cell_type": "code",
   "execution_count": 17,
   "outputs": [
    {
     "data": {
      "text/plain": "    target_relation filter_relation  true_other  noisy_other  \\\n12   participatedin      hascapital         0.3          0.3   \n32   participatedin      hascapital         0.3          0.3   \n42   participatedin      hascapital         0.3          0.3   \n72   participatedin      hascapital         0.3          0.3   \n102  participatedin      hascapital         0.3          0.3   \n\n     random_trial_index                                    Rule    $conf$  \\\n12                    7  participatedin(A,B) :- happenedin(B,A)  0.293349   \n32                    6  participatedin(A,B) :- happenedin(B,A)  0.293349   \n42                    9  participatedin(A,B) :- happenedin(B,A)  0.293349   \n72                    2  participatedin(A,B) :- happenedin(B,A)  0.293349   \n102                   0  participatedin(A,B) :- happenedin(B,A)  0.293349   \n\n          CWA       ICW   PCA $p$  PCA ${p^{-1}}$       IPW  \n12   0.139153  0.292895  0.243000        0.163603  0.288335  \n32   0.140340  0.295493  0.246780        0.165384  0.290710  \n42   0.145289  0.305180  0.256554        0.168040  0.301927  \n72   0.138757  0.291523  0.243065        0.168186  0.290446  \n102  0.146477  0.306550  0.255701        0.170232  0.304038  ",
      "text/html": "<div>\n<style scoped>\n    .dataframe tbody tr th:only-of-type {\n        vertical-align: middle;\n    }\n\n    .dataframe tbody tr th {\n        vertical-align: top;\n    }\n\n    .dataframe thead th {\n        text-align: right;\n    }\n</style>\n<table border=\"1\" class=\"dataframe\">\n  <thead>\n    <tr style=\"text-align: right;\">\n      <th></th>\n      <th>target_relation</th>\n      <th>filter_relation</th>\n      <th>true_other</th>\n      <th>noisy_other</th>\n      <th>random_trial_index</th>\n      <th>Rule</th>\n      <th>$conf$</th>\n      <th>CWA</th>\n      <th>ICW</th>\n      <th>PCA $p$</th>\n      <th>PCA ${p^{-1}}$</th>\n      <th>IPW</th>\n    </tr>\n  </thead>\n  <tbody>\n    <tr>\n      <th>12</th>\n      <td>participatedin</td>\n      <td>hascapital</td>\n      <td>0.3</td>\n      <td>0.3</td>\n      <td>7</td>\n      <td>participatedin(A,B) :- happenedin(B,A)</td>\n      <td>0.293349</td>\n      <td>0.139153</td>\n      <td>0.292895</td>\n      <td>0.243000</td>\n      <td>0.163603</td>\n      <td>0.288335</td>\n    </tr>\n    <tr>\n      <th>32</th>\n      <td>participatedin</td>\n      <td>hascapital</td>\n      <td>0.3</td>\n      <td>0.3</td>\n      <td>6</td>\n      <td>participatedin(A,B) :- happenedin(B,A)</td>\n      <td>0.293349</td>\n      <td>0.140340</td>\n      <td>0.295493</td>\n      <td>0.246780</td>\n      <td>0.165384</td>\n      <td>0.290710</td>\n    </tr>\n    <tr>\n      <th>42</th>\n      <td>participatedin</td>\n      <td>hascapital</td>\n      <td>0.3</td>\n      <td>0.3</td>\n      <td>9</td>\n      <td>participatedin(A,B) :- happenedin(B,A)</td>\n      <td>0.293349</td>\n      <td>0.145289</td>\n      <td>0.305180</td>\n      <td>0.256554</td>\n      <td>0.168040</td>\n      <td>0.301927</td>\n    </tr>\n    <tr>\n      <th>72</th>\n      <td>participatedin</td>\n      <td>hascapital</td>\n      <td>0.3</td>\n      <td>0.3</td>\n      <td>2</td>\n      <td>participatedin(A,B) :- happenedin(B,A)</td>\n      <td>0.293349</td>\n      <td>0.138757</td>\n      <td>0.291523</td>\n      <td>0.243065</td>\n      <td>0.168186</td>\n      <td>0.290446</td>\n    </tr>\n    <tr>\n      <th>102</th>\n      <td>participatedin</td>\n      <td>hascapital</td>\n      <td>0.3</td>\n      <td>0.3</td>\n      <td>0</td>\n      <td>participatedin(A,B) :- happenedin(B,A)</td>\n      <td>0.293349</td>\n      <td>0.146477</td>\n      <td>0.306550</td>\n      <td>0.255701</td>\n      <td>0.170232</td>\n      <td>0.304038</td>\n    </tr>\n  </tbody>\n</table>\n</div>"
     },
     "execution_count": 17,
     "metadata": {},
     "output_type": "execute_result"
    }
   ],
   "source": [
    "df_conf_estimators_true_other = df_rule_wrappers_all_targets[\n",
    "    df_rule_wrappers_all_targets[\"true_other\"] == df_rule_wrappers_all_targets[\"noisy_other\"]\n",
    "]\n",
    "df_conf_estimators_true_other.head()"
   ],
   "metadata": {
    "collapsed": false,
    "pycharm": {
     "name": "#%%\n"
    }
   }
  },
  {
   "cell_type": "code",
   "execution_count": 18,
   "outputs": [],
   "source": [
    "column_names_info =ColumnNamesInfo(\n",
    "        true_conf=true_conf,\n",
    "        column_name_true_conf=true_conf.get_name(),\n",
    "        conf_estimators=conf_estimators_list,\n",
    "        column_names_conf_estimators=[\n",
    "            col.get_name()\n",
    "            for col in conf_estimators_list\n",
    "        ],\n",
    "        column_names_logistics=column_names_logistics\n",
    "    )\n"
   ],
   "metadata": {
    "collapsed": false,
    "pycharm": {
     "name": "#%%\n"
    }
   }
  },
  {
   "cell_type": "code",
   "execution_count": 19,
   "outputs": [
    {
     "data": {
      "text/plain": "   target_relation filter_relation  true_other  noisy_other  \\\n10  participatedin      hascapital         0.3          0.1   \n11  participatedin      hascapital         0.3          0.2   \n12  participatedin      hascapital         0.3          0.3   \n13  participatedin      hascapital         0.3          0.4   \n14  participatedin      hascapital         0.3          0.5   \n\n    random_trial_index                                    Rule       CWA  \\\n10                   7  participatedin(A,B) :- happenedin(B,A)  0.023777   \n11                   7  participatedin(A,B) :- happenedin(B,A)  0.023777   \n12                   7  participatedin(A,B) :- happenedin(B,A)  0.023777   \n13                   7  participatedin(A,B) :- happenedin(B,A)  0.023777   \n14                   7  participatedin(A,B) :- happenedin(B,A)  0.023777   \n\n             ICW   PCA $p$  PCA ${p^{-1}}$       IPW  \n10  2.480115e-04  0.002535        0.016834  0.002037  \n11  5.518722e-05  0.002535        0.016834  0.000057  \n12  2.067028e-07  0.002535        0.016834  0.000025  \n13  6.297061e-05  0.002535        0.016834  0.000127  \n14  2.263083e-04  0.002535        0.016834  0.000226  ",
      "text/html": "<div>\n<style scoped>\n    .dataframe tbody tr th:only-of-type {\n        vertical-align: middle;\n    }\n\n    .dataframe tbody tr th {\n        vertical-align: top;\n    }\n\n    .dataframe thead th {\n        text-align: right;\n    }\n</style>\n<table border=\"1\" class=\"dataframe\">\n  <thead>\n    <tr style=\"text-align: right;\">\n      <th></th>\n      <th>target_relation</th>\n      <th>filter_relation</th>\n      <th>true_other</th>\n      <th>noisy_other</th>\n      <th>random_trial_index</th>\n      <th>Rule</th>\n      <th>CWA</th>\n      <th>ICW</th>\n      <th>PCA $p$</th>\n      <th>PCA ${p^{-1}}$</th>\n      <th>IPW</th>\n    </tr>\n  </thead>\n  <tbody>\n    <tr>\n      <th>10</th>\n      <td>participatedin</td>\n      <td>hascapital</td>\n      <td>0.3</td>\n      <td>0.1</td>\n      <td>7</td>\n      <td>participatedin(A,B) :- happenedin(B,A)</td>\n      <td>0.023777</td>\n      <td>2.480115e-04</td>\n      <td>0.002535</td>\n      <td>0.016834</td>\n      <td>0.002037</td>\n    </tr>\n    <tr>\n      <th>11</th>\n      <td>participatedin</td>\n      <td>hascapital</td>\n      <td>0.3</td>\n      <td>0.2</td>\n      <td>7</td>\n      <td>participatedin(A,B) :- happenedin(B,A)</td>\n      <td>0.023777</td>\n      <td>5.518722e-05</td>\n      <td>0.002535</td>\n      <td>0.016834</td>\n      <td>0.000057</td>\n    </tr>\n    <tr>\n      <th>12</th>\n      <td>participatedin</td>\n      <td>hascapital</td>\n      <td>0.3</td>\n      <td>0.3</td>\n      <td>7</td>\n      <td>participatedin(A,B) :- happenedin(B,A)</td>\n      <td>0.023777</td>\n      <td>2.067028e-07</td>\n      <td>0.002535</td>\n      <td>0.016834</td>\n      <td>0.000025</td>\n    </tr>\n    <tr>\n      <th>13</th>\n      <td>participatedin</td>\n      <td>hascapital</td>\n      <td>0.3</td>\n      <td>0.4</td>\n      <td>7</td>\n      <td>participatedin(A,B) :- happenedin(B,A)</td>\n      <td>0.023777</td>\n      <td>6.297061e-05</td>\n      <td>0.002535</td>\n      <td>0.016834</td>\n      <td>0.000127</td>\n    </tr>\n    <tr>\n      <th>14</th>\n      <td>participatedin</td>\n      <td>hascapital</td>\n      <td>0.3</td>\n      <td>0.5</td>\n      <td>7</td>\n      <td>participatedin(A,B) :- happenedin(B,A)</td>\n      <td>0.023777</td>\n      <td>2.263083e-04</td>\n      <td>0.002535</td>\n      <td>0.016834</td>\n      <td>0.000226</td>\n    </tr>\n  </tbody>\n</table>\n</div>"
     },
     "execution_count": 19,
     "metadata": {},
     "output_type": "execute_result"
    }
   ],
   "source": [
    "def get_df_rulewise_squared_diffs_between_true_conf_and_conf_estimator(\n",
    "        df_rule_wrappers: pd.DataFrame,\n",
    "        column_names_info: ColumnNamesInfo\n",
    ") -> pd.DataFrame:\n",
    "    df_rulewise_diffs_between_true_conf_and_conf_estimator: pd.DataFrame = df_rule_wrappers[\n",
    "        column_names_info.column_names_logistics\n",
    "    ]\n",
    "\n",
    "    col_name_estimator: str\n",
    "    for col_name_estimator in column_names_info.column_names_conf_estimators:\n",
    "        df_rulewise_diffs_between_true_conf_and_conf_estimator \\\n",
    "            = df_rulewise_diffs_between_true_conf_and_conf_estimator.assign(\n",
    "                **{\n",
    "                    col_name_estimator: (\n",
    "                        (df_rule_wrappers[column_names_info.column_name_true_conf]\n",
    "                            - df_rule_wrappers[col_name_estimator]) ** 2\n",
    "                    )\n",
    "                }\n",
    "            )\n",
    "    return df_rulewise_diffs_between_true_conf_and_conf_estimator\n",
    "\n",
    "df_conf_squared_errors: pd.DataFrame = get_df_rulewise_squared_diffs_between_true_conf_and_conf_estimator(\n",
    "    df_rule_wrappers=df_rule_wrappers_all_targets,\n",
    "    column_names_info = column_names_info\n",
    ")\n",
    "df_conf_squared_errors.head()\n",
    "\n"
   ],
   "metadata": {
    "collapsed": false,
    "pycharm": {
     "name": "#%%\n"
    }
   }
  },
  {
   "cell_type": "markdown",
   "source": [
    "## AVERAGE the PCA(S) and PCA(O)"
   ],
   "metadata": {
    "collapsed": false
   }
  },
  {
   "cell_type": "code",
   "execution_count": 20,
   "outputs": [
    {
     "data": {
      "text/plain": "   target_relation filter_relation  true_other  noisy_other  \\\n10  participatedin      hascapital         0.3          0.1   \n11  participatedin      hascapital         0.3          0.2   \n12  participatedin      hascapital         0.3          0.3   \n13  participatedin      hascapital         0.3          0.4   \n14  participatedin      hascapital         0.3          0.5   \n\n    random_trial_index                                    Rule       CWA  \\\n10                   7  participatedin(A,B) :- happenedin(B,A)  0.023777   \n11                   7  participatedin(A,B) :- happenedin(B,A)  0.023777   \n12                   7  participatedin(A,B) :- happenedin(B,A)  0.023777   \n13                   7  participatedin(A,B) :- happenedin(B,A)  0.023777   \n14                   7  participatedin(A,B) :- happenedin(B,A)  0.023777   \n\n             ICW   PCA $p$  PCA ${p^{-1}}$       IPW       PCA  \n10  2.480115e-04  0.002535        0.016834  0.002037  0.009685  \n11  5.518722e-05  0.002535        0.016834  0.000057  0.009685  \n12  2.067028e-07  0.002535        0.016834  0.000025  0.009685  \n13  6.297061e-05  0.002535        0.016834  0.000127  0.009685  \n14  2.263083e-04  0.002535        0.016834  0.000226  0.009685  ",
      "text/html": "<div>\n<style scoped>\n    .dataframe tbody tr th:only-of-type {\n        vertical-align: middle;\n    }\n\n    .dataframe tbody tr th {\n        vertical-align: top;\n    }\n\n    .dataframe thead th {\n        text-align: right;\n    }\n</style>\n<table border=\"1\" class=\"dataframe\">\n  <thead>\n    <tr style=\"text-align: right;\">\n      <th></th>\n      <th>target_relation</th>\n      <th>filter_relation</th>\n      <th>true_other</th>\n      <th>noisy_other</th>\n      <th>random_trial_index</th>\n      <th>Rule</th>\n      <th>CWA</th>\n      <th>ICW</th>\n      <th>PCA $p$</th>\n      <th>PCA ${p^{-1}}$</th>\n      <th>IPW</th>\n      <th>PCA</th>\n    </tr>\n  </thead>\n  <tbody>\n    <tr>\n      <th>10</th>\n      <td>participatedin</td>\n      <td>hascapital</td>\n      <td>0.3</td>\n      <td>0.1</td>\n      <td>7</td>\n      <td>participatedin(A,B) :- happenedin(B,A)</td>\n      <td>0.023777</td>\n      <td>2.480115e-04</td>\n      <td>0.002535</td>\n      <td>0.016834</td>\n      <td>0.002037</td>\n      <td>0.009685</td>\n    </tr>\n    <tr>\n      <th>11</th>\n      <td>participatedin</td>\n      <td>hascapital</td>\n      <td>0.3</td>\n      <td>0.2</td>\n      <td>7</td>\n      <td>participatedin(A,B) :- happenedin(B,A)</td>\n      <td>0.023777</td>\n      <td>5.518722e-05</td>\n      <td>0.002535</td>\n      <td>0.016834</td>\n      <td>0.000057</td>\n      <td>0.009685</td>\n    </tr>\n    <tr>\n      <th>12</th>\n      <td>participatedin</td>\n      <td>hascapital</td>\n      <td>0.3</td>\n      <td>0.3</td>\n      <td>7</td>\n      <td>participatedin(A,B) :- happenedin(B,A)</td>\n      <td>0.023777</td>\n      <td>2.067028e-07</td>\n      <td>0.002535</td>\n      <td>0.016834</td>\n      <td>0.000025</td>\n      <td>0.009685</td>\n    </tr>\n    <tr>\n      <th>13</th>\n      <td>participatedin</td>\n      <td>hascapital</td>\n      <td>0.3</td>\n      <td>0.4</td>\n      <td>7</td>\n      <td>participatedin(A,B) :- happenedin(B,A)</td>\n      <td>0.023777</td>\n      <td>6.297061e-05</td>\n      <td>0.002535</td>\n      <td>0.016834</td>\n      <td>0.000127</td>\n      <td>0.009685</td>\n    </tr>\n    <tr>\n      <th>14</th>\n      <td>participatedin</td>\n      <td>hascapital</td>\n      <td>0.3</td>\n      <td>0.5</td>\n      <td>7</td>\n      <td>participatedin(A,B) :- happenedin(B,A)</td>\n      <td>0.023777</td>\n      <td>2.263083e-04</td>\n      <td>0.002535</td>\n      <td>0.016834</td>\n      <td>0.000226</td>\n      <td>0.009685</td>\n    </tr>\n  </tbody>\n</table>\n</div>"
     },
     "execution_count": 20,
     "metadata": {},
     "output_type": "execute_result"
    }
   ],
   "source": [
    "df_conf_squared_errors[\"PCA\"] = (\n",
    "    (\n",
    "            df_conf_squared_errors[ConfidenceEnum.PCA_CONF_S_TO_O.value]\n",
    "            +\n",
    "            df_conf_squared_errors[ConfidenceEnum.PCA_CONF_O_TO_S.value]\n",
    "    ) / 2\n",
    ")\n",
    "df_conf_squared_errors.head()"
   ],
   "metadata": {
    "collapsed": false,
    "pycharm": {
     "name": "#%%\n"
    }
   }
  },
  {
   "cell_type": "code",
   "execution_count": 21,
   "outputs": [
    {
     "data": {
      "text/plain": "   target_relation filter_relation  true_other  noisy_other  \\\n10  participatedin      hascapital         0.3          0.1   \n11  participatedin      hascapital         0.3          0.2   \n12  participatedin      hascapital         0.3          0.3   \n13  participatedin      hascapital         0.3          0.4   \n14  participatedin      hascapital         0.3          0.5   \n\n    random_trial_index                                    Rule       CWA  \\\n10                   7  participatedin(A,B) :- happenedin(B,A)  0.023777   \n11                   7  participatedin(A,B) :- happenedin(B,A)  0.023777   \n12                   7  participatedin(A,B) :- happenedin(B,A)  0.023777   \n13                   7  participatedin(A,B) :- happenedin(B,A)  0.023777   \n14                   7  participatedin(A,B) :- happenedin(B,A)  0.023777   \n\n             ICW   PCA $p$  PCA ${p^{-1}}$       IPW       PCA  \n10  2.480115e-04  0.002535        0.016834  0.002037  0.009685  \n11  5.518722e-05  0.002535        0.016834  0.000057  0.009685  \n12  2.067028e-07  0.002535        0.016834  0.000025  0.009685  \n13  6.297061e-05  0.002535        0.016834  0.000127  0.009685  \n14  2.263083e-04  0.002535        0.016834  0.000226  0.009685  ",
      "text/html": "<div>\n<style scoped>\n    .dataframe tbody tr th:only-of-type {\n        vertical-align: middle;\n    }\n\n    .dataframe tbody tr th {\n        vertical-align: top;\n    }\n\n    .dataframe thead th {\n        text-align: right;\n    }\n</style>\n<table border=\"1\" class=\"dataframe\">\n  <thead>\n    <tr style=\"text-align: right;\">\n      <th></th>\n      <th>target_relation</th>\n      <th>filter_relation</th>\n      <th>true_other</th>\n      <th>noisy_other</th>\n      <th>random_trial_index</th>\n      <th>Rule</th>\n      <th>CWA</th>\n      <th>ICW</th>\n      <th>PCA $p$</th>\n      <th>PCA ${p^{-1}}$</th>\n      <th>IPW</th>\n      <th>PCA</th>\n    </tr>\n  </thead>\n  <tbody>\n    <tr>\n      <th>10</th>\n      <td>participatedin</td>\n      <td>hascapital</td>\n      <td>0.3</td>\n      <td>0.1</td>\n      <td>7</td>\n      <td>participatedin(A,B) :- happenedin(B,A)</td>\n      <td>0.023777</td>\n      <td>2.480115e-04</td>\n      <td>0.002535</td>\n      <td>0.016834</td>\n      <td>0.002037</td>\n      <td>0.009685</td>\n    </tr>\n    <tr>\n      <th>11</th>\n      <td>participatedin</td>\n      <td>hascapital</td>\n      <td>0.3</td>\n      <td>0.2</td>\n      <td>7</td>\n      <td>participatedin(A,B) :- happenedin(B,A)</td>\n      <td>0.023777</td>\n      <td>5.518722e-05</td>\n      <td>0.002535</td>\n      <td>0.016834</td>\n      <td>0.000057</td>\n      <td>0.009685</td>\n    </tr>\n    <tr>\n      <th>12</th>\n      <td>participatedin</td>\n      <td>hascapital</td>\n      <td>0.3</td>\n      <td>0.3</td>\n      <td>7</td>\n      <td>participatedin(A,B) :- happenedin(B,A)</td>\n      <td>0.023777</td>\n      <td>2.067028e-07</td>\n      <td>0.002535</td>\n      <td>0.016834</td>\n      <td>0.000025</td>\n      <td>0.009685</td>\n    </tr>\n    <tr>\n      <th>13</th>\n      <td>participatedin</td>\n      <td>hascapital</td>\n      <td>0.3</td>\n      <td>0.4</td>\n      <td>7</td>\n      <td>participatedin(A,B) :- happenedin(B,A)</td>\n      <td>0.023777</td>\n      <td>6.297061e-05</td>\n      <td>0.002535</td>\n      <td>0.016834</td>\n      <td>0.000127</td>\n      <td>0.009685</td>\n    </tr>\n    <tr>\n      <th>14</th>\n      <td>participatedin</td>\n      <td>hascapital</td>\n      <td>0.3</td>\n      <td>0.5</td>\n      <td>7</td>\n      <td>participatedin(A,B) :- happenedin(B,A)</td>\n      <td>0.023777</td>\n      <td>2.263083e-04</td>\n      <td>0.002535</td>\n      <td>0.016834</td>\n      <td>0.000226</td>\n      <td>0.009685</td>\n    </tr>\n  </tbody>\n</table>\n</div>"
     },
     "execution_count": 21,
     "metadata": {},
     "output_type": "execute_result"
    }
   ],
   "source": [
    "df_conf_squared_errors = df_conf_squared_errors.drop(\n",
    "        columns=[\n",
    "            ConfidenceEnum.PCA_CONF_S_TO_O.value\n",
    "            +\n",
    "            ConfidenceEnum.PCA_CONF_O_TO_S.value\n",
    "            ],\n",
    "        axis=1,\n",
    "        errors='ignore'\n",
    "    )\n",
    "df_conf_squared_errors.head()"
   ],
   "metadata": {
    "collapsed": false,
    "pycharm": {
     "name": "#%%\n"
    }
   }
  },
  {
   "cell_type": "markdown",
   "source": [
    "# Now start averaging"
   ],
   "metadata": {
    "collapsed": false
   }
  },
  {
   "cell_type": "code",
   "execution_count": 22,
   "outputs": [
    {
     "data": {
      "text/plain": "  target_relation filter_relation  true_other  noisy_other  \\\n0         created   graduatedfrom         0.3          0.1   \n1         created   graduatedfrom         0.3          0.1   \n2         created   graduatedfrom         0.3          0.2   \n3         created   graduatedfrom         0.3          0.2   \n4         created   graduatedfrom         0.3          0.3   \n\n                                         Rule  random_trial_index       CWA  \\\n0  created(A,B) :- actedin(A,B),directed(A,B)                 4.5  0.063538   \n1               created(A,B) :- directed(A,B)                 4.5  0.021570   \n2  created(A,B) :- actedin(A,B),directed(A,B)                 4.5  0.063538   \n3               created(A,B) :- directed(A,B)                 4.5  0.021570   \n4  created(A,B) :- actedin(A,B),directed(A,B)                 4.5  0.063538   \n\n        ICW   PCA $p$  PCA ${p^{-1}}$       IPW       PCA  \n0  0.143136  0.006351        0.010008  0.368440  0.008180  \n1  0.042558  0.000530        0.000934  0.119936  0.000732  \n2  0.018259  0.006351        0.010008  0.023930  0.008180  \n3  0.004601  0.000530        0.000934  0.006997  0.000732  \n4  0.001234  0.006351        0.010008  0.001047  0.008180  ",
      "text/html": "<div>\n<style scoped>\n    .dataframe tbody tr th:only-of-type {\n        vertical-align: middle;\n    }\n\n    .dataframe tbody tr th {\n        vertical-align: top;\n    }\n\n    .dataframe thead th {\n        text-align: right;\n    }\n</style>\n<table border=\"1\" class=\"dataframe\">\n  <thead>\n    <tr style=\"text-align: right;\">\n      <th></th>\n      <th>target_relation</th>\n      <th>filter_relation</th>\n      <th>true_other</th>\n      <th>noisy_other</th>\n      <th>Rule</th>\n      <th>random_trial_index</th>\n      <th>CWA</th>\n      <th>ICW</th>\n      <th>PCA $p$</th>\n      <th>PCA ${p^{-1}}$</th>\n      <th>IPW</th>\n      <th>PCA</th>\n    </tr>\n  </thead>\n  <tbody>\n    <tr>\n      <th>0</th>\n      <td>created</td>\n      <td>graduatedfrom</td>\n      <td>0.3</td>\n      <td>0.1</td>\n      <td>created(A,B) :- actedin(A,B),directed(A,B)</td>\n      <td>4.5</td>\n      <td>0.063538</td>\n      <td>0.143136</td>\n      <td>0.006351</td>\n      <td>0.010008</td>\n      <td>0.368440</td>\n      <td>0.008180</td>\n    </tr>\n    <tr>\n      <th>1</th>\n      <td>created</td>\n      <td>graduatedfrom</td>\n      <td>0.3</td>\n      <td>0.1</td>\n      <td>created(A,B) :- directed(A,B)</td>\n      <td>4.5</td>\n      <td>0.021570</td>\n      <td>0.042558</td>\n      <td>0.000530</td>\n      <td>0.000934</td>\n      <td>0.119936</td>\n      <td>0.000732</td>\n    </tr>\n    <tr>\n      <th>2</th>\n      <td>created</td>\n      <td>graduatedfrom</td>\n      <td>0.3</td>\n      <td>0.2</td>\n      <td>created(A,B) :- actedin(A,B),directed(A,B)</td>\n      <td>4.5</td>\n      <td>0.063538</td>\n      <td>0.018259</td>\n      <td>0.006351</td>\n      <td>0.010008</td>\n      <td>0.023930</td>\n      <td>0.008180</td>\n    </tr>\n    <tr>\n      <th>3</th>\n      <td>created</td>\n      <td>graduatedfrom</td>\n      <td>0.3</td>\n      <td>0.2</td>\n      <td>created(A,B) :- directed(A,B)</td>\n      <td>4.5</td>\n      <td>0.021570</td>\n      <td>0.004601</td>\n      <td>0.000530</td>\n      <td>0.000934</td>\n      <td>0.006997</td>\n      <td>0.000732</td>\n    </tr>\n    <tr>\n      <th>4</th>\n      <td>created</td>\n      <td>graduatedfrom</td>\n      <td>0.3</td>\n      <td>0.3</td>\n      <td>created(A,B) :- actedin(A,B),directed(A,B)</td>\n      <td>4.5</td>\n      <td>0.063538</td>\n      <td>0.001234</td>\n      <td>0.006351</td>\n      <td>0.010008</td>\n      <td>0.001047</td>\n      <td>0.008180</td>\n    </tr>\n  </tbody>\n</table>\n</div>"
     },
     "execution_count": 22,
     "metadata": {},
     "output_type": "execute_result"
    }
   ],
   "source": [
    "df_conf_squared_errors_avg_over_trials: pd.DataFrame = df_conf_squared_errors.groupby(\n",
    "    by=[\"target_relation\", \"filter_relation\", 'true_other', \"noisy_other\", \"Rule\"],\n",
    "    sort=True,\n",
    "    as_index=False\n",
    ").mean()\n",
    "\n",
    "df_conf_squared_errors_avg_over_trials.head()"
   ],
   "metadata": {
    "collapsed": false,
    "pycharm": {
     "name": "#%%\n"
    }
   }
  },
  {
   "cell_type": "code",
   "execution_count": 23,
   "outputs": [
    {
     "data": {
      "text/plain": "  target_relation filter_relation  true_other  noisy_other  \\\n0         created   graduatedfrom         0.3          0.1   \n1         created   graduatedfrom         0.3          0.2   \n2         created   graduatedfrom         0.3          0.3   \n3         created   graduatedfrom         0.3          0.4   \n4         created   graduatedfrom         0.3          0.5   \n\n   random_trial_index       CWA       ICW  PCA $p$  PCA ${p^{-1}}$       IPW  \\\n0                 4.5  0.042554  0.092847  0.00344        0.005471  0.244188   \n1                 4.5  0.042554  0.011430  0.00344        0.005471  0.015463   \n2                 4.5  0.042554  0.000643  0.00344        0.005471  0.000551   \n3                 4.5  0.042554  0.004131  0.00344        0.005471  0.004594   \n4                 4.5  0.042554  0.010699  0.00344        0.005471  0.010699   \n\n        PCA  \n0  0.004456  \n1  0.004456  \n2  0.004456  \n3  0.004456  \n4  0.004456  ",
      "text/html": "<div>\n<style scoped>\n    .dataframe tbody tr th:only-of-type {\n        vertical-align: middle;\n    }\n\n    .dataframe tbody tr th {\n        vertical-align: top;\n    }\n\n    .dataframe thead th {\n        text-align: right;\n    }\n</style>\n<table border=\"1\" class=\"dataframe\">\n  <thead>\n    <tr style=\"text-align: right;\">\n      <th></th>\n      <th>target_relation</th>\n      <th>filter_relation</th>\n      <th>true_other</th>\n      <th>noisy_other</th>\n      <th>random_trial_index</th>\n      <th>CWA</th>\n      <th>ICW</th>\n      <th>PCA $p$</th>\n      <th>PCA ${p^{-1}}$</th>\n      <th>IPW</th>\n      <th>PCA</th>\n    </tr>\n  </thead>\n  <tbody>\n    <tr>\n      <th>0</th>\n      <td>created</td>\n      <td>graduatedfrom</td>\n      <td>0.3</td>\n      <td>0.1</td>\n      <td>4.5</td>\n      <td>0.042554</td>\n      <td>0.092847</td>\n      <td>0.00344</td>\n      <td>0.005471</td>\n      <td>0.244188</td>\n      <td>0.004456</td>\n    </tr>\n    <tr>\n      <th>1</th>\n      <td>created</td>\n      <td>graduatedfrom</td>\n      <td>0.3</td>\n      <td>0.2</td>\n      <td>4.5</td>\n      <td>0.042554</td>\n      <td>0.011430</td>\n      <td>0.00344</td>\n      <td>0.005471</td>\n      <td>0.015463</td>\n      <td>0.004456</td>\n    </tr>\n    <tr>\n      <th>2</th>\n      <td>created</td>\n      <td>graduatedfrom</td>\n      <td>0.3</td>\n      <td>0.3</td>\n      <td>4.5</td>\n      <td>0.042554</td>\n      <td>0.000643</td>\n      <td>0.00344</td>\n      <td>0.005471</td>\n      <td>0.000551</td>\n      <td>0.004456</td>\n    </tr>\n    <tr>\n      <th>3</th>\n      <td>created</td>\n      <td>graduatedfrom</td>\n      <td>0.3</td>\n      <td>0.4</td>\n      <td>4.5</td>\n      <td>0.042554</td>\n      <td>0.004131</td>\n      <td>0.00344</td>\n      <td>0.005471</td>\n      <td>0.004594</td>\n      <td>0.004456</td>\n    </tr>\n    <tr>\n      <th>4</th>\n      <td>created</td>\n      <td>graduatedfrom</td>\n      <td>0.3</td>\n      <td>0.5</td>\n      <td>4.5</td>\n      <td>0.042554</td>\n      <td>0.010699</td>\n      <td>0.00344</td>\n      <td>0.005471</td>\n      <td>0.010699</td>\n      <td>0.004456</td>\n    </tr>\n  </tbody>\n</table>\n</div>"
     },
     "execution_count": 23,
     "metadata": {},
     "output_type": "execute_result"
    }
   ],
   "source": [
    "df_conf_squared_errors_avg_over_trials_and_rules: pd.DataFrame = df_conf_squared_errors_avg_over_trials.groupby(\n",
    "    by=[\"target_relation\", \"filter_relation\", 'true_other', \"noisy_other\",],\n",
    "    sort=True,\n",
    "    as_index=False\n",
    ").mean()\n",
    "df_conf_squared_errors_avg_over_trials_and_rules.head()"
   ],
   "metadata": {
    "collapsed": false,
    "pycharm": {
     "name": "#%%\n"
    }
   }
  },
  {
   "cell_type": "code",
   "execution_count": 24,
   "outputs": [
    {
     "data": {
      "text/plain": "620"
     },
     "execution_count": 24,
     "metadata": {},
     "output_type": "execute_result"
    }
   ],
   "source": [
    "len(df_conf_squared_errors_avg_over_trials_and_rules)"
   ],
   "metadata": {
    "collapsed": false,
    "pycharm": {
     "name": "#%%\n"
    }
   }
  },
  {
   "cell_type": "markdown",
   "source": [
    "### How many $p$, $q$ combinations are there?"
   ],
   "metadata": {
    "collapsed": false,
    "pycharm": {
     "name": "#%% md\n"
    }
   }
  },
  {
   "cell_type": "code",
   "execution_count": 25,
   "outputs": [
    {
     "data": {
      "text/plain": "   target_relation filter_relation\n0          created   graduatedfrom\n20         created     haswonprize\n40       dealswith         exports\n60       dealswith         imports\n80          diedin  isaffiliatedto",
      "text/html": "<div>\n<style scoped>\n    .dataframe tbody tr th:only-of-type {\n        vertical-align: middle;\n    }\n\n    .dataframe tbody tr th {\n        vertical-align: top;\n    }\n\n    .dataframe thead th {\n        text-align: right;\n    }\n</style>\n<table border=\"1\" class=\"dataframe\">\n  <thead>\n    <tr style=\"text-align: right;\">\n      <th></th>\n      <th>target_relation</th>\n      <th>filter_relation</th>\n    </tr>\n  </thead>\n  <tbody>\n    <tr>\n      <th>0</th>\n      <td>created</td>\n      <td>graduatedfrom</td>\n    </tr>\n    <tr>\n      <th>20</th>\n      <td>created</td>\n      <td>haswonprize</td>\n    </tr>\n    <tr>\n      <th>40</th>\n      <td>dealswith</td>\n      <td>exports</td>\n    </tr>\n    <tr>\n      <th>60</th>\n      <td>dealswith</td>\n      <td>imports</td>\n    </tr>\n    <tr>\n      <th>80</th>\n      <td>diedin</td>\n      <td>isaffiliatedto</td>\n    </tr>\n  </tbody>\n</table>\n</div>"
     },
     "execution_count": 25,
     "metadata": {},
     "output_type": "execute_result"
    }
   ],
   "source": [
    "\n",
    "df_p_and_q = df_conf_squared_errors_avg_over_trials_and_rules[[\"target_relation\", \"filter_relation\"]].drop_duplicates()\n",
    "df_p_and_q.head()"
   ],
   "metadata": {
    "collapsed": false,
    "pycharm": {
     "name": "#%%\n"
    }
   }
  },
  {
   "cell_type": "code",
   "execution_count": 26,
   "outputs": [
    {
     "data": {
      "text/plain": "31"
     },
     "execution_count": 26,
     "metadata": {},
     "output_type": "execute_result"
    }
   ],
   "source": [
    "len(df_p_and_q)"
   ],
   "metadata": {
    "collapsed": false,
    "pycharm": {
     "name": "#%%\n"
    }
   }
  },
  {
   "cell_type": "code",
   "execution_count": 27,
   "outputs": [
    {
     "data": {
      "text/plain": "  target_relation  true_other  noisy_other  random_trial_index       CWA  \\\n0         created         0.3          0.1                 4.5  0.038384   \n1         created         0.3          0.2                 4.5  0.038384   \n2         created         0.3          0.3                 4.5  0.038384   \n3         created         0.3          0.4                 4.5  0.038384   \n4         created         0.3          0.5                 4.5  0.038384   \n\n        ICW   PCA $p$  PCA ${p^{-1}}$       IPW       PCA  \n0  0.050932  0.002734        0.005903  0.167328  0.004319  \n1  0.006702  0.002734        0.005903  0.010793  0.004319  \n2  0.000494  0.002734        0.005903  0.000445  0.004319  \n3  0.002759  0.002734        0.005903  0.003114  0.004319  \n4  0.007226  0.002734        0.005903  0.007226  0.004319  ",
      "text/html": "<div>\n<style scoped>\n    .dataframe tbody tr th:only-of-type {\n        vertical-align: middle;\n    }\n\n    .dataframe tbody tr th {\n        vertical-align: top;\n    }\n\n    .dataframe thead th {\n        text-align: right;\n    }\n</style>\n<table border=\"1\" class=\"dataframe\">\n  <thead>\n    <tr style=\"text-align: right;\">\n      <th></th>\n      <th>target_relation</th>\n      <th>true_other</th>\n      <th>noisy_other</th>\n      <th>random_trial_index</th>\n      <th>CWA</th>\n      <th>ICW</th>\n      <th>PCA $p$</th>\n      <th>PCA ${p^{-1}}$</th>\n      <th>IPW</th>\n      <th>PCA</th>\n    </tr>\n  </thead>\n  <tbody>\n    <tr>\n      <th>0</th>\n      <td>created</td>\n      <td>0.3</td>\n      <td>0.1</td>\n      <td>4.5</td>\n      <td>0.038384</td>\n      <td>0.050932</td>\n      <td>0.002734</td>\n      <td>0.005903</td>\n      <td>0.167328</td>\n      <td>0.004319</td>\n    </tr>\n    <tr>\n      <th>1</th>\n      <td>created</td>\n      <td>0.3</td>\n      <td>0.2</td>\n      <td>4.5</td>\n      <td>0.038384</td>\n      <td>0.006702</td>\n      <td>0.002734</td>\n      <td>0.005903</td>\n      <td>0.010793</td>\n      <td>0.004319</td>\n    </tr>\n    <tr>\n      <th>2</th>\n      <td>created</td>\n      <td>0.3</td>\n      <td>0.3</td>\n      <td>4.5</td>\n      <td>0.038384</td>\n      <td>0.000494</td>\n      <td>0.002734</td>\n      <td>0.005903</td>\n      <td>0.000445</td>\n      <td>0.004319</td>\n    </tr>\n    <tr>\n      <th>3</th>\n      <td>created</td>\n      <td>0.3</td>\n      <td>0.4</td>\n      <td>4.5</td>\n      <td>0.038384</td>\n      <td>0.002759</td>\n      <td>0.002734</td>\n      <td>0.005903</td>\n      <td>0.003114</td>\n      <td>0.004319</td>\n    </tr>\n    <tr>\n      <th>4</th>\n      <td>created</td>\n      <td>0.3</td>\n      <td>0.5</td>\n      <td>4.5</td>\n      <td>0.038384</td>\n      <td>0.007226</td>\n      <td>0.002734</td>\n      <td>0.005903</td>\n      <td>0.007226</td>\n      <td>0.004319</td>\n    </tr>\n  </tbody>\n</table>\n</div>"
     },
     "execution_count": 27,
     "metadata": {},
     "output_type": "execute_result"
    }
   ],
   "source": [
    "df_conf_errors_avg_over_trials_and_rules_and_q: pd.DataFrame = df_conf_squared_errors_avg_over_trials_and_rules.groupby(\n",
    "    by=[\"target_relation\", 'true_other', \"noisy_other\",],\n",
    "    sort=True,\n",
    "    as_index=False\n",
    ").mean()\n",
    "df_conf_errors_avg_over_trials_and_rules_and_q.head()\n"
   ],
   "metadata": {
    "collapsed": false,
    "pycharm": {
     "name": "#%%\n"
    }
   }
  },
  {
   "cell_type": "code",
   "execution_count": 28,
   "outputs": [
    {
     "data": {
      "text/plain": "280"
     },
     "execution_count": 28,
     "metadata": {},
     "output_type": "execute_result"
    }
   ],
   "source": [
    "len(df_conf_errors_avg_over_trials_and_rules_and_q)\n"
   ],
   "metadata": {
    "collapsed": false,
    "pycharm": {
     "name": "#%%\n"
    }
   }
  },
  {
   "cell_type": "markdown",
   "source": [
    "## Subset of noisy_other"
   ],
   "metadata": {
    "collapsed": false
   }
  },
  {
   "cell_type": "code",
   "execution_count": 29,
   "outputs": [],
   "source": [
    "first_true_label_freq_to_include = 0.3\n",
    "second_true_label_freq_to_include = 0.7\n",
    "\n",
    "\n",
    "true_label_frequencies_set: Set[float] = {\n",
    "    first_true_label_freq_to_include, second_true_label_freq_to_include,\n",
    "}\n",
    "true_label_frequency_to_estimate_map: Dict[float, Set[float]] = dict()\n",
    "\n",
    "label_frequency_est_diff: float = 0.1\n",
    "label_frequencies_to_keep: Set[float] = set(true_label_frequencies_set)\n",
    "for true_label_freq in true_label_frequencies_set:\n",
    "    true_label_frequency_to_estimate_map[true_label_freq] = {\n",
    "        round(true_label_freq - label_frequency_est_diff, 1),\n",
    "        round(true_label_freq + label_frequency_est_diff, 1)\n",
    "    }\n",
    "    label_frequencies_to_keep.update(true_label_frequency_to_estimate_map[true_label_freq])"
   ],
   "metadata": {
    "collapsed": false,
    "pycharm": {
     "name": "#%%\n"
    }
   }
  },
  {
   "cell_type": "code",
   "execution_count": 30,
   "outputs": [
    {
     "data": {
      "text/plain": "  target_relation  true_other  noisy_other  random_trial_index       CWA  \\\n1         created         0.3          0.2                 4.5  0.038384   \n2         created         0.3          0.3                 4.5  0.038384   \n3         created         0.3          0.4                 4.5  0.038384   \n5         created         0.3          0.6                 4.5  0.038384   \n6         created         0.3          0.7                 4.5  0.038384   \n\n        ICW   PCA $p$  PCA ${p^{-1}}$       IPW       PCA  \n1  0.006702  0.002734        0.005903  0.010793  0.004319  \n2  0.000494  0.002734        0.005903  0.000445  0.004319  \n3  0.002759  0.002734        0.005903  0.003114  0.004319  \n5  0.012119  0.002734        0.005903  0.011013  0.004319  \n6  0.016871  0.002734        0.005903  0.014230  0.004319  ",
      "text/html": "<div>\n<style scoped>\n    .dataframe tbody tr th:only-of-type {\n        vertical-align: middle;\n    }\n\n    .dataframe tbody tr th {\n        vertical-align: top;\n    }\n\n    .dataframe thead th {\n        text-align: right;\n    }\n</style>\n<table border=\"1\" class=\"dataframe\">\n  <thead>\n    <tr style=\"text-align: right;\">\n      <th></th>\n      <th>target_relation</th>\n      <th>true_other</th>\n      <th>noisy_other</th>\n      <th>random_trial_index</th>\n      <th>CWA</th>\n      <th>ICW</th>\n      <th>PCA $p$</th>\n      <th>PCA ${p^{-1}}$</th>\n      <th>IPW</th>\n      <th>PCA</th>\n    </tr>\n  </thead>\n  <tbody>\n    <tr>\n      <th>1</th>\n      <td>created</td>\n      <td>0.3</td>\n      <td>0.2</td>\n      <td>4.5</td>\n      <td>0.038384</td>\n      <td>0.006702</td>\n      <td>0.002734</td>\n      <td>0.005903</td>\n      <td>0.010793</td>\n      <td>0.004319</td>\n    </tr>\n    <tr>\n      <th>2</th>\n      <td>created</td>\n      <td>0.3</td>\n      <td>0.3</td>\n      <td>4.5</td>\n      <td>0.038384</td>\n      <td>0.000494</td>\n      <td>0.002734</td>\n      <td>0.005903</td>\n      <td>0.000445</td>\n      <td>0.004319</td>\n    </tr>\n    <tr>\n      <th>3</th>\n      <td>created</td>\n      <td>0.3</td>\n      <td>0.4</td>\n      <td>4.5</td>\n      <td>0.038384</td>\n      <td>0.002759</td>\n      <td>0.002734</td>\n      <td>0.005903</td>\n      <td>0.003114</td>\n      <td>0.004319</td>\n    </tr>\n    <tr>\n      <th>5</th>\n      <td>created</td>\n      <td>0.3</td>\n      <td>0.6</td>\n      <td>4.5</td>\n      <td>0.038384</td>\n      <td>0.012119</td>\n      <td>0.002734</td>\n      <td>0.005903</td>\n      <td>0.011013</td>\n      <td>0.004319</td>\n    </tr>\n    <tr>\n      <th>6</th>\n      <td>created</td>\n      <td>0.3</td>\n      <td>0.7</td>\n      <td>4.5</td>\n      <td>0.038384</td>\n      <td>0.016871</td>\n      <td>0.002734</td>\n      <td>0.005903</td>\n      <td>0.014230</td>\n      <td>0.004319</td>\n    </tr>\n  </tbody>\n</table>\n</div>"
     },
     "execution_count": 30,
     "metadata": {},
     "output_type": "execute_result"
    }
   ],
   "source": [
    "df_conf_errors_avg_over_trials_and_rules_and_q_c_subset = df_conf_errors_avg_over_trials_and_rules_and_q[\n",
    "    df_conf_errors_avg_over_trials_and_rules_and_q[\"noisy_other\"].isin(label_frequencies_to_keep)\n",
    "]\n",
    "df_conf_errors_avg_over_trials_and_rules_and_q_c_subset.head()"
   ],
   "metadata": {
    "collapsed": false,
    "pycharm": {
     "name": "#%%\n"
    }
   }
  },
  {
   "cell_type": "code",
   "execution_count": 31,
   "outputs": [
    {
     "data": {
      "text/plain": "168"
     },
     "execution_count": 31,
     "metadata": {},
     "output_type": "execute_result"
    }
   ],
   "source": [
    "len(df_conf_errors_avg_over_trials_and_rules_and_q_c_subset)"
   ],
   "metadata": {
    "collapsed": false,
    "pycharm": {
     "name": "#%%\n"
    }
   }
  },
  {
   "cell_type": "markdown",
   "source": [
    "## Count the rules per $p$"
   ],
   "metadata": {
    "collapsed": false,
    "pycharm": {
     "name": "#%% md\n"
    }
   }
  },
  {
   "cell_type": "code",
   "execution_count": 32,
   "outputs": [
    {
     "data": {
      "text/plain": "  target_relation  # rules\n0         created        2\n1       dealswith        7\n2          diedin        1\n3        directed        2\n4         exports        1",
      "text/html": "<div>\n<style scoped>\n    .dataframe tbody tr th:only-of-type {\n        vertical-align: middle;\n    }\n\n    .dataframe tbody tr th {\n        vertical-align: top;\n    }\n\n    .dataframe thead th {\n        text-align: right;\n    }\n</style>\n<table border=\"1\" class=\"dataframe\">\n  <thead>\n    <tr style=\"text-align: right;\">\n      <th></th>\n      <th>target_relation</th>\n      <th># rules</th>\n    </tr>\n  </thead>\n  <tbody>\n    <tr>\n      <th>0</th>\n      <td>created</td>\n      <td>2</td>\n    </tr>\n    <tr>\n      <th>1</th>\n      <td>dealswith</td>\n      <td>7</td>\n    </tr>\n    <tr>\n      <th>2</th>\n      <td>diedin</td>\n      <td>1</td>\n    </tr>\n    <tr>\n      <th>3</th>\n      <td>directed</td>\n      <td>2</td>\n    </tr>\n    <tr>\n      <th>4</th>\n      <td>exports</td>\n      <td>1</td>\n    </tr>\n  </tbody>\n</table>\n</div>"
     },
     "execution_count": 32,
     "metadata": {},
     "output_type": "execute_result"
    }
   ],
   "source": [
    "df_n_rules_per_target = df_rule_wrappers_all_targets[[\"target_relation\", \"Rule\"]].groupby(\n",
    "    by=['target_relation'],\n",
    "    # sort=True,\n",
    "    # as_index=False\n",
    ")[\"Rule\"].nunique().to_frame().reset_index().rename(\n",
    "    columns={\"Rule\" : \"# rules\"}\n",
    ")\n",
    "\n",
    "\n",
    "df_n_rules_per_target.head()"
   ],
   "metadata": {
    "collapsed": false,
    "pycharm": {
     "name": "#%%\n"
    }
   }
  },
  {
   "cell_type": "markdown",
   "source": [
    "****\n",
    "# Format pretty table\n",
    "\n",
    "Goal:\n",
    "* put smallest value per row in BOLT\n",
    "* per target: mean_value 0.3 / 0.4"
   ],
   "metadata": {
    "collapsed": false,
    "pycharm": {
     "name": "#%% md\n"
    }
   }
  },
  {
   "cell_type": "code",
   "execution_count": 33,
   "outputs": [
    {
     "data": {
      "text/plain": "   target_relation  random_trial_index       CWA       ICW   PCA $p$  \\\n1          created                 4.5  0.038384  0.006702  0.002734   \n21       dealswith                 4.5  0.010038  0.000142  0.005794   \n41          diedin                 4.5  0.007895  0.000114  0.011700   \n61        directed                 4.5  0.030193  0.004582  0.016551   \n81         exports                 4.5  0.007644  0.002206  0.001969   \n\n    PCA ${p^{-1}}$       IPW       PCA  \n1         0.005903  0.010793  0.004319  \n21        0.001854  0.000414  0.003824  \n41        0.004637  0.002728  0.008169  \n61        0.003655  0.011371  0.010103  \n81        0.006229  0.002116  0.004099  ",
      "text/html": "<div>\n<style scoped>\n    .dataframe tbody tr th:only-of-type {\n        vertical-align: middle;\n    }\n\n    .dataframe tbody tr th {\n        vertical-align: top;\n    }\n\n    .dataframe thead th {\n        text-align: right;\n    }\n</style>\n<table border=\"1\" class=\"dataframe\">\n  <thead>\n    <tr style=\"text-align: right;\">\n      <th></th>\n      <th>target_relation</th>\n      <th>random_trial_index</th>\n      <th>CWA</th>\n      <th>ICW</th>\n      <th>PCA $p$</th>\n      <th>PCA ${p^{-1}}$</th>\n      <th>IPW</th>\n      <th>PCA</th>\n    </tr>\n  </thead>\n  <tbody>\n    <tr>\n      <th>1</th>\n      <td>created</td>\n      <td>4.5</td>\n      <td>0.038384</td>\n      <td>0.006702</td>\n      <td>0.002734</td>\n      <td>0.005903</td>\n      <td>0.010793</td>\n      <td>0.004319</td>\n    </tr>\n    <tr>\n      <th>21</th>\n      <td>dealswith</td>\n      <td>4.5</td>\n      <td>0.010038</td>\n      <td>0.000142</td>\n      <td>0.005794</td>\n      <td>0.001854</td>\n      <td>0.000414</td>\n      <td>0.003824</td>\n    </tr>\n    <tr>\n      <th>41</th>\n      <td>diedin</td>\n      <td>4.5</td>\n      <td>0.007895</td>\n      <td>0.000114</td>\n      <td>0.011700</td>\n      <td>0.004637</td>\n      <td>0.002728</td>\n      <td>0.008169</td>\n    </tr>\n    <tr>\n      <th>61</th>\n      <td>directed</td>\n      <td>4.5</td>\n      <td>0.030193</td>\n      <td>0.004582</td>\n      <td>0.016551</td>\n      <td>0.003655</td>\n      <td>0.011371</td>\n      <td>0.010103</td>\n    </tr>\n    <tr>\n      <th>81</th>\n      <td>exports</td>\n      <td>4.5</td>\n      <td>0.007644</td>\n      <td>0.002206</td>\n      <td>0.001969</td>\n      <td>0.006229</td>\n      <td>0.002116</td>\n      <td>0.004099</td>\n    </tr>\n  </tbody>\n</table>\n</div>"
     },
     "execution_count": 33,
     "metadata": {},
     "output_type": "execute_result"
    }
   ],
   "source": [
    "true_label_freq_to_noisy_to_df_map: Dict[float, Dict[float, pd.DataFrame]] = dict()\n",
    "for true_label_freq in true_label_frequencies_set:\n",
    "    df_true_tmp: pd.DataFrame = df_conf_errors_avg_over_trials_and_rules_and_q_c_subset[\n",
    "        df_conf_errors_avg_over_trials_and_rules_and_q_c_subset[\"true_other\"] == true_label_freq\n",
    "    ]\n",
    "    noisy_label_freq_to_df_map = dict()\n",
    "    true_label_freq_to_noisy_to_df_map[true_label_freq] = noisy_label_freq_to_df_map\n",
    "\n",
    "    df_true_and_noisy_tmp = df_true_tmp[\n",
    "        df_true_tmp[\"noisy_other\"] == true_label_freq\n",
    "    ]\n",
    "    noisy_label_freq_to_df_map[true_label_freq] = df_true_and_noisy_tmp[\n",
    "        [col for col in df_true_and_noisy_tmp.columns if col != \"noisy_other\" and col != \"true_other\"]\n",
    "    ]\n",
    "\n",
    "    for noisy_label_freq in true_label_frequency_to_estimate_map[true_label_freq]:\n",
    "        df_true_and_noisy_tmp = df_true_tmp[\n",
    "            df_true_tmp[\"noisy_other\"] == noisy_label_freq\n",
    "        ]\n",
    "        noisy_label_freq_to_df_map[noisy_label_freq] = df_true_and_noisy_tmp[\n",
    "            [col for col in df_true_and_noisy_tmp.columns if col != \"noisy_other\" and col != \"true_other\"]\n",
    "        ]\n",
    "\n",
    "true_label_freq_to_noisy_to_df_map[first_true_label_freq_to_include][0.2].head()"
   ],
   "metadata": {
    "collapsed": false,
    "pycharm": {
     "name": "#%%\n"
    }
   }
  },
  {
   "cell_type": "code",
   "execution_count": 34,
   "outputs": [
    {
     "data": {
      "text/plain": "  target_relation  random_trial_index       CWA       ICW   PCA $p$  \\\n0         created                 4.5  0.038384  0.000494  0.002734   \n1       dealswith                 4.5  0.010038  0.000097  0.005794   \n2          diedin                 4.5  0.007895  0.000307  0.011700   \n3        directed                 4.5  0.030193  0.000236  0.016551   \n4         exports                 4.5  0.007644  0.000692  0.001969   \n\n   PCA ${p^{-1}}$       IPW       PCA  IPW_lower  IPW_higher  \n0        0.005903  0.000445  0.004319   0.010793    0.003114  \n1        0.001854  0.000114  0.003824   0.000414    0.000108  \n2        0.004637  0.000061  0.008169   0.002728    0.000884  \n3        0.003655  0.000311  0.010103   0.011371    0.002341  \n4        0.006229  0.000609  0.004099   0.002116    0.000694  ",
      "text/html": "<div>\n<style scoped>\n    .dataframe tbody tr th:only-of-type {\n        vertical-align: middle;\n    }\n\n    .dataframe tbody tr th {\n        vertical-align: top;\n    }\n\n    .dataframe thead th {\n        text-align: right;\n    }\n</style>\n<table border=\"1\" class=\"dataframe\">\n  <thead>\n    <tr style=\"text-align: right;\">\n      <th></th>\n      <th>target_relation</th>\n      <th>random_trial_index</th>\n      <th>CWA</th>\n      <th>ICW</th>\n      <th>PCA $p$</th>\n      <th>PCA ${p^{-1}}$</th>\n      <th>IPW</th>\n      <th>PCA</th>\n      <th>IPW_lower</th>\n      <th>IPW_higher</th>\n    </tr>\n  </thead>\n  <tbody>\n    <tr>\n      <th>0</th>\n      <td>created</td>\n      <td>4.5</td>\n      <td>0.038384</td>\n      <td>0.000494</td>\n      <td>0.002734</td>\n      <td>0.005903</td>\n      <td>0.000445</td>\n      <td>0.004319</td>\n      <td>0.010793</td>\n      <td>0.003114</td>\n    </tr>\n    <tr>\n      <th>1</th>\n      <td>dealswith</td>\n      <td>4.5</td>\n      <td>0.010038</td>\n      <td>0.000097</td>\n      <td>0.005794</td>\n      <td>0.001854</td>\n      <td>0.000114</td>\n      <td>0.003824</td>\n      <td>0.000414</td>\n      <td>0.000108</td>\n    </tr>\n    <tr>\n      <th>2</th>\n      <td>diedin</td>\n      <td>4.5</td>\n      <td>0.007895</td>\n      <td>0.000307</td>\n      <td>0.011700</td>\n      <td>0.004637</td>\n      <td>0.000061</td>\n      <td>0.008169</td>\n      <td>0.002728</td>\n      <td>0.000884</td>\n    </tr>\n    <tr>\n      <th>3</th>\n      <td>directed</td>\n      <td>4.5</td>\n      <td>0.030193</td>\n      <td>0.000236</td>\n      <td>0.016551</td>\n      <td>0.003655</td>\n      <td>0.000311</td>\n      <td>0.010103</td>\n      <td>0.011371</td>\n      <td>0.002341</td>\n    </tr>\n    <tr>\n      <th>4</th>\n      <td>exports</td>\n      <td>4.5</td>\n      <td>0.007644</td>\n      <td>0.000692</td>\n      <td>0.001969</td>\n      <td>0.006229</td>\n      <td>0.000609</td>\n      <td>0.004099</td>\n      <td>0.002116</td>\n      <td>0.000694</td>\n    </tr>\n  </tbody>\n</table>\n</div>"
     },
     "execution_count": 34,
     "metadata": {},
     "output_type": "execute_result"
    }
   ],
   "source": [
    "from typing import Iterator\n",
    "\n",
    "true_label_freq_to_df_map = dict()\n",
    "\n",
    "label_freq_estimators: Iterator[float]\n",
    "for true_label_freq in true_label_frequencies_set:\n",
    "    noisy_to_df_map: Dict[float, pd.DataFrame]  = true_label_freq_to_noisy_to_df_map[true_label_freq]\n",
    "\n",
    "    df_true_label_freq: pd.DataFrame = noisy_to_df_map[true_label_freq]\n",
    "\n",
    "    lower_est: float = round(true_label_freq - label_frequency_est_diff, 1)\n",
    "    higher_est: float = round(true_label_freq + label_frequency_est_diff, 1)\n",
    "\n",
    "\n",
    "    df_lower: pd.DataFrame = noisy_to_df_map[lower_est][\n",
    "        ['target_relation', ConfidenceEnum.IPW_CONF.value]\n",
    "    ].rename(\n",
    "        columns={\n",
    "            ConfidenceEnum.IPW_CONF.value: f\"{ConfidenceEnum.IPW_CONF.value}_lower\"\n",
    "        }\n",
    "    )\n",
    "\n",
    "    df_true_label_freq = pd.merge(\n",
    "        left=df_true_label_freq,\n",
    "        right=df_lower,\n",
    "        on=\"target_relation\"\n",
    "    )\n",
    "\n",
    "    df_higher = noisy_to_df_map[higher_est][\n",
    "        ['target_relation', ConfidenceEnum.IPW_CONF.value]\n",
    "    ].rename(\n",
    "        columns={\n",
    "            ConfidenceEnum.IPW_CONF.value: f\"{ConfidenceEnum.IPW_CONF.value}_higher\"\n",
    "        }\n",
    "    )\n",
    "    df_true_label_freq = pd.merge(\n",
    "        left=df_true_label_freq,\n",
    "        right=df_higher,\n",
    "        on=\"target_relation\"\n",
    "    )\n",
    "    true_label_freq_to_df_map[true_label_freq] = df_true_label_freq\n",
    "\n",
    "true_label_freq_to_df_map[0.3].head()"
   ],
   "metadata": {
    "collapsed": false,
    "pycharm": {
     "name": "#%%\n"
    }
   }
  },
  {
   "cell_type": "code",
   "execution_count": 35,
   "outputs": [],
   "source": [
    "for key, df in true_label_freq_to_df_map.items():\n",
    "    true_label_freq_to_df_map[key] = df.drop(\n",
    "        columns=[\"random_trial_index\"],\n",
    "        axis=1,\n",
    "        errors='ignore'\n",
    "    )\n"
   ],
   "metadata": {
    "collapsed": false,
    "pycharm": {
     "name": "#%%\n"
    }
   }
  },
  {
   "cell_type": "code",
   "execution_count": 36,
   "outputs": [
    {
     "data": {
      "text/plain": "  target_relation   CWA_0.3   ICW_0.3  PCA $p$_0.3  PCA ${p^{-1}}$_0.3  \\\n0         created  0.038384  0.000494     0.002734            0.005903   \n1       dealswith  0.010038  0.000097     0.005794            0.001854   \n2          diedin  0.007895  0.000307     0.011700            0.004637   \n3        directed  0.030193  0.000236     0.016551            0.003655   \n4         exports  0.007644  0.000692     0.001969            0.006229   \n\n    IPW_0.3   PCA_0.3  IPW_lower_0.3  IPW_higher_0.3   CWA_0.7   ICW_0.7  \\\n0  0.000445  0.004319       0.010793        0.003114  0.013231  0.000388   \n1  0.000114  0.003824       0.000414        0.000108  0.008315  0.000167   \n2  0.000061  0.008169       0.002728        0.000884  0.001962  0.000014   \n3  0.000311  0.010103       0.011371        0.002341  0.009278  0.000124   \n4  0.000609  0.004099       0.002116        0.000694  0.004474  0.000402   \n\n   PCA $p$_0.7  PCA ${p^{-1}}$_0.7   IPW_0.7   PCA_0.7  IPW_lower_0.7  \\\n0     0.006324            0.008895  0.000233  0.007609       0.001573   \n1     0.004959            0.001337  0.000104  0.003148       0.000131   \n2     0.019348            0.000162  0.000012  0.009755       0.000354   \n3     0.051666            0.003139  0.000047  0.027403       0.001129   \n4     0.001445            0.003567  0.000360  0.002506       0.000498   \n\n   IPW_higher_0.7  \n0        0.000801  \n1        0.000106  \n2        0.000194  \n3        0.000645  \n4        0.000404  ",
      "text/html": "<div>\n<style scoped>\n    .dataframe tbody tr th:only-of-type {\n        vertical-align: middle;\n    }\n\n    .dataframe tbody tr th {\n        vertical-align: top;\n    }\n\n    .dataframe thead th {\n        text-align: right;\n    }\n</style>\n<table border=\"1\" class=\"dataframe\">\n  <thead>\n    <tr style=\"text-align: right;\">\n      <th></th>\n      <th>target_relation</th>\n      <th>CWA_0.3</th>\n      <th>ICW_0.3</th>\n      <th>PCA $p$_0.3</th>\n      <th>PCA ${p^{-1}}$_0.3</th>\n      <th>IPW_0.3</th>\n      <th>PCA_0.3</th>\n      <th>IPW_lower_0.3</th>\n      <th>IPW_higher_0.3</th>\n      <th>CWA_0.7</th>\n      <th>ICW_0.7</th>\n      <th>PCA $p$_0.7</th>\n      <th>PCA ${p^{-1}}$_0.7</th>\n      <th>IPW_0.7</th>\n      <th>PCA_0.7</th>\n      <th>IPW_lower_0.7</th>\n      <th>IPW_higher_0.7</th>\n    </tr>\n  </thead>\n  <tbody>\n    <tr>\n      <th>0</th>\n      <td>created</td>\n      <td>0.038384</td>\n      <td>0.000494</td>\n      <td>0.002734</td>\n      <td>0.005903</td>\n      <td>0.000445</td>\n      <td>0.004319</td>\n      <td>0.010793</td>\n      <td>0.003114</td>\n      <td>0.013231</td>\n      <td>0.000388</td>\n      <td>0.006324</td>\n      <td>0.008895</td>\n      <td>0.000233</td>\n      <td>0.007609</td>\n      <td>0.001573</td>\n      <td>0.000801</td>\n    </tr>\n    <tr>\n      <th>1</th>\n      <td>dealswith</td>\n      <td>0.010038</td>\n      <td>0.000097</td>\n      <td>0.005794</td>\n      <td>0.001854</td>\n      <td>0.000114</td>\n      <td>0.003824</td>\n      <td>0.000414</td>\n      <td>0.000108</td>\n      <td>0.008315</td>\n      <td>0.000167</td>\n      <td>0.004959</td>\n      <td>0.001337</td>\n      <td>0.000104</td>\n      <td>0.003148</td>\n      <td>0.000131</td>\n      <td>0.000106</td>\n    </tr>\n    <tr>\n      <th>2</th>\n      <td>diedin</td>\n      <td>0.007895</td>\n      <td>0.000307</td>\n      <td>0.011700</td>\n      <td>0.004637</td>\n      <td>0.000061</td>\n      <td>0.008169</td>\n      <td>0.002728</td>\n      <td>0.000884</td>\n      <td>0.001962</td>\n      <td>0.000014</td>\n      <td>0.019348</td>\n      <td>0.000162</td>\n      <td>0.000012</td>\n      <td>0.009755</td>\n      <td>0.000354</td>\n      <td>0.000194</td>\n    </tr>\n    <tr>\n      <th>3</th>\n      <td>directed</td>\n      <td>0.030193</td>\n      <td>0.000236</td>\n      <td>0.016551</td>\n      <td>0.003655</td>\n      <td>0.000311</td>\n      <td>0.010103</td>\n      <td>0.011371</td>\n      <td>0.002341</td>\n      <td>0.009278</td>\n      <td>0.000124</td>\n      <td>0.051666</td>\n      <td>0.003139</td>\n      <td>0.000047</td>\n      <td>0.027403</td>\n      <td>0.001129</td>\n      <td>0.000645</td>\n    </tr>\n    <tr>\n      <th>4</th>\n      <td>exports</td>\n      <td>0.007644</td>\n      <td>0.000692</td>\n      <td>0.001969</td>\n      <td>0.006229</td>\n      <td>0.000609</td>\n      <td>0.004099</td>\n      <td>0.002116</td>\n      <td>0.000694</td>\n      <td>0.004474</td>\n      <td>0.000402</td>\n      <td>0.001445</td>\n      <td>0.003567</td>\n      <td>0.000360</td>\n      <td>0.002506</td>\n      <td>0.000498</td>\n      <td>0.000404</td>\n    </tr>\n  </tbody>\n</table>\n</div>"
     },
     "execution_count": 36,
     "metadata": {},
     "output_type": "execute_result"
    }
   ],
   "source": [
    "df_one_row_per_target = pd.merge(\n",
    "    left=true_label_freq_to_df_map[first_true_label_freq_to_include],\n",
    "    right=true_label_freq_to_df_map[second_true_label_freq_to_include],\n",
    "    on=\"target_relation\",\n",
    "    suffixes=(f\"_{first_true_label_freq_to_include}\", f\"_{second_true_label_freq_to_include}\")\n",
    ")\n",
    "df_one_row_per_target.head()"
   ],
   "metadata": {
    "collapsed": false,
    "pycharm": {
     "name": "#%%\n"
    }
   }
  },
  {
   "cell_type": "markdown",
   "source": [
    "## What is the smallest value?"
   ],
   "metadata": {
    "collapsed": false,
    "pycharm": {
     "name": "#%% md\n"
    }
   }
  },
  {
   "cell_type": "code",
   "execution_count": 37,
   "outputs": [
    {
     "data": {
      "text/plain": "1.1575442766944806e-05"
     },
     "execution_count": 37,
     "metadata": {},
     "output_type": "execute_result"
    }
   ],
   "source": [
    "all_values: np.ndarray = df_one_row_per_target[\n",
    "    [ col\n",
    "      for col in df_one_row_per_target.columns\n",
    "      if col != \"target_relation\"\n",
    "      ]\n",
    "].values\n",
    "\n",
    "min_val = np.amin(all_values)\n",
    "min_val"
   ],
   "metadata": {
    "collapsed": false,
    "pycharm": {
     "name": "#%%\n"
    }
   }
  },
  {
   "cell_type": "code",
   "execution_count": 38,
   "outputs": [
    {
     "data": {
      "text/plain": "0.11575442766944806"
     },
     "execution_count": 38,
     "metadata": {},
     "output_type": "execute_result"
    }
   ],
   "source": [
    "min_val * 10000"
   ],
   "metadata": {
    "collapsed": false,
    "pycharm": {
     "name": "#%%\n"
    }
   }
  },
  {
   "cell_type": "code",
   "execution_count": 39,
   "outputs": [
    {
     "data": {
      "text/plain": "0.07235108799543154"
     },
     "execution_count": 39,
     "metadata": {},
     "output_type": "execute_result"
    }
   ],
   "source": [
    "max_val = np.amax(all_values)\n",
    "max_val"
   ],
   "metadata": {
    "collapsed": false,
    "pycharm": {
     "name": "#%%\n"
    }
   }
  },
  {
   "cell_type": "code",
   "execution_count": 40,
   "outputs": [
    {
     "data": {
      "text/plain": "723.5108799543153"
     },
     "execution_count": 40,
     "metadata": {},
     "output_type": "execute_result"
    }
   ],
   "source": [
    "max_val * 10000"
   ],
   "metadata": {
    "collapsed": false,
    "pycharm": {
     "name": "#%%\n"
    }
   }
  },
  {
   "cell_type": "code",
   "execution_count": 41,
   "outputs": [
    {
     "data": {
      "text/plain": "                                     target_relation     CWA_0.3   ICW_0.3  \\\n0  createdcreatedcreatedcreatedcreatedcreatedcrea...  383.841100  4.942022   \n1  dealswithdealswithdealswithdealswithdealswithd...  100.377401  0.967311   \n2  diedindiedindiedindiedindiedindiedindiedindied...   78.947446  3.072702   \n3  directeddirecteddirecteddirecteddirecteddirect...  301.929418  2.362415   \n4  exportsexportsexportsexportsexportsexportsexpo...   76.437853  6.919054   \n\n   PCA $p$_0.3  PCA ${p^{-1}}$_0.3   IPW_0.3     PCA_0.3  IPW_lower_0.3  \\\n0    27.341950           59.028283  4.448558   43.185116     107.925111   \n1    57.937020           18.542954  1.136917   38.239987       4.143775   \n2   117.002135           46.368913  0.606435   81.685524      27.283335   \n3   165.510337           36.553609  3.113448  101.031973     113.711680   \n4    19.690255           62.285576  6.094065   40.987916      21.157469   \n\n   IPW_higher_0.3     CWA_0.7   ICW_0.7  PCA $p$_0.7  PCA ${p^{-1}}$_0.7  \\\n0       31.143000  132.307677  3.878181    63.235330           88.949493   \n1        1.076990   83.149343  1.666492    49.586596           13.366475   \n2        8.838037   19.619965  0.143817   193.481074            1.621883   \n3       23.414508   92.780894  1.242674   516.663950           31.391014   \n4        6.935542   44.738069  4.024365    14.446874           35.669467   \n\n    IPW_0.7     PCA_0.7  IPW_lower_0.7  IPW_higher_0.7  \n0  2.332591   76.092411      15.726479        8.005548  \n1  1.038312   31.476535       1.305321        1.064148  \n2  0.123445   97.551479       3.537753        1.943197  \n3  0.467678  274.027482      11.286523        6.452412  \n4  3.595533   25.058170       4.983486        4.044721  ",
      "text/html": "<div>\n<style scoped>\n    .dataframe tbody tr th:only-of-type {\n        vertical-align: middle;\n    }\n\n    .dataframe tbody tr th {\n        vertical-align: top;\n    }\n\n    .dataframe thead th {\n        text-align: right;\n    }\n</style>\n<table border=\"1\" class=\"dataframe\">\n  <thead>\n    <tr style=\"text-align: right;\">\n      <th></th>\n      <th>target_relation</th>\n      <th>CWA_0.3</th>\n      <th>ICW_0.3</th>\n      <th>PCA $p$_0.3</th>\n      <th>PCA ${p^{-1}}$_0.3</th>\n      <th>IPW_0.3</th>\n      <th>PCA_0.3</th>\n      <th>IPW_lower_0.3</th>\n      <th>IPW_higher_0.3</th>\n      <th>CWA_0.7</th>\n      <th>ICW_0.7</th>\n      <th>PCA $p$_0.7</th>\n      <th>PCA ${p^{-1}}$_0.7</th>\n      <th>IPW_0.7</th>\n      <th>PCA_0.7</th>\n      <th>IPW_lower_0.7</th>\n      <th>IPW_higher_0.7</th>\n    </tr>\n  </thead>\n  <tbody>\n    <tr>\n      <th>0</th>\n      <td>createdcreatedcreatedcreatedcreatedcreatedcrea...</td>\n      <td>383.841100</td>\n      <td>4.942022</td>\n      <td>27.341950</td>\n      <td>59.028283</td>\n      <td>4.448558</td>\n      <td>43.185116</td>\n      <td>107.925111</td>\n      <td>31.143000</td>\n      <td>132.307677</td>\n      <td>3.878181</td>\n      <td>63.235330</td>\n      <td>88.949493</td>\n      <td>2.332591</td>\n      <td>76.092411</td>\n      <td>15.726479</td>\n      <td>8.005548</td>\n    </tr>\n    <tr>\n      <th>1</th>\n      <td>dealswithdealswithdealswithdealswithdealswithd...</td>\n      <td>100.377401</td>\n      <td>0.967311</td>\n      <td>57.937020</td>\n      <td>18.542954</td>\n      <td>1.136917</td>\n      <td>38.239987</td>\n      <td>4.143775</td>\n      <td>1.076990</td>\n      <td>83.149343</td>\n      <td>1.666492</td>\n      <td>49.586596</td>\n      <td>13.366475</td>\n      <td>1.038312</td>\n      <td>31.476535</td>\n      <td>1.305321</td>\n      <td>1.064148</td>\n    </tr>\n    <tr>\n      <th>2</th>\n      <td>diedindiedindiedindiedindiedindiedindiedindied...</td>\n      <td>78.947446</td>\n      <td>3.072702</td>\n      <td>117.002135</td>\n      <td>46.368913</td>\n      <td>0.606435</td>\n      <td>81.685524</td>\n      <td>27.283335</td>\n      <td>8.838037</td>\n      <td>19.619965</td>\n      <td>0.143817</td>\n      <td>193.481074</td>\n      <td>1.621883</td>\n      <td>0.123445</td>\n      <td>97.551479</td>\n      <td>3.537753</td>\n      <td>1.943197</td>\n    </tr>\n    <tr>\n      <th>3</th>\n      <td>directeddirecteddirecteddirecteddirecteddirect...</td>\n      <td>301.929418</td>\n      <td>2.362415</td>\n      <td>165.510337</td>\n      <td>36.553609</td>\n      <td>3.113448</td>\n      <td>101.031973</td>\n      <td>113.711680</td>\n      <td>23.414508</td>\n      <td>92.780894</td>\n      <td>1.242674</td>\n      <td>516.663950</td>\n      <td>31.391014</td>\n      <td>0.467678</td>\n      <td>274.027482</td>\n      <td>11.286523</td>\n      <td>6.452412</td>\n    </tr>\n    <tr>\n      <th>4</th>\n      <td>exportsexportsexportsexportsexportsexportsexpo...</td>\n      <td>76.437853</td>\n      <td>6.919054</td>\n      <td>19.690255</td>\n      <td>62.285576</td>\n      <td>6.094065</td>\n      <td>40.987916</td>\n      <td>21.157469</td>\n      <td>6.935542</td>\n      <td>44.738069</td>\n      <td>4.024365</td>\n      <td>14.446874</td>\n      <td>35.669467</td>\n      <td>3.595533</td>\n      <td>25.058170</td>\n      <td>4.983486</td>\n      <td>4.044721</td>\n    </tr>\n  </tbody>\n</table>\n</div>"
     },
     "execution_count": 41,
     "metadata": {},
     "output_type": "execute_result"
    }
   ],
   "source": [
    "df_one_row_per_target.head() * 10000"
   ],
   "metadata": {
    "collapsed": false,
    "pycharm": {
     "name": "#%%\n"
    }
   }
  },
  {
   "cell_type": "code",
   "execution_count": 42,
   "outputs": [
    {
     "data": {
      "text/plain": "target_relation        object\nCWA_0.3               float64\nICW_0.3               float64\nPCA $p$_0.3           float64\nPCA ${p^{-1}}$_0.3    float64\nIPW_0.3               float64\nPCA_0.3               float64\nIPW_lower_0.3         float64\nIPW_higher_0.3        float64\nCWA_0.7               float64\nICW_0.7               float64\nPCA $p$_0.7           float64\nPCA ${p^{-1}}$_0.7    float64\nIPW_0.7               float64\nPCA_0.7               float64\nIPW_lower_0.7         float64\nIPW_higher_0.7        float64\ndtype: object"
     },
     "execution_count": 42,
     "metadata": {},
     "output_type": "execute_result"
    }
   ],
   "source": [
    "df_one_row_per_target.dtypes"
   ],
   "metadata": {
    "collapsed": false,
    "pycharm": {
     "name": "#%%\n"
    }
   }
  },
  {
   "cell_type": "code",
   "execution_count": 43,
   "outputs": [
    {
     "data": {
      "text/plain": "10000"
     },
     "execution_count": 43,
     "metadata": {},
     "output_type": "execute_result"
    }
   ],
   "source": [
    "exponent = 4\n",
    "\n",
    "multiplication_factor = 10 ** exponent\n",
    "multiplication_factor"
   ],
   "metadata": {
    "collapsed": false,
    "pycharm": {
     "name": "#%%\n"
    }
   }
  },
  {
   "cell_type": "code",
   "execution_count": 44,
   "outputs": [
    {
     "data": {
      "text/plain": "   target_relation     CWA_0.3    ICW_0.3  PCA $p$_0.3  PCA ${p^{-1}}$_0.3  \\\n0          created  383.841100   4.942022    27.341950           59.028283   \n1        dealswith  100.377401   0.967311    57.937020           18.542954   \n2           diedin   78.947446   3.072702   117.002135           46.368913   \n3         directed  301.929418   2.362415   165.510337           36.553609   \n4          exports   76.437853   6.919054    19.690255           62.285576   \n5    graduatedfrom  255.081884  25.853814    30.171888          230.583634   \n6       happenedin  287.405109   1.340637   171.487958          143.711557   \n7          imports   69.829431   2.252794    23.699938           36.139504   \n8      iscitizenof  153.761213  13.713658   195.841349           84.225448   \n9       isleaderof   28.979239   4.582965   640.044265          183.872748   \n10  ispoliticianof  440.425698  13.970549   440.985328          518.782614   \n11         livesin   58.559275   6.448719   550.033313           51.043495   \n12  participatedin  294.266626   4.813083    67.688627          202.522708   \n13       wasbornin  122.921138  22.502694    64.759752          110.063230   \n\n      IPW_0.3     PCA_0.3  IPW_lower_0.3  IPW_higher_0.3     CWA_0.7  \\\n0    4.448558   43.185116     107.925111       31.143000  132.307677   \n1    1.136917   38.239987       4.143775        1.076990   83.149343   \n2    0.606435   81.685524      27.283335        8.838037   19.619965   \n3    3.113448  101.031973     113.711680       23.414508   92.780894   \n4    6.094065   40.987916      21.157469        6.935542   44.738069   \n5    2.894101  130.377761     145.498788       32.138340   46.118339   \n6    0.499769  157.599758      41.590499       10.612650  137.927533   \n7    2.586609   29.919721      12.345822        6.928922   33.247431   \n8    7.301225  140.033398      22.872567       10.658279   91.404204   \n9    4.469435  411.958507       6.001298        4.041414   25.464965   \n10  11.207440  479.883971      65.208012       26.096243  259.821646   \n11   2.021498  300.538404      22.949516        5.241857   24.355427   \n12   0.615853  135.105668      60.217307       14.901404  153.101529   \n13   0.730938   87.411491      53.237617       14.377798   28.961624   \n\n      ICW_0.7  PCA $p$_0.7  PCA ${p^{-1}}$_0.7   IPW_0.7     PCA_0.7  \\\n0    3.878181    63.235330           88.949493  2.332591   76.092411   \n1    1.666492    49.586596           13.366475  1.038312   31.476535   \n2    0.143817   193.481074            1.621883  0.123445   97.551479   \n3    1.242674   516.663950           31.391014  0.467678  274.027482   \n4    4.024365    14.446874           35.669467  3.595533   25.058170   \n5    4.251151     2.773621           31.590342  0.564754   17.181982   \n6    1.399594    87.448095           34.463784  0.194949   60.955940   \n7    2.238164    13.652502           12.364122  1.113023   13.008312   \n8    9.151806   180.378076           93.337461  3.569636  136.857768   \n9    4.529722   723.510880          190.166189  4.373808  456.838535   \n10  14.377574   471.048370          602.387722  6.368939  536.718046   \n11   1.710170   688.289132           19.704498  0.790044  353.996815   \n12   1.469723     9.225610          106.782265  0.344410   58.003938   \n13   5.425356    48.248916           20.277891  0.115754   34.263403   \n\n    IPW_lower_0.7  IPW_higher_0.7  \n0       15.726479        8.005548  \n1        1.305321        1.064148  \n2        3.537753        1.943197  \n3       11.286523        6.452412  \n4        4.983486        4.044721  \n5       16.875129        7.686812  \n6        5.398942        2.373619  \n7        2.226033        2.228533  \n8        5.150328        4.609582  \n9        4.589581        4.244161  \n10      10.105577       11.515519  \n11       3.008627        1.693664  \n12       6.851488        3.989141  \n13       5.343690        3.887648  ",
      "text/html": "<div>\n<style scoped>\n    .dataframe tbody tr th:only-of-type {\n        vertical-align: middle;\n    }\n\n    .dataframe tbody tr th {\n        vertical-align: top;\n    }\n\n    .dataframe thead th {\n        text-align: right;\n    }\n</style>\n<table border=\"1\" class=\"dataframe\">\n  <thead>\n    <tr style=\"text-align: right;\">\n      <th></th>\n      <th>target_relation</th>\n      <th>CWA_0.3</th>\n      <th>ICW_0.3</th>\n      <th>PCA $p$_0.3</th>\n      <th>PCA ${p^{-1}}$_0.3</th>\n      <th>IPW_0.3</th>\n      <th>PCA_0.3</th>\n      <th>IPW_lower_0.3</th>\n      <th>IPW_higher_0.3</th>\n      <th>CWA_0.7</th>\n      <th>ICW_0.7</th>\n      <th>PCA $p$_0.7</th>\n      <th>PCA ${p^{-1}}$_0.7</th>\n      <th>IPW_0.7</th>\n      <th>PCA_0.7</th>\n      <th>IPW_lower_0.7</th>\n      <th>IPW_higher_0.7</th>\n    </tr>\n  </thead>\n  <tbody>\n    <tr>\n      <th>0</th>\n      <td>created</td>\n      <td>383.841100</td>\n      <td>4.942022</td>\n      <td>27.341950</td>\n      <td>59.028283</td>\n      <td>4.448558</td>\n      <td>43.185116</td>\n      <td>107.925111</td>\n      <td>31.143000</td>\n      <td>132.307677</td>\n      <td>3.878181</td>\n      <td>63.235330</td>\n      <td>88.949493</td>\n      <td>2.332591</td>\n      <td>76.092411</td>\n      <td>15.726479</td>\n      <td>8.005548</td>\n    </tr>\n    <tr>\n      <th>1</th>\n      <td>dealswith</td>\n      <td>100.377401</td>\n      <td>0.967311</td>\n      <td>57.937020</td>\n      <td>18.542954</td>\n      <td>1.136917</td>\n      <td>38.239987</td>\n      <td>4.143775</td>\n      <td>1.076990</td>\n      <td>83.149343</td>\n      <td>1.666492</td>\n      <td>49.586596</td>\n      <td>13.366475</td>\n      <td>1.038312</td>\n      <td>31.476535</td>\n      <td>1.305321</td>\n      <td>1.064148</td>\n    </tr>\n    <tr>\n      <th>2</th>\n      <td>diedin</td>\n      <td>78.947446</td>\n      <td>3.072702</td>\n      <td>117.002135</td>\n      <td>46.368913</td>\n      <td>0.606435</td>\n      <td>81.685524</td>\n      <td>27.283335</td>\n      <td>8.838037</td>\n      <td>19.619965</td>\n      <td>0.143817</td>\n      <td>193.481074</td>\n      <td>1.621883</td>\n      <td>0.123445</td>\n      <td>97.551479</td>\n      <td>3.537753</td>\n      <td>1.943197</td>\n    </tr>\n    <tr>\n      <th>3</th>\n      <td>directed</td>\n      <td>301.929418</td>\n      <td>2.362415</td>\n      <td>165.510337</td>\n      <td>36.553609</td>\n      <td>3.113448</td>\n      <td>101.031973</td>\n      <td>113.711680</td>\n      <td>23.414508</td>\n      <td>92.780894</td>\n      <td>1.242674</td>\n      <td>516.663950</td>\n      <td>31.391014</td>\n      <td>0.467678</td>\n      <td>274.027482</td>\n      <td>11.286523</td>\n      <td>6.452412</td>\n    </tr>\n    <tr>\n      <th>4</th>\n      <td>exports</td>\n      <td>76.437853</td>\n      <td>6.919054</td>\n      <td>19.690255</td>\n      <td>62.285576</td>\n      <td>6.094065</td>\n      <td>40.987916</td>\n      <td>21.157469</td>\n      <td>6.935542</td>\n      <td>44.738069</td>\n      <td>4.024365</td>\n      <td>14.446874</td>\n      <td>35.669467</td>\n      <td>3.595533</td>\n      <td>25.058170</td>\n      <td>4.983486</td>\n      <td>4.044721</td>\n    </tr>\n    <tr>\n      <th>5</th>\n      <td>graduatedfrom</td>\n      <td>255.081884</td>\n      <td>25.853814</td>\n      <td>30.171888</td>\n      <td>230.583634</td>\n      <td>2.894101</td>\n      <td>130.377761</td>\n      <td>145.498788</td>\n      <td>32.138340</td>\n      <td>46.118339</td>\n      <td>4.251151</td>\n      <td>2.773621</td>\n      <td>31.590342</td>\n      <td>0.564754</td>\n      <td>17.181982</td>\n      <td>16.875129</td>\n      <td>7.686812</td>\n    </tr>\n    <tr>\n      <th>6</th>\n      <td>happenedin</td>\n      <td>287.405109</td>\n      <td>1.340637</td>\n      <td>171.487958</td>\n      <td>143.711557</td>\n      <td>0.499769</td>\n      <td>157.599758</td>\n      <td>41.590499</td>\n      <td>10.612650</td>\n      <td>137.927533</td>\n      <td>1.399594</td>\n      <td>87.448095</td>\n      <td>34.463784</td>\n      <td>0.194949</td>\n      <td>60.955940</td>\n      <td>5.398942</td>\n      <td>2.373619</td>\n    </tr>\n    <tr>\n      <th>7</th>\n      <td>imports</td>\n      <td>69.829431</td>\n      <td>2.252794</td>\n      <td>23.699938</td>\n      <td>36.139504</td>\n      <td>2.586609</td>\n      <td>29.919721</td>\n      <td>12.345822</td>\n      <td>6.928922</td>\n      <td>33.247431</td>\n      <td>2.238164</td>\n      <td>13.652502</td>\n      <td>12.364122</td>\n      <td>1.113023</td>\n      <td>13.008312</td>\n      <td>2.226033</td>\n      <td>2.228533</td>\n    </tr>\n    <tr>\n      <th>8</th>\n      <td>iscitizenof</td>\n      <td>153.761213</td>\n      <td>13.713658</td>\n      <td>195.841349</td>\n      <td>84.225448</td>\n      <td>7.301225</td>\n      <td>140.033398</td>\n      <td>22.872567</td>\n      <td>10.658279</td>\n      <td>91.404204</td>\n      <td>9.151806</td>\n      <td>180.378076</td>\n      <td>93.337461</td>\n      <td>3.569636</td>\n      <td>136.857768</td>\n      <td>5.150328</td>\n      <td>4.609582</td>\n    </tr>\n    <tr>\n      <th>9</th>\n      <td>isleaderof</td>\n      <td>28.979239</td>\n      <td>4.582965</td>\n      <td>640.044265</td>\n      <td>183.872748</td>\n      <td>4.469435</td>\n      <td>411.958507</td>\n      <td>6.001298</td>\n      <td>4.041414</td>\n      <td>25.464965</td>\n      <td>4.529722</td>\n      <td>723.510880</td>\n      <td>190.166189</td>\n      <td>4.373808</td>\n      <td>456.838535</td>\n      <td>4.589581</td>\n      <td>4.244161</td>\n    </tr>\n    <tr>\n      <th>10</th>\n      <td>ispoliticianof</td>\n      <td>440.425698</td>\n      <td>13.970549</td>\n      <td>440.985328</td>\n      <td>518.782614</td>\n      <td>11.207440</td>\n      <td>479.883971</td>\n      <td>65.208012</td>\n      <td>26.096243</td>\n      <td>259.821646</td>\n      <td>14.377574</td>\n      <td>471.048370</td>\n      <td>602.387722</td>\n      <td>6.368939</td>\n      <td>536.718046</td>\n      <td>10.105577</td>\n      <td>11.515519</td>\n    </tr>\n    <tr>\n      <th>11</th>\n      <td>livesin</td>\n      <td>58.559275</td>\n      <td>6.448719</td>\n      <td>550.033313</td>\n      <td>51.043495</td>\n      <td>2.021498</td>\n      <td>300.538404</td>\n      <td>22.949516</td>\n      <td>5.241857</td>\n      <td>24.355427</td>\n      <td>1.710170</td>\n      <td>688.289132</td>\n      <td>19.704498</td>\n      <td>0.790044</td>\n      <td>353.996815</td>\n      <td>3.008627</td>\n      <td>1.693664</td>\n    </tr>\n    <tr>\n      <th>12</th>\n      <td>participatedin</td>\n      <td>294.266626</td>\n      <td>4.813083</td>\n      <td>67.688627</td>\n      <td>202.522708</td>\n      <td>0.615853</td>\n      <td>135.105668</td>\n      <td>60.217307</td>\n      <td>14.901404</td>\n      <td>153.101529</td>\n      <td>1.469723</td>\n      <td>9.225610</td>\n      <td>106.782265</td>\n      <td>0.344410</td>\n      <td>58.003938</td>\n      <td>6.851488</td>\n      <td>3.989141</td>\n    </tr>\n    <tr>\n      <th>13</th>\n      <td>wasbornin</td>\n      <td>122.921138</td>\n      <td>22.502694</td>\n      <td>64.759752</td>\n      <td>110.063230</td>\n      <td>0.730938</td>\n      <td>87.411491</td>\n      <td>53.237617</td>\n      <td>14.377798</td>\n      <td>28.961624</td>\n      <td>5.425356</td>\n      <td>48.248916</td>\n      <td>20.277891</td>\n      <td>0.115754</td>\n      <td>34.263403</td>\n      <td>5.343690</td>\n      <td>3.887648</td>\n    </tr>\n  </tbody>\n</table>\n</div>"
     },
     "execution_count": 44,
     "metadata": {},
     "output_type": "execute_result"
    }
   ],
   "source": [
    "df_one_row_per_target[\n",
    "    df_one_row_per_target.select_dtypes(include=['number']).columns\n",
    "] *= multiplication_factor\n",
    "\n",
    "df_one_row_per_target"
   ],
   "metadata": {
    "collapsed": false,
    "pycharm": {
     "name": "#%%\n"
    }
   }
  },
  {
   "cell_type": "code",
   "execution_count": 45,
   "outputs": [
    {
     "data": {
      "text/plain": "  target_relation     CWA_0.3   ICW_0.3  PCA $p$_0.3  PCA ${p^{-1}}$_0.3  \\\n0         created  383.841100  4.942022    27.341950           59.028283   \n1       dealswith  100.377401  0.967311    57.937020           18.542954   \n2          diedin   78.947446  3.072702   117.002135           46.368913   \n3        directed  301.929418  2.362415   165.510337           36.553609   \n4         exports   76.437853  6.919054    19.690255           62.285576   \n\n    IPW_0.3     PCA_0.3  IPW_lower_0.3  IPW_higher_0.3     CWA_0.7   ICW_0.7  \\\n0  4.448558   43.185116     107.925111       31.143000  132.307677  3.878181   \n1  1.136917   38.239987       4.143775        1.076990   83.149343  1.666492   \n2  0.606435   81.685524      27.283335        8.838037   19.619965  0.143817   \n3  3.113448  101.031973     113.711680       23.414508   92.780894  1.242674   \n4  6.094065   40.987916      21.157469        6.935542   44.738069  4.024365   \n\n   PCA $p$_0.7  PCA ${p^{-1}}$_0.7   IPW_0.7     PCA_0.7  IPW_lower_0.7  \\\n0    63.235330           88.949493  2.332591   76.092411      15.726479   \n1    49.586596           13.366475  1.038312   31.476535       1.305321   \n2   193.481074            1.621883  0.123445   97.551479       3.537753   \n3   516.663950           31.391014  0.467678  274.027482      11.286523   \n4    14.446874           35.669467  3.595533   25.058170       4.983486   \n\n   IPW_higher_0.7  \n0        8.005548  \n1        1.064148  \n2        1.943197  \n3        6.452412  \n4        4.044721  ",
      "text/html": "<div>\n<style scoped>\n    .dataframe tbody tr th:only-of-type {\n        vertical-align: middle;\n    }\n\n    .dataframe tbody tr th {\n        vertical-align: top;\n    }\n\n    .dataframe thead th {\n        text-align: right;\n    }\n</style>\n<table border=\"1\" class=\"dataframe\">\n  <thead>\n    <tr style=\"text-align: right;\">\n      <th></th>\n      <th>target_relation</th>\n      <th>CWA_0.3</th>\n      <th>ICW_0.3</th>\n      <th>PCA $p$_0.3</th>\n      <th>PCA ${p^{-1}}$_0.3</th>\n      <th>IPW_0.3</th>\n      <th>PCA_0.3</th>\n      <th>IPW_lower_0.3</th>\n      <th>IPW_higher_0.3</th>\n      <th>CWA_0.7</th>\n      <th>ICW_0.7</th>\n      <th>PCA $p$_0.7</th>\n      <th>PCA ${p^{-1}}$_0.7</th>\n      <th>IPW_0.7</th>\n      <th>PCA_0.7</th>\n      <th>IPW_lower_0.7</th>\n      <th>IPW_higher_0.7</th>\n    </tr>\n  </thead>\n  <tbody>\n    <tr>\n      <th>0</th>\n      <td>created</td>\n      <td>383.841100</td>\n      <td>4.942022</td>\n      <td>27.341950</td>\n      <td>59.028283</td>\n      <td>4.448558</td>\n      <td>43.185116</td>\n      <td>107.925111</td>\n      <td>31.143000</td>\n      <td>132.307677</td>\n      <td>3.878181</td>\n      <td>63.235330</td>\n      <td>88.949493</td>\n      <td>2.332591</td>\n      <td>76.092411</td>\n      <td>15.726479</td>\n      <td>8.005548</td>\n    </tr>\n    <tr>\n      <th>1</th>\n      <td>dealswith</td>\n      <td>100.377401</td>\n      <td>0.967311</td>\n      <td>57.937020</td>\n      <td>18.542954</td>\n      <td>1.136917</td>\n      <td>38.239987</td>\n      <td>4.143775</td>\n      <td>1.076990</td>\n      <td>83.149343</td>\n      <td>1.666492</td>\n      <td>49.586596</td>\n      <td>13.366475</td>\n      <td>1.038312</td>\n      <td>31.476535</td>\n      <td>1.305321</td>\n      <td>1.064148</td>\n    </tr>\n    <tr>\n      <th>2</th>\n      <td>diedin</td>\n      <td>78.947446</td>\n      <td>3.072702</td>\n      <td>117.002135</td>\n      <td>46.368913</td>\n      <td>0.606435</td>\n      <td>81.685524</td>\n      <td>27.283335</td>\n      <td>8.838037</td>\n      <td>19.619965</td>\n      <td>0.143817</td>\n      <td>193.481074</td>\n      <td>1.621883</td>\n      <td>0.123445</td>\n      <td>97.551479</td>\n      <td>3.537753</td>\n      <td>1.943197</td>\n    </tr>\n    <tr>\n      <th>3</th>\n      <td>directed</td>\n      <td>301.929418</td>\n      <td>2.362415</td>\n      <td>165.510337</td>\n      <td>36.553609</td>\n      <td>3.113448</td>\n      <td>101.031973</td>\n      <td>113.711680</td>\n      <td>23.414508</td>\n      <td>92.780894</td>\n      <td>1.242674</td>\n      <td>516.663950</td>\n      <td>31.391014</td>\n      <td>0.467678</td>\n      <td>274.027482</td>\n      <td>11.286523</td>\n      <td>6.452412</td>\n    </tr>\n    <tr>\n      <th>4</th>\n      <td>exports</td>\n      <td>76.437853</td>\n      <td>6.919054</td>\n      <td>19.690255</td>\n      <td>62.285576</td>\n      <td>6.094065</td>\n      <td>40.987916</td>\n      <td>21.157469</td>\n      <td>6.935542</td>\n      <td>44.738069</td>\n      <td>4.024365</td>\n      <td>14.446874</td>\n      <td>35.669467</td>\n      <td>3.595533</td>\n      <td>25.058170</td>\n      <td>4.983486</td>\n      <td>4.044721</td>\n    </tr>\n  </tbody>\n</table>\n</div>"
     },
     "execution_count": 45,
     "metadata": {},
     "output_type": "execute_result"
    }
   ],
   "source": [
    "df_one_row_per_target.head()"
   ],
   "metadata": {
    "collapsed": false,
    "pycharm": {
     "name": "#%%\n"
    }
   }
  },
  {
   "cell_type": "markdown",
   "source": [
    "## Output files definitions"
   ],
   "metadata": {
    "collapsed": false
   }
  },
  {
   "cell_type": "code",
   "execution_count": 46,
   "outputs": [],
   "source": [
    "dir_latex_table: str = os.path.join(\n",
    "    kbc_e_metrics_project_dir,\n",
    "    \"paper_latex_tables\",\n",
    "    'known_prop_scores',\n",
    "    'sar_two_groups'\n",
    ")\n",
    "\n",
    "if not os.path.exists(dir_latex_table):\n",
    "    os.makedirs(dir_latex_table)\n",
    "\n",
    "filename_tsv_rule_stats = os.path.join(\n",
    "    dir_latex_table,\n",
    "    \"conf_error_stats_v3.tsv\"\n",
    ")\n",
    "\n",
    "filename_tsv_single_row_summary = os.path.join(\n",
    "    dir_latex_table,\n",
    "    \"noisy_sar_two_groups_single_row_summary.tsv\"\n",
    ")\n"
   ],
   "metadata": {
    "collapsed": false,
    "pycharm": {
     "name": "#%%\n"
    }
   }
  },
  {
   "cell_type": "markdown",
   "source": [
    "## Create single-row summary"
   ],
   "metadata": {
    "collapsed": false,
    "pycharm": {
     "name": "#%% md\n"
    }
   }
  },
  {
   "cell_type": "code",
   "execution_count": 47,
   "outputs": [
    {
     "name": "stderr",
     "output_type": "stream",
     "text": [
      "/tmp/ipykernel_56394/1788372146.py:1: FutureWarning: Dropping of nuisance columns in DataFrame reductions (with 'numeric_only=None') is deprecated; in a future version this will raise TypeError.  Select only valid columns before calling the reduction.\n",
      "  df_one_row_in_total: pd.Series = df_one_row_per_target.mean(\n"
     ]
    },
    {
     "data": {
      "text/plain": "CWA_0.3               189.483059\nICW_0.3                 8.124458\nPCA $p$_0.3           183.728151\nPCA ${p^{-1}}$_0.3    127.408877\nIPW_0.3                 3.409021\nPCA_0.3               155.568514\nIPW_lower_0.3          50.295914\nIPW_higher_0.3         14.028927\nCWA_0.7                83.785618\nICW_0.7                 3.964914\nPCA $p$_0.7           218.713502\nPCA ${p^{-1}}$_0.7     91.576615\nIPW_0.7                 1.785205\nPCA_0.7               155.145058\nIPW_lower_0.7           6.884926\nIPW_higher_0.7          4.552765\ndtype: float64"
     },
     "execution_count": 47,
     "metadata": {},
     "output_type": "execute_result"
    }
   ],
   "source": [
    "df_one_row_in_total: pd.Series = df_one_row_per_target.mean(\n",
    ")\n",
    "\n",
    "\n",
    "df_one_row_in_total"
   ],
   "metadata": {
    "collapsed": false,
    "pycharm": {
     "name": "#%%\n"
    }
   }
  },
  {
   "cell_type": "code",
   "execution_count": 48,
   "outputs": [
    {
     "data": {
      "text/plain": "  target_relation  # rules\n0         created        2\n1       dealswith        7\n2          diedin        1\n3        directed        2\n4         exports        1",
      "text/html": "<div>\n<style scoped>\n    .dataframe tbody tr th:only-of-type {\n        vertical-align: middle;\n    }\n\n    .dataframe tbody tr th {\n        vertical-align: top;\n    }\n\n    .dataframe thead th {\n        text-align: right;\n    }\n</style>\n<table border=\"1\" class=\"dataframe\">\n  <thead>\n    <tr style=\"text-align: right;\">\n      <th></th>\n      <th>target_relation</th>\n      <th># rules</th>\n    </tr>\n  </thead>\n  <tbody>\n    <tr>\n      <th>0</th>\n      <td>created</td>\n      <td>2</td>\n    </tr>\n    <tr>\n      <th>1</th>\n      <td>dealswith</td>\n      <td>7</td>\n    </tr>\n    <tr>\n      <th>2</th>\n      <td>diedin</td>\n      <td>1</td>\n    </tr>\n    <tr>\n      <th>3</th>\n      <td>directed</td>\n      <td>2</td>\n    </tr>\n    <tr>\n      <th>4</th>\n      <td>exports</td>\n      <td>1</td>\n    </tr>\n  </tbody>\n</table>\n</div>"
     },
     "execution_count": 48,
     "metadata": {},
     "output_type": "execute_result"
    }
   ],
   "source": [
    "df_n_rules_per_target.head()"
   ],
   "metadata": {
    "collapsed": false,
    "pycharm": {
     "name": "#%%\n"
    }
   }
  },
  {
   "cell_type": "code",
   "execution_count": 49,
   "outputs": [
    {
     "data": {
      "text/plain": "CWA_0.3               189.483059\nICW_0.3                 8.124458\nPCA $p$_0.3           183.728151\nPCA ${p^{-1}}$_0.3    127.408877\nIPW_0.3                 3.409021\nPCA_0.3               155.568514\nIPW_lower_0.3          50.295914\nIPW_higher_0.3         14.028927\nCWA_0.7                83.785618\nICW_0.7                 3.964914\nPCA $p$_0.7           218.713502\nPCA ${p^{-1}}$_0.7     91.576615\nIPW_0.7                 1.785205\nPCA_0.7               155.145058\nIPW_lower_0.7           6.884926\nIPW_higher_0.7          4.552765\n# rules                33.000000\ndtype: float64"
     },
     "execution_count": 49,
     "metadata": {},
     "output_type": "execute_result"
    }
   ],
   "source": [
    "df_one_row_in_total[\"# rules\"] = int(df_n_rules_per_target[\"# rules\"].sum())\n",
    "df_one_row_in_total"
   ],
   "metadata": {
    "collapsed": false,
    "pycharm": {
     "name": "#%%\n"
    }
   }
  },
  {
   "cell_type": "code",
   "execution_count": 50,
   "outputs": [
    {
     "data": {
      "text/plain": "pandas.core.series.Series"
     },
     "execution_count": 50,
     "metadata": {},
     "output_type": "execute_result"
    }
   ],
   "source": [
    "type(df_one_row_in_total)"
   ],
   "metadata": {
    "collapsed": false,
    "pycharm": {
     "name": "#%%\n"
    }
   }
  },
  {
   "cell_type": "code",
   "execution_count": 51,
   "outputs": [],
   "source": [
    "df_one_row_in_total.to_csv(\n",
    "    filename_tsv_single_row_summary,\n",
    "    sep = \"\\t\",\n",
    "    header=None\n",
    ")\n"
   ],
   "metadata": {
    "collapsed": false,
    "pycharm": {
     "name": "#%%\n"
    }
   }
  },
  {
   "cell_type": "markdown",
   "source": [
    "### Now create a pretty table"
   ],
   "metadata": {
    "collapsed": false
   }
  },
  {
   "cell_type": "code",
   "execution_count": 52,
   "outputs": [
    {
     "data": {
      "text/plain": "['CWA', 'ICW', 'PCA $p$', 'PCA ${p^{-1}}$', 'IPW']"
     },
     "execution_count": 52,
     "metadata": {},
     "output_type": "execute_result"
    }
   ],
   "source": [
    "column_names_info.column_names_conf_estimators"
   ],
   "metadata": {
    "collapsed": false,
    "pycharm": {
     "name": "#%%\n"
    }
   }
  },
  {
   "cell_type": "code",
   "execution_count": 53,
   "outputs": [],
   "source": [
    "simplified_column_names_conf_estimators = ['CWA', 'PCA', 'ICW', 'IPW',]"
   ],
   "metadata": {
    "collapsed": false,
    "pycharm": {
     "name": "#%%\n"
    }
   }
  },
  {
   "cell_type": "code",
   "execution_count": 54,
   "outputs": [
    {
     "data": {
      "text/plain": "MultiIndex([(             '$p$',                ''),\n            (        '\\# rules',                ''),\n            ('$c_{\\neg q}=0.3$',             'CWA'),\n            ('$c_{\\neg q}=0.3$',             'PCA'),\n            ('$c_{\\neg q}=0.3$',             'ICW'),\n            ('$c_{\\neg q}=0.3$',             'IPW'),\n            ('$c_{\\neg q}=0.3$', 'IPW ($-\\Delta$)'),\n            ('$c_{\\neg q}=0.3$', 'IPW ($+\\Delta$)'),\n            ('$c_{\\neg q}=0.7$',             'CWA'),\n            ('$c_{\\neg q}=0.7$',             'PCA'),\n            ('$c_{\\neg q}=0.7$',             'ICW'),\n            ('$c_{\\neg q}=0.7$',             'IPW'),\n            ('$c_{\\neg q}=0.7$', 'IPW ($-\\Delta$)'),\n            ('$c_{\\neg q}=0.7$', 'IPW ($+\\Delta$)')],\n           )"
     },
     "execution_count": 54,
     "metadata": {},
     "output_type": "execute_result"
    }
   ],
   "source": [
    "multi_index_columns = [\n",
    "    (\"$p$\", \"\"),\n",
    "    (\"\\# rules\", \"\")\n",
    "]\n",
    "from itertools import product\n",
    "\n",
    "# conf_upper_cols = column_names_info.column_names_conf_estimators + [\n",
    "#     f\"{ConfidenceEnum.IPW_CONF.value} \" + \"($\\Delta c=-\" + f\"{label_frequency_est_diff}\" + \"$)\",\n",
    "#     f\"{ConfidenceEnum.IPW_CONF.value} \" + \"($\\Delta c=\" + f\"{label_frequency_est_diff}\" + \"$)\",\n",
    "# ]\n",
    "conf_upper_cols = simplified_column_names_conf_estimators + [\n",
    "    f\"{ConfidenceEnum.IPW_CONF.value} \" + \"($-\\Delta$)\",\n",
    "    f\"{ConfidenceEnum.IPW_CONF.value} \" + \"($+\\Delta$)\",\n",
    "]\n",
    "\n",
    "c_subcols = [\"$c_{\\\\neg q}=0.3$\", \"$c_{\\\\neg q}=0.7$\"]\n",
    "\n",
    "multi_index_columns = multi_index_columns + list(product(c_subcols, conf_upper_cols))\n",
    "# multi_index_list\n",
    "\n",
    "multi_index_columns = pd.MultiIndex.from_tuples(multi_index_columns)\n",
    "multi_index_columns"
   ],
   "metadata": {
    "collapsed": false,
    "pycharm": {
     "name": "#%%\n"
    }
   }
  },
  {
   "cell_type": "code",
   "execution_count": 55,
   "outputs": [
    {
     "data": {
      "text/plain": "         $p$ \\# rules $c_{\\neg q}=0.3$                                   \\\n                                   CWA      PCA         ICW         IPW   \n0    created        2          $383.8$   $43.2$       $4.9$  $\\bm{4.4}$   \n1  dealswith        7          $100.4$   $38.2$  $\\bm{1.0}$       $1.1$   \n2     diedin        1           $78.9$   $81.7$       $3.1$  $\\bm{0.6}$   \n3   directed        2          $301.9$  $101.0$  $\\bm{2.4}$       $3.1$   \n4    exports        1           $76.4$   $41.0$       $6.9$  $\\bm{6.1}$   \n\n                                  $c_{\\neg q}=0.7$                  \\\n  IPW ($-\\Delta$) IPW ($+\\Delta$)              CWA      PCA    ICW   \n0         $107.9$          $31.1$          $132.3$   $76.1$  $3.9$   \n1           $4.1$           $1.1$           $83.1$   $31.5$  $1.7$   \n2          $27.3$           $8.8$           $19.6$   $97.6$  $0.1$   \n3         $113.7$          $23.4$           $92.8$  $274.0$  $1.2$   \n4          $21.2$           $6.9$           $44.7$   $25.1$  $4.0$   \n\n                                               \n          IPW IPW ($-\\Delta$) IPW ($+\\Delta$)  \n0  $\\bm{2.3}$          $15.7$           $8.0$  \n1  $\\bm{1.0}$           $1.3$           $1.1$  \n2  $\\bm{0.1}$           $3.5$           $1.9$  \n3  $\\bm{0.5}$          $11.3$           $6.5$  \n4  $\\bm{3.6}$           $5.0$           $4.0$  ",
      "text/html": "<div>\n<style scoped>\n    .dataframe tbody tr th:only-of-type {\n        vertical-align: middle;\n    }\n\n    .dataframe tbody tr th {\n        vertical-align: top;\n    }\n\n    .dataframe thead tr th {\n        text-align: left;\n    }\n</style>\n<table border=\"1\" class=\"dataframe\">\n  <thead>\n    <tr>\n      <th></th>\n      <th>$p$</th>\n      <th>\\# rules</th>\n      <th colspan=\"6\" halign=\"left\">$c_{\\neg q}=0.3$</th>\n      <th colspan=\"6\" halign=\"left\">$c_{\\neg q}=0.7$</th>\n    </tr>\n    <tr>\n      <th></th>\n      <th></th>\n      <th></th>\n      <th>CWA</th>\n      <th>PCA</th>\n      <th>ICW</th>\n      <th>IPW</th>\n      <th>IPW ($-\\Delta$)</th>\n      <th>IPW ($+\\Delta$)</th>\n      <th>CWA</th>\n      <th>PCA</th>\n      <th>ICW</th>\n      <th>IPW</th>\n      <th>IPW ($-\\Delta$)</th>\n      <th>IPW ($+\\Delta$)</th>\n    </tr>\n  </thead>\n  <tbody>\n    <tr>\n      <th>0</th>\n      <td>created</td>\n      <td>2</td>\n      <td>$383.8$</td>\n      <td>$43.2$</td>\n      <td>$4.9$</td>\n      <td>$\\bm{4.4}$</td>\n      <td>$107.9$</td>\n      <td>$31.1$</td>\n      <td>$132.3$</td>\n      <td>$76.1$</td>\n      <td>$3.9$</td>\n      <td>$\\bm{2.3}$</td>\n      <td>$15.7$</td>\n      <td>$8.0$</td>\n    </tr>\n    <tr>\n      <th>1</th>\n      <td>dealswith</td>\n      <td>7</td>\n      <td>$100.4$</td>\n      <td>$38.2$</td>\n      <td>$\\bm{1.0}$</td>\n      <td>$1.1$</td>\n      <td>$4.1$</td>\n      <td>$1.1$</td>\n      <td>$83.1$</td>\n      <td>$31.5$</td>\n      <td>$1.7$</td>\n      <td>$\\bm{1.0}$</td>\n      <td>$1.3$</td>\n      <td>$1.1$</td>\n    </tr>\n    <tr>\n      <th>2</th>\n      <td>diedin</td>\n      <td>1</td>\n      <td>$78.9$</td>\n      <td>$81.7$</td>\n      <td>$3.1$</td>\n      <td>$\\bm{0.6}$</td>\n      <td>$27.3$</td>\n      <td>$8.8$</td>\n      <td>$19.6$</td>\n      <td>$97.6$</td>\n      <td>$0.1$</td>\n      <td>$\\bm{0.1}$</td>\n      <td>$3.5$</td>\n      <td>$1.9$</td>\n    </tr>\n    <tr>\n      <th>3</th>\n      <td>directed</td>\n      <td>2</td>\n      <td>$301.9$</td>\n      <td>$101.0$</td>\n      <td>$\\bm{2.4}$</td>\n      <td>$3.1$</td>\n      <td>$113.7$</td>\n      <td>$23.4$</td>\n      <td>$92.8$</td>\n      <td>$274.0$</td>\n      <td>$1.2$</td>\n      <td>$\\bm{0.5}$</td>\n      <td>$11.3$</td>\n      <td>$6.5$</td>\n    </tr>\n    <tr>\n      <th>4</th>\n      <td>exports</td>\n      <td>1</td>\n      <td>$76.4$</td>\n      <td>$41.0$</td>\n      <td>$6.9$</td>\n      <td>$\\bm{6.1}$</td>\n      <td>$21.2$</td>\n      <td>$6.9$</td>\n      <td>$44.7$</td>\n      <td>$25.1$</td>\n      <td>$4.0$</td>\n      <td>$\\bm{3.6}$</td>\n      <td>$5.0$</td>\n      <td>$4.0$</td>\n    </tr>\n  </tbody>\n</table>\n</div>"
     },
     "execution_count": 55,
     "metadata": {},
     "output_type": "execute_result"
    }
   ],
   "source": [
    "\n",
    "rule_counter: int = 1\n",
    "rule_str_to_rule_id_map: Dict[str, int] = {}\n",
    "\n",
    "\n",
    "float_precision: int = 1\n",
    "\n",
    "col_name_conf_estimator: str\n",
    "\n",
    "\n",
    "pretty_rows: List[List] = []\n",
    "\n",
    "row_index: int\n",
    "row: pd.Series\n",
    "\n",
    "# columns_to_use = [\n",
    "#     \"$p$\",\n",
    "#     \"\\# rules\"\n",
    "# ] + column_names_info.column_names_conf_estimators + [\n",
    "#     f\"{ConfidenceEnum.IPW_CONF.value} \" + \"($\\Delta c=-\" + f\"{label_frequency_est_diff}\" + \"$)\",\n",
    "#     f\"{ConfidenceEnum.IPW_CONF.value} \" + \"($\\Delta c=\" + f\"{label_frequency_est_diff}\" + \"$)\",\n",
    "# ]\n",
    "LabelFreq = float\n",
    "def get_dict_with_smallest_estimator_per_label_freq(row: pd.Series) -> Dict[LabelFreq, Set[str]]:\n",
    "    # Find estimator with smallest mean value for label frequency###################\n",
    "    label_freq_to_set_of_smallest_est_map: Dict[LabelFreq, Set[str]] = dict()\n",
    "    for label_freq in [first_true_label_freq_to_include, second_true_label_freq_to_include]:\n",
    "        o_set_of_col_names_with_min_value: Optional[Set[str]] = None\n",
    "        o_current_smallest_value: Optional[float] = None\n",
    "        # Find smallest squared error\n",
    "        for col_name_conf_estimator in simplified_column_names_conf_estimators:\n",
    "            current_val: float = row[f\"{col_name_conf_estimator}_{label_freq}\"]\n",
    "            # print(current_val)\n",
    "            if o_set_of_col_names_with_min_value is None or o_current_smallest_value > current_val:\n",
    "                o_set_of_col_names_with_min_value = {col_name_conf_estimator}\n",
    "                o_current_smallest_value = current_val\n",
    "            elif current_val == o_current_smallest_value:\n",
    "                o_set_of_col_names_with_min_value.update(col_name_conf_estimator)\n",
    "\n",
    "        label_freq_to_set_of_smallest_est_map[label_freq] = o_set_of_col_names_with_min_value\n",
    "    return label_freq_to_set_of_smallest_est_map\n",
    "\n",
    "\n",
    "def format_value_depending_on_whether_it_is_smallest(\n",
    "        value: float,\n",
    "        is_smallest: bool,\n",
    "        float_precision: float,\n",
    "        use_si: bool = False\n",
    ")-> str:\n",
    "    if is_smallest:\n",
    "        if not use_si:\n",
    "            formatted_value = \"$\\\\bm{\" + f\"{value:0.{float_precision}f}\" + \"}$\"\n",
    "            # formatted_value = \"$\\\\bm{\" + f\"{value:0.{float_precision}e}\" + \"}$\"\n",
    "        else:\n",
    "            formatted_value = \"\\\\textbf{$\" + f\"\\\\num[round-precision={float_precision},round-mode=figures,scientific-notation=true]\"+\\\n",
    "                              \"{\"+ str(value) + \"}\"+ \"$}\"\n",
    "    else:\n",
    "        if not use_si:\n",
    "            formatted_value = f\"${value:0.{float_precision}f}$\"\n",
    "            # formatted_value = f\"${value:0.{float_precision}e}$\"\n",
    "        else:\n",
    "            formatted_value = \"$\" + f\"\\\\num[round-precision={float_precision},round-mode=figures,scientific-notation=true]\"+\\\n",
    "                              \"{\"+ str(value) + \"}\"+ \"$\"\n",
    "\n",
    "    return formatted_value\n",
    "\n",
    "\n",
    "estimator_columns = simplified_column_names_conf_estimators + [\n",
    "    f\"{ConfidenceEnum.IPW_CONF.value}_lower\",\n",
    "    f\"{ConfidenceEnum.IPW_CONF.value}_higher\"\n",
    "]\n",
    "\n",
    "# For each row, i.e. for each target relation\n",
    "for row_index, row in df_one_row_per_target.iterrows():\n",
    "\n",
    "    # Find estimator with smallest mean value for label frequency###################\n",
    "    label_freq_to_set_of_smallest_est_map: Dict[float, Set[str]] = get_dict_with_smallest_estimator_per_label_freq(\n",
    "        row=row\n",
    "    )\n",
    "    ##################################################################################\n",
    "    # Construct the new row\n",
    "    ######################\n",
    "\n",
    "    target_relation = row[\"target_relation\"]\n",
    "\n",
    "\n",
    "    nb_of_rules = df_n_rules_per_target[df_n_rules_per_target['target_relation'] == target_relation][\n",
    "        \"# rules\"\n",
    "    ].iloc[0]\n",
    "\n",
    "    new_row: List[str] = [\n",
    "        target_relation,\n",
    "        nb_of_rules\n",
    "    ]\n",
    "    # For each Confidence estimator, get the value at c 0.3 and 0.7\n",
    "    # for col_name_conf_estimator in estimator_columns:\n",
    "    #     mean_val_03:float = row[f\"{col_name_conf_estimator}_0.3\"]\n",
    "    #     mean_val_07:float = row[f\"{col_name_conf_estimator}_0.7\"]\n",
    "    #\n",
    "    #     new_row_value = (\n",
    "    #         format_value_depending_on_whether_it_is_smallest(\n",
    "    #             value=mean_val_03,\n",
    "    #             is_smallest=col_name_conf_estimator == label_freq_to_smallest_est_map[0.3],\n",
    "    #             float_precision=float_precision\n",
    "    #         )\n",
    "    #         + \" / \"\n",
    "    #         + format_value_depending_on_whether_it_is_smallest(\n",
    "    #             value=mean_val_07,\n",
    "    #             is_smallest=col_name_conf_estimator == label_freq_to_smallest_est_map[0.7],\n",
    "    #             float_precision=float_precision\n",
    "    #         )\n",
    "    #     )\n",
    "    #     new_row.append(new_row_value)\n",
    "    for col_name_conf_estimator in estimator_columns:\n",
    "        mean_val_03:float = row[f\"{col_name_conf_estimator}_{first_true_label_freq_to_include}\"]\n",
    "\n",
    "\n",
    "\n",
    "        new_row_value_03 = format_value_depending_on_whether_it_is_smallest(\n",
    "                value=mean_val_03,\n",
    "                is_smallest=(\n",
    "                        col_name_conf_estimator in label_freq_to_set_of_smallest_est_map[first_true_label_freq_to_include]\n",
    "                ),\n",
    "                float_precision=float_precision\n",
    "        )\n",
    "        new_row.append(new_row_value_03)\n",
    "\n",
    "\n",
    "    for col_name_conf_estimator in estimator_columns:\n",
    "        mean_val_07:float = row[f\"{col_name_conf_estimator}_{second_true_label_freq_to_include}\"]\n",
    "        new_row_value_07 = format_value_depending_on_whether_it_is_smallest(\n",
    "                value=mean_val_07,\n",
    "                is_smallest=(\n",
    "                        col_name_conf_estimator in label_freq_to_set_of_smallest_est_map[second_true_label_freq_to_include]\n",
    "                ),\n",
    "                float_precision=float_precision\n",
    "\n",
    "        )\n",
    "        new_row.append(new_row_value_07)\n",
    "\n",
    "    pretty_rows.append(new_row)\n",
    "\n",
    "\n",
    "df_pretty: pd.DataFrame = pd.DataFrame(\n",
    "    data=pretty_rows,\n",
    "    columns=multi_index_columns\n",
    ")\n",
    "df_pretty.head()"
   ],
   "metadata": {
    "collapsed": false,
    "pycharm": {
     "name": "#%%\n"
    }
   }
  },
  {
   "cell_type": "code",
   "execution_count": 56,
   "outputs": [
    {
     "data": {
      "text/plain": "         $p$ \\# rules $c_{\\neg q}=0.3$                                   \\\n                                   CWA      PCA         ICW         IPW   \n0    created        2          $383.8$   $43.2$       $4.9$  $\\bm{4.4}$   \n1  dealswith        7          $100.4$   $38.2$  $\\bm{1.0}$       $1.1$   \n2     diedin        1           $78.9$   $81.7$       $3.1$  $\\bm{0.6}$   \n3   directed        2          $301.9$  $101.0$  $\\bm{2.4}$       $3.1$   \n4    exports        1           $76.4$   $41.0$       $6.9$  $\\bm{6.1}$   \n\n                                  $c_{\\neg q}=0.7$                  \\\n  IPW ($-\\Delta$) IPW ($+\\Delta$)              CWA      PCA    ICW   \n0         $107.9$          $31.1$          $132.3$   $76.1$  $3.9$   \n1           $4.1$           $1.1$           $83.1$   $31.5$  $1.7$   \n2          $27.3$           $8.8$           $19.6$   $97.6$  $0.1$   \n3         $113.7$          $23.4$           $92.8$  $274.0$  $1.2$   \n4          $21.2$           $6.9$           $44.7$   $25.1$  $4.0$   \n\n                                               \n          IPW IPW ($-\\Delta$) IPW ($+\\Delta$)  \n0  $\\bm{2.3}$          $15.7$           $8.0$  \n1  $\\bm{1.0}$           $1.3$           $1.1$  \n2  $\\bm{0.1}$           $3.5$           $1.9$  \n3  $\\bm{0.5}$          $11.3$           $6.5$  \n4  $\\bm{3.6}$           $5.0$           $4.0$  ",
      "text/html": "<div>\n<style scoped>\n    .dataframe tbody tr th:only-of-type {\n        vertical-align: middle;\n    }\n\n    .dataframe tbody tr th {\n        vertical-align: top;\n    }\n\n    .dataframe thead tr th {\n        text-align: left;\n    }\n</style>\n<table border=\"1\" class=\"dataframe\">\n  <thead>\n    <tr>\n      <th></th>\n      <th>$p$</th>\n      <th>\\# rules</th>\n      <th colspan=\"6\" halign=\"left\">$c_{\\neg q}=0.3$</th>\n      <th colspan=\"6\" halign=\"left\">$c_{\\neg q}=0.7$</th>\n    </tr>\n    <tr>\n      <th></th>\n      <th></th>\n      <th></th>\n      <th>CWA</th>\n      <th>PCA</th>\n      <th>ICW</th>\n      <th>IPW</th>\n      <th>IPW ($-\\Delta$)</th>\n      <th>IPW ($+\\Delta$)</th>\n      <th>CWA</th>\n      <th>PCA</th>\n      <th>ICW</th>\n      <th>IPW</th>\n      <th>IPW ($-\\Delta$)</th>\n      <th>IPW ($+\\Delta$)</th>\n    </tr>\n  </thead>\n  <tbody>\n    <tr>\n      <th>0</th>\n      <td>created</td>\n      <td>2</td>\n      <td>$383.8$</td>\n      <td>$43.2$</td>\n      <td>$4.9$</td>\n      <td>$\\bm{4.4}$</td>\n      <td>$107.9$</td>\n      <td>$31.1$</td>\n      <td>$132.3$</td>\n      <td>$76.1$</td>\n      <td>$3.9$</td>\n      <td>$\\bm{2.3}$</td>\n      <td>$15.7$</td>\n      <td>$8.0$</td>\n    </tr>\n    <tr>\n      <th>1</th>\n      <td>dealswith</td>\n      <td>7</td>\n      <td>$100.4$</td>\n      <td>$38.2$</td>\n      <td>$\\bm{1.0}$</td>\n      <td>$1.1$</td>\n      <td>$4.1$</td>\n      <td>$1.1$</td>\n      <td>$83.1$</td>\n      <td>$31.5$</td>\n      <td>$1.7$</td>\n      <td>$\\bm{1.0}$</td>\n      <td>$1.3$</td>\n      <td>$1.1$</td>\n    </tr>\n    <tr>\n      <th>2</th>\n      <td>diedin</td>\n      <td>1</td>\n      <td>$78.9$</td>\n      <td>$81.7$</td>\n      <td>$3.1$</td>\n      <td>$\\bm{0.6}$</td>\n      <td>$27.3$</td>\n      <td>$8.8$</td>\n      <td>$19.6$</td>\n      <td>$97.6$</td>\n      <td>$0.1$</td>\n      <td>$\\bm{0.1}$</td>\n      <td>$3.5$</td>\n      <td>$1.9$</td>\n    </tr>\n    <tr>\n      <th>3</th>\n      <td>directed</td>\n      <td>2</td>\n      <td>$301.9$</td>\n      <td>$101.0$</td>\n      <td>$\\bm{2.4}$</td>\n      <td>$3.1$</td>\n      <td>$113.7$</td>\n      <td>$23.4$</td>\n      <td>$92.8$</td>\n      <td>$274.0$</td>\n      <td>$1.2$</td>\n      <td>$\\bm{0.5}$</td>\n      <td>$11.3$</td>\n      <td>$6.5$</td>\n    </tr>\n    <tr>\n      <th>4</th>\n      <td>exports</td>\n      <td>1</td>\n      <td>$76.4$</td>\n      <td>$41.0$</td>\n      <td>$6.9$</td>\n      <td>$\\bm{6.1}$</td>\n      <td>$21.2$</td>\n      <td>$6.9$</td>\n      <td>$44.7$</td>\n      <td>$25.1$</td>\n      <td>$4.0$</td>\n      <td>$\\bm{3.6}$</td>\n      <td>$5.0$</td>\n      <td>$4.0$</td>\n    </tr>\n  </tbody>\n</table>\n</div>"
     },
     "execution_count": 56,
     "metadata": {},
     "output_type": "execute_result"
    }
   ],
   "source": [
    "df_pretty: pd.DataFrame = df_pretty.sort_values(\n",
    "    by=[\"$p$\"]\n",
    ")\n",
    "\n",
    "df_pretty.head()\n",
    "\n"
   ],
   "metadata": {
    "collapsed": false,
    "pycharm": {
     "name": "#%%\n"
    }
   }
  },
  {
   "cell_type": "markdown",
   "source": [
    "# To file"
   ],
   "metadata": {
    "collapsed": false
   }
  },
  {
   "cell_type": "code",
   "execution_count": 57,
   "outputs": [
    {
     "name": "stdout",
     "output_type": "stream",
     "text": [
      "/home/joschout/Documents/Repos/KUL-PUL/paper_latex_tables/known_prop_scores/sar_two_groups/confidence-error-table-sar-two-subject-groups-agg-per-p.tex\n"
     ]
    }
   ],
   "source": [
    "# dir_latex_table: str = os.path.join(\n",
    "#     kbc_e_metrics_project_dir,\n",
    "#     \"paper_latex_tables\",\n",
    "#     'known_prop_scores',\n",
    "#     'scar'\n",
    "# )\n",
    "#\n",
    "# if not os.path.exists(dir_latex_table):\n",
    "#     os.makedirs(dir_latex_table)\n",
    "\n",
    "filename_latex_table: str = os.path.join(\n",
    "    dir_latex_table,\n",
    "    \"confidence-error-table-sar-two-subject-groups-agg-per-p.tex\"\n",
    ")\n",
    "filename_tsv_table: str = os.path.join(\n",
    "    dir_latex_table,\n",
    "    \"confidence-error-table-sar-two-subject-groups-agg-per-p.tsv\"\n",
    ")\n",
    "\n",
    "\n",
    "with open(filename_latex_table, \"w\") as latex_ofile:\n",
    "    with pd.option_context(\"max_colwidth\", 1000):\n",
    "        latex_ofile.write(\n",
    "            df_pretty.to_latex(\n",
    "                column_format=\"lr|lllllll|lllllll\",\n",
    "                index=False,\n",
    "                float_format=\"{:0.3f}\".format,\n",
    "                escape=False,\n",
    "            #     caption=\"$[widehat{conf}-conf]^2$ for SCAR. \"\n",
    "            #             \"std=standard confidence, \"\n",
    "            #             \"PCA (S) = PCA confidence with $s$ as domain, \"\n",
    "            #             \"PCA (O) = PCA confidence with $o$  as domain, \"\n",
    "            #             \"IPW = PCA confidence with $\\hat{e}=e$, \"\n",
    "            #             \"IPW +/- $\" + f\"{label_frequency_est_diff:0.1}\" + \"$ = IPW confidence with $\\hat{e}=e+/-\" +  f\"{label_frequency_est_diff:0.1}\" + \"$.\"\n",
    "            )\n",
    "        )\n",
    "\n",
    "with open(filename_tsv_table, \"w\") as tsv_ofile:\n",
    "    tsv_ofile.write(df_pretty.to_csv(\n",
    "        index=False,\n",
    "        sep=\"\\t\"\n",
    "    ))\n",
    "\n",
    "print(filename_latex_table)\n"
   ],
   "metadata": {
    "collapsed": false,
    "pycharm": {
     "name": "#%%\n"
    }
   }
  },
  {
   "cell_type": "code",
   "execution_count": null,
   "outputs": [],
   "source": [],
   "metadata": {
    "collapsed": false,
    "pycharm": {
     "name": "#%%\n"
    }
   }
  },
  {
   "cell_type": "code",
   "execution_count": null,
   "outputs": [],
   "source": [],
   "metadata": {
    "collapsed": false,
    "pycharm": {
     "name": "#%%\n"
    }
   }
  }
 ],
 "metadata": {
  "kernelspec": {
   "display_name": "Python 3",
   "language": "python",
   "name": "python3"
  },
  "language_info": {
   "codemirror_mode": {
    "name": "ipython",
    "version": 2
   },
   "file_extension": ".py",
   "mimetype": "text/x-python",
   "name": "python",
   "nbconvert_exporter": "python",
   "pygments_lexer": "ipython2",
   "version": "2.7.6"
  }
 },
 "nbformat": 4,
 "nbformat_minor": 0
}