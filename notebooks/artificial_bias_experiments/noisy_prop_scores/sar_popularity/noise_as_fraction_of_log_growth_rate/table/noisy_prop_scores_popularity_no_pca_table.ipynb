{
 "cells": [
  {
   "cell_type": "code",
   "execution_count": 1,
   "metadata": {
    "collapsed": true
   },
   "outputs": [],
   "source": [
    "import os\n",
    "from typing import List, Dict, Set, Optional\n",
    "\n",
    "import numpy as np\n",
    "import pandas as pd\n",
    "from pylo.language.lp import Clause as PyloClause\n",
    "from kbc_pul.project_info import data_dir\n",
    "from kbc_pul.amie.amie_output_rule_extraction import get_amie_rules_from_rule_tsv_file\n",
    "from artificial_bias_experiments.amie_rule_learning import get_amie_rule_tsv_filename\n",
    "from artificial_bias_experiments.evaluation.confidence_comparison.df_utils import ColumnNamesInfo\n",
    "from artificial_bias_experiments.noisy_prop_scores.sar_popularity.experiment_info import \\\n",
    "    NoisyPropScoresSARPopularityExperimentInfo\n",
    "from artificial_bias_experiments.noisy_prop_scores.sar_popularity.load_popularity_df_rule_wrappers import \\\n",
    "    get_rule_wrappers_as_dataframe_noisy_prop_scores_sar_popularity\n",
    "from artificial_bias_experiments.noisy_prop_scores.sar_popularity.noise_definition import \\\n",
    "    NoiseTypeSARPopularity\n",
    "from artificial_bias_experiments.noisy_prop_scores.sar_popularity.noisy_prop_scores_sar_popularity_file_naming import \\\n",
    "    NoisyPropScoresSARPopularityFileNamer\n",
    "\n",
    "from kbc_pul.confidence_naming import ConfidenceEnum\n",
    "from kbc_pul.data_structures.rule_wrapper import RuleWrapper, contains_rule_predicting_relation, \\\n",
    "    get_pylo_rule_from_string, is_pylo_rule_recursive\n",
    "from kbc_pul.experiments_utils.file_utils import print_file_exists\n",
    "from kbc_pul.experiments_utils.load_df_ground_truth import get_df_ground_truth\n",
    "from kbc_pul.project_info import project_dir as kbc_e_metrics_project_dir\n",
    "\n",
    "%load_ext autoreload\n",
    "%autoreload 2"
   ]
  },
  {
   "cell_type": "markdown",
   "source": [
    "# known prop score, SAR Popularity\n",
    "\n",
    "## Import the rule wrappers"
   ],
   "metadata": {
    "collapsed": false,
    "pycharm": {
     "name": "#%% md\n"
    }
   }
  },
  {
   "cell_type": "code",
   "execution_count": 2,
   "outputs": [],
   "source": [
    "dataset_name: str = \"yago3_10\"\n",
    "\n",
    "# log_growth_rate_list: List[float] = [0.01, 0.1, 1]\n",
    "log_growth_rate_list: List[float] = [0.01, 0.05, 0.1, 0.5,  1]\n",
    "noise_type: NoiseTypeSARPopularity = NoiseTypeSARPopularity.FRACTION_OF_LOG_GROWTH_RATE\n",
    "# noise_fractions_for_log_growth_rate_list: List[float] = [1.0, 0.5, 1.5]\n",
    "noise_fractions_for_log_growth_rate_list: List[float] = [1.0, 0.9, 1.1]\n",
    "noise_levels: List[float] = noise_fractions_for_log_growth_rate_list\n",
    "noise_level_no_noise: float = 1.0\n",
    "\n",
    "\n",
    "is_pca_version: bool = False"
   ],
   "metadata": {
    "collapsed": false,
    "pycharm": {
     "name": "#%%\n"
    }
   }
  },
  {
   "cell_type": "code",
   "execution_count": 3,
   "outputs": [
    {
     "data": {
      "text/plain": "149"
     },
     "execution_count": 3,
     "metadata": {},
     "output_type": "execute_result"
    }
   ],
   "source": [
    "filename_ground_truth_dataset: str = os.path.join(\n",
    "    data_dir, dataset_name, 'cleaned_csv', 'train.csv'\n",
    ")\n",
    "separator_ground_truth_dataset = \"\\t\"\n",
    "df_ground_truth: pd.DataFrame = get_df_ground_truth(filename_ground_truth_dataset, separator_ground_truth_dataset)\n",
    "target_relation_list: List[str] = list(sorted(df_ground_truth[\"Rel\"].unique()))\n",
    "\n",
    "amie_min_std_confidence: float = 0.1\n",
    "amie_rule_tsv_filename = get_amie_rule_tsv_filename(\n",
    "    filename_ground_truth_dataset=filename_ground_truth_dataset,\n",
    "    dataset_name=dataset_name,\n",
    "    min_std_confidence=amie_min_std_confidence\n",
    ")\n",
    "\n",
    "amie_rule_wrappers: List[RuleWrapper] =  get_amie_rules_from_rule_tsv_file(amie_rule_tsv_filename)\n",
    "len(amie_rule_wrappers)\n"
   ],
   "metadata": {
    "collapsed": false,
    "pycharm": {
     "name": "#%%\n"
    }
   }
  },
  {
   "cell_type": "code",
   "execution_count": 4,
   "outputs": [
    {
     "name": "stdout",
     "output_type": "stream",
     "text": [
      "? file exists: /home/joschout/Documents/Repos/KUL-PUL/images/artificial_bias_experiments/known_prop_scores/sar_popularity/not_pca/yago3_10\n",
      "-> True\n"
     ]
    }
   ],
   "source": [
    "image_dir: str = NoisyPropScoresSARPopularityFileNamer.get_dir_images(\n",
    "    use_pca=is_pca_version,\n",
    "    dataset_name=dataset_name,\n",
    ")\n",
    "if not os.path.exists(image_dir):\n",
    "    os.makedirs(image_dir)\n",
    "print_file_exists(image_dir)"
   ],
   "metadata": {
    "collapsed": false,
    "pycharm": {
     "name": "#%%\n"
    }
   }
  },
  {
   "cell_type": "markdown",
   "source": [
    "## Convert rule wrappers to dataframe"
   ],
   "metadata": {
    "collapsed": false
   }
  },
  {
   "cell_type": "code",
   "execution_count": 5,
   "outputs": [
    {
     "name": "stdout",
     "output_type": "stream",
     "text": [
      "No rules predicting edited\n",
      "No rules predicting hasacademicadvisor\n",
      "No rules predicting hasmusicalrole\n",
      "No rules predicting haswebsite\n",
      "No rules predicting influences\n",
      "Exception at isaffiliatedto and 0.5\n",
      "Exception at isaffiliatedto and 1\n",
      "No rules predicting isknownfor\n",
      "Exception at playsfor and 0.5\n",
      "Exception at playsfor and 1\n",
      "No rules predicting wrotemusicfor\n"
     ]
    }
   ],
   "source": [
    "df_rule_wrappers_list: List[pd.DataFrame] = []\n",
    "\n",
    "for target_relation in target_relation_list:\n",
    "    if contains_rule_predicting_relation(amie_rule_wrappers,\n",
    "                                         target_relation):\n",
    "\n",
    "        for log_growth_rate in log_growth_rate_list:\n",
    "            try:\n",
    "                experiment_info = NoisyPropScoresSARPopularityExperimentInfo(\n",
    "                    dataset_name=dataset_name,\n",
    "                    target_relation=target_relation,\n",
    "                    is_pca_version=is_pca_version,\n",
    "                    log_growth_rate=log_growth_rate,\n",
    "                    noise_type=noise_type,\n",
    "                    noise_levels=noise_levels\n",
    "\n",
    "                )\n",
    "\n",
    "                root_dir_experiment_settings_specific: str = NoisyPropScoresSARPopularityFileNamer.get_dir_experiment_specific(\n",
    "                    experiment_info\n",
    "                )\n",
    "                df_rule_wrappers_single_log_growth_rate: pd.DataFrame = get_rule_wrappers_as_dataframe_noisy_prop_scores_sar_popularity(\n",
    "                    root_dir_experiment_settings_specific=root_dir_experiment_settings_specific,\n",
    "                    target_relation=target_relation,\n",
    "                )\n",
    "                df_rule_wrappers_list.append(df_rule_wrappers_single_log_growth_rate)\n",
    "            except Exception as err:\n",
    "                print(f\"Exception at {target_relation} and {log_growth_rate}\")\n",
    "                # raise err\n",
    "    else:\n",
    "        print(f\"No rules predicting {target_relation}\")\n",
    "\n",
    "df_rule_wrappers_all_targets = pd.concat(\n",
    "    df_rule_wrappers_list, axis=0\n",
    ")"
   ],
   "metadata": {
    "collapsed": false,
    "pycharm": {
     "name": "#%%\n"
    }
   }
  },
  {
   "cell_type": "code",
   "execution_count": 6,
   "outputs": [
    {
     "data": {
      "text/plain": "  target_relation  log_growth_rate  noise_level  random_trial_index  \\\n0         actedin             0.01          1.0                   8   \n1         actedin             0.01          0.9                   8   \n2         actedin             0.01          1.1                   8   \n3         actedin             0.01          1.0                   9   \n4         actedin             0.01          0.9                   9   \n\n                            Rule  Nb supported predictions  Body size  \\\n0  actedin(A,B) :- directed(A,B)                        42       5481   \n1  actedin(A,B) :- directed(A,B)                        42       5481   \n2  actedin(A,B) :- directed(A,B)                        42       5481   \n3  actedin(A,B) :- directed(A,B)                        41       5481   \n4  actedin(A,B) :- directed(A,B)                        41       5481   \n\n     $conf$       CWA  \\\n0  0.101806  0.007663   \n1  0.101806  0.007663   \n2  0.101806  0.007663   \n3  0.101806  0.007480   \n4  0.101806  0.007480   \n\n   $\\frac{\\left| \\mathbf{R}\\right|}{\\left| \\mathbf{R_s}\\right|} conf$ $p$  \\\n0                                           0.347231                        \n1                                           0.347231                        \n2                                           0.347231                        \n3                                           0.347231                        \n4                                           0.347231                        \n\n    PCA $p$  \\\n0  0.092511   \n1  0.092511   \n2  0.092511   \n3  0.094470   \n4  0.094470   \n\n   $\\frac{\\left| \\mathbf{R}\\right|}{\\left| \\mathbf{R_s}\\right|} conf$ $p^{-1}$  \\\n0                                           0.104007                             \n1                                           0.104007                             \n2                                           0.104007                             \n3                                           0.104007                             \n4                                           0.104007                             \n\n   PCA ${p^{-1}}$       IPW  IPW-PCA $p$  IPW-PCA ${p^{-1}}$       ICW  \n0        0.070707  0.098981     0.080305            0.080305  0.193671  \n1        0.070707  0.109925     0.080297            0.080297  0.214369  \n2        0.070707  0.090033     0.080314            0.080314  0.176271  \n3        0.070568  0.114317     0.102902            0.102902  0.182105  \n4        0.070568  0.126966     0.102905            0.102905  0.201642  ",
      "text/html": "<div>\n<style scoped>\n    .dataframe tbody tr th:only-of-type {\n        vertical-align: middle;\n    }\n\n    .dataframe tbody tr th {\n        vertical-align: top;\n    }\n\n    .dataframe thead th {\n        text-align: right;\n    }\n</style>\n<table border=\"1\" class=\"dataframe\">\n  <thead>\n    <tr style=\"text-align: right;\">\n      <th></th>\n      <th>target_relation</th>\n      <th>log_growth_rate</th>\n      <th>noise_level</th>\n      <th>random_trial_index</th>\n      <th>Rule</th>\n      <th>Nb supported predictions</th>\n      <th>Body size</th>\n      <th>$conf$</th>\n      <th>CWA</th>\n      <th>$\\frac{\\left| \\mathbf{R}\\right|}{\\left| \\mathbf{R_s}\\right|} conf$ $p$</th>\n      <th>PCA $p$</th>\n      <th>$\\frac{\\left| \\mathbf{R}\\right|}{\\left| \\mathbf{R_s}\\right|} conf$ $p^{-1}$</th>\n      <th>PCA ${p^{-1}}$</th>\n      <th>IPW</th>\n      <th>IPW-PCA $p$</th>\n      <th>IPW-PCA ${p^{-1}}$</th>\n      <th>ICW</th>\n    </tr>\n  </thead>\n  <tbody>\n    <tr>\n      <th>0</th>\n      <td>actedin</td>\n      <td>0.01</td>\n      <td>1.0</td>\n      <td>8</td>\n      <td>actedin(A,B) :- directed(A,B)</td>\n      <td>42</td>\n      <td>5481</td>\n      <td>0.101806</td>\n      <td>0.007663</td>\n      <td>0.347231</td>\n      <td>0.092511</td>\n      <td>0.104007</td>\n      <td>0.070707</td>\n      <td>0.098981</td>\n      <td>0.080305</td>\n      <td>0.080305</td>\n      <td>0.193671</td>\n    </tr>\n    <tr>\n      <th>1</th>\n      <td>actedin</td>\n      <td>0.01</td>\n      <td>0.9</td>\n      <td>8</td>\n      <td>actedin(A,B) :- directed(A,B)</td>\n      <td>42</td>\n      <td>5481</td>\n      <td>0.101806</td>\n      <td>0.007663</td>\n      <td>0.347231</td>\n      <td>0.092511</td>\n      <td>0.104007</td>\n      <td>0.070707</td>\n      <td>0.109925</td>\n      <td>0.080297</td>\n      <td>0.080297</td>\n      <td>0.214369</td>\n    </tr>\n    <tr>\n      <th>2</th>\n      <td>actedin</td>\n      <td>0.01</td>\n      <td>1.1</td>\n      <td>8</td>\n      <td>actedin(A,B) :- directed(A,B)</td>\n      <td>42</td>\n      <td>5481</td>\n      <td>0.101806</td>\n      <td>0.007663</td>\n      <td>0.347231</td>\n      <td>0.092511</td>\n      <td>0.104007</td>\n      <td>0.070707</td>\n      <td>0.090033</td>\n      <td>0.080314</td>\n      <td>0.080314</td>\n      <td>0.176271</td>\n    </tr>\n    <tr>\n      <th>3</th>\n      <td>actedin</td>\n      <td>0.01</td>\n      <td>1.0</td>\n      <td>9</td>\n      <td>actedin(A,B) :- directed(A,B)</td>\n      <td>41</td>\n      <td>5481</td>\n      <td>0.101806</td>\n      <td>0.007480</td>\n      <td>0.347231</td>\n      <td>0.094470</td>\n      <td>0.104007</td>\n      <td>0.070568</td>\n      <td>0.114317</td>\n      <td>0.102902</td>\n      <td>0.102902</td>\n      <td>0.182105</td>\n    </tr>\n    <tr>\n      <th>4</th>\n      <td>actedin</td>\n      <td>0.01</td>\n      <td>0.9</td>\n      <td>9</td>\n      <td>actedin(A,B) :- directed(A,B)</td>\n      <td>41</td>\n      <td>5481</td>\n      <td>0.101806</td>\n      <td>0.007480</td>\n      <td>0.347231</td>\n      <td>0.094470</td>\n      <td>0.104007</td>\n      <td>0.070568</td>\n      <td>0.126966</td>\n      <td>0.102905</td>\n      <td>0.102905</td>\n      <td>0.201642</td>\n    </tr>\n  </tbody>\n</table>\n</div>"
     },
     "execution_count": 6,
     "metadata": {},
     "output_type": "execute_result"
    }
   ],
   "source": [
    "df_rule_wrappers_all_targets.head()"
   ],
   "metadata": {
    "collapsed": false,
    "pycharm": {
     "name": "#%%\n"
    }
   }
  },
  {
   "cell_type": "code",
   "execution_count": 7,
   "outputs": [
    {
     "data": {
      "text/plain": "Index(['target_relation', 'log_growth_rate', 'noise_level',\n       'random_trial_index', 'Rule', 'Nb supported predictions', 'Body size',\n       '$conf$', 'CWA',\n       '$\\frac{\\left| \\mathbf{R}\\right|}{\\left| \\mathbf{R_s}\\right|} conf$ $p$',\n       'PCA $p$',\n       '$\\frac{\\left| \\mathbf{R}\\right|}{\\left| \\mathbf{R_s}\\right|} conf$ $p^{-1}$',\n       'PCA ${p^{-1}}$', 'IPW', 'IPW-PCA $p$', 'IPW-PCA ${p^{-1}}$', 'ICW'],\n      dtype='object')"
     },
     "execution_count": 7,
     "metadata": {},
     "output_type": "execute_result"
    }
   ],
   "source": [
    "df_rule_wrappers_all_targets.columns"
   ],
   "metadata": {
    "collapsed": false,
    "pycharm": {
     "name": "#%%\n"
    }
   }
  },
  {
   "cell_type": "code",
   "execution_count": 8,
   "outputs": [],
   "source": [
    "column_names_logistics: List[str] = [\n",
    "    'target_relation',\n",
    "    'log_growth_rate',\n",
    "    'noise_level',\n",
    "    'random_trial_index',\n",
    "    'Rule',\n",
    "]"
   ],
   "metadata": {
    "collapsed": false,
    "pycharm": {
     "name": "#%%\n"
    }
   }
  },
  {
   "cell_type": "markdown",
   "source": [
    "## 2. Only keep a subset of rules\n",
    "### 2.0 Only keep the additive noise levels we are interested in"
   ],
   "metadata": {
    "collapsed": false,
    "pycharm": {
     "name": "#%% md\n"
    }
   }
  },
  {
   "cell_type": "code",
   "execution_count": 9,
   "outputs": [],
   "source": [
    "df_rule_wrappers_all_targets = df_rule_wrappers_all_targets[\n",
    "    df_rule_wrappers_all_targets['noise_level'].isin(noise_levels)\n",
    "]"
   ],
   "metadata": {
    "collapsed": false,
    "pycharm": {
     "name": "#%%\n"
    }
   }
  },
  {
   "cell_type": "markdown",
   "source": [
    "### 2.1. Only keep the non-recursive rules; drop recursive rules"
   ],
   "metadata": {
    "collapsed": false,
    "pycharm": {
     "name": "#%% md\n"
    }
   }
  },
  {
   "cell_type": "code",
   "execution_count": 10,
   "outputs": [],
   "source": [
    "\n",
    "\n",
    "def is_rule_recursive(rule_string: str) -> bool:\n",
    "        pylo_rule: PyloClause = get_pylo_rule_from_string(rule_string)\n",
    "        is_rule_recursive = is_pylo_rule_recursive(pylo_rule)\n",
    "        return is_rule_recursive\n",
    "\n",
    "\n",
    "mask_recursive_rules = df_rule_wrappers_all_targets.apply(\n",
    "    lambda row: is_rule_recursive(row[\"Rule\"]),\n",
    "    axis=1\n",
    ")"
   ],
   "metadata": {
    "collapsed": false,
    "pycharm": {
     "name": "#%%\n"
    }
   }
  },
  {
   "cell_type": "code",
   "execution_count": 11,
   "outputs": [
    {
     "name": "stdout",
     "output_type": "stream",
     "text": [
      "22078\n",
      "7168\n"
     ]
    }
   ],
   "source": [
    "print(len(df_rule_wrappers_all_targets))\n",
    "df_rule_wrappers_all_targets: pd.DataFrame = df_rule_wrappers_all_targets[~mask_recursive_rules]\n",
    "print(len(df_rule_wrappers_all_targets))"
   ],
   "metadata": {
    "collapsed": false,
    "pycharm": {
     "name": "#%%\n"
    }
   }
  },
  {
   "cell_type": "markdown",
   "source": [
    "### 2.3 Drop the Pair-positive columns (both directions)"
   ],
   "metadata": {
    "collapsed": false
   }
  },
  {
   "cell_type": "code",
   "execution_count": 12,
   "outputs": [
    {
     "data": {
      "text/plain": "  target_relation  log_growth_rate  noise_level  random_trial_index  \\\n0         actedin             0.01          1.0                   8   \n1         actedin             0.01          0.9                   8   \n2         actedin             0.01          1.1                   8   \n3         actedin             0.01          1.0                   9   \n4         actedin             0.01          0.9                   9   \n\n                            Rule  Nb supported predictions  Body size  \\\n0  actedin(A,B) :- directed(A,B)                        42       5481   \n1  actedin(A,B) :- directed(A,B)                        42       5481   \n2  actedin(A,B) :- directed(A,B)                        42       5481   \n3  actedin(A,B) :- directed(A,B)                        41       5481   \n4  actedin(A,B) :- directed(A,B)                        41       5481   \n\n     $conf$       CWA   PCA $p$  PCA ${p^{-1}}$       IPW  IPW-PCA $p$  \\\n0  0.101806  0.007663  0.092511        0.070707  0.098981     0.080305   \n1  0.101806  0.007663  0.092511        0.070707  0.109925     0.080297   \n2  0.101806  0.007663  0.092511        0.070707  0.090033     0.080314   \n3  0.101806  0.007480  0.094470        0.070568  0.114317     0.102902   \n4  0.101806  0.007480  0.094470        0.070568  0.126966     0.102905   \n\n   IPW-PCA ${p^{-1}}$       ICW  \n0            0.080305  0.193671  \n1            0.080297  0.214369  \n2            0.080314  0.176271  \n3            0.102902  0.182105  \n4            0.102905  0.201642  ",
      "text/html": "<div>\n<style scoped>\n    .dataframe tbody tr th:only-of-type {\n        vertical-align: middle;\n    }\n\n    .dataframe tbody tr th {\n        vertical-align: top;\n    }\n\n    .dataframe thead th {\n        text-align: right;\n    }\n</style>\n<table border=\"1\" class=\"dataframe\">\n  <thead>\n    <tr style=\"text-align: right;\">\n      <th></th>\n      <th>target_relation</th>\n      <th>log_growth_rate</th>\n      <th>noise_level</th>\n      <th>random_trial_index</th>\n      <th>Rule</th>\n      <th>Nb supported predictions</th>\n      <th>Body size</th>\n      <th>$conf$</th>\n      <th>CWA</th>\n      <th>PCA $p$</th>\n      <th>PCA ${p^{-1}}$</th>\n      <th>IPW</th>\n      <th>IPW-PCA $p$</th>\n      <th>IPW-PCA ${p^{-1}}$</th>\n      <th>ICW</th>\n    </tr>\n  </thead>\n  <tbody>\n    <tr>\n      <th>0</th>\n      <td>actedin</td>\n      <td>0.01</td>\n      <td>1.0</td>\n      <td>8</td>\n      <td>actedin(A,B) :- directed(A,B)</td>\n      <td>42</td>\n      <td>5481</td>\n      <td>0.101806</td>\n      <td>0.007663</td>\n      <td>0.092511</td>\n      <td>0.070707</td>\n      <td>0.098981</td>\n      <td>0.080305</td>\n      <td>0.080305</td>\n      <td>0.193671</td>\n    </tr>\n    <tr>\n      <th>1</th>\n      <td>actedin</td>\n      <td>0.01</td>\n      <td>0.9</td>\n      <td>8</td>\n      <td>actedin(A,B) :- directed(A,B)</td>\n      <td>42</td>\n      <td>5481</td>\n      <td>0.101806</td>\n      <td>0.007663</td>\n      <td>0.092511</td>\n      <td>0.070707</td>\n      <td>0.109925</td>\n      <td>0.080297</td>\n      <td>0.080297</td>\n      <td>0.214369</td>\n    </tr>\n    <tr>\n      <th>2</th>\n      <td>actedin</td>\n      <td>0.01</td>\n      <td>1.1</td>\n      <td>8</td>\n      <td>actedin(A,B) :- directed(A,B)</td>\n      <td>42</td>\n      <td>5481</td>\n      <td>0.101806</td>\n      <td>0.007663</td>\n      <td>0.092511</td>\n      <td>0.070707</td>\n      <td>0.090033</td>\n      <td>0.080314</td>\n      <td>0.080314</td>\n      <td>0.176271</td>\n    </tr>\n    <tr>\n      <th>3</th>\n      <td>actedin</td>\n      <td>0.01</td>\n      <td>1.0</td>\n      <td>9</td>\n      <td>actedin(A,B) :- directed(A,B)</td>\n      <td>41</td>\n      <td>5481</td>\n      <td>0.101806</td>\n      <td>0.007480</td>\n      <td>0.094470</td>\n      <td>0.070568</td>\n      <td>0.114317</td>\n      <td>0.102902</td>\n      <td>0.102902</td>\n      <td>0.182105</td>\n    </tr>\n    <tr>\n      <th>4</th>\n      <td>actedin</td>\n      <td>0.01</td>\n      <td>0.9</td>\n      <td>9</td>\n      <td>actedin(A,B) :- directed(A,B)</td>\n      <td>41</td>\n      <td>5481</td>\n      <td>0.101806</td>\n      <td>0.007480</td>\n      <td>0.094470</td>\n      <td>0.070568</td>\n      <td>0.126966</td>\n      <td>0.102905</td>\n      <td>0.102905</td>\n      <td>0.201642</td>\n    </tr>\n  </tbody>\n</table>\n</div>"
     },
     "execution_count": 12,
     "metadata": {},
     "output_type": "execute_result"
    }
   ],
   "source": [
    "df_rule_wrappers_all_targets.drop(\n",
    "        [ConfidenceEnum.TRUE_CONF_BIAS_YS_ZERO_S_TO_O.value,\n",
    "         ConfidenceEnum.TRUE_CONF_BIAS_YS_ZERO_O_TO_S.value],\n",
    "        axis=1,\n",
    "        inplace=True,\n",
    "        errors='ignore'\n",
    ")\n",
    "df_rule_wrappers_all_targets.head()"
   ],
   "metadata": {
    "collapsed": false,
    "pycharm": {
     "name": "#%%\n"
    }
   }
  },
  {
   "cell_type": "markdown",
   "source": [
    "### 2.4 Drop the IPW-PCA columns (both directions)"
   ],
   "metadata": {
    "collapsed": false
   }
  },
  {
   "cell_type": "code",
   "execution_count": 13,
   "outputs": [
    {
     "data": {
      "text/plain": "  target_relation  log_growth_rate  noise_level  random_trial_index  \\\n0         actedin             0.01          1.0                   8   \n1         actedin             0.01          0.9                   8   \n2         actedin             0.01          1.1                   8   \n3         actedin             0.01          1.0                   9   \n4         actedin             0.01          0.9                   9   \n\n                            Rule  Nb supported predictions  Body size  \\\n0  actedin(A,B) :- directed(A,B)                        42       5481   \n1  actedin(A,B) :- directed(A,B)                        42       5481   \n2  actedin(A,B) :- directed(A,B)                        42       5481   \n3  actedin(A,B) :- directed(A,B)                        41       5481   \n4  actedin(A,B) :- directed(A,B)                        41       5481   \n\n     $conf$       CWA   PCA $p$  PCA ${p^{-1}}$       IPW       ICW  \n0  0.101806  0.007663  0.092511        0.070707  0.098981  0.193671  \n1  0.101806  0.007663  0.092511        0.070707  0.109925  0.214369  \n2  0.101806  0.007663  0.092511        0.070707  0.090033  0.176271  \n3  0.101806  0.007480  0.094470        0.070568  0.114317  0.182105  \n4  0.101806  0.007480  0.094470        0.070568  0.126966  0.201642  ",
      "text/html": "<div>\n<style scoped>\n    .dataframe tbody tr th:only-of-type {\n        vertical-align: middle;\n    }\n\n    .dataframe tbody tr th {\n        vertical-align: top;\n    }\n\n    .dataframe thead th {\n        text-align: right;\n    }\n</style>\n<table border=\"1\" class=\"dataframe\">\n  <thead>\n    <tr style=\"text-align: right;\">\n      <th></th>\n      <th>target_relation</th>\n      <th>log_growth_rate</th>\n      <th>noise_level</th>\n      <th>random_trial_index</th>\n      <th>Rule</th>\n      <th>Nb supported predictions</th>\n      <th>Body size</th>\n      <th>$conf$</th>\n      <th>CWA</th>\n      <th>PCA $p$</th>\n      <th>PCA ${p^{-1}}$</th>\n      <th>IPW</th>\n      <th>ICW</th>\n    </tr>\n  </thead>\n  <tbody>\n    <tr>\n      <th>0</th>\n      <td>actedin</td>\n      <td>0.01</td>\n      <td>1.0</td>\n      <td>8</td>\n      <td>actedin(A,B) :- directed(A,B)</td>\n      <td>42</td>\n      <td>5481</td>\n      <td>0.101806</td>\n      <td>0.007663</td>\n      <td>0.092511</td>\n      <td>0.070707</td>\n      <td>0.098981</td>\n      <td>0.193671</td>\n    </tr>\n    <tr>\n      <th>1</th>\n      <td>actedin</td>\n      <td>0.01</td>\n      <td>0.9</td>\n      <td>8</td>\n      <td>actedin(A,B) :- directed(A,B)</td>\n      <td>42</td>\n      <td>5481</td>\n      <td>0.101806</td>\n      <td>0.007663</td>\n      <td>0.092511</td>\n      <td>0.070707</td>\n      <td>0.109925</td>\n      <td>0.214369</td>\n    </tr>\n    <tr>\n      <th>2</th>\n      <td>actedin</td>\n      <td>0.01</td>\n      <td>1.1</td>\n      <td>8</td>\n      <td>actedin(A,B) :- directed(A,B)</td>\n      <td>42</td>\n      <td>5481</td>\n      <td>0.101806</td>\n      <td>0.007663</td>\n      <td>0.092511</td>\n      <td>0.070707</td>\n      <td>0.090033</td>\n      <td>0.176271</td>\n    </tr>\n    <tr>\n      <th>3</th>\n      <td>actedin</td>\n      <td>0.01</td>\n      <td>1.0</td>\n      <td>9</td>\n      <td>actedin(A,B) :- directed(A,B)</td>\n      <td>41</td>\n      <td>5481</td>\n      <td>0.101806</td>\n      <td>0.007480</td>\n      <td>0.094470</td>\n      <td>0.070568</td>\n      <td>0.114317</td>\n      <td>0.182105</td>\n    </tr>\n    <tr>\n      <th>4</th>\n      <td>actedin</td>\n      <td>0.01</td>\n      <td>0.9</td>\n      <td>9</td>\n      <td>actedin(A,B) :- directed(A,B)</td>\n      <td>41</td>\n      <td>5481</td>\n      <td>0.101806</td>\n      <td>0.007480</td>\n      <td>0.094470</td>\n      <td>0.070568</td>\n      <td>0.126966</td>\n      <td>0.201642</td>\n    </tr>\n  </tbody>\n</table>\n</div>"
     },
     "execution_count": 13,
     "metadata": {},
     "output_type": "execute_result"
    }
   ],
   "source": [
    "df_rule_wrappers_all_targets.drop(\n",
    "        [ConfidenceEnum.IPW_PCA_CONF_S_TO_O.value,\n",
    "         ConfidenceEnum.IPW_PCA_CONF_O_TO_S.value],\n",
    "        axis=1,\n",
    "        inplace=True,\n",
    "        errors='ignore'\n",
    ")\n",
    "df_rule_wrappers_all_targets.head()\n"
   ],
   "metadata": {
    "collapsed": false,
    "pycharm": {
     "name": "#%%\n"
    }
   }
  },
  {
   "cell_type": "markdown",
   "source": [
    "### 2.4 Drop everything with less than 10 trials"
   ],
   "metadata": {
    "collapsed": false
   }
  },
  {
   "cell_type": "code",
   "execution_count": 14,
   "outputs": [],
   "source": [
    "group_by_list =  [\n",
    "    \"target_relation\",\n",
    "    \"filter_relation\",\n",
    "    'true_other',\n",
    "    'noisy_other',\n",
    "    \"Rule\",\n",
    "    \"random_trial_index\"\n",
    "]\n",
    "df_count_trials: pd.DataFrame = df_rule_wrappers_all_targets[\n",
    "      [\n",
    "        'target_relation',\n",
    "        'log_growth_rate',\n",
    "        'noise_level',\n",
    "        'random_trial_index',\n",
    "        'Rule',\n",
    "    ]\n",
    "].groupby(\n",
    "    [\n",
    "    'target_relation',\n",
    "    'log_growth_rate',\n",
    "    'noise_level',\n",
    "    'Rule',\n",
    "    ]\n",
    ").count().reset_index()"
   ],
   "metadata": {
    "collapsed": false,
    "pycharm": {
     "name": "#%%\n"
    }
   }
  },
  {
   "cell_type": "code",
   "execution_count": 15,
   "outputs": [
    {
     "data": {
      "text/plain": "    target_relation  log_growth_rate  noise_level  \\\n408  isaffiliatedto             0.05          0.9   \n411  isaffiliatedto             0.10          1.0   \n412  isaffiliatedto             0.10          1.1   \n671        playsfor             0.05          0.9   \n674        playsfor             0.10          1.0   \n675        playsfor             0.10          1.1   \n\n                                     Rule  random_trial_index  \n408  isaffiliatedto(A,B) :- playsfor(A,B)                   5  \n411  isaffiliatedto(A,B) :- playsfor(A,B)                   2  \n412  isaffiliatedto(A,B) :- playsfor(A,B)                   2  \n671  playsfor(A,B) :- isaffiliatedto(A,B)                   5  \n674  playsfor(A,B) :- isaffiliatedto(A,B)                   2  \n675  playsfor(A,B) :- isaffiliatedto(A,B)                   2  ",
      "text/html": "<div>\n<style scoped>\n    .dataframe tbody tr th:only-of-type {\n        vertical-align: middle;\n    }\n\n    .dataframe tbody tr th {\n        vertical-align: top;\n    }\n\n    .dataframe thead th {\n        text-align: right;\n    }\n</style>\n<table border=\"1\" class=\"dataframe\">\n  <thead>\n    <tr style=\"text-align: right;\">\n      <th></th>\n      <th>target_relation</th>\n      <th>log_growth_rate</th>\n      <th>noise_level</th>\n      <th>Rule</th>\n      <th>random_trial_index</th>\n    </tr>\n  </thead>\n  <tbody>\n    <tr>\n      <th>408</th>\n      <td>isaffiliatedto</td>\n      <td>0.05</td>\n      <td>0.9</td>\n      <td>isaffiliatedto(A,B) :- playsfor(A,B)</td>\n      <td>5</td>\n    </tr>\n    <tr>\n      <th>411</th>\n      <td>isaffiliatedto</td>\n      <td>0.10</td>\n      <td>1.0</td>\n      <td>isaffiliatedto(A,B) :- playsfor(A,B)</td>\n      <td>2</td>\n    </tr>\n    <tr>\n      <th>412</th>\n      <td>isaffiliatedto</td>\n      <td>0.10</td>\n      <td>1.1</td>\n      <td>isaffiliatedto(A,B) :- playsfor(A,B)</td>\n      <td>2</td>\n    </tr>\n    <tr>\n      <th>671</th>\n      <td>playsfor</td>\n      <td>0.05</td>\n      <td>0.9</td>\n      <td>playsfor(A,B) :- isaffiliatedto(A,B)</td>\n      <td>5</td>\n    </tr>\n    <tr>\n      <th>674</th>\n      <td>playsfor</td>\n      <td>0.10</td>\n      <td>1.0</td>\n      <td>playsfor(A,B) :- isaffiliatedto(A,B)</td>\n      <td>2</td>\n    </tr>\n    <tr>\n      <th>675</th>\n      <td>playsfor</td>\n      <td>0.10</td>\n      <td>1.1</td>\n      <td>playsfor(A,B) :- isaffiliatedto(A,B)</td>\n      <td>2</td>\n    </tr>\n  </tbody>\n</table>\n</div>"
     },
     "execution_count": 15,
     "metadata": {},
     "output_type": "execute_result"
    }
   ],
   "source": [
    "df_less_than_ten_trials: pd.DataFrame = df_count_trials[df_count_trials[\"random_trial_index\"].values != 10]\n",
    "df_less_than_ten_trials"
   ],
   "metadata": {
    "collapsed": false,
    "pycharm": {
     "name": "#%%\n"
    }
   }
  },
  {
   "cell_type": "code",
   "execution_count": 16,
   "outputs": [
    {
     "data": {
      "text/plain": "  target_relation  log_growth_rate  noise_level  random_trial_index  \\\n0         actedin             0.01          1.0                   8   \n1         actedin             0.01          0.9                   8   \n2         actedin             0.01          1.1                   8   \n3         actedin             0.01          1.0                   9   \n4         actedin             0.01          0.9                   9   \n\n                            Rule  Nb supported predictions  Body size  \\\n0  actedin(A,B) :- directed(A,B)                        42       5481   \n1  actedin(A,B) :- directed(A,B)                        42       5481   \n2  actedin(A,B) :- directed(A,B)                        42       5481   \n3  actedin(A,B) :- directed(A,B)                        41       5481   \n4  actedin(A,B) :- directed(A,B)                        41       5481   \n\n     $conf$       CWA   PCA $p$  PCA ${p^{-1}}$       IPW       ICW  \n0  0.101806  0.007663  0.092511        0.070707  0.098981  0.193671  \n1  0.101806  0.007663  0.092511        0.070707  0.109925  0.214369  \n2  0.101806  0.007663  0.092511        0.070707  0.090033  0.176271  \n3  0.101806  0.007480  0.094470        0.070568  0.114317  0.182105  \n4  0.101806  0.007480  0.094470        0.070568  0.126966  0.201642  ",
      "text/html": "<div>\n<style scoped>\n    .dataframe tbody tr th:only-of-type {\n        vertical-align: middle;\n    }\n\n    .dataframe tbody tr th {\n        vertical-align: top;\n    }\n\n    .dataframe thead th {\n        text-align: right;\n    }\n</style>\n<table border=\"1\" class=\"dataframe\">\n  <thead>\n    <tr style=\"text-align: right;\">\n      <th></th>\n      <th>target_relation</th>\n      <th>log_growth_rate</th>\n      <th>noise_level</th>\n      <th>random_trial_index</th>\n      <th>Rule</th>\n      <th>Nb supported predictions</th>\n      <th>Body size</th>\n      <th>$conf$</th>\n      <th>CWA</th>\n      <th>PCA $p$</th>\n      <th>PCA ${p^{-1}}$</th>\n      <th>IPW</th>\n      <th>ICW</th>\n    </tr>\n  </thead>\n  <tbody>\n    <tr>\n      <th>0</th>\n      <td>actedin</td>\n      <td>0.01</td>\n      <td>1.0</td>\n      <td>8</td>\n      <td>actedin(A,B) :- directed(A,B)</td>\n      <td>42</td>\n      <td>5481</td>\n      <td>0.101806</td>\n      <td>0.007663</td>\n      <td>0.092511</td>\n      <td>0.070707</td>\n      <td>0.098981</td>\n      <td>0.193671</td>\n    </tr>\n    <tr>\n      <th>1</th>\n      <td>actedin</td>\n      <td>0.01</td>\n      <td>0.9</td>\n      <td>8</td>\n      <td>actedin(A,B) :- directed(A,B)</td>\n      <td>42</td>\n      <td>5481</td>\n      <td>0.101806</td>\n      <td>0.007663</td>\n      <td>0.092511</td>\n      <td>0.070707</td>\n      <td>0.109925</td>\n      <td>0.214369</td>\n    </tr>\n    <tr>\n      <th>2</th>\n      <td>actedin</td>\n      <td>0.01</td>\n      <td>1.1</td>\n      <td>8</td>\n      <td>actedin(A,B) :- directed(A,B)</td>\n      <td>42</td>\n      <td>5481</td>\n      <td>0.101806</td>\n      <td>0.007663</td>\n      <td>0.092511</td>\n      <td>0.070707</td>\n      <td>0.090033</td>\n      <td>0.176271</td>\n    </tr>\n    <tr>\n      <th>3</th>\n      <td>actedin</td>\n      <td>0.01</td>\n      <td>1.0</td>\n      <td>9</td>\n      <td>actedin(A,B) :- directed(A,B)</td>\n      <td>41</td>\n      <td>5481</td>\n      <td>0.101806</td>\n      <td>0.007480</td>\n      <td>0.094470</td>\n      <td>0.070568</td>\n      <td>0.114317</td>\n      <td>0.182105</td>\n    </tr>\n    <tr>\n      <th>4</th>\n      <td>actedin</td>\n      <td>0.01</td>\n      <td>0.9</td>\n      <td>9</td>\n      <td>actedin(A,B) :- directed(A,B)</td>\n      <td>41</td>\n      <td>5481</td>\n      <td>0.101806</td>\n      <td>0.007480</td>\n      <td>0.094470</td>\n      <td>0.070568</td>\n      <td>0.126966</td>\n      <td>0.201642</td>\n    </tr>\n  </tbody>\n</table>\n</div>"
     },
     "execution_count": 16,
     "metadata": {},
     "output_type": "execute_result"
    }
   ],
   "source": [
    "df_rule_wrappers_all_targets = df_rule_wrappers_all_targets[\n",
    "    ~(\n",
    "        (\n",
    "            (df_rule_wrappers_all_targets[\"target_relation\"] == \"isaffiliatedto\")\n",
    "            &\n",
    "            (df_rule_wrappers_all_targets[\"Rule\"]==\"isaffiliatedto(A,B) :- playsfor(A,B)\")\n",
    "        )\n",
    "        |\n",
    "        (\n",
    "            (df_rule_wrappers_all_targets[\"target_relation\"] == \"playsfor\")\n",
    "            &\n",
    "            (df_rule_wrappers_all_targets[\"Rule\"]==\"playsfor(A,B) :- isaffiliatedto(A,B)\")\n",
    "        )\n",
    "  )\n",
    "\n",
    "]\n",
    "df_rule_wrappers_all_targets.head()\n"
   ],
   "metadata": {
    "collapsed": false,
    "pycharm": {
     "name": "#%%\n"
    }
   }
  },
  {
   "cell_type": "markdown",
   "source": [
    "**Now, we have the full dataframe**\n",
    "\n",
    "****"
   ],
   "metadata": {
    "collapsed": false
   }
  },
  {
   "cell_type": "markdown",
   "source": [
    "## Calculate $[conf(R) - \\widehat{conf}(R)]$"
   ],
   "metadata": {
    "collapsed": false
   }
  },
  {
   "cell_type": "code",
   "execution_count": 17,
   "outputs": [],
   "source": [
    "true_conf: ConfidenceEnum = ConfidenceEnum.TRUE_CONF\n",
    "\n",
    "conf_estimators_list: List[ConfidenceEnum] = [\n",
    "    ConfidenceEnum.CWA_CONF,\n",
    "    ConfidenceEnum.ICW_CONF,\n",
    "    ConfidenceEnum.PCA_CONF_S_TO_O,\n",
    "    ConfidenceEnum.PCA_CONF_O_TO_S,\n",
    "     ConfidenceEnum.IPW_CONF,\n",
    "]\n",
    "all_confs_list: List[ConfidenceEnum] = [ConfidenceEnum.TRUE_CONF ] + conf_estimators_list\n",
    "\n",
    "column_names_all_confs: List[str] = [\n",
    "    conf.get_name()\n",
    "    for conf in all_confs_list\n",
    "]"
   ],
   "metadata": {
    "collapsed": false,
    "pycharm": {
     "name": "#%%\n"
    }
   }
  },
  {
   "cell_type": "code",
   "execution_count": 18,
   "outputs": [
    {
     "data": {
      "text/plain": "  target_relation  log_growth_rate  noise_level  random_trial_index  \\\n0         actedin             0.01          1.0                   8   \n1         actedin             0.01          0.9                   8   \n2         actedin             0.01          1.1                   8   \n3         actedin             0.01          1.0                   9   \n4         actedin             0.01          0.9                   9   \n\n                            Rule    $conf$       CWA       ICW   PCA $p$  \\\n0  actedin(A,B) :- directed(A,B)  0.101806  0.007663  0.193671  0.092511   \n1  actedin(A,B) :- directed(A,B)  0.101806  0.007663  0.214369  0.092511   \n2  actedin(A,B) :- directed(A,B)  0.101806  0.007663  0.176271  0.092511   \n3  actedin(A,B) :- directed(A,B)  0.101806  0.007480  0.182105  0.094470   \n4  actedin(A,B) :- directed(A,B)  0.101806  0.007480  0.201642  0.094470   \n\n   PCA ${p^{-1}}$       IPW  \n0        0.070707  0.098981  \n1        0.070707  0.109925  \n2        0.070707  0.090033  \n3        0.070568  0.114317  \n4        0.070568  0.126966  ",
      "text/html": "<div>\n<style scoped>\n    .dataframe tbody tr th:only-of-type {\n        vertical-align: middle;\n    }\n\n    .dataframe tbody tr th {\n        vertical-align: top;\n    }\n\n    .dataframe thead th {\n        text-align: right;\n    }\n</style>\n<table border=\"1\" class=\"dataframe\">\n  <thead>\n    <tr style=\"text-align: right;\">\n      <th></th>\n      <th>target_relation</th>\n      <th>log_growth_rate</th>\n      <th>noise_level</th>\n      <th>random_trial_index</th>\n      <th>Rule</th>\n      <th>$conf$</th>\n      <th>CWA</th>\n      <th>ICW</th>\n      <th>PCA $p$</th>\n      <th>PCA ${p^{-1}}$</th>\n      <th>IPW</th>\n    </tr>\n  </thead>\n  <tbody>\n    <tr>\n      <th>0</th>\n      <td>actedin</td>\n      <td>0.01</td>\n      <td>1.0</td>\n      <td>8</td>\n      <td>actedin(A,B) :- directed(A,B)</td>\n      <td>0.101806</td>\n      <td>0.007663</td>\n      <td>0.193671</td>\n      <td>0.092511</td>\n      <td>0.070707</td>\n      <td>0.098981</td>\n    </tr>\n    <tr>\n      <th>1</th>\n      <td>actedin</td>\n      <td>0.01</td>\n      <td>0.9</td>\n      <td>8</td>\n      <td>actedin(A,B) :- directed(A,B)</td>\n      <td>0.101806</td>\n      <td>0.007663</td>\n      <td>0.214369</td>\n      <td>0.092511</td>\n      <td>0.070707</td>\n      <td>0.109925</td>\n    </tr>\n    <tr>\n      <th>2</th>\n      <td>actedin</td>\n      <td>0.01</td>\n      <td>1.1</td>\n      <td>8</td>\n      <td>actedin(A,B) :- directed(A,B)</td>\n      <td>0.101806</td>\n      <td>0.007663</td>\n      <td>0.176271</td>\n      <td>0.092511</td>\n      <td>0.070707</td>\n      <td>0.090033</td>\n    </tr>\n    <tr>\n      <th>3</th>\n      <td>actedin</td>\n      <td>0.01</td>\n      <td>1.0</td>\n      <td>9</td>\n      <td>actedin(A,B) :- directed(A,B)</td>\n      <td>0.101806</td>\n      <td>0.007480</td>\n      <td>0.182105</td>\n      <td>0.094470</td>\n      <td>0.070568</td>\n      <td>0.114317</td>\n    </tr>\n    <tr>\n      <th>4</th>\n      <td>actedin</td>\n      <td>0.01</td>\n      <td>0.9</td>\n      <td>9</td>\n      <td>actedin(A,B) :- directed(A,B)</td>\n      <td>0.101806</td>\n      <td>0.007480</td>\n      <td>0.201642</td>\n      <td>0.094470</td>\n      <td>0.070568</td>\n      <td>0.126966</td>\n    </tr>\n  </tbody>\n</table>\n</div>"
     },
     "execution_count": 18,
     "metadata": {},
     "output_type": "execute_result"
    }
   ],
   "source": [
    "df_rule_wrappers_all_targets = df_rule_wrappers_all_targets[\n",
    "    column_names_logistics + column_names_all_confs\n",
    "]\n",
    "df_rule_wrappers_all_targets.head()"
   ],
   "metadata": {
    "collapsed": false,
    "pycharm": {
     "name": "#%%\n"
    }
   }
  },
  {
   "cell_type": "code",
   "execution_count": 19,
   "outputs": [
    {
     "data": {
      "text/plain": "   target_relation  log_growth_rate  noise_level  random_trial_index  \\\n0          actedin             0.01          1.0                   8   \n3          actedin             0.01          1.0                   9   \n6          actedin             0.01          1.0                   4   \n9          actedin             0.01          1.0                   6   \n12         actedin             0.01          1.0                   1   \n\n                             Rule    $conf$       CWA       ICW   PCA $p$  \\\n0   actedin(A,B) :- directed(A,B)  0.101806  0.007663  0.193671  0.092511   \n3   actedin(A,B) :- directed(A,B)  0.101806  0.007480  0.182105  0.094470   \n6   actedin(A,B) :- directed(A,B)  0.101806  0.005473  0.145810  0.080214   \n9   actedin(A,B) :- directed(A,B)  0.101806  0.005656  0.145839  0.096273   \n12  actedin(A,B) :- directed(A,B)  0.101806  0.006751  0.167064  0.087264   \n\n    PCA ${p^{-1}}$       IPW  \n0         0.070707  0.098981  \n3         0.070568  0.114317  \n6         0.052817  0.095500  \n9         0.050489  0.092966  \n12        0.065954  0.086594  ",
      "text/html": "<div>\n<style scoped>\n    .dataframe tbody tr th:only-of-type {\n        vertical-align: middle;\n    }\n\n    .dataframe tbody tr th {\n        vertical-align: top;\n    }\n\n    .dataframe thead th {\n        text-align: right;\n    }\n</style>\n<table border=\"1\" class=\"dataframe\">\n  <thead>\n    <tr style=\"text-align: right;\">\n      <th></th>\n      <th>target_relation</th>\n      <th>log_growth_rate</th>\n      <th>noise_level</th>\n      <th>random_trial_index</th>\n      <th>Rule</th>\n      <th>$conf$</th>\n      <th>CWA</th>\n      <th>ICW</th>\n      <th>PCA $p$</th>\n      <th>PCA ${p^{-1}}$</th>\n      <th>IPW</th>\n    </tr>\n  </thead>\n  <tbody>\n    <tr>\n      <th>0</th>\n      <td>actedin</td>\n      <td>0.01</td>\n      <td>1.0</td>\n      <td>8</td>\n      <td>actedin(A,B) :- directed(A,B)</td>\n      <td>0.101806</td>\n      <td>0.007663</td>\n      <td>0.193671</td>\n      <td>0.092511</td>\n      <td>0.070707</td>\n      <td>0.098981</td>\n    </tr>\n    <tr>\n      <th>3</th>\n      <td>actedin</td>\n      <td>0.01</td>\n      <td>1.0</td>\n      <td>9</td>\n      <td>actedin(A,B) :- directed(A,B)</td>\n      <td>0.101806</td>\n      <td>0.007480</td>\n      <td>0.182105</td>\n      <td>0.094470</td>\n      <td>0.070568</td>\n      <td>0.114317</td>\n    </tr>\n    <tr>\n      <th>6</th>\n      <td>actedin</td>\n      <td>0.01</td>\n      <td>1.0</td>\n      <td>4</td>\n      <td>actedin(A,B) :- directed(A,B)</td>\n      <td>0.101806</td>\n      <td>0.005473</td>\n      <td>0.145810</td>\n      <td>0.080214</td>\n      <td>0.052817</td>\n      <td>0.095500</td>\n    </tr>\n    <tr>\n      <th>9</th>\n      <td>actedin</td>\n      <td>0.01</td>\n      <td>1.0</td>\n      <td>6</td>\n      <td>actedin(A,B) :- directed(A,B)</td>\n      <td>0.101806</td>\n      <td>0.005656</td>\n      <td>0.145839</td>\n      <td>0.096273</td>\n      <td>0.050489</td>\n      <td>0.092966</td>\n    </tr>\n    <tr>\n      <th>12</th>\n      <td>actedin</td>\n      <td>0.01</td>\n      <td>1.0</td>\n      <td>1</td>\n      <td>actedin(A,B) :- directed(A,B)</td>\n      <td>0.101806</td>\n      <td>0.006751</td>\n      <td>0.167064</td>\n      <td>0.087264</td>\n      <td>0.065954</td>\n      <td>0.086594</td>\n    </tr>\n  </tbody>\n</table>\n</div>"
     },
     "execution_count": 19,
     "metadata": {},
     "output_type": "execute_result"
    }
   ],
   "source": [
    "df_conf_estimators_no_noise = df_rule_wrappers_all_targets[\n",
    "    df_rule_wrappers_all_targets[\"noise_level\"] == noise_level_no_noise\n",
    "]\n",
    "df_conf_estimators_no_noise.head()"
   ],
   "metadata": {
    "collapsed": false,
    "pycharm": {
     "name": "#%%\n"
    }
   }
  },
  {
   "cell_type": "code",
   "execution_count": 20,
   "outputs": [],
   "source": [
    "column_names_info =ColumnNamesInfo(\n",
    "        true_conf=true_conf,\n",
    "        column_name_true_conf=true_conf.get_name(),\n",
    "        conf_estimators=conf_estimators_list,\n",
    "        column_names_conf_estimators=[\n",
    "            col.get_name()\n",
    "            for col in conf_estimators_list\n",
    "        ],\n",
    "        column_names_logistics=column_names_logistics\n",
    "    )\n"
   ],
   "metadata": {
    "collapsed": false,
    "pycharm": {
     "name": "#%%\n"
    }
   }
  },
  {
   "cell_type": "code",
   "execution_count": 21,
   "outputs": [
    {
     "data": {
      "text/plain": "  target_relation  log_growth_rate  noise_level  random_trial_index  \\\n0         actedin             0.01          1.0                   8   \n1         actedin             0.01          0.9                   8   \n2         actedin             0.01          1.1                   8   \n3         actedin             0.01          1.0                   9   \n4         actedin             0.01          0.9                   9   \n\n                            Rule       CWA       ICW   PCA $p$  \\\n0  actedin(A,B) :- directed(A,B)  0.008863  0.008439  0.000086   \n1  actedin(A,B) :- directed(A,B)  0.008863  0.012670  0.000086   \n2  actedin(A,B) :- directed(A,B)  0.008863  0.005545  0.000086   \n3  actedin(A,B) :- directed(A,B)  0.008897  0.006448  0.000054   \n4  actedin(A,B) :- directed(A,B)  0.008897  0.009967  0.000054   \n\n   PCA ${p^{-1}}$       IPW  \n0        0.000967  0.000008  \n1        0.000967  0.000066  \n2        0.000967  0.000139  \n3        0.000976  0.000157  \n4        0.000976  0.000633  ",
      "text/html": "<div>\n<style scoped>\n    .dataframe tbody tr th:only-of-type {\n        vertical-align: middle;\n    }\n\n    .dataframe tbody tr th {\n        vertical-align: top;\n    }\n\n    .dataframe thead th {\n        text-align: right;\n    }\n</style>\n<table border=\"1\" class=\"dataframe\">\n  <thead>\n    <tr style=\"text-align: right;\">\n      <th></th>\n      <th>target_relation</th>\n      <th>log_growth_rate</th>\n      <th>noise_level</th>\n      <th>random_trial_index</th>\n      <th>Rule</th>\n      <th>CWA</th>\n      <th>ICW</th>\n      <th>PCA $p$</th>\n      <th>PCA ${p^{-1}}$</th>\n      <th>IPW</th>\n    </tr>\n  </thead>\n  <tbody>\n    <tr>\n      <th>0</th>\n      <td>actedin</td>\n      <td>0.01</td>\n      <td>1.0</td>\n      <td>8</td>\n      <td>actedin(A,B) :- directed(A,B)</td>\n      <td>0.008863</td>\n      <td>0.008439</td>\n      <td>0.000086</td>\n      <td>0.000967</td>\n      <td>0.000008</td>\n    </tr>\n    <tr>\n      <th>1</th>\n      <td>actedin</td>\n      <td>0.01</td>\n      <td>0.9</td>\n      <td>8</td>\n      <td>actedin(A,B) :- directed(A,B)</td>\n      <td>0.008863</td>\n      <td>0.012670</td>\n      <td>0.000086</td>\n      <td>0.000967</td>\n      <td>0.000066</td>\n    </tr>\n    <tr>\n      <th>2</th>\n      <td>actedin</td>\n      <td>0.01</td>\n      <td>1.1</td>\n      <td>8</td>\n      <td>actedin(A,B) :- directed(A,B)</td>\n      <td>0.008863</td>\n      <td>0.005545</td>\n      <td>0.000086</td>\n      <td>0.000967</td>\n      <td>0.000139</td>\n    </tr>\n    <tr>\n      <th>3</th>\n      <td>actedin</td>\n      <td>0.01</td>\n      <td>1.0</td>\n      <td>9</td>\n      <td>actedin(A,B) :- directed(A,B)</td>\n      <td>0.008897</td>\n      <td>0.006448</td>\n      <td>0.000054</td>\n      <td>0.000976</td>\n      <td>0.000157</td>\n    </tr>\n    <tr>\n      <th>4</th>\n      <td>actedin</td>\n      <td>0.01</td>\n      <td>0.9</td>\n      <td>9</td>\n      <td>actedin(A,B) :- directed(A,B)</td>\n      <td>0.008897</td>\n      <td>0.009967</td>\n      <td>0.000054</td>\n      <td>0.000976</td>\n      <td>0.000633</td>\n    </tr>\n  </tbody>\n</table>\n</div>"
     },
     "execution_count": 21,
     "metadata": {},
     "output_type": "execute_result"
    }
   ],
   "source": [
    "def get_df_rulewise_squared_diffs_between_true_conf_and_conf_estimator(\n",
    "        df_rule_wrappers: pd.DataFrame,\n",
    "        column_names_info: ColumnNamesInfo\n",
    ") -> pd.DataFrame:\n",
    "    df_rulewise_diffs_between_true_conf_and_conf_estimator: pd.DataFrame = df_rule_wrappers[\n",
    "        column_names_info.column_names_logistics\n",
    "    ]\n",
    "\n",
    "    col_name_estimator: str\n",
    "    for col_name_estimator in column_names_info.column_names_conf_estimators:\n",
    "        df_rulewise_diffs_between_true_conf_and_conf_estimator \\\n",
    "            = df_rulewise_diffs_between_true_conf_and_conf_estimator.assign(\n",
    "                **{\n",
    "                    col_name_estimator: (\n",
    "                        (df_rule_wrappers[column_names_info.column_name_true_conf]\n",
    "                            - df_rule_wrappers[col_name_estimator]) ** 2\n",
    "                    )\n",
    "                }\n",
    "            )\n",
    "    return df_rulewise_diffs_between_true_conf_and_conf_estimator\n",
    "\n",
    "df_conf_squared_errors: pd.DataFrame = get_df_rulewise_squared_diffs_between_true_conf_and_conf_estimator(\n",
    "    df_rule_wrappers=df_rule_wrappers_all_targets,\n",
    "    column_names_info = column_names_info\n",
    ")\n",
    "df_conf_squared_errors.head()"
   ],
   "metadata": {
    "collapsed": false,
    "pycharm": {
     "name": "#%%\n"
    }
   }
  },
  {
   "cell_type": "markdown",
   "source": [
    "## AVERAGE the PCA(S) and PCA(O)"
   ],
   "metadata": {
    "collapsed": false
   }
  },
  {
   "cell_type": "code",
   "execution_count": 22,
   "outputs": [
    {
     "data": {
      "text/plain": "  target_relation  log_growth_rate  noise_level  random_trial_index  \\\n0         actedin             0.01          1.0                   8   \n1         actedin             0.01          0.9                   8   \n2         actedin             0.01          1.1                   8   \n3         actedin             0.01          1.0                   9   \n4         actedin             0.01          0.9                   9   \n\n                            Rule       CWA       ICW   PCA $p$  \\\n0  actedin(A,B) :- directed(A,B)  0.008863  0.008439  0.000086   \n1  actedin(A,B) :- directed(A,B)  0.008863  0.012670  0.000086   \n2  actedin(A,B) :- directed(A,B)  0.008863  0.005545  0.000086   \n3  actedin(A,B) :- directed(A,B)  0.008897  0.006448  0.000054   \n4  actedin(A,B) :- directed(A,B)  0.008897  0.009967  0.000054   \n\n   PCA ${p^{-1}}$       IPW       PCA  \n0        0.000967  0.000008  0.000527  \n1        0.000967  0.000066  0.000527  \n2        0.000967  0.000139  0.000527  \n3        0.000976  0.000157  0.000515  \n4        0.000976  0.000633  0.000515  ",
      "text/html": "<div>\n<style scoped>\n    .dataframe tbody tr th:only-of-type {\n        vertical-align: middle;\n    }\n\n    .dataframe tbody tr th {\n        vertical-align: top;\n    }\n\n    .dataframe thead th {\n        text-align: right;\n    }\n</style>\n<table border=\"1\" class=\"dataframe\">\n  <thead>\n    <tr style=\"text-align: right;\">\n      <th></th>\n      <th>target_relation</th>\n      <th>log_growth_rate</th>\n      <th>noise_level</th>\n      <th>random_trial_index</th>\n      <th>Rule</th>\n      <th>CWA</th>\n      <th>ICW</th>\n      <th>PCA $p$</th>\n      <th>PCA ${p^{-1}}$</th>\n      <th>IPW</th>\n      <th>PCA</th>\n    </tr>\n  </thead>\n  <tbody>\n    <tr>\n      <th>0</th>\n      <td>actedin</td>\n      <td>0.01</td>\n      <td>1.0</td>\n      <td>8</td>\n      <td>actedin(A,B) :- directed(A,B)</td>\n      <td>0.008863</td>\n      <td>0.008439</td>\n      <td>0.000086</td>\n      <td>0.000967</td>\n      <td>0.000008</td>\n      <td>0.000527</td>\n    </tr>\n    <tr>\n      <th>1</th>\n      <td>actedin</td>\n      <td>0.01</td>\n      <td>0.9</td>\n      <td>8</td>\n      <td>actedin(A,B) :- directed(A,B)</td>\n      <td>0.008863</td>\n      <td>0.012670</td>\n      <td>0.000086</td>\n      <td>0.000967</td>\n      <td>0.000066</td>\n      <td>0.000527</td>\n    </tr>\n    <tr>\n      <th>2</th>\n      <td>actedin</td>\n      <td>0.01</td>\n      <td>1.1</td>\n      <td>8</td>\n      <td>actedin(A,B) :- directed(A,B)</td>\n      <td>0.008863</td>\n      <td>0.005545</td>\n      <td>0.000086</td>\n      <td>0.000967</td>\n      <td>0.000139</td>\n      <td>0.000527</td>\n    </tr>\n    <tr>\n      <th>3</th>\n      <td>actedin</td>\n      <td>0.01</td>\n      <td>1.0</td>\n      <td>9</td>\n      <td>actedin(A,B) :- directed(A,B)</td>\n      <td>0.008897</td>\n      <td>0.006448</td>\n      <td>0.000054</td>\n      <td>0.000976</td>\n      <td>0.000157</td>\n      <td>0.000515</td>\n    </tr>\n    <tr>\n      <th>4</th>\n      <td>actedin</td>\n      <td>0.01</td>\n      <td>0.9</td>\n      <td>9</td>\n      <td>actedin(A,B) :- directed(A,B)</td>\n      <td>0.008897</td>\n      <td>0.009967</td>\n      <td>0.000054</td>\n      <td>0.000976</td>\n      <td>0.000633</td>\n      <td>0.000515</td>\n    </tr>\n  </tbody>\n</table>\n</div>"
     },
     "execution_count": 22,
     "metadata": {},
     "output_type": "execute_result"
    }
   ],
   "source": [
    "df_conf_squared_errors[\"PCA\"] = (\n",
    "    (\n",
    "            df_conf_squared_errors[ConfidenceEnum.PCA_CONF_S_TO_O.value]\n",
    "            +\n",
    "            df_conf_squared_errors[ConfidenceEnum.PCA_CONF_O_TO_S.value]\n",
    "    ) / 2\n",
    ")\n",
    "df_conf_squared_errors.head()"
   ],
   "metadata": {
    "collapsed": false,
    "pycharm": {
     "name": "#%%\n"
    }
   }
  },
  {
   "cell_type": "code",
   "execution_count": 23,
   "outputs": [
    {
     "data": {
      "text/plain": "  target_relation  log_growth_rate  noise_level  random_trial_index  \\\n0         actedin             0.01          1.0                   8   \n1         actedin             0.01          0.9                   8   \n2         actedin             0.01          1.1                   8   \n3         actedin             0.01          1.0                   9   \n4         actedin             0.01          0.9                   9   \n\n                            Rule       CWA       ICW       IPW       PCA  \n0  actedin(A,B) :- directed(A,B)  0.008863  0.008439  0.000008  0.000527  \n1  actedin(A,B) :- directed(A,B)  0.008863  0.012670  0.000066  0.000527  \n2  actedin(A,B) :- directed(A,B)  0.008863  0.005545  0.000139  0.000527  \n3  actedin(A,B) :- directed(A,B)  0.008897  0.006448  0.000157  0.000515  \n4  actedin(A,B) :- directed(A,B)  0.008897  0.009967  0.000633  0.000515  ",
      "text/html": "<div>\n<style scoped>\n    .dataframe tbody tr th:only-of-type {\n        vertical-align: middle;\n    }\n\n    .dataframe tbody tr th {\n        vertical-align: top;\n    }\n\n    .dataframe thead th {\n        text-align: right;\n    }\n</style>\n<table border=\"1\" class=\"dataframe\">\n  <thead>\n    <tr style=\"text-align: right;\">\n      <th></th>\n      <th>target_relation</th>\n      <th>log_growth_rate</th>\n      <th>noise_level</th>\n      <th>random_trial_index</th>\n      <th>Rule</th>\n      <th>CWA</th>\n      <th>ICW</th>\n      <th>IPW</th>\n      <th>PCA</th>\n    </tr>\n  </thead>\n  <tbody>\n    <tr>\n      <th>0</th>\n      <td>actedin</td>\n      <td>0.01</td>\n      <td>1.0</td>\n      <td>8</td>\n      <td>actedin(A,B) :- directed(A,B)</td>\n      <td>0.008863</td>\n      <td>0.008439</td>\n      <td>0.000008</td>\n      <td>0.000527</td>\n    </tr>\n    <tr>\n      <th>1</th>\n      <td>actedin</td>\n      <td>0.01</td>\n      <td>0.9</td>\n      <td>8</td>\n      <td>actedin(A,B) :- directed(A,B)</td>\n      <td>0.008863</td>\n      <td>0.012670</td>\n      <td>0.000066</td>\n      <td>0.000527</td>\n    </tr>\n    <tr>\n      <th>2</th>\n      <td>actedin</td>\n      <td>0.01</td>\n      <td>1.1</td>\n      <td>8</td>\n      <td>actedin(A,B) :- directed(A,B)</td>\n      <td>0.008863</td>\n      <td>0.005545</td>\n      <td>0.000139</td>\n      <td>0.000527</td>\n    </tr>\n    <tr>\n      <th>3</th>\n      <td>actedin</td>\n      <td>0.01</td>\n      <td>1.0</td>\n      <td>9</td>\n      <td>actedin(A,B) :- directed(A,B)</td>\n      <td>0.008897</td>\n      <td>0.006448</td>\n      <td>0.000157</td>\n      <td>0.000515</td>\n    </tr>\n    <tr>\n      <th>4</th>\n      <td>actedin</td>\n      <td>0.01</td>\n      <td>0.9</td>\n      <td>9</td>\n      <td>actedin(A,B) :- directed(A,B)</td>\n      <td>0.008897</td>\n      <td>0.009967</td>\n      <td>0.000633</td>\n      <td>0.000515</td>\n    </tr>\n  </tbody>\n</table>\n</div>"
     },
     "execution_count": 23,
     "metadata": {},
     "output_type": "execute_result"
    }
   ],
   "source": [
    "df_conf_squared_errors = df_conf_squared_errors.drop(\n",
    "        columns=[\n",
    "            ConfidenceEnum.PCA_CONF_S_TO_O.value,\n",
    "            ConfidenceEnum.PCA_CONF_O_TO_S.value\n",
    "        ],\n",
    "        axis=1,\n",
    "        errors='ignore'\n",
    "    )\n",
    "df_conf_squared_errors.head()"
   ],
   "metadata": {
    "collapsed": false,
    "pycharm": {
     "name": "#%%\n"
    }
   }
  },
  {
   "cell_type": "markdown",
   "source": [
    "# Now start averaging\n"
   ],
   "metadata": {
    "collapsed": false
   }
  },
  {
   "cell_type": "code",
   "execution_count": 24,
   "outputs": [
    {
     "data": {
      "text/plain": "  target_relation  log_growth_rate  noise_level  \\\n0         actedin             0.01          0.9   \n1         actedin             0.01          1.0   \n2         actedin             0.01          1.1   \n3         actedin             0.05          0.9   \n4         actedin             0.05          1.0   \n\n                            Rule       CWA       ICW       IPW       PCA  \n0  actedin(A,B) :- directed(A,B)  0.009002  0.008603  0.000418  0.000861  \n1  actedin(A,B) :- directed(A,B)  0.009002  0.005509  0.000152  0.000861  \n2  actedin(A,B) :- directed(A,B)  0.009002  0.003455  0.000142  0.000861  \n3  actedin(A,B) :- directed(A,B)  0.004771  0.008352  0.000240  0.003427  \n4  actedin(A,B) :- directed(A,B)  0.004771  0.005406  0.000075  0.003427  ",
      "text/html": "<div>\n<style scoped>\n    .dataframe tbody tr th:only-of-type {\n        vertical-align: middle;\n    }\n\n    .dataframe tbody tr th {\n        vertical-align: top;\n    }\n\n    .dataframe thead th {\n        text-align: right;\n    }\n</style>\n<table border=\"1\" class=\"dataframe\">\n  <thead>\n    <tr style=\"text-align: right;\">\n      <th></th>\n      <th>target_relation</th>\n      <th>log_growth_rate</th>\n      <th>noise_level</th>\n      <th>Rule</th>\n      <th>CWA</th>\n      <th>ICW</th>\n      <th>IPW</th>\n      <th>PCA</th>\n    </tr>\n  </thead>\n  <tbody>\n    <tr>\n      <th>0</th>\n      <td>actedin</td>\n      <td>0.01</td>\n      <td>0.9</td>\n      <td>actedin(A,B) :- directed(A,B)</td>\n      <td>0.009002</td>\n      <td>0.008603</td>\n      <td>0.000418</td>\n      <td>0.000861</td>\n    </tr>\n    <tr>\n      <th>1</th>\n      <td>actedin</td>\n      <td>0.01</td>\n      <td>1.0</td>\n      <td>actedin(A,B) :- directed(A,B)</td>\n      <td>0.009002</td>\n      <td>0.005509</td>\n      <td>0.000152</td>\n      <td>0.000861</td>\n    </tr>\n    <tr>\n      <th>2</th>\n      <td>actedin</td>\n      <td>0.01</td>\n      <td>1.1</td>\n      <td>actedin(A,B) :- directed(A,B)</td>\n      <td>0.009002</td>\n      <td>0.003455</td>\n      <td>0.000142</td>\n      <td>0.000861</td>\n    </tr>\n    <tr>\n      <th>3</th>\n      <td>actedin</td>\n      <td>0.05</td>\n      <td>0.9</td>\n      <td>actedin(A,B) :- directed(A,B)</td>\n      <td>0.004771</td>\n      <td>0.008352</td>\n      <td>0.000240</td>\n      <td>0.003427</td>\n    </tr>\n    <tr>\n      <th>4</th>\n      <td>actedin</td>\n      <td>0.05</td>\n      <td>1.0</td>\n      <td>actedin(A,B) :- directed(A,B)</td>\n      <td>0.004771</td>\n      <td>0.005406</td>\n      <td>0.000075</td>\n      <td>0.003427</td>\n    </tr>\n  </tbody>\n</table>\n</div>"
     },
     "execution_count": 24,
     "metadata": {},
     "output_type": "execute_result"
    }
   ],
   "source": [
    "df_conf_squared_errors_avg_over_trials: pd.DataFrame = df_conf_squared_errors.groupby(\n",
    "    by=[\"target_relation\", \"log_growth_rate\", 'noise_level', \"Rule\"],\n",
    "    sort=True,\n",
    "    as_index=False\n",
    ").mean()\n",
    "df_conf_squared_errors_avg_over_trials.drop(\n",
    "        columns=[\"random_trial_index\"],\n",
    "        axis=1,\n",
    "        errors='ignore',\n",
    "        inplace=True\n",
    ")\n",
    "\n",
    "df_conf_squared_errors_avg_over_trials.head()"
   ],
   "metadata": {
    "collapsed": false,
    "pycharm": {
     "name": "#%%\n"
    }
   }
  },
  {
   "cell_type": "code",
   "execution_count": 25,
   "outputs": [
    {
     "data": {
      "text/plain": "  target_relation  log_growth_rate  noise_level       CWA       ICW       IPW  \\\n0         actedin             0.01          0.9  0.009002  0.008603  0.000418   \n1         actedin             0.01          1.0  0.009002  0.005509  0.000152   \n2         actedin             0.01          1.1  0.009002  0.003455  0.000142   \n3         actedin             0.05          0.9  0.004771  0.008352  0.000240   \n4         actedin             0.05          1.0  0.004771  0.005406  0.000075   \n\n        PCA  \n0  0.000861  \n1  0.000861  \n2  0.000861  \n3  0.003427  \n4  0.003427  ",
      "text/html": "<div>\n<style scoped>\n    .dataframe tbody tr th:only-of-type {\n        vertical-align: middle;\n    }\n\n    .dataframe tbody tr th {\n        vertical-align: top;\n    }\n\n    .dataframe thead th {\n        text-align: right;\n    }\n</style>\n<table border=\"1\" class=\"dataframe\">\n  <thead>\n    <tr style=\"text-align: right;\">\n      <th></th>\n      <th>target_relation</th>\n      <th>log_growth_rate</th>\n      <th>noise_level</th>\n      <th>CWA</th>\n      <th>ICW</th>\n      <th>IPW</th>\n      <th>PCA</th>\n    </tr>\n  </thead>\n  <tbody>\n    <tr>\n      <th>0</th>\n      <td>actedin</td>\n      <td>0.01</td>\n      <td>0.9</td>\n      <td>0.009002</td>\n      <td>0.008603</td>\n      <td>0.000418</td>\n      <td>0.000861</td>\n    </tr>\n    <tr>\n      <th>1</th>\n      <td>actedin</td>\n      <td>0.01</td>\n      <td>1.0</td>\n      <td>0.009002</td>\n      <td>0.005509</td>\n      <td>0.000152</td>\n      <td>0.000861</td>\n    </tr>\n    <tr>\n      <th>2</th>\n      <td>actedin</td>\n      <td>0.01</td>\n      <td>1.1</td>\n      <td>0.009002</td>\n      <td>0.003455</td>\n      <td>0.000142</td>\n      <td>0.000861</td>\n    </tr>\n    <tr>\n      <th>3</th>\n      <td>actedin</td>\n      <td>0.05</td>\n      <td>0.9</td>\n      <td>0.004771</td>\n      <td>0.008352</td>\n      <td>0.000240</td>\n      <td>0.003427</td>\n    </tr>\n    <tr>\n      <th>4</th>\n      <td>actedin</td>\n      <td>0.05</td>\n      <td>1.0</td>\n      <td>0.004771</td>\n      <td>0.005406</td>\n      <td>0.000075</td>\n      <td>0.003427</td>\n    </tr>\n  </tbody>\n</table>\n</div>"
     },
     "execution_count": 25,
     "metadata": {},
     "output_type": "execute_result"
    }
   ],
   "source": [
    "df_conf_squared_errors_avg_over_trials_and_rules: pd.DataFrame = df_conf_squared_errors_avg_over_trials.groupby(\n",
    "    by=[\"target_relation\", \"log_growth_rate\", 'noise_level',],\n",
    "    sort=True,\n",
    "    as_index=False\n",
    ").mean()\n",
    "df_conf_squared_errors_avg_over_trials_and_rules.head()"
   ],
   "metadata": {
    "collapsed": false,
    "pycharm": {
     "name": "#%%\n"
    }
   }
  },
  {
   "cell_type": "code",
   "execution_count": 26,
   "outputs": [
    {
     "data": {
      "text/plain": "315"
     },
     "execution_count": 26,
     "metadata": {},
     "output_type": "execute_result"
    }
   ],
   "source": [
    "len(df_conf_squared_errors_avg_over_trials_and_rules)\n"
   ],
   "metadata": {
    "collapsed": false,
    "pycharm": {
     "name": "#%%\n"
    }
   }
  },
  {
   "cell_type": "code",
   "execution_count": 27,
   "outputs": [
    {
     "data": {
      "text/plain": "    target_relation  log_growth_rate  noise_level           CWA       ICW  \\\n1           actedin             0.01          1.0  9.001723e-03  0.005509   \n4           actedin             0.05          1.0  4.770706e-03  0.005406   \n7           actedin             0.10          1.0  2.170461e-03  0.004424   \n10          actedin             0.50          1.0  1.797522e-05  0.000567   \n13          actedin             1.00          1.0  2.429983e-07  0.000076   \n..              ...              ...          ...           ...       ...   \n301         worksat             0.01          1.0  5.266431e-02  0.008039   \n304         worksat             0.05          1.0  3.105694e-02  0.001068   \n307         worksat             0.10          1.0  1.485991e-02  0.001621   \n310         worksat             0.50          1.0  4.988448e-05  0.000127   \n313         worksat             1.00          1.0  8.204684e-08  0.000004   \n\n              IPW       PCA  \n1    1.520177e-04  0.000861  \n4    7.463840e-05  0.003427  \n7    1.817430e-05  0.009314  \n10   9.813232e-07  0.027928  \n13   7.645068e-08  0.029955  \n..            ...       ...  \n301  8.281230e-03  0.030247  \n304  5.492093e-04  0.014150  \n307  4.201051e-04  0.005694  \n310  3.370548e-06  0.006617  \n313  1.685311e-07  0.007493  \n\n[105 rows x 7 columns]",
      "text/html": "<div>\n<style scoped>\n    .dataframe tbody tr th:only-of-type {\n        vertical-align: middle;\n    }\n\n    .dataframe tbody tr th {\n        vertical-align: top;\n    }\n\n    .dataframe thead th {\n        text-align: right;\n    }\n</style>\n<table border=\"1\" class=\"dataframe\">\n  <thead>\n    <tr style=\"text-align: right;\">\n      <th></th>\n      <th>target_relation</th>\n      <th>log_growth_rate</th>\n      <th>noise_level</th>\n      <th>CWA</th>\n      <th>ICW</th>\n      <th>IPW</th>\n      <th>PCA</th>\n    </tr>\n  </thead>\n  <tbody>\n    <tr>\n      <th>1</th>\n      <td>actedin</td>\n      <td>0.01</td>\n      <td>1.0</td>\n      <td>9.001723e-03</td>\n      <td>0.005509</td>\n      <td>1.520177e-04</td>\n      <td>0.000861</td>\n    </tr>\n    <tr>\n      <th>4</th>\n      <td>actedin</td>\n      <td>0.05</td>\n      <td>1.0</td>\n      <td>4.770706e-03</td>\n      <td>0.005406</td>\n      <td>7.463840e-05</td>\n      <td>0.003427</td>\n    </tr>\n    <tr>\n      <th>7</th>\n      <td>actedin</td>\n      <td>0.10</td>\n      <td>1.0</td>\n      <td>2.170461e-03</td>\n      <td>0.004424</td>\n      <td>1.817430e-05</td>\n      <td>0.009314</td>\n    </tr>\n    <tr>\n      <th>10</th>\n      <td>actedin</td>\n      <td>0.50</td>\n      <td>1.0</td>\n      <td>1.797522e-05</td>\n      <td>0.000567</td>\n      <td>9.813232e-07</td>\n      <td>0.027928</td>\n    </tr>\n    <tr>\n      <th>13</th>\n      <td>actedin</td>\n      <td>1.00</td>\n      <td>1.0</td>\n      <td>2.429983e-07</td>\n      <td>0.000076</td>\n      <td>7.645068e-08</td>\n      <td>0.029955</td>\n    </tr>\n    <tr>\n      <th>...</th>\n      <td>...</td>\n      <td>...</td>\n      <td>...</td>\n      <td>...</td>\n      <td>...</td>\n      <td>...</td>\n      <td>...</td>\n    </tr>\n    <tr>\n      <th>301</th>\n      <td>worksat</td>\n      <td>0.01</td>\n      <td>1.0</td>\n      <td>5.266431e-02</td>\n      <td>0.008039</td>\n      <td>8.281230e-03</td>\n      <td>0.030247</td>\n    </tr>\n    <tr>\n      <th>304</th>\n      <td>worksat</td>\n      <td>0.05</td>\n      <td>1.0</td>\n      <td>3.105694e-02</td>\n      <td>0.001068</td>\n      <td>5.492093e-04</td>\n      <td>0.014150</td>\n    </tr>\n    <tr>\n      <th>307</th>\n      <td>worksat</td>\n      <td>0.10</td>\n      <td>1.0</td>\n      <td>1.485991e-02</td>\n      <td>0.001621</td>\n      <td>4.201051e-04</td>\n      <td>0.005694</td>\n    </tr>\n    <tr>\n      <th>310</th>\n      <td>worksat</td>\n      <td>0.50</td>\n      <td>1.0</td>\n      <td>4.988448e-05</td>\n      <td>0.000127</td>\n      <td>3.370548e-06</td>\n      <td>0.006617</td>\n    </tr>\n    <tr>\n      <th>313</th>\n      <td>worksat</td>\n      <td>1.00</td>\n      <td>1.0</td>\n      <td>8.204684e-08</td>\n      <td>0.000004</td>\n      <td>1.685311e-07</td>\n      <td>0.007493</td>\n    </tr>\n  </tbody>\n</table>\n<p>105 rows × 7 columns</p>\n</div>"
     },
     "execution_count": 27,
     "metadata": {},
     "output_type": "execute_result"
    }
   ],
   "source": [
    "df_conf_squared_errors_avg_over_trials_and_rules_no_noise: pd.DataFrame = df_conf_squared_errors_avg_over_trials_and_rules[\n",
    "    df_conf_squared_errors_avg_over_trials_and_rules[\"noise_level\"] == noise_level_no_noise\n",
    "]\n",
    "df_conf_squared_errors_avg_over_trials_and_rules_no_noise"
   ],
   "metadata": {
    "collapsed": false,
    "pycharm": {
     "name": "#%%\n"
    }
   }
  },
  {
   "cell_type": "markdown",
   "source": [
    "## Subset of noisy_other"
   ],
   "metadata": {
    "collapsed": false
   }
  },
  {
   "cell_type": "code",
   "execution_count": 28,
   "outputs": [
    {
     "data": {
      "text/plain": "[0.01, 0.05, 0.1, 0.5, 1]"
     },
     "execution_count": 28,
     "metadata": {},
     "output_type": "execute_result"
    }
   ],
   "source": [
    "noise_levels_not_noiseless: Set[float] = {\n",
    "    noise_level for noise_level in noise_levels if noise_level != noise_level_no_noise\n",
    "}\n",
    "\n",
    "log_growth_rate_list\n",
    "\n",
    "# true_label_frequencies_set: Set[float] = {\n",
    "#     0.3, 0.7,\n",
    "# }\n",
    "# true_label_frequency_to_estimate_map: Dict[float, Set[float]] = dict()\n",
    "#\n",
    "# label_frequency_est_diff: float = 0.1\n",
    "# label_frequencies_to_keep: Set[float] = set(true_label_frequencies_set)\n",
    "# for true_label_freq in true_label_frequencies_set:\n",
    "#     true_label_frequency_to_estimate_map[true_label_freq] = {\n",
    "#         round(true_label_freq - label_frequency_est_diff, 1),\n",
    "#         round(true_label_freq + label_frequency_est_diff, 1)\n",
    "#     }\n",
    "#     label_frequencies_to_keep.update(true_label_frequency_to_estimate_map[true_label_freq])"
   ],
   "metadata": {
    "collapsed": false,
    "pycharm": {
     "name": "#%%\n"
    }
   }
  },
  {
   "cell_type": "code",
   "execution_count": 29,
   "outputs": [
    {
     "data": {
      "text/plain": "  target_relation  log_growth_rate  noise_level       CWA       ICW       IPW  \\\n0         actedin             0.01          0.9  0.009002  0.008603  0.000418   \n1         actedin             0.01          1.0  0.009002  0.005509  0.000152   \n2         actedin             0.01          1.1  0.009002  0.003455  0.000142   \n3         actedin             0.05          0.9  0.004771  0.008352  0.000240   \n4         actedin             0.05          1.0  0.004771  0.005406  0.000075   \n\n        PCA  \n0  0.000861  \n1  0.000861  \n2  0.000861  \n3  0.003427  \n4  0.003427  ",
      "text/html": "<div>\n<style scoped>\n    .dataframe tbody tr th:only-of-type {\n        vertical-align: middle;\n    }\n\n    .dataframe tbody tr th {\n        vertical-align: top;\n    }\n\n    .dataframe thead th {\n        text-align: right;\n    }\n</style>\n<table border=\"1\" class=\"dataframe\">\n  <thead>\n    <tr style=\"text-align: right;\">\n      <th></th>\n      <th>target_relation</th>\n      <th>log_growth_rate</th>\n      <th>noise_level</th>\n      <th>CWA</th>\n      <th>ICW</th>\n      <th>IPW</th>\n      <th>PCA</th>\n    </tr>\n  </thead>\n  <tbody>\n    <tr>\n      <th>0</th>\n      <td>actedin</td>\n      <td>0.01</td>\n      <td>0.9</td>\n      <td>0.009002</td>\n      <td>0.008603</td>\n      <td>0.000418</td>\n      <td>0.000861</td>\n    </tr>\n    <tr>\n      <th>1</th>\n      <td>actedin</td>\n      <td>0.01</td>\n      <td>1.0</td>\n      <td>0.009002</td>\n      <td>0.005509</td>\n      <td>0.000152</td>\n      <td>0.000861</td>\n    </tr>\n    <tr>\n      <th>2</th>\n      <td>actedin</td>\n      <td>0.01</td>\n      <td>1.1</td>\n      <td>0.009002</td>\n      <td>0.003455</td>\n      <td>0.000142</td>\n      <td>0.000861</td>\n    </tr>\n    <tr>\n      <th>3</th>\n      <td>actedin</td>\n      <td>0.05</td>\n      <td>0.9</td>\n      <td>0.004771</td>\n      <td>0.008352</td>\n      <td>0.000240</td>\n      <td>0.003427</td>\n    </tr>\n    <tr>\n      <th>4</th>\n      <td>actedin</td>\n      <td>0.05</td>\n      <td>1.0</td>\n      <td>0.004771</td>\n      <td>0.005406</td>\n      <td>0.000075</td>\n      <td>0.003427</td>\n    </tr>\n  </tbody>\n</table>\n</div>"
     },
     "execution_count": 29,
     "metadata": {},
     "output_type": "execute_result"
    }
   ],
   "source": [
    "df_conf_errors_avg_over_trials_and_rules_noisy = df_conf_squared_errors_avg_over_trials_and_rules[\n",
    "    df_conf_squared_errors_avg_over_trials_and_rules[\"noise_level\"].isin(noise_levels_not_noiseless)\n",
    "]\n",
    "df_conf_squared_errors_avg_over_trials_and_rules.head()"
   ],
   "metadata": {
    "collapsed": false,
    "pycharm": {
     "name": "#%%\n"
    }
   }
  },
  {
   "cell_type": "code",
   "execution_count": 30,
   "outputs": [
    {
     "data": {
      "text/plain": "315"
     },
     "execution_count": 30,
     "metadata": {},
     "output_type": "execute_result"
    }
   ],
   "source": [
    "len(df_conf_squared_errors_avg_over_trials_and_rules)"
   ],
   "metadata": {
    "collapsed": false,
    "pycharm": {
     "name": "#%%\n"
    }
   }
  },
  {
   "cell_type": "markdown",
   "source": [
    "## Count the rules per $p$"
   ],
   "metadata": {
    "collapsed": false,
    "pycharm": {
     "name": "#%% md\n"
    }
   }
  },
  {
   "cell_type": "code",
   "execution_count": 31,
   "outputs": [
    {
     "data": {
      "text/plain": "  target_relation  # rules\n0         actedin        1\n1         created        2\n2       dealswith        7\n3          diedin        1\n4        directed        2",
      "text/html": "<div>\n<style scoped>\n    .dataframe tbody tr th:only-of-type {\n        vertical-align: middle;\n    }\n\n    .dataframe tbody tr th {\n        vertical-align: top;\n    }\n\n    .dataframe thead th {\n        text-align: right;\n    }\n</style>\n<table border=\"1\" class=\"dataframe\">\n  <thead>\n    <tr style=\"text-align: right;\">\n      <th></th>\n      <th>target_relation</th>\n      <th># rules</th>\n    </tr>\n  </thead>\n  <tbody>\n    <tr>\n      <th>0</th>\n      <td>actedin</td>\n      <td>1</td>\n    </tr>\n    <tr>\n      <th>1</th>\n      <td>created</td>\n      <td>2</td>\n    </tr>\n    <tr>\n      <th>2</th>\n      <td>dealswith</td>\n      <td>7</td>\n    </tr>\n    <tr>\n      <th>3</th>\n      <td>diedin</td>\n      <td>1</td>\n    </tr>\n    <tr>\n      <th>4</th>\n      <td>directed</td>\n      <td>2</td>\n    </tr>\n  </tbody>\n</table>\n</div>"
     },
     "execution_count": 31,
     "metadata": {},
     "output_type": "execute_result"
    }
   ],
   "source": [
    "df_n_rules_per_target = df_rule_wrappers_all_targets[[\"target_relation\", \"Rule\"]].groupby(\n",
    "    by=['target_relation'],\n",
    "    # sort=True,\n",
    "    # as_index=False\n",
    ")[\"Rule\"].nunique().to_frame().reset_index().rename(\n",
    "    columns={\"Rule\" : \"# rules\"}\n",
    ")\n",
    "\n",
    "\n",
    "df_n_rules_per_target.head()"
   ],
   "metadata": {
    "collapsed": false,
    "pycharm": {
     "name": "#%%\n"
    }
   }
  },
  {
   "cell_type": "markdown",
   "source": [
    "****\n",
    "# Format pretty table\n",
    "\n",
    "Goal:\n",
    "* put smallest value per row in BOLT\n",
    "* per target: noise level +0.0 and 0.01"
   ],
   "metadata": {
    "collapsed": false,
    "pycharm": {
     "name": "#%% md\n"
    }
   }
  },
  {
   "cell_type": "code",
   "execution_count": 32,
   "outputs": [
    {
     "data": {
      "text/plain": "array([0.9, 1. , 1.1])"
     },
     "execution_count": 32,
     "metadata": {},
     "output_type": "execute_result"
    }
   ],
   "source": [
    "df_conf_squared_errors_avg_over_trials_and_rules[\"noise_level\"].unique()"
   ],
   "metadata": {
    "collapsed": false,
    "pycharm": {
     "name": "#%%\n"
    }
   }
  },
  {
   "cell_type": "code",
   "execution_count": 33,
   "outputs": [
    {
     "data": {
      "text/plain": "   target_relation       CWA       ICW       IPW       PCA\n1          actedin  0.009002  0.005509  0.000152  0.000861\n16         created  0.083106  0.018787  0.006104  0.018811\n31       dealswith  0.012300  0.004319  0.000930  0.004645\n46          diedin  0.016054  0.003292  0.001255  0.014843\n61        directed  0.100014  0.012173  0.019268  0.027775",
      "text/html": "<div>\n<style scoped>\n    .dataframe tbody tr th:only-of-type {\n        vertical-align: middle;\n    }\n\n    .dataframe tbody tr th {\n        vertical-align: top;\n    }\n\n    .dataframe thead th {\n        text-align: right;\n    }\n</style>\n<table border=\"1\" class=\"dataframe\">\n  <thead>\n    <tr style=\"text-align: right;\">\n      <th></th>\n      <th>target_relation</th>\n      <th>CWA</th>\n      <th>ICW</th>\n      <th>IPW</th>\n      <th>PCA</th>\n    </tr>\n  </thead>\n  <tbody>\n    <tr>\n      <th>1</th>\n      <td>actedin</td>\n      <td>0.009002</td>\n      <td>0.005509</td>\n      <td>0.000152</td>\n      <td>0.000861</td>\n    </tr>\n    <tr>\n      <th>16</th>\n      <td>created</td>\n      <td>0.083106</td>\n      <td>0.018787</td>\n      <td>0.006104</td>\n      <td>0.018811</td>\n    </tr>\n    <tr>\n      <th>31</th>\n      <td>dealswith</td>\n      <td>0.012300</td>\n      <td>0.004319</td>\n      <td>0.000930</td>\n      <td>0.004645</td>\n    </tr>\n    <tr>\n      <th>46</th>\n      <td>diedin</td>\n      <td>0.016054</td>\n      <td>0.003292</td>\n      <td>0.001255</td>\n      <td>0.014843</td>\n    </tr>\n    <tr>\n      <th>61</th>\n      <td>directed</td>\n      <td>0.100014</td>\n      <td>0.012173</td>\n      <td>0.019268</td>\n      <td>0.027775</td>\n    </tr>\n  </tbody>\n</table>\n</div>"
     },
     "execution_count": 33,
     "metadata": {},
     "output_type": "execute_result"
    }
   ],
   "source": [
    "log_growth_rate_to_noise_level_to_df_map: Dict[float, Dict[float, pd.DataFrame]] = dict()\n",
    "for log_growth_rate in log_growth_rate_list:\n",
    "    df_log_growth_rate_tmp: pd.DataFrame = df_conf_squared_errors_avg_over_trials_and_rules[\n",
    "        df_conf_squared_errors_avg_over_trials_and_rules[\"log_growth_rate\"] == log_growth_rate\n",
    "    ]\n",
    "    noise_level_to_df_map = dict()\n",
    "    log_growth_rate_to_noise_level_to_df_map[log_growth_rate] = noise_level_to_df_map\n",
    "\n",
    "    for noise_level in noise_levels:\n",
    "        df_log_growth_rate_and_noise_level_tmp: pd.DataFrame = df_log_growth_rate_tmp[\n",
    "            df_log_growth_rate_tmp[\"noise_level\"] == noise_level\n",
    "        ]\n",
    "        noise_level_to_df_map[noise_level] = df_log_growth_rate_and_noise_level_tmp[\n",
    "            [col for col in df_log_growth_rate_and_noise_level_tmp.columns if col != \"noise_level\" and col != \"log_growth_rate\"]\n",
    "        ]\n",
    "\n",
    "log_growth_rate_to_noise_level_to_df_map[0.01][noise_level_no_noise].head()\n",
    "\n"
   ],
   "metadata": {
    "collapsed": false,
    "pycharm": {
     "name": "#%%\n"
    }
   }
  },
  {
   "cell_type": "code",
   "execution_count": 34,
   "outputs": [
    {
     "data": {
      "text/plain": "  target_relation       CWA       ICW       IPW       PCA  IPW_lower  \\\n0         actedin  0.009002  0.005509  0.000152  0.000861   0.000418   \n1         created  0.083106  0.018787  0.006104  0.018811   0.006373   \n2       dealswith  0.012300  0.004319  0.000930  0.004645   0.001911   \n3          diedin  0.016054  0.003292  0.001255  0.014843   0.001424   \n4        directed  0.100014  0.012173  0.019268  0.027775   0.028452   \n\n   IPW_higher  \n0    0.000142  \n1    0.007380  \n2    0.000645  \n3    0.001410  \n4    0.014690  ",
      "text/html": "<div>\n<style scoped>\n    .dataframe tbody tr th:only-of-type {\n        vertical-align: middle;\n    }\n\n    .dataframe tbody tr th {\n        vertical-align: top;\n    }\n\n    .dataframe thead th {\n        text-align: right;\n    }\n</style>\n<table border=\"1\" class=\"dataframe\">\n  <thead>\n    <tr style=\"text-align: right;\">\n      <th></th>\n      <th>target_relation</th>\n      <th>CWA</th>\n      <th>ICW</th>\n      <th>IPW</th>\n      <th>PCA</th>\n      <th>IPW_lower</th>\n      <th>IPW_higher</th>\n    </tr>\n  </thead>\n  <tbody>\n    <tr>\n      <th>0</th>\n      <td>actedin</td>\n      <td>0.009002</td>\n      <td>0.005509</td>\n      <td>0.000152</td>\n      <td>0.000861</td>\n      <td>0.000418</td>\n      <td>0.000142</td>\n    </tr>\n    <tr>\n      <th>1</th>\n      <td>created</td>\n      <td>0.083106</td>\n      <td>0.018787</td>\n      <td>0.006104</td>\n      <td>0.018811</td>\n      <td>0.006373</td>\n      <td>0.007380</td>\n    </tr>\n    <tr>\n      <th>2</th>\n      <td>dealswith</td>\n      <td>0.012300</td>\n      <td>0.004319</td>\n      <td>0.000930</td>\n      <td>0.004645</td>\n      <td>0.001911</td>\n      <td>0.000645</td>\n    </tr>\n    <tr>\n      <th>3</th>\n      <td>diedin</td>\n      <td>0.016054</td>\n      <td>0.003292</td>\n      <td>0.001255</td>\n      <td>0.014843</td>\n      <td>0.001424</td>\n      <td>0.001410</td>\n    </tr>\n    <tr>\n      <th>4</th>\n      <td>directed</td>\n      <td>0.100014</td>\n      <td>0.012173</td>\n      <td>0.019268</td>\n      <td>0.027775</td>\n      <td>0.028452</td>\n      <td>0.014690</td>\n    </tr>\n  </tbody>\n</table>\n</div>"
     },
     "execution_count": 34,
     "metadata": {},
     "output_type": "execute_result"
    }
   ],
   "source": [
    "from typing import Iterator\n",
    "\n",
    "noiseless_log_growth_rate_to_df_map = dict()\n",
    "\n",
    "label_freq_estimators: Iterator[float]\n",
    "for log_growth_rate in log_growth_rate_list:\n",
    "    noise_level_to_df_map: Dict[float, pd.DataFrame]  = log_growth_rate_to_noise_level_to_df_map[log_growth_rate]\n",
    "\n",
    "    df_noiseless_log_growth_rate: pd.DataFrame = noise_level_to_df_map[noise_level_no_noise]\n",
    "\n",
    "    lower_noise: float = 0.9\n",
    "    higher_noise: float = 1.1\n",
    "\n",
    "\n",
    "    df_lower: pd.DataFrame = noise_level_to_df_map[lower_noise][\n",
    "        ['target_relation', ConfidenceEnum.IPW_CONF.value]\n",
    "    ].rename(\n",
    "        columns={\n",
    "            ConfidenceEnum.IPW_CONF.value: f\"{ConfidenceEnum.IPW_CONF.value}_lower\"\n",
    "        }\n",
    "    )\n",
    "    # break\n",
    "    # df_lower.head()\n",
    "    df_noiseless_log_growth_rate = pd.merge(\n",
    "        left=df_noiseless_log_growth_rate,\n",
    "        right=df_lower,\n",
    "        on=\"target_relation\"\n",
    "    )\n",
    "\n",
    "\n",
    "    df_higher = noise_level_to_df_map[higher_noise][\n",
    "        ['target_relation', ConfidenceEnum.IPW_CONF.value]\n",
    "    ].rename(\n",
    "        columns={\n",
    "            ConfidenceEnum.IPW_CONF.value: f\"{ConfidenceEnum.IPW_CONF.value}_higher\"\n",
    "        }\n",
    "    )\n",
    "\n",
    "    df_noiseless_log_growth_rate = pd.merge(\n",
    "        left=df_noiseless_log_growth_rate,\n",
    "        right=df_higher,\n",
    "        on=\"target_relation\"\n",
    "    )\n",
    "\n",
    "    noiseless_log_growth_rate_to_df_map[log_growth_rate] = df_noiseless_log_growth_rate\n",
    "\n",
    "noiseless_log_growth_rate_to_df_map[0.01].head()\n",
    "\n"
   ],
   "metadata": {
    "collapsed": false,
    "pycharm": {
     "name": "#%%\n"
    }
   }
  },
  {
   "cell_type": "code",
   "execution_count": 35,
   "outputs": [
    {
     "data": {
      "text/plain": "[0.01, 0.05, 0.1, 0.5, 1]"
     },
     "execution_count": 35,
     "metadata": {},
     "output_type": "execute_result"
    }
   ],
   "source": [
    "log_growth_rate_list"
   ],
   "metadata": {
    "collapsed": false,
    "pycharm": {
     "name": "#%%\n"
    }
   }
  },
  {
   "cell_type": "code",
   "execution_count": 36,
   "outputs": [
    {
     "data": {
      "text/plain": "  target_relation  CWA_0.01  ICW_0.01  IPW_0.01  PCA_0.01  IPW_lower_0.01  \\\n0         actedin  0.009002  0.005509  0.000152  0.000861        0.000418   \n1         created  0.083106  0.018787  0.006104  0.018811        0.006373   \n2       dealswith  0.012300  0.004319  0.000930  0.004645        0.001911   \n3          diedin  0.016054  0.003292  0.001255  0.014843        0.001424   \n4        directed  0.100014  0.012173  0.019268  0.027775        0.028452   \n\n   IPW_higher_0.01   CWA_0.1   ICW_0.1   IPW_0.1   PCA_0.1  IPW_lower_0.1  \\\n0         0.000142  0.002170  0.004424  0.000018  0.009314       0.000129   \n1         0.007380  0.019790  0.000866  0.000313  0.020267       0.001022   \n2         0.000645  0.000077  0.000037  0.000018  0.002346       0.000029   \n3         0.001410  0.005988  0.000554  0.000027  0.008339       0.000207   \n4         0.014690  0.024723  0.004312  0.000345  0.021924       0.001521   \n\n   IPW_higher_0.1  \n0        0.000037  \n1        0.000651  \n2        0.000019  \n3        0.000119  \n4        0.000591  ",
      "text/html": "<div>\n<style scoped>\n    .dataframe tbody tr th:only-of-type {\n        vertical-align: middle;\n    }\n\n    .dataframe tbody tr th {\n        vertical-align: top;\n    }\n\n    .dataframe thead th {\n        text-align: right;\n    }\n</style>\n<table border=\"1\" class=\"dataframe\">\n  <thead>\n    <tr style=\"text-align: right;\">\n      <th></th>\n      <th>target_relation</th>\n      <th>CWA_0.01</th>\n      <th>ICW_0.01</th>\n      <th>IPW_0.01</th>\n      <th>PCA_0.01</th>\n      <th>IPW_lower_0.01</th>\n      <th>IPW_higher_0.01</th>\n      <th>CWA_0.1</th>\n      <th>ICW_0.1</th>\n      <th>IPW_0.1</th>\n      <th>PCA_0.1</th>\n      <th>IPW_lower_0.1</th>\n      <th>IPW_higher_0.1</th>\n    </tr>\n  </thead>\n  <tbody>\n    <tr>\n      <th>0</th>\n      <td>actedin</td>\n      <td>0.009002</td>\n      <td>0.005509</td>\n      <td>0.000152</td>\n      <td>0.000861</td>\n      <td>0.000418</td>\n      <td>0.000142</td>\n      <td>0.002170</td>\n      <td>0.004424</td>\n      <td>0.000018</td>\n      <td>0.009314</td>\n      <td>0.000129</td>\n      <td>0.000037</td>\n    </tr>\n    <tr>\n      <th>1</th>\n      <td>created</td>\n      <td>0.083106</td>\n      <td>0.018787</td>\n      <td>0.006104</td>\n      <td>0.018811</td>\n      <td>0.006373</td>\n      <td>0.007380</td>\n      <td>0.019790</td>\n      <td>0.000866</td>\n      <td>0.000313</td>\n      <td>0.020267</td>\n      <td>0.001022</td>\n      <td>0.000651</td>\n    </tr>\n    <tr>\n      <th>2</th>\n      <td>dealswith</td>\n      <td>0.012300</td>\n      <td>0.004319</td>\n      <td>0.000930</td>\n      <td>0.004645</td>\n      <td>0.001911</td>\n      <td>0.000645</td>\n      <td>0.000077</td>\n      <td>0.000037</td>\n      <td>0.000018</td>\n      <td>0.002346</td>\n      <td>0.000029</td>\n      <td>0.000019</td>\n    </tr>\n    <tr>\n      <th>3</th>\n      <td>diedin</td>\n      <td>0.016054</td>\n      <td>0.003292</td>\n      <td>0.001255</td>\n      <td>0.014843</td>\n      <td>0.001424</td>\n      <td>0.001410</td>\n      <td>0.005988</td>\n      <td>0.000554</td>\n      <td>0.000027</td>\n      <td>0.008339</td>\n      <td>0.000207</td>\n      <td>0.000119</td>\n    </tr>\n    <tr>\n      <th>4</th>\n      <td>directed</td>\n      <td>0.100014</td>\n      <td>0.012173</td>\n      <td>0.019268</td>\n      <td>0.027775</td>\n      <td>0.028452</td>\n      <td>0.014690</td>\n      <td>0.024723</td>\n      <td>0.004312</td>\n      <td>0.000345</td>\n      <td>0.021924</td>\n      <td>0.001521</td>\n      <td>0.000591</td>\n    </tr>\n  </tbody>\n</table>\n</div>"
     },
     "execution_count": 36,
     "metadata": {},
     "output_type": "execute_result"
    }
   ],
   "source": [
    "first_log_growth_rate_to_include = 0.01\n",
    "second_log_growth_rate_to_include = 0.1\n",
    "\n",
    "df_one_row_per_target = pd.merge(\n",
    "    left=noiseless_log_growth_rate_to_df_map[first_log_growth_rate_to_include],\n",
    "    right=noiseless_log_growth_rate_to_df_map[second_log_growth_rate_to_include],\n",
    "    on=\"target_relation\",\n",
    "    suffixes=(\n",
    "        f\"_{first_log_growth_rate_to_include}\",\n",
    "        f\"_{second_log_growth_rate_to_include}\")\n",
    ")\n",
    "df_one_row_per_target.head()"
   ],
   "metadata": {
    "collapsed": false,
    "pycharm": {
     "name": "#%%\n"
    }
   }
  },
  {
   "cell_type": "markdown",
   "source": [
    "## What is the smallest value?"
   ],
   "metadata": {
    "collapsed": false,
    "pycharm": {
     "name": "#%% md\n"
    }
   }
  },
  {
   "cell_type": "code",
   "execution_count": 37,
   "outputs": [
    {
     "data": {
      "text/plain": "7.400770684479044e-06"
     },
     "execution_count": 37,
     "metadata": {},
     "output_type": "execute_result"
    }
   ],
   "source": [
    "all_values: np.ndarray = df_one_row_per_target[\n",
    "    [ col\n",
    "      for col in df_one_row_per_target.columns\n",
    "      if col != \"target_relation\"\n",
    "      ]\n",
    "].values\n",
    "\n",
    "min_val = np.amin(all_values)\n",
    "min_val"
   ],
   "metadata": {
    "collapsed": false,
    "pycharm": {
     "name": "#%%\n"
    }
   }
  },
  {
   "cell_type": "code",
   "execution_count": 38,
   "outputs": [
    {
     "data": {
      "text/plain": "0.07400770684479044"
     },
     "execution_count": 38,
     "metadata": {},
     "output_type": "execute_result"
    }
   ],
   "source": [
    "min_val * 10000"
   ],
   "metadata": {
    "collapsed": false,
    "pycharm": {
     "name": "#%%\n"
    }
   }
  },
  {
   "cell_type": "code",
   "execution_count": 39,
   "outputs": [
    {
     "data": {
      "text/plain": "0.2649064640128459"
     },
     "execution_count": 39,
     "metadata": {},
     "output_type": "execute_result"
    }
   ],
   "source": [
    "max_val = np.amax(all_values)\n",
    "max_val"
   ],
   "metadata": {
    "collapsed": false,
    "pycharm": {
     "name": "#%%\n"
    }
   }
  },
  {
   "cell_type": "code",
   "execution_count": 40,
   "outputs": [
    {
     "data": {
      "text/plain": "2649.064640128459"
     },
     "execution_count": 40,
     "metadata": {},
     "output_type": "execute_result"
    }
   ],
   "source": [
    "max_val * 10000"
   ],
   "metadata": {
    "collapsed": false,
    "pycharm": {
     "name": "#%%\n"
    }
   }
  },
  {
   "cell_type": "code",
   "execution_count": 41,
   "outputs": [
    {
     "data": {
      "text/plain": "                                     target_relation     CWA_0.01    ICW_0.01  \\\n0  actedinactedinactedinactedinactedinactedinacte...    90.017227   55.086609   \n1  createdcreatedcreatedcreatedcreatedcreatedcrea...   831.060109  187.870776   \n2  dealswithdealswithdealswithdealswithdealswithd...   123.001596   43.192387   \n3  diedindiedindiedindiedindiedindiedindiedindied...   160.535336   32.919265   \n4  directeddirecteddirecteddirecteddirecteddirect...  1000.139466  121.726191   \n\n     IPW_0.01    PCA_0.01  IPW_lower_0.01  IPW_higher_0.01     CWA_0.1  \\\n0    1.520177    8.608356        4.175971         1.415528   21.704609   \n1   61.044488  188.114380       63.730342        73.796016  197.900411   \n2    9.301353   46.445522       19.108806         6.452090    0.765903   \n3   12.552012  148.431334       14.242989        14.100801   59.879302   \n4  192.679267  277.754081      284.524519       146.902060  247.225601   \n\n     ICW_0.1   IPW_0.1     PCA_0.1  IPW_lower_0.1  IPW_higher_0.1  \n0  44.235785  0.181743   93.137442       1.293013        0.373449  \n1   8.659567  3.133540  202.667843      10.221416        6.514330  \n2   0.367184  0.177912   23.460657       0.288217        0.193411  \n3   5.535506  0.274268   83.391168       2.071926        1.191496  \n4  43.121416  3.452956  219.239306      15.210912        5.908889  ",
      "text/html": "<div>\n<style scoped>\n    .dataframe tbody tr th:only-of-type {\n        vertical-align: middle;\n    }\n\n    .dataframe tbody tr th {\n        vertical-align: top;\n    }\n\n    .dataframe thead th {\n        text-align: right;\n    }\n</style>\n<table border=\"1\" class=\"dataframe\">\n  <thead>\n    <tr style=\"text-align: right;\">\n      <th></th>\n      <th>target_relation</th>\n      <th>CWA_0.01</th>\n      <th>ICW_0.01</th>\n      <th>IPW_0.01</th>\n      <th>PCA_0.01</th>\n      <th>IPW_lower_0.01</th>\n      <th>IPW_higher_0.01</th>\n      <th>CWA_0.1</th>\n      <th>ICW_0.1</th>\n      <th>IPW_0.1</th>\n      <th>PCA_0.1</th>\n      <th>IPW_lower_0.1</th>\n      <th>IPW_higher_0.1</th>\n    </tr>\n  </thead>\n  <tbody>\n    <tr>\n      <th>0</th>\n      <td>actedinactedinactedinactedinactedinactedinacte...</td>\n      <td>90.017227</td>\n      <td>55.086609</td>\n      <td>1.520177</td>\n      <td>8.608356</td>\n      <td>4.175971</td>\n      <td>1.415528</td>\n      <td>21.704609</td>\n      <td>44.235785</td>\n      <td>0.181743</td>\n      <td>93.137442</td>\n      <td>1.293013</td>\n      <td>0.373449</td>\n    </tr>\n    <tr>\n      <th>1</th>\n      <td>createdcreatedcreatedcreatedcreatedcreatedcrea...</td>\n      <td>831.060109</td>\n      <td>187.870776</td>\n      <td>61.044488</td>\n      <td>188.114380</td>\n      <td>63.730342</td>\n      <td>73.796016</td>\n      <td>197.900411</td>\n      <td>8.659567</td>\n      <td>3.133540</td>\n      <td>202.667843</td>\n      <td>10.221416</td>\n      <td>6.514330</td>\n    </tr>\n    <tr>\n      <th>2</th>\n      <td>dealswithdealswithdealswithdealswithdealswithd...</td>\n      <td>123.001596</td>\n      <td>43.192387</td>\n      <td>9.301353</td>\n      <td>46.445522</td>\n      <td>19.108806</td>\n      <td>6.452090</td>\n      <td>0.765903</td>\n      <td>0.367184</td>\n      <td>0.177912</td>\n      <td>23.460657</td>\n      <td>0.288217</td>\n      <td>0.193411</td>\n    </tr>\n    <tr>\n      <th>3</th>\n      <td>diedindiedindiedindiedindiedindiedindiedindied...</td>\n      <td>160.535336</td>\n      <td>32.919265</td>\n      <td>12.552012</td>\n      <td>148.431334</td>\n      <td>14.242989</td>\n      <td>14.100801</td>\n      <td>59.879302</td>\n      <td>5.535506</td>\n      <td>0.274268</td>\n      <td>83.391168</td>\n      <td>2.071926</td>\n      <td>1.191496</td>\n    </tr>\n    <tr>\n      <th>4</th>\n      <td>directeddirecteddirecteddirecteddirecteddirect...</td>\n      <td>1000.139466</td>\n      <td>121.726191</td>\n      <td>192.679267</td>\n      <td>277.754081</td>\n      <td>284.524519</td>\n      <td>146.902060</td>\n      <td>247.225601</td>\n      <td>43.121416</td>\n      <td>3.452956</td>\n      <td>219.239306</td>\n      <td>15.210912</td>\n      <td>5.908889</td>\n    </tr>\n  </tbody>\n</table>\n</div>"
     },
     "execution_count": 41,
     "metadata": {},
     "output_type": "execute_result"
    }
   ],
   "source": [
    "df_one_row_per_target.head() * 10000"
   ],
   "metadata": {
    "collapsed": false,
    "pycharm": {
     "name": "#%%\n"
    }
   }
  },
  {
   "cell_type": "code",
   "execution_count": 42,
   "outputs": [
    {
     "data": {
      "text/plain": "target_relation     object\nCWA_0.01           float64\nICW_0.01           float64\nIPW_0.01           float64\nPCA_0.01           float64\nIPW_lower_0.01     float64\nIPW_higher_0.01    float64\nCWA_0.1            float64\nICW_0.1            float64\nIPW_0.1            float64\nPCA_0.1            float64\nIPW_lower_0.1      float64\nIPW_higher_0.1     float64\ndtype: object"
     },
     "execution_count": 42,
     "metadata": {},
     "output_type": "execute_result"
    }
   ],
   "source": [
    "df_one_row_per_target.dtypes"
   ],
   "metadata": {
    "collapsed": false,
    "pycharm": {
     "name": "#%%\n"
    }
   }
  },
  {
   "cell_type": "code",
   "execution_count": 43,
   "outputs": [
    {
     "data": {
      "text/plain": "10000"
     },
     "execution_count": 43,
     "metadata": {},
     "output_type": "execute_result"
    }
   ],
   "source": [
    "exponent = 4\n",
    "\n",
    "multiplication_factor = 10 ** exponent\n",
    "multiplication_factor"
   ],
   "metadata": {
    "collapsed": false,
    "pycharm": {
     "name": "#%%\n"
    }
   }
  },
  {
   "cell_type": "code",
   "execution_count": 44,
   "outputs": [
    {
     "data": {
      "text/plain": "   target_relation     CWA_0.01     ICW_0.01    IPW_0.01     PCA_0.01  \\\n0          actedin    90.017227    55.086609    1.520177     8.608356   \n1          created   831.060109   187.870776   61.044488   188.114380   \n2        dealswith   123.001596    43.192387    9.301353    46.445522   \n3           diedin   160.535336    32.919265   12.552012   148.431334   \n4         directed  1000.139466   121.726191  192.679267   277.754081   \n5          exports    31.324256     1.640039   13.096302    16.222405   \n6    graduatedfrom   476.786566    37.842347   18.376165   259.993822   \n7       happenedin   761.461212    78.070550   14.188279   602.554453   \n8       hascapital    72.181140    49.124517    6.667978   404.749582   \n9      hasneighbor   110.118481    26.031879    9.379282    12.787871   \n10         imports    35.673681     5.979335    3.102509     7.633083   \n11     iscitizenof   434.430149    69.583408   77.436392   290.617970   \n12   isconnectedto   129.165610    22.927507   18.367837    90.350819   \n13      isleaderof   105.968858   105.968858  105.968858   105.968858   \n14     islocatedin  2649.064640  1903.730853  226.042179  1415.052293   \n15     ismarriedto   105.162800    21.040522    3.122231    94.197594   \n16  ispoliticianof  1200.909663   349.127181  425.900018   745.424908   \n17         livesin   145.892138    19.677408   22.219638   214.144414   \n18  participatedin   399.232699   275.485457    5.643593   167.741700   \n19       wasbornin   241.191434    50.140373    9.594626   148.116300   \n20         worksat   526.643070    80.392511   82.812302   302.466376   \n\n    IPW_lower_0.01  IPW_higher_0.01      CWA_0.1     ICW_0.1    IPW_0.1  \\\n0         4.175971         1.415528    21.704609   44.235785   0.181743   \n1        63.730342        73.796016   197.900411    8.659567   3.133540   \n2        19.108806         6.452090     0.765903    0.367184   0.177912   \n3        14.242989        14.100801    59.879302    5.535506   0.274268   \n4       284.524519       146.902060   247.225601   43.121416   3.452956   \n5        17.350232        11.161703     0.110069    0.145113   0.107495   \n6        23.865551        23.059943   162.240162    1.892679   1.699344   \n7        28.706332        16.358138   346.315204   27.663051   1.066135   \n8         9.394169         6.579504    19.661899   51.779118   0.509042   \n9        15.935822         8.664088     0.372780    0.225620   0.156667   \n10        3.657169         3.825050     0.204645    0.144837   0.074008   \n11      102.022335        67.741550   128.983380    7.920944   7.430466   \n12       22.338079        14.108633    93.639076    4.319513   3.500675   \n13      105.968858       105.968858    52.876298   23.095737  12.563322   \n14      235.557940       243.359278  1500.072081  765.975053  14.308400   \n15        5.697684         3.231689    45.312038    7.070988   0.155228   \n16      591.074729       330.664782   417.827172   18.767934  16.919259   \n17       28.444316        20.355010    42.818103    4.322548   2.038709   \n18       17.084708         7.290323    35.995206    7.330075   0.144691   \n19       13.066955        11.427614    95.550336   31.789664   0.678580   \n20      112.210867        71.461739   148.599132   16.206402   4.201051   \n\n       PCA_0.1  IPW_lower_0.1  IPW_higher_0.1  \n0    93.137442       1.293013        0.373449  \n1   202.667843      10.221416        6.514330  \n2    23.460657       0.288217        0.193411  \n3    83.391168       2.071926        1.191496  \n4   219.239306      15.210912        5.908889  \n5     3.234288       0.159197        0.085727  \n6    76.746310       8.381784        3.484546  \n7   210.309399       8.486935        6.674478  \n8   654.188579       1.239141        0.603147  \n9    51.254143       0.190293        0.172166  \n10    4.617595       0.097713        0.076882  \n11  125.263765      12.609417        9.191399  \n12   27.103246       6.400397        3.613913  \n13  343.777278      15.381278       11.994163  \n14  672.754549      26.801657       40.583984  \n15  117.472232       1.340667        0.830558  \n16  432.855559      22.871316       28.286170  \n17  314.790278       5.313565        1.645772  \n18   60.229520       1.345314        0.997843  \n19   62.786570       1.941240        3.058120  \n20   56.943137      12.828230        4.735297  ",
      "text/html": "<div>\n<style scoped>\n    .dataframe tbody tr th:only-of-type {\n        vertical-align: middle;\n    }\n\n    .dataframe tbody tr th {\n        vertical-align: top;\n    }\n\n    .dataframe thead th {\n        text-align: right;\n    }\n</style>\n<table border=\"1\" class=\"dataframe\">\n  <thead>\n    <tr style=\"text-align: right;\">\n      <th></th>\n      <th>target_relation</th>\n      <th>CWA_0.01</th>\n      <th>ICW_0.01</th>\n      <th>IPW_0.01</th>\n      <th>PCA_0.01</th>\n      <th>IPW_lower_0.01</th>\n      <th>IPW_higher_0.01</th>\n      <th>CWA_0.1</th>\n      <th>ICW_0.1</th>\n      <th>IPW_0.1</th>\n      <th>PCA_0.1</th>\n      <th>IPW_lower_0.1</th>\n      <th>IPW_higher_0.1</th>\n    </tr>\n  </thead>\n  <tbody>\n    <tr>\n      <th>0</th>\n      <td>actedin</td>\n      <td>90.017227</td>\n      <td>55.086609</td>\n      <td>1.520177</td>\n      <td>8.608356</td>\n      <td>4.175971</td>\n      <td>1.415528</td>\n      <td>21.704609</td>\n      <td>44.235785</td>\n      <td>0.181743</td>\n      <td>93.137442</td>\n      <td>1.293013</td>\n      <td>0.373449</td>\n    </tr>\n    <tr>\n      <th>1</th>\n      <td>created</td>\n      <td>831.060109</td>\n      <td>187.870776</td>\n      <td>61.044488</td>\n      <td>188.114380</td>\n      <td>63.730342</td>\n      <td>73.796016</td>\n      <td>197.900411</td>\n      <td>8.659567</td>\n      <td>3.133540</td>\n      <td>202.667843</td>\n      <td>10.221416</td>\n      <td>6.514330</td>\n    </tr>\n    <tr>\n      <th>2</th>\n      <td>dealswith</td>\n      <td>123.001596</td>\n      <td>43.192387</td>\n      <td>9.301353</td>\n      <td>46.445522</td>\n      <td>19.108806</td>\n      <td>6.452090</td>\n      <td>0.765903</td>\n      <td>0.367184</td>\n      <td>0.177912</td>\n      <td>23.460657</td>\n      <td>0.288217</td>\n      <td>0.193411</td>\n    </tr>\n    <tr>\n      <th>3</th>\n      <td>diedin</td>\n      <td>160.535336</td>\n      <td>32.919265</td>\n      <td>12.552012</td>\n      <td>148.431334</td>\n      <td>14.242989</td>\n      <td>14.100801</td>\n      <td>59.879302</td>\n      <td>5.535506</td>\n      <td>0.274268</td>\n      <td>83.391168</td>\n      <td>2.071926</td>\n      <td>1.191496</td>\n    </tr>\n    <tr>\n      <th>4</th>\n      <td>directed</td>\n      <td>1000.139466</td>\n      <td>121.726191</td>\n      <td>192.679267</td>\n      <td>277.754081</td>\n      <td>284.524519</td>\n      <td>146.902060</td>\n      <td>247.225601</td>\n      <td>43.121416</td>\n      <td>3.452956</td>\n      <td>219.239306</td>\n      <td>15.210912</td>\n      <td>5.908889</td>\n    </tr>\n    <tr>\n      <th>5</th>\n      <td>exports</td>\n      <td>31.324256</td>\n      <td>1.640039</td>\n      <td>13.096302</td>\n      <td>16.222405</td>\n      <td>17.350232</td>\n      <td>11.161703</td>\n      <td>0.110069</td>\n      <td>0.145113</td>\n      <td>0.107495</td>\n      <td>3.234288</td>\n      <td>0.159197</td>\n      <td>0.085727</td>\n    </tr>\n    <tr>\n      <th>6</th>\n      <td>graduatedfrom</td>\n      <td>476.786566</td>\n      <td>37.842347</td>\n      <td>18.376165</td>\n      <td>259.993822</td>\n      <td>23.865551</td>\n      <td>23.059943</td>\n      <td>162.240162</td>\n      <td>1.892679</td>\n      <td>1.699344</td>\n      <td>76.746310</td>\n      <td>8.381784</td>\n      <td>3.484546</td>\n    </tr>\n    <tr>\n      <th>7</th>\n      <td>happenedin</td>\n      <td>761.461212</td>\n      <td>78.070550</td>\n      <td>14.188279</td>\n      <td>602.554453</td>\n      <td>28.706332</td>\n      <td>16.358138</td>\n      <td>346.315204</td>\n      <td>27.663051</td>\n      <td>1.066135</td>\n      <td>210.309399</td>\n      <td>8.486935</td>\n      <td>6.674478</td>\n    </tr>\n    <tr>\n      <th>8</th>\n      <td>hascapital</td>\n      <td>72.181140</td>\n      <td>49.124517</td>\n      <td>6.667978</td>\n      <td>404.749582</td>\n      <td>9.394169</td>\n      <td>6.579504</td>\n      <td>19.661899</td>\n      <td>51.779118</td>\n      <td>0.509042</td>\n      <td>654.188579</td>\n      <td>1.239141</td>\n      <td>0.603147</td>\n    </tr>\n    <tr>\n      <th>9</th>\n      <td>hasneighbor</td>\n      <td>110.118481</td>\n      <td>26.031879</td>\n      <td>9.379282</td>\n      <td>12.787871</td>\n      <td>15.935822</td>\n      <td>8.664088</td>\n      <td>0.372780</td>\n      <td>0.225620</td>\n      <td>0.156667</td>\n      <td>51.254143</td>\n      <td>0.190293</td>\n      <td>0.172166</td>\n    </tr>\n    <tr>\n      <th>10</th>\n      <td>imports</td>\n      <td>35.673681</td>\n      <td>5.979335</td>\n      <td>3.102509</td>\n      <td>7.633083</td>\n      <td>3.657169</td>\n      <td>3.825050</td>\n      <td>0.204645</td>\n      <td>0.144837</td>\n      <td>0.074008</td>\n      <td>4.617595</td>\n      <td>0.097713</td>\n      <td>0.076882</td>\n    </tr>\n    <tr>\n      <th>11</th>\n      <td>iscitizenof</td>\n      <td>434.430149</td>\n      <td>69.583408</td>\n      <td>77.436392</td>\n      <td>290.617970</td>\n      <td>102.022335</td>\n      <td>67.741550</td>\n      <td>128.983380</td>\n      <td>7.920944</td>\n      <td>7.430466</td>\n      <td>125.263765</td>\n      <td>12.609417</td>\n      <td>9.191399</td>\n    </tr>\n    <tr>\n      <th>12</th>\n      <td>isconnectedto</td>\n      <td>129.165610</td>\n      <td>22.927507</td>\n      <td>18.367837</td>\n      <td>90.350819</td>\n      <td>22.338079</td>\n      <td>14.108633</td>\n      <td>93.639076</td>\n      <td>4.319513</td>\n      <td>3.500675</td>\n      <td>27.103246</td>\n      <td>6.400397</td>\n      <td>3.613913</td>\n    </tr>\n    <tr>\n      <th>13</th>\n      <td>isleaderof</td>\n      <td>105.968858</td>\n      <td>105.968858</td>\n      <td>105.968858</td>\n      <td>105.968858</td>\n      <td>105.968858</td>\n      <td>105.968858</td>\n      <td>52.876298</td>\n      <td>23.095737</td>\n      <td>12.563322</td>\n      <td>343.777278</td>\n      <td>15.381278</td>\n      <td>11.994163</td>\n    </tr>\n    <tr>\n      <th>14</th>\n      <td>islocatedin</td>\n      <td>2649.064640</td>\n      <td>1903.730853</td>\n      <td>226.042179</td>\n      <td>1415.052293</td>\n      <td>235.557940</td>\n      <td>243.359278</td>\n      <td>1500.072081</td>\n      <td>765.975053</td>\n      <td>14.308400</td>\n      <td>672.754549</td>\n      <td>26.801657</td>\n      <td>40.583984</td>\n    </tr>\n    <tr>\n      <th>15</th>\n      <td>ismarriedto</td>\n      <td>105.162800</td>\n      <td>21.040522</td>\n      <td>3.122231</td>\n      <td>94.197594</td>\n      <td>5.697684</td>\n      <td>3.231689</td>\n      <td>45.312038</td>\n      <td>7.070988</td>\n      <td>0.155228</td>\n      <td>117.472232</td>\n      <td>1.340667</td>\n      <td>0.830558</td>\n    </tr>\n    <tr>\n      <th>16</th>\n      <td>ispoliticianof</td>\n      <td>1200.909663</td>\n      <td>349.127181</td>\n      <td>425.900018</td>\n      <td>745.424908</td>\n      <td>591.074729</td>\n      <td>330.664782</td>\n      <td>417.827172</td>\n      <td>18.767934</td>\n      <td>16.919259</td>\n      <td>432.855559</td>\n      <td>22.871316</td>\n      <td>28.286170</td>\n    </tr>\n    <tr>\n      <th>17</th>\n      <td>livesin</td>\n      <td>145.892138</td>\n      <td>19.677408</td>\n      <td>22.219638</td>\n      <td>214.144414</td>\n      <td>28.444316</td>\n      <td>20.355010</td>\n      <td>42.818103</td>\n      <td>4.322548</td>\n      <td>2.038709</td>\n      <td>314.790278</td>\n      <td>5.313565</td>\n      <td>1.645772</td>\n    </tr>\n    <tr>\n      <th>18</th>\n      <td>participatedin</td>\n      <td>399.232699</td>\n      <td>275.485457</td>\n      <td>5.643593</td>\n      <td>167.741700</td>\n      <td>17.084708</td>\n      <td>7.290323</td>\n      <td>35.995206</td>\n      <td>7.330075</td>\n      <td>0.144691</td>\n      <td>60.229520</td>\n      <td>1.345314</td>\n      <td>0.997843</td>\n    </tr>\n    <tr>\n      <th>19</th>\n      <td>wasbornin</td>\n      <td>241.191434</td>\n      <td>50.140373</td>\n      <td>9.594626</td>\n      <td>148.116300</td>\n      <td>13.066955</td>\n      <td>11.427614</td>\n      <td>95.550336</td>\n      <td>31.789664</td>\n      <td>0.678580</td>\n      <td>62.786570</td>\n      <td>1.941240</td>\n      <td>3.058120</td>\n    </tr>\n    <tr>\n      <th>20</th>\n      <td>worksat</td>\n      <td>526.643070</td>\n      <td>80.392511</td>\n      <td>82.812302</td>\n      <td>302.466376</td>\n      <td>112.210867</td>\n      <td>71.461739</td>\n      <td>148.599132</td>\n      <td>16.206402</td>\n      <td>4.201051</td>\n      <td>56.943137</td>\n      <td>12.828230</td>\n      <td>4.735297</td>\n    </tr>\n  </tbody>\n</table>\n</div>"
     },
     "execution_count": 44,
     "metadata": {},
     "output_type": "execute_result"
    }
   ],
   "source": [
    "df_one_row_per_target[\n",
    "    df_one_row_per_target.select_dtypes(include=['number']).columns\n",
    "] *= multiplication_factor\n",
    "\n",
    "df_one_row_per_target"
   ],
   "metadata": {
    "collapsed": false,
    "pycharm": {
     "name": "#%%\n"
    }
   }
  },
  {
   "cell_type": "code",
   "execution_count": 45,
   "outputs": [
    {
     "data": {
      "text/plain": "  target_relation     CWA_0.01    ICW_0.01    IPW_0.01    PCA_0.01  \\\n0         actedin    90.017227   55.086609    1.520177    8.608356   \n1         created   831.060109  187.870776   61.044488  188.114380   \n2       dealswith   123.001596   43.192387    9.301353   46.445522   \n3          diedin   160.535336   32.919265   12.552012  148.431334   \n4        directed  1000.139466  121.726191  192.679267  277.754081   \n\n   IPW_lower_0.01  IPW_higher_0.01     CWA_0.1    ICW_0.1   IPW_0.1  \\\n0        4.175971         1.415528   21.704609  44.235785  0.181743   \n1       63.730342        73.796016  197.900411   8.659567  3.133540   \n2       19.108806         6.452090    0.765903   0.367184  0.177912   \n3       14.242989        14.100801   59.879302   5.535506  0.274268   \n4      284.524519       146.902060  247.225601  43.121416  3.452956   \n\n      PCA_0.1  IPW_lower_0.1  IPW_higher_0.1  \n0   93.137442       1.293013        0.373449  \n1  202.667843      10.221416        6.514330  \n2   23.460657       0.288217        0.193411  \n3   83.391168       2.071926        1.191496  \n4  219.239306      15.210912        5.908889  ",
      "text/html": "<div>\n<style scoped>\n    .dataframe tbody tr th:only-of-type {\n        vertical-align: middle;\n    }\n\n    .dataframe tbody tr th {\n        vertical-align: top;\n    }\n\n    .dataframe thead th {\n        text-align: right;\n    }\n</style>\n<table border=\"1\" class=\"dataframe\">\n  <thead>\n    <tr style=\"text-align: right;\">\n      <th></th>\n      <th>target_relation</th>\n      <th>CWA_0.01</th>\n      <th>ICW_0.01</th>\n      <th>IPW_0.01</th>\n      <th>PCA_0.01</th>\n      <th>IPW_lower_0.01</th>\n      <th>IPW_higher_0.01</th>\n      <th>CWA_0.1</th>\n      <th>ICW_0.1</th>\n      <th>IPW_0.1</th>\n      <th>PCA_0.1</th>\n      <th>IPW_lower_0.1</th>\n      <th>IPW_higher_0.1</th>\n    </tr>\n  </thead>\n  <tbody>\n    <tr>\n      <th>0</th>\n      <td>actedin</td>\n      <td>90.017227</td>\n      <td>55.086609</td>\n      <td>1.520177</td>\n      <td>8.608356</td>\n      <td>4.175971</td>\n      <td>1.415528</td>\n      <td>21.704609</td>\n      <td>44.235785</td>\n      <td>0.181743</td>\n      <td>93.137442</td>\n      <td>1.293013</td>\n      <td>0.373449</td>\n    </tr>\n    <tr>\n      <th>1</th>\n      <td>created</td>\n      <td>831.060109</td>\n      <td>187.870776</td>\n      <td>61.044488</td>\n      <td>188.114380</td>\n      <td>63.730342</td>\n      <td>73.796016</td>\n      <td>197.900411</td>\n      <td>8.659567</td>\n      <td>3.133540</td>\n      <td>202.667843</td>\n      <td>10.221416</td>\n      <td>6.514330</td>\n    </tr>\n    <tr>\n      <th>2</th>\n      <td>dealswith</td>\n      <td>123.001596</td>\n      <td>43.192387</td>\n      <td>9.301353</td>\n      <td>46.445522</td>\n      <td>19.108806</td>\n      <td>6.452090</td>\n      <td>0.765903</td>\n      <td>0.367184</td>\n      <td>0.177912</td>\n      <td>23.460657</td>\n      <td>0.288217</td>\n      <td>0.193411</td>\n    </tr>\n    <tr>\n      <th>3</th>\n      <td>diedin</td>\n      <td>160.535336</td>\n      <td>32.919265</td>\n      <td>12.552012</td>\n      <td>148.431334</td>\n      <td>14.242989</td>\n      <td>14.100801</td>\n      <td>59.879302</td>\n      <td>5.535506</td>\n      <td>0.274268</td>\n      <td>83.391168</td>\n      <td>2.071926</td>\n      <td>1.191496</td>\n    </tr>\n    <tr>\n      <th>4</th>\n      <td>directed</td>\n      <td>1000.139466</td>\n      <td>121.726191</td>\n      <td>192.679267</td>\n      <td>277.754081</td>\n      <td>284.524519</td>\n      <td>146.902060</td>\n      <td>247.225601</td>\n      <td>43.121416</td>\n      <td>3.452956</td>\n      <td>219.239306</td>\n      <td>15.210912</td>\n      <td>5.908889</td>\n    </tr>\n  </tbody>\n</table>\n</div>"
     },
     "execution_count": 45,
     "metadata": {},
     "output_type": "execute_result"
    }
   ],
   "source": [
    "df_one_row_per_target.head()"
   ],
   "metadata": {
    "collapsed": false,
    "pycharm": {
     "name": "#%%\n"
    }
   }
  },
  {
   "cell_type": "markdown",
   "source": [
    "## Output files definitions"
   ],
   "metadata": {
    "collapsed": false,
    "pycharm": {
     "name": "#%% md\n"
    }
   }
  },
  {
   "cell_type": "code",
   "execution_count": 46,
   "outputs": [],
   "source": [
    "dir_latex_table: str = os.path.join(\n",
    "    kbc_e_metrics_project_dir,\n",
    "    \"paper_latex_tables\",\n",
    "    'known_prop_scores',\n",
    "    'sar_popularity'\n",
    ")\n",
    "\n",
    "if not os.path.exists(dir_latex_table):\n",
    "    os.makedirs(dir_latex_table)\n",
    "\n",
    "filename_tsv_rule_stats = os.path.join(\n",
    "    dir_latex_table,\n",
    "    \"conf_error_stats_v3.tsv\"\n",
    ")\n",
    "filename_tsv_single_row_summary = os.path.join(\n",
    "    dir_latex_table,\n",
    "    \"noisy_sar_popularity_single_row_summary.tsv\"\n",
    ")"
   ],
   "metadata": {
    "collapsed": false,
    "pycharm": {
     "name": "#%%\n"
    }
   }
  },
  {
   "cell_type": "markdown",
   "source": [
    "## Create single-row summary"
   ],
   "metadata": {
    "collapsed": false
   }
  },
  {
   "cell_type": "code",
   "execution_count": 47,
   "outputs": [
    {
     "name": "stderr",
     "output_type": "stream",
     "text": [
      "/tmp/ipykernel_57111/1788372146.py:1: FutureWarning: Dropping of nuisance columns in DataFrame reductions (with 'numeric_only=None') is deprecated; in a future version this will raise TypeError.  Select only valid columns before calling the reduction.\n",
      "  df_one_row_in_total: pd.Series = df_one_row_per_target.mean(\n"
     ]
    },
    {
     "data": {
      "text/plain": "CWA_0.01           458.569530\nICW_0.01           168.455141\nIPW_0.01            62.810261\nPCA_0.01           264.160768\nIPW_lower_0.01      81.817065\nIPW_higher_0.01     56.567828\nCWA_0.1            172.288258\nICW_0.1             50.979464\nIPW_0.1              3.465404\nPCA_0.1            182.677279\nIPW_lower_0.1        7.355887\nIPW_higher_0.1       6.200750\ndtype: float64"
     },
     "execution_count": 47,
     "metadata": {},
     "output_type": "execute_result"
    }
   ],
   "source": [
    "df_one_row_in_total: pd.Series = df_one_row_per_target.mean(\n",
    ")\n",
    "\n",
    "\n",
    "df_one_row_in_total"
   ],
   "metadata": {
    "collapsed": false,
    "pycharm": {
     "name": "#%%\n"
    }
   }
  },
  {
   "cell_type": "code",
   "execution_count": 48,
   "outputs": [
    {
     "data": {
      "text/plain": "  target_relation  # rules\n0         actedin        1\n1         created        2\n2       dealswith        7\n3          diedin        1\n4        directed        2",
      "text/html": "<div>\n<style scoped>\n    .dataframe tbody tr th:only-of-type {\n        vertical-align: middle;\n    }\n\n    .dataframe tbody tr th {\n        vertical-align: top;\n    }\n\n    .dataframe thead th {\n        text-align: right;\n    }\n</style>\n<table border=\"1\" class=\"dataframe\">\n  <thead>\n    <tr style=\"text-align: right;\">\n      <th></th>\n      <th>target_relation</th>\n      <th># rules</th>\n    </tr>\n  </thead>\n  <tbody>\n    <tr>\n      <th>0</th>\n      <td>actedin</td>\n      <td>1</td>\n    </tr>\n    <tr>\n      <th>1</th>\n      <td>created</td>\n      <td>2</td>\n    </tr>\n    <tr>\n      <th>2</th>\n      <td>dealswith</td>\n      <td>7</td>\n    </tr>\n    <tr>\n      <th>3</th>\n      <td>diedin</td>\n      <td>1</td>\n    </tr>\n    <tr>\n      <th>4</th>\n      <td>directed</td>\n      <td>2</td>\n    </tr>\n  </tbody>\n</table>\n</div>"
     },
     "execution_count": 48,
     "metadata": {},
     "output_type": "execute_result"
    }
   ],
   "source": [
    "df_n_rules_per_target.head()"
   ],
   "metadata": {
    "collapsed": false,
    "pycharm": {
     "name": "#%%\n"
    }
   }
  },
  {
   "cell_type": "code",
   "execution_count": 49,
   "outputs": [
    {
     "data": {
      "text/plain": "CWA_0.01           458.569530\nICW_0.01           168.455141\nIPW_0.01            62.810261\nPCA_0.01           264.160768\nIPW_lower_0.01      81.817065\nIPW_higher_0.01     56.567828\nCWA_0.1            172.288258\nICW_0.1             50.979464\nIPW_0.1              3.465404\nPCA_0.1            182.677279\nIPW_lower_0.1        7.355887\nIPW_higher_0.1       6.200750\n# rules             47.000000\ndtype: float64"
     },
     "execution_count": 49,
     "metadata": {},
     "output_type": "execute_result"
    }
   ],
   "source": [
    "df_one_row_in_total[\"# rules\"] = int(df_n_rules_per_target[\"# rules\"].sum())\n",
    "df_one_row_in_total"
   ],
   "metadata": {
    "collapsed": false,
    "pycharm": {
     "name": "#%%\n"
    }
   }
  },
  {
   "cell_type": "code",
   "execution_count": 50,
   "outputs": [
    {
     "data": {
      "text/plain": "pandas.core.series.Series"
     },
     "execution_count": 50,
     "metadata": {},
     "output_type": "execute_result"
    }
   ],
   "source": [
    "type(df_one_row_in_total)"
   ],
   "metadata": {
    "collapsed": false,
    "pycharm": {
     "name": "#%%\n"
    }
   }
  },
  {
   "cell_type": "code",
   "execution_count": 51,
   "outputs": [],
   "source": [
    "df_one_row_in_total.to_csv(\n",
    "    filename_tsv_single_row_summary,\n",
    "    sep = \"\\t\",\n",
    "    header=None\n",
    ")"
   ],
   "metadata": {
    "collapsed": false,
    "pycharm": {
     "name": "#%%\n"
    }
   }
  },
  {
   "cell_type": "markdown",
   "source": [
    "### Now create a pretty table"
   ],
   "metadata": {
    "collapsed": false
   }
  },
  {
   "cell_type": "code",
   "execution_count": 52,
   "outputs": [
    {
     "data": {
      "text/plain": "['CWA', 'ICW', 'PCA $p$', 'PCA ${p^{-1}}$', 'IPW']"
     },
     "execution_count": 52,
     "metadata": {},
     "output_type": "execute_result"
    }
   ],
   "source": [
    "column_names_info.column_names_conf_estimators"
   ],
   "metadata": {
    "collapsed": false,
    "pycharm": {
     "name": "#%%\n"
    }
   }
  },
  {
   "cell_type": "code",
   "execution_count": 53,
   "outputs": [],
   "source": [
    "simplified_column_names_conf_estimators = ['CWA', 'PCA', 'ICW', 'IPW',]"
   ],
   "metadata": {
    "collapsed": false,
    "pycharm": {
     "name": "#%%\n"
    }
   }
  },
  {
   "cell_type": "code",
   "execution_count": 54,
   "outputs": [
    {
     "data": {
      "text/plain": "MultiIndex([(     '$p$',                ''),\n            (    '\\# R',                ''),\n            ('$k=0.01$',             'CWA'),\n            ('$k=0.01$',             'PCA'),\n            ('$k=0.01$',             'ICW'),\n            ('$k=0.01$',             'IPW'),\n            ('$k=0.01$', 'IPW ($-\\Delta$)'),\n            ('$k=0.01$', 'IPW ($+\\Delta$)'),\n            ( '$k=0.1$',             'CWA'),\n            ( '$k=0.1$',             'PCA'),\n            ( '$k=0.1$',             'ICW'),\n            ( '$k=0.1$',             'IPW'),\n            ( '$k=0.1$', 'IPW ($-\\Delta$)'),\n            ( '$k=0.1$', 'IPW ($+\\Delta$)')],\n           )"
     },
     "execution_count": 54,
     "metadata": {},
     "output_type": "execute_result"
    }
   ],
   "source": [
    "multi_index_columns = [\n",
    "    (\"$p$\", \"\"),\n",
    "    (\"\\# R\", \"\")\n",
    "]\n",
    "from itertools import product\n",
    "\n",
    "# conf_upper_cols = column_names_info.column_names_conf_estimators + [\n",
    "#     f\"{ConfidenceEnum.IPW_CONF.value} \" + \"($\\Delta c=-\" + f\"{label_frequency_est_diff}\" + \"$)\",\n",
    "#     f\"{ConfidenceEnum.IPW_CONF.value} \" + \"($\\Delta c=\" + f\"{label_frequency_est_diff}\" + \"$)\",\n",
    "# ]\n",
    "conf_upper_cols = simplified_column_names_conf_estimators+ [\n",
    "    f\"{ConfidenceEnum.IPW_CONF.value} \" + \"($-\\Delta$)\",\n",
    "    f\"{ConfidenceEnum.IPW_CONF.value} \" + \"($+\\Delta$)\",\n",
    "]\n",
    "\n",
    "c_subcols = [f\"$k={first_log_growth_rate_to_include}$\", f\"$k={second_log_growth_rate_to_include}$\"]\n",
    "\n",
    "multi_index_columns = multi_index_columns + list(product(c_subcols, conf_upper_cols))\n",
    "# multi_index_list\n",
    "\n",
    "multi_index_columns = pd.MultiIndex.from_tuples(multi_index_columns)\n",
    "multi_index_columns"
   ],
   "metadata": {
    "collapsed": false,
    "pycharm": {
     "name": "#%%\n"
    }
   }
  },
  {
   "cell_type": "code",
   "execution_count": 55,
   "outputs": [
    {
     "data": {
      "text/plain": "         $p$ \\# R  $k=0.01$                                      \\\n                        CWA      PCA           ICW          IPW   \n0    actedin    1    $90.0$    $8.6$        $55.1$   $\\bm{1.5}$   \n1    created    2   $831.1$  $188.1$       $187.9$  $\\bm{61.0}$   \n2  dealswith    7   $123.0$   $46.4$        $43.2$   $\\bm{9.3}$   \n3     diedin    1   $160.5$  $148.4$        $32.9$  $\\bm{12.6}$   \n4   directed    2  $1000.1$  $277.8$  $\\bm{121.7}$      $192.7$   \n\n                                   $k=0.1$                               \\\n  IPW ($-\\Delta$) IPW ($+\\Delta$)      CWA      PCA     ICW         IPW   \n0           $4.2$           $1.4$   $21.7$   $93.1$  $44.2$  $\\bm{0.2}$   \n1          $63.7$          $73.8$  $197.9$  $202.7$   $8.7$  $\\bm{3.1}$   \n2          $19.1$           $6.5$    $0.8$   $23.5$   $0.4$  $\\bm{0.2}$   \n3          $14.2$          $14.1$   $59.9$   $83.4$   $5.5$  $\\bm{0.3}$   \n4         $284.5$         $146.9$  $247.2$  $219.2$  $43.1$  $\\bm{3.5}$   \n\n                                   \n  IPW ($-\\Delta$) IPW ($+\\Delta$)  \n0           $1.3$           $0.4$  \n1          $10.2$           $6.5$  \n2           $0.3$           $0.2$  \n3           $2.1$           $1.2$  \n4          $15.2$           $5.9$  ",
      "text/html": "<div>\n<style scoped>\n    .dataframe tbody tr th:only-of-type {\n        vertical-align: middle;\n    }\n\n    .dataframe tbody tr th {\n        vertical-align: top;\n    }\n\n    .dataframe thead tr th {\n        text-align: left;\n    }\n</style>\n<table border=\"1\" class=\"dataframe\">\n  <thead>\n    <tr>\n      <th></th>\n      <th>$p$</th>\n      <th>\\# R</th>\n      <th colspan=\"6\" halign=\"left\">$k=0.01$</th>\n      <th colspan=\"6\" halign=\"left\">$k=0.1$</th>\n    </tr>\n    <tr>\n      <th></th>\n      <th></th>\n      <th></th>\n      <th>CWA</th>\n      <th>PCA</th>\n      <th>ICW</th>\n      <th>IPW</th>\n      <th>IPW ($-\\Delta$)</th>\n      <th>IPW ($+\\Delta$)</th>\n      <th>CWA</th>\n      <th>PCA</th>\n      <th>ICW</th>\n      <th>IPW</th>\n      <th>IPW ($-\\Delta$)</th>\n      <th>IPW ($+\\Delta$)</th>\n    </tr>\n  </thead>\n  <tbody>\n    <tr>\n      <th>0</th>\n      <td>actedin</td>\n      <td>1</td>\n      <td>$90.0$</td>\n      <td>$8.6$</td>\n      <td>$55.1$</td>\n      <td>$\\bm{1.5}$</td>\n      <td>$4.2$</td>\n      <td>$1.4$</td>\n      <td>$21.7$</td>\n      <td>$93.1$</td>\n      <td>$44.2$</td>\n      <td>$\\bm{0.2}$</td>\n      <td>$1.3$</td>\n      <td>$0.4$</td>\n    </tr>\n    <tr>\n      <th>1</th>\n      <td>created</td>\n      <td>2</td>\n      <td>$831.1$</td>\n      <td>$188.1$</td>\n      <td>$187.9$</td>\n      <td>$\\bm{61.0}$</td>\n      <td>$63.7$</td>\n      <td>$73.8$</td>\n      <td>$197.9$</td>\n      <td>$202.7$</td>\n      <td>$8.7$</td>\n      <td>$\\bm{3.1}$</td>\n      <td>$10.2$</td>\n      <td>$6.5$</td>\n    </tr>\n    <tr>\n      <th>2</th>\n      <td>dealswith</td>\n      <td>7</td>\n      <td>$123.0$</td>\n      <td>$46.4$</td>\n      <td>$43.2$</td>\n      <td>$\\bm{9.3}$</td>\n      <td>$19.1$</td>\n      <td>$6.5$</td>\n      <td>$0.8$</td>\n      <td>$23.5$</td>\n      <td>$0.4$</td>\n      <td>$\\bm{0.2}$</td>\n      <td>$0.3$</td>\n      <td>$0.2$</td>\n    </tr>\n    <tr>\n      <th>3</th>\n      <td>diedin</td>\n      <td>1</td>\n      <td>$160.5$</td>\n      <td>$148.4$</td>\n      <td>$32.9$</td>\n      <td>$\\bm{12.6}$</td>\n      <td>$14.2$</td>\n      <td>$14.1$</td>\n      <td>$59.9$</td>\n      <td>$83.4$</td>\n      <td>$5.5$</td>\n      <td>$\\bm{0.3}$</td>\n      <td>$2.1$</td>\n      <td>$1.2$</td>\n    </tr>\n    <tr>\n      <th>4</th>\n      <td>directed</td>\n      <td>2</td>\n      <td>$1000.1$</td>\n      <td>$277.8$</td>\n      <td>$\\bm{121.7}$</td>\n      <td>$192.7$</td>\n      <td>$284.5$</td>\n      <td>$146.9$</td>\n      <td>$247.2$</td>\n      <td>$219.2$</td>\n      <td>$43.1$</td>\n      <td>$\\bm{3.5}$</td>\n      <td>$15.2$</td>\n      <td>$5.9$</td>\n    </tr>\n  </tbody>\n</table>\n</div>"
     },
     "execution_count": 55,
     "metadata": {},
     "output_type": "execute_result"
    }
   ],
   "source": [
    "\n",
    "rule_counter: int = 1\n",
    "rule_str_to_rule_id_map: Dict[str, int] = {}\n",
    "\n",
    "\n",
    "float_precision: int = 1\n",
    "\n",
    "col_name_conf_estimator: str\n",
    "\n",
    "\n",
    "pretty_rows: List[List] = []\n",
    "\n",
    "row_index: int\n",
    "row: pd.Series\n",
    "\n",
    "LogGrowthRate = float\n",
    "\n",
    "def get_dict_with_smallest_estimator_per_log_growth_rate(row: pd.Series) -> Dict[LogGrowthRate, Set[str]]:\n",
    "    # Find estimator with smallest mean value for label frequency###################\n",
    "    log_growth_rate_to_set_of_smallest_est_map: Dict[LogGrowthRate, Set[str]] = dict()\n",
    "\n",
    "    log_growth_rate: LogGrowthRate\n",
    "    for log_growth_rate in [first_log_growth_rate_to_include, second_log_growth_rate_to_include]:\n",
    "        o_set_of_col_names_with_min_value: Optional[Set[str]] = None\n",
    "        o_current_smallest_value: Optional[float] = None\n",
    "        # Find smallest squared error\n",
    "        for col_name_conf_estimator in simplified_column_names_conf_estimators:\n",
    "            current_val: float = row[f\"{col_name_conf_estimator}_{log_growth_rate}\"]\n",
    "\n",
    "            if o_set_of_col_names_with_min_value is None or o_current_smallest_value > current_val:\n",
    "                o_set_of_col_names_with_min_value = {col_name_conf_estimator}\n",
    "                o_current_smallest_value = current_val\n",
    "            elif current_val == o_current_smallest_value:\n",
    "                o_set_of_col_names_with_min_value.update(col_name_conf_estimator)\n",
    "\n",
    "        log_growth_rate_to_set_of_smallest_est_map[log_growth_rate] = o_set_of_col_names_with_min_value\n",
    "    return log_growth_rate_to_set_of_smallest_est_map\n",
    "\n",
    "\n",
    "def format_value_depending_on_whether_it_is_smallest(\n",
    "        value: float,\n",
    "        is_smallest: bool,\n",
    "        float_precision: float,\n",
    "        use_si: bool = False\n",
    ")-> str:\n",
    "    if is_smallest:\n",
    "        if not use_si:\n",
    "            formatted_value = \"$\\\\bm{\" + f\"{value:0.{float_precision}f}\" + \"}$\"\n",
    "            # formatted_value = \"$\\\\bm{\" + f\"{value:0.{float_precision}e}\" + \"}$\"\n",
    "        else:\n",
    "            formatted_value = \"\\\\textbf{$\" + f\"\\\\num[round-precision={float_precision},round-mode=figures,scientific-notation=true]\"+\\\n",
    "                              \"{\"+ str(value) + \"}\"+ \"$}\"\n",
    "    else:\n",
    "        if not use_si:\n",
    "            formatted_value = f\"${value:0.{float_precision}f}$\"\n",
    "            # formatted_value = f\"${value:0.{float_precision}e}$\"\n",
    "        else:\n",
    "            formatted_value = \"$\" + f\"\\\\num[round-precision={float_precision},round-mode=figures,scientific-notation=true]\"+\\\n",
    "                              \"{\"+ str(value) + \"}\"+ \"$\"\n",
    "\n",
    "    return formatted_value\n",
    "\n",
    "\n",
    "estimator_columns = simplified_column_names_conf_estimators + [\n",
    "    f\"{ConfidenceEnum.IPW_CONF.value}_lower\",\n",
    "    f\"{ConfidenceEnum.IPW_CONF.value}_higher\"\n",
    "]\n",
    "\n",
    "# For each row, i.e. for each target relation\n",
    "for row_index, row in df_one_row_per_target.iterrows():\n",
    "\n",
    "    # Find estimator with smallest mean value for label frequency###################\n",
    "    log_growth_rate_to_set_of_smallest_est_map: Dict[float, Set[str]] = get_dict_with_smallest_estimator_per_log_growth_rate(\n",
    "        row=row\n",
    "    )\n",
    "    ##################################################################################\n",
    "    # Construct the new row\n",
    "    ######################\n",
    "\n",
    "    target_relation = row[\"target_relation\"]\n",
    "\n",
    "\n",
    "    nb_of_rules = df_n_rules_per_target[df_n_rules_per_target['target_relation'] == target_relation][\n",
    "        \"# rules\"\n",
    "    ].iloc[0]\n",
    "\n",
    "    new_row: List[str] = [\n",
    "        target_relation,\n",
    "        nb_of_rules\n",
    "    ]\n",
    "    # For each Confidence estimator, get the value at c 0.3 and 0.7\n",
    "    # for col_name_conf_estimator in estimator_columns:\n",
    "    #     mean_val_03:float = row[f\"{col_name_conf_estimator}_0.3\"]\n",
    "    #     mean_val_07:float = row[f\"{col_name_conf_estimator}_0.7\"]\n",
    "    #\n",
    "    #     new_row_value = (\n",
    "    #         format_value_depending_on_whether_it_is_smallest(\n",
    "    #             value=mean_val_03,\n",
    "    #             is_smallest=col_name_conf_estimator == label_freq_to_smallest_est_map[0.3],\n",
    "    #             float_precision=float_precision\n",
    "    #         )\n",
    "    #         + \" / \"\n",
    "    #         + format_value_depending_on_whether_it_is_smallest(\n",
    "    #             value=mean_val_07,\n",
    "    #             is_smallest=col_name_conf_estimator == label_freq_to_smallest_est_map[0.7],\n",
    "    #             float_precision=float_precision\n",
    "    #         )\n",
    "    #     )\n",
    "    #     new_row.append(new_row_value)\n",
    "    for col_name_conf_estimator in estimator_columns:\n",
    "        mean_val_first_log_growth_rate:float = row[f\"{col_name_conf_estimator}_{first_log_growth_rate_to_include}\"]\n",
    "\n",
    "\n",
    "\n",
    "        new_row_value_first_log_growth_rate = format_value_depending_on_whether_it_is_smallest(\n",
    "                value=mean_val_first_log_growth_rate,\n",
    "                is_smallest=(\n",
    "                        col_name_conf_estimator  in log_growth_rate_to_set_of_smallest_est_map[first_log_growth_rate_to_include]\n",
    "                             ),\n",
    "                float_precision=float_precision\n",
    "        )\n",
    "        new_row.append(new_row_value_first_log_growth_rate)\n",
    "\n",
    "\n",
    "    for col_name_conf_estimator in estimator_columns:\n",
    "        mean_val_second_log_growth_rate:float = row[f\"{col_name_conf_estimator}_{second_log_growth_rate_to_include}\"]\n",
    "        new_row_value_second_log_growth_rate = format_value_depending_on_whether_it_is_smallest(\n",
    "                value=mean_val_second_log_growth_rate,\n",
    "                is_smallest=(\n",
    "                        col_name_conf_estimator  in log_growth_rate_to_set_of_smallest_est_map[second_log_growth_rate_to_include]\n",
    "                             ),\n",
    "                float_precision=float_precision\n",
    "\n",
    "        )\n",
    "        new_row.append(new_row_value_second_log_growth_rate)\n",
    "\n",
    "    pretty_rows.append(new_row)\n",
    "\n",
    "\n",
    "df_pretty: pd.DataFrame = pd.DataFrame(\n",
    "    data=pretty_rows,\n",
    "    columns=multi_index_columns\n",
    ")\n",
    "df_pretty.head()"
   ],
   "metadata": {
    "collapsed": false,
    "pycharm": {
     "name": "#%%\n"
    }
   }
  },
  {
   "cell_type": "code",
   "execution_count": 56,
   "outputs": [
    {
     "data": {
      "text/plain": "         $p$ \\# R  $k=0.01$                                      \\\n                        CWA      PCA           ICW          IPW   \n0    actedin    1    $90.0$    $8.6$        $55.1$   $\\bm{1.5}$   \n1    created    2   $831.1$  $188.1$       $187.9$  $\\bm{61.0}$   \n2  dealswith    7   $123.0$   $46.4$        $43.2$   $\\bm{9.3}$   \n3     diedin    1   $160.5$  $148.4$        $32.9$  $\\bm{12.6}$   \n4   directed    2  $1000.1$  $277.8$  $\\bm{121.7}$      $192.7$   \n\n                                   $k=0.1$                               \\\n  IPW ($-\\Delta$) IPW ($+\\Delta$)      CWA      PCA     ICW         IPW   \n0           $4.2$           $1.4$   $21.7$   $93.1$  $44.2$  $\\bm{0.2}$   \n1          $63.7$          $73.8$  $197.9$  $202.7$   $8.7$  $\\bm{3.1}$   \n2          $19.1$           $6.5$    $0.8$   $23.5$   $0.4$  $\\bm{0.2}$   \n3          $14.2$          $14.1$   $59.9$   $83.4$   $5.5$  $\\bm{0.3}$   \n4         $284.5$         $146.9$  $247.2$  $219.2$  $43.1$  $\\bm{3.5}$   \n\n                                   \n  IPW ($-\\Delta$) IPW ($+\\Delta$)  \n0           $1.3$           $0.4$  \n1          $10.2$           $6.5$  \n2           $0.3$           $0.2$  \n3           $2.1$           $1.2$  \n4          $15.2$           $5.9$  ",
      "text/html": "<div>\n<style scoped>\n    .dataframe tbody tr th:only-of-type {\n        vertical-align: middle;\n    }\n\n    .dataframe tbody tr th {\n        vertical-align: top;\n    }\n\n    .dataframe thead tr th {\n        text-align: left;\n    }\n</style>\n<table border=\"1\" class=\"dataframe\">\n  <thead>\n    <tr>\n      <th></th>\n      <th>$p$</th>\n      <th>\\# R</th>\n      <th colspan=\"6\" halign=\"left\">$k=0.01$</th>\n      <th colspan=\"6\" halign=\"left\">$k=0.1$</th>\n    </tr>\n    <tr>\n      <th></th>\n      <th></th>\n      <th></th>\n      <th>CWA</th>\n      <th>PCA</th>\n      <th>ICW</th>\n      <th>IPW</th>\n      <th>IPW ($-\\Delta$)</th>\n      <th>IPW ($+\\Delta$)</th>\n      <th>CWA</th>\n      <th>PCA</th>\n      <th>ICW</th>\n      <th>IPW</th>\n      <th>IPW ($-\\Delta$)</th>\n      <th>IPW ($+\\Delta$)</th>\n    </tr>\n  </thead>\n  <tbody>\n    <tr>\n      <th>0</th>\n      <td>actedin</td>\n      <td>1</td>\n      <td>$90.0$</td>\n      <td>$8.6$</td>\n      <td>$55.1$</td>\n      <td>$\\bm{1.5}$</td>\n      <td>$4.2$</td>\n      <td>$1.4$</td>\n      <td>$21.7$</td>\n      <td>$93.1$</td>\n      <td>$44.2$</td>\n      <td>$\\bm{0.2}$</td>\n      <td>$1.3$</td>\n      <td>$0.4$</td>\n    </tr>\n    <tr>\n      <th>1</th>\n      <td>created</td>\n      <td>2</td>\n      <td>$831.1$</td>\n      <td>$188.1$</td>\n      <td>$187.9$</td>\n      <td>$\\bm{61.0}$</td>\n      <td>$63.7$</td>\n      <td>$73.8$</td>\n      <td>$197.9$</td>\n      <td>$202.7$</td>\n      <td>$8.7$</td>\n      <td>$\\bm{3.1}$</td>\n      <td>$10.2$</td>\n      <td>$6.5$</td>\n    </tr>\n    <tr>\n      <th>2</th>\n      <td>dealswith</td>\n      <td>7</td>\n      <td>$123.0$</td>\n      <td>$46.4$</td>\n      <td>$43.2$</td>\n      <td>$\\bm{9.3}$</td>\n      <td>$19.1$</td>\n      <td>$6.5$</td>\n      <td>$0.8$</td>\n      <td>$23.5$</td>\n      <td>$0.4$</td>\n      <td>$\\bm{0.2}$</td>\n      <td>$0.3$</td>\n      <td>$0.2$</td>\n    </tr>\n    <tr>\n      <th>3</th>\n      <td>diedin</td>\n      <td>1</td>\n      <td>$160.5$</td>\n      <td>$148.4$</td>\n      <td>$32.9$</td>\n      <td>$\\bm{12.6}$</td>\n      <td>$14.2$</td>\n      <td>$14.1$</td>\n      <td>$59.9$</td>\n      <td>$83.4$</td>\n      <td>$5.5$</td>\n      <td>$\\bm{0.3}$</td>\n      <td>$2.1$</td>\n      <td>$1.2$</td>\n    </tr>\n    <tr>\n      <th>4</th>\n      <td>directed</td>\n      <td>2</td>\n      <td>$1000.1$</td>\n      <td>$277.8$</td>\n      <td>$\\bm{121.7}$</td>\n      <td>$192.7$</td>\n      <td>$284.5$</td>\n      <td>$146.9$</td>\n      <td>$247.2$</td>\n      <td>$219.2$</td>\n      <td>$43.1$</td>\n      <td>$\\bm{3.5}$</td>\n      <td>$15.2$</td>\n      <td>$5.9$</td>\n    </tr>\n  </tbody>\n</table>\n</div>"
     },
     "execution_count": 56,
     "metadata": {},
     "output_type": "execute_result"
    }
   ],
   "source": [
    "df_pretty: pd.DataFrame = df_pretty.sort_values(\n",
    "    by=[\"$p$\"]\n",
    ")\n",
    "\n",
    "df_pretty.head()\n",
    "\n"
   ],
   "metadata": {
    "collapsed": false,
    "pycharm": {
     "name": "#%%\n"
    }
   }
  },
  {
   "cell_type": "markdown",
   "source": [
    "# To file"
   ],
   "metadata": {
    "collapsed": false
   }
  },
  {
   "cell_type": "code",
   "execution_count": 57,
   "outputs": [
    {
     "name": "stdout",
     "output_type": "stream",
     "text": [
      "/home/joschout/Documents/Repos/KUL-PUL/paper_latex_tables/known_prop_scores/sar_popularity/confidence-error-table-sar-popularity-agg-per-p.tex\n"
     ]
    }
   ],
   "source": [
    "# dir_latex_table: str = os.path.join(\n",
    "#     kbc_e_metrics_project_dir,\n",
    "#     \"paper_latex_tables\",\n",
    "#     'known_prop_scores',\n",
    "#     'scar'\n",
    "# )\n",
    "#\n",
    "# if not os.path.exists(dir_latex_table):\n",
    "#     os.makedirs(dir_latex_table)\n",
    "\n",
    "filename_latex_table: str = os.path.join(\n",
    "    dir_latex_table,\n",
    "    \"confidence-error-table-sar-popularity-agg-per-p.tex\"\n",
    ")\n",
    "filename_tsv_table: str = os.path.join(\n",
    "    dir_latex_table,\n",
    "    \"confidence-error-table-sar-popularity-agg-per-p.tsv\"\n",
    ")\n",
    "\n",
    "\n",
    "with open(filename_latex_table, \"w\") as latex_ofile:\n",
    "    with pd.option_context(\"max_colwidth\", 1000):\n",
    "        latex_ofile.write(\n",
    "            df_pretty.to_latex(\n",
    "                column_format=\"lr|lllllll|lllllll\",\n",
    "                index=False,\n",
    "                float_format=\"{:0.3f}\".format,\n",
    "                escape=False,\n",
    "            #     caption=\"$[widehat{conf}-conf]^2$ for SCAR. \"\n",
    "            #             \"std=standard confidence, \"\n",
    "            #             \"PCA (S) = PCA confidence with $s$ as domain, \"\n",
    "            #             \"PCA (O) = PCA confidence with $o$  as domain, \"\n",
    "            #             \"IPW = PCA confidence with $\\hat{e}=e$, \"\n",
    "            #             \"IPW +/- $\" + f\"{label_frequency_est_diff:0.1}\" + \"$ = IPW confidence with $\\hat{e}=e+/-\" +  f\"{label_frequency_est_diff:0.1}\" + \"$.\"\n",
    "            )\n",
    "        )\n",
    "\n",
    "with open(filename_tsv_table, \"w\") as tsv_ofile:\n",
    "    tsv_ofile.write(df_pretty.to_csv(\n",
    "        index=False,\n",
    "        sep=\"\\t\"\n",
    "    ))\n",
    "\n",
    "print(filename_latex_table)\n"
   ],
   "metadata": {
    "collapsed": false,
    "pycharm": {
     "name": "#%%\n"
    }
   }
  },
  {
   "cell_type": "code",
   "execution_count": 98,
   "outputs": [],
   "source": [],
   "metadata": {
    "collapsed": false,
    "pycharm": {
     "name": "#%%\n"
    }
   }
  },
  {
   "cell_type": "code",
   "execution_count": null,
   "outputs": [],
   "source": [],
   "metadata": {
    "collapsed": false,
    "pycharm": {
     "name": "#%%\n"
    }
   }
  }
 ],
 "metadata": {
  "kernelspec": {
   "display_name": "Python 3",
   "language": "python",
   "name": "python3"
  },
  "language_info": {
   "codemirror_mode": {
    "name": "ipython",
    "version": 2
   },
   "file_extension": ".py",
   "mimetype": "text/x-python",
   "name": "python",
   "nbconvert_exporter": "python",
   "pygments_lexer": "ipython2",
   "version": "2.7.6"
  }
 },
 "nbformat": 4,
 "nbformat_minor": 0
}