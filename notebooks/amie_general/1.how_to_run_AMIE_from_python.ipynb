{
 "cells": [
  {
   "cell_type": "code",
   "execution_count": 1,
   "metadata": {
    "collapsed": true
   },
   "outputs": [],
   "source": [
    "import os\n",
    "\n",
    "from kbc_pul.amie.amie_wrapper import run_amie_parametrized\n",
    "from kbc_pul.experiments_utils.file_utils import print_file_exists\n",
    "from kbc_pul.project_info import project_dir\n",
    "\n",
    "%load_ext autoreload\n",
    "%autoreload 2"
   ]
  },
  {
   "cell_type": "code",
   "execution_count": 2,
   "outputs": [
    {
     "name": "stdout",
     "output_type": "stream",
     "text": [
      "/home/joschout/Documents/Repos/KBC-e-metrics/notebooks/amie_general\n",
      "/home/joschout/Documents/Repos/KBC-e-metrics\n"
     ]
    }
   ],
   "source": [
    "print(os.getcwd())\n",
    "print(project_dir)"
   ],
   "metadata": {
    "collapsed": false,
    "pycharm": {
     "name": "#%%\n"
    }
   }
  },
  {
   "cell_type": "markdown",
   "source": [
    "# How to run AMIE from Python using the wrapper"
   ],
   "metadata": {
    "collapsed": false
   }
  },
  {
   "cell_type": "markdown",
   "source": [
    "## Specify the location of the AMIE jar"
   ],
   "metadata": {
    "collapsed": false,
    "pycharm": {
     "name": "#%% md\n"
    }
   }
  },
  {
   "cell_type": "code",
   "execution_count": 3,
   "outputs": [
    {
     "name": "stdout",
     "output_type": "stream",
     "text": [
      "? file exists: /home/joschout/Documents/Repos/KBC-e-metrics/external/AMIE3/amie-dev.jar\n",
      "-> True\n"
     ]
    }
   ],
   "source": [
    "amie_jar_dir = 'external/AMIE3'\n",
    "amie_jar_relative_filename: str = \"amie-dev.jar\"\n",
    "amie_jar_absolute_filename: str = os.path.join(\n",
    "    project_dir,\n",
    "    amie_jar_dir,\n",
    "    amie_jar_relative_filename\n",
    ")\n",
    "print_file_exists(amie_jar_absolute_filename)\n",
    "\n"
   ],
   "metadata": {
    "collapsed": false,
    "pycharm": {
     "name": "#%%\n"
    }
   }
  },
  {
   "cell_type": "markdown",
   "source": [
    "## Specify where to write AMIE's output to."
   ],
   "metadata": {
    "collapsed": false,
    "pycharm": {
     "name": "#%% md\n"
    }
   }
  },
  {
   "cell_type": "code",
   "execution_count": 9,
   "outputs": [],
   "source": [
    "dataset_name: str = 'yago3_10'\n",
    "amie_output_dir: str = os.path.join(\n",
    "    project_dir,\n",
    "    'data',\n",
    "    dataset_name,\n",
    "    'amie_output_dir'\n",
    ")\n",
    "if not os.path.exists(amie_output_dir):\n",
    "    os.makedirs(amie_output_dir)\n",
    "\n",
    "amie_output_filename: str = os.path.join(\n",
    "    amie_output_dir,\n",
    "    'amie_output.txt'\n",
    ")\n",
    "\n"
   ],
   "metadata": {
    "collapsed": false,
    "pycharm": {
     "name": "#%%\n"
    }
   }
  },
  {
   "cell_type": "markdown",
   "source": [
    "## Specify the AMIE's input KB to mine rules on"
   ],
   "metadata": {
    "collapsed": false,
    "pycharm": {
     "name": "#%% md\n"
    }
   }
  },
  {
   "cell_type": "code",
   "execution_count": 10,
   "outputs": [
    {
     "name": "stdout",
     "output_type": "stream",
     "text": [
      "? file exists: /home/joschout/Documents/Repos/KBC-e-metrics/data/yago3_10/cleaned_csv/train.csv\n",
      "-> True\n"
     ]
    }
   ],
   "source": [
    "amie_tsv_input_filename = os.path.join(\n",
    "    project_dir,\n",
    "    'data',\n",
    "    dataset_name,\n",
    "    'cleaned_csv',\n",
    "    'train.csv'\n",
    ")\n",
    "print_file_exists(amie_tsv_input_filename)"
   ],
   "metadata": {
    "collapsed": false,
    "pycharm": {
     "name": "#%%\n"
    }
   }
  },
  {
   "cell_type": "code",
   "execution_count": 11,
   "outputs": [],
   "source": [
    "work_dir = os.getcwd()"
   ],
   "metadata": {
    "collapsed": false,
    "pycharm": {
     "name": "#%%\n"
    }
   }
  },
  {
   "cell_type": "markdown",
   "source": [
    "## Run AMIE"
   ],
   "metadata": {
    "collapsed": false,
    "pycharm": {
     "name": "#%% md\n"
    }
   },
   "outputs": [
    {
     "data": {
      "text/plain": "0"
     },
     "execution_count": 22,
     "metadata": {},
     "output_type": "execute_result"
    }
   ],
   "execution_count": 22
  },
  {
   "cell_type": "code",
   "execution_count": 12,
   "outputs": [
    {
     "name": "stdout",
     "output_type": "stream",
     "text": [
      "java -jar /home/joschout/Documents/Repos/KBC-e-metrics/external/AMIE3/amie-dev.jar -datalog /home/joschout/Documents/Repos/KBC-e-metrics/data/yago3_10/cleaned_csv/train.csv 2>&1 | tee /home/joschout/Documents/Repos/KBC-e-metrics/data/yago3_10/amie_output_dir/amie_output.txt\n",
      "Using the default schema relations\n",
      "Assuming rdf:type as type relation\n",
      "Loading files... \n",
      "  Starting train.csv\n",
      "  Finished train.csv, still running: 0\n",
      "Loaded 1078898 facts in 3.11 s using 1255 MB\n",
      "Using HeadCoverage as pruning metric with minimum threshold 0.01\n",
      "Using recursivity limit 3\n",
      "Lazy mining assistant that stops counting when the denominator gets too high\n",
      "No minimum threshold on standard confidence\n",
      "Filtering on PCA confidence with minimum threshold 0.1\n",
      "Constants in the arguments of relations are disabled\n",
      "Lossless (query refinement) heuristics enabled\n",
      "MRT calls: 0\n",
      "Starting the mining phase... Using 12 threads\n",
      "Rule\tHead Coverage\tStd Confidence\tPCA Confidence\tPositive Examples\tBody size\tPCA Body size\tFunctional variable\n",
      "dealswith(?a,?b)  => hasneighbor(?a,?b)\t0.295495495\t0.125960061\t0.16449348\t164\t1302\t997\t?b\n",
      "dealswith(?b,?a)  => hasneighbor(?a,?b)\t0.297297297\t0.126728111\t0.174788136\t165\t1302\t944\t?b\n",
      "hasneighbor(?b,?a)  => hasneighbor(?a,?b)\t0.990990991\t0.990990991\t0.992779783\t550\t555\t554\t?b\n",
      "influences(?b,?a)  => hasacademicadvisor(?a,?b)\t0.069154775\t0.005882353\t0.185294118\t63\t10710\t340\t?a\n",
      "exports(?a,?b)  => imports(?a,?b)\t0.152671756\t0.158730159\t0.170940171\t60\t378\t351\t?a\n",
      "isleaderof(?a,?b)  => ispoliticianof(?a,?b)\t0.064754857\t0.146290491\t0.45751634\t140\t957\t306\t?a\n",
      "livesin(?a,?b)  => ispoliticianof(?a,?b)\t0.038852914\t0.028187919\t0.226415094\t84\t2980\t371\t?a\n",
      "iscitizenof(?a,?b)  => ispoliticianof(?a,?b)\t0.091581869\t0.057341442\t0.755725191\t198\t3453\t262\t?a\n",
      "isleaderof(?a,?b)  => livesin(?a,?b)\t0.022483221\t0.070010449\t0.210691824\t67\t957\t318\t?a\n",
      "wasbornin(?a,?b)  => livesin(?a,?b)\t0.045637584\t0.003024171\t0.105426357\t136\t44971\t1290\t?a\n",
      "iscitizenof(?a,?b)  => livesin(?a,?b)\t0.139261745\t0.120185346\t0.471055619\t415\t3453\t881\t?a\n",
      "diedin(?a,?b)  => livesin(?a,?b)\t0.034228188\t0.011034184\t0.242857143\t102\t9244\t420\t?a\n",
      "ispoliticianof(?a,?b)  => livesin(?a,?b)\t0.028187919\t0.038852914\t0.285714286\t84\t2162\t294\t?a\n",
      "islocatedin(?a,?b)  => hascapital(?a,?b)\t0.387436598\t0.011202617\t0.234363937\t993\t88640\t4237\t?a\n",
      "ismarriedto(?b,?a)  => ismarriedto(?a,?b)\t0.977896138\t0.977896138\t0.988957716\t3672\t3755\t3713\t?a\n",
      "created(?a,?b)  => wrotemusicfor(?a,?b)\t0.09194642\t0.080196163\t0.125536238\t556\t6933\t4429\t?b\n",
      "hasneighbor(?a,?b)  => dealswith(?a,?b)\t0.125960061\t0.295495495\t0.33744856\t164\t555\t486\t?a\n",
      "hasneighbor(?b,?a)  => dealswith(?a,?b)\t0.126728111\t0.297297297\t0.340206186\t165\t555\t485\t?a\n",
      "dealswith(?b,?a)  => dealswith(?a,?b)\t0.122887865\t0.122887865\t0.148423006\t160\t1302\t1078\t?a\n",
      "imports(?a,?b)  => exports(?a,?b)\t0.158730159\t0.152671756\t0.17699115\t60\t393\t339\t?a\n",
      "created(?a,?b)  => directed(?a,?b)\t0.219303047\t0.17337372\t0.236521055\t1202\t6933\t5082\t?b\n",
      "graduatedfrom(?a,?b)  => worksat(?a,?b)\t0.177009456\t0.081563181\t0.277443261\t599\t7344\t2159\t?a\n",
      "worksat(?a,?b)  => graduatedfrom(?a,?b)\t0.081563181\t0.177009456\t0.192666452\t599\t3384\t3109\t?a\n",
      "haschild(?b,?a)  => haschild(?a,?b)\t0.081769702\t0.081769702\t0.109581789\t414\t5063\t3778\t?b\n",
      "happenedin(?b,?a)  => participatedin(?a,?b)\t0.28776699\t0.293349169\t0.310106717\t1482\t5052\t4779\t?b\n",
      "ispoliticianof(?a,?b)  => iscitizenof(?a,?b)\t0.057341442\t0.091581869\t0.75\t198\t2162\t264\t?a\n",
      "livesin(?a,?b)  => iscitizenof(?a,?b)\t0.120185346\t0.139261745\t0.358067299\t415\t2980\t1159\t?a\n",
      "livesin(?a,?b)  => diedin(?a,?b)\t0.011034184\t0.034228188\t0.140689655\t102\t2980\t725\t?a\n",
      "wasbornin(?a,?b)  => diedin(?a,?b)\t0.12245781\t0.025171777\t0.174180643\t1132\t44971\t6499\t?a\n",
      "participatedin(?b,?a)  => happenedin(?a,?b)\t0.293349169\t0.28776699\t0.366650173\t1482\t5150\t4042\t?b\n",
      "wrotemusicfor(?a,?b)  => created(?a,?b)\t0.080196163\t0.09194642\t0.1572843\t556\t6047\t3535\t?b\n",
      "directed(?a,?b)  => created(?a,?b)\t0.17337372\t0.219303047\t0.326364377\t1202\t5481\t3683\t?b\n",
      "directed(?a,?b)  => actedin(?a,?b)\t0.017354524\t0.10180624\t0.104007456\t558\t5481\t5365\t?b\n",
      "isconnectedto(?b,?a)  => isconnectedto(?a,?b)\t0.662486352\t0.662486352\t0.671919\t21236\t32055\t31605\t?b\n",
      "diedin(?a,?b)  => wasbornin(?a,?b)\t0.025171777\t0.12245781\t0.174180643\t1132\t9244\t6499\t?a\n",
      "hascapital(?a,?b)  => islocatedin(?a,?b)\t0.011202617\t0.387436598\t0.417577796\t993\t2563\t2378\t?a\n",
      "hascapital(?b,?a)  => islocatedin(?a,?b)\t0.019652527\t0.679672259\t0.682067345\t1742\t2563\t2554\t?a\n",
      "isaffiliatedto(?a,?b)  => playsfor(?a,?b)\t0.868620415\t0.7461395\t0.825340824\t278848\t373721\t337858\t?a\n",
      "playsfor(?a,?b)  => isaffiliatedto(?a,?b)\t0.7461395\t0.868620415\t0.946135863\t278848\t321024\t294723\t?a\n",
      "isinterestedin(?g,?a) isinterestedin(?g,?b)  => isinterestedin(?a,?b)\t0.025104603\t0.050420168\t0.461538462\t6\t119\t13\t?a\n",
      "hascurrency(?h,?b) hasneighbor(?a,?h)  => hascurrency(?a,?b)\t0.165137615\t0.211764706\t0.666666667\t18\t85\t27\t?a\n",
      "hascurrency(?g,?b) hasneighbor(?g,?a)  => hascurrency(?a,?b)\t0.165137615\t0.214285714\t0.666666667\t18\t84\t27\t?a\n",
      "isinterestedin(?h,?b) isinterestedin(?a,?h)  => isinterestedin(?a,?b)\t0.016736402\t0.8\t0.8\t4\t5\t5\t?a\n",
      "dealswith(?g,?a) hascurrency(?g,?b)  => hascurrency(?a,?b)\t0.146788991\t0.131147541\t0.390243902\t16\t122\t41\t?a\n",
      "dealswith(?b,?a) hasneighbor(?b,?a)  => hasneighbor(?a,?b)\t0.293693694\t0.993902439\t0.993902439\t163\t164\t164\t?b\n",
      "dealswith(?a,?h) hascurrency(?h,?b)  => hascurrency(?a,?b)\t0.211009174\t0.05764411\t0.319444444\t23\t399\t72\t?a\n",
      "hascurrency(?g,?b) islocatedin(?g,?a)  => hascurrency(?a,?b)\t0.018348624\t0.028169014\t0.333333333\t2\t71\t6\t?a\n",
      "dealswith(?b,?a) dealswith(?a,?b)  => hasneighbor(?a,?b)\t0.097297297\t0.3375\t0.457627119\t54\t160\t118\t?b\n",
      "influences(?g,?a) isknownfor(?g,?b)  => isinterestedin(?a,?b)\t0.046025105\t0.027918782\t0.120879121\t11\t394\t91\t?a\n",
      "hasneighbor(?h,?a) hasneighbor(?b,?h)  => hasneighbor(?a,?b)\t0.884684685\t0.273995536\t0.273995536\t491\t1792\t1792\t?b\n",
      "dealswith(?h,?a) hasneighbor(?b,?h)  => hasneighbor(?a,?b)\t0.407207207\t0.103908046\t0.103908046\t226\t2175\t2175\t?b\n",
      "hasneighbor(?a,?h) hasneighbor(?b,?h)  => hasneighbor(?a,?b)\t0.884684685\t0.273995536\t0.27414852\t491\t1792\t1791\t?b\n",
      "hasneighbor(?h,?b) hasneighbor(?a,?h)  => hasneighbor(?a,?b)\t0.884684685\t0.273995536\t0.273995536\t491\t1792\t1792\t?b\n",
      "influences(?a,?h) isinterestedin(?h,?b)  => isinterestedin(?a,?b)\t0.355648536\t0.083909181\t0.321969697\t85\t1013\t264\t?a\n",
      "hasneighbor(?g,?a) hasneighbor(?g,?b)  => hasneighbor(?a,?b)\t0.884684685\t0.273537604\t0.273537604\t491\t1795\t1795\t?b\n",
      "influences(?g,?a) isinterestedin(?g,?b)  => isinterestedin(?a,?b)\t0.527196653\t0.111405836\t0.370588235\t126\t1131\t340\t?a\n",
      "dealswith(?h,?b) hasneighbor(?a,?h)  => hasneighbor(?a,?b)\t0.407207207\t0.103908046\t0.13476446\t226\t2175\t1677\t?b\n",
      "dealswith(?g,?a) hasneighbor(?g,?b)  => hasneighbor(?a,?b)\t0.407207207\t0.102867547\t0.102867547\t226\t2197\t2197\t?b\n",
      "dealswith(?g,?b) hasneighbor(?g,?a)  => hasneighbor(?a,?b)\t0.407207207\t0.102867547\t0.133648729\t226\t2197\t1691\t?b\n",
      "hasneighbor(?a,?h) imports(?h,?b)  => imports(?a,?b)\t0.419847328\t0.207026349\t0.251141553\t165\t797\t657\t?a\n",
      "exports(?h,?b) hasneighbor(?a,?h)  => imports(?a,?b)\t0.193384224\t0.090154211\t0.109352518\t76\t843\t695\t?a\n",
      "hasneighbor(?g,?a) imports(?g,?b)  => imports(?a,?b)\t0.422391858\t0.2077597\t0.252279635\t166\t799\t658\t?a\n",
      "exports(?g,?b) hasneighbor(?g,?a)  => imports(?a,?b)\t0.195928753\t0.090375587\t0.110473458\t77\t852\t697\t?a\n",
      "dealswith(?a,?h) exports(?h,?b)  => imports(?a,?b)\t0.501272265\t0.108599779\t0.127425614\t197\t1814\t1546\t?a\n",
      "dealswith(?a,?h) imports(?h,?b)  => imports(?a,?b)\t0.610687023\t0.158415842\t0.18957346\t240\t1515\t1266\t?a\n",
      "dealswith(?g,?a) imports(?g,?b)  => imports(?a,?b)\t0.37913486\t0.16284153\t0.207232267\t149\t915\t719\t?a\n",
      "haschild(?a,?h) isleaderof(?h,?b)  => ispoliticianof(?a,?b)\t0.049028677\t0.211155378\t0.397003745\t106\t502\t267\t?a\n",
      "haschild(?a,?h) livesin(?h,?b)  => ispoliticianof(?a,?b)\t0.014338575\t0.080729167\t0.13963964\t31\t384\t222\t?a\n",
      "haschild(?a,?h) iscitizenof(?h,?b)  => ispoliticianof(?a,?b)\t0.056891767\t0.532467532\t0.831081081\t123\t231\t148\t?a\n",
      "hascapital(?b,?h) livesin(?a,?h)  => ispoliticianof(?a,?b)\t0.039777983\t0.040224509\t0.217721519\t86\t2138\t395\t?a\n",
      "haschild(?a,?h) ispoliticianof(?h,?b)  => ispoliticianof(?a,?b)\t0.42506938\t0.718530102\t0.87607245\t919\t1279\t1049\t?a\n",
      "isleaderof(?a,?h) islocatedin(?h,?b)  => ispoliticianof(?a,?b)\t0.02960222\t0.039677619\t0.14479638\t64\t1613\t442\t?a\n",
      "islocatedin(?h,?b) livesin(?a,?h)  => ispoliticianof(?a,?b)\t0.11147086\t0.033977161\t0.260259179\t241\t7093\t926\t?a\n",
      "haschild(?g,?a) isleaderof(?g,?b)  => ispoliticianof(?a,?b)\t0.021276596\t0.12849162\t0.259887006\t46\t358\t177\t?a\n",
      "diedin(?a,?h) hascapital(?b,?h)  => ispoliticianof(?a,?b)\t0.184551341\t0.015629284\t0.133534137\t399\t25529\t2988\t?a\n",
      "haschild(?g,?a) livesin(?g,?b)  => ispoliticianof(?a,?b)\t0.014338575\t0.095384615\t0.155\t31\t325\t200\t?a\n",
      "ismarriedto(?g,?a) ispoliticianof(?g,?b)  => ispoliticianof(?a,?b)\t0.028677151\t0.373493976\t0.885714286\t62\t166\t70\t?a\n",
      "haschild(?g,?a) iscitizenof(?g,?b)  => ispoliticianof(?a,?b)\t0.064754857\t0.56\t0.777777778\t140\t250\t180\t?a\n",
      "haschild(?g,?a) ispoliticianof(?g,?b)  => ispoliticianof(?a,?b)\t0.449583719\t0.754072925\t0.895852535\t972\t1289\t1085\t?a\n",
      "hascapital(?b,?h) livesin(?a,?h)  => livesin(?a,?b)\t0.091946309\t0.128157156\t0.128157156\t274\t2138\t2138\t?a\n",
      "ismarriedto(?a,?h) ispoliticianof(?h,?b)  => ispoliticianof(?a,?b)\t0.028677151\t0.369047619\t0.885714286\t62\t168\t70\t?a\n",
      "created(?a,?h) islocatedin(?h,?b)  => ispoliticianof(?a,?b)\t0.011563367\t0.005901794\t0.274725275\t25\t4236\t91\t?a\n",
      "hascurrency(?h,?b) islocatedin(?a,?h)  => hascurrency(?a,?b)\t0.082568807\t0.00055991\t0.5625\t9\t16074\t16\t?a\n",
      "graduatedfrom(?a,?h) islocatedin(?h,?b)  => ispoliticianof(?a,?b)\t0.336725254\t0.041204437\t0.204724409\t728\t17668\t3556\t?a\n",
      "hasacademicadvisor(?a,?h) iscitizenof(?h,?b)  => livesin(?a,?b)\t0.033892617\t0.137414966\t0.437229437\t101\t735\t231\t?a\n",
      "hasacademicadvisor(?a,?h) livesin(?h,?b)  => livesin(?a,?b)\t0.023154362\t0.173366834\t0.439490446\t69\t398\t157\t?a\n",
      "isleaderof(?a,?h) islocatedin(?h,?b)  => livesin(?a,?b)\t0.032885906\t0.060756355\t0.182156134\t98\t1613\t538\t?a\n",
      "ismarriedto(?a,?h) livesin(?h,?b)  => livesin(?a,?b)\t0.017785235\t0.152298851\t0.456896552\t53\t348\t116\t?a\n",
      "haschild(?a,?h) livesin(?h,?b)  => livesin(?a,?b)\t0.01442953\t0.111979167\t0.316176471\t43\t384\t136\t?a\n",
      "islocatedin(?h,?b) worksat(?a,?h)  => livesin(?a,?b)\t0.124832215\t0.050141529\t0.168554599\t372\t7419\t2207\t?a\n",
      "ismarriedto(?g,?a) livesin(?g,?b)  => livesin(?a,?b)\t0.017785235\t0.152298851\t0.464912281\t53\t348\t114\t?a\n",
      "hascapital(?h,?b) ispoliticianof(?a,?h)  => livesin(?a,?b)\t0.029865772\t0.010486627\t0.183505155\t89\t8487\t485\t?a\n",
      "hasacademicadvisor(?g,?a) livesin(?g,?b)  => livesin(?a,?b)\t0.019463087\t0.16909621\t0.4\t58\t343\t145\t?a\n",
      "haschild(?g,?a) livesin(?g,?b)  => livesin(?a,?b)\t0.01409396\t0.129230769\t0.330708661\t42\t325\t127\t?a\n",
      "islocatedin(?h,?b) livesin(?a,?h)  => livesin(?a,?b)\t0.27885906\t0.117157761\t0.117157761\t831\t7093\t7093\t?a\n",
      "owns(?a,?h) owns(?b,?h)  => owns(?a,?b)\t0.012396694\t0.006020067\t0.126760563\t9\t1495\t71\t?b\n",
      "hasacademicadvisor(?g,?a) iscitizenof(?g,?b)  => livesin(?a,?b)\t0.024832215\t0.123745819\t0.381443299\t74\t598\t194\t?a\n",
      "diedin(?a,?h) islocatedin(?h,?b)  => ispoliticianof(?a,?b)\t0.267807586\t0.017243433\t0.232436772\t579\t33578\t2491\t?a\n",
      "hasneighbor(?a,?h) owns(?h,?b)  => owns(?a,?b)\t0.03030303\t0.103286385\t0.103286385\t22\t213\t213\t?b\n",
      "haschild(?g,?a) ispoliticianof(?g,?b)  => livesin(?a,?b)\t0.010402685\t0.024049651\t0.218309859\t31\t1289\t142\t?a\n",
      "haschild(?a,?h) owns(?h,?b)  => owns(?a,?b)\t0.024793388\t0.36\t0.36\t18\t50\t50\t?b\n",
      "islocatedin(?b,?h) owns(?a,?h)  => owns(?a,?b)\t0.015151515\t0.006646526\t0.166666667\t11\t1655\t66\t?b\n",
      "owns(?h,?b) owns(?a,?h)  => owns(?a,?b)\t0.013774105\t0.105263158\t0.105263158\t10\t95\t95\t?b\n",
      "hasneighbor(?g,?a) owns(?g,?b)  => owns(?a,?b)\t0.03030303\t0.103286385\t0.103286385\t22\t213\t213\t?b\n",
      "dealswith(?g,?a) owns(?g,?b)  => owns(?a,?b)\t0.039944904\t0.105072464\t0.105072464\t29\t276\t276\t?b\n",
      "haschild(?g,?a) owns(?g,?b)  => owns(?a,?b)\t0.026170799\t0.267605634\t0.267605634\t19\t71\t71\t?b\n",
      "ispoliticianof(?g,?a) livesin(?g,?b)  => hascapital(?a,?b)\t0.025751073\t0.170984456\t0.189111748\t66\t386\t349\t?a\n",
      "graduatedfrom(?a,?h) islocatedin(?h,?b)  => livesin(?a,?b)\t0.223825503\t0.037751868\t0.143657118\t667\t17668\t4643\t?a\n",
      "islocatedin(?h,?b) owns(?a,?h)  => owns(?a,?b)\t0.015151515\t0.00735786\t0.275\t11\t1495\t40\t?b\n",
      "diedin(?g,?b) ispoliticianof(?g,?a)  => hascapital(?a,?b)\t0.05072181\t0.242085661\t0.281995662\t130\t537\t461\t?a\n",
      "ispoliticianof(?g,?a) wasbornin(?g,?b)  => hascapital(?a,?b)\t0.051111978\t0.128810226\t0.141774892\t131\t1017\t924\t?a\n",
      "isleaderof(?g,?a) wasbornin(?g,?b)  => hascapital(?a,?b)\t0.016387046\t0.078358209\t0.352941176\t42\t536\t119\t?a\n",
      "diedin(?g,?b) iscitizenof(?g,?a)  => hascapital(?a,?b)\t0.034724932\t0.11618799\t0.120107962\t89\t766\t741\t?a\n",
      "diedin(?g,?b) livesin(?g,?a)  => hascapital(?a,?b)\t0.015606711\t0.068259386\t0.135135135\t40\t586\t296\t?a\n",
      "haschild(?a,?b) ismarriedto(?b,?a)  => ismarriedto(?a,?b)\t0.015712383\t1\t1\t59\t59\t59\t?a\n",
      "haschild(?a,?h) haschild(?b,?h)  => ismarriedto(?a,?b)\t0.235952064\t0.106953163\t0.239136302\t886\t8284\t3705\t?a\n",
      "hascapital(?b,?h) wasbornin(?a,?h)  => ispoliticianof(?a,?b)\t0.165124884\t0.004659297\t0.137891078\t357\t76621\t2589\t?a\n",
      "livesin(?a,?b) wasbornin(?a,?b)  => isleaderof(?a,?b)\t0.014629049\t0.102941176\t0.311111111\t14\t136\t45\t?b\n",
      "islocatedin(?b,?a) islocatedin(?a,?b)  => hascapital(?a,?b)\t0.351150995\t0.156794425\t0.788091068\t900\t5740\t1142\t?a\n",
      "dealswith(?b,?a) hasneighbor(?a,?b)  => dealswith(?a,?b)\t0.041474654\t0.327272727\t0.350649351\t54\t165\t154\t?a\n",
      "diedin(?a,?h) islocatedin(?h,?b)  => livesin(?a,?b)\t0.081208054\t0.0072071\t0.163734777\t242\t33578\t1478\t?a\n",
      "dealswith(?b,?a) hasneighbor(?b,?a)  => dealswith(?a,?b)\t0.041474654\t0.329268293\t0.352941176\t54\t164\t153\t?a\n",
      "hasneighbor(?h,?a) hasneighbor(?b,?h)  => dealswith(?a,?b)\t0.176651306\t0.128348214\t0.146871009\t230\t1792\t1566\t?a\n",
      "owns(?a,?h) owns(?b,?h)  => dealswith(?a,?b)\t0.056067588\t0.048829431\t0.190600522\t73\t1495\t383\t?a\n",
      "hasneighbor(?a,?h) hasneighbor(?b,?h)  => dealswith(?a,?b)\t0.177419355\t0.12890625\t0.147887324\t231\t1792\t1562\t?a\n",
      "dealswith(?h,?b) hasneighbor(?a,?h)  => dealswith(?a,?b)\t0.491551459\t0.294252874\t0.33126294\t640\t2175\t1932\t?a\n",
      "hasneighbor(?h,?b) hasneighbor(?a,?h)  => dealswith(?a,?b)\t0.177419355\t0.12890625\t0.147415444\t231\t1792\t1567\t?a\n",
      "hasneighbor(?g,?a) hasneighbor(?g,?b)  => dealswith(?a,?b)\t0.176651306\t0.128133705\t0.146217419\t230\t1795\t1573\t?a\n",
      "dealswith(?h,?b) dealswith(?a,?h)  => dealswith(?a,?b)\t0.732718894\t0.249607535\t0.249607535\t954\t3822\t3822\t?a\n",
      "dealswith(?g,?b) hasneighbor(?g,?a)  => dealswith(?a,?b)\t0.491551459\t0.291306327\t0.329387545\t640\t2197\t1943\t?a\n",
      "hascapital(?g,?b) islocatedin(?g,?a)  => hascapital(?a,?b)\t0.089738588\t0.051534842\t0.139647845\t230\t4463\t1647\t?a\n",
      "exports(?h,?b) hasneighbor(?a,?h)  => exports(?a,?b)\t0.425925926\t0.190984579\t0.249226006\t161\t843\t646\t?a\n",
      "hasneighbor(?a,?h) imports(?h,?b)  => exports(?a,?b)\t0.17989418\t0.08531995\t0.112211221\t68\t797\t606\t?a\n",
      "dealswith(?g,?a) dealswith(?g,?b)  => dealswith(?a,?b)\t0.475422427\t0.193196005\t0.229769859\t619\t3204\t2694\t?a\n",
      "dealswith(?a,?h) exports(?h,?b)  => exports(?a,?b)\t0.515873016\t0.107497244\t0.137227305\t195\t1814\t1421\t?a\n",
      "exports(?g,?b) hasneighbor(?g,?a)  => exports(?a,?b)\t0.428571429\t0.190140845\t0.25\t162\t852\t648\t?a\n",
      "hasneighbor(?g,?a) imports(?g,?b)  => exports(?a,?b)\t0.17989418\t0.085106383\t0.112026359\t68\t799\t607\t?a\n",
      "dealswith(?g,?a) exports(?g,?b)  => exports(?a,?b)\t0.375661376\t0.128158845\t0.169047619\t142\t1108\t840\t?a\n",
      "dealswith(?g,?a) imports(?g,?b)  => exports(?a,?b)\t0.238095238\t0.098360656\t0.130624093\t90\t915\t689\t?a\n",
      "iscitizenof(?g,?b) livesin(?g,?a)  => dealswith(?a,?b)\t0.030721966\t0.061728395\t0.245398773\t40\t648\t163\t?a\n",
      "livesin(?g,?a) livesin(?g,?b)  => dealswith(?a,?b)\t0.0453149\t0.016866781\t0.112380952\t59\t3498\t525\t?a\n",
      "isleaderof(?a,?h) islocatedin(?h,?b)  => isleaderof(?a,?b)\t0.085684431\t0.05083695\t0.171189979\t82\t1613\t479\t?b\n",
      "dealswith(?g,?b) islocatedin(?g,?a)  => dealswith(?a,?b)\t0.016897081\t0.041431262\t0.407407407\t22\t531\t54\t?a\n",
      "islocatedin(?h,?a) participatedin(?b,?h)  => dealswith(?a,?b)\t0.071428571\t0.03315508\t0.108391608\t93\t2805\t858\t?a\n",
      "iscitizenof(?g,?a) iscitizenof(?g,?b)  => dealswith(?a,?b)\t0.068356375\t0.131656805\t0.217603912\t89\t676\t409\t?a\n",
      "actedin(?a,?b) created(?a,?b)  => directed(?a,?b)\t0.038679073\t0.45106383\t0.542199488\t212\t470\t391\t?b\n",
      "hasacademicadvisor(?a,?h) worksat(?h,?b)  => worksat(?a,?b)\t0.04787234\t0.117732558\t0.168049793\t162\t1376\t964\t?a\n",
      "graduatedfrom(?h,?b) hasacademicadvisor(?a,?h)  => worksat(?a,?b)\t0.031028369\t0.085158151\t0.131909548\t105\t1233\t796\t?a\n",
      "hasacademicadvisor(?g,?a) worksat(?g,?b)  => worksat(?a,?b)\t0.043735225\t0.109225092\t0.154488518\t148\t1355\t958\t?a\n",
      "influences(?g,?a) worksat(?g,?b)  => worksat(?a,?b)\t0.018026005\t0.050123254\t0.10951526\t61\t1217\t557\t?a\n",
      "graduatedfrom(?g,?b) hasacademicadvisor(?g,?a)  => worksat(?a,?b)\t0.079196217\t0.242753623\t0.36462585\t268\t1104\t735\t?a\n",
      "hasacademicadvisor(?a,?h) worksat(?h,?b)  => graduatedfrom(?a,?b)\t0.050925926\t0.271802326\t0.300884956\t374\t1376\t1243\t?a\n",
      "graduatedfrom(?h,?b) hasacademicadvisor(?a,?h)  => graduatedfrom(?a,?b)\t0.032271242\t0.192214112\t0.21486854\t237\t1233\t1103\t?a\n",
      "hasneighbor(?a,?h) hasofficiallanguage(?h,?b)  => hasofficiallanguage(?a,?b)\t0.255033557\t0.336283186\t0.506666667\t76\t226\t150\t?a\n",
      "graduatedfrom(?h,?b) influences(?a,?h)  => worksat(?a,?b)\t0.018026005\t0.017784257\t0.109318996\t61\t3430\t558\t?a\n",
      "dealswith(?a,?h) hasofficiallanguage(?h,?b)  => hasofficiallanguage(?a,?b)\t0.355704698\t0.160120846\t0.26044226\t106\t662\t407\t?a\n",
      "hasneighbor(?g,?a) hasofficiallanguage(?g,?b)  => hasofficiallanguage(?a,?b)\t0.255033557\t0.337777778\t0.506666667\t76\t225\t150\t?a\n",
      "dealswith(?g,?a) hasofficiallanguage(?g,?b)  => hasofficiallanguage(?a,?b)\t0.244966443\t0.228840125\t0.347619048\t73\t319\t210\t?a\n",
      "graduatedfrom(?g,?b) hasacademicadvisor(?g,?a)  => graduatedfrom(?a,?b)\t0.023828976\t0.158514493\t0.18153527\t175\t1104\t964\t?a\n",
      "hasofficiallanguage(?g,?b) islocatedin(?g,?a)  => hasofficiallanguage(?a,?b)\t0.077181208\t0.115577889\t0.793103448\t23\t199\t29\t?a\n",
      "graduatedfrom(?h,?b) haschild(?a,?h)  => graduatedfrom(?a,?b)\t0.035266885\t0.136675462\t0.20234375\t259\t1895\t1280\t?a\n",
      "influences(?g,?a) worksat(?g,?b)  => graduatedfrom(?a,?b)\t0.011165577\t0.0673788\t0.1025\t82\t1217\t800\t?a\n",
      "dealswith(?h,?b) islocatedin(?a,?h)  => dealswith(?a,?b)\t0.023041475\t0.000197113\t0.167597765\t30\t152197\t179\t?a\n",
      "graduatedfrom(?g,?b) haschild(?g,?a)  => graduatedfrom(?a,?b)\t0.035266885\t0.137912673\t0.198619632\t259\t1878\t1304\t?a\n",
      "haschild(?a,?h) ismarriedto(?b,?h)  => haschild(?a,?b)\t0.053328066\t0.118942731\t0.150922303\t270\t2270\t1789\t?b\n",
      "haschild(?a,?h) ismarriedto(?h,?b)  => haschild(?a,?b)\t0.053328066\t0.118006993\t0.150166852\t270\t2288\t1798\t?b\n",
      "haschild(?h,?b) ismarriedto(?a,?h)  => haschild(?a,?b)\t0.309302785\t0.581076067\t0.581076067\t1566\t2695\t2695\t?b\n",
      "hasofficiallanguage(?h,?b) islocatedin(?a,?h)  => hasofficiallanguage(?a,?b)\t0.181208054\t0.003884892\t0.692307692\t54\t13900\t78\t?a\n",
      "hasneighbor(?a,?h) participatedin(?h,?b)  => participatedin(?a,?b)\t0.121941748\t0.171678513\t0.171678513\t628\t3658\t3658\t?b\n",
      "haschild(?g,?b) ismarriedto(?g,?a)  => haschild(?a,?b)\t0.308907762\t0.57690889\t0.57690889\t1564\t2711\t2711\t?b\n",
      "hasneighbor(?g,?a) participatedin(?g,?b)  => participatedin(?a,?b)\t0.121941748\t0.168139224\t0.168139224\t628\t3735\t3735\t?b\n",
      "dealswith(?g,?a) participatedin(?g,?b)  => participatedin(?a,?b)\t0.177281553\t0.16332737\t0.16332737\t913\t5590\t5590\t?b\n",
      "hasacademicadvisor(?a,?h) iscitizenof(?h,?b)  => iscitizenof(?a,?b)\t0.076455256\t0.359183673\t0.533333333\t264\t735\t495\t?a\n",
      "hasacademicadvisor(?a,?h) livesin(?h,?b)  => iscitizenof(?a,?b)\t0.029249928\t0.253768844\t0.38996139\t101\t398\t259\t?a\n",
      "islocatedin(?h,?b) worksat(?a,?h)  => iscitizenof(?a,?b)\t0.189690125\t0.088286831\t0.143294684\t655\t7419\t4571\t?a\n",
      "isleaderof(?a,?h) islocatedin(?h,?b)  => iscitizenof(?a,?b)\t0.013611352\t0.029138252\t0.225961538\t47\t1613\t208\t?a\n",
      "diedin(?a,?h) hascapital(?b,?h)  => iscitizenof(?a,?b)\t0.122791775\t0.016608563\t0.111315306\t424\t25529\t3809\t?a\n",
      "islocatedin(?h,?b) livesin(?a,?h)  => iscitizenof(?a,?b)\t0.103098755\t0.050190328\t0.140711462\t356\t7093\t2530\t?a\n",
      "haschild(?a,?h) ispoliticianof(?h,?b)  => iscitizenof(?a,?b)\t0.034462786\t0.093041439\t0.793333333\t119\t1279\t150\t?a\n",
      "haschild(?a,?h) iscitizenof(?h,?b)  => iscitizenof(?a,?b)\t0.023747466\t0.354978355\t0.921348315\t82\t231\t89\t?a\n",
      "created(?a,?h) islocatedin(?h,?b)  => iscitizenof(?a,?b)\t0.041702867\t0.033994334\t0.362720403\t144\t4236\t397\t?a\n",
      "influences(?a,?h) iscitizenof(?h,?b)  => iscitizenof(?a,?b)\t0.06429192\t0.115805947\t0.395721925\t222\t1917\t561\t?a\n",
      "hasacademicadvisor(?g,?a) iscitizenof(?g,?b)  => iscitizenof(?a,?b)\t0.057051839\t0.329431438\t0.486419753\t197\t598\t405\t?a\n",
      "directed(?a,?h) islocatedin(?h,?b)  => iscitizenof(?a,?b)\t0.01158413\t0.015637217\t0.506329114\t40\t2558\t79\t?a\n",
      "hasacademicadvisor(?g,?a) livesin(?g,?b)  => iscitizenof(?a,?b)\t0.024905879\t0.250728863\t0.367521368\t86\t343\t234\t?a\n",
      "diedin(?a,?h) islocatedin(?h,?b)  => iscitizenof(?a,?b)\t0.275412685\t0.028322116\t0.222040626\t951\t33578\t4283\t?a\n",
      "haschild(?g,?a) ispoliticianof(?g,?b)  => iscitizenof(?a,?b)\t0.030697944\t0.08223429\t0.848\t106\t1289\t125\t?a\n",
      "haschild(?g,?a) iscitizenof(?g,?b)  => iscitizenof(?a,?b)\t0.023747466\t0.328\t0.911111111\t82\t250\t90\t?a\n",
      "influences(?g,?a) iscitizenof(?g,?b)  => iscitizenof(?a,?b)\t0.077324066\t0.132769766\t0.360323887\t267\t2011\t741\t?a\n",
      "graduatedfrom(?a,?h) islocatedin(?h,?b)  => iscitizenof(?a,?b)\t0.377063423\t0.073692552\t0.195173137\t1302\t17668\t6671\t?a\n",
      "diedin(?h,?b) ismarriedto(?a,?h)  => diedin(?a,?b)\t0.037754219\t0.226476314\t0.325256291\t349\t1541\t1073\t?a\n",
      "hascapital(?b,?h) wasbornin(?a,?h)  => iscitizenof(?a,?b)\t0.126556617\t0.005703397\t0.102968897\t437\t76621\t4244\t?a\n",
      "haschild(?a,?h) wasbornin(?h,?b)  => diedin(?a,?b)\t0.040999567\t0.132424878\t0.262102351\t379\t2862\t1446\t?a\n",
      "islocatedin(?h,?b) wasbornin(?a,?h)  => livesin(?a,?b)\t0.15738255\t0.003116652\t0.100277956\t469\t150482\t4677\t?a\n",
      "isaffiliatedto(?a,?h) islocatedin(?h,?b)  => ispoliticianof(?a,?b)\t0.24653099\t0.003043314\t0.216402761\t533\t175138\t2463\t?a\n",
      "actedin(?a,?h) islocatedin(?h,?b)  => iscitizenof(?a,?b)\t0.032435563\t0.009923799\t0.369636964\t112\t11286\t303\t?a\n",
      "diedin(?h,?b) haschild(?a,?h)  => diedin(?a,?b)\t0.037321506\t0.165547025\t0.243472124\t345\t2084\t1417\t?a\n",
      "hascapital(?h,?b) ispoliticianof(?a,?h)  => diedin(?a,?b)\t0.040999567\t0.044656534\t0.104667219\t379\t8487\t3621\t?a\n",
      "islocatedin(?h,?b) worksat(?a,?h)  => diedin(?a,?b)\t0.039809606\t0.049602372\t0.11309158\t368\t7419\t3254\t?a\n",
      "ismarriedto(?a,?h) wasbornin(?h,?b)  => diedin(?a,?b)\t0.012656859\t0.044334975\t0.106363636\t117\t2639\t1100\t?a\n",
      "isaffiliatedto(?a,?h) islocatedin(?h,?b)  => livesin(?a,?b)\t0.056040268\t0.000953534\t0.171987642\t167\t175138\t971\t?a\n",
      "diedin(?g,?b) haschild(?g,?a)  => diedin(?a,?b)\t0.038619645\t0.153813012\t0.256834532\t357\t2321\t1390\t?a\n",
      "diedin(?g,?b) ismarriedto(?g,?a)  => diedin(?a,?b)\t0.037862397\t0.226244344\t0.325884544\t350\t1547\t1074\t?a\n",
      "happenedin(?a,?h) hasneighbor(?b,?h)  => happenedin(?a,?b)\t0.069675376\t0.083550914\t0.105705706\t352\t4213\t3330\t?b\n",
      "haschild(?g,?a) wasbornin(?g,?b)  => diedin(?a,?b)\t0.022068369\t0.066557912\t0.146341463\t204\t3065\t1394\t?a\n",
      "ismarriedto(?g,?a) wasbornin(?g,?b)  => diedin(?a,?b)\t0.01254868\t0.044224171\t0.106324473\t116\t2623\t1091\t?a\n",
      "happenedin(?a,?h) hascapital(?b,?h)  => happenedin(?a,?b)\t0.034045922\t0.187978142\t0.29005059\t172\t915\t593\t?b\n",
      "happenedin(?a,?g) hasneighbor(?g,?b)  => happenedin(?a,?b)\t0.069675376\t0.082667919\t0.105547226\t352\t4258\t3335\t?b\n",
      "islocatedin(?h,?b) wasbornin(?a,?h)  => ispoliticianof(?a,?b)\t0.446345976\t0.006412727\t0.258990875\t965\t150482\t3726\t?a\n",
      "hasacademicadvisor(?a,?h) haswonprize(?h,?b)  => haswonprize(?a,?b)\t0.01608412\t0.203684211\t0.25748503\t387\t1900\t1503\t?a\n",
      "haschild(?a,?h) haswonprize(?h,?b)  => haswonprize(?a,?b)\t0.031586385\t0.189054726\t0.304\t760\t4020\t2500\t?a\n",
      "hasacademicadvisor(?g,?a) haswonprize(?g,?b)  => haswonprize(?a,?b)\t0.012717676\t0.201980198\t0.258664413\t306\t1515\t1183\t?a\n",
      "actedin(?a,?b) directed(?a,?b)  => created(?a,?b)\t0.030578393\t0.379928315\t0.56684492\t212\t558\t374\t?b\n",
      "haswonprize(?h,?b) ismarriedto(?a,?h)  => haswonprize(?a,?b)\t0.021113004\t0.167878387\t0.309945088\t508\t3026\t1639\t?a\n",
      "haswonprize(?g,?b) ismarriedto(?g,?a)  => haswonprize(?a,?b)\t0.021113004\t0.168211921\t0.309567337\t508\t3020\t1641\t?a\n",
      "haschild(?g,?a) haswonprize(?g,?b)  => haswonprize(?a,?b)\t0.033373509\t0.201202706\t0.312208398\t803\t3991\t2572\t?a\n",
      "owns(?g,?a) owns(?g,?b)  => isconnectedto(?a,?b)\t0.010138824\t0.115823236\t0.276125743\t325\t2806\t1177\t?b\n",
      "haswonprize(?h,?b) influences(?a,?h)  => haswonprize(?a,?b)\t0.021528615\t0.075477197\t0.16823644\t518\t6863\t3079\t?a\n",
      "haswonprize(?g,?b) influences(?g,?a)  => haswonprize(?a,?b)\t0.023939155\t0.087405159\t0.177887585\t576\t6590\t3238\t?a\n",
      "hasacademicadvisor(?a,?h) hasgender(?h,?b)  => hasgender(?a,?b)\t0.011411729\t0.948492462\t0.961783439\t755\t796\t785\t?a\n",
      "happenedin(?a,?g) islocatedin(?g,?b)  => happenedin(?a,?b)\t0.167854315\t0.130301168\t0.170726797\t848\t6508\t4967\t?b\n",
      "haschild(?a,?h) hasgender(?h,?b)  => hasgender(?a,?b)\t0.03337364\t0.666666667\t0.699398163\t2208\t3312\t3157\t?a\n",
      "haschild(?g,?a) hasgender(?g,?b)  => hasgender(?a,?b)\t0.036502418\t0.653232351\t0.679898649\t2415\t3697\t3552\t?a\n",
      "hasgender(?h,?b) influences(?a,?h)  => hasgender(?a,?b)\t0.030668077\t0.797876524\t0.80772293\t2029\t2543\t2512\t?a\n",
      "hascapital(?a,?b) islocatedin(?b,?a)  => islocatedin(?a,?b)\t0.01015343\t0.516647532\t0.537634409\t900\t1742\t1674\t?a\n",
      "diedin(?g,?b) haschild(?g,?a)  => wasbornin(?a,?b)\t0.010095395\t0.195605343\t0.284283031\t454\t2321\t1597\t?a\n",
      "haschild(?g,?a) wasbornin(?g,?b)  => wasbornin(?a,?b)\t0.010228814\t0.150081566\t0.204899777\t460\t3065\t2245\t?a\n",
      "hascapital(?b,?a) islocatedin(?b,?a)  => islocatedin(?a,?b)\t0.01015343\t0.906344411\t0.908173562\t900\t993\t991\t?a\n",
      "hasgender(?g,?b) influences(?g,?a)  => hasgender(?a,?b)\t0.036865175\t0.841614907\t0.852797203\t2439\t2898\t2860\t?a\n",
      "islocatedin(?h,?b) wasbornin(?a,?h)  => iscitizenof(?a,?b)\t0.489429482\t0.011230579\t0.223367698\t1690\t150482\t7566\t?a\n",
      "hascapital(?b,?h) islocatedin(?a,?h)  => islocatedin(?a,?b)\t0.027075812\t0.145604562\t0.145604562\t2400\t16483\t16483\t?a\n",
      "hascapital(?a,?h) islocatedin(?h,?b)  => islocatedin(?a,?b)\t0.024187726\t0.293096377\t0.315851503\t2144\t7315\t6788\t?a\n",
      "isaffiliatedto(?a,?h) islocatedin(?h,?b)  => iscitizenof(?a,?b)\t0.061685491\t0.001216184\t0.139124755\t213\t175138\t1531\t?a\n",
      "hascapital(?g,?a) islocatedin(?g,?b)  => islocatedin(?a,?b)\t0.022597022\t0.448801255\t0.450213531\t2003\t4463\t4449\t?a\n",
      "islocatedin(?h,?b) playsfor(?a,?h)  => diedin(?a,?b)\t0.047382086\t0.003728516\t0.125717566\t438\t117473\t3484\t?a\n",
      "isaffiliatedto(?a,?h) islocatedin(?h,?b)  => diedin(?a,?b)\t0.093249675\t0.004921833\t0.142056691\t862\t175138\t6068\t?a\n",
      "islocatedin(?g,?a) islocatedin(?g,?b)  => islocatedin(?a,?b)\t0.174311823\t0.146205526\t0.158715973\t15451\t105680\t97350\t?a\n",
      "islocatedin(?h,?b) islocatedin(?a,?h)  => islocatedin(?a,?b)\t0.387421029\t0.23021848\t0.23021848\t34341\t149167\t149167\t?a\n",
      "Mining done in 27.98 s\n",
      "Total time 31.12 s\n",
      "238 rules mined.\n"
     ]
    },
    {
     "data": {
      "text/plain": "0"
     },
     "execution_count": 12,
     "metadata": {},
     "output_type": "execute_result"
    }
   ],
   "source": [
    "run_amie_parametrized(\n",
    "    amie_tsv_input_filename=amie_tsv_input_filename,\n",
    "    amie_output_filename=amie_output_filename,\n",
    "    datalog_notation_for_rules=True,\n",
    "    work_dir=work_dir,\n",
    "    amie_jar_filename=amie_jar_absolute_filename\n",
    ")"
   ],
   "metadata": {
    "collapsed": false,
    "pycharm": {
     "name": "#%%\n"
    }
   }
  },
  {
   "cell_type": "markdown",
   "source": [
    "## Check if it worked"
   ],
   "metadata": {
    "collapsed": false,
    "pycharm": {
     "name": "#%% md\n"
    }
   }
  },
  {
   "cell_type": "code",
   "execution_count": 13,
   "outputs": [
    {
     "name": "stdout",
     "output_type": "stream",
     "text": [
      "Using the default schema relations\n",
      "Assuming rdf:type as type relation\n",
      "Loading files...\n",
      "Starting train.csv\n",
      "Finished train.csv, still running: 0\n",
      "Loaded 1078898 facts in 3.11 s using 1255 MB\n",
      "Using HeadCoverage as pruning metric with minimum threshold 0.01\n",
      "Using recursivity limit 3\n",
      "Lazy mining assistant that stops counting when the denominator gets too high\n",
      "No minimum threshold on standard confidence\n",
      "Filtering on PCA confidence with minimum threshold 0.1\n",
      "Constants in the arguments of relations are disabled\n",
      "Lossless (query refinement) heuristics enabled\n",
      "MRT calls: 0\n",
      "Starting the mining phase... Using 12 threads\n",
      "Rule\tHead Coverage\tStd Confidence\tPCA Confidence\tPositive Examples\tBody size\tPCA Body size\tFunctional variable\n",
      "dealswith(?a,?b)  => hasneighbor(?a,?b)\t0.295495495\t0.125960061\t0.16449348\t164\t1302\t997\t?b\n",
      "dealswith(?b,?a)  => hasneighbor(?a,?b)\t0.297297297\t0.126728111\t0.174788136\t165\t1302\t944\t?b\n",
      "hasneighbor(?b,?a)  => hasneighbor(?a,?b)\t0.990990991\t0.990990991\t0.992779783\t550\t555\t554\t?b\n",
      "influences(?b,?a)  => hasacademicadvisor(?a,?b)\t0.069154775\t0.005882353\t0.185294118\t63\t10710\t340\t?a\n",
      "exports(?a,?b)  => imports(?a,?b)\t0.152671756\t0.158730159\t0.170940171\t60\t378\t351\t?a\n",
      "isleaderof(?a,?b)  => ispoliticianof(?a,?b)\t0.064754857\t0.146290491\t0.45751634\t140\t957\t306\t?a\n",
      "livesin(?a,?b)  => ispoliticianof(?a,?b)\t0.038852914\t0.028187919\t0.226415094\t84\t2980\t371\t?a\n",
      "iscitizenof(?a,?b)  => ispoliticianof(?a,?b)\t0.091581869\t0.057341442\t0.755725191\t198\t3453\t262\t?a\n",
      "isleaderof(?a,?b)  => livesin(?a,?b)\t0.022483221\t0.070010449\t0.210691824\t67\t957\t318\t?a\n",
      "wasbornin(?a,?b)  => livesin(?a,?b)\t0.045637584\t0.003024171\t0.105426357\t136\t44971\t1290\t?a\n",
      "iscitizenof(?a,?b)  => livesin(?a,?b)\t0.139261745\t0.120185346\t0.471055619\t415\t3453\t881\t?a\n",
      "diedin(?a,?b)  => livesin(?a,?b)\t0.034228188\t0.011034184\t0.242857143\t102\t9244\t420\t?a\n",
      "ispoliticianof(?a,?b)  => livesin(?a,?b)\t0.028187919\t0.038852914\t0.285714286\t84\t2162\t294\t?a\n",
      "islocatedin(?a,?b)  => hascapital(?a,?b)\t0.387436598\t0.011202617\t0.234363937\t993\t88640\t4237\t?a\n",
      "ismarriedto(?b,?a)  => ismarriedto(?a,?b)\t0.977896138\t0.977896138\t0.988957716\t3672\t3755\t3713\t?a\n",
      "created(?a,?b)  => wrotemusicfor(?a,?b)\t0.09194642\t0.080196163\t0.125536238\t556\t6933\t4429\t?b\n",
      "hasneighbor(?a,?b)  => dealswith(?a,?b)\t0.125960061\t0.295495495\t0.33744856\t164\t555\t486\t?a\n",
      "hasneighbor(?b,?a)  => dealswith(?a,?b)\t0.126728111\t0.297297297\t0.340206186\t165\t555\t485\t?a\n",
      "dealswith(?b,?a)  => dealswith(?a,?b)\t0.122887865\t0.122887865\t0.148423006\t160\t1302\t1078\t?a\n",
      "imports(?a,?b)  => exports(?a,?b)\t0.158730159\t0.152671756\t0.17699115\t60\t393\t339\t?a\n",
      "created(?a,?b)  => directed(?a,?b)\t0.219303047\t0.17337372\t0.236521055\t1202\t6933\t5082\t?b\n",
      "graduatedfrom(?a,?b)  => worksat(?a,?b)\t0.177009456\t0.081563181\t0.277443261\t599\t7344\t2159\t?a\n",
      "worksat(?a,?b)  => graduatedfrom(?a,?b)\t0.081563181\t0.177009456\t0.192666452\t599\t3384\t3109\t?a\n",
      "haschild(?b,?a)  => haschild(?a,?b)\t0.081769702\t0.081769702\t0.109581789\t414\t5063\t3778\t?b\n",
      "happenedin(?b,?a)  => participatedin(?a,?b)\t0.28776699\t0.293349169\t0.310106717\t1482\t5052\t4779\t?b\n",
      "ispoliticianof(?a,?b)  => iscitizenof(?a,?b)\t0.057341442\t0.091581869\t0.75\t198\t2162\t264\t?a\n",
      "livesin(?a,?b)  => iscitizenof(?a,?b)\t0.120185346\t0.139261745\t0.358067299\t415\t2980\t1159\t?a\n",
      "livesin(?a,?b)  => diedin(?a,?b)\t0.011034184\t0.034228188\t0.140689655\t102\t2980\t725\t?a\n",
      "wasbornin(?a,?b)  => diedin(?a,?b)\t0.12245781\t0.025171777\t0.174180643\t1132\t44971\t6499\t?a\n",
      "participatedin(?b,?a)  => happenedin(?a,?b)\t0.293349169\t0.28776699\t0.366650173\t1482\t5150\t4042\t?b\n",
      "wrotemusicfor(?a,?b)  => created(?a,?b)\t0.080196163\t0.09194642\t0.1572843\t556\t6047\t3535\t?b\n",
      "directed(?a,?b)  => created(?a,?b)\t0.17337372\t0.219303047\t0.326364377\t1202\t5481\t3683\t?b\n",
      "directed(?a,?b)  => actedin(?a,?b)\t0.017354524\t0.10180624\t0.104007456\t558\t5481\t5365\t?b\n",
      "isconnectedto(?b,?a)  => isconnectedto(?a,?b)\t0.662486352\t0.662486352\t0.671919\t21236\t32055\t31605\t?b\n",
      "diedin(?a,?b)  => wasbornin(?a,?b)\t0.025171777\t0.12245781\t0.174180643\t1132\t9244\t6499\t?a\n",
      "hascapital(?a,?b)  => islocatedin(?a,?b)\t0.011202617\t0.387436598\t0.417577796\t993\t2563\t2378\t?a\n",
      "hascapital(?b,?a)  => islocatedin(?a,?b)\t0.019652527\t0.679672259\t0.682067345\t1742\t2563\t2554\t?a\n",
      "isaffiliatedto(?a,?b)  => playsfor(?a,?b)\t0.868620415\t0.7461395\t0.825340824\t278848\t373721\t337858\t?a\n",
      "playsfor(?a,?b)  => isaffiliatedto(?a,?b)\t0.7461395\t0.868620415\t0.946135863\t278848\t321024\t294723\t?a\n",
      "isinterestedin(?g,?a) isinterestedin(?g,?b)  => isinterestedin(?a,?b)\t0.025104603\t0.050420168\t0.461538462\t6\t119\t13\t?a\n",
      "hascurrency(?h,?b) hasneighbor(?a,?h)  => hascurrency(?a,?b)\t0.165137615\t0.211764706\t0.666666667\t18\t85\t27\t?a\n",
      "hascurrency(?g,?b) hasneighbor(?g,?a)  => hascurrency(?a,?b)\t0.165137615\t0.214285714\t0.666666667\t18\t84\t27\t?a\n",
      "isinterestedin(?h,?b) isinterestedin(?a,?h)  => isinterestedin(?a,?b)\t0.016736402\t0.8\t0.8\t4\t5\t5\t?a\n",
      "dealswith(?g,?a) hascurrency(?g,?b)  => hascurrency(?a,?b)\t0.146788991\t0.131147541\t0.390243902\t16\t122\t41\t?a\n",
      "dealswith(?b,?a) hasneighbor(?b,?a)  => hasneighbor(?a,?b)\t0.293693694\t0.993902439\t0.993902439\t163\t164\t164\t?b\n",
      "dealswith(?a,?h) hascurrency(?h,?b)  => hascurrency(?a,?b)\t0.211009174\t0.05764411\t0.319444444\t23\t399\t72\t?a\n",
      "hascurrency(?g,?b) islocatedin(?g,?a)  => hascurrency(?a,?b)\t0.018348624\t0.028169014\t0.333333333\t2\t71\t6\t?a\n",
      "dealswith(?b,?a) dealswith(?a,?b)  => hasneighbor(?a,?b)\t0.097297297\t0.3375\t0.457627119\t54\t160\t118\t?b\n",
      "influences(?g,?a) isknownfor(?g,?b)  => isinterestedin(?a,?b)\t0.046025105\t0.027918782\t0.120879121\t11\t394\t91\t?a\n",
      "hasneighbor(?h,?a) hasneighbor(?b,?h)  => hasneighbor(?a,?b)\t0.884684685\t0.273995536\t0.273995536\t491\t1792\t1792\t?b\n",
      "dealswith(?h,?a) hasneighbor(?b,?h)  => hasneighbor(?a,?b)\t0.407207207\t0.103908046\t0.103908046\t226\t2175\t2175\t?b\n",
      "hasneighbor(?a,?h) hasneighbor(?b,?h)  => hasneighbor(?a,?b)\t0.884684685\t0.273995536\t0.27414852\t491\t1792\t1791\t?b\n",
      "hasneighbor(?h,?b) hasneighbor(?a,?h)  => hasneighbor(?a,?b)\t0.884684685\t0.273995536\t0.273995536\t491\t1792\t1792\t?b\n",
      "influences(?a,?h) isinterestedin(?h,?b)  => isinterestedin(?a,?b)\t0.355648536\t0.083909181\t0.321969697\t85\t1013\t264\t?a\n",
      "hasneighbor(?g,?a) hasneighbor(?g,?b)  => hasneighbor(?a,?b)\t0.884684685\t0.273537604\t0.273537604\t491\t1795\t1795\t?b\n",
      "influences(?g,?a) isinterestedin(?g,?b)  => isinterestedin(?a,?b)\t0.527196653\t0.111405836\t0.370588235\t126\t1131\t340\t?a\n",
      "dealswith(?h,?b) hasneighbor(?a,?h)  => hasneighbor(?a,?b)\t0.407207207\t0.103908046\t0.13476446\t226\t2175\t1677\t?b\n",
      "dealswith(?g,?a) hasneighbor(?g,?b)  => hasneighbor(?a,?b)\t0.407207207\t0.102867547\t0.102867547\t226\t2197\t2197\t?b\n",
      "dealswith(?g,?b) hasneighbor(?g,?a)  => hasneighbor(?a,?b)\t0.407207207\t0.102867547\t0.133648729\t226\t2197\t1691\t?b\n",
      "hasneighbor(?a,?h) imports(?h,?b)  => imports(?a,?b)\t0.419847328\t0.207026349\t0.251141553\t165\t797\t657\t?a\n",
      "exports(?h,?b) hasneighbor(?a,?h)  => imports(?a,?b)\t0.193384224\t0.090154211\t0.109352518\t76\t843\t695\t?a\n",
      "hasneighbor(?g,?a) imports(?g,?b)  => imports(?a,?b)\t0.422391858\t0.2077597\t0.252279635\t166\t799\t658\t?a\n",
      "exports(?g,?b) hasneighbor(?g,?a)  => imports(?a,?b)\t0.195928753\t0.090375587\t0.110473458\t77\t852\t697\t?a\n",
      "dealswith(?a,?h) exports(?h,?b)  => imports(?a,?b)\t0.501272265\t0.108599779\t0.127425614\t197\t1814\t1546\t?a\n",
      "dealswith(?a,?h) imports(?h,?b)  => imports(?a,?b)\t0.610687023\t0.158415842\t0.18957346\t240\t1515\t1266\t?a\n",
      "dealswith(?g,?a) imports(?g,?b)  => imports(?a,?b)\t0.37913486\t0.16284153\t0.207232267\t149\t915\t719\t?a\n",
      "haschild(?a,?h) isleaderof(?h,?b)  => ispoliticianof(?a,?b)\t0.049028677\t0.211155378\t0.397003745\t106\t502\t267\t?a\n",
      "haschild(?a,?h) livesin(?h,?b)  => ispoliticianof(?a,?b)\t0.014338575\t0.080729167\t0.13963964\t31\t384\t222\t?a\n",
      "haschild(?a,?h) iscitizenof(?h,?b)  => ispoliticianof(?a,?b)\t0.056891767\t0.532467532\t0.831081081\t123\t231\t148\t?a\n",
      "hascapital(?b,?h) livesin(?a,?h)  => ispoliticianof(?a,?b)\t0.039777983\t0.040224509\t0.217721519\t86\t2138\t395\t?a\n",
      "haschild(?a,?h) ispoliticianof(?h,?b)  => ispoliticianof(?a,?b)\t0.42506938\t0.718530102\t0.87607245\t919\t1279\t1049\t?a\n",
      "isleaderof(?a,?h) islocatedin(?h,?b)  => ispoliticianof(?a,?b)\t0.02960222\t0.039677619\t0.14479638\t64\t1613\t442\t?a\n",
      "islocatedin(?h,?b) livesin(?a,?h)  => ispoliticianof(?a,?b)\t0.11147086\t0.033977161\t0.260259179\t241\t7093\t926\t?a\n",
      "haschild(?g,?a) isleaderof(?g,?b)  => ispoliticianof(?a,?b)\t0.021276596\t0.12849162\t0.259887006\t46\t358\t177\t?a\n",
      "diedin(?a,?h) hascapital(?b,?h)  => ispoliticianof(?a,?b)\t0.184551341\t0.015629284\t0.133534137\t399\t25529\t2988\t?a\n",
      "haschild(?g,?a) livesin(?g,?b)  => ispoliticianof(?a,?b)\t0.014338575\t0.095384615\t0.155\t31\t325\t200\t?a\n",
      "ismarriedto(?g,?a) ispoliticianof(?g,?b)  => ispoliticianof(?a,?b)\t0.028677151\t0.373493976\t0.885714286\t62\t166\t70\t?a\n",
      "haschild(?g,?a) iscitizenof(?g,?b)  => ispoliticianof(?a,?b)\t0.064754857\t0.56\t0.777777778\t140\t250\t180\t?a\n",
      "haschild(?g,?a) ispoliticianof(?g,?b)  => ispoliticianof(?a,?b)\t0.449583719\t0.754072925\t0.895852535\t972\t1289\t1085\t?a\n",
      "hascapital(?b,?h) livesin(?a,?h)  => livesin(?a,?b)\t0.091946309\t0.128157156\t0.128157156\t274\t2138\t2138\t?a\n",
      "ismarriedto(?a,?h) ispoliticianof(?h,?b)  => ispoliticianof(?a,?b)\t0.028677151\t0.369047619\t0.885714286\t62\t168\t70\t?a\n",
      "created(?a,?h) islocatedin(?h,?b)  => ispoliticianof(?a,?b)\t0.011563367\t0.005901794\t0.274725275\t25\t4236\t91\t?a\n",
      "hascurrency(?h,?b) islocatedin(?a,?h)  => hascurrency(?a,?b)\t0.082568807\t0.00055991\t0.5625\t9\t16074\t16\t?a\n",
      "graduatedfrom(?a,?h) islocatedin(?h,?b)  => ispoliticianof(?a,?b)\t0.336725254\t0.041204437\t0.204724409\t728\t17668\t3556\t?a\n",
      "hasacademicadvisor(?a,?h) iscitizenof(?h,?b)  => livesin(?a,?b)\t0.033892617\t0.137414966\t0.437229437\t101\t735\t231\t?a\n",
      "hasacademicadvisor(?a,?h) livesin(?h,?b)  => livesin(?a,?b)\t0.023154362\t0.173366834\t0.439490446\t69\t398\t157\t?a\n",
      "isleaderof(?a,?h) islocatedin(?h,?b)  => livesin(?a,?b)\t0.032885906\t0.060756355\t0.182156134\t98\t1613\t538\t?a\n",
      "ismarriedto(?a,?h) livesin(?h,?b)  => livesin(?a,?b)\t0.017785235\t0.152298851\t0.456896552\t53\t348\t116\t?a\n",
      "haschild(?a,?h) livesin(?h,?b)  => livesin(?a,?b)\t0.01442953\t0.111979167\t0.316176471\t43\t384\t136\t?a\n",
      "islocatedin(?h,?b) worksat(?a,?h)  => livesin(?a,?b)\t0.124832215\t0.050141529\t0.168554599\t372\t7419\t2207\t?a\n",
      "ismarriedto(?g,?a) livesin(?g,?b)  => livesin(?a,?b)\t0.017785235\t0.152298851\t0.464912281\t53\t348\t114\t?a\n",
      "hascapital(?h,?b) ispoliticianof(?a,?h)  => livesin(?a,?b)\t0.029865772\t0.010486627\t0.183505155\t89\t8487\t485\t?a\n",
      "hasacademicadvisor(?g,?a) livesin(?g,?b)  => livesin(?a,?b)\t0.019463087\t0.16909621\t0.4\t58\t343\t145\t?a\n",
      "haschild(?g,?a) livesin(?g,?b)  => livesin(?a,?b)\t0.01409396\t0.129230769\t0.330708661\t42\t325\t127\t?a\n",
      "islocatedin(?h,?b) livesin(?a,?h)  => livesin(?a,?b)\t0.27885906\t0.117157761\t0.117157761\t831\t7093\t7093\t?a\n",
      "owns(?a,?h) owns(?b,?h)  => owns(?a,?b)\t0.012396694\t0.006020067\t0.126760563\t9\t1495\t71\t?b\n",
      "hasacademicadvisor(?g,?a) iscitizenof(?g,?b)  => livesin(?a,?b)\t0.024832215\t0.123745819\t0.381443299\t74\t598\t194\t?a\n",
      "diedin(?a,?h) islocatedin(?h,?b)  => ispoliticianof(?a,?b)\t0.267807586\t0.017243433\t0.232436772\t579\t33578\t2491\t?a\n",
      "hasneighbor(?a,?h) owns(?h,?b)  => owns(?a,?b)\t0.03030303\t0.103286385\t0.103286385\t22\t213\t213\t?b\n",
      "haschild(?g,?a) ispoliticianof(?g,?b)  => livesin(?a,?b)\t0.010402685\t0.024049651\t0.218309859\t31\t1289\t142\t?a\n",
      "haschild(?a,?h) owns(?h,?b)  => owns(?a,?b)\t0.024793388\t0.36\t0.36\t18\t50\t50\t?b\n",
      "islocatedin(?b,?h) owns(?a,?h)  => owns(?a,?b)\t0.015151515\t0.006646526\t0.166666667\t11\t1655\t66\t?b\n",
      "owns(?h,?b) owns(?a,?h)  => owns(?a,?b)\t0.013774105\t0.105263158\t0.105263158\t10\t95\t95\t?b\n",
      "hasneighbor(?g,?a) owns(?g,?b)  => owns(?a,?b)\t0.03030303\t0.103286385\t0.103286385\t22\t213\t213\t?b\n",
      "dealswith(?g,?a) owns(?g,?b)  => owns(?a,?b)\t0.039944904\t0.105072464\t0.105072464\t29\t276\t276\t?b\n",
      "haschild(?g,?a) owns(?g,?b)  => owns(?a,?b)\t0.026170799\t0.267605634\t0.267605634\t19\t71\t71\t?b\n",
      "ispoliticianof(?g,?a) livesin(?g,?b)  => hascapital(?a,?b)\t0.025751073\t0.170984456\t0.189111748\t66\t386\t349\t?a\n",
      "graduatedfrom(?a,?h) islocatedin(?h,?b)  => livesin(?a,?b)\t0.223825503\t0.037751868\t0.143657118\t667\t17668\t4643\t?a\n",
      "islocatedin(?h,?b) owns(?a,?h)  => owns(?a,?b)\t0.015151515\t0.00735786\t0.275\t11\t1495\t40\t?b\n",
      "diedin(?g,?b) ispoliticianof(?g,?a)  => hascapital(?a,?b)\t0.05072181\t0.242085661\t0.281995662\t130\t537\t461\t?a\n",
      "ispoliticianof(?g,?a) wasbornin(?g,?b)  => hascapital(?a,?b)\t0.051111978\t0.128810226\t0.141774892\t131\t1017\t924\t?a\n",
      "isleaderof(?g,?a) wasbornin(?g,?b)  => hascapital(?a,?b)\t0.016387046\t0.078358209\t0.352941176\t42\t536\t119\t?a\n",
      "diedin(?g,?b) iscitizenof(?g,?a)  => hascapital(?a,?b)\t0.034724932\t0.11618799\t0.120107962\t89\t766\t741\t?a\n",
      "diedin(?g,?b) livesin(?g,?a)  => hascapital(?a,?b)\t0.015606711\t0.068259386\t0.135135135\t40\t586\t296\t?a\n",
      "haschild(?a,?b) ismarriedto(?b,?a)  => ismarriedto(?a,?b)\t0.015712383\t1\t1\t59\t59\t59\t?a\n",
      "haschild(?a,?h) haschild(?b,?h)  => ismarriedto(?a,?b)\t0.235952064\t0.106953163\t0.239136302\t886\t8284\t3705\t?a\n",
      "hascapital(?b,?h) wasbornin(?a,?h)  => ispoliticianof(?a,?b)\t0.165124884\t0.004659297\t0.137891078\t357\t76621\t2589\t?a\n",
      "livesin(?a,?b) wasbornin(?a,?b)  => isleaderof(?a,?b)\t0.014629049\t0.102941176\t0.311111111\t14\t136\t45\t?b\n",
      "islocatedin(?b,?a) islocatedin(?a,?b)  => hascapital(?a,?b)\t0.351150995\t0.156794425\t0.788091068\t900\t5740\t1142\t?a\n",
      "dealswith(?b,?a) hasneighbor(?a,?b)  => dealswith(?a,?b)\t0.041474654\t0.327272727\t0.350649351\t54\t165\t154\t?a\n",
      "diedin(?a,?h) islocatedin(?h,?b)  => livesin(?a,?b)\t0.081208054\t0.0072071\t0.163734777\t242\t33578\t1478\t?a\n",
      "dealswith(?b,?a) hasneighbor(?b,?a)  => dealswith(?a,?b)\t0.041474654\t0.329268293\t0.352941176\t54\t164\t153\t?a\n",
      "hasneighbor(?h,?a) hasneighbor(?b,?h)  => dealswith(?a,?b)\t0.176651306\t0.128348214\t0.146871009\t230\t1792\t1566\t?a\n",
      "owns(?a,?h) owns(?b,?h)  => dealswith(?a,?b)\t0.056067588\t0.048829431\t0.190600522\t73\t1495\t383\t?a\n",
      "hasneighbor(?a,?h) hasneighbor(?b,?h)  => dealswith(?a,?b)\t0.177419355\t0.12890625\t0.147887324\t231\t1792\t1562\t?a\n",
      "dealswith(?h,?b) hasneighbor(?a,?h)  => dealswith(?a,?b)\t0.491551459\t0.294252874\t0.33126294\t640\t2175\t1932\t?a\n",
      "hasneighbor(?h,?b) hasneighbor(?a,?h)  => dealswith(?a,?b)\t0.177419355\t0.12890625\t0.147415444\t231\t1792\t1567\t?a\n",
      "hasneighbor(?g,?a) hasneighbor(?g,?b)  => dealswith(?a,?b)\t0.176651306\t0.128133705\t0.146217419\t230\t1795\t1573\t?a\n",
      "dealswith(?h,?b) dealswith(?a,?h)  => dealswith(?a,?b)\t0.732718894\t0.249607535\t0.249607535\t954\t3822\t3822\t?a\n",
      "dealswith(?g,?b) hasneighbor(?g,?a)  => dealswith(?a,?b)\t0.491551459\t0.291306327\t0.329387545\t640\t2197\t1943\t?a\n",
      "hascapital(?g,?b) islocatedin(?g,?a)  => hascapital(?a,?b)\t0.089738588\t0.051534842\t0.139647845\t230\t4463\t1647\t?a\n",
      "exports(?h,?b) hasneighbor(?a,?h)  => exports(?a,?b)\t0.425925926\t0.190984579\t0.249226006\t161\t843\t646\t?a\n",
      "hasneighbor(?a,?h) imports(?h,?b)  => exports(?a,?b)\t0.17989418\t0.08531995\t0.112211221\t68\t797\t606\t?a\n",
      "dealswith(?g,?a) dealswith(?g,?b)  => dealswith(?a,?b)\t0.475422427\t0.193196005\t0.229769859\t619\t3204\t2694\t?a\n",
      "dealswith(?a,?h) exports(?h,?b)  => exports(?a,?b)\t0.515873016\t0.107497244\t0.137227305\t195\t1814\t1421\t?a\n",
      "exports(?g,?b) hasneighbor(?g,?a)  => exports(?a,?b)\t0.428571429\t0.190140845\t0.25\t162\t852\t648\t?a\n",
      "hasneighbor(?g,?a) imports(?g,?b)  => exports(?a,?b)\t0.17989418\t0.085106383\t0.112026359\t68\t799\t607\t?a\n",
      "dealswith(?g,?a) exports(?g,?b)  => exports(?a,?b)\t0.375661376\t0.128158845\t0.169047619\t142\t1108\t840\t?a\n",
      "dealswith(?g,?a) imports(?g,?b)  => exports(?a,?b)\t0.238095238\t0.098360656\t0.130624093\t90\t915\t689\t?a\n",
      "iscitizenof(?g,?b) livesin(?g,?a)  => dealswith(?a,?b)\t0.030721966\t0.061728395\t0.245398773\t40\t648\t163\t?a\n",
      "livesin(?g,?a) livesin(?g,?b)  => dealswith(?a,?b)\t0.0453149\t0.016866781\t0.112380952\t59\t3498\t525\t?a\n",
      "isleaderof(?a,?h) islocatedin(?h,?b)  => isleaderof(?a,?b)\t0.085684431\t0.05083695\t0.171189979\t82\t1613\t479\t?b\n",
      "dealswith(?g,?b) islocatedin(?g,?a)  => dealswith(?a,?b)\t0.016897081\t0.041431262\t0.407407407\t22\t531\t54\t?a\n",
      "islocatedin(?h,?a) participatedin(?b,?h)  => dealswith(?a,?b)\t0.071428571\t0.03315508\t0.108391608\t93\t2805\t858\t?a\n",
      "iscitizenof(?g,?a) iscitizenof(?g,?b)  => dealswith(?a,?b)\t0.068356375\t0.131656805\t0.217603912\t89\t676\t409\t?a\n",
      "actedin(?a,?b) created(?a,?b)  => directed(?a,?b)\t0.038679073\t0.45106383\t0.542199488\t212\t470\t391\t?b\n",
      "hasacademicadvisor(?a,?h) worksat(?h,?b)  => worksat(?a,?b)\t0.04787234\t0.117732558\t0.168049793\t162\t1376\t964\t?a\n",
      "graduatedfrom(?h,?b) hasacademicadvisor(?a,?h)  => worksat(?a,?b)\t0.031028369\t0.085158151\t0.131909548\t105\t1233\t796\t?a\n",
      "hasacademicadvisor(?g,?a) worksat(?g,?b)  => worksat(?a,?b)\t0.043735225\t0.109225092\t0.154488518\t148\t1355\t958\t?a\n",
      "influences(?g,?a) worksat(?g,?b)  => worksat(?a,?b)\t0.018026005\t0.050123254\t0.10951526\t61\t1217\t557\t?a\n",
      "graduatedfrom(?g,?b) hasacademicadvisor(?g,?a)  => worksat(?a,?b)\t0.079196217\t0.242753623\t0.36462585\t268\t1104\t735\t?a\n",
      "hasacademicadvisor(?a,?h) worksat(?h,?b)  => graduatedfrom(?a,?b)\t0.050925926\t0.271802326\t0.300884956\t374\t1376\t1243\t?a\n",
      "graduatedfrom(?h,?b) hasacademicadvisor(?a,?h)  => graduatedfrom(?a,?b)\t0.032271242\t0.192214112\t0.21486854\t237\t1233\t1103\t?a\n",
      "hasneighbor(?a,?h) hasofficiallanguage(?h,?b)  => hasofficiallanguage(?a,?b)\t0.255033557\t0.336283186\t0.506666667\t76\t226\t150\t?a\n",
      "graduatedfrom(?h,?b) influences(?a,?h)  => worksat(?a,?b)\t0.018026005\t0.017784257\t0.109318996\t61\t3430\t558\t?a\n",
      "dealswith(?a,?h) hasofficiallanguage(?h,?b)  => hasofficiallanguage(?a,?b)\t0.355704698\t0.160120846\t0.26044226\t106\t662\t407\t?a\n",
      "hasneighbor(?g,?a) hasofficiallanguage(?g,?b)  => hasofficiallanguage(?a,?b)\t0.255033557\t0.337777778\t0.506666667\t76\t225\t150\t?a\n",
      "dealswith(?g,?a) hasofficiallanguage(?g,?b)  => hasofficiallanguage(?a,?b)\t0.244966443\t0.228840125\t0.347619048\t73\t319\t210\t?a\n",
      "graduatedfrom(?g,?b) hasacademicadvisor(?g,?a)  => graduatedfrom(?a,?b)\t0.023828976\t0.158514493\t0.18153527\t175\t1104\t964\t?a\n",
      "hasofficiallanguage(?g,?b) islocatedin(?g,?a)  => hasofficiallanguage(?a,?b)\t0.077181208\t0.115577889\t0.793103448\t23\t199\t29\t?a\n",
      "graduatedfrom(?h,?b) haschild(?a,?h)  => graduatedfrom(?a,?b)\t0.035266885\t0.136675462\t0.20234375\t259\t1895\t1280\t?a\n",
      "influences(?g,?a) worksat(?g,?b)  => graduatedfrom(?a,?b)\t0.011165577\t0.0673788\t0.1025\t82\t1217\t800\t?a\n",
      "dealswith(?h,?b) islocatedin(?a,?h)  => dealswith(?a,?b)\t0.023041475\t0.000197113\t0.167597765\t30\t152197\t179\t?a\n",
      "graduatedfrom(?g,?b) haschild(?g,?a)  => graduatedfrom(?a,?b)\t0.035266885\t0.137912673\t0.198619632\t259\t1878\t1304\t?a\n",
      "haschild(?a,?h) ismarriedto(?b,?h)  => haschild(?a,?b)\t0.053328066\t0.118942731\t0.150922303\t270\t2270\t1789\t?b\n",
      "haschild(?a,?h) ismarriedto(?h,?b)  => haschild(?a,?b)\t0.053328066\t0.118006993\t0.150166852\t270\t2288\t1798\t?b\n",
      "haschild(?h,?b) ismarriedto(?a,?h)  => haschild(?a,?b)\t0.309302785\t0.581076067\t0.581076067\t1566\t2695\t2695\t?b\n",
      "hasofficiallanguage(?h,?b) islocatedin(?a,?h)  => hasofficiallanguage(?a,?b)\t0.181208054\t0.003884892\t0.692307692\t54\t13900\t78\t?a\n",
      "hasneighbor(?a,?h) participatedin(?h,?b)  => participatedin(?a,?b)\t0.121941748\t0.171678513\t0.171678513\t628\t3658\t3658\t?b\n",
      "haschild(?g,?b) ismarriedto(?g,?a)  => haschild(?a,?b)\t0.308907762\t0.57690889\t0.57690889\t1564\t2711\t2711\t?b\n",
      "hasneighbor(?g,?a) participatedin(?g,?b)  => participatedin(?a,?b)\t0.121941748\t0.168139224\t0.168139224\t628\t3735\t3735\t?b\n",
      "dealswith(?g,?a) participatedin(?g,?b)  => participatedin(?a,?b)\t0.177281553\t0.16332737\t0.16332737\t913\t5590\t5590\t?b\n",
      "hasacademicadvisor(?a,?h) iscitizenof(?h,?b)  => iscitizenof(?a,?b)\t0.076455256\t0.359183673\t0.533333333\t264\t735\t495\t?a\n",
      "hasacademicadvisor(?a,?h) livesin(?h,?b)  => iscitizenof(?a,?b)\t0.029249928\t0.253768844\t0.38996139\t101\t398\t259\t?a\n",
      "islocatedin(?h,?b) worksat(?a,?h)  => iscitizenof(?a,?b)\t0.189690125\t0.088286831\t0.143294684\t655\t7419\t4571\t?a\n",
      "isleaderof(?a,?h) islocatedin(?h,?b)  => iscitizenof(?a,?b)\t0.013611352\t0.029138252\t0.225961538\t47\t1613\t208\t?a\n",
      "diedin(?a,?h) hascapital(?b,?h)  => iscitizenof(?a,?b)\t0.122791775\t0.016608563\t0.111315306\t424\t25529\t3809\t?a\n",
      "islocatedin(?h,?b) livesin(?a,?h)  => iscitizenof(?a,?b)\t0.103098755\t0.050190328\t0.140711462\t356\t7093\t2530\t?a\n",
      "haschild(?a,?h) ispoliticianof(?h,?b)  => iscitizenof(?a,?b)\t0.034462786\t0.093041439\t0.793333333\t119\t1279\t150\t?a\n",
      "haschild(?a,?h) iscitizenof(?h,?b)  => iscitizenof(?a,?b)\t0.023747466\t0.354978355\t0.921348315\t82\t231\t89\t?a\n",
      "created(?a,?h) islocatedin(?h,?b)  => iscitizenof(?a,?b)\t0.041702867\t0.033994334\t0.362720403\t144\t4236\t397\t?a\n",
      "influences(?a,?h) iscitizenof(?h,?b)  => iscitizenof(?a,?b)\t0.06429192\t0.115805947\t0.395721925\t222\t1917\t561\t?a\n",
      "hasacademicadvisor(?g,?a) iscitizenof(?g,?b)  => iscitizenof(?a,?b)\t0.057051839\t0.329431438\t0.486419753\t197\t598\t405\t?a\n",
      "directed(?a,?h) islocatedin(?h,?b)  => iscitizenof(?a,?b)\t0.01158413\t0.015637217\t0.506329114\t40\t2558\t79\t?a\n",
      "hasacademicadvisor(?g,?a) livesin(?g,?b)  => iscitizenof(?a,?b)\t0.024905879\t0.250728863\t0.367521368\t86\t343\t234\t?a\n",
      "diedin(?a,?h) islocatedin(?h,?b)  => iscitizenof(?a,?b)\t0.275412685\t0.028322116\t0.222040626\t951\t33578\t4283\t?a\n",
      "haschild(?g,?a) ispoliticianof(?g,?b)  => iscitizenof(?a,?b)\t0.030697944\t0.08223429\t0.848\t106\t1289\t125\t?a\n",
      "haschild(?g,?a) iscitizenof(?g,?b)  => iscitizenof(?a,?b)\t0.023747466\t0.328\t0.911111111\t82\t250\t90\t?a\n",
      "influences(?g,?a) iscitizenof(?g,?b)  => iscitizenof(?a,?b)\t0.077324066\t0.132769766\t0.360323887\t267\t2011\t741\t?a\n",
      "graduatedfrom(?a,?h) islocatedin(?h,?b)  => iscitizenof(?a,?b)\t0.377063423\t0.073692552\t0.195173137\t1302\t17668\t6671\t?a\n",
      "diedin(?h,?b) ismarriedto(?a,?h)  => diedin(?a,?b)\t0.037754219\t0.226476314\t0.325256291\t349\t1541\t1073\t?a\n",
      "hascapital(?b,?h) wasbornin(?a,?h)  => iscitizenof(?a,?b)\t0.126556617\t0.005703397\t0.102968897\t437\t76621\t4244\t?a\n",
      "haschild(?a,?h) wasbornin(?h,?b)  => diedin(?a,?b)\t0.040999567\t0.132424878\t0.262102351\t379\t2862\t1446\t?a\n",
      "islocatedin(?h,?b) wasbornin(?a,?h)  => livesin(?a,?b)\t0.15738255\t0.003116652\t0.100277956\t469\t150482\t4677\t?a\n",
      "isaffiliatedto(?a,?h) islocatedin(?h,?b)  => ispoliticianof(?a,?b)\t0.24653099\t0.003043314\t0.216402761\t533\t175138\t2463\t?a\n",
      "actedin(?a,?h) islocatedin(?h,?b)  => iscitizenof(?a,?b)\t0.032435563\t0.009923799\t0.369636964\t112\t11286\t303\t?a\n",
      "diedin(?h,?b) haschild(?a,?h)  => diedin(?a,?b)\t0.037321506\t0.165547025\t0.243472124\t345\t2084\t1417\t?a\n",
      "hascapital(?h,?b) ispoliticianof(?a,?h)  => diedin(?a,?b)\t0.040999567\t0.044656534\t0.104667219\t379\t8487\t3621\t?a\n",
      "islocatedin(?h,?b) worksat(?a,?h)  => diedin(?a,?b)\t0.039809606\t0.049602372\t0.11309158\t368\t7419\t3254\t?a\n",
      "ismarriedto(?a,?h) wasbornin(?h,?b)  => diedin(?a,?b)\t0.012656859\t0.044334975\t0.106363636\t117\t2639\t1100\t?a\n",
      "isaffiliatedto(?a,?h) islocatedin(?h,?b)  => livesin(?a,?b)\t0.056040268\t0.000953534\t0.171987642\t167\t175138\t971\t?a\n",
      "diedin(?g,?b) haschild(?g,?a)  => diedin(?a,?b)\t0.038619645\t0.153813012\t0.256834532\t357\t2321\t1390\t?a\n",
      "diedin(?g,?b) ismarriedto(?g,?a)  => diedin(?a,?b)\t0.037862397\t0.226244344\t0.325884544\t350\t1547\t1074\t?a\n",
      "happenedin(?a,?h) hasneighbor(?b,?h)  => happenedin(?a,?b)\t0.069675376\t0.083550914\t0.105705706\t352\t4213\t3330\t?b\n",
      "haschild(?g,?a) wasbornin(?g,?b)  => diedin(?a,?b)\t0.022068369\t0.066557912\t0.146341463\t204\t3065\t1394\t?a\n",
      "ismarriedto(?g,?a) wasbornin(?g,?b)  => diedin(?a,?b)\t0.01254868\t0.044224171\t0.106324473\t116\t2623\t1091\t?a\n",
      "happenedin(?a,?h) hascapital(?b,?h)  => happenedin(?a,?b)\t0.034045922\t0.187978142\t0.29005059\t172\t915\t593\t?b\n",
      "happenedin(?a,?g) hasneighbor(?g,?b)  => happenedin(?a,?b)\t0.069675376\t0.082667919\t0.105547226\t352\t4258\t3335\t?b\n",
      "islocatedin(?h,?b) wasbornin(?a,?h)  => ispoliticianof(?a,?b)\t0.446345976\t0.006412727\t0.258990875\t965\t150482\t3726\t?a\n",
      "hasacademicadvisor(?a,?h) haswonprize(?h,?b)  => haswonprize(?a,?b)\t0.01608412\t0.203684211\t0.25748503\t387\t1900\t1503\t?a\n",
      "haschild(?a,?h) haswonprize(?h,?b)  => haswonprize(?a,?b)\t0.031586385\t0.189054726\t0.304\t760\t4020\t2500\t?a\n",
      "hasacademicadvisor(?g,?a) haswonprize(?g,?b)  => haswonprize(?a,?b)\t0.012717676\t0.201980198\t0.258664413\t306\t1515\t1183\t?a\n",
      "actedin(?a,?b) directed(?a,?b)  => created(?a,?b)\t0.030578393\t0.379928315\t0.56684492\t212\t558\t374\t?b\n",
      "haswonprize(?h,?b) ismarriedto(?a,?h)  => haswonprize(?a,?b)\t0.021113004\t0.167878387\t0.309945088\t508\t3026\t1639\t?a\n",
      "haswonprize(?g,?b) ismarriedto(?g,?a)  => haswonprize(?a,?b)\t0.021113004\t0.168211921\t0.309567337\t508\t3020\t1641\t?a\n",
      "haschild(?g,?a) haswonprize(?g,?b)  => haswonprize(?a,?b)\t0.033373509\t0.201202706\t0.312208398\t803\t3991\t2572\t?a\n",
      "owns(?g,?a) owns(?g,?b)  => isconnectedto(?a,?b)\t0.010138824\t0.115823236\t0.276125743\t325\t2806\t1177\t?b\n",
      "haswonprize(?h,?b) influences(?a,?h)  => haswonprize(?a,?b)\t0.021528615\t0.075477197\t0.16823644\t518\t6863\t3079\t?a\n",
      "haswonprize(?g,?b) influences(?g,?a)  => haswonprize(?a,?b)\t0.023939155\t0.087405159\t0.177887585\t576\t6590\t3238\t?a\n",
      "hasacademicadvisor(?a,?h) hasgender(?h,?b)  => hasgender(?a,?b)\t0.011411729\t0.948492462\t0.961783439\t755\t796\t785\t?a\n",
      "happenedin(?a,?g) islocatedin(?g,?b)  => happenedin(?a,?b)\t0.167854315\t0.130301168\t0.170726797\t848\t6508\t4967\t?b\n",
      "haschild(?a,?h) hasgender(?h,?b)  => hasgender(?a,?b)\t0.03337364\t0.666666667\t0.699398163\t2208\t3312\t3157\t?a\n",
      "haschild(?g,?a) hasgender(?g,?b)  => hasgender(?a,?b)\t0.036502418\t0.653232351\t0.679898649\t2415\t3697\t3552\t?a\n",
      "hasgender(?h,?b) influences(?a,?h)  => hasgender(?a,?b)\t0.030668077\t0.797876524\t0.80772293\t2029\t2543\t2512\t?a\n",
      "hascapital(?a,?b) islocatedin(?b,?a)  => islocatedin(?a,?b)\t0.01015343\t0.516647532\t0.537634409\t900\t1742\t1674\t?a\n",
      "diedin(?g,?b) haschild(?g,?a)  => wasbornin(?a,?b)\t0.010095395\t0.195605343\t0.284283031\t454\t2321\t1597\t?a\n",
      "haschild(?g,?a) wasbornin(?g,?b)  => wasbornin(?a,?b)\t0.010228814\t0.150081566\t0.204899777\t460\t3065\t2245\t?a\n",
      "hascapital(?b,?a) islocatedin(?b,?a)  => islocatedin(?a,?b)\t0.01015343\t0.906344411\t0.908173562\t900\t993\t991\t?a\n",
      "hasgender(?g,?b) influences(?g,?a)  => hasgender(?a,?b)\t0.036865175\t0.841614907\t0.852797203\t2439\t2898\t2860\t?a\n",
      "islocatedin(?h,?b) wasbornin(?a,?h)  => iscitizenof(?a,?b)\t0.489429482\t0.011230579\t0.223367698\t1690\t150482\t7566\t?a\n",
      "hascapital(?b,?h) islocatedin(?a,?h)  => islocatedin(?a,?b)\t0.027075812\t0.145604562\t0.145604562\t2400\t16483\t16483\t?a\n",
      "hascapital(?a,?h) islocatedin(?h,?b)  => islocatedin(?a,?b)\t0.024187726\t0.293096377\t0.315851503\t2144\t7315\t6788\t?a\n",
      "isaffiliatedto(?a,?h) islocatedin(?h,?b)  => iscitizenof(?a,?b)\t0.061685491\t0.001216184\t0.139124755\t213\t175138\t1531\t?a\n",
      "hascapital(?g,?a) islocatedin(?g,?b)  => islocatedin(?a,?b)\t0.022597022\t0.448801255\t0.450213531\t2003\t4463\t4449\t?a\n",
      "islocatedin(?h,?b) playsfor(?a,?h)  => diedin(?a,?b)\t0.047382086\t0.003728516\t0.125717566\t438\t117473\t3484\t?a\n",
      "isaffiliatedto(?a,?h) islocatedin(?h,?b)  => diedin(?a,?b)\t0.093249675\t0.004921833\t0.142056691\t862\t175138\t6068\t?a\n",
      "islocatedin(?g,?a) islocatedin(?g,?b)  => islocatedin(?a,?b)\t0.174311823\t0.146205526\t0.158715973\t15451\t105680\t97350\t?a\n",
      "islocatedin(?h,?b) islocatedin(?a,?h)  => islocatedin(?a,?b)\t0.387421029\t0.23021848\t0.23021848\t34341\t149167\t149167\t?a\n",
      "Mining done in 27.98 s\n",
      "Total time 31.12 s\n",
      "238 rules mined.\n"
     ]
    }
   ],
   "source": [
    "with open(amie_output_filename, 'r') as amie_output_file:\n",
    "    for line in amie_output_file:\n",
    "        print(line.strip())\n",
    "\n",
    "\n"
   ],
   "metadata": {
    "collapsed": false,
    "pycharm": {
     "name": "#%%\n"
    }
   }
  },
  {
   "cell_type": "code",
   "execution_count": null,
   "outputs": [],
   "source": [],
   "metadata": {
    "collapsed": false,
    "pycharm": {
     "name": "#%%\n"
    }
   }
  }
 ],
 "metadata": {
  "kernelspec": {
   "display_name": "Python 3",
   "language": "python",
   "name": "python3"
  },
  "language_info": {
   "codemirror_mode": {
    "name": "ipython",
    "version": 2
   },
   "file_extension": ".py",
   "mimetype": "text/x-python",
   "name": "python",
   "nbconvert_exporter": "python",
   "pygments_lexer": "ipython2",
   "version": "2.7.6"
  }
 },
 "nbformat": 4,
 "nbformat_minor": 0
}