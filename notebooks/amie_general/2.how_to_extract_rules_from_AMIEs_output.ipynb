{
 "cells": [
  {
   "cell_type": "code",
   "execution_count": 13,
   "outputs": [
    {
     "name": "stdout",
     "output_type": "stream",
     "text": [
      "The autoreload extension is already loaded. To reload it, use:\n",
      "  %reload_ext autoreload\n"
     ]
    }
   ],
   "source": [
    "import os\n",
    "from typing import List\n",
    "\n",
    "from kbc_pul.amie.amie_output_rule_extraction import create_rule_tsv_file_from_amie_output_file, get_amie_rules_from_rule_tsv_file\n",
    "\n",
    "from kbc_pul.data_structures.rule_wrapper import RuleWrapper\n",
    "from kbc_pul.project_info import project_dir\n",
    "\n",
    "%load_ext autoreload\n",
    "%autoreload 2\n"
   ],
   "metadata": {
    "collapsed": false,
    "pycharm": {
     "name": "#%%\n"
    }
   }
  },
  {
   "cell_type": "markdown",
   "metadata": {
    "collapsed": true,
    "pycharm": {
     "name": "#%% md\n"
    }
   },
   "source": [
    "# AMIE output parsing\n",
    "\n",
    "Note: use the `-datalog` option for AMIE to output Prolog rules.\n",
    "\n",
    "## 1. Convert the mined rule info to a TSV file"
   ]
  },
  {
   "cell_type": "code",
   "execution_count": 14,
   "outputs": [],
   "source": [
    "dataset_name: str = 'yago3_10'\n",
    "amie_output_dir: str = os.path.join(\n",
    "    project_dir,\n",
    "    'data',\n",
    "    dataset_name,\n",
    "    'amie_output_dir'\n",
    ")\n",
    "amie_output_filename: str = os.path.join(\n",
    "    amie_output_dir,\n",
    "    'amie_output.txt'\n",
    ")\n",
    "amie_rules_filename: str = os.path.join(\n",
    "    amie_output_dir,\n",
    "    'amie_output_rules.tsv'\n",
    ")\n",
    "create_rule_tsv_file_from_amie_output_file(\n",
    "    amie_output_filename=amie_output_filename,\n",
    "    amie_rules_tsv_filename=amie_rules_filename\n",
    ")"
   ],
   "metadata": {
    "collapsed": false,
    "pycharm": {
     "name": "#%%\n"
    }
   }
  },
  {
   "cell_type": "markdown",
   "source": [
    "## 2. Convert an AMIE rule to a TILDE rule"
   ],
   "metadata": {
    "collapsed": false,
    "pycharm": {
     "name": "#%% md\n"
    }
   }
  },
  {
   "cell_type": "code",
   "source": [
    "rule_wrapper_list: List[RuleWrapper] = get_amie_rules_from_rule_tsv_file(\n",
    "    amie_rules_tsv_filename=amie_rules_filename)"
   ],
   "metadata": {
    "collapsed": false,
    "pycharm": {
     "name": "#%%\n"
    }
   },
   "execution_count": 15,
   "outputs": []
  },
  {
   "cell_type": "code",
   "execution_count": 16,
   "outputs": [
    {
     "name": "stdout",
     "output_type": "stream",
     "text": [
      "{'Rule': 'dealswith(?a,?b)  => hasneighbor(?a,?b)', 'Head Coverage': 0.295495495, 'Std Confidence': 0.125960061, 'PCA Confidence': 0.16449348, 'Positive Examples': 164, 'Body size': 1302, 'PCA Body size': 997, 'Functional variable': '?b'}\n"
     ]
    }
   ],
   "source": [
    "from pprint import pprint\n",
    "for rule_wrapper in rule_wrapper_list:\n",
    "    pprint(rule_wrapper)\n",
    "    break"
   ],
   "metadata": {
    "collapsed": false,
    "pycharm": {
     "name": "#%%\n"
    }
   }
  },
  {
   "cell_type": "code",
   "execution_count": 16,
   "outputs": [],
   "source": [],
   "metadata": {
    "collapsed": false,
    "pycharm": {
     "name": "#%%\n"
    }
   }
  }
 ],
 "metadata": {
  "kernelspec": {
   "display_name": "Python 3",
   "language": "python",
   "name": "python3"
  },
  "language_info": {
   "codemirror_mode": {
    "name": "ipython",
    "version": 2
   },
   "file_extension": ".py",
   "mimetype": "text/x-python",
   "name": "python",
   "nbconvert_exporter": "python",
   "pygments_lexer": "ipython2",
   "version": "2.7.6"
  }
 },
 "nbformat": 4,
 "nbformat_minor": 0
}