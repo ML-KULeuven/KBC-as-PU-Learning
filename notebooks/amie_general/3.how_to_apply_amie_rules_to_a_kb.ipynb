{
 "cells": [
  {
   "cell_type": "code",
   "execution_count": 1,
   "outputs": [],
   "source": [
    "import os\n",
    "from typing import List, Optional\n",
    "\n",
    "import pandas as pd\n",
    "\n",
    "from kbc_pul.amie.amie_output_rule_extraction import get_amie_rules_from_rule_tsv_file\n",
    "from kbc_pul.data_structures.pandas_kb import PandasKnowledgeBaseWrapper\n",
    "from kbc_pul.data_structures.rule_wrapper import RuleWrapper\n",
    "from kbc_pul.experiments_utils.load_df_ground_truth import get_df_ground_truth\n",
    "from kbc_pul.project_info import data_dir\n",
    "\n",
    "%load_ext autoreload\n",
    "%autoreload 2\n",
    "\n"
   ],
   "metadata": {
    "collapsed": false,
    "pycharm": {
     "name": "#%%\n"
    }
   }
  },
  {
   "cell_type": "markdown",
   "source": [
    "# How to apply AMIE's rules to a KB"
   ],
   "metadata": {
    "collapsed": false
   }
  },
  {
   "cell_type": "markdown",
   "source": [
    "## 1. Read in the mined rules"
   ],
   "metadata": {
    "collapsed": false,
    "pycharm": {
     "name": "#%% md\n"
    }
   }
  },
  {
   "cell_type": "code",
   "execution_count": 2,
   "outputs": [],
   "source": [
    "dataset_name: str = 'yago3_10'\n",
    "\n",
    "\n",
    "amie_data_dir: str = os.path.join(data_dir, dataset_name, \"amie_output_dir\")\n",
    "amie_rule_tsv_filename = os.path.join(\n",
    "    amie_data_dir,\n",
    "    f\"amie_output_rules.tsv\"\n",
    ")\n",
    "\n",
    "\n",
    "rule_wrapper_list: List[RuleWrapper] = get_amie_rules_from_rule_tsv_file(\n",
    "    amie_rules_tsv_filename=amie_rule_tsv_filename)\n"
   ],
   "metadata": {
    "collapsed": false,
    "pycharm": {
     "name": "#%%\n"
    }
   }
  },
  {
   "cell_type": "markdown",
   "source": [
    "## Select the first rule as an example"
   ],
   "metadata": {
    "collapsed": false,
    "pycharm": {
     "name": "#%% md\n"
    }
   }
  },
  {
   "cell_type": "code",
   "execution_count": 15,
   "outputs": [
    {
     "name": "stdout",
     "output_type": "stream",
     "text": [
      "{'Rule': 'dealswith(?a,?b)  => hasneighbor(?a,?b)', 'Head Coverage': 0.295495495, 'Std Confidence': 0.125960061, 'PCA Confidence': 0.16449348, 'Positive Examples': 164, 'Body size': 1302, 'PCA Body size': 997, 'Functional variable': '?b'}\n"
     ]
    }
   ],
   "source": [
    "from pprint import pprint\n",
    "\n",
    "rule_wrapper: RuleWrapper = rule_wrapper_list[0]\n",
    "pprint(rule_wrapper)"
   ],
   "metadata": {
    "collapsed": false,
    "pycharm": {
     "name": "#%%\n"
    }
   }
  },
  {
   "cell_type": "markdown",
   "source": [
    "## Load in a KB"
   ],
   "metadata": {
    "collapsed": false,
    "pycharm": {
     "name": "#%% md\n"
    }
   }
  },
  {
   "cell_type": "code",
   "execution_count": 16,
   "outputs": [],
   "source": [
    "filename_ground_truth_dataset: str = os.path.join(\n",
    "    data_dir, dataset_name, 'cleaned_csv', 'train.csv'\n",
    ")\n",
    "separator_ground_truth_dataset = \"\\t\"\n",
    "\n",
    "df_ground_truth: pd.DataFrame = get_df_ground_truth(filename_ground_truth_dataset, separator_ground_truth_dataset)\n",
    "pandas_kb_wrapper = PandasKnowledgeBaseWrapper.create_from_full_data(df_full_data=df_ground_truth)"
   ],
   "metadata": {
    "collapsed": false,
    "pycharm": {
     "name": "#%%\n"
    }
   }
  },
  {
   "cell_type": "markdown",
   "source": [
    "## Calculate the prediction cache for that rule on the KB"
   ],
   "metadata": {
    "collapsed": false,
    "pycharm": {
     "name": "#%% md\n"
    }
   }
  },
  {
   "cell_type": "code",
   "execution_count": 17,
   "outputs": [
    {
     "data": {
      "text/plain": "             Subject                               Object  is_supported  \\\n0        'eAbkhazia'                 'eGeorgia_(country)'         False   \n1     'eAfghanistan'                             'eChina'          True   \n2     'eAfghanistan'                           'eGermany'         False   \n3     'eAfghanistan'                             'eIndia'         False   \n4     'eAfghanistan'                        'eKazakhstan'         False   \n...              ...                                  ...           ...   \n1297       'eZambia'              'eUnited_Arab_Emirates'         False   \n1298     'eZimbabwe'                          'eBotswana'          True   \n1299     'eZimbabwe'                             'eChina'         False   \n1300     'eZimbabwe'  'eDemocratic_Republic_of_the_Congo'         False   \n1301     'eZimbabwe'                      'eSouth_Africa'          True   \n\n      exists_lits_same_subject  exists_lits_same_object  \n0                        False                     True  \n1                         True                     True  \n2                         True                     True  \n3                         True                     True  \n4                         True                     True  \n...                        ...                      ...  \n1297                      True                     True  \n1298                      True                     True  \n1299                      True                     True  \n1300                      True                     True  \n1301                      True                     True  \n\n[1302 rows x 5 columns]",
      "text/html": "<div>\n<style scoped>\n    .dataframe tbody tr th:only-of-type {\n        vertical-align: middle;\n    }\n\n    .dataframe tbody tr th {\n        vertical-align: top;\n    }\n\n    .dataframe thead th {\n        text-align: right;\n    }\n</style>\n<table border=\"1\" class=\"dataframe\">\n  <thead>\n    <tr style=\"text-align: right;\">\n      <th></th>\n      <th>Subject</th>\n      <th>Object</th>\n      <th>is_supported</th>\n      <th>exists_lits_same_subject</th>\n      <th>exists_lits_same_object</th>\n    </tr>\n  </thead>\n  <tbody>\n    <tr>\n      <th>0</th>\n      <td>'eAbkhazia'</td>\n      <td>'eGeorgia_(country)'</td>\n      <td>False</td>\n      <td>False</td>\n      <td>True</td>\n    </tr>\n    <tr>\n      <th>1</th>\n      <td>'eAfghanistan'</td>\n      <td>'eChina'</td>\n      <td>True</td>\n      <td>True</td>\n      <td>True</td>\n    </tr>\n    <tr>\n      <th>2</th>\n      <td>'eAfghanistan'</td>\n      <td>'eGermany'</td>\n      <td>False</td>\n      <td>True</td>\n      <td>True</td>\n    </tr>\n    <tr>\n      <th>3</th>\n      <td>'eAfghanistan'</td>\n      <td>'eIndia'</td>\n      <td>False</td>\n      <td>True</td>\n      <td>True</td>\n    </tr>\n    <tr>\n      <th>4</th>\n      <td>'eAfghanistan'</td>\n      <td>'eKazakhstan'</td>\n      <td>False</td>\n      <td>True</td>\n      <td>True</td>\n    </tr>\n    <tr>\n      <th>...</th>\n      <td>...</td>\n      <td>...</td>\n      <td>...</td>\n      <td>...</td>\n      <td>...</td>\n    </tr>\n    <tr>\n      <th>1297</th>\n      <td>'eZambia'</td>\n      <td>'eUnited_Arab_Emirates'</td>\n      <td>False</td>\n      <td>True</td>\n      <td>True</td>\n    </tr>\n    <tr>\n      <th>1298</th>\n      <td>'eZimbabwe'</td>\n      <td>'eBotswana'</td>\n      <td>True</td>\n      <td>True</td>\n      <td>True</td>\n    </tr>\n    <tr>\n      <th>1299</th>\n      <td>'eZimbabwe'</td>\n      <td>'eChina'</td>\n      <td>False</td>\n      <td>True</td>\n      <td>True</td>\n    </tr>\n    <tr>\n      <th>1300</th>\n      <td>'eZimbabwe'</td>\n      <td>'eDemocratic_Republic_of_the_Congo'</td>\n      <td>False</td>\n      <td>True</td>\n      <td>True</td>\n    </tr>\n    <tr>\n      <th>1301</th>\n      <td>'eZimbabwe'</td>\n      <td>'eSouth_Africa'</td>\n      <td>True</td>\n      <td>True</td>\n      <td>True</td>\n    </tr>\n  </tbody>\n</table>\n<p>1302 rows × 5 columns</p>\n</div>"
     },
     "execution_count": 17,
     "metadata": {},
     "output_type": "execute_result"
    }
   ],
   "source": [
    "o_df_cached_predictions: Optional[pd.DataFrame] = pandas_kb_wrapper.calculate_prediction_cache_for_rule(\n",
    "    rule=rule_wrapper.rule\n",
    ")\n",
    "o_df_cached_predictions"
   ],
   "metadata": {
    "collapsed": false,
    "pycharm": {
     "name": "#%%\n"
    }
   }
  },
  {
   "cell_type": "code",
   "execution_count": 18,
   "outputs": [
    {
     "data": {
      "text/plain": "(1302, 5)"
     },
     "execution_count": 18,
     "metadata": {},
     "output_type": "execute_result"
    }
   ],
   "source": [
    "o_df_cached_predictions.shape"
   ],
   "metadata": {
    "collapsed": false,
    "pycharm": {
     "name": "#%%\n"
    }
   }
  },
  {
   "cell_type": "code",
   "execution_count": 19,
   "outputs": [
    {
     "data": {
      "text/plain": "          Subject                Object\n0     'eAbkhazia'  'eGeorgia_(country)'\n1  'eAfghanistan'              'eChina'\n2  'eAfghanistan'            'eGermany'\n3  'eAfghanistan'              'eIndia'\n4  'eAfghanistan'         'eKazakhstan'",
      "text/html": "<div>\n<style scoped>\n    .dataframe tbody tr th:only-of-type {\n        vertical-align: middle;\n    }\n\n    .dataframe tbody tr th {\n        vertical-align: top;\n    }\n\n    .dataframe thead th {\n        text-align: right;\n    }\n</style>\n<table border=\"1\" class=\"dataframe\">\n  <thead>\n    <tr style=\"text-align: right;\">\n      <th></th>\n      <th>Subject</th>\n      <th>Object</th>\n    </tr>\n  </thead>\n  <tbody>\n    <tr>\n      <th>0</th>\n      <td>'eAbkhazia'</td>\n      <td>'eGeorgia_(country)'</td>\n    </tr>\n    <tr>\n      <th>1</th>\n      <td>'eAfghanistan'</td>\n      <td>'eChina'</td>\n    </tr>\n    <tr>\n      <th>2</th>\n      <td>'eAfghanistan'</td>\n      <td>'eGermany'</td>\n    </tr>\n    <tr>\n      <th>3</th>\n      <td>'eAfghanistan'</td>\n      <td>'eIndia'</td>\n    </tr>\n    <tr>\n      <th>4</th>\n      <td>'eAfghanistan'</td>\n      <td>'eKazakhstan'</td>\n    </tr>\n  </tbody>\n</table>\n</div>"
     },
     "execution_count": 19,
     "metadata": {},
     "output_type": "execute_result"
    }
   ],
   "source": [
    "df_based_rule_predictions: pd.DataFrame = pandas_kb_wrapper.get_predictions_for_rule(\n",
    "    rule=rule_wrapper.rule)\n",
    "df_based_rule_predictions.head()"
   ],
   "metadata": {
    "collapsed": false,
    "pycharm": {
     "name": "#%%\n"
    }
   }
  },
  {
   "cell_type": "code",
   "execution_count": 20,
   "outputs": [
    {
     "data": {
      "text/plain": "(1302, 2)"
     },
     "execution_count": 20,
     "metadata": {},
     "output_type": "execute_result"
    }
   ],
   "source": [
    "df_based_rule_predictions.shape\n"
   ],
   "metadata": {
    "collapsed": false,
    "pycharm": {
     "name": "#%%\n"
    }
   }
  },
  {
   "cell_type": "markdown",
   "source": [
    "# Rule metrics\n",
    "\n",
    "##  CWA-based confidence / standard confidence"
   ],
   "metadata": {
    "collapsed": false
   }
  },
  {
   "cell_type": "code",
   "execution_count": 21,
   "outputs": [
    {
     "name": "stdout",
     "output_type": "stream",
     "text": [
      "Rule: hasneighbor(A,B) :- dealswith(A,B)\n",
      "CWA-based conf: 0.126\n",
      "PCA-based conf (subject-to-object): 0.172\n",
      "PCA-based conf (object-to-subject): 0.164\n"
     ]
    }
   ],
   "source": [
    "from kbc_pul.rule_metrics.prediction_cache_rule_metrics.rule_cwa_and_pca_confidences_from_cached_predictions import \\\n",
    "    calculate_cwa_confidence_from_df_cache, calculate_pca_confidence_s_to_o_from_df_cache, \\\n",
    "    calculate_pca_confidence_o_to_s_from_df_cache\n",
    "\n",
    "print(f\"Rule: {rule_wrapper.rule}\")\n",
    "\n",
    "cwa_conf: Optional[float] = calculate_cwa_confidence_from_df_cache(o_df_cached_predictions)\n",
    "print(f\"CWA-based conf: {cwa_conf:0.3f}\")\n",
    "pca_conf_s_to_o: Optional[float] = calculate_pca_confidence_s_to_o_from_df_cache(o_df_cached_predictions)\n",
    "print(f\"PCA-based conf (subject-to-object): {pca_conf_s_to_o:0.3f}\")\n",
    "pca_conf_o_to_s: Optional[float] = calculate_pca_confidence_o_to_s_from_df_cache(o_df_cached_predictions)\n",
    "print(f\"PCA-based conf (object-to-subject): {pca_conf_o_to_s:0.3f}\")\n"
   ],
   "metadata": {
    "collapsed": false,
    "pycharm": {
     "name": "#%%\n"
    }
   }
  },
  {
   "cell_type": "code",
   "execution_count": null,
   "outputs": [],
   "source": [
    "# # TRUE CONF\n",
    "# true_conf: float = get_true_confidence_on_observed_data_using_cached_predictions(\n",
    "#     df_cached_predictions=df_cached_predictions,\n",
    "#     df_ground_truth_target_relation=df_ground_truth_target_relation,\n",
    "#\n",
    "# )\n",
    "# rule_wrapper.o_true_confidence = true_conf\n",
    "#\n",
    "# # TRUE pair-positive confidence ('conf*') S->O\n",
    "# true_pca_conf_subject_to_object: float = get_true_pca_confidence_on_observed_data_using_cached_predictions(\n",
    "#     df_cached_predictions=df_cached_predictions,\n",
    "#     true_entity_str_tuple_set=true_entity_sets.entity_pairs,\n",
    "#     true_pca_non_target_entity_set=true_entity_sets.pca_subjects,\n",
    "#     predict_object_entity=True,\n",
    "# )\n",
    "# rule_wrapper.o_true_pca_confidence_subject_to_object = true_pca_conf_subject_to_object\n",
    "#\n",
    "# # TRUE pair-positive confidence ('conf*') O->S\n",
    "# true_pca_conf_object_to_subject: float = get_true_pca_confidence_on_observed_data_using_cached_predictions(\n",
    "#     df_cached_predictions=df_cached_predictions,\n",
    "#     true_entity_str_tuple_set=true_entity_sets.entity_pairs,\n",
    "#     true_pca_non_target_entity_set=true_entity_sets.pca_objects,\n",
    "#     predict_object_entity=False\n",
    "# )\n"
   ],
   "metadata": {
    "collapsed": false,
    "pycharm": {
     "name": "#%%\n"
    }
   }
  },
  {
   "cell_type": "code",
   "execution_count": null,
   "outputs": [],
   "source": [
    "df_based_rule_predictions.shape\n"
   ],
   "metadata": {
    "collapsed": false,
    "pycharm": {
     "name": "#%%\n"
    }
   }
  },
  {
   "cell_type": "code",
   "execution_count": null,
   "outputs": [],
   "source": [
    "# # TRUE CONF\n",
    "# true_conf: float = get_true_confidence_on_observed_data_using_cached_predictions(\n",
    "#     df_cached_predictions=df_cached_predictions,\n",
    "#     df_ground_truth_target_relation=df_ground_truth_target_relation,\n",
    "#\n",
    "# )\n",
    "# rule_wrapper.o_true_confidence = true_conf\n",
    "#\n",
    "# # TRUE pair-positive confidence ('conf*') S->O\n",
    "# true_pca_conf_subject_to_object: float = get_true_pca_confidence_on_observed_data_using_cached_predictions(\n",
    "#     df_cached_predictions=df_cached_predictions,\n",
    "#     true_entity_str_tuple_set=true_entity_sets.entity_pairs,\n",
    "#     true_pca_non_target_entity_set=true_entity_sets.pca_subjects,\n",
    "#     predict_object_entity=True,\n",
    "# )\n",
    "# rule_wrapper.o_true_pca_confidence_subject_to_object = true_pca_conf_subject_to_object\n",
    "#\n",
    "# # TRUE pair-positive confidence ('conf*') O->S\n",
    "# true_pca_conf_object_to_subject: float = get_true_pca_confidence_on_observed_data_using_cached_predictions(\n",
    "#     df_cached_predictions=df_cached_predictions,\n",
    "#     true_entity_str_tuple_set=true_entity_sets.entity_pairs,\n",
    "#     true_pca_non_target_entity_set=true_entity_sets.pca_objects,\n",
    "#     predict_object_entity=False\n",
    "# )\n"
   ],
   "metadata": {
    "collapsed": false,
    "pycharm": {
     "name": "#%%\n"
    }
   }
  },
  {
   "cell_type": "code",
   "execution_count": 2,
   "outputs": [],
   "source": [
    "# # TRUE CONF\n",
    "# true_conf: float = get_true_confidence_on_observed_data_using_cached_predictions(\n",
    "#     df_cached_predictions=df_cached_predictions,\n",
    "#     df_ground_truth_target_relation=df_ground_truth_target_relation,\n",
    "#\n",
    "# )\n",
    "# rule_wrapper.o_true_confidence = true_conf\n",
    "#\n",
    "# # TRUE pair-positive confidence ('conf*') S->O\n",
    "# true_pca_conf_subject_to_object: float = get_true_pca_confidence_on_observed_data_using_cached_predictions(\n",
    "#     df_cached_predictions=df_cached_predictions,\n",
    "#     true_entity_str_tuple_set=true_entity_sets.entity_pairs,\n",
    "#     true_pca_non_target_entity_set=true_entity_sets.pca_subjects,\n",
    "#     predict_object_entity=True,\n",
    "# )\n",
    "# rule_wrapper.o_true_pca_confidence_subject_to_object = true_pca_conf_subject_to_object\n",
    "#\n",
    "# # TRUE pair-positive confidence ('conf*') O->S\n",
    "# true_pca_conf_object_to_subject: float = get_true_pca_confidence_on_observed_data_using_cached_predictions(\n",
    "#     df_cached_predictions=df_cached_predictions,\n",
    "#     true_entity_str_tuple_set=true_entity_sets.entity_pairs,\n",
    "#     true_pca_non_target_entity_set=true_entity_sets.pca_objects,\n",
    "#     predict_object_entity=False\n",
    "# )\n"
   ],
   "metadata": {
    "collapsed": false,
    "pycharm": {
     "name": "#%%\n"
    }
   }
  }
 ],
 "metadata": {
  "kernelspec": {
   "display_name": "Python 3",
   "language": "python",
   "name": "python3"
  },
  "language_info": {
   "codemirror_mode": {
    "name": "ipython",
    "version": 2
   },
   "file_extension": ".py",
   "mimetype": "text/x-python",
   "name": "python",
   "nbconvert_exporter": "python",
   "pygments_lexer": "ipython2",
   "version": "2.7.6"
  }
 },
 "nbformat": 4,
 "nbformat_minor": 0
}