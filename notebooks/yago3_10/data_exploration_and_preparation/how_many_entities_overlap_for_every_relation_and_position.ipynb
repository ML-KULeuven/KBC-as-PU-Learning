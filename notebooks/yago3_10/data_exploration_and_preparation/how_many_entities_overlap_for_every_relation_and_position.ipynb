{
 "cells": [
  {
   "cell_type": "code",
   "execution_count": 1,
   "metadata": {
    "collapsed": true
   },
   "outputs": [],
   "source": [
    "import os\n",
    "from typing import List\n",
    "\n",
    "import numpy as np\n",
    "import pandas as pd\n",
    "\n",
    "from kbc_pul.project_info import data_dir\n",
    "\n",
    "%load_ext autoreload\n",
    "%autoreload 2\n"
   ]
  },
  {
   "cell_type": "markdown",
   "source": [
    "# Explore how many overlapping entities occur for every position of every relation"
   ],
   "metadata": {
    "collapsed": false
   }
  },
  {
   "cell_type": "code",
   "execution_count": 2,
   "outputs": [],
   "source": [
    "dataset_name: str = \"yago3_10\"\n",
    "data_partition_name = \"train\""
   ],
   "metadata": {
    "collapsed": false,
    "pycharm": {
     "name": "#%%\n"
    }
   }
  },
  {
   "cell_type": "code",
   "execution_count": 3,
   "outputs": [],
   "source": [
    "cleaned_csv_dir: str = os.path.join(data_dir, dataset_name, 'cleaned_csv')\n"
   ],
   "metadata": {
    "collapsed": false,
    "pycharm": {
     "name": "#%%\n"
    }
   }
  },
  {
   "cell_type": "code",
   "execution_count": 4,
   "outputs": [
    {
     "data": {
      "text/plain": "                E1      Rel                               E2\n0       'e50_Cent'  actedin  'eGet_Rich_or_Die_Tryin_(film)'\n1       'e50_Cent'  actedin                'eRighteous_Kill'\n2  'eA._K._Hangal'  actedin                  'eAap_Ki_Kasam'\n3  'eA._K._Hangal'  actedin          'eAbhimaan_(1973_film)'\n4  'eA._K._Hangal'  actedin         'eAmar_Deep_(1979_film)'",
      "text/html": "<div>\n<style scoped>\n    .dataframe tbody tr th:only-of-type {\n        vertical-align: middle;\n    }\n\n    .dataframe tbody tr th {\n        vertical-align: top;\n    }\n\n    .dataframe thead th {\n        text-align: right;\n    }\n</style>\n<table border=\"1\" class=\"dataframe\">\n  <thead>\n    <tr style=\"text-align: right;\">\n      <th></th>\n      <th>E1</th>\n      <th>Rel</th>\n      <th>E2</th>\n    </tr>\n  </thead>\n  <tbody>\n    <tr>\n      <th>0</th>\n      <td>'e50_Cent'</td>\n      <td>actedin</td>\n      <td>'eGet_Rich_or_Die_Tryin_(film)'</td>\n    </tr>\n    <tr>\n      <th>1</th>\n      <td>'e50_Cent'</td>\n      <td>actedin</td>\n      <td>'eRighteous_Kill'</td>\n    </tr>\n    <tr>\n      <th>2</th>\n      <td>'eA._K._Hangal'</td>\n      <td>actedin</td>\n      <td>'eAap_Ki_Kasam'</td>\n    </tr>\n    <tr>\n      <th>3</th>\n      <td>'eA._K._Hangal'</td>\n      <td>actedin</td>\n      <td>'eAbhimaan_(1973_film)'</td>\n    </tr>\n    <tr>\n      <th>4</th>\n      <td>'eA._K._Hangal'</td>\n      <td>actedin</td>\n      <td>'eAmar_Deep_(1979_film)'</td>\n    </tr>\n  </tbody>\n</table>\n</div>"
     },
     "execution_count": 4,
     "metadata": {},
     "output_type": "execute_result"
    }
   ],
   "source": [
    "train_tsv_input_file = os.path.join(cleaned_csv_dir, 'train.csv')\n",
    "train_df = pd.read_csv(train_tsv_input_file, header=None, sep=\"\\t\",\n",
    "                       names=[\"E1\", \"Rel\", \"E2\"])\n",
    "train_df.head()"
   ],
   "metadata": {
    "collapsed": false,
    "pycharm": {
     "name": "#%%\n"
    }
   }
  },
  {
   "cell_type": "code",
   "execution_count": 5,
   "outputs": [
    {
     "data": {
      "text/plain": "array(['actedin', 'created', 'dealswith', 'diedin', 'directed', 'edited',\n       'exports', 'graduatedfrom', 'happenedin', 'hasacademicadvisor',\n       'hascapital', 'haschild', 'hascurrency', 'hasgender',\n       'hasmusicalrole', 'hasneighbor', 'hasofficiallanguage',\n       'haswebsite', 'haswonprize', 'imports', 'influences',\n       'isaffiliatedto', 'iscitizenof', 'isconnectedto', 'isinterestedin',\n       'isknownfor', 'isleaderof', 'islocatedin', 'ismarriedto',\n       'ispoliticianof', 'livesin', 'owns', 'participatedin', 'playsfor',\n       'wasbornin', 'worksat', 'wrotemusicfor'], dtype=object)"
     },
     "execution_count": 5,
     "metadata": {},
     "output_type": "execute_result"
    }
   ],
   "source": [
    "train_df[\"Rel\"].unique()"
   ],
   "metadata": {
    "collapsed": false,
    "pycharm": {
     "name": "#%%\n"
    }
   }
  },
  {
   "cell_type": "code",
   "execution_count": 6,
   "outputs": [
    {
     "data": {
      "text/plain": "['actedin',\n 'created',\n 'dealswith',\n 'diedin',\n 'directed',\n 'edited',\n 'exports',\n 'graduatedfrom',\n 'happenedin',\n 'hasacademicadvisor',\n 'hascapital',\n 'haschild',\n 'hascurrency',\n 'hasgender',\n 'hasmusicalrole',\n 'hasneighbor',\n 'hasofficiallanguage',\n 'haswebsite',\n 'haswonprize',\n 'imports',\n 'influences',\n 'isaffiliatedto',\n 'iscitizenof',\n 'isconnectedto',\n 'isinterestedin',\n 'isknownfor',\n 'isleaderof',\n 'islocatedin',\n 'ismarriedto',\n 'ispoliticianof',\n 'livesin',\n 'owns',\n 'participatedin',\n 'playsfor',\n 'wasbornin',\n 'worksat',\n 'wrotemusicfor']"
     },
     "execution_count": 6,
     "metadata": {},
     "output_type": "execute_result"
    }
   ],
   "source": [
    "relations_to_check = list(train_df[\"Rel\"].unique())\n",
    "relations_to_check"
   ],
   "metadata": {
    "collapsed": false,
    "pycharm": {
     "name": "#%%\n"
    }
   }
  },
  {
   "cell_type": "code",
   "execution_count": 7,
   "outputs": [],
   "source": [
    "data_rows: List = []\n",
    "\n",
    "for relation_index in range(len(relations_to_check)):\n",
    "    relation_name = relations_to_check[relation_index]\n",
    "    relation_df: pd.DataFrame = train_df[train_df[\"Rel\"] == relation_name]\n",
    "\n",
    "    relation_ent1_set: np.ndarray = relation_df[\"E1\"].unique()\n",
    "    relation_ent2_set: np.ndarray = relation_df[\"E2\"].unique()\n",
    "\n",
    "    relation_ent_set_intersection = np.intersect1d(relation_ent1_set, relation_ent2_set, assume_unique=True)\n",
    "    relation_row = [relation_name, \"E1\",\n",
    "       relation_name, \"E2\",\n",
    "       len(relation_ent_set_intersection),\n",
    "       len(relation_ent1_set),\n",
    "       len(relation_ent2_set)]\n",
    "    data_rows.append(relation_row)\n",
    "\n",
    "    for other_relation_name in relations_to_check[relation_index+1:]:\n",
    "        other_relation_df: pd.DataFrame = train_df[train_df[\"Rel\"] == other_relation_name]\n",
    "\n",
    "        other_relation_ent1_set: np.ndarray = other_relation_df[\"E1\"].unique()\n",
    "        other_relation_ent2_set: np.ndarray = other_relation_df[\"E2\"].unique()\n",
    "\n",
    "        for relation_ent_set, relation_ent_arg_pos in [(relation_ent1_set, \"E1\"), (relation_ent2_set, \"E2\")]:\n",
    "            for other_relation_ent_set, other_relation_ent_arg_pos in [(other_relation_ent1_set, \"E1\"), (other_relation_ent2_set, \"E2\")]:\n",
    "                ent_set_intersection = np.intersect1d(relation_ent_set, other_relation_ent_set, assume_unique=True)\n",
    "                row = [relation_name, relation_ent_arg_pos,\n",
    "                       other_relation_name, other_relation_ent_arg_pos,\n",
    "                       len(ent_set_intersection),\n",
    "                       len(relation_ent_set),\n",
    "                       len(other_relation_ent_set)]\n",
    "                data_rows.append(row)\n"
   ],
   "metadata": {
    "collapsed": false,
    "pycharm": {
     "name": "#%%\n"
    }
   }
  },
  {
   "cell_type": "code",
   "execution_count": 8,
   "outputs": [
    {
     "name": "stdout",
     "output_type": "stream",
     "text": [
      "DONE\n"
     ]
    }
   ],
   "source": [
    "print(\"DONE\")\n"
   ],
   "metadata": {
    "collapsed": false,
    "pycharm": {
     "name": "#%%\n"
    }
   }
  },
  {
   "cell_type": "code",
   "execution_count": 9,
   "outputs": [
    {
     "data": {
      "text/plain": "        R1 R1E       R2 R2E  inter  n_R1E  n_R2E\n0  actedin  E1  actedin  E2      0   5402   6754\n1  actedin  E1  created  E1    537   5402   2850\n2  actedin  E1  created  E2      5   5402   4425\n3  actedin  E2  created  E1      0   6754   2850\n4  actedin  E2  created  E2   3925   6754   4425",
      "text/html": "<div>\n<style scoped>\n    .dataframe tbody tr th:only-of-type {\n        vertical-align: middle;\n    }\n\n    .dataframe tbody tr th {\n        vertical-align: top;\n    }\n\n    .dataframe thead th {\n        text-align: right;\n    }\n</style>\n<table border=\"1\" class=\"dataframe\">\n  <thead>\n    <tr style=\"text-align: right;\">\n      <th></th>\n      <th>R1</th>\n      <th>R1E</th>\n      <th>R2</th>\n      <th>R2E</th>\n      <th>inter</th>\n      <th>n_R1E</th>\n      <th>n_R2E</th>\n    </tr>\n  </thead>\n  <tbody>\n    <tr>\n      <th>0</th>\n      <td>actedin</td>\n      <td>E1</td>\n      <td>actedin</td>\n      <td>E2</td>\n      <td>0</td>\n      <td>5402</td>\n      <td>6754</td>\n    </tr>\n    <tr>\n      <th>1</th>\n      <td>actedin</td>\n      <td>E1</td>\n      <td>created</td>\n      <td>E1</td>\n      <td>537</td>\n      <td>5402</td>\n      <td>2850</td>\n    </tr>\n    <tr>\n      <th>2</th>\n      <td>actedin</td>\n      <td>E1</td>\n      <td>created</td>\n      <td>E2</td>\n      <td>5</td>\n      <td>5402</td>\n      <td>4425</td>\n    </tr>\n    <tr>\n      <th>3</th>\n      <td>actedin</td>\n      <td>E2</td>\n      <td>created</td>\n      <td>E1</td>\n      <td>0</td>\n      <td>6754</td>\n      <td>2850</td>\n    </tr>\n    <tr>\n      <th>4</th>\n      <td>actedin</td>\n      <td>E2</td>\n      <td>created</td>\n      <td>E2</td>\n      <td>3925</td>\n      <td>6754</td>\n      <td>4425</td>\n    </tr>\n  </tbody>\n</table>\n</div>"
     },
     "execution_count": 9,
     "metadata": {},
     "output_type": "execute_result"
    }
   ],
   "source": [
    "entity_counts_df = pd.DataFrame(data=data_rows, columns=[\"R1\", \"R1E\", \"R2\", \"R2E\", \"inter\", \"n_R1E\", \"n_R2E\" ])\n",
    "entity_counts_df.head()"
   ],
   "metadata": {
    "collapsed": false,
    "pycharm": {
     "name": "#%%\n"
    }
   }
  },
  {
   "cell_type": "code",
   "execution_count": 10,
   "outputs": [],
   "source": [
    "entity_counts_df = entity_counts_df[entity_counts_df[\"inter\"] != 0]"
   ],
   "metadata": {
    "collapsed": false,
    "pycharm": {
     "name": "#%%\n"
    }
   }
  },
  {
   "cell_type": "code",
   "execution_count": 11,
   "outputs": [
    {
     "data": {
      "text/plain": "         R1 R1E        R2 R2E  inter  n_R1E  n_R2E\n1   actedin  E1   created  E1    537   5402   2850\n2   actedin  E1   created  E2      5   5402   4425\n4   actedin  E2   created  E2   3925   6754   4425\n9   actedin  E1    diedin  E1   1443   5402   9243\n13  actedin  E1  directed  E1    470   5402   1558",
      "text/html": "<div>\n<style scoped>\n    .dataframe tbody tr th:only-of-type {\n        vertical-align: middle;\n    }\n\n    .dataframe tbody tr th {\n        vertical-align: top;\n    }\n\n    .dataframe thead th {\n        text-align: right;\n    }\n</style>\n<table border=\"1\" class=\"dataframe\">\n  <thead>\n    <tr style=\"text-align: right;\">\n      <th></th>\n      <th>R1</th>\n      <th>R1E</th>\n      <th>R2</th>\n      <th>R2E</th>\n      <th>inter</th>\n      <th>n_R1E</th>\n      <th>n_R2E</th>\n    </tr>\n  </thead>\n  <tbody>\n    <tr>\n      <th>1</th>\n      <td>actedin</td>\n      <td>E1</td>\n      <td>created</td>\n      <td>E1</td>\n      <td>537</td>\n      <td>5402</td>\n      <td>2850</td>\n    </tr>\n    <tr>\n      <th>2</th>\n      <td>actedin</td>\n      <td>E1</td>\n      <td>created</td>\n      <td>E2</td>\n      <td>5</td>\n      <td>5402</td>\n      <td>4425</td>\n    </tr>\n    <tr>\n      <th>4</th>\n      <td>actedin</td>\n      <td>E2</td>\n      <td>created</td>\n      <td>E2</td>\n      <td>3925</td>\n      <td>6754</td>\n      <td>4425</td>\n    </tr>\n    <tr>\n      <th>9</th>\n      <td>actedin</td>\n      <td>E1</td>\n      <td>diedin</td>\n      <td>E1</td>\n      <td>1443</td>\n      <td>5402</td>\n      <td>9243</td>\n    </tr>\n    <tr>\n      <th>13</th>\n      <td>actedin</td>\n      <td>E1</td>\n      <td>directed</td>\n      <td>E1</td>\n      <td>470</td>\n      <td>5402</td>\n      <td>1558</td>\n    </tr>\n  </tbody>\n</table>\n</div>"
     },
     "execution_count": 11,
     "metadata": {},
     "output_type": "execute_result"
    }
   ],
   "source": [
    "entity_counts_df.head()"
   ],
   "metadata": {
    "collapsed": false,
    "pycharm": {
     "name": "#%%\n"
    }
   }
  },
  {
   "cell_type": "code",
   "execution_count": 12,
   "outputs": [],
   "source": [
    "entity_counts_filename = os.path.join(\n",
    "    data_dir,\n",
    "    dataset_name,\n",
    "    'data_stats',\n",
    "    'overlapping_entity_counts.tsv'\n",
    ")\n",
    "entity_counts_df.to_csv(entity_counts_filename,\n",
    "                        sep=\"\\t\", index=False)"
   ],
   "metadata": {
    "collapsed": false,
    "pycharm": {
     "name": "#%%\n"
    }
   }
  },
  {
   "cell_type": "code",
   "execution_count": null,
   "outputs": [],
   "source": [],
   "metadata": {
    "collapsed": false,
    "pycharm": {
     "name": "#%%\n"
    }
   }
  }
 ],
 "metadata": {
  "kernelspec": {
   "display_name": "Python 3",
   "language": "python",
   "name": "python3"
  },
  "language_info": {
   "codemirror_mode": {
    "name": "ipython",
    "version": 2
   },
   "file_extension": ".py",
   "mimetype": "text/x-python",
   "name": "python",
   "nbconvert_exporter": "python",
   "pygments_lexer": "ipython2",
   "version": "2.7.6"
  }
 },
 "nbformat": 4,
 "nbformat_minor": 0
}