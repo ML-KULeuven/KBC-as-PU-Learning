{
 "cells": [
  {
   "cell_type": "code",
   "execution_count": 1,
   "metadata": {
    "collapsed": true
   },
   "outputs": [],
   "source": [
    "import os\n",
    "\n",
    "import pandas as pd\n",
    "\n",
    "from kbc_pul.experiments_utils.datasets.file_naming import get_edge_count_dir\n",
    "from kbc_pul.experiments_utils.file_utils import print_file_exists\n",
    "from kbc_pul.project_info import data_dir\n",
    "\n",
    "\n",
    "\n",
    "%load_ext autoreload\n",
    "%autoreload 2\n"
   ]
  },
  {
   "cell_type": "markdown",
   "source": [
    "# Yago3_10 data exploration\n",
    "\n",
    "## Load cleaned yago3_10 triples"
   ],
   "metadata": {
    "collapsed": false,
    "pycharm": {
     "name": "#%% md\n"
    }
   }
  },
  {
   "cell_type": "code",
   "execution_count": 2,
   "outputs": [
    {
     "name": "stdout",
     "output_type": "stream",
     "text": [
      "? file exists: /home/joschout/Documents/Repos/KBC-e-metrics/data/yago3_10/cleaned_csv/train.csv\n",
      "-> True\n"
     ]
    }
   ],
   "source": [
    "\n",
    "dataset_name: str = 'yago3_10'\n",
    "\n",
    "cleaned_data_dir = os.path.join(data_dir, dataset_name, 'cleaned_csv')\n",
    "train_tsv_filename = os.path.join(\n",
    "    cleaned_data_dir,\n",
    "    'train.csv'\n",
    ")\n",
    "print_file_exists(train_tsv_filename)"
   ],
   "metadata": {
    "collapsed": false,
    "pycharm": {
     "name": "#%%\n"
    }
   }
  },
  {
   "cell_type": "code",
   "execution_count": 3,
   "outputs": [
    {
     "data": {
      "text/plain": "                E1      Rel                               E2\n0       'e50_Cent'  actedin  'eGet_Rich_or_Die_Tryin_(film)'\n1       'e50_Cent'  actedin                'eRighteous_Kill'\n2  'eA._K._Hangal'  actedin                  'eAap_Ki_Kasam'\n3  'eA._K._Hangal'  actedin          'eAbhimaan_(1973_film)'\n4  'eA._K._Hangal'  actedin         'eAmar_Deep_(1979_film)'",
      "text/html": "<div>\n<style scoped>\n    .dataframe tbody tr th:only-of-type {\n        vertical-align: middle;\n    }\n\n    .dataframe tbody tr th {\n        vertical-align: top;\n    }\n\n    .dataframe thead th {\n        text-align: right;\n    }\n</style>\n<table border=\"1\" class=\"dataframe\">\n  <thead>\n    <tr style=\"text-align: right;\">\n      <th></th>\n      <th>E1</th>\n      <th>Rel</th>\n      <th>E2</th>\n    </tr>\n  </thead>\n  <tbody>\n    <tr>\n      <th>0</th>\n      <td>'e50_Cent'</td>\n      <td>actedin</td>\n      <td>'eGet_Rich_or_Die_Tryin_(film)'</td>\n    </tr>\n    <tr>\n      <th>1</th>\n      <td>'e50_Cent'</td>\n      <td>actedin</td>\n      <td>'eRighteous_Kill'</td>\n    </tr>\n    <tr>\n      <th>2</th>\n      <td>'eA._K._Hangal'</td>\n      <td>actedin</td>\n      <td>'eAap_Ki_Kasam'</td>\n    </tr>\n    <tr>\n      <th>3</th>\n      <td>'eA._K._Hangal'</td>\n      <td>actedin</td>\n      <td>'eAbhimaan_(1973_film)'</td>\n    </tr>\n    <tr>\n      <th>4</th>\n      <td>'eA._K._Hangal'</td>\n      <td>actedin</td>\n      <td>'eAmar_Deep_(1979_film)'</td>\n    </tr>\n  </tbody>\n</table>\n</div>"
     },
     "execution_count": 3,
     "metadata": {},
     "output_type": "execute_result"
    }
   ],
   "source": [
    "delimiter = \"\\t\"\n",
    "header=[\"E1\", \"Rel\", \"E2\"]\n",
    "triples_df: pd.DataFrame = pd.read_csv(train_tsv_filename, header=None, names=header, sep=delimiter)\n",
    "triples_df.head()\n"
   ],
   "metadata": {
    "collapsed": false,
    "pycharm": {
     "name": "#%%\n"
    }
   }
  },
  {
   "cell_type": "markdown",
   "source": [
    "## Find all relations\n"
   ],
   "metadata": {
    "collapsed": false
   }
  },
  {
   "cell_type": "code",
   "execution_count": 4,
   "outputs": [
    {
     "data": {
      "text/plain": "array(['actedin', 'created', 'dealswith', 'diedin', 'directed', 'edited',\n       'exports', 'graduatedfrom', 'happenedin', 'hasacademicadvisor',\n       'hascapital', 'haschild', 'hascurrency', 'hasgender',\n       'hasmusicalrole', 'hasneighbor', 'hasofficiallanguage',\n       'haswebsite', 'haswonprize', 'imports', 'influences',\n       'isaffiliatedto', 'iscitizenof', 'isconnectedto', 'isinterestedin',\n       'isknownfor', 'isleaderof', 'islocatedin', 'ismarriedto',\n       'ispoliticianof', 'livesin', 'owns', 'participatedin', 'playsfor',\n       'wasbornin', 'worksat', 'wrotemusicfor'], dtype=object)"
     },
     "execution_count": 4,
     "metadata": {},
     "output_type": "execute_result"
    }
   ],
   "source": [
    "relations = triples_df[\"Rel\"].unique()\n",
    "relations"
   ],
   "metadata": {
    "collapsed": false,
    "pycharm": {
     "name": "#%%\n"
    }
   }
  },
  {
   "cell_type": "code",
   "execution_count": 5,
   "outputs": [
    {
     "name": "stdout",
     "output_type": "stream",
     "text": [
      "actedin\n",
      "created\n",
      "dealswith\n",
      "diedin\n",
      "directed\n",
      "edited\n",
      "exports\n",
      "graduatedfrom\n",
      "happenedin\n",
      "hasacademicadvisor\n",
      "hascapital\n",
      "haschild\n",
      "hascurrency\n",
      "hasgender\n",
      "hasmusicalrole\n",
      "hasneighbor\n",
      "hasofficiallanguage\n",
      "haswebsite\n",
      "haswonprize\n",
      "imports\n",
      "influences\n",
      "isaffiliatedto\n",
      "iscitizenof\n",
      "isconnectedto\n",
      "isinterestedin\n",
      "isknownfor\n",
      "isleaderof\n",
      "islocatedin\n",
      "ismarriedto\n",
      "ispoliticianof\n",
      "livesin\n",
      "owns\n",
      "participatedin\n",
      "playsfor\n",
      "wasbornin\n",
      "worksat\n",
      "wrotemusicfor\n"
     ]
    }
   ],
   "source": [
    "for rel in sorted(relations):\n",
    "    print(rel)"
   ],
   "metadata": {
    "collapsed": false,
    "pycharm": {
     "name": "#%%\n"
    }
   }
  },
  {
   "cell_type": "markdown",
   "source": [
    "#### Output relations to file"
   ],
   "metadata": {
    "collapsed": false,
    "pycharm": {
     "name": "#%% md\n"
    }
   }
  },
  {
   "cell_type": "code",
   "execution_count": 6,
   "outputs": [],
   "source": [
    "relations_filename: str = os.path.join(\n",
    "    cleaned_data_dir,\n",
    "    'relations.txt'\n",
    ")\n",
    "with open(relations_filename, 'w') as relations_file:\n",
    "    relations_file.write(\"\\n\".join(list(sorted(relations))))\n"
   ],
   "metadata": {
    "collapsed": false,
    "pycharm": {
     "name": "#%%\n"
    }
   }
  },
  {
   "cell_type": "markdown",
   "source": [
    "## Statistics per relation\n",
    "\n",
    "### Nb of literals per relation"
   ],
   "metadata": {
    "collapsed": false,
    "pycharm": {
     "name": "#%% md\n"
    }
   }
  },
  {
   "cell_type": "code",
   "execution_count": 7,
   "outputs": [
    {
     "data": {
      "text/plain": "         Rel  n_lits\n0    actedin   32153\n1    created    6933\n2  dealswith    1302\n3     diedin    9244\n4   directed    5481",
      "text/html": "<div>\n<style scoped>\n    .dataframe tbody tr th:only-of-type {\n        vertical-align: middle;\n    }\n\n    .dataframe tbody tr th {\n        vertical-align: top;\n    }\n\n    .dataframe thead th {\n        text-align: right;\n    }\n</style>\n<table border=\"1\" class=\"dataframe\">\n  <thead>\n    <tr style=\"text-align: right;\">\n      <th></th>\n      <th>Rel</th>\n      <th>n_lits</th>\n    </tr>\n  </thead>\n  <tbody>\n    <tr>\n      <th>0</th>\n      <td>actedin</td>\n      <td>32153</td>\n    </tr>\n    <tr>\n      <th>1</th>\n      <td>created</td>\n      <td>6933</td>\n    </tr>\n    <tr>\n      <th>2</th>\n      <td>dealswith</td>\n      <td>1302</td>\n    </tr>\n    <tr>\n      <th>3</th>\n      <td>diedin</td>\n      <td>9244</td>\n    </tr>\n    <tr>\n      <th>4</th>\n      <td>directed</td>\n      <td>5481</td>\n    </tr>\n  </tbody>\n</table>\n</div>"
     },
     "execution_count": 7,
     "metadata": {},
     "output_type": "execute_result"
    }
   ],
   "source": [
    "df_n_lits_per_rel: pd.DataFrame = triples_df.groupby(\n",
    "    by=['Rel'], as_index=False)[\"E1\"].count()\n",
    "\n",
    "df_n_lits_per_rel = df_n_lits_per_rel.rename(columns={\"E1\": \"n_lits\"})\n",
    "df_n_lits_per_rel.head()"
   ],
   "metadata": {
    "collapsed": false,
    "pycharm": {
     "name": "#%%\n"
    }
   }
  },
  {
   "cell_type": "code",
   "execution_count": 8,
   "outputs": [
    {
     "data": {
      "text/plain": "               Rel  n_lits\n21  isaffiliatedto  373721",
      "text/html": "<div>\n<style scoped>\n    .dataframe tbody tr th:only-of-type {\n        vertical-align: middle;\n    }\n\n    .dataframe tbody tr th {\n        vertical-align: top;\n    }\n\n    .dataframe thead th {\n        text-align: right;\n    }\n</style>\n<table border=\"1\" class=\"dataframe\">\n  <thead>\n    <tr style=\"text-align: right;\">\n      <th></th>\n      <th>Rel</th>\n      <th>n_lits</th>\n    </tr>\n  </thead>\n  <tbody>\n    <tr>\n      <th>21</th>\n      <td>isaffiliatedto</td>\n      <td>373721</td>\n    </tr>\n  </tbody>\n</table>\n</div>"
     },
     "execution_count": 8,
     "metadata": {},
     "output_type": "execute_result"
    }
   ],
   "source": [
    "df_n_lits_per_rel[df_n_lits_per_rel[\"Rel\"] == 'isaffiliatedto']"
   ],
   "metadata": {
    "collapsed": false,
    "pycharm": {
     "name": "#%%\n"
    }
   }
  },
  {
   "cell_type": "markdown",
   "source": [
    "### Nb of unique subject & object entities per relations"
   ],
   "metadata": {
    "collapsed": false,
    "pycharm": {
     "name": "#%% md\n"
    }
   }
  },
  {
   "cell_type": "code",
   "execution_count": 9,
   "outputs": [],
   "source": [
    "# df_n_unique_entities_per_rel = triples_df.groupby(\n",
    "#     by=['Rel']).nunique()[[\"E1\", \"E2\"]].reset_index()\n",
    "#\n",
    "# df_n_unique_entities_per_rel = df_n_unique_entities_per_rel.rename(\n",
    "#     columns={\"E1\": \"n_distinct_s_ent\",\n",
    "#              \"E2\": \"n_distinct_o_ent\"})\n",
    "# df_n_unique_entities_per_rel.head()"
   ],
   "metadata": {
    "collapsed": false,
    "pycharm": {
     "name": "#%%\n"
    }
   }
  },
  {
   "cell_type": "markdown",
   "source": [
    "## Pair statistics: # objects per (subject, relation)-pair\n",
    "\n",
    "### Count # Objects per (subject, relation)"
   ],
   "metadata": {
    "collapsed": false,
    "pycharm": {
     "name": "#%% md\n"
    }
   }
  },
  {
   "cell_type": "code",
   "execution_count": 10,
   "outputs": [
    {
     "data": {
      "text/plain": "       Rel                E1  n_o_per_s_r_pair\n0  actedin        'e50_Cent'                 2\n1  actedin   'eA._K._Hangal'                 8\n2  actedin        'eAaliyah'                 2\n3  actedin     'eAamir_Khan'                12\n4  actedin  'eAaron_Eckhart'                 9",
      "text/html": "<div>\n<style scoped>\n    .dataframe tbody tr th:only-of-type {\n        vertical-align: middle;\n    }\n\n    .dataframe tbody tr th {\n        vertical-align: top;\n    }\n\n    .dataframe thead th {\n        text-align: right;\n    }\n</style>\n<table border=\"1\" class=\"dataframe\">\n  <thead>\n    <tr style=\"text-align: right;\">\n      <th></th>\n      <th>Rel</th>\n      <th>E1</th>\n      <th>n_o_per_s_r_pair</th>\n    </tr>\n  </thead>\n  <tbody>\n    <tr>\n      <th>0</th>\n      <td>actedin</td>\n      <td>'e50_Cent'</td>\n      <td>2</td>\n    </tr>\n    <tr>\n      <th>1</th>\n      <td>actedin</td>\n      <td>'eA._K._Hangal'</td>\n      <td>8</td>\n    </tr>\n    <tr>\n      <th>2</th>\n      <td>actedin</td>\n      <td>'eAaliyah'</td>\n      <td>2</td>\n    </tr>\n    <tr>\n      <th>3</th>\n      <td>actedin</td>\n      <td>'eAamir_Khan'</td>\n      <td>12</td>\n    </tr>\n    <tr>\n      <th>4</th>\n      <td>actedin</td>\n      <td>'eAaron_Eckhart'</td>\n      <td>9</td>\n    </tr>\n  </tbody>\n</table>\n</div>"
     },
     "execution_count": 10,
     "metadata": {},
     "output_type": "execute_result"
    }
   ],
   "source": [
    "df_n_o_per_s_r_pair = triples_df.groupby(\n",
    "    by=['Rel', 'E1']\n",
    ").count().reset_index().rename(\n",
    "    columns={\"E2\": \"n_o_per_s_r_pair\"})\n",
    "\n",
    "df_n_o_per_s_r_pair.head()"
   ],
   "metadata": {
    "collapsed": false,
    "pycharm": {
     "name": "#%%\n"
    }
   }
  },
  {
   "cell_type": "markdown",
   "source": [
    "### Statistics about #objects / (subject, relation) per relation"
   ],
   "metadata": {
    "collapsed": false,
    "pycharm": {
     "name": "#%% md\n"
    }
   }
  },
  {
   "cell_type": "code",
   "execution_count": 11,
   "outputs": [
    {
     "data": {
      "text/plain": "                       count       mean        std  min  25%   50%    75%  \\\nactedin               5402.0   5.952055   6.151133  1.0  2.0   4.0   8.00   \ncreated               2850.0   2.432632   2.963897  1.0  1.0   1.0   3.00   \ndealswith              220.0   5.918182   3.691609  1.0  1.0   7.0   9.00   \ndiedin                9243.0   1.000108   0.010401  1.0  1.0   1.0   1.00   \ndirected              1558.0   3.517972   3.849864  1.0  1.0   2.0   4.00   \nedited                 357.0   8.635854   6.178674  1.0  4.0   8.0  12.00   \nexports                142.0   2.661972   1.453230  1.0  2.0   2.0   3.75   \ngraduatedfrom         4715.0   1.557582   0.775789  1.0  1.0   1.0   2.00   \nhappenedin             871.0   5.800230   3.946370  1.0  4.0   5.0   7.00   \nhasacademicadvisor     799.0   1.140175   0.378462  1.0  1.0   1.0   1.00   \nhascapital            2156.0   1.188776   0.820890  1.0  1.0   1.0   1.00   \nhaschild              2832.0   1.787782   1.215620  1.0  1.0   1.0   2.00   \nhascurrency            109.0   1.000000   0.000000  1.0  1.0   1.0   1.00   \nhasgender            66160.0   1.000000   0.000000  1.0  1.0   1.0   1.00   \nhasmusicalrole        2554.0   3.036022   2.156680  1.0  1.0   2.0   4.00   \nhasneighbor            148.0   3.750000   2.243282  1.0  2.0   3.0   5.00   \nhasofficiallanguage    238.0   1.252101   0.625998  1.0  1.0   1.0   1.00   \nhaswebsite              64.0   1.062500   0.243975  1.0  1.0   1.0   1.00   \nhaswonprize           9228.0   2.607391   2.560773  1.0  1.0   2.0   3.00   \nimports                159.0   2.471698   1.178990  1.0  2.0   2.0   3.00   \ninfluences            2197.0   4.874829   8.761996  1.0  1.0   2.0   5.00   \nisaffiliatedto       48197.0   7.754030   3.624483  1.0  5.0   7.0  10.00   \niscitizenof           3004.0   1.149467   0.430246  1.0  1.0   1.0   1.00   \nisconnectedto         1497.0  21.412826  30.884281  1.0  5.0  10.0  23.00   \nisinterestedin         164.0   1.457317   0.754135  1.0  1.0   1.0   2.00   \nisknownfor              12.0   1.583333   0.514929  1.0  1.0   2.0   2.00   \nisleaderof             534.0   1.792135   2.792353  1.0  1.0   1.0   2.00   \nislocatedin          39672.0   2.234321   1.491134  1.0  1.0   2.0   3.00   \nismarriedto           3205.0   1.171607   0.489470  1.0  1.0   1.0   1.00   \nispoliticianof        1820.0   1.187912   0.490556  1.0  1.0   1.0   1.00   \nlivesin               1793.0   1.662019   1.031097  1.0  1.0   1.0   2.00   \nowns                   413.0   1.757869   2.070239  1.0  1.0   1.0   2.00   \nparticipatedin         762.0   6.758530  14.412342  1.0  1.0   2.0   6.00   \nplaysfor             45793.0   7.010329   2.767660  1.0  5.0   7.0   9.00   \nwasbornin            44967.0   1.000089   0.009431  1.0  1.0   1.0   1.00   \nworksat               1419.0   2.384778   1.478075  1.0  1.0   2.0   3.00   \nwrotemusicfor         1121.0   5.394291   8.068774  1.0  1.0   2.0   6.00   \n\n                       max  \nactedin              140.0  \ncreated               48.0  \ndealswith             14.0  \ndiedin                 2.0  \ndirected              63.0  \nedited                45.0  \nexports                7.0  \ngraduatedfrom         10.0  \nhappenedin            37.0  \nhasacademicadvisor     4.0  \nhascapital            26.0  \nhaschild              19.0  \nhascurrency            1.0  \nhasgender              1.0  \nhasmusicalrole        18.0  \nhasneighbor           14.0  \nhasofficiallanguage    7.0  \nhaswebsite             2.0  \nhaswonprize           33.0  \nimports                6.0  \ninfluences           117.0  \nisaffiliatedto        35.0  \niscitizenof            7.0  \nisconnectedto        260.0  \nisinterestedin         5.0  \nisknownfor             2.0  \nisleaderof            43.0  \nislocatedin           32.0  \nismarriedto            9.0  \nispoliticianof         7.0  \nlivesin               12.0  \nowns                  24.0  \nparticipatedin       197.0  \nplaysfor              54.0  \nwasbornin              2.0  \nworksat               12.0  \nwrotemusicfor         63.0  ",
      "text/html": "<div>\n<style scoped>\n    .dataframe tbody tr th:only-of-type {\n        vertical-align: middle;\n    }\n\n    .dataframe tbody tr th {\n        vertical-align: top;\n    }\n\n    .dataframe thead th {\n        text-align: right;\n    }\n</style>\n<table border=\"1\" class=\"dataframe\">\n  <thead>\n    <tr style=\"text-align: right;\">\n      <th></th>\n      <th>count</th>\n      <th>mean</th>\n      <th>std</th>\n      <th>min</th>\n      <th>25%</th>\n      <th>50%</th>\n      <th>75%</th>\n      <th>max</th>\n    </tr>\n  </thead>\n  <tbody>\n    <tr>\n      <th>actedin</th>\n      <td>5402.0</td>\n      <td>5.952055</td>\n      <td>6.151133</td>\n      <td>1.0</td>\n      <td>2.0</td>\n      <td>4.0</td>\n      <td>8.00</td>\n      <td>140.0</td>\n    </tr>\n    <tr>\n      <th>created</th>\n      <td>2850.0</td>\n      <td>2.432632</td>\n      <td>2.963897</td>\n      <td>1.0</td>\n      <td>1.0</td>\n      <td>1.0</td>\n      <td>3.00</td>\n      <td>48.0</td>\n    </tr>\n    <tr>\n      <th>dealswith</th>\n      <td>220.0</td>\n      <td>5.918182</td>\n      <td>3.691609</td>\n      <td>1.0</td>\n      <td>1.0</td>\n      <td>7.0</td>\n      <td>9.00</td>\n      <td>14.0</td>\n    </tr>\n    <tr>\n      <th>diedin</th>\n      <td>9243.0</td>\n      <td>1.000108</td>\n      <td>0.010401</td>\n      <td>1.0</td>\n      <td>1.0</td>\n      <td>1.0</td>\n      <td>1.00</td>\n      <td>2.0</td>\n    </tr>\n    <tr>\n      <th>directed</th>\n      <td>1558.0</td>\n      <td>3.517972</td>\n      <td>3.849864</td>\n      <td>1.0</td>\n      <td>1.0</td>\n      <td>2.0</td>\n      <td>4.00</td>\n      <td>63.0</td>\n    </tr>\n    <tr>\n      <th>edited</th>\n      <td>357.0</td>\n      <td>8.635854</td>\n      <td>6.178674</td>\n      <td>1.0</td>\n      <td>4.0</td>\n      <td>8.0</td>\n      <td>12.00</td>\n      <td>45.0</td>\n    </tr>\n    <tr>\n      <th>exports</th>\n      <td>142.0</td>\n      <td>2.661972</td>\n      <td>1.453230</td>\n      <td>1.0</td>\n      <td>2.0</td>\n      <td>2.0</td>\n      <td>3.75</td>\n      <td>7.0</td>\n    </tr>\n    <tr>\n      <th>graduatedfrom</th>\n      <td>4715.0</td>\n      <td>1.557582</td>\n      <td>0.775789</td>\n      <td>1.0</td>\n      <td>1.0</td>\n      <td>1.0</td>\n      <td>2.00</td>\n      <td>10.0</td>\n    </tr>\n    <tr>\n      <th>happenedin</th>\n      <td>871.0</td>\n      <td>5.800230</td>\n      <td>3.946370</td>\n      <td>1.0</td>\n      <td>4.0</td>\n      <td>5.0</td>\n      <td>7.00</td>\n      <td>37.0</td>\n    </tr>\n    <tr>\n      <th>hasacademicadvisor</th>\n      <td>799.0</td>\n      <td>1.140175</td>\n      <td>0.378462</td>\n      <td>1.0</td>\n      <td>1.0</td>\n      <td>1.0</td>\n      <td>1.00</td>\n      <td>4.0</td>\n    </tr>\n    <tr>\n      <th>hascapital</th>\n      <td>2156.0</td>\n      <td>1.188776</td>\n      <td>0.820890</td>\n      <td>1.0</td>\n      <td>1.0</td>\n      <td>1.0</td>\n      <td>1.00</td>\n      <td>26.0</td>\n    </tr>\n    <tr>\n      <th>haschild</th>\n      <td>2832.0</td>\n      <td>1.787782</td>\n      <td>1.215620</td>\n      <td>1.0</td>\n      <td>1.0</td>\n      <td>1.0</td>\n      <td>2.00</td>\n      <td>19.0</td>\n    </tr>\n    <tr>\n      <th>hascurrency</th>\n      <td>109.0</td>\n      <td>1.000000</td>\n      <td>0.000000</td>\n      <td>1.0</td>\n      <td>1.0</td>\n      <td>1.0</td>\n      <td>1.00</td>\n      <td>1.0</td>\n    </tr>\n    <tr>\n      <th>hasgender</th>\n      <td>66160.0</td>\n      <td>1.000000</td>\n      <td>0.000000</td>\n      <td>1.0</td>\n      <td>1.0</td>\n      <td>1.0</td>\n      <td>1.00</td>\n      <td>1.0</td>\n    </tr>\n    <tr>\n      <th>hasmusicalrole</th>\n      <td>2554.0</td>\n      <td>3.036022</td>\n      <td>2.156680</td>\n      <td>1.0</td>\n      <td>1.0</td>\n      <td>2.0</td>\n      <td>4.00</td>\n      <td>18.0</td>\n    </tr>\n    <tr>\n      <th>hasneighbor</th>\n      <td>148.0</td>\n      <td>3.750000</td>\n      <td>2.243282</td>\n      <td>1.0</td>\n      <td>2.0</td>\n      <td>3.0</td>\n      <td>5.00</td>\n      <td>14.0</td>\n    </tr>\n    <tr>\n      <th>hasofficiallanguage</th>\n      <td>238.0</td>\n      <td>1.252101</td>\n      <td>0.625998</td>\n      <td>1.0</td>\n      <td>1.0</td>\n      <td>1.0</td>\n      <td>1.00</td>\n      <td>7.0</td>\n    </tr>\n    <tr>\n      <th>haswebsite</th>\n      <td>64.0</td>\n      <td>1.062500</td>\n      <td>0.243975</td>\n      <td>1.0</td>\n      <td>1.0</td>\n      <td>1.0</td>\n      <td>1.00</td>\n      <td>2.0</td>\n    </tr>\n    <tr>\n      <th>haswonprize</th>\n      <td>9228.0</td>\n      <td>2.607391</td>\n      <td>2.560773</td>\n      <td>1.0</td>\n      <td>1.0</td>\n      <td>2.0</td>\n      <td>3.00</td>\n      <td>33.0</td>\n    </tr>\n    <tr>\n      <th>imports</th>\n      <td>159.0</td>\n      <td>2.471698</td>\n      <td>1.178990</td>\n      <td>1.0</td>\n      <td>2.0</td>\n      <td>2.0</td>\n      <td>3.00</td>\n      <td>6.0</td>\n    </tr>\n    <tr>\n      <th>influences</th>\n      <td>2197.0</td>\n      <td>4.874829</td>\n      <td>8.761996</td>\n      <td>1.0</td>\n      <td>1.0</td>\n      <td>2.0</td>\n      <td>5.00</td>\n      <td>117.0</td>\n    </tr>\n    <tr>\n      <th>isaffiliatedto</th>\n      <td>48197.0</td>\n      <td>7.754030</td>\n      <td>3.624483</td>\n      <td>1.0</td>\n      <td>5.0</td>\n      <td>7.0</td>\n      <td>10.00</td>\n      <td>35.0</td>\n    </tr>\n    <tr>\n      <th>iscitizenof</th>\n      <td>3004.0</td>\n      <td>1.149467</td>\n      <td>0.430246</td>\n      <td>1.0</td>\n      <td>1.0</td>\n      <td>1.0</td>\n      <td>1.00</td>\n      <td>7.0</td>\n    </tr>\n    <tr>\n      <th>isconnectedto</th>\n      <td>1497.0</td>\n      <td>21.412826</td>\n      <td>30.884281</td>\n      <td>1.0</td>\n      <td>5.0</td>\n      <td>10.0</td>\n      <td>23.00</td>\n      <td>260.0</td>\n    </tr>\n    <tr>\n      <th>isinterestedin</th>\n      <td>164.0</td>\n      <td>1.457317</td>\n      <td>0.754135</td>\n      <td>1.0</td>\n      <td>1.0</td>\n      <td>1.0</td>\n      <td>2.00</td>\n      <td>5.0</td>\n    </tr>\n    <tr>\n      <th>isknownfor</th>\n      <td>12.0</td>\n      <td>1.583333</td>\n      <td>0.514929</td>\n      <td>1.0</td>\n      <td>1.0</td>\n      <td>2.0</td>\n      <td>2.00</td>\n      <td>2.0</td>\n    </tr>\n    <tr>\n      <th>isleaderof</th>\n      <td>534.0</td>\n      <td>1.792135</td>\n      <td>2.792353</td>\n      <td>1.0</td>\n      <td>1.0</td>\n      <td>1.0</td>\n      <td>2.00</td>\n      <td>43.0</td>\n    </tr>\n    <tr>\n      <th>islocatedin</th>\n      <td>39672.0</td>\n      <td>2.234321</td>\n      <td>1.491134</td>\n      <td>1.0</td>\n      <td>1.0</td>\n      <td>2.0</td>\n      <td>3.00</td>\n      <td>32.0</td>\n    </tr>\n    <tr>\n      <th>ismarriedto</th>\n      <td>3205.0</td>\n      <td>1.171607</td>\n      <td>0.489470</td>\n      <td>1.0</td>\n      <td>1.0</td>\n      <td>1.0</td>\n      <td>1.00</td>\n      <td>9.0</td>\n    </tr>\n    <tr>\n      <th>ispoliticianof</th>\n      <td>1820.0</td>\n      <td>1.187912</td>\n      <td>0.490556</td>\n      <td>1.0</td>\n      <td>1.0</td>\n      <td>1.0</td>\n      <td>1.00</td>\n      <td>7.0</td>\n    </tr>\n    <tr>\n      <th>livesin</th>\n      <td>1793.0</td>\n      <td>1.662019</td>\n      <td>1.031097</td>\n      <td>1.0</td>\n      <td>1.0</td>\n      <td>1.0</td>\n      <td>2.00</td>\n      <td>12.0</td>\n    </tr>\n    <tr>\n      <th>owns</th>\n      <td>413.0</td>\n      <td>1.757869</td>\n      <td>2.070239</td>\n      <td>1.0</td>\n      <td>1.0</td>\n      <td>1.0</td>\n      <td>2.00</td>\n      <td>24.0</td>\n    </tr>\n    <tr>\n      <th>participatedin</th>\n      <td>762.0</td>\n      <td>6.758530</td>\n      <td>14.412342</td>\n      <td>1.0</td>\n      <td>1.0</td>\n      <td>2.0</td>\n      <td>6.00</td>\n      <td>197.0</td>\n    </tr>\n    <tr>\n      <th>playsfor</th>\n      <td>45793.0</td>\n      <td>7.010329</td>\n      <td>2.767660</td>\n      <td>1.0</td>\n      <td>5.0</td>\n      <td>7.0</td>\n      <td>9.00</td>\n      <td>54.0</td>\n    </tr>\n    <tr>\n      <th>wasbornin</th>\n      <td>44967.0</td>\n      <td>1.000089</td>\n      <td>0.009431</td>\n      <td>1.0</td>\n      <td>1.0</td>\n      <td>1.0</td>\n      <td>1.00</td>\n      <td>2.0</td>\n    </tr>\n    <tr>\n      <th>worksat</th>\n      <td>1419.0</td>\n      <td>2.384778</td>\n      <td>1.478075</td>\n      <td>1.0</td>\n      <td>1.0</td>\n      <td>2.0</td>\n      <td>3.00</td>\n      <td>12.0</td>\n    </tr>\n    <tr>\n      <th>wrotemusicfor</th>\n      <td>1121.0</td>\n      <td>5.394291</td>\n      <td>8.068774</td>\n      <td>1.0</td>\n      <td>1.0</td>\n      <td>2.0</td>\n      <td>6.00</td>\n      <td>63.0</td>\n    </tr>\n  </tbody>\n</table>\n</div>"
     },
     "execution_count": 11,
     "metadata": {},
     "output_type": "execute_result"
    }
   ],
   "source": [
    "df_n_o_per_s_r_pair_statistics  = pd.DataFrame(\n",
    "    group.describe().rename(\n",
    "        columns={'n_o_per_s_r_pair':name}\n",
    "    ).squeeze()\n",
    "    for name, group\n",
    "    in df_n_o_per_s_r_pair.groupby('Rel')\n",
    ")\n",
    "\n",
    "df_n_o_per_s_r_pair_statistics"
   ],
   "metadata": {
    "collapsed": false,
    "pycharm": {
     "name": "#%%\n"
    }
   }
  },
  {
   "cell_type": "code",
   "execution_count": 12,
   "outputs": [],
   "source": [
    "df_n_o_per_s_r_pair_statistics = df_n_o_per_s_r_pair_statistics[\n",
    "    ['count', 'mean', 'std', 'min', '50%', 'max']\n",
    "].rename(\n",
    "    columns={\n",
    "        'count': 'n_s_r_pairs',\n",
    "        'mean': 'mean_n_o_per_s_r_pair',\n",
    "        'std': 'std_n_o_per_s_r_pair',\n",
    "        'min': 'min_n_o_per_s_r_pair',\n",
    "        '50%': 'median_n_o_per_s_r_pair',\n",
    "        'max': 'max_n_o_per_s_r_pair',\n",
    "    }\n",
    ")"
   ],
   "metadata": {
    "collapsed": false,
    "pycharm": {
     "name": "#%%\n"
    }
   }
  },
  {
   "cell_type": "code",
   "execution_count": 13,
   "outputs": [
    {
     "data": {
      "text/plain": "                     n_s_r_pairs  mean_n_o_per_s_r_pair  std_n_o_per_s_r_pair  \\\nactedin                   5402.0               5.952055              6.151133   \ncreated                   2850.0               2.432632              2.963897   \ndealswith                  220.0               5.918182              3.691609   \ndiedin                    9243.0               1.000108              0.010401   \ndirected                  1558.0               3.517972              3.849864   \nedited                     357.0               8.635854              6.178674   \nexports                    142.0               2.661972              1.453230   \ngraduatedfrom             4715.0               1.557582              0.775789   \nhappenedin                 871.0               5.800230              3.946370   \nhasacademicadvisor         799.0               1.140175              0.378462   \nhascapital                2156.0               1.188776              0.820890   \nhaschild                  2832.0               1.787782              1.215620   \nhascurrency                109.0               1.000000              0.000000   \nhasgender                66160.0               1.000000              0.000000   \nhasmusicalrole            2554.0               3.036022              2.156680   \nhasneighbor                148.0               3.750000              2.243282   \nhasofficiallanguage        238.0               1.252101              0.625998   \nhaswebsite                  64.0               1.062500              0.243975   \nhaswonprize               9228.0               2.607391              2.560773   \nimports                    159.0               2.471698              1.178990   \ninfluences                2197.0               4.874829              8.761996   \nisaffiliatedto           48197.0               7.754030              3.624483   \niscitizenof               3004.0               1.149467              0.430246   \nisconnectedto             1497.0              21.412826             30.884281   \nisinterestedin             164.0               1.457317              0.754135   \nisknownfor                  12.0               1.583333              0.514929   \nisleaderof                 534.0               1.792135              2.792353   \nislocatedin              39672.0               2.234321              1.491134   \nismarriedto               3205.0               1.171607              0.489470   \nispoliticianof            1820.0               1.187912              0.490556   \nlivesin                   1793.0               1.662019              1.031097   \nowns                       413.0               1.757869              2.070239   \nparticipatedin             762.0               6.758530             14.412342   \nplaysfor                 45793.0               7.010329              2.767660   \nwasbornin                44967.0               1.000089              0.009431   \nworksat                   1419.0               2.384778              1.478075   \nwrotemusicfor             1121.0               5.394291              8.068774   \n\n                     min_n_o_per_s_r_pair  median_n_o_per_s_r_pair  \\\nactedin                               1.0                      4.0   \ncreated                               1.0                      1.0   \ndealswith                             1.0                      7.0   \ndiedin                                1.0                      1.0   \ndirected                              1.0                      2.0   \nedited                                1.0                      8.0   \nexports                               1.0                      2.0   \ngraduatedfrom                         1.0                      1.0   \nhappenedin                            1.0                      5.0   \nhasacademicadvisor                    1.0                      1.0   \nhascapital                            1.0                      1.0   \nhaschild                              1.0                      1.0   \nhascurrency                           1.0                      1.0   \nhasgender                             1.0                      1.0   \nhasmusicalrole                        1.0                      2.0   \nhasneighbor                           1.0                      3.0   \nhasofficiallanguage                   1.0                      1.0   \nhaswebsite                            1.0                      1.0   \nhaswonprize                           1.0                      2.0   \nimports                               1.0                      2.0   \ninfluences                            1.0                      2.0   \nisaffiliatedto                        1.0                      7.0   \niscitizenof                           1.0                      1.0   \nisconnectedto                         1.0                     10.0   \nisinterestedin                        1.0                      1.0   \nisknownfor                            1.0                      2.0   \nisleaderof                            1.0                      1.0   \nislocatedin                           1.0                      2.0   \nismarriedto                           1.0                      1.0   \nispoliticianof                        1.0                      1.0   \nlivesin                               1.0                      1.0   \nowns                                  1.0                      1.0   \nparticipatedin                        1.0                      2.0   \nplaysfor                              1.0                      7.0   \nwasbornin                             1.0                      1.0   \nworksat                               1.0                      2.0   \nwrotemusicfor                         1.0                      2.0   \n\n                     max_n_o_per_s_r_pair  \nactedin                             140.0  \ncreated                              48.0  \ndealswith                            14.0  \ndiedin                                2.0  \ndirected                             63.0  \nedited                               45.0  \nexports                               7.0  \ngraduatedfrom                        10.0  \nhappenedin                           37.0  \nhasacademicadvisor                    4.0  \nhascapital                           26.0  \nhaschild                             19.0  \nhascurrency                           1.0  \nhasgender                             1.0  \nhasmusicalrole                       18.0  \nhasneighbor                          14.0  \nhasofficiallanguage                   7.0  \nhaswebsite                            2.0  \nhaswonprize                          33.0  \nimports                               6.0  \ninfluences                          117.0  \nisaffiliatedto                       35.0  \niscitizenof                           7.0  \nisconnectedto                       260.0  \nisinterestedin                        5.0  \nisknownfor                            2.0  \nisleaderof                           43.0  \nislocatedin                          32.0  \nismarriedto                           9.0  \nispoliticianof                        7.0  \nlivesin                              12.0  \nowns                                 24.0  \nparticipatedin                      197.0  \nplaysfor                             54.0  \nwasbornin                             2.0  \nworksat                              12.0  \nwrotemusicfor                        63.0  ",
      "text/html": "<div>\n<style scoped>\n    .dataframe tbody tr th:only-of-type {\n        vertical-align: middle;\n    }\n\n    .dataframe tbody tr th {\n        vertical-align: top;\n    }\n\n    .dataframe thead th {\n        text-align: right;\n    }\n</style>\n<table border=\"1\" class=\"dataframe\">\n  <thead>\n    <tr style=\"text-align: right;\">\n      <th></th>\n      <th>n_s_r_pairs</th>\n      <th>mean_n_o_per_s_r_pair</th>\n      <th>std_n_o_per_s_r_pair</th>\n      <th>min_n_o_per_s_r_pair</th>\n      <th>median_n_o_per_s_r_pair</th>\n      <th>max_n_o_per_s_r_pair</th>\n    </tr>\n  </thead>\n  <tbody>\n    <tr>\n      <th>actedin</th>\n      <td>5402.0</td>\n      <td>5.952055</td>\n      <td>6.151133</td>\n      <td>1.0</td>\n      <td>4.0</td>\n      <td>140.0</td>\n    </tr>\n    <tr>\n      <th>created</th>\n      <td>2850.0</td>\n      <td>2.432632</td>\n      <td>2.963897</td>\n      <td>1.0</td>\n      <td>1.0</td>\n      <td>48.0</td>\n    </tr>\n    <tr>\n      <th>dealswith</th>\n      <td>220.0</td>\n      <td>5.918182</td>\n      <td>3.691609</td>\n      <td>1.0</td>\n      <td>7.0</td>\n      <td>14.0</td>\n    </tr>\n    <tr>\n      <th>diedin</th>\n      <td>9243.0</td>\n      <td>1.000108</td>\n      <td>0.010401</td>\n      <td>1.0</td>\n      <td>1.0</td>\n      <td>2.0</td>\n    </tr>\n    <tr>\n      <th>directed</th>\n      <td>1558.0</td>\n      <td>3.517972</td>\n      <td>3.849864</td>\n      <td>1.0</td>\n      <td>2.0</td>\n      <td>63.0</td>\n    </tr>\n    <tr>\n      <th>edited</th>\n      <td>357.0</td>\n      <td>8.635854</td>\n      <td>6.178674</td>\n      <td>1.0</td>\n      <td>8.0</td>\n      <td>45.0</td>\n    </tr>\n    <tr>\n      <th>exports</th>\n      <td>142.0</td>\n      <td>2.661972</td>\n      <td>1.453230</td>\n      <td>1.0</td>\n      <td>2.0</td>\n      <td>7.0</td>\n    </tr>\n    <tr>\n      <th>graduatedfrom</th>\n      <td>4715.0</td>\n      <td>1.557582</td>\n      <td>0.775789</td>\n      <td>1.0</td>\n      <td>1.0</td>\n      <td>10.0</td>\n    </tr>\n    <tr>\n      <th>happenedin</th>\n      <td>871.0</td>\n      <td>5.800230</td>\n      <td>3.946370</td>\n      <td>1.0</td>\n      <td>5.0</td>\n      <td>37.0</td>\n    </tr>\n    <tr>\n      <th>hasacademicadvisor</th>\n      <td>799.0</td>\n      <td>1.140175</td>\n      <td>0.378462</td>\n      <td>1.0</td>\n      <td>1.0</td>\n      <td>4.0</td>\n    </tr>\n    <tr>\n      <th>hascapital</th>\n      <td>2156.0</td>\n      <td>1.188776</td>\n      <td>0.820890</td>\n      <td>1.0</td>\n      <td>1.0</td>\n      <td>26.0</td>\n    </tr>\n    <tr>\n      <th>haschild</th>\n      <td>2832.0</td>\n      <td>1.787782</td>\n      <td>1.215620</td>\n      <td>1.0</td>\n      <td>1.0</td>\n      <td>19.0</td>\n    </tr>\n    <tr>\n      <th>hascurrency</th>\n      <td>109.0</td>\n      <td>1.000000</td>\n      <td>0.000000</td>\n      <td>1.0</td>\n      <td>1.0</td>\n      <td>1.0</td>\n    </tr>\n    <tr>\n      <th>hasgender</th>\n      <td>66160.0</td>\n      <td>1.000000</td>\n      <td>0.000000</td>\n      <td>1.0</td>\n      <td>1.0</td>\n      <td>1.0</td>\n    </tr>\n    <tr>\n      <th>hasmusicalrole</th>\n      <td>2554.0</td>\n      <td>3.036022</td>\n      <td>2.156680</td>\n      <td>1.0</td>\n      <td>2.0</td>\n      <td>18.0</td>\n    </tr>\n    <tr>\n      <th>hasneighbor</th>\n      <td>148.0</td>\n      <td>3.750000</td>\n      <td>2.243282</td>\n      <td>1.0</td>\n      <td>3.0</td>\n      <td>14.0</td>\n    </tr>\n    <tr>\n      <th>hasofficiallanguage</th>\n      <td>238.0</td>\n      <td>1.252101</td>\n      <td>0.625998</td>\n      <td>1.0</td>\n      <td>1.0</td>\n      <td>7.0</td>\n    </tr>\n    <tr>\n      <th>haswebsite</th>\n      <td>64.0</td>\n      <td>1.062500</td>\n      <td>0.243975</td>\n      <td>1.0</td>\n      <td>1.0</td>\n      <td>2.0</td>\n    </tr>\n    <tr>\n      <th>haswonprize</th>\n      <td>9228.0</td>\n      <td>2.607391</td>\n      <td>2.560773</td>\n      <td>1.0</td>\n      <td>2.0</td>\n      <td>33.0</td>\n    </tr>\n    <tr>\n      <th>imports</th>\n      <td>159.0</td>\n      <td>2.471698</td>\n      <td>1.178990</td>\n      <td>1.0</td>\n      <td>2.0</td>\n      <td>6.0</td>\n    </tr>\n    <tr>\n      <th>influences</th>\n      <td>2197.0</td>\n      <td>4.874829</td>\n      <td>8.761996</td>\n      <td>1.0</td>\n      <td>2.0</td>\n      <td>117.0</td>\n    </tr>\n    <tr>\n      <th>isaffiliatedto</th>\n      <td>48197.0</td>\n      <td>7.754030</td>\n      <td>3.624483</td>\n      <td>1.0</td>\n      <td>7.0</td>\n      <td>35.0</td>\n    </tr>\n    <tr>\n      <th>iscitizenof</th>\n      <td>3004.0</td>\n      <td>1.149467</td>\n      <td>0.430246</td>\n      <td>1.0</td>\n      <td>1.0</td>\n      <td>7.0</td>\n    </tr>\n    <tr>\n      <th>isconnectedto</th>\n      <td>1497.0</td>\n      <td>21.412826</td>\n      <td>30.884281</td>\n      <td>1.0</td>\n      <td>10.0</td>\n      <td>260.0</td>\n    </tr>\n    <tr>\n      <th>isinterestedin</th>\n      <td>164.0</td>\n      <td>1.457317</td>\n      <td>0.754135</td>\n      <td>1.0</td>\n      <td>1.0</td>\n      <td>5.0</td>\n    </tr>\n    <tr>\n      <th>isknownfor</th>\n      <td>12.0</td>\n      <td>1.583333</td>\n      <td>0.514929</td>\n      <td>1.0</td>\n      <td>2.0</td>\n      <td>2.0</td>\n    </tr>\n    <tr>\n      <th>isleaderof</th>\n      <td>534.0</td>\n      <td>1.792135</td>\n      <td>2.792353</td>\n      <td>1.0</td>\n      <td>1.0</td>\n      <td>43.0</td>\n    </tr>\n    <tr>\n      <th>islocatedin</th>\n      <td>39672.0</td>\n      <td>2.234321</td>\n      <td>1.491134</td>\n      <td>1.0</td>\n      <td>2.0</td>\n      <td>32.0</td>\n    </tr>\n    <tr>\n      <th>ismarriedto</th>\n      <td>3205.0</td>\n      <td>1.171607</td>\n      <td>0.489470</td>\n      <td>1.0</td>\n      <td>1.0</td>\n      <td>9.0</td>\n    </tr>\n    <tr>\n      <th>ispoliticianof</th>\n      <td>1820.0</td>\n      <td>1.187912</td>\n      <td>0.490556</td>\n      <td>1.0</td>\n      <td>1.0</td>\n      <td>7.0</td>\n    </tr>\n    <tr>\n      <th>livesin</th>\n      <td>1793.0</td>\n      <td>1.662019</td>\n      <td>1.031097</td>\n      <td>1.0</td>\n      <td>1.0</td>\n      <td>12.0</td>\n    </tr>\n    <tr>\n      <th>owns</th>\n      <td>413.0</td>\n      <td>1.757869</td>\n      <td>2.070239</td>\n      <td>1.0</td>\n      <td>1.0</td>\n      <td>24.0</td>\n    </tr>\n    <tr>\n      <th>participatedin</th>\n      <td>762.0</td>\n      <td>6.758530</td>\n      <td>14.412342</td>\n      <td>1.0</td>\n      <td>2.0</td>\n      <td>197.0</td>\n    </tr>\n    <tr>\n      <th>playsfor</th>\n      <td>45793.0</td>\n      <td>7.010329</td>\n      <td>2.767660</td>\n      <td>1.0</td>\n      <td>7.0</td>\n      <td>54.0</td>\n    </tr>\n    <tr>\n      <th>wasbornin</th>\n      <td>44967.0</td>\n      <td>1.000089</td>\n      <td>0.009431</td>\n      <td>1.0</td>\n      <td>1.0</td>\n      <td>2.0</td>\n    </tr>\n    <tr>\n      <th>worksat</th>\n      <td>1419.0</td>\n      <td>2.384778</td>\n      <td>1.478075</td>\n      <td>1.0</td>\n      <td>2.0</td>\n      <td>12.0</td>\n    </tr>\n    <tr>\n      <th>wrotemusicfor</th>\n      <td>1121.0</td>\n      <td>5.394291</td>\n      <td>8.068774</td>\n      <td>1.0</td>\n      <td>2.0</td>\n      <td>63.0</td>\n    </tr>\n  </tbody>\n</table>\n</div>"
     },
     "execution_count": 13,
     "metadata": {},
     "output_type": "execute_result"
    }
   ],
   "source": [
    "df_n_o_per_s_r_pair_statistics"
   ],
   "metadata": {
    "collapsed": false,
    "pycharm": {
     "name": "#%%\n"
    }
   }
  },
  {
   "cell_type": "markdown",
   "source": [
    "## Pair statistics: # subject per (relation, object)-pair\n",
    "\n",
    "### Count # subject per (relation, object)-pair"
   ],
   "metadata": {
    "collapsed": false,
    "pycharm": {
     "name": "#%% md\n"
    }
   }
  },
  {
   "cell_type": "code",
   "execution_count": 14,
   "outputs": [
    {
     "data": {
      "text/plain": "       Rel                    E2  n_s_per_r_o_pair\n0  actedin     'e!Three_Amigos!'                 3\n1  actedin           'e$_(film)'                 5\n2  actedin   'e10,000_BC_(film)'                 1\n3  actedin  'e10.5_(miniseries)'                 5\n4  actedin      'e101_Reykjavik'                 1",
      "text/html": "<div>\n<style scoped>\n    .dataframe tbody tr th:only-of-type {\n        vertical-align: middle;\n    }\n\n    .dataframe tbody tr th {\n        vertical-align: top;\n    }\n\n    .dataframe thead th {\n        text-align: right;\n    }\n</style>\n<table border=\"1\" class=\"dataframe\">\n  <thead>\n    <tr style=\"text-align: right;\">\n      <th></th>\n      <th>Rel</th>\n      <th>E2</th>\n      <th>n_s_per_r_o_pair</th>\n    </tr>\n  </thead>\n  <tbody>\n    <tr>\n      <th>0</th>\n      <td>actedin</td>\n      <td>'e!Three_Amigos!'</td>\n      <td>3</td>\n    </tr>\n    <tr>\n      <th>1</th>\n      <td>actedin</td>\n      <td>'e$_(film)'</td>\n      <td>5</td>\n    </tr>\n    <tr>\n      <th>2</th>\n      <td>actedin</td>\n      <td>'e10,000_BC_(film)'</td>\n      <td>1</td>\n    </tr>\n    <tr>\n      <th>3</th>\n      <td>actedin</td>\n      <td>'e10.5_(miniseries)'</td>\n      <td>5</td>\n    </tr>\n    <tr>\n      <th>4</th>\n      <td>actedin</td>\n      <td>'e101_Reykjavik'</td>\n      <td>1</td>\n    </tr>\n  </tbody>\n</table>\n</div>"
     },
     "execution_count": 14,
     "metadata": {},
     "output_type": "execute_result"
    }
   ],
   "source": [
    "df_n_s_per_r_o_pair = triples_df.groupby(\n",
    "    by=['Rel', 'E2']).count().reset_index().rename(columns={\"E1\": \"n_s_per_r_o_pair\"})\n",
    "df_n_s_per_r_o_pair.head()"
   ],
   "metadata": {
    "collapsed": false,
    "pycharm": {
     "name": "#%%\n"
    }
   }
  },
  {
   "cell_type": "code",
   "execution_count": 15,
   "outputs": [
    {
     "data": {
      "text/plain": "                    E1      Rel                 E2\n4927    'eChevy_Chase'  actedin  'e!Three_Amigos!'\n20244  'eMartin_Short'  actedin  'e!Three_Amigos!'\n28950  'eSteve_Martin'  actedin  'e!Three_Amigos!'",
      "text/html": "<div>\n<style scoped>\n    .dataframe tbody tr th:only-of-type {\n        vertical-align: middle;\n    }\n\n    .dataframe tbody tr th {\n        vertical-align: top;\n    }\n\n    .dataframe thead th {\n        text-align: right;\n    }\n</style>\n<table border=\"1\" class=\"dataframe\">\n  <thead>\n    <tr style=\"text-align: right;\">\n      <th></th>\n      <th>E1</th>\n      <th>Rel</th>\n      <th>E2</th>\n    </tr>\n  </thead>\n  <tbody>\n    <tr>\n      <th>4927</th>\n      <td>'eChevy_Chase'</td>\n      <td>actedin</td>\n      <td>'e!Three_Amigos!'</td>\n    </tr>\n    <tr>\n      <th>20244</th>\n      <td>'eMartin_Short'</td>\n      <td>actedin</td>\n      <td>'e!Three_Amigos!'</td>\n    </tr>\n    <tr>\n      <th>28950</th>\n      <td>'eSteve_Martin'</td>\n      <td>actedin</td>\n      <td>'e!Three_Amigos!'</td>\n    </tr>\n  </tbody>\n</table>\n</div>"
     },
     "execution_count": 15,
     "metadata": {},
     "output_type": "execute_result"
    }
   ],
   "source": [
    "triples_df[(triples_df[\"Rel\"] == 'actedin') & (triples_df[\"E2\"] == \"'e!Three_Amigos!'\")]"
   ],
   "metadata": {
    "collapsed": false,
    "pycharm": {
     "name": "#%%\n"
    }
   }
  },
  {
   "cell_type": "markdown",
   "source": [
    "### Statistics about #subject / (relation, object) per relation"
   ],
   "metadata": {
    "collapsed": false
   }
  },
  {
   "cell_type": "code",
   "execution_count": 16,
   "outputs": [
    {
     "data": {
      "text/plain": "                       count          mean           std     min       25%  \\\nactedin               6754.0      4.760586      2.252789     1.0      3.00   \ncreated               4425.0      1.566780      1.110784     1.0      1.00   \ndealswith              168.0      7.750000     17.021561     1.0      1.00   \ndiedin                1889.0      4.893594     25.280561     1.0      1.00   \ndirected              4983.0      1.099940      0.452530     1.0      1.00   \nedited                2799.0      1.101465      0.353267     1.0      1.00   \nexports                 30.0     12.600000      8.401970     1.0      7.00   \ngraduatedfrom         1056.0      6.954545     17.273705     1.0      1.00   \nhappenedin            1366.0      3.698389      7.622011     1.0      1.00   \nhasacademicadvisor     510.0      1.786275      1.409833     1.0      1.00   \nhascapital            1848.0      1.386905      0.999286     1.0      1.00   \nhaschild              2928.0      1.729167      0.981243     1.0      1.00   \nhascurrency             16.0      6.812500      5.294258     1.0      2.75   \nhasgender                2.0  33080.000000  39542.825418  5119.0  19099.50   \nhasmusicalrole          73.0    106.219178    268.019913     1.0      7.00   \nhasneighbor            149.0      3.724832      2.253703     1.0      2.00   \nhasofficiallanguage     12.0     24.833333     19.958290     9.0     12.75   \nhaswebsite              27.0      2.518519      3.190977     1.0      1.00   \nhaswonprize           1051.0     22.893435     48.298970     1.0      3.50   \nimports                 26.0     15.115385     18.243524     1.0      2.00   \ninfluences            2628.0      4.075342      4.094110     1.0      1.00   \nisaffiliatedto       10881.0     34.346200     65.763337     1.0      4.00   \niscitizenof            168.0     20.553571    105.805989     1.0      1.00   \nisconnectedto         1892.0     16.942389     24.240736     1.0      4.00   \nisinterestedin          29.0      8.241379     11.422582     1.0      1.00   \nisknownfor              17.0      1.117647      0.332106     1.0      1.00   \nisleaderof             627.0      1.526316      1.107854     1.0      1.00   \nislocatedin          13262.0      6.683758     92.872160     1.0      1.00   \nismarriedto           3187.0      1.178224      0.498198     1.0      1.00   \nispoliticianof         326.0      6.631902     17.227869     1.0      1.00   \nlivesin                864.0      3.449074     15.011844     1.0      1.00   \nowns                   562.0      1.291815      1.360339     1.0      1.00   \nparticipatedin         866.0      5.946882      5.596402     1.0      3.00   \nplaysfor              8470.0     37.901299     69.770945     1.0      5.00   \nwasbornin             6079.0      7.397763     29.114886     1.0      1.00   \nworksat                597.0      5.668342     12.172580     1.0      1.00   \nwrotemusicfor         5096.0      1.186617      0.562053     1.0      1.00   \n\n                         50%       75%      max  \nactedin                  5.0      6.00     21.0  \ncreated                  1.0      2.00     16.0  \ndealswith                2.0      5.00    135.0  \ndiedin                   1.0      3.00    751.0  \ndirected                 1.0      1.00      9.0  \nedited                   1.0      1.00      6.0  \nexports                 10.5     17.75     33.0  \ngraduatedfrom            2.5      6.00    303.0  \nhappenedin               1.0      3.00    140.0  \nhasacademicadvisor       1.0      2.00     10.0  \nhascapital               1.0      1.00     13.0  \nhaschild                 1.0      2.00     10.0  \nhascurrency              6.0      8.25     19.0  \nhasgender            33080.0  47060.50  61041.0  \nhasmusicalrole          18.0     76.00   1660.0  \nhasneighbor              3.0      5.00     13.0  \nhasofficiallanguage     15.5     28.25     70.0  \nhaswebsite               1.0      2.00     14.0  \nhaswonprize              8.0     20.00    672.0  \nimports                  6.0     21.00     65.0  \ninfluences               3.0      5.00     41.0  \nisaffiliatedto          10.0     31.00    734.0  \niscitizenof              2.0      8.25   1315.0  \nisconnectedto            8.0     19.00    211.0  \nisinterestedin           2.0     10.00     51.0  \nisknownfor               1.0      1.00      2.0  \nisleaderof               1.0      2.00     15.0  \nislocatedin              1.0      3.00  10172.0  \nismarriedto              1.0      1.00      9.0  \nispoliticianof           2.0      6.00    205.0  \nlivesin                  1.0      2.00    371.0  \nowns                     1.0      1.00     20.0  \nparticipatedin           4.0      7.00     79.0  \nplaysfor                11.0     38.00    689.0  \nwasbornin                2.0      5.00   1117.0  \nworksat                  2.0      5.00    139.0  \nwrotemusicfor            1.0      1.00      9.0  ",
      "text/html": "<div>\n<style scoped>\n    .dataframe tbody tr th:only-of-type {\n        vertical-align: middle;\n    }\n\n    .dataframe tbody tr th {\n        vertical-align: top;\n    }\n\n    .dataframe thead th {\n        text-align: right;\n    }\n</style>\n<table border=\"1\" class=\"dataframe\">\n  <thead>\n    <tr style=\"text-align: right;\">\n      <th></th>\n      <th>count</th>\n      <th>mean</th>\n      <th>std</th>\n      <th>min</th>\n      <th>25%</th>\n      <th>50%</th>\n      <th>75%</th>\n      <th>max</th>\n    </tr>\n  </thead>\n  <tbody>\n    <tr>\n      <th>actedin</th>\n      <td>6754.0</td>\n      <td>4.760586</td>\n      <td>2.252789</td>\n      <td>1.0</td>\n      <td>3.00</td>\n      <td>5.0</td>\n      <td>6.00</td>\n      <td>21.0</td>\n    </tr>\n    <tr>\n      <th>created</th>\n      <td>4425.0</td>\n      <td>1.566780</td>\n      <td>1.110784</td>\n      <td>1.0</td>\n      <td>1.00</td>\n      <td>1.0</td>\n      <td>2.00</td>\n      <td>16.0</td>\n    </tr>\n    <tr>\n      <th>dealswith</th>\n      <td>168.0</td>\n      <td>7.750000</td>\n      <td>17.021561</td>\n      <td>1.0</td>\n      <td>1.00</td>\n      <td>2.0</td>\n      <td>5.00</td>\n      <td>135.0</td>\n    </tr>\n    <tr>\n      <th>diedin</th>\n      <td>1889.0</td>\n      <td>4.893594</td>\n      <td>25.280561</td>\n      <td>1.0</td>\n      <td>1.00</td>\n      <td>1.0</td>\n      <td>3.00</td>\n      <td>751.0</td>\n    </tr>\n    <tr>\n      <th>directed</th>\n      <td>4983.0</td>\n      <td>1.099940</td>\n      <td>0.452530</td>\n      <td>1.0</td>\n      <td>1.00</td>\n      <td>1.0</td>\n      <td>1.00</td>\n      <td>9.0</td>\n    </tr>\n    <tr>\n      <th>edited</th>\n      <td>2799.0</td>\n      <td>1.101465</td>\n      <td>0.353267</td>\n      <td>1.0</td>\n      <td>1.00</td>\n      <td>1.0</td>\n      <td>1.00</td>\n      <td>6.0</td>\n    </tr>\n    <tr>\n      <th>exports</th>\n      <td>30.0</td>\n      <td>12.600000</td>\n      <td>8.401970</td>\n      <td>1.0</td>\n      <td>7.00</td>\n      <td>10.5</td>\n      <td>17.75</td>\n      <td>33.0</td>\n    </tr>\n    <tr>\n      <th>graduatedfrom</th>\n      <td>1056.0</td>\n      <td>6.954545</td>\n      <td>17.273705</td>\n      <td>1.0</td>\n      <td>1.00</td>\n      <td>2.5</td>\n      <td>6.00</td>\n      <td>303.0</td>\n    </tr>\n    <tr>\n      <th>happenedin</th>\n      <td>1366.0</td>\n      <td>3.698389</td>\n      <td>7.622011</td>\n      <td>1.0</td>\n      <td>1.00</td>\n      <td>1.0</td>\n      <td>3.00</td>\n      <td>140.0</td>\n    </tr>\n    <tr>\n      <th>hasacademicadvisor</th>\n      <td>510.0</td>\n      <td>1.786275</td>\n      <td>1.409833</td>\n      <td>1.0</td>\n      <td>1.00</td>\n      <td>1.0</td>\n      <td>2.00</td>\n      <td>10.0</td>\n    </tr>\n    <tr>\n      <th>hascapital</th>\n      <td>1848.0</td>\n      <td>1.386905</td>\n      <td>0.999286</td>\n      <td>1.0</td>\n      <td>1.00</td>\n      <td>1.0</td>\n      <td>1.00</td>\n      <td>13.0</td>\n    </tr>\n    <tr>\n      <th>haschild</th>\n      <td>2928.0</td>\n      <td>1.729167</td>\n      <td>0.981243</td>\n      <td>1.0</td>\n      <td>1.00</td>\n      <td>1.0</td>\n      <td>2.00</td>\n      <td>10.0</td>\n    </tr>\n    <tr>\n      <th>hascurrency</th>\n      <td>16.0</td>\n      <td>6.812500</td>\n      <td>5.294258</td>\n      <td>1.0</td>\n      <td>2.75</td>\n      <td>6.0</td>\n      <td>8.25</td>\n      <td>19.0</td>\n    </tr>\n    <tr>\n      <th>hasgender</th>\n      <td>2.0</td>\n      <td>33080.000000</td>\n      <td>39542.825418</td>\n      <td>5119.0</td>\n      <td>19099.50</td>\n      <td>33080.0</td>\n      <td>47060.50</td>\n      <td>61041.0</td>\n    </tr>\n    <tr>\n      <th>hasmusicalrole</th>\n      <td>73.0</td>\n      <td>106.219178</td>\n      <td>268.019913</td>\n      <td>1.0</td>\n      <td>7.00</td>\n      <td>18.0</td>\n      <td>76.00</td>\n      <td>1660.0</td>\n    </tr>\n    <tr>\n      <th>hasneighbor</th>\n      <td>149.0</td>\n      <td>3.724832</td>\n      <td>2.253703</td>\n      <td>1.0</td>\n      <td>2.00</td>\n      <td>3.0</td>\n      <td>5.00</td>\n      <td>13.0</td>\n    </tr>\n    <tr>\n      <th>hasofficiallanguage</th>\n      <td>12.0</td>\n      <td>24.833333</td>\n      <td>19.958290</td>\n      <td>9.0</td>\n      <td>12.75</td>\n      <td>15.5</td>\n      <td>28.25</td>\n      <td>70.0</td>\n    </tr>\n    <tr>\n      <th>haswebsite</th>\n      <td>27.0</td>\n      <td>2.518519</td>\n      <td>3.190977</td>\n      <td>1.0</td>\n      <td>1.00</td>\n      <td>1.0</td>\n      <td>2.00</td>\n      <td>14.0</td>\n    </tr>\n    <tr>\n      <th>haswonprize</th>\n      <td>1051.0</td>\n      <td>22.893435</td>\n      <td>48.298970</td>\n      <td>1.0</td>\n      <td>3.50</td>\n      <td>8.0</td>\n      <td>20.00</td>\n      <td>672.0</td>\n    </tr>\n    <tr>\n      <th>imports</th>\n      <td>26.0</td>\n      <td>15.115385</td>\n      <td>18.243524</td>\n      <td>1.0</td>\n      <td>2.00</td>\n      <td>6.0</td>\n      <td>21.00</td>\n      <td>65.0</td>\n    </tr>\n    <tr>\n      <th>influences</th>\n      <td>2628.0</td>\n      <td>4.075342</td>\n      <td>4.094110</td>\n      <td>1.0</td>\n      <td>1.00</td>\n      <td>3.0</td>\n      <td>5.00</td>\n      <td>41.0</td>\n    </tr>\n    <tr>\n      <th>isaffiliatedto</th>\n      <td>10881.0</td>\n      <td>34.346200</td>\n      <td>65.763337</td>\n      <td>1.0</td>\n      <td>4.00</td>\n      <td>10.0</td>\n      <td>31.00</td>\n      <td>734.0</td>\n    </tr>\n    <tr>\n      <th>iscitizenof</th>\n      <td>168.0</td>\n      <td>20.553571</td>\n      <td>105.805989</td>\n      <td>1.0</td>\n      <td>1.00</td>\n      <td>2.0</td>\n      <td>8.25</td>\n      <td>1315.0</td>\n    </tr>\n    <tr>\n      <th>isconnectedto</th>\n      <td>1892.0</td>\n      <td>16.942389</td>\n      <td>24.240736</td>\n      <td>1.0</td>\n      <td>4.00</td>\n      <td>8.0</td>\n      <td>19.00</td>\n      <td>211.0</td>\n    </tr>\n    <tr>\n      <th>isinterestedin</th>\n      <td>29.0</td>\n      <td>8.241379</td>\n      <td>11.422582</td>\n      <td>1.0</td>\n      <td>1.00</td>\n      <td>2.0</td>\n      <td>10.00</td>\n      <td>51.0</td>\n    </tr>\n    <tr>\n      <th>isknownfor</th>\n      <td>17.0</td>\n      <td>1.117647</td>\n      <td>0.332106</td>\n      <td>1.0</td>\n      <td>1.00</td>\n      <td>1.0</td>\n      <td>1.00</td>\n      <td>2.0</td>\n    </tr>\n    <tr>\n      <th>isleaderof</th>\n      <td>627.0</td>\n      <td>1.526316</td>\n      <td>1.107854</td>\n      <td>1.0</td>\n      <td>1.00</td>\n      <td>1.0</td>\n      <td>2.00</td>\n      <td>15.0</td>\n    </tr>\n    <tr>\n      <th>islocatedin</th>\n      <td>13262.0</td>\n      <td>6.683758</td>\n      <td>92.872160</td>\n      <td>1.0</td>\n      <td>1.00</td>\n      <td>1.0</td>\n      <td>3.00</td>\n      <td>10172.0</td>\n    </tr>\n    <tr>\n      <th>ismarriedto</th>\n      <td>3187.0</td>\n      <td>1.178224</td>\n      <td>0.498198</td>\n      <td>1.0</td>\n      <td>1.00</td>\n      <td>1.0</td>\n      <td>1.00</td>\n      <td>9.0</td>\n    </tr>\n    <tr>\n      <th>ispoliticianof</th>\n      <td>326.0</td>\n      <td>6.631902</td>\n      <td>17.227869</td>\n      <td>1.0</td>\n      <td>1.00</td>\n      <td>2.0</td>\n      <td>6.00</td>\n      <td>205.0</td>\n    </tr>\n    <tr>\n      <th>livesin</th>\n      <td>864.0</td>\n      <td>3.449074</td>\n      <td>15.011844</td>\n      <td>1.0</td>\n      <td>1.00</td>\n      <td>1.0</td>\n      <td>2.00</td>\n      <td>371.0</td>\n    </tr>\n    <tr>\n      <th>owns</th>\n      <td>562.0</td>\n      <td>1.291815</td>\n      <td>1.360339</td>\n      <td>1.0</td>\n      <td>1.00</td>\n      <td>1.0</td>\n      <td>1.00</td>\n      <td>20.0</td>\n    </tr>\n    <tr>\n      <th>participatedin</th>\n      <td>866.0</td>\n      <td>5.946882</td>\n      <td>5.596402</td>\n      <td>1.0</td>\n      <td>3.00</td>\n      <td>4.0</td>\n      <td>7.00</td>\n      <td>79.0</td>\n    </tr>\n    <tr>\n      <th>playsfor</th>\n      <td>8470.0</td>\n      <td>37.901299</td>\n      <td>69.770945</td>\n      <td>1.0</td>\n      <td>5.00</td>\n      <td>11.0</td>\n      <td>38.00</td>\n      <td>689.0</td>\n    </tr>\n    <tr>\n      <th>wasbornin</th>\n      <td>6079.0</td>\n      <td>7.397763</td>\n      <td>29.114886</td>\n      <td>1.0</td>\n      <td>1.00</td>\n      <td>2.0</td>\n      <td>5.00</td>\n      <td>1117.0</td>\n    </tr>\n    <tr>\n      <th>worksat</th>\n      <td>597.0</td>\n      <td>5.668342</td>\n      <td>12.172580</td>\n      <td>1.0</td>\n      <td>1.00</td>\n      <td>2.0</td>\n      <td>5.00</td>\n      <td>139.0</td>\n    </tr>\n    <tr>\n      <th>wrotemusicfor</th>\n      <td>5096.0</td>\n      <td>1.186617</td>\n      <td>0.562053</td>\n      <td>1.0</td>\n      <td>1.00</td>\n      <td>1.0</td>\n      <td>1.00</td>\n      <td>9.0</td>\n    </tr>\n  </tbody>\n</table>\n</div>"
     },
     "execution_count": 16,
     "metadata": {},
     "output_type": "execute_result"
    }
   ],
   "source": [
    "df_n_s_per_r_o_pair_statistics  = pd.DataFrame(\n",
    "    group.describe().rename(\n",
    "        columns={'n_s_per_r_o_pair':name}\n",
    "    ).squeeze()\n",
    "    for name, group\n",
    "    in df_n_s_per_r_o_pair.groupby('Rel')\n",
    ")\n",
    "\n",
    "df_n_s_per_r_o_pair_statistics"
   ],
   "metadata": {
    "collapsed": false,
    "pycharm": {
     "name": "#%%\n"
    }
   }
  },
  {
   "cell_type": "code",
   "execution_count": 17,
   "outputs": [],
   "source": [
    "df_n_s_per_r_o_pair_statistics = df_n_s_per_r_o_pair_statistics[\n",
    "    ['count', 'mean', 'std', 'min', '50%', 'max']\n",
    "].rename(\n",
    "    columns={\n",
    "        'count': 'n_r_o_pairs',\n",
    "        'mean': 'mean_n_s_per_r_o_pair',\n",
    "        'std': 'std_n_s_per_r_o_pair',\n",
    "        'min': 'min_n_s_per_r_o_pair',\n",
    "        '50%': 'median_n_s_per_r_o_pair',\n",
    "        'max': 'max_n_s_per_r_o_pair',\n",
    "    }\n",
    ")"
   ],
   "metadata": {
    "collapsed": false,
    "pycharm": {
     "name": "#%%\n"
    }
   }
  },
  {
   "cell_type": "code",
   "execution_count": 18,
   "outputs": [
    {
     "data": {
      "text/plain": "                     n_r_o_pairs  mean_n_s_per_r_o_pair  std_n_s_per_r_o_pair  \\\nactedin                   6754.0               4.760586              2.252789   \ncreated                   4425.0               1.566780              1.110784   \ndealswith                  168.0               7.750000             17.021561   \ndiedin                    1889.0               4.893594             25.280561   \ndirected                  4983.0               1.099940              0.452530   \nedited                    2799.0               1.101465              0.353267   \nexports                     30.0              12.600000              8.401970   \ngraduatedfrom             1056.0               6.954545             17.273705   \nhappenedin                1366.0               3.698389              7.622011   \nhasacademicadvisor         510.0               1.786275              1.409833   \nhascapital                1848.0               1.386905              0.999286   \nhaschild                  2928.0               1.729167              0.981243   \nhascurrency                 16.0               6.812500              5.294258   \nhasgender                    2.0           33080.000000          39542.825418   \nhasmusicalrole              73.0             106.219178            268.019913   \nhasneighbor                149.0               3.724832              2.253703   \nhasofficiallanguage         12.0              24.833333             19.958290   \nhaswebsite                  27.0               2.518519              3.190977   \nhaswonprize               1051.0              22.893435             48.298970   \nimports                     26.0              15.115385             18.243524   \ninfluences                2628.0               4.075342              4.094110   \nisaffiliatedto           10881.0              34.346200             65.763337   \niscitizenof                168.0              20.553571            105.805989   \nisconnectedto             1892.0              16.942389             24.240736   \nisinterestedin              29.0               8.241379             11.422582   \nisknownfor                  17.0               1.117647              0.332106   \nisleaderof                 627.0               1.526316              1.107854   \nislocatedin              13262.0               6.683758             92.872160   \nismarriedto               3187.0               1.178224              0.498198   \nispoliticianof             326.0               6.631902             17.227869   \nlivesin                    864.0               3.449074             15.011844   \nowns                       562.0               1.291815              1.360339   \nparticipatedin             866.0               5.946882              5.596402   \nplaysfor                  8470.0              37.901299             69.770945   \nwasbornin                 6079.0               7.397763             29.114886   \nworksat                    597.0               5.668342             12.172580   \nwrotemusicfor             5096.0               1.186617              0.562053   \n\n                     min_n_s_per_r_o_pair  median_n_s_per_r_o_pair  \\\nactedin                               1.0                      5.0   \ncreated                               1.0                      1.0   \ndealswith                             1.0                      2.0   \ndiedin                                1.0                      1.0   \ndirected                              1.0                      1.0   \nedited                                1.0                      1.0   \nexports                               1.0                     10.5   \ngraduatedfrom                         1.0                      2.5   \nhappenedin                            1.0                      1.0   \nhasacademicadvisor                    1.0                      1.0   \nhascapital                            1.0                      1.0   \nhaschild                              1.0                      1.0   \nhascurrency                           1.0                      6.0   \nhasgender                          5119.0                  33080.0   \nhasmusicalrole                        1.0                     18.0   \nhasneighbor                           1.0                      3.0   \nhasofficiallanguage                   9.0                     15.5   \nhaswebsite                            1.0                      1.0   \nhaswonprize                           1.0                      8.0   \nimports                               1.0                      6.0   \ninfluences                            1.0                      3.0   \nisaffiliatedto                        1.0                     10.0   \niscitizenof                           1.0                      2.0   \nisconnectedto                         1.0                      8.0   \nisinterestedin                        1.0                      2.0   \nisknownfor                            1.0                      1.0   \nisleaderof                            1.0                      1.0   \nislocatedin                           1.0                      1.0   \nismarriedto                           1.0                      1.0   \nispoliticianof                        1.0                      2.0   \nlivesin                               1.0                      1.0   \nowns                                  1.0                      1.0   \nparticipatedin                        1.0                      4.0   \nplaysfor                              1.0                     11.0   \nwasbornin                             1.0                      2.0   \nworksat                               1.0                      2.0   \nwrotemusicfor                         1.0                      1.0   \n\n                     max_n_s_per_r_o_pair  \nactedin                              21.0  \ncreated                              16.0  \ndealswith                           135.0  \ndiedin                              751.0  \ndirected                              9.0  \nedited                                6.0  \nexports                              33.0  \ngraduatedfrom                       303.0  \nhappenedin                          140.0  \nhasacademicadvisor                   10.0  \nhascapital                           13.0  \nhaschild                             10.0  \nhascurrency                          19.0  \nhasgender                         61041.0  \nhasmusicalrole                     1660.0  \nhasneighbor                          13.0  \nhasofficiallanguage                  70.0  \nhaswebsite                           14.0  \nhaswonprize                         672.0  \nimports                              65.0  \ninfluences                           41.0  \nisaffiliatedto                      734.0  \niscitizenof                        1315.0  \nisconnectedto                       211.0  \nisinterestedin                       51.0  \nisknownfor                            2.0  \nisleaderof                           15.0  \nislocatedin                       10172.0  \nismarriedto                           9.0  \nispoliticianof                      205.0  \nlivesin                             371.0  \nowns                                 20.0  \nparticipatedin                       79.0  \nplaysfor                            689.0  \nwasbornin                          1117.0  \nworksat                             139.0  \nwrotemusicfor                         9.0  ",
      "text/html": "<div>\n<style scoped>\n    .dataframe tbody tr th:only-of-type {\n        vertical-align: middle;\n    }\n\n    .dataframe tbody tr th {\n        vertical-align: top;\n    }\n\n    .dataframe thead th {\n        text-align: right;\n    }\n</style>\n<table border=\"1\" class=\"dataframe\">\n  <thead>\n    <tr style=\"text-align: right;\">\n      <th></th>\n      <th>n_r_o_pairs</th>\n      <th>mean_n_s_per_r_o_pair</th>\n      <th>std_n_s_per_r_o_pair</th>\n      <th>min_n_s_per_r_o_pair</th>\n      <th>median_n_s_per_r_o_pair</th>\n      <th>max_n_s_per_r_o_pair</th>\n    </tr>\n  </thead>\n  <tbody>\n    <tr>\n      <th>actedin</th>\n      <td>6754.0</td>\n      <td>4.760586</td>\n      <td>2.252789</td>\n      <td>1.0</td>\n      <td>5.0</td>\n      <td>21.0</td>\n    </tr>\n    <tr>\n      <th>created</th>\n      <td>4425.0</td>\n      <td>1.566780</td>\n      <td>1.110784</td>\n      <td>1.0</td>\n      <td>1.0</td>\n      <td>16.0</td>\n    </tr>\n    <tr>\n      <th>dealswith</th>\n      <td>168.0</td>\n      <td>7.750000</td>\n      <td>17.021561</td>\n      <td>1.0</td>\n      <td>2.0</td>\n      <td>135.0</td>\n    </tr>\n    <tr>\n      <th>diedin</th>\n      <td>1889.0</td>\n      <td>4.893594</td>\n      <td>25.280561</td>\n      <td>1.0</td>\n      <td>1.0</td>\n      <td>751.0</td>\n    </tr>\n    <tr>\n      <th>directed</th>\n      <td>4983.0</td>\n      <td>1.099940</td>\n      <td>0.452530</td>\n      <td>1.0</td>\n      <td>1.0</td>\n      <td>9.0</td>\n    </tr>\n    <tr>\n      <th>edited</th>\n      <td>2799.0</td>\n      <td>1.101465</td>\n      <td>0.353267</td>\n      <td>1.0</td>\n      <td>1.0</td>\n      <td>6.0</td>\n    </tr>\n    <tr>\n      <th>exports</th>\n      <td>30.0</td>\n      <td>12.600000</td>\n      <td>8.401970</td>\n      <td>1.0</td>\n      <td>10.5</td>\n      <td>33.0</td>\n    </tr>\n    <tr>\n      <th>graduatedfrom</th>\n      <td>1056.0</td>\n      <td>6.954545</td>\n      <td>17.273705</td>\n      <td>1.0</td>\n      <td>2.5</td>\n      <td>303.0</td>\n    </tr>\n    <tr>\n      <th>happenedin</th>\n      <td>1366.0</td>\n      <td>3.698389</td>\n      <td>7.622011</td>\n      <td>1.0</td>\n      <td>1.0</td>\n      <td>140.0</td>\n    </tr>\n    <tr>\n      <th>hasacademicadvisor</th>\n      <td>510.0</td>\n      <td>1.786275</td>\n      <td>1.409833</td>\n      <td>1.0</td>\n      <td>1.0</td>\n      <td>10.0</td>\n    </tr>\n    <tr>\n      <th>hascapital</th>\n      <td>1848.0</td>\n      <td>1.386905</td>\n      <td>0.999286</td>\n      <td>1.0</td>\n      <td>1.0</td>\n      <td>13.0</td>\n    </tr>\n    <tr>\n      <th>haschild</th>\n      <td>2928.0</td>\n      <td>1.729167</td>\n      <td>0.981243</td>\n      <td>1.0</td>\n      <td>1.0</td>\n      <td>10.0</td>\n    </tr>\n    <tr>\n      <th>hascurrency</th>\n      <td>16.0</td>\n      <td>6.812500</td>\n      <td>5.294258</td>\n      <td>1.0</td>\n      <td>6.0</td>\n      <td>19.0</td>\n    </tr>\n    <tr>\n      <th>hasgender</th>\n      <td>2.0</td>\n      <td>33080.000000</td>\n      <td>39542.825418</td>\n      <td>5119.0</td>\n      <td>33080.0</td>\n      <td>61041.0</td>\n    </tr>\n    <tr>\n      <th>hasmusicalrole</th>\n      <td>73.0</td>\n      <td>106.219178</td>\n      <td>268.019913</td>\n      <td>1.0</td>\n      <td>18.0</td>\n      <td>1660.0</td>\n    </tr>\n    <tr>\n      <th>hasneighbor</th>\n      <td>149.0</td>\n      <td>3.724832</td>\n      <td>2.253703</td>\n      <td>1.0</td>\n      <td>3.0</td>\n      <td>13.0</td>\n    </tr>\n    <tr>\n      <th>hasofficiallanguage</th>\n      <td>12.0</td>\n      <td>24.833333</td>\n      <td>19.958290</td>\n      <td>9.0</td>\n      <td>15.5</td>\n      <td>70.0</td>\n    </tr>\n    <tr>\n      <th>haswebsite</th>\n      <td>27.0</td>\n      <td>2.518519</td>\n      <td>3.190977</td>\n      <td>1.0</td>\n      <td>1.0</td>\n      <td>14.0</td>\n    </tr>\n    <tr>\n      <th>haswonprize</th>\n      <td>1051.0</td>\n      <td>22.893435</td>\n      <td>48.298970</td>\n      <td>1.0</td>\n      <td>8.0</td>\n      <td>672.0</td>\n    </tr>\n    <tr>\n      <th>imports</th>\n      <td>26.0</td>\n      <td>15.115385</td>\n      <td>18.243524</td>\n      <td>1.0</td>\n      <td>6.0</td>\n      <td>65.0</td>\n    </tr>\n    <tr>\n      <th>influences</th>\n      <td>2628.0</td>\n      <td>4.075342</td>\n      <td>4.094110</td>\n      <td>1.0</td>\n      <td>3.0</td>\n      <td>41.0</td>\n    </tr>\n    <tr>\n      <th>isaffiliatedto</th>\n      <td>10881.0</td>\n      <td>34.346200</td>\n      <td>65.763337</td>\n      <td>1.0</td>\n      <td>10.0</td>\n      <td>734.0</td>\n    </tr>\n    <tr>\n      <th>iscitizenof</th>\n      <td>168.0</td>\n      <td>20.553571</td>\n      <td>105.805989</td>\n      <td>1.0</td>\n      <td>2.0</td>\n      <td>1315.0</td>\n    </tr>\n    <tr>\n      <th>isconnectedto</th>\n      <td>1892.0</td>\n      <td>16.942389</td>\n      <td>24.240736</td>\n      <td>1.0</td>\n      <td>8.0</td>\n      <td>211.0</td>\n    </tr>\n    <tr>\n      <th>isinterestedin</th>\n      <td>29.0</td>\n      <td>8.241379</td>\n      <td>11.422582</td>\n      <td>1.0</td>\n      <td>2.0</td>\n      <td>51.0</td>\n    </tr>\n    <tr>\n      <th>isknownfor</th>\n      <td>17.0</td>\n      <td>1.117647</td>\n      <td>0.332106</td>\n      <td>1.0</td>\n      <td>1.0</td>\n      <td>2.0</td>\n    </tr>\n    <tr>\n      <th>isleaderof</th>\n      <td>627.0</td>\n      <td>1.526316</td>\n      <td>1.107854</td>\n      <td>1.0</td>\n      <td>1.0</td>\n      <td>15.0</td>\n    </tr>\n    <tr>\n      <th>islocatedin</th>\n      <td>13262.0</td>\n      <td>6.683758</td>\n      <td>92.872160</td>\n      <td>1.0</td>\n      <td>1.0</td>\n      <td>10172.0</td>\n    </tr>\n    <tr>\n      <th>ismarriedto</th>\n      <td>3187.0</td>\n      <td>1.178224</td>\n      <td>0.498198</td>\n      <td>1.0</td>\n      <td>1.0</td>\n      <td>9.0</td>\n    </tr>\n    <tr>\n      <th>ispoliticianof</th>\n      <td>326.0</td>\n      <td>6.631902</td>\n      <td>17.227869</td>\n      <td>1.0</td>\n      <td>2.0</td>\n      <td>205.0</td>\n    </tr>\n    <tr>\n      <th>livesin</th>\n      <td>864.0</td>\n      <td>3.449074</td>\n      <td>15.011844</td>\n      <td>1.0</td>\n      <td>1.0</td>\n      <td>371.0</td>\n    </tr>\n    <tr>\n      <th>owns</th>\n      <td>562.0</td>\n      <td>1.291815</td>\n      <td>1.360339</td>\n      <td>1.0</td>\n      <td>1.0</td>\n      <td>20.0</td>\n    </tr>\n    <tr>\n      <th>participatedin</th>\n      <td>866.0</td>\n      <td>5.946882</td>\n      <td>5.596402</td>\n      <td>1.0</td>\n      <td>4.0</td>\n      <td>79.0</td>\n    </tr>\n    <tr>\n      <th>playsfor</th>\n      <td>8470.0</td>\n      <td>37.901299</td>\n      <td>69.770945</td>\n      <td>1.0</td>\n      <td>11.0</td>\n      <td>689.0</td>\n    </tr>\n    <tr>\n      <th>wasbornin</th>\n      <td>6079.0</td>\n      <td>7.397763</td>\n      <td>29.114886</td>\n      <td>1.0</td>\n      <td>2.0</td>\n      <td>1117.0</td>\n    </tr>\n    <tr>\n      <th>worksat</th>\n      <td>597.0</td>\n      <td>5.668342</td>\n      <td>12.172580</td>\n      <td>1.0</td>\n      <td>2.0</td>\n      <td>139.0</td>\n    </tr>\n    <tr>\n      <th>wrotemusicfor</th>\n      <td>5096.0</td>\n      <td>1.186617</td>\n      <td>0.562053</td>\n      <td>1.0</td>\n      <td>1.0</td>\n      <td>9.0</td>\n    </tr>\n  </tbody>\n</table>\n</div>"
     },
     "execution_count": 18,
     "metadata": {},
     "output_type": "execute_result"
    }
   ],
   "source": [
    "df_n_s_per_r_o_pair_statistics"
   ],
   "metadata": {
    "collapsed": false,
    "pycharm": {
     "name": "#%%\n"
    }
   }
  },
  {
   "cell_type": "markdown",
   "source": [
    "## Merge pair statistics"
   ],
   "metadata": {
    "collapsed": false,
    "pycharm": {
     "name": "#%% md\n"
    }
   }
  },
  {
   "cell_type": "code",
   "execution_count": 19,
   "outputs": [
    {
     "data": {
      "text/plain": "         Rel  n_s_r_pairs  mean_n_o_per_s_r_pair  std_n_o_per_s_r_pair  \\\n0    actedin       5402.0               5.952055              6.151133   \n1    created       2850.0               2.432632              2.963897   \n2  dealswith        220.0               5.918182              3.691609   \n3     diedin       9243.0               1.000108              0.010401   \n4   directed       1558.0               3.517972              3.849864   \n\n   min_n_o_per_s_r_pair  median_n_o_per_s_r_pair  max_n_o_per_s_r_pair  \\\n0                   1.0                      4.0                 140.0   \n1                   1.0                      1.0                  48.0   \n2                   1.0                      7.0                  14.0   \n3                   1.0                      1.0                   2.0   \n4                   1.0                      2.0                  63.0   \n\n   n_r_o_pairs  mean_n_s_per_r_o_pair  std_n_s_per_r_o_pair  \\\n0       6754.0               4.760586              2.252789   \n1       4425.0               1.566780              1.110784   \n2        168.0               7.750000             17.021561   \n3       1889.0               4.893594             25.280561   \n4       4983.0               1.099940              0.452530   \n\n   min_n_s_per_r_o_pair  median_n_s_per_r_o_pair  max_n_s_per_r_o_pair  \n0                   1.0                      5.0                  21.0  \n1                   1.0                      1.0                  16.0  \n2                   1.0                      2.0                 135.0  \n3                   1.0                      1.0                 751.0  \n4                   1.0                      1.0                   9.0  ",
      "text/html": "<div>\n<style scoped>\n    .dataframe tbody tr th:only-of-type {\n        vertical-align: middle;\n    }\n\n    .dataframe tbody tr th {\n        vertical-align: top;\n    }\n\n    .dataframe thead th {\n        text-align: right;\n    }\n</style>\n<table border=\"1\" class=\"dataframe\">\n  <thead>\n    <tr style=\"text-align: right;\">\n      <th></th>\n      <th>Rel</th>\n      <th>n_s_r_pairs</th>\n      <th>mean_n_o_per_s_r_pair</th>\n      <th>std_n_o_per_s_r_pair</th>\n      <th>min_n_o_per_s_r_pair</th>\n      <th>median_n_o_per_s_r_pair</th>\n      <th>max_n_o_per_s_r_pair</th>\n      <th>n_r_o_pairs</th>\n      <th>mean_n_s_per_r_o_pair</th>\n      <th>std_n_s_per_r_o_pair</th>\n      <th>min_n_s_per_r_o_pair</th>\n      <th>median_n_s_per_r_o_pair</th>\n      <th>max_n_s_per_r_o_pair</th>\n    </tr>\n  </thead>\n  <tbody>\n    <tr>\n      <th>0</th>\n      <td>actedin</td>\n      <td>5402.0</td>\n      <td>5.952055</td>\n      <td>6.151133</td>\n      <td>1.0</td>\n      <td>4.0</td>\n      <td>140.0</td>\n      <td>6754.0</td>\n      <td>4.760586</td>\n      <td>2.252789</td>\n      <td>1.0</td>\n      <td>5.0</td>\n      <td>21.0</td>\n    </tr>\n    <tr>\n      <th>1</th>\n      <td>created</td>\n      <td>2850.0</td>\n      <td>2.432632</td>\n      <td>2.963897</td>\n      <td>1.0</td>\n      <td>1.0</td>\n      <td>48.0</td>\n      <td>4425.0</td>\n      <td>1.566780</td>\n      <td>1.110784</td>\n      <td>1.0</td>\n      <td>1.0</td>\n      <td>16.0</td>\n    </tr>\n    <tr>\n      <th>2</th>\n      <td>dealswith</td>\n      <td>220.0</td>\n      <td>5.918182</td>\n      <td>3.691609</td>\n      <td>1.0</td>\n      <td>7.0</td>\n      <td>14.0</td>\n      <td>168.0</td>\n      <td>7.750000</td>\n      <td>17.021561</td>\n      <td>1.0</td>\n      <td>2.0</td>\n      <td>135.0</td>\n    </tr>\n    <tr>\n      <th>3</th>\n      <td>diedin</td>\n      <td>9243.0</td>\n      <td>1.000108</td>\n      <td>0.010401</td>\n      <td>1.0</td>\n      <td>1.0</td>\n      <td>2.0</td>\n      <td>1889.0</td>\n      <td>4.893594</td>\n      <td>25.280561</td>\n      <td>1.0</td>\n      <td>1.0</td>\n      <td>751.0</td>\n    </tr>\n    <tr>\n      <th>4</th>\n      <td>directed</td>\n      <td>1558.0</td>\n      <td>3.517972</td>\n      <td>3.849864</td>\n      <td>1.0</td>\n      <td>2.0</td>\n      <td>63.0</td>\n      <td>4983.0</td>\n      <td>1.099940</td>\n      <td>0.452530</td>\n      <td>1.0</td>\n      <td>1.0</td>\n      <td>9.0</td>\n    </tr>\n  </tbody>\n</table>\n</div>"
     },
     "execution_count": 19,
     "metadata": {},
     "output_type": "execute_result"
    }
   ],
   "source": [
    "df_pair_statistics: pd.DataFrame = pd.concat(\n",
    "    [\n",
    "        df_n_o_per_s_r_pair_statistics,\n",
    "        df_n_s_per_r_o_pair_statistics\n",
    "     ], axis=1)\n",
    "df_pair_statistics = df_pair_statistics.reset_index().rename(columns={\"index\":\"Rel\"})\n",
    "df_pair_statistics.head()"
   ],
   "metadata": {
    "collapsed": false,
    "pycharm": {
     "name": "#%%\n"
    }
   }
  },
  {
   "cell_type": "code",
   "execution_count": 20,
   "outputs": [],
   "source": [
    "# len(df_pair_statistics)\n",
    "#\n",
    "# df_pair_statistics.reset_index()"
   ],
   "metadata": {
    "collapsed": false,
    "pycharm": {
     "name": "#%%\n"
    }
   }
  },
  {
   "cell_type": "markdown",
   "source": [
    "### Merge relation stats in DataFrame"
   ],
   "metadata": {
    "collapsed": false,
    "pycharm": {
     "name": "#%% md\n"
    }
   }
  },
  {
   "cell_type": "code",
   "execution_count": 21,
   "outputs": [
    {
     "data": {
      "text/plain": "         Rel  n_lits  n_s_r_pairs  mean_n_o_per_s_r_pair  \\\n0    actedin   32153       5402.0               5.952055   \n1    created    6933       2850.0               2.432632   \n2  dealswith    1302        220.0               5.918182   \n3     diedin    9244       9243.0               1.000108   \n4   directed    5481       1558.0               3.517972   \n\n   std_n_o_per_s_r_pair  min_n_o_per_s_r_pair  median_n_o_per_s_r_pair  \\\n0              6.151133                   1.0                      4.0   \n1              2.963897                   1.0                      1.0   \n2              3.691609                   1.0                      7.0   \n3              0.010401                   1.0                      1.0   \n4              3.849864                   1.0                      2.0   \n\n   max_n_o_per_s_r_pair  n_r_o_pairs  mean_n_s_per_r_o_pair  \\\n0                 140.0       6754.0               4.760586   \n1                  48.0       4425.0               1.566780   \n2                  14.0        168.0               7.750000   \n3                   2.0       1889.0               4.893594   \n4                  63.0       4983.0               1.099940   \n\n   std_n_s_per_r_o_pair  min_n_s_per_r_o_pair  median_n_s_per_r_o_pair  \\\n0              2.252789                   1.0                      5.0   \n1              1.110784                   1.0                      1.0   \n2             17.021561                   1.0                      2.0   \n3             25.280561                   1.0                      1.0   \n4              0.452530                   1.0                      1.0   \n\n   max_n_s_per_r_o_pair  \n0                  21.0  \n1                  16.0  \n2                 135.0  \n3                 751.0  \n4                   9.0  ",
      "text/html": "<div>\n<style scoped>\n    .dataframe tbody tr th:only-of-type {\n        vertical-align: middle;\n    }\n\n    .dataframe tbody tr th {\n        vertical-align: top;\n    }\n\n    .dataframe thead th {\n        text-align: right;\n    }\n</style>\n<table border=\"1\" class=\"dataframe\">\n  <thead>\n    <tr style=\"text-align: right;\">\n      <th></th>\n      <th>Rel</th>\n      <th>n_lits</th>\n      <th>n_s_r_pairs</th>\n      <th>mean_n_o_per_s_r_pair</th>\n      <th>std_n_o_per_s_r_pair</th>\n      <th>min_n_o_per_s_r_pair</th>\n      <th>median_n_o_per_s_r_pair</th>\n      <th>max_n_o_per_s_r_pair</th>\n      <th>n_r_o_pairs</th>\n      <th>mean_n_s_per_r_o_pair</th>\n      <th>std_n_s_per_r_o_pair</th>\n      <th>min_n_s_per_r_o_pair</th>\n      <th>median_n_s_per_r_o_pair</th>\n      <th>max_n_s_per_r_o_pair</th>\n    </tr>\n  </thead>\n  <tbody>\n    <tr>\n      <th>0</th>\n      <td>actedin</td>\n      <td>32153</td>\n      <td>5402.0</td>\n      <td>5.952055</td>\n      <td>6.151133</td>\n      <td>1.0</td>\n      <td>4.0</td>\n      <td>140.0</td>\n      <td>6754.0</td>\n      <td>4.760586</td>\n      <td>2.252789</td>\n      <td>1.0</td>\n      <td>5.0</td>\n      <td>21.0</td>\n    </tr>\n    <tr>\n      <th>1</th>\n      <td>created</td>\n      <td>6933</td>\n      <td>2850.0</td>\n      <td>2.432632</td>\n      <td>2.963897</td>\n      <td>1.0</td>\n      <td>1.0</td>\n      <td>48.0</td>\n      <td>4425.0</td>\n      <td>1.566780</td>\n      <td>1.110784</td>\n      <td>1.0</td>\n      <td>1.0</td>\n      <td>16.0</td>\n    </tr>\n    <tr>\n      <th>2</th>\n      <td>dealswith</td>\n      <td>1302</td>\n      <td>220.0</td>\n      <td>5.918182</td>\n      <td>3.691609</td>\n      <td>1.0</td>\n      <td>7.0</td>\n      <td>14.0</td>\n      <td>168.0</td>\n      <td>7.750000</td>\n      <td>17.021561</td>\n      <td>1.0</td>\n      <td>2.0</td>\n      <td>135.0</td>\n    </tr>\n    <tr>\n      <th>3</th>\n      <td>diedin</td>\n      <td>9244</td>\n      <td>9243.0</td>\n      <td>1.000108</td>\n      <td>0.010401</td>\n      <td>1.0</td>\n      <td>1.0</td>\n      <td>2.0</td>\n      <td>1889.0</td>\n      <td>4.893594</td>\n      <td>25.280561</td>\n      <td>1.0</td>\n      <td>1.0</td>\n      <td>751.0</td>\n    </tr>\n    <tr>\n      <th>4</th>\n      <td>directed</td>\n      <td>5481</td>\n      <td>1558.0</td>\n      <td>3.517972</td>\n      <td>3.849864</td>\n      <td>1.0</td>\n      <td>2.0</td>\n      <td>63.0</td>\n      <td>4983.0</td>\n      <td>1.099940</td>\n      <td>0.452530</td>\n      <td>1.0</td>\n      <td>1.0</td>\n      <td>9.0</td>\n    </tr>\n  </tbody>\n</table>\n</div>"
     },
     "execution_count": 21,
     "metadata": {},
     "output_type": "execute_result"
    }
   ],
   "source": [
    "df_relation_stats: pd.DataFrame = df_n_lits_per_rel.merge(\n",
    "    df_pair_statistics, on=[\"Rel\"], )\n",
    "df_relation_stats.head()"
   ],
   "metadata": {
    "collapsed": false,
    "pycharm": {
     "name": "#%%\n"
    }
   }
  },
  {
   "cell_type": "code",
   "execution_count": 22,
   "outputs": [
    {
     "data": {
      "text/plain": "37"
     },
     "execution_count": 22,
     "metadata": {},
     "output_type": "execute_result"
    }
   ],
   "source": [
    "len(df_relation_stats)\n"
   ],
   "metadata": {
    "collapsed": false,
    "pycharm": {
     "name": "#%%\n"
    }
   }
  },
  {
   "cell_type": "markdown",
   "source": [
    "### Calculate the functionality (in both directions)"
   ],
   "metadata": {
    "collapsed": false,
    "pycharm": {
     "name": "#%% md\n"
    }
   }
  },
  {
   "cell_type": "code",
   "execution_count": 23,
   "outputs": [
    {
     "data": {
      "text/plain": "         Rel  n_lits  n_s_r_pairs  mean_n_o_per_s_r_pair  \\\n0    actedin   32153       5402.0               5.952055   \n1    created    6933       2850.0               2.432632   \n2  dealswith    1302        220.0               5.918182   \n3     diedin    9244       9243.0               1.000108   \n4   directed    5481       1558.0               3.517972   \n\n   std_n_o_per_s_r_pair  min_n_o_per_s_r_pair  median_n_o_per_s_r_pair  \\\n0              6.151133                   1.0                      4.0   \n1              2.963897                   1.0                      1.0   \n2              3.691609                   1.0                      7.0   \n3              0.010401                   1.0                      1.0   \n4              3.849864                   1.0                      2.0   \n\n   max_n_o_per_s_r_pair  n_r_o_pairs  mean_n_s_per_r_o_pair  \\\n0                 140.0       6754.0               4.760586   \n1                  48.0       4425.0               1.566780   \n2                  14.0        168.0               7.750000   \n3                   2.0       1889.0               4.893594   \n4                  63.0       4983.0               1.099940   \n\n   std_n_s_per_r_o_pair  min_n_s_per_r_o_pair  median_n_s_per_r_o_pair  \\\n0              2.252789                   1.0                      5.0   \n1              1.110784                   1.0                      1.0   \n2             17.021561                   1.0                      2.0   \n3             25.280561                   1.0                      1.0   \n4              0.452530                   1.0                      1.0   \n\n   max_n_s_per_r_o_pair  functionality_s_r_pairs  \n0                  21.0                 0.168009  \n1                  16.0                 0.411077  \n2                 135.0                 0.168971  \n3                 751.0                 0.999892  \n4                   9.0                 0.284255  ",
      "text/html": "<div>\n<style scoped>\n    .dataframe tbody tr th:only-of-type {\n        vertical-align: middle;\n    }\n\n    .dataframe tbody tr th {\n        vertical-align: top;\n    }\n\n    .dataframe thead th {\n        text-align: right;\n    }\n</style>\n<table border=\"1\" class=\"dataframe\">\n  <thead>\n    <tr style=\"text-align: right;\">\n      <th></th>\n      <th>Rel</th>\n      <th>n_lits</th>\n      <th>n_s_r_pairs</th>\n      <th>mean_n_o_per_s_r_pair</th>\n      <th>std_n_o_per_s_r_pair</th>\n      <th>min_n_o_per_s_r_pair</th>\n      <th>median_n_o_per_s_r_pair</th>\n      <th>max_n_o_per_s_r_pair</th>\n      <th>n_r_o_pairs</th>\n      <th>mean_n_s_per_r_o_pair</th>\n      <th>std_n_s_per_r_o_pair</th>\n      <th>min_n_s_per_r_o_pair</th>\n      <th>median_n_s_per_r_o_pair</th>\n      <th>max_n_s_per_r_o_pair</th>\n      <th>functionality_s_r_pairs</th>\n    </tr>\n  </thead>\n  <tbody>\n    <tr>\n      <th>0</th>\n      <td>actedin</td>\n      <td>32153</td>\n      <td>5402.0</td>\n      <td>5.952055</td>\n      <td>6.151133</td>\n      <td>1.0</td>\n      <td>4.0</td>\n      <td>140.0</td>\n      <td>6754.0</td>\n      <td>4.760586</td>\n      <td>2.252789</td>\n      <td>1.0</td>\n      <td>5.0</td>\n      <td>21.0</td>\n      <td>0.168009</td>\n    </tr>\n    <tr>\n      <th>1</th>\n      <td>created</td>\n      <td>6933</td>\n      <td>2850.0</td>\n      <td>2.432632</td>\n      <td>2.963897</td>\n      <td>1.0</td>\n      <td>1.0</td>\n      <td>48.0</td>\n      <td>4425.0</td>\n      <td>1.566780</td>\n      <td>1.110784</td>\n      <td>1.0</td>\n      <td>1.0</td>\n      <td>16.0</td>\n      <td>0.411077</td>\n    </tr>\n    <tr>\n      <th>2</th>\n      <td>dealswith</td>\n      <td>1302</td>\n      <td>220.0</td>\n      <td>5.918182</td>\n      <td>3.691609</td>\n      <td>1.0</td>\n      <td>7.0</td>\n      <td>14.0</td>\n      <td>168.0</td>\n      <td>7.750000</td>\n      <td>17.021561</td>\n      <td>1.0</td>\n      <td>2.0</td>\n      <td>135.0</td>\n      <td>0.168971</td>\n    </tr>\n    <tr>\n      <th>3</th>\n      <td>diedin</td>\n      <td>9244</td>\n      <td>9243.0</td>\n      <td>1.000108</td>\n      <td>0.010401</td>\n      <td>1.0</td>\n      <td>1.0</td>\n      <td>2.0</td>\n      <td>1889.0</td>\n      <td>4.893594</td>\n      <td>25.280561</td>\n      <td>1.0</td>\n      <td>1.0</td>\n      <td>751.0</td>\n      <td>0.999892</td>\n    </tr>\n    <tr>\n      <th>4</th>\n      <td>directed</td>\n      <td>5481</td>\n      <td>1558.0</td>\n      <td>3.517972</td>\n      <td>3.849864</td>\n      <td>1.0</td>\n      <td>2.0</td>\n      <td>63.0</td>\n      <td>4983.0</td>\n      <td>1.099940</td>\n      <td>0.452530</td>\n      <td>1.0</td>\n      <td>1.0</td>\n      <td>9.0</td>\n      <td>0.284255</td>\n    </tr>\n  </tbody>\n</table>\n</div>"
     },
     "execution_count": 23,
     "metadata": {},
     "output_type": "execute_result"
    }
   ],
   "source": [
    "df_relation_stats['functionality_s_r_pairs'] = (\n",
    "        df_relation_stats['n_s_r_pairs'] / df_relation_stats['n_lits']\n",
    ")\n",
    "df_relation_stats.head()"
   ],
   "metadata": {
    "collapsed": false,
    "pycharm": {
     "name": "#%%\n"
    }
   }
  },
  {
   "cell_type": "code",
   "execution_count": 24,
   "outputs": [
    {
     "data": {
      "text/plain": "         Rel  n_lits  n_s_r_pairs  mean_n_o_per_s_r_pair  \\\n0    actedin   32153       5402.0               5.952055   \n1    created    6933       2850.0               2.432632   \n2  dealswith    1302        220.0               5.918182   \n3     diedin    9244       9243.0               1.000108   \n4   directed    5481       1558.0               3.517972   \n\n   std_n_o_per_s_r_pair  min_n_o_per_s_r_pair  median_n_o_per_s_r_pair  \\\n0              6.151133                   1.0                      4.0   \n1              2.963897                   1.0                      1.0   \n2              3.691609                   1.0                      7.0   \n3              0.010401                   1.0                      1.0   \n4              3.849864                   1.0                      2.0   \n\n   max_n_o_per_s_r_pair  n_r_o_pairs  mean_n_s_per_r_o_pair  \\\n0                 140.0       6754.0               4.760586   \n1                  48.0       4425.0               1.566780   \n2                  14.0        168.0               7.750000   \n3                   2.0       1889.0               4.893594   \n4                  63.0       4983.0               1.099940   \n\n   std_n_s_per_r_o_pair  min_n_s_per_r_o_pair  median_n_s_per_r_o_pair  \\\n0              2.252789                   1.0                      5.0   \n1              1.110784                   1.0                      1.0   \n2             17.021561                   1.0                      2.0   \n3             25.280561                   1.0                      1.0   \n4              0.452530                   1.0                      1.0   \n\n   max_n_s_per_r_o_pair  functionality_s_r_pairs  functionality_r_o_pairs  \n0                  21.0                 0.168009                 0.210058  \n1                  16.0                 0.411077                 0.638252  \n2                 135.0                 0.168971                 0.129032  \n3                 751.0                 0.999892                 0.204349  \n4                   9.0                 0.284255                 0.909141  ",
      "text/html": "<div>\n<style scoped>\n    .dataframe tbody tr th:only-of-type {\n        vertical-align: middle;\n    }\n\n    .dataframe tbody tr th {\n        vertical-align: top;\n    }\n\n    .dataframe thead th {\n        text-align: right;\n    }\n</style>\n<table border=\"1\" class=\"dataframe\">\n  <thead>\n    <tr style=\"text-align: right;\">\n      <th></th>\n      <th>Rel</th>\n      <th>n_lits</th>\n      <th>n_s_r_pairs</th>\n      <th>mean_n_o_per_s_r_pair</th>\n      <th>std_n_o_per_s_r_pair</th>\n      <th>min_n_o_per_s_r_pair</th>\n      <th>median_n_o_per_s_r_pair</th>\n      <th>max_n_o_per_s_r_pair</th>\n      <th>n_r_o_pairs</th>\n      <th>mean_n_s_per_r_o_pair</th>\n      <th>std_n_s_per_r_o_pair</th>\n      <th>min_n_s_per_r_o_pair</th>\n      <th>median_n_s_per_r_o_pair</th>\n      <th>max_n_s_per_r_o_pair</th>\n      <th>functionality_s_r_pairs</th>\n      <th>functionality_r_o_pairs</th>\n    </tr>\n  </thead>\n  <tbody>\n    <tr>\n      <th>0</th>\n      <td>actedin</td>\n      <td>32153</td>\n      <td>5402.0</td>\n      <td>5.952055</td>\n      <td>6.151133</td>\n      <td>1.0</td>\n      <td>4.0</td>\n      <td>140.0</td>\n      <td>6754.0</td>\n      <td>4.760586</td>\n      <td>2.252789</td>\n      <td>1.0</td>\n      <td>5.0</td>\n      <td>21.0</td>\n      <td>0.168009</td>\n      <td>0.210058</td>\n    </tr>\n    <tr>\n      <th>1</th>\n      <td>created</td>\n      <td>6933</td>\n      <td>2850.0</td>\n      <td>2.432632</td>\n      <td>2.963897</td>\n      <td>1.0</td>\n      <td>1.0</td>\n      <td>48.0</td>\n      <td>4425.0</td>\n      <td>1.566780</td>\n      <td>1.110784</td>\n      <td>1.0</td>\n      <td>1.0</td>\n      <td>16.0</td>\n      <td>0.411077</td>\n      <td>0.638252</td>\n    </tr>\n    <tr>\n      <th>2</th>\n      <td>dealswith</td>\n      <td>1302</td>\n      <td>220.0</td>\n      <td>5.918182</td>\n      <td>3.691609</td>\n      <td>1.0</td>\n      <td>7.0</td>\n      <td>14.0</td>\n      <td>168.0</td>\n      <td>7.750000</td>\n      <td>17.021561</td>\n      <td>1.0</td>\n      <td>2.0</td>\n      <td>135.0</td>\n      <td>0.168971</td>\n      <td>0.129032</td>\n    </tr>\n    <tr>\n      <th>3</th>\n      <td>diedin</td>\n      <td>9244</td>\n      <td>9243.0</td>\n      <td>1.000108</td>\n      <td>0.010401</td>\n      <td>1.0</td>\n      <td>1.0</td>\n      <td>2.0</td>\n      <td>1889.0</td>\n      <td>4.893594</td>\n      <td>25.280561</td>\n      <td>1.0</td>\n      <td>1.0</td>\n      <td>751.0</td>\n      <td>0.999892</td>\n      <td>0.204349</td>\n    </tr>\n    <tr>\n      <th>4</th>\n      <td>directed</td>\n      <td>5481</td>\n      <td>1558.0</td>\n      <td>3.517972</td>\n      <td>3.849864</td>\n      <td>1.0</td>\n      <td>2.0</td>\n      <td>63.0</td>\n      <td>4983.0</td>\n      <td>1.099940</td>\n      <td>0.452530</td>\n      <td>1.0</td>\n      <td>1.0</td>\n      <td>9.0</td>\n      <td>0.284255</td>\n      <td>0.909141</td>\n    </tr>\n  </tbody>\n</table>\n</div>"
     },
     "execution_count": 24,
     "metadata": {},
     "output_type": "execute_result"
    }
   ],
   "source": [
    "df_relation_stats['functionality_r_o_pairs'] = (\n",
    "        df_relation_stats['n_r_o_pairs'] / df_relation_stats['n_lits']\n",
    ")\n",
    "df_relation_stats.head()"
   ],
   "metadata": {
    "collapsed": false,
    "pycharm": {
     "name": "#%%\n"
    }
   }
  },
  {
   "cell_type": "markdown",
   "source": [
    "## Reorder columns"
   ],
   "metadata": {
    "collapsed": false
   }
  },
  {
   "cell_type": "code",
   "execution_count": 25,
   "outputs": [
    {
     "data": {
      "text/plain": "         Rel  functionality_s_r_pairs  functionality_r_o_pairs  n_lits  \\\n0    actedin                 0.168009                 0.210058   32153   \n1    created                 0.411077                 0.638252    6933   \n2  dealswith                 0.168971                 0.129032    1302   \n3     diedin                 0.999892                 0.204349    9244   \n4   directed                 0.284255                 0.909141    5481   \n\n   n_s_r_pairs  n_r_o_pairs  mean_n_o_per_s_r_pair  mean_n_s_per_r_o_pair  \\\n0       5402.0       6754.0               5.952055               4.760586   \n1       2850.0       4425.0               2.432632               1.566780   \n2        220.0        168.0               5.918182               7.750000   \n3       9243.0       1889.0               1.000108               4.893594   \n4       1558.0       4983.0               3.517972               1.099940   \n\n   std_n_o_per_s_r_pair  std_n_s_per_r_o_pair  min_n_o_per_s_r_pair  \\\n0              6.151133              2.252789                   1.0   \n1              2.963897              1.110784                   1.0   \n2              3.691609             17.021561                   1.0   \n3              0.010401             25.280561                   1.0   \n4              3.849864              0.452530                   1.0   \n\n   min_n_s_per_r_o_pair  max_n_o_per_s_r_pair  max_n_s_per_r_o_pair  \\\n0                   1.0                 140.0                  21.0   \n1                   1.0                  48.0                  16.0   \n2                   1.0                  14.0                 135.0   \n3                   1.0                   2.0                 751.0   \n4                   1.0                  63.0                   9.0   \n\n   median_n_o_per_s_r_pair  median_n_s_per_r_o_pair  \n0                      4.0                      5.0  \n1                      1.0                      1.0  \n2                      7.0                      2.0  \n3                      1.0                      1.0  \n4                      2.0                      1.0  ",
      "text/html": "<div>\n<style scoped>\n    .dataframe tbody tr th:only-of-type {\n        vertical-align: middle;\n    }\n\n    .dataframe tbody tr th {\n        vertical-align: top;\n    }\n\n    .dataframe thead th {\n        text-align: right;\n    }\n</style>\n<table border=\"1\" class=\"dataframe\">\n  <thead>\n    <tr style=\"text-align: right;\">\n      <th></th>\n      <th>Rel</th>\n      <th>functionality_s_r_pairs</th>\n      <th>functionality_r_o_pairs</th>\n      <th>n_lits</th>\n      <th>n_s_r_pairs</th>\n      <th>n_r_o_pairs</th>\n      <th>mean_n_o_per_s_r_pair</th>\n      <th>mean_n_s_per_r_o_pair</th>\n      <th>std_n_o_per_s_r_pair</th>\n      <th>std_n_s_per_r_o_pair</th>\n      <th>min_n_o_per_s_r_pair</th>\n      <th>min_n_s_per_r_o_pair</th>\n      <th>max_n_o_per_s_r_pair</th>\n      <th>max_n_s_per_r_o_pair</th>\n      <th>median_n_o_per_s_r_pair</th>\n      <th>median_n_s_per_r_o_pair</th>\n    </tr>\n  </thead>\n  <tbody>\n    <tr>\n      <th>0</th>\n      <td>actedin</td>\n      <td>0.168009</td>\n      <td>0.210058</td>\n      <td>32153</td>\n      <td>5402.0</td>\n      <td>6754.0</td>\n      <td>5.952055</td>\n      <td>4.760586</td>\n      <td>6.151133</td>\n      <td>2.252789</td>\n      <td>1.0</td>\n      <td>1.0</td>\n      <td>140.0</td>\n      <td>21.0</td>\n      <td>4.0</td>\n      <td>5.0</td>\n    </tr>\n    <tr>\n      <th>1</th>\n      <td>created</td>\n      <td>0.411077</td>\n      <td>0.638252</td>\n      <td>6933</td>\n      <td>2850.0</td>\n      <td>4425.0</td>\n      <td>2.432632</td>\n      <td>1.566780</td>\n      <td>2.963897</td>\n      <td>1.110784</td>\n      <td>1.0</td>\n      <td>1.0</td>\n      <td>48.0</td>\n      <td>16.0</td>\n      <td>1.0</td>\n      <td>1.0</td>\n    </tr>\n    <tr>\n      <th>2</th>\n      <td>dealswith</td>\n      <td>0.168971</td>\n      <td>0.129032</td>\n      <td>1302</td>\n      <td>220.0</td>\n      <td>168.0</td>\n      <td>5.918182</td>\n      <td>7.750000</td>\n      <td>3.691609</td>\n      <td>17.021561</td>\n      <td>1.0</td>\n      <td>1.0</td>\n      <td>14.0</td>\n      <td>135.0</td>\n      <td>7.0</td>\n      <td>2.0</td>\n    </tr>\n    <tr>\n      <th>3</th>\n      <td>diedin</td>\n      <td>0.999892</td>\n      <td>0.204349</td>\n      <td>9244</td>\n      <td>9243.0</td>\n      <td>1889.0</td>\n      <td>1.000108</td>\n      <td>4.893594</td>\n      <td>0.010401</td>\n      <td>25.280561</td>\n      <td>1.0</td>\n      <td>1.0</td>\n      <td>2.0</td>\n      <td>751.0</td>\n      <td>1.0</td>\n      <td>1.0</td>\n    </tr>\n    <tr>\n      <th>4</th>\n      <td>directed</td>\n      <td>0.284255</td>\n      <td>0.909141</td>\n      <td>5481</td>\n      <td>1558.0</td>\n      <td>4983.0</td>\n      <td>3.517972</td>\n      <td>1.099940</td>\n      <td>3.849864</td>\n      <td>0.452530</td>\n      <td>1.0</td>\n      <td>1.0</td>\n      <td>63.0</td>\n      <td>9.0</td>\n      <td>2.0</td>\n      <td>1.0</td>\n    </tr>\n  </tbody>\n</table>\n</div>"
     },
     "execution_count": 25,
     "metadata": {},
     "output_type": "execute_result"
    }
   ],
   "source": [
    "reordered_columns = [\n",
    "    \"Rel\",\n",
    "    'functionality_s_r_pairs',\n",
    "    'functionality_r_o_pairs',\n",
    "    'n_lits',\n",
    "    'n_s_r_pairs',\n",
    "    'n_r_o_pairs'\n",
    "]\n",
    "for stat_indicator in ['mean', 'std', 'min', 'max', 'median']:\n",
    "    for direction_indicator in ['o_per_s_r', 's_per_r_o']:\n",
    "        reordered_columns.append(\n",
    "            f'{stat_indicator}_n_{direction_indicator}_pair'\n",
    "        )\n",
    "df_relation_stats = df_relation_stats[reordered_columns]\n",
    "df_relation_stats.head()\n"
   ],
   "metadata": {
    "collapsed": false,
    "pycharm": {
     "name": "#%%\n"
    }
   }
  },
  {
   "cell_type": "markdown",
   "source": [
    "## Write to file"
   ],
   "metadata": {
    "collapsed": false
   }
  },
  {
   "cell_type": "code",
   "execution_count": 26,
   "outputs": [
    {
     "name": "stdout",
     "output_type": "stream",
     "text": [
      "? file exists: /home/joschout/Documents/Repos/KBC-e-metrics/data/yago3_10/data_stats/yago3_10_relation_functionality_statistics.csv\n",
      "-> True\n"
     ]
    }
   ],
   "source": [
    "data_statistics_dir = os.path.join(data_dir, dataset_name, 'data_stats')\n",
    "if not os.path.exists(data_statistics_dir):\n",
    "    os.makedirs(data_statistics_dir)\n",
    "\n",
    "relation_statistics_filename: str = os.path.join(\n",
    "    data_statistics_dir,\n",
    "    f'{dataset_name}_relation_functionality_statistics.csv'\n",
    ")\n",
    "print_file_exists(relation_statistics_filename)\n",
    "df_relation_stats.to_csv(relation_statistics_filename, index=False)\n",
    "\n"
   ],
   "metadata": {
    "collapsed": false,
    "pycharm": {
     "name": "#%%\n"
    }
   }
  },
  {
   "cell_type": "markdown",
   "source": [
    "## Getting counts of outgoing edges per (subject, relation)"
   ],
   "metadata": {
    "collapsed": false,
    "pycharm": {
     "name": "#%% md\n"
    }
   }
  },
  {
   "cell_type": "code",
   "execution_count": 27,
   "outputs": [],
   "source": [
    "n_edges_per_subject_rel_df = triples_df.groupby(by=['E1', 'Rel'], as_index=False).count()\n",
    "# nb_tuples_per_rel_df = nb_tuples_per_rel_df.rename(columns={\"E1\": \"n_lits\"})\n",
    "# nb_tuples_per_rel_df.head()"
   ],
   "metadata": {
    "collapsed": false,
    "pycharm": {
     "name": "#%%\n"
    }
   }
  },
  {
   "cell_type": "code",
   "execution_count": 28,
   "outputs": [],
   "source": [
    "n_edges_per_object_rel_df = triples_df.groupby(by=['E2', 'Rel'], as_index=False).count()"
   ],
   "metadata": {
    "collapsed": false,
    "pycharm": {
     "name": "#%%\n"
    }
   }
  },
  {
   "cell_type": "code",
   "execution_count": 29,
   "outputs": [
    {
     "name": "stdout",
     "output_type": "stream",
     "text": [
      "/home/joschout/Documents/Repos/KBC-e-metrics/data/yago3_10/cleaned_csv/yago3_10/observed_edge_counts\n"
     ]
    }
   ],
   "source": [
    "# count_dir = os.path.join(data_dir, dataset_name, 'observed_edge_counts')\n",
    "dataset_dir = os.path.join(cleaned_data_dir, dataset_name)\n",
    "edge_count_dir: str = get_edge_count_dir(dataset_dir)\n",
    "\n",
    "if not os.path.exists(edge_count_dir):\n",
    "    os.makedirs(edge_count_dir)\n",
    "\n",
    "print(edge_count_dir)"
   ],
   "metadata": {
    "collapsed": false,
    "pycharm": {
     "name": "#%%\n"
    }
   }
  },
  {
   "cell_type": "code",
   "execution_count": 30,
   "outputs": [],
   "source": [
    "from kbc_pul.experiments_utils.datasets.binary_literal_entity_enum import BinaryLiteralEntity\n",
    "from kbc_pul.experiments_utils.datasets.file_naming import get_edge_count_csv_filename_for\n",
    "\n",
    "# relations_to_write_edge_counts_for = relations\n",
    "relations_to_write_edge_counts_for = ['haschild']\n",
    "\n",
    "\n",
    "for rel_name in relations_to_write_edge_counts_for:\n",
    "\n",
    "\n",
    "    relation_edge_count_dir = os.path.join(edge_count_dir, rel_name)\n",
    "    if not os.path.exists(relation_edge_count_dir):\n",
    "        os.makedirs(relation_edge_count_dir)\n",
    "\n",
    "\n",
    "    # for source entities\n",
    "    observed_n_edges_per_source_for_rel_filename = get_edge_count_csv_filename_for(\n",
    "        relation_edge_count_dir, predicate_name=rel_name, entity_position=BinaryLiteralEntity.SUBJECT\n",
    "    )\n",
    "\n",
    "    df_n_edges_per_subject_for_given_relation = n_edges_per_subject_rel_df[n_edges_per_subject_rel_df[\"Rel\"] == rel_name]\n",
    "    df_n_edges_per_subject_for_given_relation = df_n_edges_per_subject_for_given_relation[['E1', 'E2']].rename(\n",
    "        columns={\"E1\": \"Entity\", \"E2\": 'n_observed_edges'})\n",
    "    # df_n_outgoing_edges_for_given_relation.head()\n",
    "    df_n_edges_per_subject_for_given_relation.to_csv(observed_n_edges_per_source_for_rel_filename, index=False)\n",
    "\n",
    "    # for target entities\n",
    "    observed_n_edges_per_target_for_rel_filename =  get_edge_count_csv_filename_for(\n",
    "            relation_edge_count_dir,\n",
    "        predicate_name=rel_name, entity_position=BinaryLiteralEntity.OBJECT\n",
    "    )\n",
    "\n",
    "    df_n_edges_per_object_for_given_relation = n_edges_per_object_rel_df[n_edges_per_object_rel_df[\"Rel\"] == rel_name]\n",
    "    df_n_edges_per_object_for_given_relation = df_n_edges_per_object_for_given_relation[['E1', 'E2']].rename(\n",
    "        columns={\"E1\": \"Entity\", \"E2\": 'n_observed_edges'})\n",
    "    # df_n_outgoing_edges_for_given_relation.head()\n",
    "    df_n_edges_per_object_for_given_relation.to_csv(observed_n_edges_per_target_for_rel_filename, index=False)"
   ],
   "metadata": {
    "collapsed": false,
    "pycharm": {
     "name": "#%%\n"
    }
   }
  },
  {
   "cell_type": "markdown",
   "source": [
    "## Plot frequency distributions"
   ],
   "metadata": {
    "collapsed": false,
    "pycharm": {
     "name": "#%% md\n"
    }
   }
  },
  {
   "cell_type": "code",
   "execution_count": 31,
   "outputs": [
    {
     "data": {
      "text/plain": "                               Entity  n_observed_edges\n236               'de_Marcel_Rudloff'                 1\n255                'de_Michel_Giraud'                 1\n298  'de_Pierre-Christian_Taittinger'                 1\n632                   'eA._Bhimsingh'                 1\n712           'eA._P._J._Abdul_Kalam'                 1",
      "text/html": "<div>\n<style scoped>\n    .dataframe tbody tr th:only-of-type {\n        vertical-align: middle;\n    }\n\n    .dataframe tbody tr th {\n        vertical-align: top;\n    }\n\n    .dataframe thead th {\n        text-align: right;\n    }\n</style>\n<table border=\"1\" class=\"dataframe\">\n  <thead>\n    <tr style=\"text-align: right;\">\n      <th></th>\n      <th>Entity</th>\n      <th>n_observed_edges</th>\n    </tr>\n  </thead>\n  <tbody>\n    <tr>\n      <th>236</th>\n      <td>'de_Marcel_Rudloff'</td>\n      <td>1</td>\n    </tr>\n    <tr>\n      <th>255</th>\n      <td>'de_Michel_Giraud'</td>\n      <td>1</td>\n    </tr>\n    <tr>\n      <th>298</th>\n      <td>'de_Pierre-Christian_Taittinger'</td>\n      <td>1</td>\n    </tr>\n    <tr>\n      <th>632</th>\n      <td>'eA._Bhimsingh'</td>\n      <td>1</td>\n    </tr>\n    <tr>\n      <th>712</th>\n      <td>'eA._P._J._Abdul_Kalam'</td>\n      <td>1</td>\n    </tr>\n  </tbody>\n</table>\n</div>"
     },
     "execution_count": 31,
     "metadata": {},
     "output_type": "execute_result"
    }
   ],
   "source": [
    "rel_name = 'haschild'\n",
    "\n",
    "df_n_outgoing_edges_for_given_relation = n_edges_per_subject_rel_df[n_edges_per_subject_rel_df[\"Rel\"] == rel_name]\n",
    "df_n_outgoing_edges_for_given_relation = df_n_outgoing_edges_for_given_relation[['E1', 'E2']].rename(\n",
    "    columns={\"E1\": \"Entity\", \"E2\": 'n_observed_edges'})\n",
    "df_n_outgoing_edges_for_given_relation.head()"
   ],
   "metadata": {
    "collapsed": false,
    "pycharm": {
     "name": "#%%\n"
    }
   }
  },
  {
   "cell_type": "code",
   "execution_count": 32,
   "outputs": [
    {
     "data": {
      "text/plain": "       n_observed_edges\ncount       2832.000000\nmean           1.787782\nstd            1.215620\nmin            1.000000\n25%            1.000000\n50%            1.000000\n75%            2.000000\nmax           19.000000",
      "text/html": "<div>\n<style scoped>\n    .dataframe tbody tr th:only-of-type {\n        vertical-align: middle;\n    }\n\n    .dataframe tbody tr th {\n        vertical-align: top;\n    }\n\n    .dataframe thead th {\n        text-align: right;\n    }\n</style>\n<table border=\"1\" class=\"dataframe\">\n  <thead>\n    <tr style=\"text-align: right;\">\n      <th></th>\n      <th>n_observed_edges</th>\n    </tr>\n  </thead>\n  <tbody>\n    <tr>\n      <th>count</th>\n      <td>2832.000000</td>\n    </tr>\n    <tr>\n      <th>mean</th>\n      <td>1.787782</td>\n    </tr>\n    <tr>\n      <th>std</th>\n      <td>1.215620</td>\n    </tr>\n    <tr>\n      <th>min</th>\n      <td>1.000000</td>\n    </tr>\n    <tr>\n      <th>25%</th>\n      <td>1.000000</td>\n    </tr>\n    <tr>\n      <th>50%</th>\n      <td>1.000000</td>\n    </tr>\n    <tr>\n      <th>75%</th>\n      <td>2.000000</td>\n    </tr>\n    <tr>\n      <th>max</th>\n      <td>19.000000</td>\n    </tr>\n  </tbody>\n</table>\n</div>"
     },
     "execution_count": 32,
     "metadata": {},
     "output_type": "execute_result"
    }
   ],
   "source": [
    "df_n_outgoing_edges_for_given_relation.describe()"
   ],
   "metadata": {
    "collapsed": false,
    "pycharm": {
     "name": "#%%\n"
    }
   }
  },
  {
   "cell_type": "code",
   "execution_count": 33,
   "outputs": [
    {
     "data": {
      "text/plain": "array([[<AxesSubplot:title={'center':'n_observed_edges'}>]], dtype=object)"
     },
     "execution_count": 33,
     "metadata": {},
     "output_type": "execute_result"
    },
    {
     "data": {
      "text/plain": "<Figure size 432x288 with 1 Axes>",
      "image/png": "[encoded data removed]"
     },
     "metadata": {
      "needs_background": "light"
     },
     "output_type": "display_data"
    }
   ],
   "source": [
    "df_n_outgoing_edges_for_given_relation.hist()\n"
   ],
   "metadata": {
    "collapsed": false,
    "pycharm": {
     "name": "#%%\n"
    }
   }
  },
  {
   "cell_type": "code",
   "execution_count": 33,
   "outputs": [],
   "source": [],
   "metadata": {
    "collapsed": false,
    "pycharm": {
     "name": "#%%\n"
    }
   }
  }
 ],
 "metadata": {
  "kernelspec": {
   "display_name": "Python 3",
   "language": "python",
   "name": "python3"
  },
  "language_info": {
   "codemirror_mode": {
    "name": "ipython",
    "version": 2
   },
   "file_extension": ".py",
   "mimetype": "text/x-python",
   "name": "python",
   "nbconvert_exporter": "python",
   "pygments_lexer": "ipython2",
   "version": "2.7.6"
  }
 },
 "nbformat": 4,
 "nbformat_minor": 0
}