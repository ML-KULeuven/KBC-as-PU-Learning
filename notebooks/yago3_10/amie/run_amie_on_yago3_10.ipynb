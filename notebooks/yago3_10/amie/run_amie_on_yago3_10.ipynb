{
 "cells": [
  {
   "cell_type": "code",
   "execution_count": 4,
   "outputs": [
    {
     "name": "stdout",
     "output_type": "stream",
     "text": [
      "The autoreload extension is already loaded. To reload it, use:\n",
      "  %reload_ext autoreload\n"
     ]
    }
   ],
   "source": [
    "import os\n",
    "\n",
    "from kbc_pul.amie.amie_output_rule_extraction import create_rule_tsv_file_from_amie_output_file\n",
    "from kbc_pul.amie.amie_wrapper import run_amie_parametrized, _get_amie_jar_filename_from_amie_dir_dict\n",
    "from kbc_pul.experiments_utils.file_utils import print_file_exists\n",
    "from kbc_pul.project_info import project_dir, data_dir\n",
    "\n",
    "%load_ext autoreload\n",
    "%autoreload 2\n"
   ],
   "metadata": {
    "collapsed": false,
    "pycharm": {
     "name": "#%%\n"
    }
   }
  },
  {
   "cell_type": "markdown",
   "source": [
    "# Running AMIE on yago3_10"
   ],
   "metadata": {
    "collapsed": false
   }
  },
  {
   "cell_type": "code",
   "execution_count": 5,
   "outputs": [
    {
     "name": "stdout",
     "output_type": "stream",
     "text": [
      "? file exists: /home/joschout/Documents/Repos/KBC-e-metrics/data/yago3_10/cleaned_csv/train.csv\n",
      "-> True\n",
      "? file exists: /home/joschout/Documents/Repos/KBC-e-metrics/data/yago3_10/amie/yago3_10_amie_output_test_new_function.txt\n",
      "-> True\n",
      "? file exists: /home/joschout/Documents/Repos/KBC-e-metrics/external/AMIE3/amie-dev.jar\n",
      "-> True\n"
     ]
    }
   ],
   "source": [
    "dataset_name: str = \"yago3_10\"\n",
    "\n",
    "cleaned_csv_dir: str = os.path.join(data_dir, dataset_name, 'cleaned_csv')\n",
    "amie_data_dir: str = os.path.join(data_dir, dataset_name, \"amie\")\n",
    "\n",
    "if not os.path.exists(amie_data_dir):\n",
    "    os.makedirs(amie_data_dir)\n",
    "\n",
    "amie_tsv_input_filename = os.path.join(\n",
    "    cleaned_csv_dir,\n",
    "    \"train.csv\"\n",
    ")\n",
    "print_file_exists(amie_tsv_input_filename)\n",
    "amie_output_filename = os.path.join(\n",
    "    amie_data_dir,\n",
    "    f\"{dataset_name}_amie_output_test_new_function.txt\"\n",
    ")\n",
    "print_file_exists(amie_output_filename)\n",
    "\n",
    "amie_jar_filename: str = os.path.join(\n",
    "    project_dir,\n",
    "    _get_amie_jar_filename_from_amie_dir_dict()\n",
    ")\n",
    "print_file_exists(amie_jar_filename)\n"
   ],
   "metadata": {
    "collapsed": false,
    "pycharm": {
     "name": "#%%\n"
    }
   }
  },
  {
   "cell_type": "code",
   "execution_count": 6,
   "outputs": [
    {
     "name": "stdout",
     "output_type": "stream",
     "text": [
      "java -jar /home/joschout/Documents/Repos/KBC-e-metrics/external/AMIE3/amie-dev.jar -datalog -minc 0.01 -minpca 0.0 -mins 10 -minhc 0.01 /home/joschout/Documents/Repos/KBC-e-metrics/data/yago3_10/cleaned_csv/train.csv 2>&1 | tee /home/joschout/Documents/Repos/KBC-e-metrics/data/yago3_10/amie/yago3_10_amie_output_test_new_function.txt\n"
     ]
    },
    {
     "data": {
      "text/plain": "0"
     },
     "execution_count": 6,
     "metadata": {},
     "output_type": "execute_result"
    }
   ],
   "source": [
    "run_amie_parametrized(\n",
    "    amie_tsv_input_filename,\n",
    "    amie_output_filename,\n",
    "    datalog_notation_for_rules=True,\n",
    "    min_head_coverage=0.01,\n",
    "    min_pca_confidence=0.0,\n",
    "    min_absolute_support=10,\n",
    "    min_std_confidence=0.01,\n",
    "    amie_jar_filename=amie_jar_filename\n",
    ")"
   ],
   "metadata": {
    "collapsed": false,
    "pycharm": {
     "name": "#%%\n"
    }
   }
  },
  {
   "cell_type": "markdown",
   "source": [
    "## 1. Extract rules from AMIE output"
   ],
   "metadata": {
    "collapsed": false,
    "pycharm": {
     "name": "#%% md\n"
    }
   }
  },
  {
   "cell_type": "code",
   "execution_count": 7,
   "metadata": {
    "collapsed": true
   },
   "outputs": [],
   "source": [
    "amie_rule_tsv_filename = os.path.join(\n",
    "    amie_data_dir,\n",
    "    f\"{dataset_name}_amie_rules.tsv\"\n",
    ")"
   ]
  },
  {
   "cell_type": "code",
   "execution_count": 8,
   "outputs": [
    {
     "name": "stdout",
     "output_type": "stream",
     "text": [
      "Find rule TSV in /home/joschout/Documents/Repos/KBC-e-metrics/data/yago3_10/amie/yago3_10_amie_rules.tsv\n"
     ]
    }
   ],
   "source": [
    "create_rule_tsv_file_from_amie_output_file(\n",
    "    amie_output_filename=amie_output_filename,\n",
    "    amie_rules_tsv_filename=amie_rule_tsv_filename\n",
    ")\n",
    "print(f\"Find rule TSV in {amie_rule_tsv_filename}\")"
   ],
   "metadata": {
    "collapsed": false,
    "pycharm": {
     "name": "#%%\n"
    }
   }
  },
  {
   "cell_type": "code",
   "execution_count": null,
   "outputs": [],
   "source": [],
   "metadata": {
    "collapsed": false,
    "pycharm": {
     "name": "#%%\n"
    }
   }
  }
 ],
 "metadata": {
  "kernelspec": {
   "display_name": "Python 3",
   "language": "python",
   "name": "python3"
  },
  "language_info": {
   "codemirror_mode": {
    "name": "ipython",
    "version": 2
   },
   "file_extension": ".py",
   "mimetype": "text/x-python",
   "name": "python",
   "nbconvert_exporter": "python",
   "pygments_lexer": "ipython2",
   "version": "2.7.6"
  }
 },
 "nbformat": 4,
 "nbformat_minor": 0
}