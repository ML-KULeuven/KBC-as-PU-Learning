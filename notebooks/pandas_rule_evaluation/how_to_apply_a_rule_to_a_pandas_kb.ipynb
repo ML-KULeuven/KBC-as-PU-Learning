{
 "cells": [
  {
   "cell_type": "code",
   "execution_count": 17,
   "metadata": {
    "collapsed": true
   },
   "outputs": [
    {
     "name": "stdout",
     "output_type": "stream",
     "text": [
      "The autoreload extension is already loaded. To reload it, use:\n",
      "  %reload_ext autoreload\n"
     ]
    }
   ],
   "source": [
    "from typing import Dict, List, Optional\n",
    "\n",
    "import pandas as pd\n",
    "\n",
    "from kbc_pul.data_structures.pandas_kb import PandasKnowledgeBaseWrapper\n",
    "from kbc_pul.data_structures.rule_wrapper import RuleWrapper\n",
    "from kbc_pul.test.rule_wrapper_testing_utils import get_rule_wrapper_from_str_repr\n",
    "%load_ext autoreload\n",
    "%autoreload 2"
   ]
  },
  {
   "cell_type": "markdown",
   "source": [
    "#  How to apply a rule to a dataset in Pandas DataFrame format"
   ],
   "metadata": {
    "collapsed": false,
    "pycharm": {
     "name": "#%% md\n"
    }
   }
  },
  {
   "cell_type": "code",
   "execution_count": 18,
   "outputs": [],
   "source": [
    "Relation = str"
   ],
   "metadata": {
    "collapsed": false,
    "pycharm": {
     "name": "#%%\n"
    }
   }
  },
  {
   "cell_type": "code",
   "execution_count": 23,
   "outputs": [
    {
     "data": {
      "text/plain": "  Subject        Rel  Object\n0    adam    livesin   paris\n1    adam    livesin    rome\n2     bob    livesin  zurich\n3    adam  wasbornin   paris\n4    carl  wasbornin    rome",
      "text/html": "<div>\n<style scoped>\n    .dataframe tbody tr th:only-of-type {\n        vertical-align: middle;\n    }\n\n    .dataframe tbody tr th {\n        vertical-align: top;\n    }\n\n    .dataframe thead th {\n        text-align: right;\n    }\n</style>\n<table border=\"1\" class=\"dataframe\">\n  <thead>\n    <tr style=\"text-align: right;\">\n      <th></th>\n      <th>Subject</th>\n      <th>Rel</th>\n      <th>Object</th>\n    </tr>\n  </thead>\n  <tbody>\n    <tr>\n      <th>0</th>\n      <td>adam</td>\n      <td>livesin</td>\n      <td>paris</td>\n    </tr>\n    <tr>\n      <th>1</th>\n      <td>adam</td>\n      <td>livesin</td>\n      <td>rome</td>\n    </tr>\n    <tr>\n      <th>2</th>\n      <td>bob</td>\n      <td>livesin</td>\n      <td>zurich</td>\n    </tr>\n    <tr>\n      <th>3</th>\n      <td>adam</td>\n      <td>wasbornin</td>\n      <td>paris</td>\n    </tr>\n    <tr>\n      <th>4</th>\n      <td>carl</td>\n      <td>wasbornin</td>\n      <td>rome</td>\n    </tr>\n  </tbody>\n</table>\n</div>"
     },
     "execution_count": 23,
     "metadata": {},
     "output_type": "execute_result"
    }
   ],
   "source": [
    "data: List[List[str]] = [\n",
    "    ['adam', 'livesin', 'paris'],\n",
    "    ['adam', 'livesin', 'rome'],\n",
    "    ['bob', 'livesin', 'zurich'],\n",
    "    ['adam', 'wasbornin', 'paris'],\n",
    "    ['carl', 'wasbornin', 'rome'],\n",
    "\n",
    "     # added to have a different PCA conf in both directions\n",
    "    ['dennis', 'wasbornin', 'zurich']\n",
    "]\n",
    "columns = [\"Subject\", \"Rel\", \"Object\"]\n",
    "df: pd.DataFrame = pd.DataFrame(data=data, columns=columns)\n",
    "df.head()"
   ],
   "metadata": {
    "collapsed": false,
    "pycharm": {
     "name": "#%%\n"
    }
   }
  },
  {
   "cell_type": "code",
   "execution_count": 24,
   "outputs": [
    {
     "name": "stdout",
     "output_type": "stream",
     "text": [
      "wasbornin(X,Y) :- livesin(X,Y),wasbornin(X,Z)\n"
     ]
    }
   ],
   "source": [
    "rule_string:str = \"wasbornin(X,Y) :- livesin(X,Y), wasbornin(X,Z)\"\n",
    "rule_wrapper: RuleWrapper = get_rule_wrapper_from_str_repr(rule_string)\n",
    "print(rule_wrapper.rule)"
   ],
   "metadata": {
    "collapsed": false,
    "pycharm": {
     "name": "#%%\n"
    }
   }
  },
  {
   "cell_type": "code",
   "execution_count": 25,
   "outputs": [],
   "source": [
    "kb_wrapper: PandasKnowledgeBaseWrapper = PandasKnowledgeBaseWrapper.create_from_full_data(df)\n"
   ],
   "metadata": {
    "collapsed": false,
    "pycharm": {
     "name": "#%%\n"
    }
   }
  },
  {
   "cell_type": "markdown",
   "source": [
    "# Rule predictions"
   ],
   "metadata": {
    "collapsed": false,
    "pycharm": {
     "name": "#%% md\n"
    }
   }
  },
  {
   "cell_type": "code",
   "execution_count": 26,
   "outputs": [
    {
     "data": {
      "text/plain": "  Subject Object\n0    adam  paris\n1    adam   rome",
      "text/html": "<div>\n<style scoped>\n    .dataframe tbody tr th:only-of-type {\n        vertical-align: middle;\n    }\n\n    .dataframe tbody tr th {\n        vertical-align: top;\n    }\n\n    .dataframe thead th {\n        text-align: right;\n    }\n</style>\n<table border=\"1\" class=\"dataframe\">\n  <thead>\n    <tr style=\"text-align: right;\">\n      <th></th>\n      <th>Subject</th>\n      <th>Object</th>\n    </tr>\n  </thead>\n  <tbody>\n    <tr>\n      <th>0</th>\n      <td>adam</td>\n      <td>paris</td>\n    </tr>\n    <tr>\n      <th>1</th>\n      <td>adam</td>\n      <td>rome</td>\n    </tr>\n  </tbody>\n</table>\n</div>"
     },
     "execution_count": 26,
     "metadata": {},
     "output_type": "execute_result"
    }
   ],
   "source": [
    "o_predictions: Optional[pd.DataFrame] = kb_wrapper.get_predictions_for_rule(rule_wrapper.rule)\n",
    "o_predictions\n",
    "\n"
   ],
   "metadata": {
    "collapsed": false,
    "pycharm": {
     "name": "#%%\n"
    }
   }
  }
 ],
 "metadata": {
  "kernelspec": {
   "display_name": "Python 3",
   "language": "python",
   "name": "python3"
  },
  "language_info": {
   "codemirror_mode": {
    "name": "ipython",
    "version": 2
   },
   "file_extension": ".py",
   "mimetype": "text/x-python",
   "name": "python",
   "nbconvert_exporter": "python",
   "pygments_lexer": "ipython2",
   "version": "2.7.6"
  }
 },
 "nbformat": 4,
 "nbformat_minor": 0
}